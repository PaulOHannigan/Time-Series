{
 "cells": [
  {
   "cell_type": "markdown",
   "metadata": {},
   "source": [
    "### https://towardsdatascience.com/how-to-forecast-sales-with-python-using-sarima-model-ba600992fa7d"
   ]
  },
  {
   "cell_type": "code",
   "execution_count": 1,
   "metadata": {},
   "outputs": [],
   "source": [
    "import warnings\n",
    "import itertools\n",
    "import numpy as np\n",
    "from numpy import concatenate, savetxt, unique, array, subtract\n",
    "import matplotlib.pyplot as plt\n",
    "warnings.filterwarnings(\"ignore\")\n",
    "import pandas as pd\n",
    "from pandas import merge, DataFrame, Series\n",
    "import statsmodels.api as sm\n",
    "from sklearn.metrics import mean_squared_error\n",
    "import matplotlib\n",
    "from math import sqrt\n",
    "from statistics import mean\n"
   ]
  },
  {
   "cell_type": "code",
   "execution_count": 2,
   "metadata": {},
   "outputs": [
    {
     "name": "stdout",
     "output_type": "stream",
     "text": [
      "                   kWh    Area_m2\n",
      "Month                            \n",
      "2013-01-01  475.450704  72.517606\n",
      "2013-02-01  468.250000  72.517606\n",
      "2013-03-01  455.806338  72.517606\n",
      "2013-04-01  390.042254  72.517606\n",
      "2013-05-01  280.778169  72.517606\n",
      "...                ...        ...\n",
      "2020-10-01  343.144366  72.517606\n",
      "2020-11-01  425.767606  72.517606\n",
      "2020-12-01  554.538732  72.517606\n",
      "2021-01-01  560.669014  72.517606\n",
      "2021-02-01  515.232394  72.517606\n",
      "\n",
      "[98 rows x 2 columns]\n"
     ]
    }
   ],
   "source": [
    "df = pd.read_csv('CHL_Monthly_Stacked.csv', header=0, sep='[,]', parse_dates=True,\n",
    "                 squeeze=True, dayfirst=True, engine='python')\n",
    "df1a = pd.DataFrame(index =['Month'], columns=['prediction', 'actual'])\n",
    "pred_date = '2019-03-01'\n",
    "\n",
    "df['Date'] = pd.to_datetime(df['Date'], dayfirst=True)\n",
    "df.columns =['MeterNo', 'Month', 'kWh']\n",
    "df_meters = pd.read_csv('CHL-Meters.csv', header=0, sep='[,]', parse_dates=True, squeeze=True, dayfirst=True, engine='python')\n",
    "df = merge(df, df_meters, on='MeterNo')\n",
    "y = df.set_index('Month')\n",
    "y.drop(y.columns[[0]], axis = 1, inplace = True)\n",
    "y = y.sort_index()\n",
    "\n",
    "ya = y.groupby(y.index)['kWh'].mean()\n",
    "yc = y.groupby(y.index)['Area_m2'].mean()\n",
    "z = merge(ya, yc, left_index=True, right_index=True)\n",
    "print(z)\n"
   ]
  },
  {
   "cell_type": "code",
   "execution_count": 3,
   "metadata": {},
   "outputs": [
    {
     "name": "stderr",
     "output_type": "stream",
     "text": [
      "C:\\Users\\Paul\\anaconda3\\lib\\site-packages\\statsmodels\\tsa\\base\\tsa_model.py:524: ValueWarning: No frequency information was provided, so inferred frequency MS will be used.\n",
      "  warnings.warn('No frequency information was'\n",
      "C:\\Users\\Paul\\anaconda3\\lib\\site-packages\\statsmodels\\tsa\\base\\tsa_model.py:524: ValueWarning: No frequency information was provided, so inferred frequency MS will be used.\n",
      "  warnings.warn('No frequency information was'\n"
     ]
    },
    {
     "name": "stdout",
     "output_type": "stream",
     "text": [
      "            prediction  actual    error\n",
      "2019-03-01  376.539023     586  -209.46\n",
      "2019-03-01  376.539023     492  -115.46\n",
      "2019-03-01  376.539023     630  -253.46\n",
      "2019-03-01  376.539023     327    49.54\n",
      "2019-03-01  376.539023    1156  -779.46\n",
      "...                ...     ...      ...\n",
      "2021-02-01  521.287353     234   287.29\n",
      "2021-02-01  521.287353     486    35.29\n",
      "2021-02-01  521.287353     513     8.29\n",
      "2021-02-01  521.287353     430    91.29\n",
      "2021-02-01  521.287353    1719 -1197.71\n",
      "\n",
      "[6816 rows x 3 columns]\n"
     ]
    }
   ],
   "source": [
    "endog = z.iloc[:,0]\n",
    "exog = z.iloc[:,1:]\n",
    "mod = sm.tsa.statespace.SARIMAX(endog = endog,\n",
    "                            order=(1, 1, 1),\n",
    "                            seasonal_order=(0, 1, 1, 12),\n",
    "                            exog = exog,\n",
    "                            enforce_stationarity=False,\n",
    "                            enforce_invertibility=False)\n",
    "results = mod.fit()\n",
    "pred = results.get_prediction(start=pd.to_datetime(pred_date), dynamic=False)\n",
    "y_forecasted = pred.predicted_mean\n",
    "y_forecasted =y_forecasted.to_frame()\n",
    "y_truth = y[pred_date:]\n",
    "df1 = merge(y_forecasted, y_truth, left_index=True, right_index=True)\n",
    "df1.drop(df1.columns[[2]], axis = 1, inplace = True)\n",
    "df1.columns =['prediction', 'actual']\n",
    "df1['error'] = round(((df1['prediction'] - df1['actual'])),2)\n",
    "print(df1)"
   ]
  },
  {
   "cell_type": "code",
   "execution_count": 4,
   "metadata": {},
   "outputs": [
    {
     "name": "stdout",
     "output_type": "stream",
     "text": [
      "            prediction  actual    error\n",
      "2019-03-01  376.539023     586  -209.46\n",
      "2019-03-01  376.539023     492  -115.46\n",
      "2019-03-01  376.539023     630  -253.46\n",
      "2019-03-01  376.539023     327    49.54\n",
      "2019-03-01  376.539023    1156  -779.46\n",
      "...                ...     ...      ...\n",
      "2021-02-01  521.287353     234   287.29\n",
      "2021-02-01  521.287353     486    35.29\n",
      "2021-02-01  521.287353     513     8.29\n",
      "2021-02-01  521.287353     430    91.29\n",
      "2021-02-01  521.287353    1719 -1197.71\n",
      "\n",
      "[6816 rows x 3 columns]\n"
     ]
    }
   ],
   "source": [
    "# Each meter per month\n",
    "df2 = df1.dropna()\n",
    "print(df2)"
   ]
  },
  {
   "cell_type": "code",
   "execution_count": 5,
   "metadata": {},
   "outputs": [
    {
     "name": "stdout",
     "output_type": "stream",
     "text": [
      "50508.65630251342\n"
     ]
    }
   ],
   "source": [
    "mse = mean_squared_error(df2['actual'],df2['prediction'])\n",
    "print(mse)"
   ]
  },
  {
   "cell_type": "code",
   "execution_count": 6,
   "metadata": {},
   "outputs": [
    {
     "name": "stdout",
     "output_type": "stream",
     "text": [
      "224.74130973746998\n"
     ]
    }
   ],
   "source": [
    "rmse = np.sqrt(mse)\n",
    "print(rmse)"
   ]
  },
  {
   "cell_type": "code",
   "execution_count": 7,
   "metadata": {},
   "outputs": [
    {
     "data": {
      "text/html": [
       "<div>\n",
       "<style scoped>\n",
       "    .dataframe tbody tr th:only-of-type {\n",
       "        vertical-align: middle;\n",
       "    }\n",
       "\n",
       "    .dataframe tbody tr th {\n",
       "        vertical-align: top;\n",
       "    }\n",
       "\n",
       "    .dataframe thead th {\n",
       "        text-align: right;\n",
       "    }\n",
       "</style>\n",
       "<table border=\"1\" class=\"dataframe\">\n",
       "  <thead>\n",
       "    <tr style=\"text-align: right;\">\n",
       "      <th></th>\n",
       "      <th>prediction</th>\n",
       "      <th>actual</th>\n",
       "      <th>error</th>\n",
       "    </tr>\n",
       "  </thead>\n",
       "  <tbody>\n",
       "    <tr>\n",
       "      <th>min</th>\n",
       "      <td>202.29</td>\n",
       "      <td>-1821.00</td>\n",
       "      <td>-1582.86</td>\n",
       "    </tr>\n",
       "    <tr>\n",
       "      <th>max</th>\n",
       "      <td>593.10</td>\n",
       "      <td>2152.00</td>\n",
       "      <td>2104.59</td>\n",
       "    </tr>\n",
       "    <tr>\n",
       "      <th>mean</th>\n",
       "      <td>365.35</td>\n",
       "      <td>368.06</td>\n",
       "      <td>-2.71</td>\n",
       "    </tr>\n",
       "    <tr>\n",
       "      <th>sum</th>\n",
       "      <td>2490201.94</td>\n",
       "      <td>2508683.00</td>\n",
       "      <td>-18477.28</td>\n",
       "    </tr>\n",
       "    <tr>\n",
       "      <th>count</th>\n",
       "      <td>6816.00</td>\n",
       "      <td>6816.00</td>\n",
       "      <td>6816.00</td>\n",
       "    </tr>\n",
       "  </tbody>\n",
       "</table>\n",
       "</div>"
      ],
      "text/plain": [
       "       prediction      actual     error\n",
       "min        202.29    -1821.00  -1582.86\n",
       "max        593.10     2152.00   2104.59\n",
       "mean       365.35      368.06     -2.71\n",
       "sum    2490201.94  2508683.00 -18477.28\n",
       "count     6816.00     6816.00   6816.00"
      ]
     },
     "execution_count": 7,
     "metadata": {},
     "output_type": "execute_result"
    }
   ],
   "source": [
    "# Summary of each meter for each month\n",
    "def Summary(x):\n",
    "    return round(Series(index=['min','max', 'mean','sum','count'],data=[x.min(),x.max(),x.mean(),x.sum(),x.count()]),2)\n",
    "df2.apply(Summary)"
   ]
  },
  {
   "cell_type": "code",
   "execution_count": 8,
   "metadata": {},
   "outputs": [
    {
     "name": "stdout",
     "output_type": "stream",
     "text": [
      "            sum of predictions  sum of actuals            mse    rmse  \\\n",
      "2019-03-01       106937.082546          122566   61265.904195  247.52   \n",
      "2019-04-01       100772.970137          109520   52831.173222  229.85   \n",
      "2019-05-01        87969.038044           86028   27247.324894  165.07   \n",
      "2019-06-01        67740.025922           64519   16040.442112  126.65   \n",
      "2019-07-01        58971.390036           60027   12911.884787  113.63   \n",
      "2019-08-01        57451.422003           55343   11900.757567  109.09   \n",
      "2019-09-01        66313.465882           73711   19739.594451  140.50   \n",
      "2019-10-01        86709.884309           91436   33557.450624  183.19   \n",
      "2019-11-01       125842.942427          119083   53029.298064  230.28   \n",
      "2019-12-01       148965.864814          151669   89977.743191  299.96   \n",
      "2020-01-01       161636.381583          157278   98192.266490  313.36   \n",
      "2020-02-01       146545.874211          152810   98592.117287  313.99   \n",
      "2020-03-01       140737.689582          131657   59955.603728  244.86   \n",
      "2020-04-01       106687.038533          102329   38248.352495  195.57   \n",
      "2020-05-01        79462.573441           86542   27582.455619  166.08   \n",
      "2020-06-01        69627.733547           69955   20574.623120  143.44   \n",
      "2020-07-01        64654.060442           64880   16978.486122  130.30   \n",
      "2020-08-01        61811.007471           59429   14463.489320  120.26   \n",
      "2020-09-01        71548.913261           68485   20270.795371  142.38   \n",
      "2020-10-01        80540.200497           97453   69200.239412  263.06   \n",
      "2020-11-01       133649.613497          120918   68227.317326  261.20   \n",
      "2020-12-01       149140.856516          157489  108511.764712  329.41   \n",
      "2021-01-01       168440.298424          159230  103585.565675  321.85   \n",
      "2021-02-01       148045.608253          146326   89323.101475  298.87   \n",
      "\n",
      "               error     %error  \n",
      "2019-03-01 -15628.92 -12.751432  \n",
      "2019-04-01  -8747.03  -7.986696  \n",
      "2019-05-01   1941.04   2.256289  \n",
      "2019-06-01   3221.03   4.992374  \n",
      "2019-07-01  -1055.61  -1.758559  \n",
      "2019-08-01   2108.42   3.809732  \n",
      "2019-09-01  -7397.53 -10.035856  \n",
      "2019-10-01  -4726.12  -5.168774  \n",
      "2019-11-01   6759.94   5.676662  \n",
      "2019-12-01  -2703.14  -1.782263  \n",
      "2020-01-01   4358.38   2.771131  \n",
      "2020-02-01  -6264.13  -4.099293  \n",
      "2020-03-01   9080.69   6.897233  \n",
      "2020-04-01   4358.04   4.258851  \n",
      "2020-05-01  -7079.43  -8.180340  \n",
      "2020-06-01   -327.27  -0.467829  \n",
      "2020-07-01   -225.94  -0.348243  \n",
      "2020-08-01   2382.01   4.008161  \n",
      "2020-09-01   3063.91   4.473841  \n",
      "2020-10-01 -16912.80 -17.354827  \n",
      "2020-11-01  12731.61  10.529127  \n",
      "2020-12-01  -8348.14  -5.300777  \n",
      "2021-01-01   9210.30   5.784274  \n",
      "2021-02-01   1719.61   1.175191  \n"
     ]
    }
   ],
   "source": [
    "#Mean Square Error Calc\n",
    "def mse(g):\n",
    "    mse = mean_squared_error(g['actual'], g['prediction'])\n",
    "    return Series({'mse':mse})\n",
    "\n",
    "df2a = df2.groupby(df2.index)['prediction'].sum()\n",
    "df2b = df2.groupby(df2.index)['actual'].sum()\n",
    "df2c = df2.groupby(df2.index).apply(mse).reset_index()\n",
    "df2c = df2c.set_index('index')\n",
    "df3 = merge(df2a, df2b, left_index=True, right_index=True)\n",
    "df3 = merge(df3, df2c, left_index=True, right_index=True)\n",
    "df3['rmse'] = round(np.sqrt(df3['mse']),2)\n",
    "df3['error'] = round(((df3['prediction'] - df3['actual'])),2)\n",
    "df3['%error'] = (df3['error']/df3['actual'])*100\n",
    "df3.columns =['sum of predictions', 'sum of actuals', 'mse', 'rmse', 'error', '%error']\n",
    "print(df3)"
   ]
  },
  {
   "cell_type": "code",
   "execution_count": 9,
   "metadata": {},
   "outputs": [
    {
     "data": {
      "text/html": [
       "<div>\n",
       "<style scoped>\n",
       "    .dataframe tbody tr th:only-of-type {\n",
       "        vertical-align: middle;\n",
       "    }\n",
       "\n",
       "    .dataframe tbody tr th {\n",
       "        vertical-align: top;\n",
       "    }\n",
       "\n",
       "    .dataframe thead th {\n",
       "        text-align: right;\n",
       "    }\n",
       "</style>\n",
       "<table border=\"1\" class=\"dataframe\">\n",
       "  <thead>\n",
       "    <tr style=\"text-align: right;\">\n",
       "      <th></th>\n",
       "      <th>sum of predictions</th>\n",
       "      <th>sum of actuals</th>\n",
       "      <th>mse</th>\n",
       "      <th>rmse</th>\n",
       "      <th>error</th>\n",
       "      <th>%error</th>\n",
       "    </tr>\n",
       "  </thead>\n",
       "  <tbody>\n",
       "    <tr>\n",
       "      <th>min</th>\n",
       "      <td>57451.42</td>\n",
       "      <td>55343.00</td>\n",
       "      <td>11900.76</td>\n",
       "      <td>109.09</td>\n",
       "      <td>-16912.80</td>\n",
       "      <td>-17.35</td>\n",
       "    </tr>\n",
       "    <tr>\n",
       "      <th>max</th>\n",
       "      <td>168440.30</td>\n",
       "      <td>159230.00</td>\n",
       "      <td>108511.76</td>\n",
       "      <td>329.41</td>\n",
       "      <td>12731.61</td>\n",
       "      <td>10.53</td>\n",
       "    </tr>\n",
       "    <tr>\n",
       "      <th>mean</th>\n",
       "      <td>103758.41</td>\n",
       "      <td>104528.46</td>\n",
       "      <td>50508.66</td>\n",
       "      <td>212.10</td>\n",
       "      <td>-770.04</td>\n",
       "      <td>-0.78</td>\n",
       "    </tr>\n",
       "    <tr>\n",
       "      <th>sum</th>\n",
       "      <td>2490201.94</td>\n",
       "      <td>2508683.00</td>\n",
       "      <td>1212207.75</td>\n",
       "      <td>5090.37</td>\n",
       "      <td>-18481.08</td>\n",
       "      <td>-18.60</td>\n",
       "    </tr>\n",
       "    <tr>\n",
       "      <th>count</th>\n",
       "      <td>24.00</td>\n",
       "      <td>24.00</td>\n",
       "      <td>24.00</td>\n",
       "      <td>24.00</td>\n",
       "      <td>24.00</td>\n",
       "      <td>24.00</td>\n",
       "    </tr>\n",
       "  </tbody>\n",
       "</table>\n",
       "</div>"
      ],
      "text/plain": [
       "       sum of predictions  sum of actuals         mse     rmse     error  \\\n",
       "min              57451.42        55343.00    11900.76   109.09 -16912.80   \n",
       "max             168440.30       159230.00   108511.76   329.41  12731.61   \n",
       "mean            103758.41       104528.46    50508.66   212.10   -770.04   \n",
       "sum            2490201.94      2508683.00  1212207.75  5090.37 -18481.08   \n",
       "count               24.00           24.00       24.00    24.00     24.00   \n",
       "\n",
       "       %error  \n",
       "min    -17.35  \n",
       "max     10.53  \n",
       "mean    -0.78  \n",
       "sum    -18.60  \n",
       "count   24.00  "
      ]
     },
     "execution_count": 9,
     "metadata": {},
     "output_type": "execute_result"
    }
   ],
   "source": [
    "df3.apply(Summary)"
   ]
  },
  {
   "cell_type": "markdown",
   "metadata": {},
   "source": [
    "for param in pdq:\n",
    "    for param_seasonal in seasonal_pdq:\n",
    "        try:\n",
    "            mod = sm.tsa.statespace.SARIMAX(y,order=param,seasonal_order=param_seasonal,enforce_stationarity=False,enforce_invertibility=False, period=1)\n",
    "            results = mod.fit()\n",
    "            print('ARIMA{}x{}12 - AIC:{}'.format(param,param_seasonal,results.aic))\n",
    "        except: \n",
    "            continue"
   ]
  },
  {
   "cell_type": "markdown",
   "metadata": {},
   "source": [
    "for m in meter_ids:\n",
    "    df = pd.read_csv('CHL_Monthly_Stacked.csv', header=0, sep='[,]', parse_dates=True, squeeze=True, dayfirst=True, engine='python')\n",
    "    df['Date'] = pd.to_datetime(df['Date'], dayfirst=True)\n",
    "    df.columns =['MeterNo', 'WeekNo', 'kWh']\n",
    "    y = df.set_index(['WeekNo'])\n",
    "    y = y.loc[y['MeterNo'] == m]\n",
    "    y.drop(y.columns[[0]], axis = 1, inplace = True)\n",
    "    #print(y)\n",
    "    for param in pdq:\n",
    "        for param_seasonal in seasonal_pdq:\n",
    "            try:\n",
    "                mod = sm.tsa.statespace.SARIMAX(y,order=param,seasonal_order=param_seasonal,enforce_stationarity=False,enforce_invertibility=False)\n",
    "                results = mod.fit()\n",
    "                print('ARIMA{}x{}12 - AIC:{}'.format(param,param_seasonal,results.aic))\n",
    "            except: \n",
    "                continue"
   ]
  },
  {
   "cell_type": "markdown",
   "metadata": {},
   "source": [
    "for m in meter_ids:\n",
    "    df_meters = pd.read_csv('CHL_Monthly_Stacked.csv', header=0, sep='[,]', parse_dates=True, \n",
    "                            squeeze=True, dayfirst=True, engine='python')\n",
    "    df_meters['Date'] = pd.to_datetime(df_meters['Date'], dayfirst=True)\n",
    "    df_meters.columns =['MeterNo', 'Month', 'kWh']\n",
    "    y = df_meters.set_index('Month')\n",
    "    df_DDH = pd.read_csv('DDH_Monthly.csv', header=0, sep='[,]', parse_dates=True, squeeze=True, dayfirst=True, engine='python')\n",
    "    df_DDH['Date'] = pd.to_datetime(df_DDH['Date'], dayfirst=True)\n",
    "    df_DDH.columns =['Month', 'DDH']\n",
    "    z = df_DDH.set_index('Month')\n",
    "    y = merge(y, z, left_index=True, right_index=True)\n",
    "    y = y.loc[y['MeterNo'] == m]\n",
    "    y.drop(y.columns[[0]], axis = 1, inplace = True)\n",
    "    endog = y.iloc[:,0]\n",
    "    exog = y.iloc[:,1:]\n",
    "    freq = 'MS' # month start\n",
    "    mod = sm.tsa.statespace.SARIMAX(endog = endog,\n",
    "                                order=(1, 1, 1),\n",
    "                                seasonal_order=(0, 1, 1, 12),\n",
    "                                exog = exog,\n",
    "                                freq = freq,\n",
    "                                enforce_stationarity=False,\n",
    "                                enforce_invertibility=False)\n",
    "    results = mod.fit()\n",
    "    pred = results.get_prediction(start=pd.to_datetime(pred_date), dynamic=False)\n",
    "    y_forecasted = pred.predicted_mean\n",
    "    y_forecasted =y_forecasted.to_frame()\n",
    "    y_truth = y[pred_date:]\n",
    "    df1 = merge(y_forecasted, y_truth, left_index=True, right_index=True)\n",
    "    df1.drop(df1.columns[[2]], axis = 1, inplace = True)\n",
    "    df1.columns =['prediction', 'actual']\n",
    "    df1['error'] = round(((df1['prediction'] - df1['actual'])),2)\n",
    "    df1a = df1a.append(df1)\n"
   ]
  },
  {
   "cell_type": "markdown",
   "metadata": {},
   "source": [
    "p = d = q = range(0, 2)\n",
    "pdq = list(itertools.product(p, d, q))\n",
    "seasonal_pdq = [(x[0], x[1], x[2], 12) for x in list(itertools.product(p, d, q))]\n",
    "print('Examples of parameter for SARIMA...')\n",
    "print('SARIMAX: {} x {}'.format(pdq[1], seasonal_pdq[1]))\n",
    "print('SARIMAX: {} x {}'.format(pdq[1], seasonal_pdq[2]))\n",
    "print('SARIMAX: {} x {}'.format(pdq[2], seasonal_pdq[3]))\n",
    "print('SARIMAX: {} x {}'.format(pdq[2], seasonal_pdq[4]))"
   ]
  }
 ],
 "metadata": {
  "kernelspec": {
   "display_name": "Python 3",
   "language": "python",
   "name": "python3"
  },
  "language_info": {
   "codemirror_mode": {
    "name": "ipython",
    "version": 3
   },
   "file_extension": ".py",
   "mimetype": "text/x-python",
   "name": "python",
   "nbconvert_exporter": "python",
   "pygments_lexer": "ipython3",
   "version": "3.8.5"
  }
 },
 "nbformat": 4,
 "nbformat_minor": 2
}
