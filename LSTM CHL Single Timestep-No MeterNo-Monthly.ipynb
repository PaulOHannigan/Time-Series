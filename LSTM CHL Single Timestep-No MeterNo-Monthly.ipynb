{
 "cells": [
  {
   "cell_type": "markdown",
   "metadata": {},
   "source": [
    "# Multivariate Time Series Forecasting with LSTMs in Keras\n",
    "#### Reference: https://machinelearningmastery.com/multivariate-time-series-forecasting-lstms-keras/"
   ]
  },
  {
   "cell_type": "markdown",
   "metadata": {},
   "source": [
    "### Train On Single Lag Timestep - All meters - No MeterNo"
   ]
  },
  {
   "cell_type": "code",
   "execution_count": 1,
   "metadata": {},
   "outputs": [],
   "source": [
    "from math import sqrt\n",
    "from numpy import concatenate, savetxt\n",
    "from matplotlib import pyplot\n",
    "from pandas import read_csv, DataFrame, concat\n",
    "from sklearn.preprocessing import MinMaxScaler, LabelEncoder\n",
    "from sklearn.metrics import mean_squared_error\n",
    "from keras.models import Sequential\n",
    "from keras.layers import Dense, LSTM\n"
   ]
  },
  {
   "cell_type": "code",
   "execution_count": 2,
   "metadata": {},
   "outputs": [],
   "source": [
    "# convert series to supervised learning\n",
    "def series_to_supervised(data, n_in=1, n_out=1, dropnan=True):\n",
    "\tn_vars = 1 if type(data) is list else data.shape[1]\n",
    "\tdf = DataFrame(data)\n",
    "\tcols, names = list(), list()\n",
    "\t# input sequence (t-n, ... t-1)\n",
    "\tfor i in range(n_in, 0, -1):\n",
    "\t\tcols.append(df.shift(i))\n",
    "\t\tnames += [('var%d(t-%d)' % (j+1, i)) for j in range(n_vars)]\n",
    "\t# forecast sequence (t, t+1, ... t+n)\n",
    "\tfor i in range(0, n_out):\n",
    "\t\tcols.append(df.shift(-i))\n",
    "\t\tif i == 0:\n",
    "\t\t\tnames += [('var%d(t)' % (j+1)) for j in range(n_vars)]\n",
    "\t\telse:\n",
    "\t\t\tnames += [('var%d(t+%d)' % (j+1, i)) for j in range(n_vars)]\n",
    "\t# put it all together\n",
    "\tagg = concat(cols, axis=1)\n",
    "\tagg.columns = names\n",
    "\t# drop rows with NaN values\n",
    "\tif dropnan:\n",
    "\t\tagg.dropna(inplace=True)\n",
    "\treturn agg\n",
    " \n"
   ]
  },
  {
   "cell_type": "code",
   "execution_count": 3,
   "metadata": {},
   "outputs": [
    {
     "name": "stdout",
     "output_type": "stream",
     "text": [
      "   kWh  DDH  Area_m2  Const_Year  Month\n",
      "0  133  318     73.0      2007.0      1\n",
      "1  182  311     73.0      2007.0      2\n",
      "2  180  380     73.0      2007.0      3\n",
      "3  157  254     73.0      2007.0      4\n",
      "4   95  168     73.0      2007.0      5\n",
      "   var1(t-1)  var2(t-1)  var3(t-1)  var4(t-1)  var5(t-1)   var1(t)\n",
      "1   0.287458   0.825352   0.302326        0.0   0.000000  0.290976\n",
      "2   0.290976   0.805634   0.302326        0.0   0.090909  0.290832\n",
      "3   0.290832   1.000000   0.302326        0.0   0.181818  0.289181\n",
      "4   0.289181   0.645070   0.302326        0.0   0.272727  0.284730\n",
      "5   0.284730   0.402817   0.302326        0.0   0.363636  0.281571\n",
      "   var1(t-1)  var2(t-1)  var3(t-1)  var4(t-1)  var5(t-1)   var1(t)\n",
      "0   0.286740   0.019718   0.302326        0.0   0.545455  0.284945\n",
      "1   0.303755   0.056338   0.302326        0.0   0.636364  0.309211\n",
      "2   0.299591   0.301408   1.000000        0.0   0.363636  0.297293\n",
      "3   0.278699   0.515493   0.302326        0.0   1.000000  0.277981\n",
      "4   0.316749   0.938028   0.639535        0.0   0.000000  0.310144\n"
     ]
    }
   ],
   "source": [
    "# load dataset\n",
    "#dataset = read_csv('DFS04690650Rand.txt', header=0, index_col=0)\n",
    "dataset = read_csv('CharlestownAllMonth.csv', header=0, sep='[,]', parse_dates=True, squeeze=True, dayfirst=True, engine='python') \n",
    "dataset.drop(dataset.columns[[0,2]], axis = 1, inplace = True)\n",
    "values = dataset.values\n",
    "print(dataset.head())\n",
    "# ensure all data is float\n",
    "values = values.astype('float32')\n",
    "#savetxt('CharlestownValues.csv', values, delimiter=',')\n",
    "# normalize features\n",
    "scaler = MinMaxScaler(feature_range=(0, 1))\n",
    "scaled = scaler.fit_transform(values)\n",
    "# frame as supervised learning\n",
    "reframed = series_to_supervised(scaled, 1, 1)\n",
    "reframed.dtypes\n",
    "# drop columns we don't want to predict\n",
    "reframed.drop(reframed.columns[[6,7,8,9]], axis=1, inplace=True)\n",
    "print(reframed.head())\n",
    "#shuffle rows\n",
    "reframed=reframed.sample(frac=1).reset_index(drop=True)\n",
    "print(reframed.head())"
   ]
  },
  {
   "cell_type": "code",
   "execution_count": 4,
   "metadata": {},
   "outputs": [
    {
     "name": "stdout",
     "output_type": "stream",
     "text": [
      "(11759, 1, 5) (11759,) (2940, 1, 5) (2940,)\n"
     ]
    }
   ],
   "source": [
    "# split into train and test sets\n",
    "values = reframed.values\n",
    "n_train_periods = int(len(values)*0.8)\n",
    "train = values[:n_train_periods, :]\n",
    "test = values[n_train_periods:, :]\n",
    "# split into input and outputs\n",
    "train_X, train_y = train[:, :-1], train[:, -1]\n",
    "test_X, test_y = test[:, :-1], test[:, -1]\n",
    "# reshape input to be 3D [samples, timesteps, features]\n",
    "train_X = train_X.reshape((train_X.shape[0], 1, train_X.shape[1]))\n",
    "test_X = test_X.reshape((test_X.shape[0], 1, test_X.shape[1]))\n",
    "print(train_X.shape, train_y.shape, test_X.shape, test_y.shape)\n",
    " \n"
   ]
  },
  {
   "cell_type": "code",
   "execution_count": 5,
   "metadata": {},
   "outputs": [
    {
     "name": "stdout",
     "output_type": "stream",
     "text": [
      "Epoch 1/50\n",
      "245/245 - 5s - loss: 0.0355 - val_loss: 0.0089\n",
      "Epoch 2/50\n",
      "245/245 - 0s - loss: 0.0090 - val_loss: 0.0082\n",
      "Epoch 3/50\n",
      "245/245 - 0s - loss: 0.0082 - val_loss: 0.0078\n",
      "Epoch 4/50\n",
      "245/245 - 0s - loss: 0.0074 - val_loss: 0.0066\n",
      "Epoch 5/50\n",
      "245/245 - 0s - loss: 0.0066 - val_loss: 0.0058\n",
      "Epoch 6/50\n",
      "245/245 - 0s - loss: 0.0059 - val_loss: 0.0051\n",
      "Epoch 7/50\n",
      "245/245 - 0s - loss: 0.0053 - val_loss: 0.0048\n",
      "Epoch 8/50\n",
      "245/245 - 1s - loss: 0.0050 - val_loss: 0.0050\n",
      "Epoch 9/50\n",
      "245/245 - 0s - loss: 0.0049 - val_loss: 0.0046\n",
      "Epoch 10/50\n",
      "245/245 - 0s - loss: 0.0048 - val_loss: 0.0043\n",
      "Epoch 11/50\n",
      "245/245 - 0s - loss: 0.0048 - val_loss: 0.0042\n",
      "Epoch 12/50\n",
      "245/245 - 0s - loss: 0.0047 - val_loss: 0.0042\n",
      "Epoch 13/50\n",
      "245/245 - 0s - loss: 0.0047 - val_loss: 0.0042\n",
      "Epoch 14/50\n",
      "245/245 - 0s - loss: 0.0047 - val_loss: 0.0042\n",
      "Epoch 15/50\n",
      "245/245 - 0s - loss: 0.0047 - val_loss: 0.0043\n",
      "Epoch 16/50\n",
      "245/245 - 0s - loss: 0.0047 - val_loss: 0.0042\n",
      "Epoch 17/50\n",
      "245/245 - 0s - loss: 0.0047 - val_loss: 0.0042\n",
      "Epoch 18/50\n",
      "245/245 - 0s - loss: 0.0047 - val_loss: 0.0042\n",
      "Epoch 19/50\n",
      "245/245 - 0s - loss: 0.0047 - val_loss: 0.0042\n",
      "Epoch 20/50\n",
      "245/245 - 0s - loss: 0.0047 - val_loss: 0.0042\n",
      "Epoch 21/50\n",
      "245/245 - 0s - loss: 0.0047 - val_loss: 0.0042\n",
      "Epoch 22/50\n",
      "245/245 - 0s - loss: 0.0047 - val_loss: 0.0042\n",
      "Epoch 23/50\n",
      "245/245 - 0s - loss: 0.0047 - val_loss: 0.0042\n",
      "Epoch 24/50\n",
      "245/245 - 0s - loss: 0.0047 - val_loss: 0.0042\n",
      "Epoch 25/50\n",
      "245/245 - 0s - loss: 0.0047 - val_loss: 0.0042\n",
      "Epoch 26/50\n",
      "245/245 - 0s - loss: 0.0047 - val_loss: 0.0042\n",
      "Epoch 27/50\n",
      "245/245 - 0s - loss: 0.0047 - val_loss: 0.0042\n",
      "Epoch 28/50\n",
      "245/245 - 0s - loss: 0.0047 - val_loss: 0.0042\n",
      "Epoch 29/50\n",
      "245/245 - 0s - loss: 0.0047 - val_loss: 0.0042\n",
      "Epoch 30/50\n",
      "245/245 - 0s - loss: 0.0046 - val_loss: 0.0046\n",
      "Epoch 31/50\n",
      "245/245 - 0s - loss: 0.0047 - val_loss: 0.0042\n",
      "Epoch 32/50\n",
      "245/245 - 0s - loss: 0.0047 - val_loss: 0.0042\n",
      "Epoch 33/50\n",
      "245/245 - 0s - loss: 0.0046 - val_loss: 0.0042\n",
      "Epoch 34/50\n",
      "245/245 - 0s - loss: 0.0046 - val_loss: 0.0041\n",
      "Epoch 35/50\n",
      "245/245 - 0s - loss: 0.0046 - val_loss: 0.0042\n",
      "Epoch 36/50\n",
      "245/245 - 0s - loss: 0.0047 - val_loss: 0.0042\n",
      "Epoch 37/50\n",
      "245/245 - 0s - loss: 0.0046 - val_loss: 0.0042\n",
      "Epoch 38/50\n",
      "245/245 - 0s - loss: 0.0047 - val_loss: 0.0041\n",
      "Epoch 39/50\n",
      "245/245 - 0s - loss: 0.0046 - val_loss: 0.0042\n",
      "Epoch 40/50\n",
      "245/245 - 0s - loss: 0.0047 - val_loss: 0.0042\n",
      "Epoch 41/50\n",
      "245/245 - 0s - loss: 0.0046 - val_loss: 0.0041\n",
      "Epoch 42/50\n",
      "245/245 - 0s - loss: 0.0046 - val_loss: 0.0042\n",
      "Epoch 43/50\n",
      "245/245 - 0s - loss: 0.0046 - val_loss: 0.0041\n",
      "Epoch 44/50\n",
      "245/245 - 0s - loss: 0.0046 - val_loss: 0.0042\n",
      "Epoch 45/50\n",
      "245/245 - 0s - loss: 0.0046 - val_loss: 0.0041\n",
      "Epoch 46/50\n",
      "245/245 - 0s - loss: 0.0046 - val_loss: 0.0041\n",
      "Epoch 47/50\n",
      "245/245 - 0s - loss: 0.0046 - val_loss: 0.0041\n",
      "Epoch 48/50\n",
      "245/245 - 0s - loss: 0.0046 - val_loss: 0.0043\n",
      "Epoch 49/50\n",
      "245/245 - 0s - loss: 0.0046 - val_loss: 0.0041\n",
      "Epoch 50/50\n",
      "245/245 - 0s - loss: 0.0046 - val_loss: 0.0042\n"
     ]
    },
    {
     "data": {
      "text/plain": [
       "<matplotlib.legend.Legend at 0x1c490dec3a0>"
      ]
     },
     "execution_count": 5,
     "metadata": {},
     "output_type": "execute_result"
    },
    {
     "data": {
      "image/png": "[encoded data removed]",
      "text/plain": [
       "<Figure size 432x288 with 1 Axes>"
      ]
     },
     "metadata": {
      "needs_background": "light"
     },
     "output_type": "display_data"
    }
   ],
   "source": [
    "# design network\n",
    "model = Sequential()\n",
    "model.add(LSTM(50, input_shape=(train_X.shape[1], train_X.shape[2])))\n",
    "model.add(Dense(1))\n",
    "model.compile(loss='mae', optimizer='adam')\n",
    "# fit network\n",
    "history = model.fit(train_X, train_y, epochs=50, batch_size=48, validation_data=(test_X, test_y), verbose=2, shuffle=False)\n",
    "# plot history\n",
    "pyplot.plot(history.history['loss'], label='train')\n",
    "pyplot.plot(history.history['val_loss'], label='test')\n",
    "pyplot.legend()\n",
    "#pyplot.show()\n",
    " \n"
   ]
  },
  {
   "cell_type": "code",
   "execution_count": 6,
   "metadata": {},
   "outputs": [],
   "source": [
    "# make a prediction\n",
    "yhat = model.predict(test_X)\n",
    "test_X = test_X.reshape((test_X.shape[0], test_X.shape[2]))\n",
    "# invert scaling for forecast\n",
    "inv_yhat = concatenate((yhat, test_X[:, 1:]), axis=1)\n",
    "inv_yhat = scaler.inverse_transform(inv_yhat)\n",
    "inv_yhat = inv_yhat[:,0]\n",
    "# invert scaling for actual\n",
    "test_y = test_y.reshape((len(test_y), 1))\n",
    "inv_y = concatenate((test_y, test_X[:, 1:]), axis=1)\n",
    "inv_y = scaler.inverse_transform(inv_y)\n",
    "inv_y = inv_y[:,0]"
   ]
  },
  {
   "cell_type": "code",
   "execution_count": 7,
   "metadata": {},
   "outputs": [
    {
     "name": "stdout",
     "output_type": "stream",
     "text": [
      "Test RMSE: 106.823\n",
      "Test MSE: 11411.117\n"
     ]
    }
   ],
   "source": [
    "# calculate RMSE\n",
    "rmse = sqrt(mean_squared_error(inv_y, inv_yhat))\n",
    "print('Test RMSE: %.3f' % rmse)\n",
    "# calculate MSE\n",
    "mse = mean_squared_error(inv_y, inv_yhat)\n",
    "print('Test MSE: %.3f' % mse)"
   ]
  }
 ],
 "metadata": {
  "kernelspec": {
   "display_name": "Python 3",
   "language": "python",
   "name": "python3"
  },
  "language_info": {
   "codemirror_mode": {
    "name": "ipython",
    "version": 3
   },
   "file_extension": ".py",
   "mimetype": "text/x-python",
   "name": "python",
   "nbconvert_exporter": "python",
   "pygments_lexer": "ipython3",
   "version": "3.8.5"
  }
 },
 "nbformat": 4,
 "nbformat_minor": 2
}
