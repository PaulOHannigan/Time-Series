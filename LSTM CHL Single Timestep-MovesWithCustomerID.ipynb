{
 "cells": [
  {
   "cell_type": "markdown",
   "metadata": {},
   "source": [
    "# Multivariate Time Series Forecasting with LSTMs in Keras\n",
    "#### Reference: https://machinelearningmastery.com/multivariate-time-series-forecasting-lstms-keras/"
   ]
  },
  {
   "cell_type": "markdown",
   "metadata": {},
   "source": [
    "### Train On Single Lag Timestep - All meters - 4 Moves With CustomerID"
   ]
  },
  {
   "cell_type": "code",
   "execution_count": 1,
   "metadata": {},
   "outputs": [
    {
     "name": "stderr",
     "output_type": "stream",
     "text": [
      "Using TensorFlow backend.\n"
     ]
    }
   ],
   "source": [
    "from math import sqrt\n",
    "from numpy import concatenate, savetxt\n",
    "from matplotlib import pyplot\n",
    "from pandas import read_csv, DataFrame, concat\n",
    "from sklearn.preprocessing import MinMaxScaler, LabelEncoder\n",
    "from sklearn.metrics import mean_squared_error\n",
    "from keras.models import Sequential\n",
    "from keras.layers import Dense, LSTM\n"
   ]
  },
  {
   "cell_type": "code",
   "execution_count": 2,
   "metadata": {},
   "outputs": [],
   "source": [
    "# convert series to supervised learning\n",
    "def series_to_supervised(data, n_in=1, n_out=1, dropnan=True):\n",
    "\tn_vars = 1 if type(data) is list else data.shape[1]\n",
    "\tdf = DataFrame(data)\n",
    "\tcols, names = list(), list()\n",
    "\t# input sequence (t-n, ... t-1)\n",
    "\tfor i in range(n_in, 0, -1):\n",
    "\t\tcols.append(df.shift(i))\n",
    "\t\tnames += [('var%d(t-%d)' % (j+1, i)) for j in range(n_vars)]\n",
    "\t# forecast sequence (t, t+1, ... t+n)\n",
    "\tfor i in range(0, n_out):\n",
    "\t\tcols.append(df.shift(-i))\n",
    "\t\tif i == 0:\n",
    "\t\t\tnames += [('var%d(t)' % (j+1)) for j in range(n_vars)]\n",
    "\t\telse:\n",
    "\t\t\tnames += [('var%d(t+%d)' % (j+1, i)) for j in range(n_vars)]\n",
    "\t# put it all together\n",
    "\tagg = concat(cols, axis=1)\n",
    "\tagg.columns = names\n",
    "\t# drop rows with NaN values\n",
    "\tif dropnan:\n",
    "\t\tagg.dropna(inplace=True)\n",
    "\treturn agg\n",
    " \n"
   ]
  },
  {
   "cell_type": "code",
   "execution_count": 3,
   "metadata": {},
   "outputs": [
    {
     "name": "stdout",
     "output_type": "stream",
     "text": [
      "    kWh  MeterNo      Temp  NoBeds  Area_m2  Const_Year  Month  Weekday  \\\n",
      "0   4.0      172  7.079167       2       73        2007      4        2   \n",
      "1   9.0      172  8.487500       2       73        2007      4        3   \n",
      "2   9.0      172  9.904167       2       73        2007      4        4   \n",
      "3   8.0      172  7.854167       2       73        2007      4        5   \n",
      "4  11.0      172  8.250000       2       73        2007      4        6   \n",
      "\n",
      "   Daytime  Holiday  CustomerID  \n",
      "0        0        0       13720  \n",
      "1        0        0       13720  \n",
      "2        0        0       13720  \n",
      "3        0        0       13720  \n",
      "4        0        0       13720  \n",
      "   var1(t-1)  var2(t-1)  var3(t-1)  var4(t-1)  var5(t-1)  var6(t-1)  \\\n",
      "1   0.070175   0.753846   0.420840        0.0        0.0        0.0   \n",
      "2   0.157895   0.753846   0.489095        0.0        0.0        0.0   \n",
      "3   0.157895   0.753846   0.557754        0.0        0.0        0.0   \n",
      "4   0.140351   0.753846   0.458401        0.0        0.0        0.0   \n",
      "5   0.192982   0.753846   0.477585        0.0        0.0        0.0   \n",
      "\n",
      "   var7(t-1)  var8(t-1)  var9(t-1)  var10(t-1)  var11(t-1)   var1(t)  \n",
      "1   0.272727   0.333333        0.0         0.0    0.608542  0.157895  \n",
      "2   0.272727   0.500000        0.0         0.0    0.608542  0.157895  \n",
      "3   0.272727   0.666667        0.0         0.0    0.608542  0.140351  \n",
      "4   0.272727   0.833333        0.0         0.0    0.608542  0.192982  \n",
      "5   0.272727   1.000000        0.0         0.0    0.608542  0.175439  \n",
      "   var1(t-1)  var2(t-1)  var3(t-1)  var4(t-1)  var5(t-1)  var6(t-1)  \\\n",
      "0   0.333333   0.230769   0.322294        0.0        0.0        0.0   \n",
      "1   0.035088   0.753846   0.655897        0.0        0.0        0.0   \n",
      "2   0.543860   0.000000   0.274637        0.0        0.0        0.0   \n",
      "3   0.192982   1.000000   0.786955        0.0        0.0        0.0   \n",
      "4   0.140351   1.000000   0.450121        0.0        0.0        0.0   \n",
      "\n",
      "   var7(t-1)  var8(t-1)  var9(t-1)  var10(t-1)  var11(t-1)   var1(t)  \n",
      "0   0.909091   0.333333        0.0         0.0    1.000000  0.596491  \n",
      "1   0.454545   1.000000        0.0         0.0    0.608542  0.017544  \n",
      "2   0.000000   1.000000        0.0         0.0    0.970034  0.333333  \n",
      "3   0.636364   0.833333        0.0         0.0    0.000000  0.210526  \n",
      "4   0.909091   0.833333        0.0         0.0    0.964475  0.157895  \n"
     ]
    }
   ],
   "source": [
    "# load dataset\n",
    "#dataset = read_csv('DFS04690650Rand.txt', header=0, index_col=0)\n",
    "dataset = read_csv('CharlestownMovesWithCustomers.csv', header=0, sep='[,]', parse_dates=True, squeeze=True, dayfirst=True, engine='python') \n",
    "dataset.drop(dataset.columns[[0]], axis = 1, inplace = True)\n",
    "values = dataset.values\n",
    "print(dataset.head())\n",
    "# ensure all data is float\n",
    "values = values.astype('float32')\n",
    "#savetxt('CharlestownValues.csv', values, delimiter=',')\n",
    "# normalize features\n",
    "scaler = MinMaxScaler(feature_range=(0, 1))\n",
    "scaled = scaler.fit_transform(values)\n",
    "# frame as supervised learning\n",
    "reframed = series_to_supervised(scaled, 1, 1)\n",
    "reframed.dtypes\n",
    "# drop columns we don't want to predict\n",
    "reframed.drop(reframed.columns[[12,13,14,15,16,17,18,19,20,21]], axis=1, inplace=True)\n",
    "print(reframed.head())\n",
    "#shuffle rows\n",
    "reframed=reframed.sample(frac=1).reset_index(drop=True)\n",
    "print(reframed.head())"
   ]
  },
  {
   "cell_type": "markdown",
   "metadata": {},
   "source": [
    "# ensure all data is float\n",
    "values = values.astype('float32')\n",
    "savetxt('CharlestownValues.csv', values, delimiter=',')"
   ]
  },
  {
   "cell_type": "markdown",
   "metadata": {},
   "source": [
    "# normalize features\n",
    "scaler = MinMaxScaler(feature_range=(0, 1))\n",
    "scaled = scaler.fit_transform(values)"
   ]
  },
  {
   "cell_type": "markdown",
   "metadata": {},
   "source": [
    "# frame as supervised learning\n",
    "reframed = series_to_supervised(scaled, 1, 1)\n",
    "reframed.dtypes"
   ]
  },
  {
   "cell_type": "markdown",
   "metadata": {},
   "source": [
    "# drop columns we don't want to predict\n",
    "reframed.drop(reframed.columns[[10,11,12,13,14,16,17,18,19]], axis=1, inplace=True)\n",
    "print(reframed.head())"
   ]
  },
  {
   "cell_type": "markdown",
   "metadata": {},
   "source": [
    "#shuffle rows\n",
    "reframed=reframed.sample(frac=1).reset_index(drop=True)\n",
    "print(reframed.head())"
   ]
  },
  {
   "cell_type": "markdown",
   "metadata": {},
   "source": [
    "# ensure all data is float\n",
    "values = values.astype('float32')\n",
    "# normalize features\n",
    "scaler = MinMaxScaler(feature_range=(0, 1))\n",
    "scaled = scaler.fit_transform(values)\n",
    "# frame as supervised learning\n",
    "reframed = series_to_supervised(scaled, 1, 1)\n",
    "reframed.dtypes\n",
    "# drop columns we don't want to predict\n",
    "reframed.drop(reframed.columns[[11,12,13,14,15,17,18,19,20,21]], axis=1, inplace=True)\n",
    "print(reframed.head())"
   ]
  },
  {
   "cell_type": "code",
   "execution_count": 4,
   "metadata": {},
   "outputs": [
    {
     "name": "stdout",
     "output_type": "stream",
     "text": [
      "(1052, 1, 11) (1052,) (264, 1, 11) (264,)\n"
     ]
    }
   ],
   "source": [
    "# split into train and test sets\n",
    "values = reframed.values\n",
    "n_train_periods = int(len(values)*0.8)\n",
    "train = values[:n_train_periods, :]\n",
    "test = values[n_train_periods:, :]\n",
    "# split into input and outputs\n",
    "train_X, train_y = train[:, :-1], train[:, -1]\n",
    "test_X, test_y = test[:, :-1], test[:, -1]\n",
    "# reshape input to be 3D [samples, timesteps, features]\n",
    "train_X = train_X.reshape((train_X.shape[0], 1, train_X.shape[1]))\n",
    "test_X = test_X.reshape((test_X.shape[0], 1, test_X.shape[1]))\n",
    "print(train_X.shape, train_y.shape, test_X.shape, test_y.shape)\n",
    " \n"
   ]
  },
  {
   "cell_type": "code",
   "execution_count": 5,
   "metadata": {},
   "outputs": [
    {
     "name": "stdout",
     "output_type": "stream",
     "text": [
      "Train on 1052 samples, validate on 264 samples\n",
      "Epoch 1/50\n",
      " - 1s - loss: 0.1239 - val_loss: 0.0904\n",
      "Epoch 2/50\n",
      " - 0s - loss: 0.0869 - val_loss: 0.0825\n",
      "Epoch 3/50\n",
      " - 0s - loss: 0.0784 - val_loss: 0.0756\n",
      "Epoch 4/50\n",
      " - 0s - loss: 0.0718 - val_loss: 0.0696\n",
      "Epoch 5/50\n",
      " - 0s - loss: 0.0655 - val_loss: 0.0643\n",
      "Epoch 6/50\n",
      " - 0s - loss: 0.0601 - val_loss: 0.0607\n",
      "Epoch 7/50\n",
      " - 0s - loss: 0.0565 - val_loss: 0.0582\n",
      "Epoch 8/50\n",
      " - 0s - loss: 0.0544 - val_loss: 0.0575\n",
      "Epoch 9/50\n",
      " - 0s - loss: 0.0537 - val_loss: 0.0570\n",
      "Epoch 10/50\n",
      " - 0s - loss: 0.0535 - val_loss: 0.0570\n",
      "Epoch 11/50\n",
      " - 0s - loss: 0.0534 - val_loss: 0.0570\n",
      "Epoch 12/50\n",
      " - 0s - loss: 0.0533 - val_loss: 0.0569\n",
      "Epoch 13/50\n",
      " - 0s - loss: 0.0529 - val_loss: 0.0565\n",
      "Epoch 14/50\n",
      " - 0s - loss: 0.0529 - val_loss: 0.0566\n",
      "Epoch 15/50\n",
      " - 0s - loss: 0.0528 - val_loss: 0.0566\n",
      "Epoch 16/50\n",
      " - 0s - loss: 0.0527 - val_loss: 0.0565\n",
      "Epoch 17/50\n",
      " - 0s - loss: 0.0524 - val_loss: 0.0562\n",
      "Epoch 18/50\n",
      " - 0s - loss: 0.0523 - val_loss: 0.0564\n",
      "Epoch 19/50\n",
      " - 0s - loss: 0.0524 - val_loss: 0.0563\n",
      "Epoch 20/50\n",
      " - 0s - loss: 0.0522 - val_loss: 0.0563\n",
      "Epoch 21/50\n",
      " - 0s - loss: 0.0522 - val_loss: 0.0563\n",
      "Epoch 22/50\n",
      " - 0s - loss: 0.0521 - val_loss: 0.0561\n",
      "Epoch 23/50\n",
      " - 0s - loss: 0.0519 - val_loss: 0.0559\n",
      "Epoch 24/50\n",
      " - 0s - loss: 0.0518 - val_loss: 0.0559\n",
      "Epoch 25/50\n",
      " - 0s - loss: 0.0519 - val_loss: 0.0558\n",
      "Epoch 26/50\n",
      " - 0s - loss: 0.0518 - val_loss: 0.0558\n",
      "Epoch 27/50\n",
      " - 0s - loss: 0.0517 - val_loss: 0.0557\n",
      "Epoch 28/50\n",
      " - 0s - loss: 0.0517 - val_loss: 0.0557\n",
      "Epoch 29/50\n",
      " - 0s - loss: 0.0517 - val_loss: 0.0557\n",
      "Epoch 30/50\n",
      " - 0s - loss: 0.0515 - val_loss: 0.0556\n",
      "Epoch 31/50\n",
      " - 0s - loss: 0.0516 - val_loss: 0.0556\n",
      "Epoch 32/50\n",
      " - 0s - loss: 0.0514 - val_loss: 0.0554\n",
      "Epoch 33/50\n",
      " - 0s - loss: 0.0513 - val_loss: 0.0556\n",
      "Epoch 34/50\n",
      " - 0s - loss: 0.0514 - val_loss: 0.0555\n",
      "Epoch 35/50\n",
      " - 0s - loss: 0.0512 - val_loss: 0.0552\n",
      "Epoch 36/50\n",
      " - 0s - loss: 0.0512 - val_loss: 0.0552\n",
      "Epoch 37/50\n",
      " - 0s - loss: 0.0511 - val_loss: 0.0553\n",
      "Epoch 38/50\n",
      " - 0s - loss: 0.0511 - val_loss: 0.0551\n",
      "Epoch 39/50\n",
      " - 0s - loss: 0.0511 - val_loss: 0.0553\n",
      "Epoch 40/50\n",
      " - 0s - loss: 0.0510 - val_loss: 0.0550\n",
      "Epoch 41/50\n",
      " - 0s - loss: 0.0509 - val_loss: 0.0549\n",
      "Epoch 42/50\n",
      " - 0s - loss: 0.0509 - val_loss: 0.0550\n",
      "Epoch 43/50\n",
      " - 0s - loss: 0.0508 - val_loss: 0.0549\n",
      "Epoch 44/50\n",
      " - 0s - loss: 0.0507 - val_loss: 0.0549\n",
      "Epoch 45/50\n",
      " - 0s - loss: 0.0507 - val_loss: 0.0550\n",
      "Epoch 46/50\n",
      " - 0s - loss: 0.0508 - val_loss: 0.0550\n",
      "Epoch 47/50\n",
      " - 0s - loss: 0.0508 - val_loss: 0.0548\n",
      "Epoch 48/50\n",
      " - 0s - loss: 0.0506 - val_loss: 0.0546\n",
      "Epoch 49/50\n",
      " - 0s - loss: 0.0507 - val_loss: 0.0548\n",
      "Epoch 50/50\n",
      " - 0s - loss: 0.0507 - val_loss: 0.0546\n"
     ]
    },
    {
     "data": {
      "text/plain": [
       "<matplotlib.legend.Legend at 0x1c6154a2fc8>"
      ]
     },
     "execution_count": 5,
     "metadata": {},
     "output_type": "execute_result"
    },
    {
     "data": {
      "image/png": "[encoded data removed]",
      "text/plain": [
       "<Figure size 432x288 with 1 Axes>"
      ]
     },
     "metadata": {
      "needs_background": "light"
     },
     "output_type": "display_data"
    }
   ],
   "source": [
    "# design network\n",
    "model = Sequential()\n",
    "model.add(LSTM(50, input_shape=(train_X.shape[1], train_X.shape[2])))\n",
    "model.add(Dense(1))\n",
    "model.compile(loss='mae', optimizer='adam')\n",
    "# fit network\n",
    "history = model.fit(train_X, train_y, epochs=50, batch_size=32, validation_data=(test_X, test_y), verbose=2, shuffle=False)\n",
    "# plot history\n",
    "pyplot.plot(history.history['loss'], label='train')\n",
    "pyplot.plot(history.history['val_loss'], label='test')\n",
    "pyplot.legend()\n",
    "#pyplot.show()\n",
    " \n"
   ]
  },
  {
   "cell_type": "code",
   "execution_count": 6,
   "metadata": {},
   "outputs": [
    {
     "name": "stdout",
     "output_type": "stream",
     "text": [
      "Test RMSE: 4.524\n"
     ]
    }
   ],
   "source": [
    "# make a prediction\n",
    "yhat = model.predict(test_X)\n",
    "test_X = test_X.reshape((test_X.shape[0], test_X.shape[2]))\n",
    "# invert scaling for forecast\n",
    "inv_yhat = concatenate((yhat, test_X[:, 1:]), axis=1)\n",
    "inv_yhat = scaler.inverse_transform(inv_yhat)\n",
    "inv_yhat = inv_yhat[:,0]\n",
    "# invert scaling for actual\n",
    "test_y = test_y.reshape((len(test_y), 1))\n",
    "inv_y = concatenate((test_y, test_X[:, 1:]), axis=1)\n",
    "inv_y = scaler.inverse_transform(inv_y)\n",
    "inv_y = inv_y[:,0]\n",
    "# calculate RMSE\n",
    "rmse = sqrt(mean_squared_error(inv_y, inv_yhat))\n",
    "print('Test RMSE: %.3f' % rmse)"
   ]
  },
  {
   "cell_type": "code",
   "execution_count": null,
   "metadata": {},
   "outputs": [],
   "source": []
  }
 ],
 "metadata": {
  "kernelspec": {
   "display_name": "Python 3",
   "language": "python",
   "name": "python3"
  },
  "language_info": {
   "codemirror_mode": {
    "name": "ipython",
    "version": 3
   },
   "file_extension": ".py",
   "mimetype": "text/x-python",
   "name": "python",
   "nbconvert_exporter": "python",
   "pygments_lexer": "ipython3",
   "version": "3.7.4"
  }
 },
 "nbformat": 4,
 "nbformat_minor": 2
}
