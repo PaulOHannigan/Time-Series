{
 "cells": [
  {
   "cell_type": "markdown",
   "metadata": {},
   "source": [
    "### https://towardsdatascience.com/how-to-forecast-sales-with-python-using-sarima-model-ba600992fa7d"
   ]
  },
  {
   "cell_type": "code",
   "execution_count": 1,
   "metadata": {},
   "outputs": [],
   "source": [
    "import warnings\n",
    "import itertools\n",
    "import numpy as np\n",
    "from numpy import concatenate, savetxt, unique, array, subtract\n",
    "import matplotlib.pyplot as plt\n",
    "warnings.filterwarnings(\"ignore\")\n",
    "import pandas as pd\n",
    "from pandas import merge, DataFrame, Series\n",
    "import statsmodels.api as sm\n",
    "from sklearn.metrics import mean_squared_error\n",
    "import matplotlib\n",
    "from math import sqrt\n",
    "from statistics import mean\n"
   ]
  },
  {
   "cell_type": "code",
   "execution_count": 2,
   "metadata": {},
   "outputs": [
    {
     "name": "stdout",
     "output_type": "stream",
     "text": [
      "                   kWh  DDH    Area_m2\n",
      "Month                                 \n",
      "2013-01-01  475.450704  318  72.517606\n",
      "2013-02-01  468.250000  311  72.517606\n",
      "2013-03-01  455.806338  380  72.517606\n",
      "2013-04-01  390.042254  254  72.517606\n",
      "2013-05-01  280.778169  168  72.517606\n",
      "...                ...  ...        ...\n",
      "2020-10-01  343.144366  183  72.517606\n",
      "2020-11-01  425.767606  220  72.517606\n",
      "2020-12-01  554.538732  326  72.517606\n",
      "2021-01-01  560.669014  358  72.517606\n",
      "2021-02-01  515.232394  261  72.517606\n",
      "\n",
      "[98 rows x 3 columns]\n"
     ]
    }
   ],
   "source": [
    "df = pd.read_csv('CHL_Monthly_Stacked.csv', header=0, sep='[,]', parse_dates=True,\n",
    "                 squeeze=True, dayfirst=True, engine='python')\n",
    "df1a = pd.DataFrame(index =['Month'], columns=['prediction', 'actual'])\n",
    "pred_date = '2019-03-01'\n",
    "\n",
    "df['Date'] = pd.to_datetime(df['Date'], dayfirst=True)\n",
    "df.columns =['MeterNo', 'Month', 'kWh']\n",
    "df_DDH = pd.read_csv('DDH_Monthly.csv', header=0, sep='[,]', parse_dates=True, squeeze=True, dayfirst=True, engine='python')\n",
    "df_DDH['Date'] = pd.to_datetime(df_DDH['Date'], dayfirst=True)\n",
    "df_DDH.columns =['Month', 'DDH']\n",
    "df = merge(df, df_DDH, on='Month')#left_index=True, right_index=True)\n",
    "df_meters = pd.read_csv('CHL-Meters.csv', header=0, sep='[,]', parse_dates=True, squeeze=True, dayfirst=True, engine='python')\n",
    "df = merge(df, df_meters, on='MeterNo')\n",
    "y = df.set_index('Month')\n",
    "y.drop(y.columns[[0]], axis = 1, inplace = True)\n",
    "y = y.sort_index()\n",
    "\n",
    "ya = y.groupby(y.index)['kWh'].mean()\n",
    "yb = y.groupby(y.index)['DDH'].mean()\n",
    "yc = y.groupby(y.index)['Area_m2'].mean()\n",
    "z = merge(ya, yb, left_index=True, right_index=True)\n",
    "z = merge(z, yc, left_index=True, right_index=True)\n",
    "print(z)\n"
   ]
  },
  {
   "cell_type": "code",
   "execution_count": 3,
   "metadata": {},
   "outputs": [
    {
     "name": "stderr",
     "output_type": "stream",
     "text": [
      "C:\\Users\\Paul\\anaconda3\\lib\\site-packages\\statsmodels\\tsa\\base\\tsa_model.py:524: ValueWarning: No frequency information was provided, so inferred frequency MS will be used.\n",
      "  warnings.warn('No frequency information was'\n",
      "C:\\Users\\Paul\\anaconda3\\lib\\site-packages\\statsmodels\\tsa\\base\\tsa_model.py:524: ValueWarning: No frequency information was provided, so inferred frequency MS will be used.\n",
      "  warnings.warn('No frequency information was'\n"
     ]
    },
    {
     "name": "stdout",
     "output_type": "stream",
     "text": [
      "            prediction  actual    error\n",
      "2019-03-01  388.365029     586  -197.63\n",
      "2019-03-01  388.365029     492  -103.63\n",
      "2019-03-01  388.365029     630  -241.63\n",
      "2019-03-01  388.365029     327    61.37\n",
      "2019-03-01  388.365029    1156  -767.63\n",
      "...                ...     ...      ...\n",
      "2021-02-01  503.679723     234   269.68\n",
      "2021-02-01  503.679723     486    17.68\n",
      "2021-02-01  503.679723     513    -9.32\n",
      "2021-02-01  503.679723     430    73.68\n",
      "2021-02-01  503.679723    1719 -1215.32\n",
      "\n",
      "[6816 rows x 3 columns]\n"
     ]
    }
   ],
   "source": [
    "endog = z.iloc[:,0]\n",
    "exog = z.iloc[:,1:]\n",
    "mod = sm.tsa.statespace.SARIMAX(endog = endog,\n",
    "                            order=(1, 1, 1),\n",
    "                            seasonal_order=(0, 1, 1, 12),\n",
    "                            exog = exog,\n",
    "                            enforce_stationarity=False,\n",
    "                            enforce_invertibility=False)\n",
    "results = mod.fit()\n",
    "pred = results.get_prediction(start=pd.to_datetime(pred_date), dynamic=False)\n",
    "y_forecasted = pred.predicted_mean\n",
    "y_forecasted =y_forecasted.to_frame()\n",
    "y_truth = y[pred_date:]\n",
    "df1 = merge(y_forecasted, y_truth, left_index=True, right_index=True)\n",
    "df1.drop(df1.columns[[2,3]], axis = 1, inplace = True)\n",
    "df1.columns =['prediction', 'actual']\n",
    "df1['error'] = round(((df1['prediction'] - df1['actual'])),2)\n",
    "print(df1)"
   ]
  },
  {
   "cell_type": "code",
   "execution_count": 4,
   "metadata": {},
   "outputs": [
    {
     "name": "stdout",
     "output_type": "stream",
     "text": [
      "            prediction  actual    error\n",
      "2019-03-01  388.365029     586  -197.63\n",
      "2019-03-01  388.365029     492  -103.63\n",
      "2019-03-01  388.365029     630  -241.63\n",
      "2019-03-01  388.365029     327    61.37\n",
      "2019-03-01  388.365029    1156  -767.63\n",
      "...                ...     ...      ...\n",
      "2021-02-01  503.679723     234   269.68\n",
      "2021-02-01  503.679723     486    17.68\n",
      "2021-02-01  503.679723     513    -9.32\n",
      "2021-02-01  503.679723     430    73.68\n",
      "2021-02-01  503.679723    1719 -1215.32\n",
      "\n",
      "[6816 rows x 3 columns]\n"
     ]
    }
   ],
   "source": [
    "# Each meter per month\n",
    "df2 = df1.dropna()\n",
    "print(df2)"
   ]
  },
  {
   "cell_type": "code",
   "execution_count": 5,
   "metadata": {},
   "outputs": [
    {
     "name": "stdout",
     "output_type": "stream",
     "text": [
      "50290.750835059465\n"
     ]
    }
   ],
   "source": [
    "mse = mean_squared_error(df2['actual'],df2['prediction'])\n",
    "print(mse)"
   ]
  },
  {
   "cell_type": "code",
   "execution_count": 6,
   "metadata": {},
   "outputs": [
    {
     "name": "stdout",
     "output_type": "stream",
     "text": [
      "224.2559939779971\n"
     ]
    }
   ],
   "source": [
    "rmse = np.sqrt(mse)\n",
    "print(rmse)"
   ]
  },
  {
   "cell_type": "code",
   "execution_count": 7,
   "metadata": {},
   "outputs": [
    {
     "data": {
      "text/html": [
       "<div>\n",
       "<style scoped>\n",
       "    .dataframe tbody tr th:only-of-type {\n",
       "        vertical-align: middle;\n",
       "    }\n",
       "\n",
       "    .dataframe tbody tr th {\n",
       "        vertical-align: top;\n",
       "    }\n",
       "\n",
       "    .dataframe thead th {\n",
       "        text-align: right;\n",
       "    }\n",
       "</style>\n",
       "<table border=\"1\" class=\"dataframe\">\n",
       "  <thead>\n",
       "    <tr style=\"text-align: right;\">\n",
       "      <th></th>\n",
       "      <th>prediction</th>\n",
       "      <th>actual</th>\n",
       "      <th>error</th>\n",
       "    </tr>\n",
       "  </thead>\n",
       "  <tbody>\n",
       "    <tr>\n",
       "      <th>min</th>\n",
       "      <td>199.36</td>\n",
       "      <td>-1821.00</td>\n",
       "      <td>-1595.65</td>\n",
       "    </tr>\n",
       "    <tr>\n",
       "      <th>max</th>\n",
       "      <td>589.73</td>\n",
       "      <td>2152.00</td>\n",
       "      <td>2109.81</td>\n",
       "    </tr>\n",
       "    <tr>\n",
       "      <th>mean</th>\n",
       "      <td>365.52</td>\n",
       "      <td>368.06</td>\n",
       "      <td>-2.54</td>\n",
       "    </tr>\n",
       "    <tr>\n",
       "      <th>sum</th>\n",
       "      <td>2491401.71</td>\n",
       "      <td>2508683.00</td>\n",
       "      <td>-17278.80</td>\n",
       "    </tr>\n",
       "    <tr>\n",
       "      <th>count</th>\n",
       "      <td>6816.00</td>\n",
       "      <td>6816.00</td>\n",
       "      <td>6816.00</td>\n",
       "    </tr>\n",
       "  </tbody>\n",
       "</table>\n",
       "</div>"
      ],
      "text/plain": [
       "       prediction      actual     error\n",
       "min        199.36    -1821.00  -1595.65\n",
       "max        589.73     2152.00   2109.81\n",
       "mean       365.52      368.06     -2.54\n",
       "sum    2491401.71  2508683.00 -17278.80\n",
       "count     6816.00     6816.00   6816.00"
      ]
     },
     "execution_count": 7,
     "metadata": {},
     "output_type": "execute_result"
    }
   ],
   "source": [
    "# Summary of each meter for each month\n",
    "def Summary(x):\n",
    "    return round(Series(index=['min','max', 'mean','sum','count'],data=[x.min(),x.max(),x.mean(),x.sum(),x.count()]),2)\n",
    "df2.apply(Summary)"
   ]
  },
  {
   "cell_type": "code",
   "execution_count": 8,
   "metadata": {},
   "outputs": [
    {
     "name": "stdout",
     "output_type": "stream",
     "text": [
      "            sum of predictions  sum of actuals            mse    rmse  \\\n",
      "2019-03-01       110295.668186          122566   60104.155312  245.16   \n",
      "2019-04-01       100434.297420          109520   52906.052462  230.01   \n",
      "2019-05-01        89360.347433           86028   27338.290362  165.34   \n",
      "2019-06-01        68276.908000           64519   16086.896989  126.83   \n",
      "2019-07-01        57534.737886           60027   12975.079814  113.91   \n",
      "2019-08-01        56617.582678           55343   11865.783327  108.93   \n",
      "2019-09-01        66815.087563           73711   19650.699605  140.18   \n",
      "2019-10-01        89334.711923           91436   33335.263087  182.58   \n",
      "2019-11-01       124643.455650          119083   52846.073572  229.88   \n",
      "2019-12-01       149377.004881          151669   89952.280756  299.92   \n",
      "2020-01-01       158004.588594          157278   97963.299531  312.99   \n",
      "2020-02-01       148228.266357          152810   98365.885032  313.63   \n",
      "2020-03-01       140504.224129          131657   59903.709901  244.75   \n",
      "2020-04-01       105724.955535          102329   38155.861101  195.34   \n",
      "2020-05-01        81998.335197           86542   27217.034689  164.98   \n",
      "2020-06-01        68752.563407           69955   20591.221394  143.50   \n",
      "2020-07-01        65776.706173           64880   16987.822480  130.34   \n",
      "2020-08-01        60106.983156           59429   14398.840708  120.00   \n",
      "2020-09-01        72505.260490           68485   20354.793213  142.67   \n",
      "2020-10-01        82021.062677           97453   68606.382818  261.93   \n",
      "2020-11-01       128368.126490          120918   66905.783931  258.66   \n",
      "2020-12-01       156192.479411          157489  107668.547419  328.13   \n",
      "2021-01-01       167483.312436          159230  103378.359380  321.53   \n",
      "2021-02-01       143045.041428          146326   89419.903158  299.03   \n",
      "\n",
      "               error     %error  \n",
      "2019-03-01 -12270.33 -10.011202  \n",
      "2019-04-01  -9085.70  -8.295928  \n",
      "2019-05-01   3332.35   3.873564  \n",
      "2019-06-01   3757.91   5.824501  \n",
      "2019-07-01  -2492.26  -4.151898  \n",
      "2019-08-01   1274.58   2.303055  \n",
      "2019-09-01  -6895.91  -9.355334  \n",
      "2019-10-01  -2101.29  -2.298099  \n",
      "2019-11-01   5560.46   4.669399  \n",
      "2019-12-01  -2292.00  -1.511186  \n",
      "2020-01-01    726.59   0.461978  \n",
      "2020-02-01  -4581.73  -2.998318  \n",
      "2020-03-01   8847.22   6.719901  \n",
      "2020-04-01   3395.96   3.318668  \n",
      "2020-05-01  -4543.66  -5.250237  \n",
      "2020-06-01  -1202.44  -1.718876  \n",
      "2020-07-01    896.71   1.382105  \n",
      "2020-08-01    677.98   1.140824  \n",
      "2020-09-01   4020.26   5.870278  \n",
      "2020-10-01 -15431.94 -15.835264  \n",
      "2020-11-01   7450.13   6.161308  \n",
      "2020-12-01  -1296.52  -0.823245  \n",
      "2021-01-01   8253.31   5.183263  \n",
      "2021-02-01  -3280.96  -2.242226  \n"
     ]
    }
   ],
   "source": [
    "#Mean Square Error Calc\n",
    "def mse(g):\n",
    "    mse = mean_squared_error(g['actual'], g['prediction'])\n",
    "    return Series({'mse':mse})\n",
    "\n",
    "df2a = df2.groupby(df2.index)['prediction'].sum()\n",
    "df2b = df2.groupby(df2.index)['actual'].sum()\n",
    "df2c = df2.groupby(df2.index).apply(mse).reset_index()\n",
    "df2c = df2c.set_index('index')\n",
    "df3 = merge(df2a, df2b, left_index=True, right_index=True)\n",
    "df3 = merge(df3, df2c, left_index=True, right_index=True)\n",
    "df3['rmse'] = round(np.sqrt(df3['mse']),2)\n",
    "df3['error'] = round(((df3['prediction'] - df3['actual'])),2)\n",
    "df3['%error'] = (df3['error']/df3['actual'])*100\n",
    "df3.columns =['sum of predictions', 'sum of actuals', 'mse', 'rmse', 'error', '%error']\n",
    "print(df3)"
   ]
  },
  {
   "cell_type": "code",
   "execution_count": 9,
   "metadata": {},
   "outputs": [
    {
     "data": {
      "text/html": [
       "<div>\n",
       "<style scoped>\n",
       "    .dataframe tbody tr th:only-of-type {\n",
       "        vertical-align: middle;\n",
       "    }\n",
       "\n",
       "    .dataframe tbody tr th {\n",
       "        vertical-align: top;\n",
       "    }\n",
       "\n",
       "    .dataframe thead th {\n",
       "        text-align: right;\n",
       "    }\n",
       "</style>\n",
       "<table border=\"1\" class=\"dataframe\">\n",
       "  <thead>\n",
       "    <tr style=\"text-align: right;\">\n",
       "      <th></th>\n",
       "      <th>sum of predictions</th>\n",
       "      <th>sum of actuals</th>\n",
       "      <th>mse</th>\n",
       "      <th>rmse</th>\n",
       "      <th>error</th>\n",
       "      <th>%error</th>\n",
       "    </tr>\n",
       "  </thead>\n",
       "  <tbody>\n",
       "    <tr>\n",
       "      <th>min</th>\n",
       "      <td>56617.58</td>\n",
       "      <td>55343.00</td>\n",
       "      <td>11865.78</td>\n",
       "      <td>108.93</td>\n",
       "      <td>-15431.94</td>\n",
       "      <td>-15.84</td>\n",
       "    </tr>\n",
       "    <tr>\n",
       "      <th>max</th>\n",
       "      <td>167483.31</td>\n",
       "      <td>159230.00</td>\n",
       "      <td>107668.55</td>\n",
       "      <td>328.13</td>\n",
       "      <td>8847.22</td>\n",
       "      <td>6.72</td>\n",
       "    </tr>\n",
       "    <tr>\n",
       "      <th>mean</th>\n",
       "      <td>103808.40</td>\n",
       "      <td>104528.46</td>\n",
       "      <td>50290.75</td>\n",
       "      <td>211.68</td>\n",
       "      <td>-720.05</td>\n",
       "      <td>-0.73</td>\n",
       "    </tr>\n",
       "    <tr>\n",
       "      <th>sum</th>\n",
       "      <td>2491401.71</td>\n",
       "      <td>2508683.00</td>\n",
       "      <td>1206978.02</td>\n",
       "      <td>5080.22</td>\n",
       "      <td>-17281.28</td>\n",
       "      <td>-17.58</td>\n",
       "    </tr>\n",
       "    <tr>\n",
       "      <th>count</th>\n",
       "      <td>24.00</td>\n",
       "      <td>24.00</td>\n",
       "      <td>24.00</td>\n",
       "      <td>24.00</td>\n",
       "      <td>24.00</td>\n",
       "      <td>24.00</td>\n",
       "    </tr>\n",
       "  </tbody>\n",
       "</table>\n",
       "</div>"
      ],
      "text/plain": [
       "       sum of predictions  sum of actuals         mse     rmse     error  \\\n",
       "min              56617.58        55343.00    11865.78   108.93 -15431.94   \n",
       "max             167483.31       159230.00   107668.55   328.13   8847.22   \n",
       "mean            103808.40       104528.46    50290.75   211.68   -720.05   \n",
       "sum            2491401.71      2508683.00  1206978.02  5080.22 -17281.28   \n",
       "count               24.00           24.00       24.00    24.00     24.00   \n",
       "\n",
       "       %error  \n",
       "min    -15.84  \n",
       "max      6.72  \n",
       "mean    -0.73  \n",
       "sum    -17.58  \n",
       "count   24.00  "
      ]
     },
     "execution_count": 9,
     "metadata": {},
     "output_type": "execute_result"
    }
   ],
   "source": [
    "df3.apply(Summary)"
   ]
  },
  {
   "cell_type": "markdown",
   "metadata": {},
   "source": [
    "for param in pdq:\n",
    "    for param_seasonal in seasonal_pdq:\n",
    "        try:\n",
    "            mod = sm.tsa.statespace.SARIMAX(y,order=param,seasonal_order=param_seasonal,enforce_stationarity=False,enforce_invertibility=False, period=1)\n",
    "            results = mod.fit()\n",
    "            print('ARIMA{}x{}12 - AIC:{}'.format(param,param_seasonal,results.aic))\n",
    "        except: \n",
    "            continue"
   ]
  },
  {
   "cell_type": "markdown",
   "metadata": {},
   "source": [
    "for m in meter_ids:\n",
    "    df = pd.read_csv('CHL_Monthly_Stacked.csv', header=0, sep='[,]', parse_dates=True, squeeze=True, dayfirst=True, engine='python')\n",
    "    df['Date'] = pd.to_datetime(df['Date'], dayfirst=True)\n",
    "    df.columns =['MeterNo', 'WeekNo', 'kWh']\n",
    "    y = df.set_index(['WeekNo'])\n",
    "    y = y.loc[y['MeterNo'] == m]\n",
    "    y.drop(y.columns[[0]], axis = 1, inplace = True)\n",
    "    #print(y)\n",
    "    for param in pdq:\n",
    "        for param_seasonal in seasonal_pdq:\n",
    "            try:\n",
    "                mod = sm.tsa.statespace.SARIMAX(y,order=param,seasonal_order=param_seasonal,enforce_stationarity=False,enforce_invertibility=False)\n",
    "                results = mod.fit()\n",
    "                print('ARIMA{}x{}12 - AIC:{}'.format(param,param_seasonal,results.aic))\n",
    "            except: \n",
    "                continue"
   ]
  },
  {
   "cell_type": "markdown",
   "metadata": {},
   "source": [
    "for m in meter_ids:\n",
    "    df_meters = pd.read_csv('CHL_Monthly_Stacked.csv', header=0, sep='[,]', parse_dates=True, \n",
    "                            squeeze=True, dayfirst=True, engine='python')\n",
    "    df_meters['Date'] = pd.to_datetime(df_meters['Date'], dayfirst=True)\n",
    "    df_meters.columns =['MeterNo', 'Month', 'kWh']\n",
    "    y = df_meters.set_index('Month')\n",
    "    df_DDH = pd.read_csv('DDH_Monthly.csv', header=0, sep='[,]', parse_dates=True, squeeze=True, dayfirst=True, engine='python')\n",
    "    df_DDH['Date'] = pd.to_datetime(df_DDH['Date'], dayfirst=True)\n",
    "    df_DDH.columns =['Month', 'DDH']\n",
    "    z = df_DDH.set_index('Month')\n",
    "    y = merge(y, z, left_index=True, right_index=True)\n",
    "    y = y.loc[y['MeterNo'] == m]\n",
    "    y.drop(y.columns[[0]], axis = 1, inplace = True)\n",
    "    endog = y.iloc[:,0]\n",
    "    exog = y.iloc[:,1:]\n",
    "    freq = 'MS' # month start\n",
    "    mod = sm.tsa.statespace.SARIMAX(endog = endog,\n",
    "                                order=(1, 1, 1),\n",
    "                                seasonal_order=(0, 1, 1, 12),\n",
    "                                exog = exog,\n",
    "                                freq = freq,\n",
    "                                enforce_stationarity=False,\n",
    "                                enforce_invertibility=False)\n",
    "    results = mod.fit()\n",
    "    pred = results.get_prediction(start=pd.to_datetime(pred_date), dynamic=False)\n",
    "    y_forecasted = pred.predicted_mean\n",
    "    y_forecasted =y_forecasted.to_frame()\n",
    "    y_truth = y[pred_date:]\n",
    "    df1 = merge(y_forecasted, y_truth, left_index=True, right_index=True)\n",
    "    df1.drop(df1.columns[[2]], axis = 1, inplace = True)\n",
    "    df1.columns =['prediction', 'actual']\n",
    "    df1['error'] = round(((df1['prediction'] - df1['actual'])),2)\n",
    "    df1a = df1a.append(df1)\n"
   ]
  },
  {
   "cell_type": "markdown",
   "metadata": {},
   "source": [
    "p = d = q = range(0, 2)\n",
    "pdq = list(itertools.product(p, d, q))\n",
    "seasonal_pdq = [(x[0], x[1], x[2], 12) for x in list(itertools.product(p, d, q))]\n",
    "print('Examples of parameter for SARIMA...')\n",
    "print('SARIMAX: {} x {}'.format(pdq[1], seasonal_pdq[1]))\n",
    "print('SARIMAX: {} x {}'.format(pdq[1], seasonal_pdq[2]))\n",
    "print('SARIMAX: {} x {}'.format(pdq[2], seasonal_pdq[3]))\n",
    "print('SARIMAX: {} x {}'.format(pdq[2], seasonal_pdq[4]))"
   ]
  }
 ],
 "metadata": {
  "kernelspec": {
   "display_name": "Python 3",
   "language": "python",
   "name": "python3"
  },
  "language_info": {
   "codemirror_mode": {
    "name": "ipython",
    "version": 3
   },
   "file_extension": ".py",
   "mimetype": "text/x-python",
   "name": "python",
   "nbconvert_exporter": "python",
   "pygments_lexer": "ipython3",
   "version": "3.8.5"
  }
 },
 "nbformat": 4,
 "nbformat_minor": 2
}
