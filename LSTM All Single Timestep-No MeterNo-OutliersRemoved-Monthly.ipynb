{
 "cells": [
  {
   "cell_type": "markdown",
   "metadata": {},
   "source": [
    "# Multivariate Time Series Forecasting with LSTMs in Keras\n",
    "#### Reference: https://machinelearningmastery.com/multivariate-time-series-forecasting-lstms-keras/"
   ]
  },
  {
   "cell_type": "markdown",
   "metadata": {},
   "source": [
    "#### Trained on a single Lag Timestep - All meters - No MeterNo - Negative & large values removed"
   ]
  },
  {
   "cell_type": "code",
   "execution_count": 1,
   "metadata": {},
   "outputs": [],
   "source": [
    "from math import sqrt\n",
    "from numpy import concatenate, savetxt, subtract\n",
    "from matplotlib import pyplot\n",
    "from pandas import read_csv, DataFrame, concat, Series\n",
    "from sklearn.preprocessing import MinMaxScaler, LabelEncoder\n",
    "from sklearn.metrics import mean_squared_error\n",
    "from keras.models import Sequential\n",
    "from keras.layers import Dense, LSTM\n"
   ]
  },
  {
   "cell_type": "code",
   "execution_count": 2,
   "metadata": {},
   "outputs": [],
   "source": [
    "# convert series to supervised learning\n",
    "def series_to_supervised(data, n_in=1, n_out=1, dropnan=True):\n",
    "\tn_vars = 1 if type(data) is list else data.shape[1]\n",
    "\tdf = DataFrame(data)\n",
    "\tcols, names = list(), list()\n",
    "\t# input sequence (t-n, ... t-1)\n",
    "\tfor i in range(n_in, 0, -1):\n",
    "\t\tcols.append(df.shift(i))\n",
    "\t\tnames += [('var%d(t-%d)' % (j+1, i)) for j in range(n_vars)]\n",
    "\t# forecast sequence (t, t+1, ... t+n)\n",
    "\tfor i in range(0, n_out):\n",
    "\t\tcols.append(df.shift(-i))\n",
    "\t\tif i == 0:\n",
    "\t\t\tnames += [('var%d(t)' % (j+1)) for j in range(n_vars)]\n",
    "\t\telse:\n",
    "\t\t\tnames += [('var%d(t+%d)' % (j+1, i)) for j in range(n_vars)]\n",
    "\t# put it all together\n",
    "\tagg = concat(cols, axis=1)\n",
    "\tagg.columns = names\n",
    "\t# drop rows with NaN values\n",
    "\tif dropnan:\n",
    "\t\tagg.dropna(inplace=True)\n",
    "\treturn agg\n",
    " \n"
   ]
  },
  {
   "cell_type": "code",
   "execution_count": 3,
   "metadata": {},
   "outputs": [
    {
     "name": "stdout",
     "output_type": "stream",
     "text": [
      "   kWh  DDH  Area_m2  Const_Year  Month\n",
      "0  133  318     73.0        2007      1\n",
      "1  182  311     73.0        2007      2\n",
      "2  180  380     73.0        2007      3\n",
      "3  157  254     73.0        2007      4\n",
      "4   95  168     73.0        2007      5\n",
      "   var1(t-1)  var2(t-1)  var3(t-1)  var4(t-1)  var5(t-1)   var1(t)\n",
      "1   0.045799   0.825352   0.294118        0.0   0.000000  0.062672\n",
      "2   0.062672   0.805634   0.294118        0.0   0.090909  0.061983\n",
      "3   0.061983   1.000000   0.294118        0.0   0.181818  0.054063\n",
      "4   0.054063   0.645070   0.294118        0.0   0.272727  0.032713\n",
      "5   0.032713   0.402817   0.294118        0.0   0.363636  0.017562\n",
      "   var1(t-1)  var2(t-1)  var3(t-1)  var4(t-1)  var5(t-1)   var1(t)\n",
      "0   0.011019   0.090141   0.022624        0.0   0.454545  0.011708\n",
      "1   0.121901   0.681690   0.378281        0.0   0.272727  0.090565\n",
      "2   0.097796   0.152113   0.058824        0.0   0.727273  0.123623\n",
      "3   0.025138   0.819718   0.031674        0.0   1.000000  0.032713\n",
      "4   0.084366   0.078873   0.024434        0.0   0.545455  0.075758\n"
     ]
    }
   ],
   "source": [
    "# load dataset\n",
    "#dataset = read_csv('DFS04690650Rand.txt', header=0, index_col=0)\n",
    "dataset = read_csv('AllMonth.csv', header=0, sep='[,]', parse_dates=True, squeeze=True, dayfirst=True, engine='python') \n",
    "dataset.drop(dataset.columns[[0,2]], axis = 1, inplace = True)\n",
    "values = dataset.values\n",
    "print(dataset.head())\n",
    "# ensure all data is float\n",
    "values = values.astype('float32')\n",
    "#drop any negatives\n",
    "dataset = dataset.loc[dataset['kWh'] >= 0]\n",
    "# normalize features\n",
    "scaler = MinMaxScaler(feature_range=(0, 1))\n",
    "scaled = scaler.fit_transform(values)\n",
    "# frame as supervised learning\n",
    "reframed = series_to_supervised(scaled, 1, 1)\n",
    "reframed.dtypes\n",
    "# drop columns we don't want to predict\n",
    "reframed.drop(reframed.columns[[6,7,8,9]], axis=1, inplace=True)\n",
    "print(reframed.head())\n",
    "#shuffle rows\n",
    "reframed=reframed.sample(frac=1).reset_index(drop=True)\n",
    "print(reframed.head())"
   ]
  },
  {
   "cell_type": "code",
   "execution_count": 4,
   "metadata": {},
   "outputs": [
    {
     "name": "stdout",
     "output_type": "stream",
     "text": [
      "(20464, 1, 5) (20464,) (5117, 1, 5) (5117,)\n"
     ]
    }
   ],
   "source": [
    "# split into train and test sets\n",
    "values = reframed.values\n",
    "n_train_periods = int(len(values)*0.8)\n",
    "train = values[:n_train_periods, :]\n",
    "test = values[n_train_periods:, :]\n",
    "# split into input and outputs\n",
    "train_X, train_y = train[:, :-1], train[:, -1]\n",
    "test_X, test_y = test[:, :-1], test[:, -1]\n",
    "# reshape input to be 3D [samples, timesteps, features]\n",
    "train_X = train_X.reshape((train_X.shape[0], 1, train_X.shape[1]))\n",
    "test_X = test_X.reshape((test_X.shape[0], 1, test_X.shape[1]))\n",
    "print(train_X.shape, train_y.shape, test_X.shape, test_y.shape)\n",
    " \n"
   ]
  },
  {
   "cell_type": "code",
   "execution_count": 5,
   "metadata": {},
   "outputs": [
    {
     "name": "stdout",
     "output_type": "stream",
     "text": [
      "Epoch 1/50\n",
      "427/427 - 4s - loss: 0.0335 - val_loss: 0.0224\n",
      "Epoch 2/50\n",
      "427/427 - 1s - loss: 0.0222 - val_loss: 0.0218\n",
      "Epoch 3/50\n",
      "427/427 - 1s - loss: 0.0217 - val_loss: 0.0214\n",
      "Epoch 4/50\n",
      "427/427 - 1s - loss: 0.0215 - val_loss: 0.0213\n",
      "Epoch 5/50\n",
      "427/427 - 1s - loss: 0.0215 - val_loss: 0.0211\n",
      "Epoch 6/50\n",
      "427/427 - 1s - loss: 0.0214 - val_loss: 0.0211\n",
      "Epoch 7/50\n",
      "427/427 - 1s - loss: 0.0213 - val_loss: 0.0211\n",
      "Epoch 8/50\n",
      "427/427 - 1s - loss: 0.0213 - val_loss: 0.0210\n",
      "Epoch 9/50\n",
      "427/427 - 1s - loss: 0.0213 - val_loss: 0.0211\n",
      "Epoch 10/50\n",
      "427/427 - 1s - loss: 0.0213 - val_loss: 0.0210\n",
      "Epoch 11/50\n",
      "427/427 - 1s - loss: 0.0212 - val_loss: 0.0211\n",
      "Epoch 12/50\n",
      "427/427 - 1s - loss: 0.0212 - val_loss: 0.0211\n",
      "Epoch 13/50\n",
      "427/427 - 1s - loss: 0.0212 - val_loss: 0.0211\n",
      "Epoch 14/50\n",
      "427/427 - 1s - loss: 0.0212 - val_loss: 0.0210\n",
      "Epoch 15/50\n",
      "427/427 - 1s - loss: 0.0212 - val_loss: 0.0210\n",
      "Epoch 16/50\n",
      "427/427 - 1s - loss: 0.0212 - val_loss: 0.0209\n",
      "Epoch 17/50\n",
      "427/427 - 1s - loss: 0.0211 - val_loss: 0.0210\n",
      "Epoch 18/50\n",
      "427/427 - 1s - loss: 0.0211 - val_loss: 0.0208\n",
      "Epoch 19/50\n",
      "427/427 - 1s - loss: 0.0211 - val_loss: 0.0210\n",
      "Epoch 20/50\n",
      "427/427 - 1s - loss: 0.0211 - val_loss: 0.0209\n",
      "Epoch 21/50\n",
      "427/427 - 1s - loss: 0.0211 - val_loss: 0.0210\n",
      "Epoch 22/50\n",
      "427/427 - 1s - loss: 0.0211 - val_loss: 0.0208\n",
      "Epoch 23/50\n",
      "427/427 - 1s - loss: 0.0211 - val_loss: 0.0208\n",
      "Epoch 24/50\n",
      "427/427 - 1s - loss: 0.0210 - val_loss: 0.0208\n",
      "Epoch 25/50\n",
      "427/427 - 1s - loss: 0.0210 - val_loss: 0.0209\n",
      "Epoch 26/50\n",
      "427/427 - 1s - loss: 0.0210 - val_loss: 0.0208\n",
      "Epoch 27/50\n",
      "427/427 - 1s - loss: 0.0210 - val_loss: 0.0209\n",
      "Epoch 28/50\n",
      "427/427 - 1s - loss: 0.0209 - val_loss: 0.0208\n",
      "Epoch 29/50\n",
      "427/427 - 1s - loss: 0.0209 - val_loss: 0.0207\n",
      "Epoch 30/50\n",
      "427/427 - 1s - loss: 0.0209 - val_loss: 0.0207\n",
      "Epoch 31/50\n",
      "427/427 - 1s - loss: 0.0208 - val_loss: 0.0208\n",
      "Epoch 32/50\n",
      "427/427 - 1s - loss: 0.0208 - val_loss: 0.0207\n",
      "Epoch 33/50\n",
      "427/427 - 1s - loss: 0.0208 - val_loss: 0.0206\n",
      "Epoch 34/50\n",
      "427/427 - 1s - loss: 0.0207 - val_loss: 0.0205\n",
      "Epoch 35/50\n",
      "427/427 - 1s - loss: 0.0207 - val_loss: 0.0206\n",
      "Epoch 36/50\n",
      "427/427 - 1s - loss: 0.0206 - val_loss: 0.0205\n",
      "Epoch 37/50\n",
      "427/427 - 1s - loss: 0.0206 - val_loss: 0.0204\n",
      "Epoch 38/50\n",
      "427/427 - 1s - loss: 0.0205 - val_loss: 0.0205\n",
      "Epoch 39/50\n",
      "427/427 - 1s - loss: 0.0205 - val_loss: 0.0203\n",
      "Epoch 40/50\n",
      "427/427 - 1s - loss: 0.0204 - val_loss: 0.0203\n",
      "Epoch 41/50\n",
      "427/427 - 1s - loss: 0.0204 - val_loss: 0.0203\n",
      "Epoch 42/50\n",
      "427/427 - 1s - loss: 0.0203 - val_loss: 0.0203\n",
      "Epoch 43/50\n",
      "427/427 - 1s - loss: 0.0203 - val_loss: 0.0202\n",
      "Epoch 44/50\n",
      "427/427 - 1s - loss: 0.0203 - val_loss: 0.0201\n",
      "Epoch 45/50\n",
      "427/427 - 1s - loss: 0.0202 - val_loss: 0.0201\n",
      "Epoch 46/50\n",
      "427/427 - 1s - loss: 0.0202 - val_loss: 0.0199\n",
      "Epoch 47/50\n",
      "427/427 - 1s - loss: 0.0202 - val_loss: 0.0200\n",
      "Epoch 48/50\n",
      "427/427 - 1s - loss: 0.0201 - val_loss: 0.0200\n",
      "Epoch 49/50\n",
      "427/427 - 1s - loss: 0.0201 - val_loss: 0.0200\n",
      "Epoch 50/50\n",
      "427/427 - 1s - loss: 0.0201 - val_loss: 0.0199\n"
     ]
    },
    {
     "data": {
      "text/plain": [
       "<matplotlib.legend.Legend at 0x1a8a3a8deb0>"
      ]
     },
     "execution_count": 5,
     "metadata": {},
     "output_type": "execute_result"
    },
    {
     "data": {
      "image/png": "[encoded data removed]",
      "text/plain": [
       "<Figure size 432x288 with 1 Axes>"
      ]
     },
     "metadata": {
      "needs_background": "light"
     },
     "output_type": "display_data"
    }
   ],
   "source": [
    "# design network\n",
    "model = Sequential()\n",
    "model.add(LSTM(50, input_shape=(train_X.shape[1], train_X.shape[2])))\n",
    "model.add(Dense(1))\n",
    "model.compile(loss='mae', optimizer='adam')\n",
    "# fit network\n",
    "history = model.fit(train_X, train_y, epochs=50, batch_size=48, validation_data=(test_X, test_y), verbose=2, shuffle=False)\n",
    "# plot history\n",
    "pyplot.plot(history.history['loss'], label='train')\n",
    "pyplot.plot(history.history['val_loss'], label='test')\n",
    "pyplot.legend()\n",
    "#pyplot.show()\n"
   ]
  },
  {
   "cell_type": "code",
   "execution_count": 6,
   "metadata": {},
   "outputs": [],
   "source": [
    "# make a prediction\n",
    "yhat = model.predict(test_X)\n",
    "test_X = test_X.reshape((test_X.shape[0], test_X.shape[2]))\n",
    "# invert scaling for forecast\n",
    "inv_yhat = concatenate((yhat, test_X[:, 1:]), axis=1)\n",
    "inv_yhat = scaler.inverse_transform(inv_yhat)\n",
    "inv_yhat = inv_yhat[:,0]\n",
    "# invert scaling for actual\n",
    "test_y = test_y.reshape((len(test_y), 1))\n",
    "inv_y = concatenate((test_y, test_X[:, 1:]), axis=1)\n",
    "inv_y = scaler.inverse_transform(inv_y)\n",
    "inv_y = inv_y[:,0]"
   ]
  },
  {
   "cell_type": "code",
   "execution_count": 10,
   "metadata": {},
   "outputs": [
    {
     "name": "stdout",
     "output_type": "stream",
     "text": [
      "Actual Mean: 295.316\n",
      "Test RMSE: 111.140\n",
      "Percentage Error: 37.630\n"
     ]
    }
   ],
   "source": [
    "# calculate actual kWh mean\n",
    "actual_mean = dataset['kWh'].mean()\n",
    "print('Actual Mean: %.3f' % actual_mean)\n",
    "# calculate RMSE\n",
    "rmse = sqrt(mean_squared_error(inv_y, inv_yhat))\n",
    "print('Test RMSE: %.3f' % rmse)\n",
    "# calculate MSE\n",
    "#mse = mean_squared_error(inv_y, inv_yhat)\n",
    "#print('Test MSE: %.3f' % mse)\n",
    "# calculate mean % error\n",
    "error_mean = round(rmse/actual_mean*100,2)\n",
    "print('Percentage Error: %.3f' % error_mean)"
   ]
  },
  {
   "cell_type": "code",
   "execution_count": null,
   "metadata": {},
   "outputs": [],
   "source": []
  }
 ],
 "metadata": {
  "kernelspec": {
   "display_name": "Python 3",
   "language": "python",
   "name": "python3"
  },
  "language_info": {
   "codemirror_mode": {
    "name": "ipython",
    "version": 3
   },
   "file_extension": ".py",
   "mimetype": "text/x-python",
   "name": "python",
   "nbconvert_exporter": "python",
   "pygments_lexer": "ipython3",
   "version": "3.8.5"
  }
 },
 "nbformat": 4,
 "nbformat_minor": 2
}
