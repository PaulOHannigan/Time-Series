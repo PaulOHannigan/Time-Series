{
 "cells": [
  {
   "cell_type": "markdown",
   "metadata": {},
   "source": [
    "### https://towardsdatascience.com/how-to-forecast-sales-with-python-using-sarima-model-ba600992fa7d"
   ]
  },
  {
   "cell_type": "code",
   "execution_count": 1,
   "metadata": {},
   "outputs": [],
   "source": [
    "import warnings\n",
    "import itertools\n",
    "import numpy as np\n",
    "from numpy import concatenate, savetxt, unique, array, subtract\n",
    "import matplotlib.pyplot as plt\n",
    "warnings.filterwarnings(\"ignore\")\n",
    "plt.style.use('fivethirtyeight')\n",
    "import pandas as pd\n",
    "from pandas import merge, DataFrame, Series\n",
    "import statsmodels.api as sm\n",
    "import matplotlib\n",
    "from math import sqrt\n",
    "from statistics import mean\n",
    "matplotlib.rcParams['axes.labelsize'] = 14\n",
    "matplotlib.rcParams['xtick.labelsize'] = 12\n",
    "matplotlib.rcParams['ytick.labelsize'] = 12\n",
    "matplotlib.rcParams['text.color'] = 'g'\n"
   ]
  },
  {
   "cell_type": "code",
   "execution_count": 2,
   "metadata": {},
   "outputs": [],
   "source": [
    "df = pd.read_csv('CHL_Monthly_Stacked.csv', header=0, sep='[,]', parse_dates=True, squeeze=True, dayfirst=True, engine='python')\n",
    "df['Date'] = pd.to_datetime(df['Date'], dayfirst=True)\n",
    "df.columns =['MeterNo', 'WeekNo', 'kWh']\n",
    "y = df.set_index(['WeekNo'])\n"
   ]
  },
  {
   "cell_type": "code",
   "execution_count": 3,
   "metadata": {},
   "outputs": [],
   "source": [
    "meter_ids = unique(y['MeterNo']) \n",
    "df2 = pd.DataFrame(index =['WeekNo'], columns=['prediction', 'actual', 'error','mse','rmse'])\n",
    "pred_date = '2020-01-01'"
   ]
  },
  {
   "cell_type": "code",
   "execution_count": 4,
   "metadata": {},
   "outputs": [
    {
     "name": "stdout",
     "output_type": "stream",
     "text": [
      "Examples of parameter for SARIMA...\n",
      "SARIMAX: (0, 0, 1) x (0, 0, 1, 12)\n",
      "SARIMAX: (0, 0, 1) x (0, 1, 0, 12)\n",
      "SARIMAX: (0, 1, 0) x (0, 1, 1, 12)\n",
      "SARIMAX: (0, 1, 0) x (1, 0, 0, 12)\n"
     ]
    }
   ],
   "source": [
    "p = d = q = range(0, 2)\n",
    "pdq = list(itertools.product(p, d, q))\n",
    "seasonal_pdq = [(x[0], x[1], x[2], 12) for x in list(itertools.product(p, d, q))]\n",
    "print('Examples of parameter for SARIMA...')\n",
    "print('SARIMAX: {} x {}'.format(pdq[1], seasonal_pdq[1]))\n",
    "print('SARIMAX: {} x {}'.format(pdq[1], seasonal_pdq[2]))\n",
    "print('SARIMAX: {} x {}'.format(pdq[2], seasonal_pdq[3]))\n",
    "print('SARIMAX: {} x {}'.format(pdq[2], seasonal_pdq[4]))"
   ]
  },
  {
   "cell_type": "code",
   "execution_count": 6,
   "metadata": {},
   "outputs": [
    {
     "name": "stderr",
     "output_type": "stream",
     "text": [
      "C:\\Users\\Paul\\anaconda3\\lib\\site-packages\\statsmodels\\tsa\\base\\tsa_model.py:524: ValueWarning: No frequency information was provided, so inferred frequency MS will be used.\n",
      "  warnings.warn('No frequency information was'\n",
      "C:\\Users\\Paul\\anaconda3\\lib\\site-packages\\statsmodels\\tsa\\base\\tsa_model.py:524: ValueWarning: No frequency information was provided, so inferred frequency MS will be used.\n",
      "  warnings.warn('No frequency information was'\n"
     ]
    },
    {
     "name": "stdout",
     "output_type": "stream",
     "text": [
      "            prediction  actual  error     mse   rmse\n",
      "2020-01-01  191.275406     181  10.28  105.68  10.28\n",
      "2020-02-01  155.619192     157  -1.38    1.90   1.38\n",
      "2020-03-01  147.879303     121  26.88  722.53  26.88\n",
      "2020-04-01   80.473386      80   0.47    0.22   0.47\n",
      "2020-05-01   58.924402      72 -13.08  171.09  13.08\n",
      "2020-06-01   59.676918      61  -1.32    1.74   1.32\n",
      "2020-07-01   57.653148      59  -1.35    1.82   1.35\n",
      "2020-08-01   56.532348      55   1.53    2.34   1.53\n",
      "2020-09-01   57.288286      55   2.29    5.24   2.29\n",
      "2020-10-01   60.936712      61  -0.06    0.00   0.00\n",
      "2020-11-01  113.270564     117  -3.73   13.91   3.73\n",
      "2020-12-01  167.699991     192 -24.30  590.49  24.30\n",
      "2021-01-01  198.569989     222 -23.43  548.96  23.43\n",
      "2021-02-01  214.531268     239 -24.47  598.78  24.47\n"
     ]
    },
    {
     "name": "stderr",
     "output_type": "stream",
     "text": [
      "C:\\Users\\Paul\\anaconda3\\lib\\site-packages\\statsmodels\\tsa\\base\\tsa_model.py:524: ValueWarning: No frequency information was provided, so inferred frequency MS will be used.\n",
      "  warnings.warn('No frequency information was'\n",
      "C:\\Users\\Paul\\anaconda3\\lib\\site-packages\\statsmodels\\tsa\\base\\tsa_model.py:524: ValueWarning: No frequency information was provided, so inferred frequency MS will be used.\n",
      "  warnings.warn('No frequency information was'\n"
     ]
    },
    {
     "name": "stdout",
     "output_type": "stream",
     "text": [
      "             prediction  actual   error       mse    rmse\n",
      "2020-01-01   613.461930     635  -21.54    463.97   21.54\n",
      "2020-02-01   609.243575     644  -34.76   1208.26   34.76\n",
      "2020-03-01   552.078023     477   75.08   5637.01   75.08\n",
      "2020-04-01   319.074996     294   25.07    628.50   25.07\n",
      "2020-05-01   245.555460     291  -45.44   2064.79   45.44\n",
      "2020-06-01   269.419266     198   71.42   5100.82   71.42\n",
      "2020-07-01   140.279584     169  -28.72    824.84   28.72\n",
      "2020-08-01   174.772038     182   -7.23     52.27    7.23\n",
      "2020-09-01   219.932497     227   -7.07     49.98    7.07\n",
      "2020-10-01   274.625357     359  -84.37   7118.30   84.37\n",
      "2020-11-01   549.467905     616  -66.53   4426.24   66.53\n",
      "2020-12-01   779.608439     953 -173.39  30064.09  173.39\n",
      "2021-01-01  1070.095274     965  105.10  11046.01  105.10\n",
      "2021-02-01   868.202087     886  -17.80    316.84   17.80\n"
     ]
    },
    {
     "name": "stderr",
     "output_type": "stream",
     "text": [
      "C:\\Users\\Paul\\anaconda3\\lib\\site-packages\\statsmodels\\tsa\\base\\tsa_model.py:524: ValueWarning: No frequency information was provided, so inferred frequency MS will be used.\n",
      "  warnings.warn('No frequency information was'\n",
      "C:\\Users\\Paul\\anaconda3\\lib\\site-packages\\statsmodels\\tsa\\base\\tsa_model.py:524: ValueWarning: No frequency information was provided, so inferred frequency MS will be used.\n",
      "  warnings.warn('No frequency information was'\n"
     ]
    },
    {
     "name": "stdout",
     "output_type": "stream",
     "text": [
      "            prediction  actual   error       mse    rmse\n",
      "2020-01-01  684.348234     544  140.35  19698.12  140.35\n",
      "2020-02-01  454.509503     499  -44.49   1979.36   44.49\n",
      "2020-03-01  477.071363     458   19.07    363.66   19.07\n",
      "2020-04-01  385.188085     384    1.19      1.42    1.19\n",
      "2020-05-01  315.544858     282   33.54   1124.93   33.54\n",
      "2020-06-01  199.753134     194    5.75     33.06    5.75\n",
      "2020-07-01  180.051961     161   19.05    362.90   19.05\n",
      "2020-08-01  139.587554     133    6.59     43.43    6.59\n",
      "2020-09-01  145.384952     183  -37.62   1415.26   37.62\n",
      "2020-10-01  235.918694     322  -86.08   7409.77   86.08\n",
      "2020-11-01  496.791024     452   44.79   2006.14   44.79\n",
      "2020-12-01  565.125110     632  -66.87   4471.60   66.87\n",
      "2021-01-01  694.412305     597   97.41   9488.71   97.41\n",
      "2021-02-01  515.618050     495   20.62    425.18   20.62\n"
     ]
    },
    {
     "name": "stderr",
     "output_type": "stream",
     "text": [
      "C:\\Users\\Paul\\anaconda3\\lib\\site-packages\\statsmodels\\tsa\\base\\tsa_model.py:524: ValueWarning: No frequency information was provided, so inferred frequency MS will be used.\n",
      "  warnings.warn('No frequency information was'\n",
      "C:\\Users\\Paul\\anaconda3\\lib\\site-packages\\statsmodels\\tsa\\base\\tsa_model.py:524: ValueWarning: No frequency information was provided, so inferred frequency MS will be used.\n",
      "  warnings.warn('No frequency information was'\n"
     ]
    },
    {
     "name": "stdout",
     "output_type": "stream",
     "text": [
      "            prediction  actual  error      mse   rmse\n",
      "2020-01-01  388.308141     356  32.31  1043.94  32.31\n",
      "2020-02-01  311.911808     345 -33.09  1094.95  33.09\n",
      "2020-03-01  373.598728     301  72.60  5270.76  72.60\n",
      "2020-04-01  220.131198     237 -16.87   284.60  16.87\n",
      "2020-05-01  182.419164     220 -37.58  1412.26  37.58\n",
      "2020-06-01  187.462666     195  -7.54    56.85   7.54\n",
      "2020-07-01  181.396320     179   2.40     5.76   2.40\n",
      "2020-08-01  149.348873     163 -13.65   186.32  13.65\n",
      "2020-09-01  198.576818     182  16.58   274.90  16.58\n",
      "2020-10-01  226.958621     246 -19.04   362.52  19.04\n",
      "2020-11-01  290.534291     298  -7.47    55.80   7.47\n",
      "2020-12-01  346.110218     379 -32.89  1081.75  32.89\n",
      "2021-01-01  432.694707     466 -33.31  1109.56  33.31\n",
      "2021-02-01  452.480401     529 -76.52  5855.31  76.52\n"
     ]
    },
    {
     "name": "stderr",
     "output_type": "stream",
     "text": [
      "C:\\Users\\Paul\\anaconda3\\lib\\site-packages\\statsmodels\\tsa\\base\\tsa_model.py:524: ValueWarning: No frequency information was provided, so inferred frequency MS will be used.\n",
      "  warnings.warn('No frequency information was'\n",
      "C:\\Users\\Paul\\anaconda3\\lib\\site-packages\\statsmodels\\tsa\\base\\tsa_model.py:524: ValueWarning: No frequency information was provided, so inferred frequency MS will be used.\n",
      "  warnings.warn('No frequency information was'\n"
     ]
    },
    {
     "name": "stdout",
     "output_type": "stream",
     "text": [
      "            prediction  actual   error       mse    rmse\n",
      "2020-01-01  178.214272     169    9.21     84.82    9.21\n",
      "2020-02-01  -35.579557     132 -167.58  28083.06  167.58\n",
      "2020-03-01  118.332847     124   -5.67     32.15    5.67\n",
      "2020-04-01   62.163031     109  -46.84   2193.99   46.84\n",
      "2020-05-01   87.416492     109  -21.58    465.70   21.58\n",
      "2020-06-01   89.189756     103  -13.81    190.72   13.81\n",
      "2020-07-01  105.945440     111   -5.05     25.50    5.05\n",
      "2020-08-01  108.796966     115   -6.20     38.44    6.20\n",
      "2020-09-01  129.300495     118   11.30    127.69   11.30\n",
      "2020-10-01  128.738200     139  -10.26    105.27   10.26\n",
      "2020-11-01  249.675587     137  112.68  12696.78  112.68\n",
      "2020-12-01  192.759401     145   47.76   2281.02   47.76\n",
      "2021-01-01  106.360238     138  -31.64   1001.09   31.64\n",
      "2021-02-01   36.544347     115  -78.46   6155.97   78.46\n"
     ]
    },
    {
     "name": "stderr",
     "output_type": "stream",
     "text": [
      "C:\\Users\\Paul\\anaconda3\\lib\\site-packages\\statsmodels\\tsa\\base\\tsa_model.py:524: ValueWarning: No frequency information was provided, so inferred frequency MS will be used.\n",
      "  warnings.warn('No frequency information was'\n",
      "C:\\Users\\Paul\\anaconda3\\lib\\site-packages\\statsmodels\\tsa\\base\\tsa_model.py:524: ValueWarning: No frequency information was provided, so inferred frequency MS will be used.\n",
      "  warnings.warn('No frequency information was'\n"
     ]
    },
    {
     "name": "stdout",
     "output_type": "stream",
     "text": [
      "             prediction  actual   error       mse    rmse\n",
      "2020-01-01  1139.004032     959  180.00  32400.00  180.00\n",
      "2020-02-01   875.874576     827   48.87   2388.28   48.87\n",
      "2020-03-01   722.389303     587  135.39  18330.45  135.39\n",
      "2020-04-01   425.463273     331   94.46   8922.69   94.46\n",
      "2020-05-01   171.711679     211  -39.29   1543.70   39.29\n",
      "2020-06-01   111.759279     112   -0.24      0.06    0.24\n",
      "2020-07-01    95.729528     103   -7.27     52.85    7.27\n",
      "2020-08-01    91.943339      94   -2.06      4.24    2.06\n",
      "2020-09-01   174.693350     147   27.69    766.74   27.69\n",
      "2020-10-01   216.141814     286  -69.86   4880.42   69.86\n",
      "2020-11-01   560.136613     449  111.14  12352.10  111.14\n",
      "2020-12-01   558.165542     667 -108.83  11843.97  108.83\n",
      "2021-01-01   719.863474     622   97.86   9576.58   97.86\n",
      "2021-02-01   545.615959     505   40.62   1649.98   40.62\n"
     ]
    },
    {
     "name": "stderr",
     "output_type": "stream",
     "text": [
      "C:\\Users\\Paul\\anaconda3\\lib\\site-packages\\statsmodels\\tsa\\base\\tsa_model.py:524: ValueWarning: No frequency information was provided, so inferred frequency MS will be used.\n",
      "  warnings.warn('No frequency information was'\n",
      "C:\\Users\\Paul\\anaconda3\\lib\\site-packages\\statsmodels\\tsa\\base\\tsa_model.py:524: ValueWarning: No frequency information was provided, so inferred frequency MS will be used.\n",
      "  warnings.warn('No frequency information was'\n"
     ]
    },
    {
     "name": "stdout",
     "output_type": "stream",
     "text": [
      "            prediction  actual  error      mse   rmse\n",
      "2020-01-01  238.283293     302 -63.72  4060.24  63.72\n",
      "2020-02-01  347.668103     323  24.67   608.61  24.67\n",
      "2020-03-01  290.801524     249  41.80  1747.24  41.80\n",
      "2020-04-01  161.280553     163  -1.72     2.96   1.72\n",
      "2020-05-01  133.718717     158 -24.28   589.52  24.28\n",
      "2020-06-01  149.342685     145   4.34    18.84   4.34\n",
      "2020-07-01  127.672372     126   1.67     2.79   1.67\n",
      "2020-08-01  110.171348     108   2.17     4.71   2.17\n",
      "2020-09-01  125.919378     141 -15.08   227.41  15.08\n",
      "2020-10-01  165.446902     232 -66.55  4428.90  66.55\n",
      "2020-11-01  297.605665     223  74.61  5566.65  74.61\n",
      "2020-12-01  253.396493     227  26.40   696.96  26.40\n",
      "2021-01-01  246.252623     245   1.25     1.56   1.25\n",
      "2021-02-01  253.263763     242  11.26   126.79  11.26\n"
     ]
    },
    {
     "name": "stderr",
     "output_type": "stream",
     "text": [
      "C:\\Users\\Paul\\anaconda3\\lib\\site-packages\\statsmodels\\tsa\\base\\tsa_model.py:524: ValueWarning: No frequency information was provided, so inferred frequency MS will be used.\n",
      "  warnings.warn('No frequency information was'\n",
      "C:\\Users\\Paul\\anaconda3\\lib\\site-packages\\statsmodels\\tsa\\base\\tsa_model.py:524: ValueWarning: No frequency information was provided, so inferred frequency MS will be used.\n",
      "  warnings.warn('No frequency information was'\n"
     ]
    },
    {
     "name": "stdout",
     "output_type": "stream",
     "text": [
      "            prediction  actual  error      mse   rmse\n",
      "2020-01-01  546.280491     501  45.28  2050.28  45.28\n",
      "2020-02-01  453.565124     459  -5.43    29.48   5.43\n",
      "2020-03-01  457.464888     426  31.46   989.73  31.46\n",
      "2020-04-01  362.028164     362   0.03     0.00   0.00\n",
      "2020-05-01  305.049569     254  51.05  2606.10  51.05\n",
      "2020-06-01  171.183169     163   8.18    66.91   8.18\n",
      "2020-07-01  150.160650     137  13.16   173.19  13.16\n",
      "2020-08-01  128.094528     116  12.09   146.17  12.09\n",
      "2020-09-01  171.337346     147  24.34   592.44  24.34\n",
      "2020-10-01  192.891813     233 -40.11  1608.81  40.11\n",
      "2020-11-01  310.485333     272  38.49  1481.48  38.49\n",
      "2020-12-01  310.539749     336 -25.46   648.21  25.46\n",
      "2021-01-01  360.844834     360   0.84     0.71   0.84\n",
      "2021-02-01  324.677252     354 -29.32   859.66  29.32\n"
     ]
    },
    {
     "name": "stderr",
     "output_type": "stream",
     "text": [
      "C:\\Users\\Paul\\anaconda3\\lib\\site-packages\\statsmodels\\tsa\\base\\tsa_model.py:524: ValueWarning: No frequency information was provided, so inferred frequency MS will be used.\n",
      "  warnings.warn('No frequency information was'\n",
      "C:\\Users\\Paul\\anaconda3\\lib\\site-packages\\statsmodels\\tsa\\base\\tsa_model.py:524: ValueWarning: No frequency information was provided, so inferred frequency MS will be used.\n",
      "  warnings.warn('No frequency information was'\n"
     ]
    },
    {
     "name": "stdout",
     "output_type": "stream",
     "text": [
      "            prediction  actual  error      mse   rmse\n",
      "2020-01-01   -9.080073      37 -46.08  2123.37  46.08\n",
      "2020-02-01   21.544331      42 -20.46   418.61  20.46\n",
      "2020-03-01   35.303579      59 -23.70   561.69  23.70\n",
      "2020-04-01   41.547516      68 -26.45   699.60  26.45\n",
      "2020-05-01   47.625158      56  -8.37    70.06   8.37\n",
      "2020-06-01   37.144321      45  -7.86    61.78   7.86\n",
      "2020-07-01   29.189612      69 -39.81  1584.84  39.81\n",
      "2020-08-01   46.490291      85 -38.51  1483.02  38.51\n",
      "2020-09-01   61.806227      94 -32.19  1036.20  32.19\n",
      "2020-10-01   69.325557     125 -55.67  3099.15  55.67\n",
      "2020-11-01  107.682238     100   7.68    58.98   7.68\n",
      "2020-12-01   91.065070      78  13.07   170.82  13.07\n",
      "2021-01-01   59.771115      72 -12.23   149.57  12.23\n",
      "2021-02-01   62.104535      56   6.10    37.21   6.10\n"
     ]
    },
    {
     "name": "stderr",
     "output_type": "stream",
     "text": [
      "C:\\Users\\Paul\\anaconda3\\lib\\site-packages\\statsmodels\\tsa\\base\\tsa_model.py:524: ValueWarning: No frequency information was provided, so inferred frequency MS will be used.\n",
      "  warnings.warn('No frequency information was'\n",
      "C:\\Users\\Paul\\anaconda3\\lib\\site-packages\\statsmodels\\tsa\\base\\tsa_model.py:524: ValueWarning: No frequency information was provided, so inferred frequency MS will be used.\n",
      "  warnings.warn('No frequency information was'\n"
     ]
    },
    {
     "name": "stdout",
     "output_type": "stream",
     "text": [
      "            prediction  actual   error       mse    rmse\n",
      "2020-01-01  302.457555     428 -125.54  15760.29  125.54\n",
      "2020-02-01  460.246081     496  -35.75   1278.06   35.75\n",
      "2020-03-01  350.980895     372  -21.02    441.84   21.02\n",
      "2020-04-01  224.933148     236  -11.07    122.54   11.07\n",
      "2020-05-01  199.159833     173   26.16    684.35   26.16\n",
      "2020-06-01  119.979421     118    1.98      3.92    1.98\n",
      "2020-07-01  119.842182     112    7.84     61.47    7.84\n",
      "2020-08-01  105.129456     105    0.13      0.02    0.14\n",
      "2020-09-01  122.773231     116    6.77     45.83    6.77\n",
      "2020-10-01  131.775530     154  -22.22    493.73   22.22\n",
      "2020-11-01  380.554054     372    8.55     73.10    8.55\n",
      "2020-12-01  549.331832     648  -98.67   9735.77   98.67\n",
      "2021-01-01  733.803349     561  172.80  29859.84  172.80\n",
      "2021-02-01  409.134515     399   10.13    102.62   10.13\n"
     ]
    },
    {
     "name": "stderr",
     "output_type": "stream",
     "text": [
      "C:\\Users\\Paul\\anaconda3\\lib\\site-packages\\statsmodels\\tsa\\base\\tsa_model.py:524: ValueWarning: No frequency information was provided, so inferred frequency MS will be used.\n",
      "  warnings.warn('No frequency information was'\n",
      "C:\\Users\\Paul\\anaconda3\\lib\\site-packages\\statsmodels\\tsa\\base\\tsa_model.py:524: ValueWarning: No frequency information was provided, so inferred frequency MS will be used.\n",
      "  warnings.warn('No frequency information was'\n"
     ]
    },
    {
     "name": "stdout",
     "output_type": "stream",
     "text": [
      "            prediction  actual   error       mse    rmse\n",
      "2020-01-01  606.125602     666  -59.87   3584.42   59.87\n",
      "2020-02-01  627.705300     678  -50.29   2529.08   50.29\n",
      "2020-03-01  679.715158     627   52.72   2779.40   52.72\n",
      "2020-04-01  534.373189     529    5.37     28.84    5.37\n",
      "2020-05-01  472.880916     445   27.88    777.29   27.88\n",
      "2020-06-01  372.908145     360   12.91    166.67   12.91\n",
      "2020-07-01  193.781328     239  -45.22   2044.85   45.22\n",
      "2020-08-01  142.664768     143   -0.34      0.12    0.35\n",
      "2020-09-01  309.010625     225   84.01   7057.68   84.01\n",
      "2020-10-01  331.961704     439 -107.04  11457.56  107.04\n",
      "2020-11-01  578.301997     552   26.30    691.69   26.30\n",
      "2020-12-01  651.986271     719  -67.01   4490.34   67.01\n",
      "2021-01-01  770.137188     692   78.14   6105.86   78.14\n",
      "2021-02-01  623.085899     643  -19.91    396.41   19.91\n"
     ]
    },
    {
     "name": "stderr",
     "output_type": "stream",
     "text": [
      "C:\\Users\\Paul\\anaconda3\\lib\\site-packages\\statsmodels\\tsa\\base\\tsa_model.py:524: ValueWarning: No frequency information was provided, so inferred frequency MS will be used.\n",
      "  warnings.warn('No frequency information was'\n",
      "C:\\Users\\Paul\\anaconda3\\lib\\site-packages\\statsmodels\\tsa\\base\\tsa_model.py:524: ValueWarning: No frequency information was provided, so inferred frequency MS will be used.\n",
      "  warnings.warn('No frequency information was'\n"
     ]
    },
    {
     "name": "stdout",
     "output_type": "stream",
     "text": [
      "            prediction  actual  error      mse   rmse\n",
      "2020-01-01  777.373148     701  76.37  5832.38  76.37\n",
      "2020-02-01  635.668212     647 -11.33   128.37  11.33\n",
      "2020-03-01  653.949398     613  40.95  1676.90  40.95\n",
      "2020-04-01  530.789782     530   0.79     0.62   0.79\n",
      "2020-05-01  411.923880     473 -61.08  3730.77  61.08\n",
      "2020-06-01  400.222937     406  -5.78    33.41   5.78\n",
      "2020-07-01  369.823239     383 -13.18   173.71  13.18\n",
      "2020-08-01  364.480502     356   8.48    71.91   8.48\n",
      "2020-09-01  439.083597     392  47.08  2216.53  47.08\n",
      "2020-10-01  451.930786     518 -66.07  4365.24  66.07\n",
      "2020-11-01  672.456131     588  84.46  7133.49  84.46\n",
      "2020-12-01  654.977019     708 -53.02  2811.12  53.02\n",
      "2021-01-01  771.026846     716  55.03  3028.30  55.03\n",
      "2021-02-01  646.190073     657 -10.81   116.86  10.81\n"
     ]
    },
    {
     "name": "stderr",
     "output_type": "stream",
     "text": [
      "C:\\Users\\Paul\\anaconda3\\lib\\site-packages\\statsmodels\\tsa\\base\\tsa_model.py:524: ValueWarning: No frequency information was provided, so inferred frequency MS will be used.\n",
      "  warnings.warn('No frequency information was'\n",
      "C:\\Users\\Paul\\anaconda3\\lib\\site-packages\\statsmodels\\tsa\\base\\tsa_model.py:524: ValueWarning: No frequency information was provided, so inferred frequency MS will be used.\n",
      "  warnings.warn('No frequency information was'\n"
     ]
    },
    {
     "name": "stdout",
     "output_type": "stream",
     "text": [
      "            prediction  actual   error       mse    rmse\n",
      "2020-01-01  332.921325     408  -75.08   5637.01   75.08\n",
      "2020-02-01  416.616651     440  -23.38    546.62   23.38\n",
      "2020-03-01  356.238627     277   79.24   6278.98   79.24\n",
      "2020-04-01  136.046108     114   22.05    486.20   22.05\n",
      "2020-05-01   60.323048      82  -21.68    470.02   21.68\n",
      "2020-06-01   61.366813      56    5.37     28.84    5.37\n",
      "2020-07-01   45.845391      58  -12.15    147.62   12.15\n",
      "2020-08-01   61.814670      58    3.81     14.52    3.81\n",
      "2020-09-01   74.378151      83   -8.62     74.30    8.62\n",
      "2020-10-01  106.996134     147  -40.00   1600.00   40.00\n",
      "2020-11-01  321.704070     352  -30.30    918.09   30.30\n",
      "2020-12-01  496.992749     611 -114.01  12998.28  114.01\n",
      "2021-01-01  682.368911     619   63.37   4015.76   63.37\n",
      "2021-02-01  541.519067     570  -28.48    811.11   28.48\n"
     ]
    },
    {
     "name": "stderr",
     "output_type": "stream",
     "text": [
      "C:\\Users\\Paul\\anaconda3\\lib\\site-packages\\statsmodels\\tsa\\base\\tsa_model.py:524: ValueWarning: No frequency information was provided, so inferred frequency MS will be used.\n",
      "  warnings.warn('No frequency information was'\n",
      "C:\\Users\\Paul\\anaconda3\\lib\\site-packages\\statsmodels\\tsa\\base\\tsa_model.py:524: ValueWarning: No frequency information was provided, so inferred frequency MS will be used.\n",
      "  warnings.warn('No frequency information was'\n"
     ]
    },
    {
     "name": "stdout",
     "output_type": "stream",
     "text": [
      "             prediction  actual   error        mse    rmse\n",
      "2020-01-01  1405.142333     868  537.14  288519.38  537.14\n",
      "2020-02-01   629.034533     813 -183.97   33844.96  183.97\n",
      "2020-03-01   400.048121     583 -182.95   33470.70  182.95\n",
      "2020-04-01   233.459567     336 -102.54   10514.45  102.54\n",
      "2020-05-01   283.240909     249   34.24    1172.38   34.24\n",
      "2020-06-01   120.381050     172  -51.62    2664.62   51.62\n",
      "2020-07-01   183.415442     154   29.42     865.54   29.42\n",
      "2020-08-01   107.155915     136  -28.84     831.75   28.84\n",
      "2020-09-01   248.774303     177   71.77    5150.93   71.77\n",
      "2020-10-01   220.166850     293  -72.83    5304.21   72.83\n",
      "2020-11-01   668.461751     424  244.46   59760.69  244.46\n",
      "2020-12-01   526.822792     604  -77.18    5956.75   77.18\n",
      "2021-01-01  1115.722189     568  547.72  299997.20  547.72\n",
      "2021-02-01   290.258866     467 -176.74   31237.03  176.74\n"
     ]
    },
    {
     "name": "stderr",
     "output_type": "stream",
     "text": [
      "C:\\Users\\Paul\\anaconda3\\lib\\site-packages\\statsmodels\\tsa\\base\\tsa_model.py:524: ValueWarning: No frequency information was provided, so inferred frequency MS will be used.\n",
      "  warnings.warn('No frequency information was'\n",
      "C:\\Users\\Paul\\anaconda3\\lib\\site-packages\\statsmodels\\tsa\\base\\tsa_model.py:524: ValueWarning: No frequency information was provided, so inferred frequency MS will be used.\n",
      "  warnings.warn('No frequency information was'\n"
     ]
    },
    {
     "name": "stdout",
     "output_type": "stream",
     "text": [
      "            prediction  actual   error       mse    rmse\n",
      "2020-01-01  913.003748     853   60.00   3600.00   60.00\n",
      "2020-02-01  832.429035     741   91.43   8359.44   91.43\n",
      "2020-03-01  634.025461     574   60.03   3603.60   60.03\n",
      "2020-04-01  426.930741     384   42.93   1842.98   42.93\n",
      "2020-05-01  262.288437     310  -47.71   2276.24   47.71\n",
      "2020-06-01  199.237043     240  -40.76   1661.38   40.76\n",
      "2020-07-01  250.536423     193   57.54   3310.85   57.54\n",
      "2020-08-01  199.784192     154   45.78   2095.81   45.78\n",
      "2020-09-01  214.830861     218   -3.17     10.05    3.17\n",
      "2020-10-01  288.124598     391 -102.88  10584.29  102.88\n",
      "2020-11-01  549.992899     513   36.99   1368.26   36.99\n",
      "2020-12-01  689.513050     688    1.51      2.28    1.51\n",
      "2021-01-01  704.045823     566  138.05  19057.80  138.05\n",
      "2021-02-01  579.974342     359  220.97  48827.74  220.97\n"
     ]
    },
    {
     "name": "stderr",
     "output_type": "stream",
     "text": [
      "C:\\Users\\Paul\\anaconda3\\lib\\site-packages\\statsmodels\\tsa\\base\\tsa_model.py:524: ValueWarning: No frequency information was provided, so inferred frequency MS will be used.\n",
      "  warnings.warn('No frequency information was'\n",
      "C:\\Users\\Paul\\anaconda3\\lib\\site-packages\\statsmodels\\tsa\\base\\tsa_model.py:524: ValueWarning: No frequency information was provided, so inferred frequency MS will be used.\n",
      "  warnings.warn('No frequency information was'\n"
     ]
    },
    {
     "name": "stdout",
     "output_type": "stream",
     "text": [
      "            prediction  actual   error        mse    rmse\n",
      "2020-01-01  205.033061     162   43.03    1851.58   43.03\n",
      "2020-02-01   86.248687     103  -16.75     280.56   16.75\n",
      "2020-03-01  131.000309     258 -127.00   16129.00  127.00\n",
      "2020-04-01  307.747173     367  -59.25    3510.56   59.25\n",
      "2020-05-01  130.149267     310 -179.85   32346.02  179.85\n",
      "2020-06-01  299.012212     253   46.01    2116.92   46.01\n",
      "2020-07-01  221.054712     232  -10.95     119.90   10.95\n",
      "2020-08-01  239.771953     211   28.77     827.71   28.77\n",
      "2020-09-01  253.536763     -76  329.54  108596.61  329.54\n",
      "2020-10-01 -119.294174    -753  633.71  401588.36  633.71\n",
      "2020-11-01 -850.141808    -256 -594.14  353002.34  594.14\n",
      "2020-12-01   12.928849     293 -280.07   78439.20  280.07\n",
      "2021-01-01  259.706626     291  -31.29     979.06   31.29\n",
      "2021-02-01  236.124528     260  -23.88     570.25   23.88\n"
     ]
    },
    {
     "name": "stderr",
     "output_type": "stream",
     "text": [
      "C:\\Users\\Paul\\anaconda3\\lib\\site-packages\\statsmodels\\tsa\\base\\tsa_model.py:524: ValueWarning: No frequency information was provided, so inferred frequency MS will be used.\n",
      "  warnings.warn('No frequency information was'\n",
      "C:\\Users\\Paul\\anaconda3\\lib\\site-packages\\statsmodels\\tsa\\base\\tsa_model.py:524: ValueWarning: No frequency information was provided, so inferred frequency MS will be used.\n",
      "  warnings.warn('No frequency information was'\n"
     ]
    },
    {
     "name": "stdout",
     "output_type": "stream",
     "text": [
      "             prediction  actual   error        mse    rmse\n",
      "2020-01-01  1039.850031     466  573.85  329303.82  573.85\n",
      "2020-02-01    70.134449     106  -35.87    1286.66   35.87\n",
      "2020-03-01    26.427790     100  -73.57    5412.54   73.57\n",
      "2020-04-01     4.473207      87  -82.53    6811.20   82.53\n",
      "2020-05-01   108.653676      92   16.65     277.22   16.65\n",
      "2020-06-01    42.504602      89  -46.50    2162.25   46.50\n",
      "2020-07-01   131.675778      91   40.68    1654.86   40.68\n",
      "2020-08-01    59.920501      90  -30.08     904.81   30.08\n",
      "2020-09-01   111.073271     105    6.07      36.84    6.07\n",
      "2020-10-01   108.756175     153  -44.24    1957.18   44.24\n",
      "2020-11-01   355.699207     224  131.70   17344.89  131.70\n",
      "2020-12-01   265.906036     320  -54.09    2925.73   54.09\n",
      "2021-01-01   397.072875     403   -5.93      35.16    5.93\n",
      "2021-02-01   377.120934     466  -88.88    7899.65   88.88\n"
     ]
    },
    {
     "name": "stderr",
     "output_type": "stream",
     "text": [
      "C:\\Users\\Paul\\anaconda3\\lib\\site-packages\\statsmodels\\tsa\\base\\tsa_model.py:524: ValueWarning: No frequency information was provided, so inferred frequency MS will be used.\n",
      "  warnings.warn('No frequency information was'\n",
      "C:\\Users\\Paul\\anaconda3\\lib\\site-packages\\statsmodels\\tsa\\base\\tsa_model.py:524: ValueWarning: No frequency information was provided, so inferred frequency MS will be used.\n",
      "  warnings.warn('No frequency information was'\n"
     ]
    },
    {
     "name": "stdout",
     "output_type": "stream",
     "text": [
      "            prediction  actual   error       mse    rmse\n",
      "2020-01-01   98.504132     104   -5.50     30.25    5.50\n",
      "2020-02-01   70.638787     122  -51.36   2637.85   51.36\n",
      "2020-03-01  101.024852     102   -0.98      0.96    0.98\n",
      "2020-04-01   67.613082      75   -7.39     54.61    7.39\n",
      "2020-05-01   50.872691      60   -9.13     83.36    9.13\n",
      "2020-06-01   39.659966      45   -5.34     28.52    5.34\n",
      "2020-07-01   41.470025      43   -1.53      2.34    1.53\n",
      "2020-08-01   39.454569      42   -2.55      6.50    2.55\n",
      "2020-09-01   53.090591      92  -38.91   1513.99   38.91\n",
      "2020-10-01  115.729296     220 -104.27  10872.23  104.27\n",
      "2020-11-01  278.785062     235   43.79   1917.56   43.79\n",
      "2020-12-01  234.235560     267  -32.76   1073.22   32.76\n",
      "2021-01-01  316.468372     325   -8.53     72.76    8.53\n",
      "2021-02-01  321.050884     593 -271.95  73956.80  271.95\n"
     ]
    },
    {
     "name": "stderr",
     "output_type": "stream",
     "text": [
      "C:\\Users\\Paul\\anaconda3\\lib\\site-packages\\statsmodels\\tsa\\base\\tsa_model.py:524: ValueWarning: No frequency information was provided, so inferred frequency MS will be used.\n",
      "  warnings.warn('No frequency information was'\n",
      "C:\\Users\\Paul\\anaconda3\\lib\\site-packages\\statsmodels\\tsa\\base\\tsa_model.py:524: ValueWarning: No frequency information was provided, so inferred frequency MS will be used.\n",
      "  warnings.warn('No frequency information was'\n"
     ]
    },
    {
     "name": "stdout",
     "output_type": "stream",
     "text": [
      "            prediction  actual   error       mse    rmse\n",
      "2020-01-01  591.383690     751 -159.62  25478.54  159.62\n",
      "2020-02-01  760.694396     809  -48.31   2333.86   48.31\n",
      "2020-03-01  672.638321     565  107.64  11586.37  107.64\n",
      "2020-04-01  333.823581     307   26.82    719.31   26.82\n",
      "2020-05-01  221.996986     280  -58.00   3364.00   58.00\n",
      "2020-06-01  274.060413     246   28.06    787.36   28.06\n",
      "2020-07-01  220.472063     203   17.47    305.20   17.47\n",
      "2020-08-01  185.812835     168   17.81    317.20   17.81\n",
      "2020-09-01  216.690592     206   10.69    114.28   10.69\n",
      "2020-10-01  259.545347     319  -59.45   3534.30   59.45\n",
      "2020-11-01  570.463451     443  127.46  16246.05  127.46\n",
      "2020-12-01  574.647517     617  -42.35   1793.52   42.35\n",
      "2021-01-01  658.522480     587   71.52   5115.11   71.52\n",
      "2021-02-01  490.141534     492   -1.86      3.46    1.86\n"
     ]
    },
    {
     "name": "stderr",
     "output_type": "stream",
     "text": [
      "C:\\Users\\Paul\\anaconda3\\lib\\site-packages\\statsmodels\\tsa\\base\\tsa_model.py:524: ValueWarning: No frequency information was provided, so inferred frequency MS will be used.\n",
      "  warnings.warn('No frequency information was'\n",
      "C:\\Users\\Paul\\anaconda3\\lib\\site-packages\\statsmodels\\tsa\\base\\tsa_model.py:524: ValueWarning: No frequency information was provided, so inferred frequency MS will be used.\n",
      "  warnings.warn('No frequency information was'\n"
     ]
    },
    {
     "name": "stdout",
     "output_type": "stream",
     "text": [
      "            prediction  actual   error       mse    rmse\n",
      "2020-01-01  473.341086     448   25.34    642.12   25.34\n",
      "2020-02-01  391.604152     397   -5.40     29.16    5.40\n",
      "2020-03-01  403.564606     457  -53.44   2855.83   53.44\n",
      "2020-04-01  434.771425     470  -35.23   1241.15   35.23\n",
      "2020-05-01  393.002943     408  -15.00    225.00   15.00\n",
      "2020-06-01  338.423406     340   -1.58      2.50    1.58\n",
      "2020-07-01  327.954947     284   43.95   1931.60   43.95\n",
      "2020-08-01  239.757146     235    4.76     22.66    4.76\n",
      "2020-09-01  270.134791     271   -0.87      0.76    0.87\n",
      "2020-10-01  309.756965     385  -75.24   5661.06   75.24\n",
      "2020-11-01  533.352629     380  153.35  23516.22  153.35\n",
      "2020-12-01  411.971141     400   11.97    143.28   11.97\n",
      "2021-01-01  394.876149     364   30.88    953.57   30.88\n",
      "2021-02-01  303.741809     282   21.74    472.63   21.74\n"
     ]
    },
    {
     "name": "stderr",
     "output_type": "stream",
     "text": [
      "C:\\Users\\Paul\\anaconda3\\lib\\site-packages\\statsmodels\\tsa\\base\\tsa_model.py:524: ValueWarning: No frequency information was provided, so inferred frequency MS will be used.\n",
      "  warnings.warn('No frequency information was'\n",
      "C:\\Users\\Paul\\anaconda3\\lib\\site-packages\\statsmodels\\tsa\\base\\tsa_model.py:524: ValueWarning: No frequency information was provided, so inferred frequency MS will be used.\n",
      "  warnings.warn('No frequency information was'\n"
     ]
    },
    {
     "name": "stdout",
     "output_type": "stream",
     "text": [
      "            prediction  actual   error       mse    rmse\n",
      "2020-01-01  851.317249     770   81.32   6612.94   81.32\n",
      "2020-02-01  688.524365     697   -8.48     71.91    8.48\n",
      "2020-03-01  679.004898     722  -43.00   1849.00   43.00\n",
      "2020-04-01  659.338031     681  -21.66    469.16   21.66\n",
      "2020-05-01  632.366065     574   58.37   3407.06   58.37\n",
      "2020-06-01  475.508373     465   10.51    110.46   10.51\n",
      "2020-07-01  416.535727     369   47.54   2260.05   47.54\n",
      "2020-08-01  303.218980     287   16.22    263.09   16.22\n",
      "2020-09-01  322.806232     317    5.81     33.76    5.81\n",
      "2020-10-01  369.151777     423  -53.85   2899.82   53.85\n",
      "2020-11-01  572.435418     469  103.44  10699.83  103.44\n",
      "2020-12-01  529.786630     554  -24.21    586.12   24.21\n",
      "2021-01-01  597.881783     628  -30.12    907.21   30.12\n",
      "2021-02-01  599.629659     659  -59.37   3524.80   59.37\n"
     ]
    },
    {
     "name": "stderr",
     "output_type": "stream",
     "text": [
      "C:\\Users\\Paul\\anaconda3\\lib\\site-packages\\statsmodels\\tsa\\base\\tsa_model.py:524: ValueWarning: No frequency information was provided, so inferred frequency MS will be used.\n",
      "  warnings.warn('No frequency information was'\n",
      "C:\\Users\\Paul\\anaconda3\\lib\\site-packages\\statsmodels\\tsa\\base\\tsa_model.py:524: ValueWarning: No frequency information was provided, so inferred frequency MS will be used.\n",
      "  warnings.warn('No frequency information was'\n"
     ]
    },
    {
     "name": "stdout",
     "output_type": "stream",
     "text": [
      "             prediction  actual   error       mse    rmse\n",
      "2020-01-01  1472.061293    1608 -135.94  18479.68  135.94\n",
      "2020-02-01  1473.531782    1592 -118.47  14035.14  118.47\n",
      "2020-03-01  1629.469105    1385  244.47  59765.58  244.47\n",
      "2020-04-01  1158.112495    1087   71.11   5056.63   71.11\n",
      "2020-05-01   831.909536    1033 -201.09  40437.19  201.09\n",
      "2020-06-01   861.771122     938  -76.23   5811.01   76.23\n",
      "2020-07-01   780.143379     821  -40.86   1669.54   40.86\n",
      "2020-08-01   705.535385     714   -8.46     71.57    8.46\n",
      "2020-09-01  1099.466131     856  243.47  59277.64  243.47\n",
      "2020-10-01  1107.522208    1284 -176.48  31145.19  176.48\n",
      "2020-11-01  1566.335996    1360  206.34  42576.20  206.34\n",
      "2020-12-01  1488.365231    1544  -55.63   3094.70   55.63\n",
      "2021-01-01  1716.409171    1478  238.41  56839.33  238.41\n",
      "2021-02-01  1348.809623    1250   98.81   9763.42   98.81\n"
     ]
    },
    {
     "name": "stderr",
     "output_type": "stream",
     "text": [
      "C:\\Users\\Paul\\anaconda3\\lib\\site-packages\\statsmodels\\tsa\\base\\tsa_model.py:524: ValueWarning: No frequency information was provided, so inferred frequency MS will be used.\n",
      "  warnings.warn('No frequency information was'\n",
      "C:\\Users\\Paul\\anaconda3\\lib\\site-packages\\statsmodels\\tsa\\base\\tsa_model.py:524: ValueWarning: No frequency information was provided, so inferred frequency MS will be used.\n",
      "  warnings.warn('No frequency information was'\n"
     ]
    },
    {
     "name": "stdout",
     "output_type": "stream",
     "text": [
      "             prediction  actual   error       mse    rmse\n",
      "2020-01-01   914.967520     955  -40.03   1602.40   40.03\n",
      "2020-02-01   893.985981     942  -48.01   2304.96   48.01\n",
      "2020-03-01   910.196408     824   86.20   7430.44   86.20\n",
      "2020-04-01   662.571712     650   12.57    158.00   12.57\n",
      "2020-05-01   516.780862     537  -20.22    408.85   20.22\n",
      "2020-06-01   429.293689     426    3.29     10.82    3.29\n",
      "2020-07-01   400.853325     365   35.85   1285.22   35.85\n",
      "2020-08-01   324.107554     312   12.11    146.65   12.11\n",
      "2020-09-01   391.650954     417  -25.35    642.62   25.35\n",
      "2020-10-01   510.076407     706 -195.92  38384.65  195.92\n",
      "2020-11-01  1004.709089     797  207.71  43143.44  207.71\n",
      "2020-12-01   870.797437     958  -87.20   7603.84   87.20\n",
      "2021-01-01  1056.903294     934  122.90  15104.41  122.90\n",
      "2021-02-01   805.286477     813   -7.71     59.44    7.71\n"
     ]
    },
    {
     "name": "stderr",
     "output_type": "stream",
     "text": [
      "C:\\Users\\Paul\\anaconda3\\lib\\site-packages\\statsmodels\\tsa\\base\\tsa_model.py:524: ValueWarning: No frequency information was provided, so inferred frequency MS will be used.\n",
      "  warnings.warn('No frequency information was'\n",
      "C:\\Users\\Paul\\anaconda3\\lib\\site-packages\\statsmodels\\tsa\\base\\tsa_model.py:524: ValueWarning: No frequency information was provided, so inferred frequency MS will be used.\n",
      "  warnings.warn('No frequency information was'\n"
     ]
    },
    {
     "name": "stdout",
     "output_type": "stream",
     "text": [
      "            prediction  actual   error       mse    rmse\n",
      "2020-01-01  784.010304     708   76.01   5777.52   76.01\n",
      "2020-02-01  614.766108     633  -18.23    332.33   18.23\n",
      "2020-03-01  703.610746     686   17.61    310.11   17.61\n",
      "2020-04-01  638.066877     670  -31.93   1019.52   31.93\n",
      "2020-05-01  500.742138     549  -48.26   2329.03   48.26\n",
      "2020-06-01  424.426043     433   -8.57     73.44    8.57\n",
      "2020-07-01  407.352118     404    3.35     11.22    3.35\n",
      "2020-08-01  384.651942     373   11.65    135.72   11.65\n",
      "2020-09-01  494.462845     432   62.46   3901.25   62.46\n",
      "2020-10-01  511.418516     618 -106.58  11359.30  106.58\n",
      "2020-11-01  770.138023     627  143.14  20489.06  143.14\n",
      "2020-12-01  644.294267     681  -36.71   1347.62   36.71\n",
      "2021-01-01  720.956351     745  -24.04    577.92   24.04\n",
      "2021-02-01  676.824537     754  -77.18   5956.75   77.18\n"
     ]
    },
    {
     "name": "stderr",
     "output_type": "stream",
     "text": [
      "C:\\Users\\Paul\\anaconda3\\lib\\site-packages\\statsmodels\\tsa\\base\\tsa_model.py:524: ValueWarning: No frequency information was provided, so inferred frequency MS will be used.\n",
      "  warnings.warn('No frequency information was'\n",
      "C:\\Users\\Paul\\anaconda3\\lib\\site-packages\\statsmodels\\tsa\\base\\tsa_model.py:524: ValueWarning: No frequency information was provided, so inferred frequency MS will be used.\n",
      "  warnings.warn('No frequency information was'\n"
     ]
    },
    {
     "name": "stdout",
     "output_type": "stream",
     "text": [
      "            prediction  actual   error       mse    rmse\n",
      "2020-01-01  -24.822153      95 -119.82  14356.83  119.82\n",
      "2020-02-01  157.743419     162   -4.26     18.15    4.26\n",
      "2020-03-01  160.404628     460 -299.60  89760.16  299.60\n",
      "2020-04-01  628.000564     673  -45.00   2025.00   45.00\n",
      "2020-05-01  630.165638     485  145.17  21074.33  145.17\n",
      "2020-06-01  421.987920     321  100.99  10198.98  100.99\n",
      "2020-07-01  279.482126     244   35.48   1258.83   35.48\n",
      "2020-08-01  226.216605     181   45.22   2044.85   45.22\n",
      "2020-09-01  146.823349     253 -106.18  11274.19  106.18\n",
      "2020-10-01  306.975298     447 -140.02  19605.60  140.02\n",
      "2020-11-01  495.876247     237  258.88  67018.85  258.88\n",
      "2020-12-01   95.512728      15   80.51   6481.86   80.51\n",
      "2021-01-01   49.353894       9   40.35   1628.12   40.35\n",
      "2021-02-01   -1.038051       0   -1.04      1.08    1.04\n"
     ]
    },
    {
     "name": "stderr",
     "output_type": "stream",
     "text": [
      "C:\\Users\\Paul\\anaconda3\\lib\\site-packages\\statsmodels\\tsa\\base\\tsa_model.py:524: ValueWarning: No frequency information was provided, so inferred frequency MS will be used.\n",
      "  warnings.warn('No frequency information was'\n",
      "C:\\Users\\Paul\\anaconda3\\lib\\site-packages\\statsmodels\\tsa\\base\\tsa_model.py:524: ValueWarning: No frequency information was provided, so inferred frequency MS will be used.\n",
      "  warnings.warn('No frequency information was'\n"
     ]
    },
    {
     "name": "stdout",
     "output_type": "stream",
     "text": [
      "            prediction  actual   error       mse    rmse\n",
      "2020-01-01  367.062241     446  -78.94   6231.52   78.94\n",
      "2020-02-01  379.670082     458  -78.33   6135.59   78.33\n",
      "2020-03-01  455.414863     403   52.41   2746.81   52.41\n",
      "2020-04-01  395.301975     322   73.30   5372.89   73.30\n",
      "2020-05-01  304.898487     286   18.90    357.21   18.90\n",
      "2020-06-01  249.409595     244    5.41     29.27    5.41\n",
      "2020-07-01  320.490979     229   91.49   8370.42   91.49\n",
      "2020-08-01  302.327847     213   89.33   7979.85   89.33\n",
      "2020-09-01  228.568118     235   -6.43     41.34    6.43\n",
      "2020-10-01  152.659846     315 -162.34  26354.28  162.34\n",
      "2020-11-01  320.013275     384  -63.99   4094.72   63.99\n",
      "2020-12-01  424.887888     493  -68.11   4638.97   68.11\n",
      "2021-01-01  517.720845     481   36.72   1348.36   36.72\n",
      "2021-02-01  495.145662     421   74.15   5498.22   74.15\n"
     ]
    },
    {
     "name": "stderr",
     "output_type": "stream",
     "text": [
      "C:\\Users\\Paul\\anaconda3\\lib\\site-packages\\statsmodels\\tsa\\base\\tsa_model.py:524: ValueWarning: No frequency information was provided, so inferred frequency MS will be used.\n",
      "  warnings.warn('No frequency information was'\n",
      "C:\\Users\\Paul\\anaconda3\\lib\\site-packages\\statsmodels\\tsa\\base\\tsa_model.py:524: ValueWarning: No frequency information was provided, so inferred frequency MS will be used.\n",
      "  warnings.warn('No frequency information was'\n"
     ]
    },
    {
     "name": "stdout",
     "output_type": "stream",
     "text": [
      "            prediction  actual   error        mse    rmse\n",
      "2020-01-01  669.977254     599   70.98    5038.16   70.98\n",
      "2020-02-01  304.179426     651 -346.82  120284.11  346.82\n",
      "2020-03-01  721.214747     513  208.21   43351.40  208.21\n",
      "2020-04-01  382.203563     351   31.20     973.44   31.20\n",
      "2020-05-01  179.157131     305 -125.84   15835.71  125.84\n",
      "2020-06-01  198.845708     255  -56.15    3152.82   56.15\n",
      "2020-07-01  196.317420     244  -47.68    2273.38   47.68\n",
      "2020-08-01  217.445259     230  -12.55     157.50   12.55\n",
      "2020-09-01  259.810406     252    7.81      61.00    7.81\n",
      "2020-10-01  285.972657     336  -50.03    2503.00   50.03\n",
      "2020-11-01  479.930770     419   60.93    3712.46   60.93\n",
      "2020-12-01  665.776011     543  122.78   15074.93  122.78\n",
      "2021-01-01  698.980505     539  159.98   25593.60  159.98\n",
      "2021-02-01  394.629670     481  -86.37    7459.78   86.37\n"
     ]
    },
    {
     "name": "stderr",
     "output_type": "stream",
     "text": [
      "C:\\Users\\Paul\\anaconda3\\lib\\site-packages\\statsmodels\\tsa\\base\\tsa_model.py:524: ValueWarning: No frequency information was provided, so inferred frequency MS will be used.\n",
      "  warnings.warn('No frequency information was'\n",
      "C:\\Users\\Paul\\anaconda3\\lib\\site-packages\\statsmodels\\tsa\\base\\tsa_model.py:524: ValueWarning: No frequency information was provided, so inferred frequency MS will be used.\n",
      "  warnings.warn('No frequency information was'\n"
     ]
    },
    {
     "name": "stdout",
     "output_type": "stream",
     "text": [
      "            prediction  actual  error      mse   rmse\n",
      "2020-01-01  295.756504     293   2.76     7.62   2.76\n",
      "2020-02-01  273.911364     287 -13.09   171.35  13.09\n",
      "2020-03-01  310.726791     324 -13.27   176.09  13.27\n",
      "2020-04-01  314.964440     329 -14.04   197.12  14.04\n",
      "2020-05-01  317.357084     303  14.36   206.21  14.36\n",
      "2020-06-01  270.324445     267   3.32    11.02   3.32\n",
      "2020-07-01  276.283210     258  18.28   334.16  18.28\n",
      "2020-08-01  250.455883     244   6.46    41.73   6.46\n",
      "2020-09-01  240.612647     265 -24.39   594.87  24.39\n",
      "2020-10-01  293.065695     346 -52.93  2801.58  52.93\n",
      "2020-11-01  382.970388     383  -0.03     0.00   0.00\n",
      "2020-12-01  401.676112     452 -50.32  2532.10  50.32\n",
      "2021-01-01  499.940618     450  49.94  2494.00  49.94\n",
      "2021-02-01  408.461374     403   5.46    29.81   5.46\n"
     ]
    },
    {
     "name": "stderr",
     "output_type": "stream",
     "text": [
      "C:\\Users\\Paul\\anaconda3\\lib\\site-packages\\statsmodels\\tsa\\base\\tsa_model.py:524: ValueWarning: No frequency information was provided, so inferred frequency MS will be used.\n",
      "  warnings.warn('No frequency information was'\n",
      "C:\\Users\\Paul\\anaconda3\\lib\\site-packages\\statsmodels\\tsa\\base\\tsa_model.py:524: ValueWarning: No frequency information was provided, so inferred frequency MS will be used.\n",
      "  warnings.warn('No frequency information was'\n"
     ]
    },
    {
     "name": "stdout",
     "output_type": "stream",
     "text": [
      "            prediction  actual   error       mse    rmse\n",
      "2020-01-01  659.905237     547  112.91  12748.67  112.91\n",
      "2020-02-01  466.691675     453   13.69    187.42   13.69\n",
      "2020-03-01  433.705843     430    3.71     13.76    3.71\n",
      "2020-04-01  401.556539     372   29.56    873.79   29.56\n",
      "2020-05-01  308.040325     366  -57.96   3359.36   57.96\n",
      "2020-06-01  350.720704     343    7.72     59.60    7.72\n",
      "2020-07-01  343.987339     330   13.99    195.72   13.99\n",
      "2020-08-01  324.117765     314   10.12    102.41   10.12\n",
      "2020-09-01  342.944749     328   14.94    223.20   14.94\n",
      "2020-10-01  355.104790     400  -44.90   2016.01   44.90\n",
      "2020-11-01  474.215327     518  -43.78   1916.69   43.78\n",
      "2020-12-01  598.873960     691  -92.13   8487.94   92.13\n",
      "2021-01-01  736.731665     700   36.73   1349.09   36.73\n",
      "2021-02-01  642.371261     644   -1.63      2.66    1.63\n"
     ]
    },
    {
     "name": "stderr",
     "output_type": "stream",
     "text": [
      "C:\\Users\\Paul\\anaconda3\\lib\\site-packages\\statsmodels\\tsa\\base\\tsa_model.py:524: ValueWarning: No frequency information was provided, so inferred frequency MS will be used.\n",
      "  warnings.warn('No frequency information was'\n",
      "C:\\Users\\Paul\\anaconda3\\lib\\site-packages\\statsmodels\\tsa\\base\\tsa_model.py:524: ValueWarning: No frequency information was provided, so inferred frequency MS will be used.\n",
      "  warnings.warn('No frequency information was'\n"
     ]
    },
    {
     "name": "stdout",
     "output_type": "stream",
     "text": [
      "            prediction  actual   error       mse    rmse\n",
      "2020-01-01  526.299297     681 -154.70  23932.09  154.70\n",
      "2020-02-01  745.777537     780  -34.22   1171.01   34.22\n",
      "2020-03-01  765.278424     507  258.28  66708.56  258.28\n",
      "2020-04-01  262.805755     230   32.81   1076.50   32.81\n",
      "2020-05-01  116.342935     200  -83.66   6999.00   83.66\n",
      "2020-06-01  179.201440     166   13.20    174.24   13.20\n",
      "2020-07-01  167.069718     149   18.07    326.52   18.07\n",
      "2020-08-01  133.915840     132    1.92      3.69    1.92\n",
      "2020-09-01  138.305508     143   -4.69     22.00    4.69\n",
      "2020-10-01  175.848177     185   -9.15     83.72    9.15\n",
      "2020-11-01  309.516364     244   65.52   4292.87   65.52\n",
      "2020-12-01  322.984800     326   -3.02      9.12    3.02\n",
      "2021-01-01  426.873738     320  106.87  11421.20  106.87\n",
      "2021-02-01  265.686022     279  -13.31    177.16   13.31\n"
     ]
    },
    {
     "name": "stderr",
     "output_type": "stream",
     "text": [
      "C:\\Users\\Paul\\anaconda3\\lib\\site-packages\\statsmodels\\tsa\\base\\tsa_model.py:524: ValueWarning: No frequency information was provided, so inferred frequency MS will be used.\n",
      "  warnings.warn('No frequency information was'\n",
      "C:\\Users\\Paul\\anaconda3\\lib\\site-packages\\statsmodels\\tsa\\base\\tsa_model.py:524: ValueWarning: No frequency information was provided, so inferred frequency MS will be used.\n",
      "  warnings.warn('No frequency information was'\n"
     ]
    },
    {
     "name": "stdout",
     "output_type": "stream",
     "text": [
      "            prediction  actual  error      mse   rmse\n",
      "2020-01-01  196.677498     218 -21.32   454.54  21.32\n",
      "2020-02-01  187.368320     205 -17.63   310.82  17.63\n",
      "2020-03-01  182.100055     197 -14.90   222.01  14.90\n",
      "2020-04-01  146.197184     173 -26.80   718.24  26.80\n",
      "2020-05-01  167.937789     160   7.94    63.04   7.94\n",
      "2020-06-01  129.983989     142 -12.02   144.48  12.02\n",
      "2020-07-01  144.033136     127  17.03   290.02  17.03\n",
      "2020-08-01  107.262201     113  -5.74    32.95   5.74\n",
      "2020-09-01  122.838702     115   7.84    61.47   7.84\n",
      "2020-10-01  132.317787     133  -0.68     0.46   0.68\n",
      "2020-11-01  193.574829     147  46.57  2168.76  46.57\n",
      "2020-12-01  185.260749     175  10.26   105.27  10.26\n",
      "2021-01-01  161.602316     161   0.60     0.36   0.60\n",
      "2021-02-01  123.803845     126  -2.20     4.84   2.20\n"
     ]
    },
    {
     "name": "stderr",
     "output_type": "stream",
     "text": [
      "C:\\Users\\Paul\\anaconda3\\lib\\site-packages\\statsmodels\\tsa\\base\\tsa_model.py:524: ValueWarning: No frequency information was provided, so inferred frequency MS will be used.\n",
      "  warnings.warn('No frequency information was'\n",
      "C:\\Users\\Paul\\anaconda3\\lib\\site-packages\\statsmodels\\tsa\\base\\tsa_model.py:524: ValueWarning: No frequency information was provided, so inferred frequency MS will be used.\n",
      "  warnings.warn('No frequency information was'\n"
     ]
    },
    {
     "name": "stdout",
     "output_type": "stream",
     "text": [
      "            prediction  actual  error      mse   rmse\n",
      "2020-01-01  245.659545     223  22.66   513.48  22.66\n",
      "2020-02-01  177.736400     180  -2.26     5.11   2.26\n",
      "2020-03-01  151.964489     192 -40.04  1603.20  40.04\n",
      "2020-04-01  177.155656     184  -6.84    46.79   6.84\n",
      "2020-05-01  149.598025     176 -26.40   696.96  26.40\n",
      "2020-06-01  163.573235     161   2.57     6.60   2.57\n",
      "2020-07-01  151.716811     159  -7.28    53.00   7.28\n",
      "2020-08-01  156.707996     154   2.71     7.34   2.71\n",
      "2020-09-01  178.894535     155  23.89   570.73  23.89\n",
      "2020-10-01  168.852615     174  -5.15    26.52   5.15\n",
      "2020-11-01  229.077553     208  21.08   444.37  21.08\n",
      "2020-12-01  245.322012     263 -17.68   312.58  17.68\n",
      "2021-01-01  264.533630     278 -13.47   181.44  13.47\n",
      "2021-02-01  255.874070     271 -15.13   228.92  15.13\n"
     ]
    },
    {
     "name": "stderr",
     "output_type": "stream",
     "text": [
      "C:\\Users\\Paul\\anaconda3\\lib\\site-packages\\statsmodels\\tsa\\base\\tsa_model.py:524: ValueWarning: No frequency information was provided, so inferred frequency MS will be used.\n",
      "  warnings.warn('No frequency information was'\n",
      "C:\\Users\\Paul\\anaconda3\\lib\\site-packages\\statsmodels\\tsa\\base\\tsa_model.py:524: ValueWarning: No frequency information was provided, so inferred frequency MS will be used.\n",
      "  warnings.warn('No frequency information was'\n"
     ]
    },
    {
     "name": "stdout",
     "output_type": "stream",
     "text": [
      "            prediction  actual   error       mse    rmse\n",
      "2020-01-01  567.838588     440  127.84  16343.07  127.84\n",
      "2020-02-01  397.512555     385   12.51    156.50   12.51\n",
      "2020-03-01  353.350684     350    3.35     11.22    3.35\n",
      "2020-04-01  303.143532     290   13.14    172.66   13.14\n",
      "2020-05-01  218.364649     190   28.36    804.29   28.36\n",
      "2020-06-01  128.765382     107   21.77    473.93   21.77\n",
      "2020-07-01   95.884835     107  -11.12    123.65   11.12\n",
      "2020-08-01  105.169796     103    2.17      4.71    2.17\n",
      "2020-09-01  127.501200     136   -8.50     72.25    8.50\n",
      "2020-10-01  165.815194     226  -60.18   3621.63   60.18\n",
      "2020-11-01  339.466639     285   54.47   2966.98   54.47\n",
      "2020-12-01  343.924574     375  -31.08    965.97   31.08\n",
      "2021-01-01  419.579494     419    0.58      0.34    0.58\n",
      "2021-02-01  399.874371     434  -34.13   1164.86   34.13\n"
     ]
    },
    {
     "name": "stderr",
     "output_type": "stream",
     "text": [
      "C:\\Users\\Paul\\anaconda3\\lib\\site-packages\\statsmodels\\tsa\\base\\tsa_model.py:524: ValueWarning: No frequency information was provided, so inferred frequency MS will be used.\n",
      "  warnings.warn('No frequency information was'\n",
      "C:\\Users\\Paul\\anaconda3\\lib\\site-packages\\statsmodels\\tsa\\base\\tsa_model.py:524: ValueWarning: No frequency information was provided, so inferred frequency MS will be used.\n",
      "  warnings.warn('No frequency information was'\n"
     ]
    },
    {
     "name": "stdout",
     "output_type": "stream",
     "text": [
      "            prediction  actual  error      mse   rmse\n",
      "2020-01-01  162.906301     176 -13.09   171.35  13.09\n",
      "2020-02-01  184.752453     198 -13.25   175.56  13.25\n",
      "2020-03-01  205.277766     159  46.28  2141.84  46.28\n",
      "2020-04-01  105.543403     112  -6.46    41.73   6.46\n",
      "2020-05-01  107.062096     108  -0.94     0.88   0.94\n",
      "2020-06-01   85.260257      98 -12.74   162.31  12.74\n",
      "2020-07-01  106.971908      98   8.97    80.46   8.97\n",
      "2020-08-01   83.624249      95 -11.38   129.50  11.38\n",
      "2020-09-01  109.560177      98  11.56   133.63  11.56\n",
      "2020-10-01   99.073712     117 -17.93   321.48  17.93\n",
      "2020-11-01  139.842182     122  17.84   318.27  17.84\n",
      "2020-12-01  121.619248     139 -17.38   302.06  17.38\n",
      "2021-01-01  198.401251     153  45.40  2061.16  45.40\n",
      "2021-02-01  143.795536     158 -14.20   201.64  14.20\n"
     ]
    },
    {
     "name": "stderr",
     "output_type": "stream",
     "text": [
      "C:\\Users\\Paul\\anaconda3\\lib\\site-packages\\statsmodels\\tsa\\base\\tsa_model.py:524: ValueWarning: No frequency information was provided, so inferred frequency MS will be used.\n",
      "  warnings.warn('No frequency information was'\n",
      "C:\\Users\\Paul\\anaconda3\\lib\\site-packages\\statsmodels\\tsa\\base\\tsa_model.py:524: ValueWarning: No frequency information was provided, so inferred frequency MS will be used.\n",
      "  warnings.warn('No frequency information was'\n"
     ]
    },
    {
     "name": "stdout",
     "output_type": "stream",
     "text": [
      "            prediction  actual  error      mse   rmse\n",
      "2020-01-01   44.481833     120 -75.52  5703.27  75.52\n",
      "2020-02-01  126.679696     138 -11.32   128.14  11.32\n",
      "2020-03-01  101.114430     163 -61.89  3830.37  61.89\n",
      "2020-04-01  156.885775     170 -13.11   171.87  13.11\n",
      "2020-05-01  140.769909     146  -5.23    27.35   5.23\n",
      "2020-06-01  126.498247     119   7.50    56.25   7.50\n",
      "2020-07-01  107.642508      93  14.64   214.33  14.64\n",
      "2020-08-01   76.912079      72   4.91    24.11   4.91\n",
      "2020-09-01   94.994634      75  19.99   399.60  19.99\n",
      "2020-10-01   78.630018      94 -15.37   236.24  15.37\n",
      "2020-11-01  201.061162     111  90.06  8110.80  90.06\n",
      "2020-12-01  123.554543     137 -13.45   180.90  13.45\n",
      "2021-01-01  113.313277     128 -14.69   215.80  14.69\n",
      "2021-02-01  105.536693     106  -0.46     0.21   0.46\n"
     ]
    },
    {
     "name": "stderr",
     "output_type": "stream",
     "text": [
      "C:\\Users\\Paul\\anaconda3\\lib\\site-packages\\statsmodels\\tsa\\base\\tsa_model.py:524: ValueWarning: No frequency information was provided, so inferred frequency MS will be used.\n",
      "  warnings.warn('No frequency information was'\n",
      "C:\\Users\\Paul\\anaconda3\\lib\\site-packages\\statsmodels\\tsa\\base\\tsa_model.py:524: ValueWarning: No frequency information was provided, so inferred frequency MS will be used.\n",
      "  warnings.warn('No frequency information was'\n"
     ]
    },
    {
     "name": "stdout",
     "output_type": "stream",
     "text": [
      "            prediction  actual   error        mse    rmse\n",
      "2020-01-01  598.092495     366  232.09   53865.77  232.09\n",
      "2020-02-01  537.149594     357  180.15   32454.02  180.15\n",
      "2020-03-01  411.560030     418   -6.44      41.47    6.44\n",
      "2020-04-01  342.980599     432  -89.02    7924.56   89.02\n",
      "2020-05-01  304.673486     338  -33.33    1110.89   33.33\n",
      "2020-06-01  227.518178     253  -25.48     649.23   25.48\n",
      "2020-07-01  191.030165     232  -40.97    1678.54   40.97\n",
      "2020-08-01  172.138440     211  -38.86    1510.10   38.86\n",
      "2020-09-01  233.528451    -345  578.53  334696.96  578.53\n",
      "2020-10-01  -23.285211     224 -247.29   61152.34  247.29\n",
      "2020-11-01  316.352654     388  -71.65    5133.72   71.65\n",
      "2020-12-01  437.325008     402   35.33    1248.21   35.33\n",
      "2021-01-01  494.604460     420   74.60    5565.16   74.60\n",
      "2021-02-01  461.972595     648 -186.03   34607.16  186.03\n"
     ]
    },
    {
     "name": "stderr",
     "output_type": "stream",
     "text": [
      "C:\\Users\\Paul\\anaconda3\\lib\\site-packages\\statsmodels\\tsa\\base\\tsa_model.py:524: ValueWarning: No frequency information was provided, so inferred frequency MS will be used.\n",
      "  warnings.warn('No frequency information was'\n",
      "C:\\Users\\Paul\\anaconda3\\lib\\site-packages\\statsmodels\\tsa\\base\\tsa_model.py:524: ValueWarning: No frequency information was provided, so inferred frequency MS will be used.\n",
      "  warnings.warn('No frequency information was'\n"
     ]
    },
    {
     "name": "stdout",
     "output_type": "stream",
     "text": [
      "            prediction  actual  error      mse   rmse\n",
      "2020-01-01  495.868641     439  56.87  3234.20  56.87\n",
      "2020-02-01  406.129540     434 -27.87   776.74  27.87\n",
      "2020-03-01  366.110539     334  32.11  1031.05  32.11\n",
      "2020-04-01  222.081728     220   2.08     4.33   2.08\n",
      "2020-05-01  126.261644     149 -22.74   517.11  22.74\n",
      "2020-06-01   92.044686      89   3.04     9.24   3.04\n",
      "2020-07-01   61.653348      91 -29.35   861.42  29.35\n",
      "2020-08-01   93.746410      90   3.75    14.06   3.75\n",
      "2020-09-01  158.590214     106  52.59  2765.71  52.59\n",
      "2020-10-01  123.351481     156 -32.65  1066.02  32.65\n",
      "2020-11-01  269.140351     297 -27.86   776.18  27.86\n",
      "2020-12-01  413.134436     477 -63.87  4079.38  63.87\n",
      "2021-01-01  585.361897     502  83.36  6948.89  83.36\n",
      "2021-02-01  459.131798     484 -24.87   618.52  24.87\n"
     ]
    },
    {
     "name": "stderr",
     "output_type": "stream",
     "text": [
      "C:\\Users\\Paul\\anaconda3\\lib\\site-packages\\statsmodels\\tsa\\base\\tsa_model.py:524: ValueWarning: No frequency information was provided, so inferred frequency MS will be used.\n",
      "  warnings.warn('No frequency information was'\n",
      "C:\\Users\\Paul\\anaconda3\\lib\\site-packages\\statsmodels\\tsa\\base\\tsa_model.py:524: ValueWarning: No frequency information was provided, so inferred frequency MS will be used.\n",
      "  warnings.warn('No frequency information was'\n"
     ]
    },
    {
     "name": "stdout",
     "output_type": "stream",
     "text": [
      "            prediction  actual   error       mse    rmse\n",
      "2020-01-01  791.143781     912 -120.86  14607.14  120.86\n",
      "2020-02-01  950.600911     954   -3.40     11.56    3.40\n",
      "2020-03-01  920.957488     765  155.96  24323.52  155.96\n",
      "2020-04-01  599.027541     537   62.03   3847.72   62.03\n",
      "2020-05-01  435.872979     451  -15.13    228.92   15.13\n",
      "2020-06-01  399.334533     363   36.33   1319.87   36.33\n",
      "2020-07-01  329.776948     356  -26.22    687.49   26.22\n",
      "2020-08-01  366.148005     342   24.15    583.22   24.15\n",
      "2020-09-01  385.056337     380    5.06     25.60    5.06\n",
      "2020-10-01  432.174683     511  -78.83   6214.17   78.83\n",
      "2020-11-01  680.285742     618   62.29   3880.04   62.29\n",
      "2020-12-01  675.471895     783 -107.53  11562.70  107.53\n",
      "2021-01-01  867.791868     785   82.79   6854.18   82.79\n",
      "2021-02-01  692.391864     710  -17.61    310.11   17.61\n"
     ]
    },
    {
     "name": "stderr",
     "output_type": "stream",
     "text": [
      "C:\\Users\\Paul\\anaconda3\\lib\\site-packages\\statsmodels\\tsa\\base\\tsa_model.py:524: ValueWarning: No frequency information was provided, so inferred frequency MS will be used.\n",
      "  warnings.warn('No frequency information was'\n",
      "C:\\Users\\Paul\\anaconda3\\lib\\site-packages\\statsmodels\\tsa\\base\\tsa_model.py:524: ValueWarning: No frequency information was provided, so inferred frequency MS will be used.\n",
      "  warnings.warn('No frequency information was'\n"
     ]
    },
    {
     "name": "stdout",
     "output_type": "stream",
     "text": [
      "            prediction  actual   error       mse    rmse\n",
      "2020-01-01  825.558611     875  -49.44   2444.31   49.44\n",
      "2020-02-01  831.943665     883  -51.06   2607.12   51.06\n",
      "2020-03-01  782.149091     575  207.15  42911.12  207.15\n",
      "2020-04-01  328.727729     261   67.73   4587.35   67.73\n",
      "2020-05-01  156.292779     210  -53.71   2884.76   53.71\n",
      "2020-06-01  157.987315     163   -5.01     25.10    5.01\n",
      "2020-07-01  194.944803     156   38.94   1516.32   38.94\n",
      "2020-08-01  161.574193     147   14.57    212.28   14.57\n",
      "2020-09-01  176.975143     203  -26.02    677.04   26.02\n",
      "2020-10-01  257.739780     353  -95.26   9074.47   95.26\n",
      "2020-11-01  593.551779     474  119.55  14292.20  119.55\n",
      "2020-12-01  592.265963     648  -55.73   3105.83   55.73\n",
      "2021-01-01  733.606361     577  156.61  24526.69  156.61\n",
      "2021-02-01  450.496617     432   18.50    342.25   18.50\n"
     ]
    },
    {
     "name": "stderr",
     "output_type": "stream",
     "text": [
      "C:\\Users\\Paul\\anaconda3\\lib\\site-packages\\statsmodels\\tsa\\base\\tsa_model.py:524: ValueWarning: No frequency information was provided, so inferred frequency MS will be used.\n",
      "  warnings.warn('No frequency information was'\n",
      "C:\\Users\\Paul\\anaconda3\\lib\\site-packages\\statsmodels\\tsa\\base\\tsa_model.py:524: ValueWarning: No frequency information was provided, so inferred frequency MS will be used.\n",
      "  warnings.warn('No frequency information was'\n"
     ]
    },
    {
     "name": "stdout",
     "output_type": "stream",
     "text": [
      "            prediction  actual   error       mse    rmse\n",
      "2020-01-01  614.751797     588   26.75    715.56   26.75\n",
      "2020-02-01  577.514966     594  -16.49    271.92   16.49\n",
      "2020-03-01  601.774311     510   91.77   8421.73   91.77\n",
      "2020-04-01  399.986800     393    6.99     48.86    6.99\n",
      "2020-05-01  374.893471     360   14.89    221.71   14.89\n",
      "2020-06-01  327.826083     314   13.83    191.27   13.83\n",
      "2020-07-01  298.537466     277   21.54    463.97   21.54\n",
      "2020-08-01  252.372482     243    9.37     87.80    9.37\n",
      "2020-09-01  247.124637     269  -21.88    478.73   21.88\n",
      "2020-10-01  309.732914     362  -52.27   2732.15   52.27\n",
      "2020-11-01  392.691541     341   51.69   2671.86   51.69\n",
      "2020-12-01  312.793410     342  -29.21    853.22   29.21\n",
      "2021-01-01  426.305025     552 -125.69  15797.98  125.69\n",
      "2021-02-01  666.992684     760  -93.01   8650.86   93.01\n"
     ]
    },
    {
     "name": "stderr",
     "output_type": "stream",
     "text": [
      "C:\\Users\\Paul\\anaconda3\\lib\\site-packages\\statsmodels\\tsa\\base\\tsa_model.py:524: ValueWarning: No frequency information was provided, so inferred frequency MS will be used.\n",
      "  warnings.warn('No frequency information was'\n",
      "C:\\Users\\Paul\\anaconda3\\lib\\site-packages\\statsmodels\\tsa\\base\\tsa_model.py:524: ValueWarning: No frequency information was provided, so inferred frequency MS will be used.\n",
      "  warnings.warn('No frequency information was'\n"
     ]
    },
    {
     "name": "stdout",
     "output_type": "stream",
     "text": [
      "            prediction  actual  error      mse   rmse\n",
      "2020-01-01  469.333456     431  38.33  1469.19  38.33\n",
      "2020-02-01  377.391416     397 -19.61   384.55  19.61\n",
      "2020-03-01  378.780443     375   3.78    14.29   3.78\n",
      "2020-04-01  304.817946     323 -18.18   330.51  18.18\n",
      "2020-05-01  227.949122     235  -7.05    49.70   7.05\n",
      "2020-06-01  157.724123     159  -1.28     1.64   1.28\n",
      "2020-07-01  161.229337     146  15.23   231.95  15.23\n",
      "2020-08-01  139.324218     134   5.32    28.30   5.32\n",
      "2020-09-01  203.177590     156  47.18  2225.95  47.18\n",
      "2020-10-01  191.191927     226 -34.81  1211.74  34.81\n",
      "2020-11-01  320.778413     288  32.78  1074.53  32.78\n",
      "2020-12-01  348.027010     382 -33.97  1153.96  33.97\n",
      "2021-01-01  403.482055     429 -25.52   651.27  25.52\n",
      "2021-02-01  402.928242     447 -44.07  1942.16  44.07\n"
     ]
    },
    {
     "name": "stderr",
     "output_type": "stream",
     "text": [
      "C:\\Users\\Paul\\anaconda3\\lib\\site-packages\\statsmodels\\tsa\\base\\tsa_model.py:524: ValueWarning: No frequency information was provided, so inferred frequency MS will be used.\n",
      "  warnings.warn('No frequency information was'\n",
      "C:\\Users\\Paul\\anaconda3\\lib\\site-packages\\statsmodels\\tsa\\base\\tsa_model.py:524: ValueWarning: No frequency information was provided, so inferred frequency MS will be used.\n",
      "  warnings.warn('No frequency information was'\n"
     ]
    },
    {
     "name": "stdout",
     "output_type": "stream",
     "text": [
      "            prediction  actual   error       mse    rmse\n",
      "2020-01-01  654.211251     512  142.21  20223.68  142.21\n",
      "2020-02-01  438.251189     455  -16.75    280.56   16.75\n",
      "2020-03-01  402.763495     440  -37.24   1386.82   37.24\n",
      "2020-04-01  364.207885     391  -26.79    717.70   26.79\n",
      "2020-05-01  303.974817     248   55.97   3132.64   55.97\n",
      "2020-06-01  133.597551     132    1.60      2.56    1.60\n",
      "2020-07-01  139.772818     126   13.77    189.61   13.77\n",
      "2020-08-01  119.387070     118    1.39      1.93    1.39\n",
      "2020-09-01  137.526989     166  -28.47    810.54   28.47\n",
      "2020-10-01  209.860515     298  -88.14   7768.66   88.14\n",
      "2020-11-01  459.692728     301  158.69  25182.52  158.69\n",
      "2020-12-01  325.064102     325    0.06      0.00    0.00\n",
      "2021-01-01  382.087378     291   91.09   8297.39   91.09\n",
      "2021-02-01  224.585454     221    3.59     12.89    3.59\n"
     ]
    },
    {
     "name": "stderr",
     "output_type": "stream",
     "text": [
      "C:\\Users\\Paul\\anaconda3\\lib\\site-packages\\statsmodels\\tsa\\base\\tsa_model.py:524: ValueWarning: No frequency information was provided, so inferred frequency MS will be used.\n",
      "  warnings.warn('No frequency information was'\n",
      "C:\\Users\\Paul\\anaconda3\\lib\\site-packages\\statsmodels\\tsa\\base\\tsa_model.py:524: ValueWarning: No frequency information was provided, so inferred frequency MS will be used.\n",
      "  warnings.warn('No frequency information was'\n"
     ]
    },
    {
     "name": "stdout",
     "output_type": "stream",
     "text": [
      "             prediction  actual   error       mse    rmse\n",
      "2020-01-01  1160.876326    1171  -10.12    102.41   10.12\n",
      "2020-02-01  1109.398380    1137  -27.60    761.76   27.60\n",
      "2020-03-01  1019.118684     773  246.12  60575.05  246.12\n",
      "2020-04-01   432.655460     395   37.66   1418.28   37.66\n",
      "2020-05-01   218.714540     328 -109.29  11944.30  109.29\n",
      "2020-06-01   299.198512     262   37.20   1383.84   37.20\n",
      "2020-07-01   227.514744     230   -2.49      6.20    2.49\n",
      "2020-08-01   228.634645     202   26.63    709.16   26.63\n",
      "2020-09-01   271.151821     229   42.15   1776.62   42.15\n",
      "2020-10-01   281.777246     321  -39.22   1538.21   39.22\n",
      "2020-11-01   623.533077     317  306.53  93960.64  306.53\n",
      "2020-12-01   384.126710     333   51.13   2614.28   51.13\n",
      "2021-01-01   359.121198     483 -123.88  15346.25  123.88\n",
      "2021-02-01   498.605819     621 -122.39  14979.31  122.39\n"
     ]
    },
    {
     "name": "stderr",
     "output_type": "stream",
     "text": [
      "C:\\Users\\Paul\\anaconda3\\lib\\site-packages\\statsmodels\\tsa\\base\\tsa_model.py:524: ValueWarning: No frequency information was provided, so inferred frequency MS will be used.\n",
      "  warnings.warn('No frequency information was'\n",
      "C:\\Users\\Paul\\anaconda3\\lib\\site-packages\\statsmodels\\tsa\\base\\tsa_model.py:524: ValueWarning: No frequency information was provided, so inferred frequency MS will be used.\n",
      "  warnings.warn('No frequency information was'\n"
     ]
    },
    {
     "name": "stdout",
     "output_type": "stream",
     "text": [
      "            prediction  actual   error       mse    rmse\n",
      "2020-01-01  944.403055     905   39.40   1552.36   39.40\n",
      "2020-02-01  859.941188     874  -14.06    197.68   14.06\n",
      "2020-03-01  816.438303     895  -78.56   6171.67   78.56\n",
      "2020-04-01  799.281496     835  -35.72   1275.92   35.72\n",
      "2020-05-01  675.809186     688  -12.19    148.60   12.19\n",
      "2020-06-01  574.943046     544   30.94    957.28   30.94\n",
      "2020-07-01  475.479028     457   18.48    341.51   18.48\n",
      "2020-08-01  413.952956     381   32.95   1085.70   32.95\n",
      "2020-09-01  437.192440     456  -18.81    353.82   18.81\n",
      "2020-10-01  529.522591     681 -151.48  22946.19  151.48\n",
      "2020-11-01  956.364930     732  224.36  50337.41  224.36\n",
      "2020-12-01  852.074905     843    9.07     82.26    9.07\n",
      "2021-01-01  931.677784     887   44.68   1996.30   44.68\n",
      "2021-02-01  834.917346     855  -20.08    403.21   20.08\n"
     ]
    },
    {
     "name": "stderr",
     "output_type": "stream",
     "text": [
      "C:\\Users\\Paul\\anaconda3\\lib\\site-packages\\statsmodels\\tsa\\base\\tsa_model.py:524: ValueWarning: No frequency information was provided, so inferred frequency MS will be used.\n",
      "  warnings.warn('No frequency information was'\n",
      "C:\\Users\\Paul\\anaconda3\\lib\\site-packages\\statsmodels\\tsa\\base\\tsa_model.py:524: ValueWarning: No frequency information was provided, so inferred frequency MS will be used.\n",
      "  warnings.warn('No frequency information was'\n"
     ]
    },
    {
     "name": "stdout",
     "output_type": "stream",
     "text": [
      "            prediction  actual  error      mse   rmse\n",
      "2020-01-01  329.040624     264  65.04  4230.20  65.04\n",
      "2020-02-01  204.648766     210  -5.35    28.62   5.35\n",
      "2020-03-01  213.770220     256 -42.23  1783.37  42.23\n",
      "2020-04-01  261.006059     271  -9.99    99.80   9.99\n",
      "2020-05-01  270.899932     248  22.90   524.41  22.90\n",
      "2020-06-01  218.854962     218   0.85     0.72   0.85\n",
      "2020-07-01  205.630261     188  17.63   310.82  17.63\n",
      "2020-08-01  163.447568     162   1.45     2.10   1.45\n",
      "2020-09-01  182.622506     182   0.62     0.38   0.62\n",
      "2020-10-01  205.213709     250 -44.79  2006.14  44.79\n",
      "2020-11-01  313.252294     314  -0.75     0.56   0.75\n",
      "2020-12-01  346.704135     409 -62.30  3881.29  62.30\n",
      "2021-01-01  448.031942     441   7.03    49.42   7.03\n",
      "2021-02-01  405.317816     436 -30.68   941.26  30.68\n"
     ]
    },
    {
     "name": "stderr",
     "output_type": "stream",
     "text": [
      "C:\\Users\\Paul\\anaconda3\\lib\\site-packages\\statsmodels\\tsa\\base\\tsa_model.py:524: ValueWarning: No frequency information was provided, so inferred frequency MS will be used.\n",
      "  warnings.warn('No frequency information was'\n",
      "C:\\Users\\Paul\\anaconda3\\lib\\site-packages\\statsmodels\\tsa\\base\\tsa_model.py:524: ValueWarning: No frequency information was provided, so inferred frequency MS will be used.\n",
      "  warnings.warn('No frequency information was'\n"
     ]
    },
    {
     "name": "stdout",
     "output_type": "stream",
     "text": [
      "            prediction  actual   error       mse    rmse\n",
      "2020-01-01  864.432200     975 -110.57  12225.72  110.57\n",
      "2020-02-01  867.728798     999 -131.27  17231.81  131.27\n",
      "2020-03-01  855.753492     823   32.75   1072.56   32.75\n",
      "2020-04-01  666.553252     601   65.55   4296.80   65.55\n",
      "2020-05-01  467.378144     455   12.38    153.26   12.38\n",
      "2020-06-01  333.096113     324    9.10     82.81    9.10\n",
      "2020-07-01  393.850589     324   69.85   4879.02   69.85\n",
      "2020-08-01  362.771832     314   48.77   2378.51   48.77\n",
      "2020-09-01  333.590796     378  -44.41   1972.25   44.41\n",
      "2020-10-01  444.183981     570 -125.82  15830.67  125.82\n",
      "2020-11-01  703.540760     708   -4.46     19.89    4.46\n",
      "2020-12-01  844.739099     915  -70.26   4936.47   70.26\n",
      "2021-01-01  936.115793     901   35.12   1233.41   35.12\n",
      "2021-02-01  859.879927     796   63.88   4080.65   63.88\n"
     ]
    },
    {
     "name": "stderr",
     "output_type": "stream",
     "text": [
      "C:\\Users\\Paul\\anaconda3\\lib\\site-packages\\statsmodels\\tsa\\base\\tsa_model.py:524: ValueWarning: No frequency information was provided, so inferred frequency MS will be used.\n",
      "  warnings.warn('No frequency information was'\n",
      "C:\\Users\\Paul\\anaconda3\\lib\\site-packages\\statsmodels\\tsa\\base\\tsa_model.py:524: ValueWarning: No frequency information was provided, so inferred frequency MS will be used.\n",
      "  warnings.warn('No frequency information was'\n"
     ]
    },
    {
     "name": "stdout",
     "output_type": "stream",
     "text": [
      "            prediction  actual   error       mse    rmse\n",
      "2020-01-01  364.588610     484 -119.41  14258.75  119.41\n",
      "2020-02-01  509.422438     537  -27.58    760.66   27.58\n",
      "2020-03-01  434.141687     402   32.14   1032.98   32.14\n",
      "2020-04-01  265.544420     253   12.54    157.25   12.54\n",
      "2020-05-01  170.962182     248  -77.04   5935.16   77.04\n",
      "2020-06-01  229.498528     232   -2.50      6.25    2.50\n",
      "2020-07-01  198.634922     231  -32.37   1047.82   32.37\n",
      "2020-08-01  239.479745     224   15.48    239.63   15.48\n",
      "2020-09-01  241.307307     230   11.31    127.92   11.31\n",
      "2020-10-01  292.028280     271   21.03    442.26   21.03\n",
      "2020-11-01  401.615956     369   32.62   1064.06   32.62\n",
      "2020-12-01  500.166923     508   -7.83     61.31    7.83\n",
      "2021-01-01  558.905816     540   18.91    357.59   18.91\n",
      "2021-02-01  480.059408     625 -144.94  21007.60  144.94\n"
     ]
    },
    {
     "name": "stderr",
     "output_type": "stream",
     "text": [
      "C:\\Users\\Paul\\anaconda3\\lib\\site-packages\\statsmodels\\tsa\\base\\tsa_model.py:524: ValueWarning: No frequency information was provided, so inferred frequency MS will be used.\n",
      "  warnings.warn('No frequency information was'\n",
      "C:\\Users\\Paul\\anaconda3\\lib\\site-packages\\statsmodels\\tsa\\base\\tsa_model.py:524: ValueWarning: No frequency information was provided, so inferred frequency MS will be used.\n",
      "  warnings.warn('No frequency information was'\n"
     ]
    },
    {
     "name": "stdout",
     "output_type": "stream",
     "text": [
      "            prediction  actual   error       mse    rmse\n",
      "2020-01-01  474.648679     442   32.65   1066.02   32.65\n",
      "2020-02-01  372.966787     387  -14.03    196.84   14.03\n",
      "2020-03-01  416.372155     187  229.37  52610.60  229.37\n",
      "2020-04-01  -11.289543       0  -11.29    127.46   11.29\n",
      "2020-05-01   -6.196669      95 -101.20  10241.44  101.20\n",
      "2020-06-01  127.596097     158  -30.40    924.16   30.40\n",
      "2020-07-01  174.800372     211  -36.20   1310.44   36.20\n",
      "2020-08-01  229.043969     245  -15.96    254.72   15.96\n",
      "2020-09-01  234.670543     238   -3.33     11.09    3.33\n",
      "2020-10-01  248.814391     247    1.81      3.28    1.81\n",
      "2020-11-01  312.556623     277   35.56   1264.51   35.56\n",
      "2020-12-01  326.598461     332   -5.40     29.16    5.40\n",
      "2021-01-01  327.432863     361  -33.57   1126.94   33.57\n",
      "2021-02-01  338.302804     365  -26.70    712.89   26.70\n"
     ]
    },
    {
     "name": "stderr",
     "output_type": "stream",
     "text": [
      "C:\\Users\\Paul\\anaconda3\\lib\\site-packages\\statsmodels\\tsa\\base\\tsa_model.py:524: ValueWarning: No frequency information was provided, so inferred frequency MS will be used.\n",
      "  warnings.warn('No frequency information was'\n",
      "C:\\Users\\Paul\\anaconda3\\lib\\site-packages\\statsmodels\\tsa\\base\\tsa_model.py:524: ValueWarning: No frequency information was provided, so inferred frequency MS will be used.\n",
      "  warnings.warn('No frequency information was'\n"
     ]
    },
    {
     "name": "stdout",
     "output_type": "stream",
     "text": [
      "            prediction  actual   error       mse    rmse\n",
      "2020-01-01  939.392820     789  150.39  22617.15  150.39\n",
      "2020-02-01  663.850182     649   14.85    220.52   14.85\n",
      "2020-03-01  677.088873     545  132.09  17447.77  132.09\n",
      "2020-04-01  445.770412     407   38.77   1503.11   38.77\n",
      "2020-05-01  328.141327     329   -0.86      0.74    0.86\n",
      "2020-06-01  275.829054     254   21.83    476.55   21.83\n",
      "2020-07-01  245.549182     231   14.55    211.70   14.55\n",
      "2020-08-01  222.028167     208   14.03    196.84   14.03\n",
      "2020-09-01  236.254381     218   18.25    333.06   18.25\n",
      "2020-10-01  248.626342     266  -17.37    301.72   17.37\n",
      "2020-11-01  347.659223     335   12.66    160.28   12.66\n",
      "2020-12-01  400.085993     439  -38.91   1513.99   38.91\n",
      "2021-01-01  454.094139     463   -8.91     79.39    8.91\n",
      "2021-02-01  417.650747     449  -31.35    982.82   31.35\n"
     ]
    },
    {
     "name": "stderr",
     "output_type": "stream",
     "text": [
      "C:\\Users\\Paul\\anaconda3\\lib\\site-packages\\statsmodels\\tsa\\base\\tsa_model.py:524: ValueWarning: No frequency information was provided, so inferred frequency MS will be used.\n",
      "  warnings.warn('No frequency information was'\n",
      "C:\\Users\\Paul\\anaconda3\\lib\\site-packages\\statsmodels\\tsa\\base\\tsa_model.py:524: ValueWarning: No frequency information was provided, so inferred frequency MS will be used.\n",
      "  warnings.warn('No frequency information was'\n"
     ]
    },
    {
     "name": "stdout",
     "output_type": "stream",
     "text": [
      "            prediction  actual   error       mse    rmse\n",
      "2020-01-01  454.005438     460   -5.99     35.88    5.99\n",
      "2020-02-01  391.631264     444  -52.37   2742.62   52.37\n",
      "2020-03-01  440.596038     410   30.60    936.36   30.60\n",
      "2020-04-01  294.795427     345  -50.20   2520.04   50.20\n",
      "2020-05-01  193.329463     340 -146.67  21512.09  146.67\n",
      "2020-06-01  292.130996     316  -23.87    569.78   23.87\n",
      "2020-07-01  367.918175     312   55.92   3127.05   55.92\n",
      "2020-08-01  299.026200     301   -1.97      3.88    1.97\n",
      "2020-09-01  395.706212     326   69.71   4859.48   69.71\n",
      "2020-10-01  380.506012     421  -40.49   1639.44   40.49\n",
      "2020-11-01  568.894006     458  110.89  12296.59  110.89\n",
      "2020-12-01  519.883047     534  -14.12    199.37   14.12\n",
      "2021-01-01  537.103252     505   32.10   1030.41   32.10\n",
      "2021-02-01  423.953993     421    2.95      8.70    2.95\n"
     ]
    },
    {
     "name": "stderr",
     "output_type": "stream",
     "text": [
      "C:\\Users\\Paul\\anaconda3\\lib\\site-packages\\statsmodels\\tsa\\base\\tsa_model.py:524: ValueWarning: No frequency information was provided, so inferred frequency MS will be used.\n",
      "  warnings.warn('No frequency information was'\n",
      "C:\\Users\\Paul\\anaconda3\\lib\\site-packages\\statsmodels\\tsa\\base\\tsa_model.py:524: ValueWarning: No frequency information was provided, so inferred frequency MS will be used.\n",
      "  warnings.warn('No frequency information was'\n"
     ]
    },
    {
     "name": "stdout",
     "output_type": "stream",
     "text": [
      "            prediction  actual   error       mse    rmse\n",
      "2020-01-01  355.871216     562 -206.13  42489.58  206.13\n",
      "2020-02-01  667.182763     678  -10.82    117.07   10.82\n",
      "2020-03-01  588.623477     482  106.62  11367.82  106.62\n",
      "2020-04-01  306.482033     273   33.48   1120.91   33.48\n",
      "2020-05-01  225.067252     158   67.07   4498.38   67.07\n",
      "2020-06-01   90.561205      66   24.56    603.19   24.56\n",
      "2020-07-01   41.161863      50   -8.84     78.15    8.84\n",
      "2020-08-01   38.879249      35    3.88     15.05    3.88\n",
      "2020-09-01   58.386437      51    7.39     54.61    7.39\n",
      "2020-10-01   83.821350      92   -8.18     66.91    8.18\n",
      "2020-11-01  205.862141     198    7.86     61.78    7.86\n",
      "2020-12-01  303.746516     333  -29.25    855.56   29.25\n",
      "2021-01-01  391.396675     197  194.40  37791.36  194.40\n",
      "2021-02-01   27.371199       6   21.37    456.68   21.37\n"
     ]
    },
    {
     "name": "stderr",
     "output_type": "stream",
     "text": [
      "C:\\Users\\Paul\\anaconda3\\lib\\site-packages\\statsmodels\\tsa\\base\\tsa_model.py:524: ValueWarning: No frequency information was provided, so inferred frequency MS will be used.\n",
      "  warnings.warn('No frequency information was'\n",
      "C:\\Users\\Paul\\anaconda3\\lib\\site-packages\\statsmodels\\tsa\\base\\tsa_model.py:524: ValueWarning: No frequency information was provided, so inferred frequency MS will be used.\n",
      "  warnings.warn('No frequency information was'\n"
     ]
    },
    {
     "name": "stdout",
     "output_type": "stream",
     "text": [
      "            prediction  actual  error      mse   rmse\n",
      "2020-01-01  360.768313     333  27.77   771.17  27.77\n",
      "2020-02-01  295.470277     308 -12.53   157.00  12.53\n",
      "2020-03-01  308.645390     318  -9.35    87.42   9.35\n",
      "2020-04-01  274.826928     299 -24.17   584.19  24.17\n",
      "2020-05-01  243.167130     265 -21.83   476.55  21.83\n",
      "2020-06-01  208.898450     227 -18.10   327.61  18.10\n",
      "2020-07-01  241.433731     214  27.43   752.40  27.43\n",
      "2020-08-01  196.813872     199  -2.19     4.80   2.19\n",
      "2020-09-01  229.472614     205  24.47   598.78  24.47\n",
      "2020-10-01  220.950025     244 -23.05   531.30  23.05\n",
      "2020-11-01  317.814023     276  41.81  1748.08  41.81\n",
      "2020-12-01  312.939164     332 -19.06   363.28  19.06\n",
      "2021-01-01  365.561335     387 -21.44   459.67  21.44\n",
      "2021-02-01  373.531347     417 -43.47  1889.64  43.47\n"
     ]
    },
    {
     "name": "stderr",
     "output_type": "stream",
     "text": [
      "C:\\Users\\Paul\\anaconda3\\lib\\site-packages\\statsmodels\\tsa\\base\\tsa_model.py:524: ValueWarning: No frequency information was provided, so inferred frequency MS will be used.\n",
      "  warnings.warn('No frequency information was'\n",
      "C:\\Users\\Paul\\anaconda3\\lib\\site-packages\\statsmodels\\tsa\\base\\tsa_model.py:524: ValueWarning: No frequency information was provided, so inferred frequency MS will be used.\n",
      "  warnings.warn('No frequency information was'\n"
     ]
    },
    {
     "name": "stdout",
     "output_type": "stream",
     "text": [
      "            prediction  actual  error      mse   rmse\n",
      "2020-01-01  347.172161     320  27.17   738.21  27.17\n",
      "2020-02-01  297.670151     320 -22.33   498.63  22.33\n",
      "2020-03-01  313.541868     330 -16.46   270.93  16.46\n",
      "2020-04-01  279.585129     310 -30.41   924.77  30.41\n",
      "2020-05-01  254.809916     283 -28.19   794.68  28.19\n",
      "2020-06-01  241.503944     248  -6.50    42.25   6.50\n",
      "2020-07-01  215.922013     183  32.92  1083.73  32.92\n",
      "2020-08-01  140.674898     129  11.67   136.19  11.67\n",
      "2020-09-01  179.162376     170   9.16    83.91   9.16\n",
      "2020-10-01  210.105809     283 -72.89  5312.95  72.89\n",
      "2020-11-01  367.677023     290  77.68  6034.18  77.68\n",
      "2020-12-01  286.311768     319 -32.69  1068.64  32.69\n",
      "2021-01-01  387.719374     388  -0.28     0.08   0.28\n",
      "2021-02-01  378.777212     436 -57.22  3274.13  57.22\n"
     ]
    },
    {
     "name": "stderr",
     "output_type": "stream",
     "text": [
      "C:\\Users\\Paul\\anaconda3\\lib\\site-packages\\statsmodels\\tsa\\base\\tsa_model.py:524: ValueWarning: No frequency information was provided, so inferred frequency MS will be used.\n",
      "  warnings.warn('No frequency information was'\n",
      "C:\\Users\\Paul\\anaconda3\\lib\\site-packages\\statsmodels\\tsa\\base\\tsa_model.py:524: ValueWarning: No frequency information was provided, so inferred frequency MS will be used.\n",
      "  warnings.warn('No frequency information was'\n"
     ]
    },
    {
     "name": "stdout",
     "output_type": "stream",
     "text": [
      "            prediction  actual  error      mse   rmse\n",
      "2020-01-01  675.917886     740 -64.08  4106.25  64.08\n",
      "2020-02-01  754.678375     765 -10.32   106.50  10.32\n",
      "2020-03-01  787.990900     717  70.99  5039.58  70.99\n",
      "2020-04-01  636.928015     614  22.93   525.78  22.93\n",
      "2020-05-01  549.834275     573 -23.17   536.85  23.17\n",
      "2020-06-01  542.957201     513  29.96   897.60  29.96\n",
      "2020-07-01  487.401280     419  68.40  4678.56  68.40\n",
      "2020-08-01  358.606824     339  19.61   384.55  19.61\n",
      "2020-09-01  371.898814     335  36.90  1361.61  36.90\n",
      "2020-10-01  355.320734     366 -10.68   114.06  10.68\n",
      "2020-11-01  432.195817     448 -15.80   249.64  15.80\n",
      "2020-12-01  523.610132     573 -49.39  2439.37  49.39\n",
      "2021-01-01  624.541586     541  83.54  6978.93  83.54\n",
      "2021-02-01  470.620832     449  21.62   467.42  21.62\n"
     ]
    },
    {
     "name": "stderr",
     "output_type": "stream",
     "text": [
      "C:\\Users\\Paul\\anaconda3\\lib\\site-packages\\statsmodels\\tsa\\base\\tsa_model.py:524: ValueWarning: No frequency information was provided, so inferred frequency MS will be used.\n",
      "  warnings.warn('No frequency information was'\n",
      "C:\\Users\\Paul\\anaconda3\\lib\\site-packages\\statsmodels\\tsa\\base\\tsa_model.py:524: ValueWarning: No frequency information was provided, so inferred frequency MS will be used.\n",
      "  warnings.warn('No frequency information was'\n"
     ]
    },
    {
     "name": "stdout",
     "output_type": "stream",
     "text": [
      "            prediction  actual  error     mse   rmse\n",
      "2020-01-01   88.523713      94  -5.48   30.03   5.48\n",
      "2020-02-01   85.235860      89  -3.76   14.14   3.76\n",
      "2020-03-01  102.085043      94   8.09   65.45   8.09\n",
      "2020-04-01   86.285629      91  -4.71   22.18   4.71\n",
      "2020-05-01   68.964837      81 -12.04  144.96  12.04\n",
      "2020-06-01   64.580035      71  -6.42   41.22   6.42\n",
      "2020-07-01   81.159767      68  13.16  173.19  13.16\n",
      "2020-08-01   64.110781      63   1.11    1.23   1.11\n",
      "2020-09-01   67.489387      66   1.49    2.22   1.49\n",
      "2020-10-01   71.259863      84 -12.74  162.31  12.74\n",
      "2020-11-01  100.091098      86  14.09  198.53  14.09\n",
      "2020-12-01   89.056830      96  -6.94   48.16   6.94\n",
      "2021-01-01  101.173413      95   6.17   38.07   6.17\n",
      "2021-02-01   82.623903      83  -0.38    0.14   0.37\n"
     ]
    },
    {
     "name": "stderr",
     "output_type": "stream",
     "text": [
      "C:\\Users\\Paul\\anaconda3\\lib\\site-packages\\statsmodels\\tsa\\base\\tsa_model.py:524: ValueWarning: No frequency information was provided, so inferred frequency MS will be used.\n",
      "  warnings.warn('No frequency information was'\n",
      "C:\\Users\\Paul\\anaconda3\\lib\\site-packages\\statsmodels\\tsa\\base\\tsa_model.py:524: ValueWarning: No frequency information was provided, so inferred frequency MS will be used.\n",
      "  warnings.warn('No frequency information was'\n"
     ]
    },
    {
     "name": "stdout",
     "output_type": "stream",
     "text": [
      "            prediction  actual   error       mse    rmse\n",
      "2020-01-01  461.216147     532  -70.78   5009.81   70.78\n",
      "2020-02-01  569.382612     585  -15.62    243.98   15.62\n",
      "2020-03-01  602.361307     495  107.36  11526.17  107.36\n",
      "2020-04-01  396.706663     373   23.71    562.16   23.71\n",
      "2020-05-01  337.577493     309   28.58    816.82   28.58\n",
      "2020-06-01  257.565129     244   13.57    184.14   13.57\n",
      "2020-07-01  236.929190     261  -24.07    579.36   24.07\n",
      "2020-08-01  268.318354     268    0.32      0.10    0.32\n",
      "2020-09-01  246.335097     288  -41.66   1735.56   41.66\n",
      "2020-10-01  337.776024     367  -29.22    853.81   29.22\n",
      "2020-11-01  418.309397     346   72.31   5228.74   72.31\n",
      "2020-12-01  332.262198     345  -12.74    162.31   12.74\n",
      "2021-01-01  429.770598     372   57.77   3337.37   57.77\n",
      "2021-02-01  333.144463     367  -33.86   1146.50   33.86\n"
     ]
    },
    {
     "name": "stderr",
     "output_type": "stream",
     "text": [
      "C:\\Users\\Paul\\anaconda3\\lib\\site-packages\\statsmodels\\tsa\\base\\tsa_model.py:524: ValueWarning: No frequency information was provided, so inferred frequency MS will be used.\n",
      "  warnings.warn('No frequency information was'\n",
      "C:\\Users\\Paul\\anaconda3\\lib\\site-packages\\statsmodels\\tsa\\base\\tsa_model.py:524: ValueWarning: No frequency information was provided, so inferred frequency MS will be used.\n",
      "  warnings.warn('No frequency information was'\n"
     ]
    },
    {
     "name": "stdout",
     "output_type": "stream",
     "text": [
      "            prediction  actual   error       mse    rmse\n",
      "2020-01-01  284.008492     203   81.01   6562.62   81.01\n",
      "2020-02-01   89.921077     165  -75.08   5637.01   75.08\n",
      "2020-03-01  206.085990     198    8.09     65.45    8.09\n",
      "2020-04-01  106.736914     210 -103.26  10662.63  103.26\n",
      "2020-05-01  -13.289762     190 -203.29  41326.82  203.29\n",
      "2020-06-01  101.839903     165  -63.16   3989.19   63.16\n",
      "2020-07-01  142.003485     162  -20.00    400.00   20.00\n",
      "2020-08-01  124.983474     157  -32.02   1025.28   32.02\n",
      "2020-09-01  337.097648     168  169.10  28594.81  169.10\n",
      "2020-10-01  158.545676     212  -53.45   2856.90   53.45\n",
      "2020-11-01  280.056944     247   33.06   1092.96   33.06\n",
      "2020-12-01  347.846279     305   42.85   1836.12   42.85\n",
      "2021-01-01  288.743708     347  -58.26   3394.23   58.26\n",
      "2021-02-01  323.142996     366  -42.86   1836.98   42.86\n"
     ]
    },
    {
     "name": "stderr",
     "output_type": "stream",
     "text": [
      "C:\\Users\\Paul\\anaconda3\\lib\\site-packages\\statsmodels\\tsa\\base\\tsa_model.py:524: ValueWarning: No frequency information was provided, so inferred frequency MS will be used.\n",
      "  warnings.warn('No frequency information was'\n",
      "C:\\Users\\Paul\\anaconda3\\lib\\site-packages\\statsmodels\\tsa\\base\\tsa_model.py:524: ValueWarning: No frequency information was provided, so inferred frequency MS will be used.\n",
      "  warnings.warn('No frequency information was'\n"
     ]
    },
    {
     "name": "stdout",
     "output_type": "stream",
     "text": [
      "             prediction  actual    error         mse     rmse\n",
      "2020-01-01   607.348416     564    43.35     1879.22    43.35\n",
      "2020-02-01   523.357535     547   -23.64      558.85    23.64\n",
      "2020-03-01   422.773562     472   -49.23     2423.59    49.23\n",
      "2020-04-01   362.661813     367    -4.34       18.84     4.34\n",
      "2020-05-01   255.325704     310   -54.67     2988.81    54.67\n",
      "2020-06-01   242.433816     253   -10.57      111.72    10.57\n",
      "2020-07-01   235.190756     232     3.19       10.18     3.19\n",
      "2020-08-01   222.251519     211    11.25      126.56    11.25\n",
      "2020-09-01   247.267094    -386   633.27   401030.89   633.27\n",
      "2020-10-01  -571.995268   -1821  1249.00  1560001.00  1249.00\n",
      "2020-11-01 -1977.597465    -722 -1255.60  1576531.36  1255.60\n",
      "2020-12-01    51.093339     483  -431.91   186546.25   431.91\n",
      "2021-01-01   409.624380     451   -41.38     1712.30    41.38\n",
      "2021-02-01   500.887983     365   135.89    18466.09   135.89\n"
     ]
    },
    {
     "name": "stderr",
     "output_type": "stream",
     "text": [
      "C:\\Users\\Paul\\anaconda3\\lib\\site-packages\\statsmodels\\tsa\\base\\tsa_model.py:524: ValueWarning: No frequency information was provided, so inferred frequency MS will be used.\n",
      "  warnings.warn('No frequency information was'\n",
      "C:\\Users\\Paul\\anaconda3\\lib\\site-packages\\statsmodels\\tsa\\base\\tsa_model.py:524: ValueWarning: No frequency information was provided, so inferred frequency MS will be used.\n",
      "  warnings.warn('No frequency information was'\n"
     ]
    },
    {
     "name": "stdout",
     "output_type": "stream",
     "text": [
      "            prediction  actual  error      mse   rmse\n",
      "2020-01-01  587.842582     638 -50.16  2516.03  50.16\n",
      "2020-02-01  618.512617     618   0.51     0.26   0.51\n",
      "2020-03-01  549.004003     515  34.00  1156.00  34.00\n",
      "2020-04-01  419.359875     381  38.36  1471.49  38.36\n",
      "2020-05-01  286.480418     343 -56.52  3194.51  56.52\n",
      "2020-06-01  307.545214     297  10.55   111.30  10.55\n",
      "2020-07-01  266.845357     293 -26.15   683.82  26.15\n",
      "2020-08-01  325.326008     283  42.33  1791.83  42.33\n",
      "2020-09-01  310.624846     323 -12.38   153.26  12.38\n",
      "2020-10-01  426.749178     452 -25.25   637.56  25.25\n",
      "2020-11-01  551.733126     498  53.73  2886.91  53.73\n",
      "2020-12-01  569.861539     587 -17.14   293.78  17.14\n",
      "2021-01-01  611.652579     534  77.65  6029.52  77.65\n",
      "2021-02-01  439.861295     415  24.86   618.02  24.86\n"
     ]
    },
    {
     "name": "stderr",
     "output_type": "stream",
     "text": [
      "C:\\Users\\Paul\\anaconda3\\lib\\site-packages\\statsmodels\\tsa\\base\\tsa_model.py:524: ValueWarning: No frequency information was provided, so inferred frequency MS will be used.\n",
      "  warnings.warn('No frequency information was'\n",
      "C:\\Users\\Paul\\anaconda3\\lib\\site-packages\\statsmodels\\tsa\\base\\tsa_model.py:524: ValueWarning: No frequency information was provided, so inferred frequency MS will be used.\n",
      "  warnings.warn('No frequency information was'\n"
     ]
    },
    {
     "name": "stdout",
     "output_type": "stream",
     "text": [
      "            prediction  actual   error       mse    rmse\n",
      "2020-01-01  965.191811     771  194.19  37709.76  194.19\n",
      "2020-02-01  627.558088     656  -28.44    808.83   28.44\n",
      "2020-03-01  719.159909     771  -51.84   2687.39   51.84\n",
      "2020-04-01  760.619870     803  -42.38   1796.06   42.38\n",
      "2020-05-01  753.154773     764  -10.85    117.72   10.85\n",
      "2020-06-01  715.136825     694   21.14    446.90   21.14\n",
      "2020-07-01  671.765702     552  119.77  14344.85  119.77\n",
      "2020-08-01  467.077798     432   35.08   1230.61   35.08\n",
      "2020-09-01  563.140499     464   99.14   9828.74   99.14\n",
      "2020-10-01  525.877744     588  -62.12   3858.89   62.12\n",
      "2020-11-01  679.193212     522  157.19  24708.70  157.19\n",
      "2020-12-01  475.717903     484   -8.28     68.56    8.28\n",
      "2021-01-01  455.006216     436   19.01    361.38   19.01\n",
      "2021-02-01  366.492787     240  126.49  15999.72  126.49\n"
     ]
    },
    {
     "name": "stderr",
     "output_type": "stream",
     "text": [
      "C:\\Users\\Paul\\anaconda3\\lib\\site-packages\\statsmodels\\tsa\\base\\tsa_model.py:524: ValueWarning: No frequency information was provided, so inferred frequency MS will be used.\n",
      "  warnings.warn('No frequency information was'\n",
      "C:\\Users\\Paul\\anaconda3\\lib\\site-packages\\statsmodels\\tsa\\base\\tsa_model.py:524: ValueWarning: No frequency information was provided, so inferred frequency MS will be used.\n",
      "  warnings.warn('No frequency information was'\n"
     ]
    },
    {
     "name": "stdout",
     "output_type": "stream",
     "text": [
      "            prediction  actual   error       mse    rmse\n",
      "2020-01-01  810.072280     811   -0.93      0.86    0.93\n",
      "2020-02-01  781.391874     812  -30.61    936.97   30.61\n",
      "2020-03-01  862.905363     629  233.91  54713.89  233.91\n",
      "2020-04-01  446.945588     419   27.95    781.20   27.95\n",
      "2020-05-01  303.247287     276   27.25    742.56   27.25\n",
      "2020-06-01  167.381090     158    9.38     87.98    9.38\n",
      "2020-07-01  107.875204     156  -48.12   2315.53   48.12\n",
      "2020-08-01  147.776616     151   -3.22     10.37    3.22\n",
      "2020-09-01  234.644213     243   -8.36     69.89    8.36\n",
      "2020-10-01  322.534831     485 -162.47  26396.50  162.47\n",
      "2020-11-01  678.053130     545  133.05  17702.30  133.05\n",
      "2020-12-01  554.644659     650  -95.36   9093.53   95.36\n",
      "2021-01-01  774.509034     744   30.51    930.86   30.51\n",
      "2021-02-01  701.102939     788  -86.90   7551.61   86.90\n"
     ]
    },
    {
     "name": "stderr",
     "output_type": "stream",
     "text": [
      "C:\\Users\\Paul\\anaconda3\\lib\\site-packages\\statsmodels\\tsa\\base\\tsa_model.py:524: ValueWarning: No frequency information was provided, so inferred frequency MS will be used.\n",
      "  warnings.warn('No frequency information was'\n",
      "C:\\Users\\Paul\\anaconda3\\lib\\site-packages\\statsmodels\\tsa\\base\\tsa_model.py:524: ValueWarning: No frequency information was provided, so inferred frequency MS will be used.\n",
      "  warnings.warn('No frequency information was'\n"
     ]
    },
    {
     "name": "stdout",
     "output_type": "stream",
     "text": [
      "             prediction  actual   error       mse    rmse\n",
      "2020-01-01  1024.315459     971   53.32   2843.02   53.32\n",
      "2020-02-01   927.433354     946  -18.57    344.84   18.57\n",
      "2020-03-01   887.339327     731  156.34  24442.20  156.34\n",
      "2020-04-01   544.821070     483   61.82   3821.71   61.82\n",
      "2020-05-01   345.115800     438  -92.88   8626.69   92.88\n",
      "2020-06-01   422.009091     382   40.01   1600.80   40.01\n",
      "2020-07-01   389.236133     329   60.24   3628.86   60.24\n",
      "2020-08-01   299.466584     281   18.47    341.14   18.47\n",
      "2020-09-01   325.235918     339  -13.76    189.34   13.76\n",
      "2020-10-01   403.508678     510 -106.49  11340.12  106.49\n",
      "2020-11-01   707.911361     669   38.91   1513.99   38.91\n",
      "2020-12-01   781.299699     898 -116.70  13618.89  116.70\n",
      "2021-01-01  1021.002617     851  170.00  28900.00  170.00\n",
      "2021-02-01   739.249226     708   31.25    976.56   31.25\n"
     ]
    },
    {
     "name": "stderr",
     "output_type": "stream",
     "text": [
      "C:\\Users\\Paul\\anaconda3\\lib\\site-packages\\statsmodels\\tsa\\base\\tsa_model.py:524: ValueWarning: No frequency information was provided, so inferred frequency MS will be used.\n",
      "  warnings.warn('No frequency information was'\n",
      "C:\\Users\\Paul\\anaconda3\\lib\\site-packages\\statsmodels\\tsa\\base\\tsa_model.py:524: ValueWarning: No frequency information was provided, so inferred frequency MS will be used.\n",
      "  warnings.warn('No frequency information was'\n"
     ]
    },
    {
     "name": "stdout",
     "output_type": "stream",
     "text": [
      "             prediction  actual   error        mse    rmse\n",
      "2020-01-01  1440.378189    1372   68.38    4675.82   68.38\n",
      "2020-02-01  1244.607371    1254   -9.39      88.17    9.39\n",
      "2020-03-01  1403.673791    1214  189.67   35974.71  189.67\n",
      "2020-04-01  1060.841896    1072  -11.16     124.55   11.16\n",
      "2020-05-01   873.549971     837   36.55    1335.90   36.55\n",
      "2020-06-01   602.107419     621  -18.89     356.83   18.89\n",
      "2020-07-01   484.600794     478    6.60      43.56    6.60\n",
      "2020-08-01   394.452020     359   35.45    1256.70   35.45\n",
      "2020-09-01   505.829129     570  -64.17    4117.79   64.17\n",
      "2020-10-01   767.431726    1125 -357.57  127856.30  357.57\n",
      "2020-11-01  1606.274327    1235  371.27  137841.41  371.27\n",
      "2020-12-01  1141.269497    1449 -307.73   94697.75  307.73\n",
      "2021-01-01  1755.317126    1560  195.32   38149.90  195.32\n",
      "2021-02-01  1285.598149    1546 -260.40   67808.16  260.40\n"
     ]
    },
    {
     "name": "stderr",
     "output_type": "stream",
     "text": [
      "C:\\Users\\Paul\\anaconda3\\lib\\site-packages\\statsmodels\\tsa\\base\\tsa_model.py:524: ValueWarning: No frequency information was provided, so inferred frequency MS will be used.\n",
      "  warnings.warn('No frequency information was'\n",
      "C:\\Users\\Paul\\anaconda3\\lib\\site-packages\\statsmodels\\tsa\\base\\tsa_model.py:524: ValueWarning: No frequency information was provided, so inferred frequency MS will be used.\n",
      "  warnings.warn('No frequency information was'\n"
     ]
    },
    {
     "name": "stdout",
     "output_type": "stream",
     "text": [
      "            prediction  actual  error      mse   rmse\n",
      "2020-01-01  241.214479     198  43.21  1867.10  43.21\n",
      "2020-02-01  166.271063     167  -0.73     0.53   0.73\n",
      "2020-03-01  184.842126     212 -27.16   737.67  27.16\n",
      "2020-04-01  217.092608     232 -14.91   222.31  14.91\n",
      "2020-05-01  213.617464     215  -1.38     1.90   1.38\n",
      "2020-06-01  189.864495     191  -1.14     1.30   1.14\n",
      "2020-07-01  200.624559     189  11.62   135.02  11.62\n",
      "2020-08-01  185.576262     182   3.58    12.82   3.58\n",
      "2020-09-01  190.615692     180  10.62   112.78  10.62\n",
      "2020-10-01  191.597243     194  -2.40     5.76   2.40\n",
      "2020-11-01  201.288576     192   9.29    86.30   9.29\n",
      "2020-12-01  200.444120     202  -1.56     2.43   1.56\n",
      "2021-01-01  208.207704     210  -1.79     3.20   1.79\n",
      "2021-02-01  195.542461     197  -1.46     2.13   1.46\n"
     ]
    },
    {
     "name": "stderr",
     "output_type": "stream",
     "text": [
      "C:\\Users\\Paul\\anaconda3\\lib\\site-packages\\statsmodels\\tsa\\base\\tsa_model.py:524: ValueWarning: No frequency information was provided, so inferred frequency MS will be used.\n",
      "  warnings.warn('No frequency information was'\n",
      "C:\\Users\\Paul\\anaconda3\\lib\\site-packages\\statsmodels\\tsa\\base\\tsa_model.py:524: ValueWarning: No frequency information was provided, so inferred frequency MS will be used.\n",
      "  warnings.warn('No frequency information was'\n"
     ]
    },
    {
     "name": "stdout",
     "output_type": "stream",
     "text": [
      "            prediction  actual   error       mse    rmse\n",
      "2020-01-01  775.768383     773    2.77      7.67    2.77\n",
      "2020-02-01  722.794524     755  -32.21   1037.48   32.21\n",
      "2020-03-01  632.793646     587   45.79   2096.72   45.79\n",
      "2020-04-01  460.308702     393   67.31   4530.64   67.31\n",
      "2020-05-01  304.919677     317  -12.08    145.93   12.08\n",
      "2020-06-01  232.917738     243  -10.08    101.61   10.08\n",
      "2020-07-01  255.457093     231   24.46    598.29   24.46\n",
      "2020-08-01  195.313131     216  -20.69    428.08   20.69\n",
      "2020-09-01  295.720096     252   43.72   1911.44   43.72\n",
      "2020-10-01  375.932130     360   15.93    253.76   15.93\n",
      "2020-11-01  514.883771     425   89.88   8078.41   89.88\n",
      "2020-12-01  609.281609     528   81.28   6606.44   81.28\n",
      "2021-01-01  657.813902     485  172.81  29863.30  172.81\n",
      "2021-02-01  568.031911     383  185.03  34236.10  185.03\n"
     ]
    },
    {
     "name": "stderr",
     "output_type": "stream",
     "text": [
      "C:\\Users\\Paul\\anaconda3\\lib\\site-packages\\statsmodels\\tsa\\base\\tsa_model.py:524: ValueWarning: No frequency information was provided, so inferred frequency MS will be used.\n",
      "  warnings.warn('No frequency information was'\n",
      "C:\\Users\\Paul\\anaconda3\\lib\\site-packages\\statsmodels\\tsa\\base\\tsa_model.py:524: ValueWarning: No frequency information was provided, so inferred frequency MS will be used.\n",
      "  warnings.warn('No frequency information was'\n"
     ]
    },
    {
     "name": "stdout",
     "output_type": "stream",
     "text": [
      "             prediction  actual   error       mse    rmse\n",
      "2020-01-01  1148.651702    1060   88.65   7858.82   88.65\n",
      "2020-02-01   947.426256     987  -39.57   1565.78   39.57\n",
      "2020-03-01   913.246577     855   58.25   3393.06   58.25\n",
      "2020-04-01   670.294563     668    2.29      5.24    2.29\n",
      "2020-05-01   568.193590     630  -61.81   3820.48   61.81\n",
      "2020-06-01   579.978145     567   12.98    168.48   12.98\n",
      "2020-07-01   545.895730     510   35.90   1288.81   35.90\n",
      "2020-08-01   479.033486     455   24.03    577.44   24.03\n",
      "2020-09-01   560.896396     513   47.90   2294.41   47.90\n",
      "2020-10-01   591.060720     704 -112.94  12755.44  112.94\n",
      "2020-11-01   971.920597     864  107.92  11646.73  107.92\n",
      "2020-12-01   980.694638    1108 -127.31  16207.84  127.31\n",
      "2021-01-01  1223.899078     979  244.90  59976.01  244.90\n",
      "2021-02-01   750.641492     723   27.64    763.97   27.64\n"
     ]
    },
    {
     "name": "stderr",
     "output_type": "stream",
     "text": [
      "C:\\Users\\Paul\\anaconda3\\lib\\site-packages\\statsmodels\\tsa\\base\\tsa_model.py:524: ValueWarning: No frequency information was provided, so inferred frequency MS will be used.\n",
      "  warnings.warn('No frequency information was'\n",
      "C:\\Users\\Paul\\anaconda3\\lib\\site-packages\\statsmodels\\tsa\\base\\tsa_model.py:524: ValueWarning: No frequency information was provided, so inferred frequency MS will be used.\n",
      "  warnings.warn('No frequency information was'\n"
     ]
    },
    {
     "name": "stdout",
     "output_type": "stream",
     "text": [
      "            prediction  actual  error      mse   rmse\n",
      "2020-01-01  431.428642     433  -1.57     2.46   1.57\n",
      "2020-02-01  401.753647     411  -9.25    85.56   9.25\n",
      "2020-03-01  467.494136     448  19.49   379.86  19.49\n",
      "2020-04-01  434.714977     440  -5.29    27.98   5.29\n",
      "2020-05-01  391.491266     404 -12.51   156.50  12.51\n",
      "2020-06-01  356.853727     354   2.85     8.12   2.85\n",
      "2020-07-01  328.084859     236  92.08  8478.73  92.08\n",
      "2020-08-01  165.341471     140  25.34   642.12  25.34\n",
      "2020-09-01  199.533462     197   2.53     6.40   2.53\n",
      "2020-10-01  260.636205     351 -90.36  8164.93  90.36\n",
      "2020-11-01  403.586750     394   9.59    91.97   9.59\n",
      "2020-12-01  395.489318     473 -77.51  6007.80  77.51\n",
      "2021-01-01  526.958989     479  47.96  2300.16  47.96\n",
      "2021-02-01  413.492742     441 -27.51   756.80  27.51\n"
     ]
    },
    {
     "name": "stderr",
     "output_type": "stream",
     "text": [
      "C:\\Users\\Paul\\anaconda3\\lib\\site-packages\\statsmodels\\tsa\\base\\tsa_model.py:524: ValueWarning: No frequency information was provided, so inferred frequency MS will be used.\n",
      "  warnings.warn('No frequency information was'\n",
      "C:\\Users\\Paul\\anaconda3\\lib\\site-packages\\statsmodels\\tsa\\base\\tsa_model.py:524: ValueWarning: No frequency information was provided, so inferred frequency MS will be used.\n",
      "  warnings.warn('No frequency information was'\n"
     ]
    },
    {
     "name": "stdout",
     "output_type": "stream",
     "text": [
      "            prediction  actual   error       mse    rmse\n",
      "2020-01-01   -6.038753       0   -6.04     36.48    6.04\n",
      "2020-02-01  -62.151424       0  -62.15   3862.62   62.15\n",
      "2020-03-01  -36.956325       0  -36.96   1366.04   36.96\n",
      "2020-04-01 -109.237589       0 -109.24  11933.38  109.24\n",
      "2020-05-01 -106.706077       0 -106.71  11387.02  106.71\n",
      "2020-06-01  -60.420350       0  -60.42   3650.58   60.42\n",
      "2020-07-01  -26.973482       0  -26.97    727.38   26.97\n",
      "2020-08-01  -35.152246       0  -35.15   1235.52   35.15\n",
      "2020-09-01  154.377015       0  154.38  23833.18  154.38\n",
      "2020-10-01   -6.016057       0   -6.02     36.24    6.02\n",
      "2020-11-01  108.337365       0  108.34  11737.56  108.34\n",
      "2020-12-01   35.782704       0   35.78   1280.21   35.78\n",
      "2021-01-01    8.038503       0    8.04     64.64    8.04\n",
      "2021-02-01  -55.085276       0  -55.09   3034.91   55.09\n"
     ]
    },
    {
     "name": "stderr",
     "output_type": "stream",
     "text": [
      "C:\\Users\\Paul\\anaconda3\\lib\\site-packages\\statsmodels\\tsa\\base\\tsa_model.py:524: ValueWarning: No frequency information was provided, so inferred frequency MS will be used.\n",
      "  warnings.warn('No frequency information was'\n",
      "C:\\Users\\Paul\\anaconda3\\lib\\site-packages\\statsmodels\\tsa\\base\\tsa_model.py:524: ValueWarning: No frequency information was provided, so inferred frequency MS will be used.\n",
      "  warnings.warn('No frequency information was'\n"
     ]
    },
    {
     "name": "stdout",
     "output_type": "stream",
     "text": [
      "             prediction  actual   error        mse    rmse\n",
      "2020-01-01  1209.476130    1189   20.48     419.43   20.48\n",
      "2020-02-01  1061.709151    1132  -70.29    4940.68   70.29\n",
      "2020-03-01  1048.695477     824  224.70   50490.09  224.70\n",
      "2020-04-01   470.044730     490  -19.96     398.40   19.96\n",
      "2020-05-01    63.617998     383 -319.38  102003.58  319.38\n",
      "2020-06-01   268.918786     284  -15.08     227.41   15.08\n",
      "2020-07-01   272.722633     284  -11.28     127.24   11.28\n",
      "2020-08-01   268.965183     277   -8.03      64.48    8.03\n",
      "2020-09-01   532.440393     356  176.44   31131.07  176.44\n",
      "2020-10-01   446.410064     583 -136.59   18656.83  136.59\n",
      "2020-11-01   993.188763     743  250.19   62595.04  250.19\n",
      "2020-12-01   894.271793     977  -82.73    6844.25   82.73\n",
      "2021-01-01  1050.779701    1046    4.78      22.85    4.78\n",
      "2021-02-01   957.205576    1030  -72.79    5298.38   72.79\n"
     ]
    },
    {
     "name": "stderr",
     "output_type": "stream",
     "text": [
      "C:\\Users\\Paul\\anaconda3\\lib\\site-packages\\statsmodels\\tsa\\base\\tsa_model.py:524: ValueWarning: No frequency information was provided, so inferred frequency MS will be used.\n",
      "  warnings.warn('No frequency information was'\n",
      "C:\\Users\\Paul\\anaconda3\\lib\\site-packages\\statsmodels\\tsa\\base\\tsa_model.py:524: ValueWarning: No frequency information was provided, so inferred frequency MS will be used.\n",
      "  warnings.warn('No frequency information was'\n"
     ]
    },
    {
     "name": "stdout",
     "output_type": "stream",
     "text": [
      "            prediction  actual  error      mse   rmse\n",
      "2020-01-01  315.752679     268  47.75  2280.06  47.75\n",
      "2020-02-01  232.844112     267 -34.16  1166.91  34.16\n",
      "2020-03-01  242.762353     272 -29.24   854.98  29.24\n",
      "2020-04-01  214.079382     253 -38.92  1514.77  38.92\n",
      "2020-05-01  216.768275     229 -12.23   149.57  12.23\n",
      "2020-06-01  184.329915     200 -15.67   245.55  15.67\n",
      "2020-07-01  188.544301     206 -17.46   304.85  17.46\n",
      "2020-08-01  201.081587     204  -2.92     8.53   2.92\n",
      "2020-09-01  228.012080     202  26.01   676.52  26.01\n",
      "2020-10-01  209.280874     217  -7.72    59.60   7.72\n",
      "2020-11-01  279.687522     218  61.69  3805.66  61.69\n",
      "2020-12-01  241.045256     235   6.05    36.60   6.05\n",
      "2021-01-01  290.013375     235  55.01  3026.10  55.01\n",
      "2021-02-01  195.152424     212 -16.85   283.92  16.85\n"
     ]
    },
    {
     "name": "stderr",
     "output_type": "stream",
     "text": [
      "C:\\Users\\Paul\\anaconda3\\lib\\site-packages\\statsmodels\\tsa\\base\\tsa_model.py:524: ValueWarning: No frequency information was provided, so inferred frequency MS will be used.\n",
      "  warnings.warn('No frequency information was'\n",
      "C:\\Users\\Paul\\anaconda3\\lib\\site-packages\\statsmodels\\tsa\\base\\tsa_model.py:524: ValueWarning: No frequency information was provided, so inferred frequency MS will be used.\n",
      "  warnings.warn('No frequency information was'\n"
     ]
    },
    {
     "name": "stdout",
     "output_type": "stream",
     "text": [
      "            prediction  actual   error       mse    rmse\n",
      "2020-01-01  334.315461     425  -90.68   8222.86   90.68\n",
      "2020-02-01  307.379774     426 -118.62  14070.70  118.62\n",
      "2020-03-01  318.575248     319   -0.42      0.18    0.42\n",
      "2020-04-01  227.752459     202   25.75    663.06   25.75\n",
      "2020-05-01  218.235732     150   68.24   4656.70   68.24\n",
      "2020-06-01   97.607397     104   -6.39     40.83    6.39\n",
      "2020-07-01  132.173113     108   24.17    584.19   24.17\n",
      "2020-08-01  130.752795     108   22.75    517.56   22.75\n",
      "2020-09-01  131.367273     122    9.37     87.80    9.37\n",
      "2020-10-01  144.432634     167  -22.57    509.40   22.57\n",
      "2020-11-01  230.674023     198   32.67   1067.33   32.67\n",
      "2020-12-01  274.965457     249   25.97    674.44   25.97\n",
      "2021-01-01  267.298246     247   20.30    412.09   20.30\n",
      "2021-02-01  218.789233     221   -2.21      4.88    2.21\n"
     ]
    },
    {
     "name": "stderr",
     "output_type": "stream",
     "text": [
      "C:\\Users\\Paul\\anaconda3\\lib\\site-packages\\statsmodels\\tsa\\base\\tsa_model.py:524: ValueWarning: No frequency information was provided, so inferred frequency MS will be used.\n",
      "  warnings.warn('No frequency information was'\n",
      "C:\\Users\\Paul\\anaconda3\\lib\\site-packages\\statsmodels\\tsa\\base\\tsa_model.py:524: ValueWarning: No frequency information was provided, so inferred frequency MS will be used.\n",
      "  warnings.warn('No frequency information was'\n"
     ]
    },
    {
     "name": "stdout",
     "output_type": "stream",
     "text": [
      "            prediction  actual   error       mse    rmse\n",
      "2020-01-01  616.228925     561   55.23   3050.35   55.23\n",
      "2020-02-01  426.382619     490  -63.62   4047.50   63.62\n",
      "2020-03-01  397.649232     453  -55.35   3063.62   55.35\n",
      "2020-04-01  371.802003     382  -10.20    104.04   10.20\n",
      "2020-05-01  460.657541     319  141.66  20067.56  141.66\n",
      "2020-06-01  242.476661     256  -13.52    182.79   13.52\n",
      "2020-07-01  155.933864     253  -97.07   9422.58   97.07\n",
      "2020-08-01  207.821207     244  -36.18   1308.99   36.18\n",
      "2020-09-01  450.843608     290  160.84  25869.51  160.84\n",
      "2020-10-01  273.834518     431 -157.17  24702.41  157.17\n",
      "2020-11-01  733.371309     549  184.37  33992.30  184.37\n",
      "2020-12-01  513.863121     725 -211.14  44580.10  211.14\n",
      "2021-01-01  882.079492     676  206.08  42468.97  206.08\n",
      "2021-02-01  398.869566     550 -151.13  22840.28  151.13\n"
     ]
    },
    {
     "name": "stderr",
     "output_type": "stream",
     "text": [
      "C:\\Users\\Paul\\anaconda3\\lib\\site-packages\\statsmodels\\tsa\\base\\tsa_model.py:524: ValueWarning: No frequency information was provided, so inferred frequency MS will be used.\n",
      "  warnings.warn('No frequency information was'\n",
      "C:\\Users\\Paul\\anaconda3\\lib\\site-packages\\statsmodels\\tsa\\base\\tsa_model.py:524: ValueWarning: No frequency information was provided, so inferred frequency MS will be used.\n",
      "  warnings.warn('No frequency information was'\n"
     ]
    },
    {
     "name": "stdout",
     "output_type": "stream",
     "text": [
      "            prediction  actual   error       mse    rmse\n",
      "2020-01-01  752.628337     675   77.63   6026.42   77.63\n",
      "2020-02-01  604.660629     628  -23.34    544.76   23.34\n",
      "2020-03-01  646.901462     491  155.90  24304.81  155.90\n",
      "2020-04-01  357.366645     331   26.37    695.38   26.37\n",
      "2020-05-01  253.151437     241   12.15    147.62   12.15\n",
      "2020-06-01  176.852801     161   15.85    251.22   15.85\n",
      "2020-07-01  134.281571     144   -9.72     94.48    9.72\n",
      "2020-08-01  130.880302     127    3.88     15.05    3.88\n",
      "2020-09-01  134.954889     162  -27.05    731.70   27.05\n",
      "2020-10-01  203.919583     260  -56.08   3144.97   56.08\n",
      "2020-11-01  445.596727     416   29.60    876.16   29.60\n",
      "2020-12-01  531.553398     626  -94.45   8920.80   94.45\n",
      "2021-01-01  698.528718     645   53.53   2865.46   53.53\n",
      "2021-02-01  581.165344     607  -25.83    667.19   25.83\n"
     ]
    },
    {
     "name": "stderr",
     "output_type": "stream",
     "text": [
      "C:\\Users\\Paul\\anaconda3\\lib\\site-packages\\statsmodels\\tsa\\base\\tsa_model.py:524: ValueWarning: No frequency information was provided, so inferred frequency MS will be used.\n",
      "  warnings.warn('No frequency information was'\n",
      "C:\\Users\\Paul\\anaconda3\\lib\\site-packages\\statsmodels\\tsa\\base\\tsa_model.py:524: ValueWarning: No frequency information was provided, so inferred frequency MS will be used.\n",
      "  warnings.warn('No frequency information was'\n"
     ]
    },
    {
     "name": "stdout",
     "output_type": "stream",
     "text": [
      "            prediction  actual  error      mse   rmse\n",
      "2020-01-01  426.049255     501 -74.95  5617.50  74.95\n",
      "2020-02-01  485.518308     523 -37.48  1404.75  37.48\n",
      "2020-03-01  468.354254     474  -5.65    31.92   5.65\n",
      "2020-04-01  380.130612     391 -10.87   118.16  10.87\n",
      "2020-05-01  340.726566     324  16.73   279.89  16.73\n",
      "2020-06-01  239.330728     258 -18.67   348.57  18.67\n",
      "2020-07-01  251.180066     219  32.18  1035.55  32.18\n",
      "2020-08-01  203.628752     185  18.63   347.08  18.63\n",
      "2020-09-01  227.773203     254 -26.23   688.01  26.23\n",
      "2020-10-01  322.312153     370 -47.69  2274.34  47.69\n",
      "2020-11-01  490.904467     404  86.90  7551.61  86.90\n",
      "2020-12-01  459.976384     537 -77.02  5932.08  77.02\n",
      "2021-01-01  613.618020     521  92.62  8578.46  92.62\n",
      "2021-02-01  440.056369     450  -9.94    98.80   9.94\n"
     ]
    },
    {
     "name": "stderr",
     "output_type": "stream",
     "text": [
      "C:\\Users\\Paul\\anaconda3\\lib\\site-packages\\statsmodels\\tsa\\base\\tsa_model.py:524: ValueWarning: No frequency information was provided, so inferred frequency MS will be used.\n",
      "  warnings.warn('No frequency information was'\n",
      "C:\\Users\\Paul\\anaconda3\\lib\\site-packages\\statsmodels\\tsa\\base\\tsa_model.py:524: ValueWarning: No frequency information was provided, so inferred frequency MS will be used.\n",
      "  warnings.warn('No frequency information was'\n"
     ]
    },
    {
     "name": "stdout",
     "output_type": "stream",
     "text": [
      "            prediction  actual   error       mse    rmse\n",
      "2020-01-01  936.619965     857   79.62   6339.34   79.62\n",
      "2020-02-01  764.593603     803  -38.41   1475.33   38.41\n",
      "2020-03-01  616.620989     654  -37.38   1397.26   37.38\n",
      "2020-04-01  452.808204     472  -19.19    368.26   19.19\n",
      "2020-05-01  375.497298     403  -27.50    756.25   27.50\n",
      "2020-06-01  336.328808     330    6.33     40.07    6.33\n",
      "2020-07-01  304.736864     293   11.74    137.83   11.74\n",
      "2020-08-01  267.146655     258    9.15     83.72    9.15\n",
      "2020-09-01  315.025518     273   42.03   1766.52   42.03\n",
      "2020-10-01  308.600815     339  -30.40    924.16   30.40\n",
      "2020-11-01  627.366102     480  147.37  21717.92  147.37\n",
      "2020-12-01  642.371324     674  -31.63   1000.46   31.63\n",
      "2021-01-01  754.928298     636  118.93  14144.34  118.93\n",
      "2021-02-01  518.445350     526   -7.55     57.00    7.55\n"
     ]
    },
    {
     "name": "stderr",
     "output_type": "stream",
     "text": [
      "C:\\Users\\Paul\\anaconda3\\lib\\site-packages\\statsmodels\\tsa\\base\\tsa_model.py:524: ValueWarning: No frequency information was provided, so inferred frequency MS will be used.\n",
      "  warnings.warn('No frequency information was'\n",
      "C:\\Users\\Paul\\anaconda3\\lib\\site-packages\\statsmodels\\tsa\\base\\tsa_model.py:524: ValueWarning: No frequency information was provided, so inferred frequency MS will be used.\n",
      "  warnings.warn('No frequency information was'\n"
     ]
    },
    {
     "name": "stdout",
     "output_type": "stream",
     "text": [
      "            prediction  actual  error      mse   rmse\n",
      "2020-01-01  347.615414     325  22.62   511.66  22.62\n",
      "2020-02-01  283.359656     300 -16.64   276.89  16.64\n",
      "2020-03-01  329.638383     327   2.64     6.97   2.64\n",
      "2020-04-01  299.715508     322 -22.28   496.40  22.28\n",
      "2020-05-01  306.581221     312  -5.42    29.38   5.42\n",
      "2020-06-01  281.081545     289  -7.92    62.73   7.92\n",
      "2020-07-01  295.830830     283  12.83   164.61  12.83\n",
      "2020-08-01  270.383844     272  -1.62     2.62   1.62\n",
      "2020-09-01  263.318951     279 -15.68   245.86  15.68\n",
      "2020-10-01  291.588522     328 -36.41  1325.69  36.41\n",
      "2020-11-01  388.836806     304  84.84  7197.83  84.84\n",
      "2020-12-01  295.516736     299  -3.48    12.11   3.48\n",
      "2021-01-01  315.355966     295  20.36   414.53  20.36\n",
      "2021-02-01  254.205292     261  -6.79    46.10   6.79\n"
     ]
    },
    {
     "name": "stderr",
     "output_type": "stream",
     "text": [
      "C:\\Users\\Paul\\anaconda3\\lib\\site-packages\\statsmodels\\tsa\\base\\tsa_model.py:524: ValueWarning: No frequency information was provided, so inferred frequency MS will be used.\n",
      "  warnings.warn('No frequency information was'\n",
      "C:\\Users\\Paul\\anaconda3\\lib\\site-packages\\statsmodels\\tsa\\base\\tsa_model.py:524: ValueWarning: No frequency information was provided, so inferred frequency MS will be used.\n",
      "  warnings.warn('No frequency information was'\n"
     ]
    },
    {
     "name": "stdout",
     "output_type": "stream",
     "text": [
      "            prediction  actual   error       mse    rmse\n",
      "2020-01-01  838.569985     920  -81.43   6630.84   81.43\n",
      "2020-02-01  944.554068     952   -7.45     55.50    7.45\n",
      "2020-03-01  941.215416     738  203.22  41298.37  203.22\n",
      "2020-04-01  537.693182     491   46.69   2179.96   46.69\n",
      "2020-05-01  352.161513     434  -81.84   6697.79   81.84\n",
      "2020-06-01  421.515268     368   53.52   2864.39   53.52\n",
      "2020-07-01  316.763789     345  -28.24    797.50   28.24\n",
      "2020-08-01  338.777147     318   20.78    431.81   20.78\n",
      "2020-09-01  384.541198     347   37.54   1409.25   37.54\n",
      "2020-10-01  383.846430     451  -67.15   4509.12   67.15\n",
      "2020-11-01  617.178344     590   27.18    738.75   27.18\n",
      "2020-12-01  707.820455     791  -83.18   6918.91   83.18\n",
      "2021-01-01  871.687192     830   41.69   1738.06   41.69\n",
      "2021-02-01  786.931211     800  -13.07    170.82   13.07\n"
     ]
    },
    {
     "name": "stderr",
     "output_type": "stream",
     "text": [
      "C:\\Users\\Paul\\anaconda3\\lib\\site-packages\\statsmodels\\tsa\\base\\tsa_model.py:524: ValueWarning: No frequency information was provided, so inferred frequency MS will be used.\n",
      "  warnings.warn('No frequency information was'\n",
      "C:\\Users\\Paul\\anaconda3\\lib\\site-packages\\statsmodels\\tsa\\base\\tsa_model.py:524: ValueWarning: No frequency information was provided, so inferred frequency MS will be used.\n",
      "  warnings.warn('No frequency information was'\n"
     ]
    },
    {
     "name": "stdout",
     "output_type": "stream",
     "text": [
      "            prediction  actual  error      mse   rmse\n",
      "2020-01-01  431.577252     492 -60.42  3650.58  60.42\n",
      "2020-02-01  463.538530     504 -40.46  1637.01  40.46\n",
      "2020-03-01  472.751210     505 -32.25  1040.06  32.25\n",
      "2020-04-01  439.517065     462 -22.48   505.35  22.48\n",
      "2020-05-01  432.935501     512 -79.06  6250.48  79.06\n",
      "2020-06-01  518.372546     520  -1.63     2.66   1.63\n",
      "2020-07-01  505.999677     440  66.00  4356.00  66.00\n",
      "2020-08-01  388.447437     368  20.45   418.20  20.45\n",
      "2020-09-01  403.670091     355  48.67  2368.77  48.67\n",
      "2020-10-01  367.289675     366   1.29     1.66   1.29\n",
      "2020-11-01  485.172029     387  98.17  9637.35  98.17\n",
      "2020-12-01  440.980576     437   3.98    15.84   3.98\n",
      "2021-01-01  443.338889     469 -25.66   658.44  25.66\n",
      "2021-02-01  431.205570     464 -32.79  1075.18  32.79\n"
     ]
    },
    {
     "name": "stderr",
     "output_type": "stream",
     "text": [
      "C:\\Users\\Paul\\anaconda3\\lib\\site-packages\\statsmodels\\tsa\\base\\tsa_model.py:524: ValueWarning: No frequency information was provided, so inferred frequency MS will be used.\n",
      "  warnings.warn('No frequency information was'\n",
      "C:\\Users\\Paul\\anaconda3\\lib\\site-packages\\statsmodels\\tsa\\base\\tsa_model.py:524: ValueWarning: No frequency information was provided, so inferred frequency MS will be used.\n",
      "  warnings.warn('No frequency information was'\n"
     ]
    },
    {
     "name": "stdout",
     "output_type": "stream",
     "text": [
      "             prediction  actual   error       mse    rmse\n",
      "2020-01-01   615.324104     681  -65.68   4313.86   65.68\n",
      "2020-02-01   649.135526     714  -64.86   4206.82   64.86\n",
      "2020-03-01   708.613690     697   11.61    134.79   11.61\n",
      "2020-04-01   605.697862     622  -16.30    265.69   16.30\n",
      "2020-05-01   460.530307     490  -29.47    868.48   29.47\n",
      "2020-06-01   367.831556     368   -0.17      0.03    0.17\n",
      "2020-07-01   321.752519     348  -26.25    689.06   26.25\n",
      "2020-08-01   324.495118     325   -0.50      0.25    0.50\n",
      "2020-09-01   412.546710     429  -16.45    270.60   16.45\n",
      "2020-10-01   511.625362     720 -208.37  43418.06  208.37\n",
      "2020-11-01   922.584416     834   88.58   7846.42   88.58\n",
      "2020-12-01   917.163623    1024 -106.84  11414.79  106.84\n",
      "2021-01-01  1130.593226    1044   86.59   7497.83   86.59\n",
      "2021-02-01   983.261267     967   16.26    264.39   16.26\n"
     ]
    },
    {
     "name": "stderr",
     "output_type": "stream",
     "text": [
      "C:\\Users\\Paul\\anaconda3\\lib\\site-packages\\statsmodels\\tsa\\base\\tsa_model.py:524: ValueWarning: No frequency information was provided, so inferred frequency MS will be used.\n",
      "  warnings.warn('No frequency information was'\n",
      "C:\\Users\\Paul\\anaconda3\\lib\\site-packages\\statsmodels\\tsa\\base\\tsa_model.py:524: ValueWarning: No frequency information was provided, so inferred frequency MS will be used.\n",
      "  warnings.warn('No frequency information was'\n"
     ]
    },
    {
     "name": "stdout",
     "output_type": "stream",
     "text": [
      "            prediction  actual  error      mse   rmse\n",
      "2020-01-01  447.035200     386  61.04  3725.88  61.04\n",
      "2020-02-01  344.409579     339   5.41    29.27   5.41\n",
      "2020-03-01  287.603040     291  -3.40    11.56   3.40\n",
      "2020-04-01  210.721308     223 -12.28   150.80  12.28\n",
      "2020-05-01  164.975648     214 -49.02  2402.96  49.02\n",
      "2020-06-01  180.917944     145  35.92  1290.25  35.92\n",
      "2020-07-01  114.929363      75  39.93  1594.40  39.93\n",
      "2020-08-01   56.842306     115 -58.16  3382.59  58.16\n",
      "2020-09-01  172.141860     131  41.14  1692.50  41.14\n",
      "2020-10-01  143.029465     181 -37.97  1441.72  37.97\n",
      "2020-11-01  298.146740     298   0.15     0.02   0.14\n",
      "2020-12-01  377.732711     454 -76.27  5817.11  76.27\n",
      "2021-01-01  502.887145     467  35.89  1288.09  35.89\n",
      "2021-02-01  420.898217     440 -19.10   364.81  19.10\n"
     ]
    },
    {
     "name": "stderr",
     "output_type": "stream",
     "text": [
      "C:\\Users\\Paul\\anaconda3\\lib\\site-packages\\statsmodels\\tsa\\base\\tsa_model.py:524: ValueWarning: No frequency information was provided, so inferred frequency MS will be used.\n",
      "  warnings.warn('No frequency information was'\n",
      "C:\\Users\\Paul\\anaconda3\\lib\\site-packages\\statsmodels\\tsa\\base\\tsa_model.py:524: ValueWarning: No frequency information was provided, so inferred frequency MS will be used.\n",
      "  warnings.warn('No frequency information was'\n"
     ]
    },
    {
     "name": "stdout",
     "output_type": "stream",
     "text": [
      "            prediction  actual   error       mse    rmse\n",
      "2020-01-01  631.340872     664  -32.66   1066.68   32.66\n",
      "2020-02-01  651.576940     649    2.58      6.66    2.58\n",
      "2020-03-01  556.014522     437  119.01  14163.38  119.01\n",
      "2020-04-01  249.881595     217   32.88   1081.09   32.88\n",
      "2020-05-01  208.232669     205    3.23     10.43    3.23\n",
      "2020-06-01  189.203414     185    4.20     17.64    4.20\n",
      "2020-07-01  147.504631     142    5.50     30.25    5.50\n",
      "2020-08-01  110.574608     107    3.57     12.74    3.57\n",
      "2020-09-01  139.507258     158  -18.49    341.88   18.49\n",
      "2020-10-01  202.832769     292  -89.17   7951.29   89.17\n",
      "2020-11-01  447.435046     158  289.44  83775.51  289.44\n",
      "2020-12-01   32.548235      15   17.55    308.00   17.55\n",
      "2021-01-01   67.374588     185 -117.63  13836.82  117.63\n",
      "2021-02-01  230.779151     378 -147.22  21673.73  147.22\n"
     ]
    },
    {
     "name": "stderr",
     "output_type": "stream",
     "text": [
      "C:\\Users\\Paul\\anaconda3\\lib\\site-packages\\statsmodels\\tsa\\base\\tsa_model.py:524: ValueWarning: No frequency information was provided, so inferred frequency MS will be used.\n",
      "  warnings.warn('No frequency information was'\n",
      "C:\\Users\\Paul\\anaconda3\\lib\\site-packages\\statsmodels\\tsa\\base\\tsa_model.py:524: ValueWarning: No frequency information was provided, so inferred frequency MS will be used.\n",
      "  warnings.warn('No frequency information was'\n"
     ]
    },
    {
     "name": "stdout",
     "output_type": "stream",
     "text": [
      "            prediction  actual   error       mse    rmse\n",
      "2020-01-01  528.771907     661 -132.23  17484.77  132.23\n",
      "2020-02-01  662.760851     705  -42.24   1784.22   42.24\n",
      "2020-03-01  708.198819     550  158.20  25027.24  158.20\n",
      "2020-04-01  468.839093     368  100.84  10168.71  100.84\n",
      "2020-05-01  316.746381     321   -4.25     18.06    4.25\n",
      "2020-06-01  293.575363     269   24.58    604.18   24.58\n",
      "2020-07-01  274.674971     208   66.67   4444.89   66.67\n",
      "2020-08-01  189.671741     156   33.67   1133.67   33.67\n",
      "2020-09-01  170.462734     237  -66.54   4427.57   66.54\n",
      "2020-10-01  298.264718     453 -154.74  23944.47  154.74\n",
      "2020-11-01  568.057046     362  206.06  42460.72  206.06\n",
      "2020-12-01  334.372669     425  -90.63   8213.80   90.63\n",
      "2021-01-01  460.987341     389   71.99   5182.56   71.99\n",
      "2021-02-01  324.259258     306   18.26    333.43   18.26\n"
     ]
    },
    {
     "name": "stderr",
     "output_type": "stream",
     "text": [
      "C:\\Users\\Paul\\anaconda3\\lib\\site-packages\\statsmodels\\tsa\\base\\tsa_model.py:524: ValueWarning: No frequency information was provided, so inferred frequency MS will be used.\n",
      "  warnings.warn('No frequency information was'\n",
      "C:\\Users\\Paul\\anaconda3\\lib\\site-packages\\statsmodels\\tsa\\base\\tsa_model.py:524: ValueWarning: No frequency information was provided, so inferred frequency MS will be used.\n",
      "  warnings.warn('No frequency information was'\n"
     ]
    },
    {
     "name": "stdout",
     "output_type": "stream",
     "text": [
      "             prediction  actual   error        mse    rmse\n",
      "2020-01-01  1458.393424    1313  145.39   21138.25  145.39\n",
      "2020-02-01  1246.742891    1188   58.74    3450.39   58.74\n",
      "2020-03-01  1292.675344    1199   93.68    8775.94   93.68\n",
      "2020-04-01  1184.880455    1104   80.88    6541.57   80.88\n",
      "2020-05-01   961.675336    1040  -78.32    6134.02   78.32\n",
      "2020-06-01   976.197627     938   38.20    1459.24   38.20\n",
      "2020-07-01   928.511309     899   29.51     870.84   29.51\n",
      "2020-08-01   898.794108     850   48.79    2380.46   48.79\n",
      "2020-09-01   987.413442    1039  -51.59    2661.53   51.59\n",
      "2020-10-01  1201.993841    1594 -392.01  153671.84  392.01\n",
      "2020-11-01  1787.535901    1578  209.54   43907.01  209.54\n",
      "2020-12-01  1563.742156    1675 -111.26   12378.79  111.26\n",
      "2021-01-01  1777.657538    1713   64.66    4180.92   64.66\n",
      "2021-02-01  1593.681671    1594   -0.32       0.10    0.32\n"
     ]
    },
    {
     "name": "stderr",
     "output_type": "stream",
     "text": [
      "C:\\Users\\Paul\\anaconda3\\lib\\site-packages\\statsmodels\\tsa\\base\\tsa_model.py:524: ValueWarning: No frequency information was provided, so inferred frequency MS will be used.\n",
      "  warnings.warn('No frequency information was'\n",
      "C:\\Users\\Paul\\anaconda3\\lib\\site-packages\\statsmodels\\tsa\\base\\tsa_model.py:524: ValueWarning: No frequency information was provided, so inferred frequency MS will be used.\n",
      "  warnings.warn('No frequency information was'\n"
     ]
    },
    {
     "name": "stdout",
     "output_type": "stream",
     "text": [
      "            prediction  actual   error       mse    rmse\n",
      "2020-01-01  460.669339     502  -41.33   1708.17   41.33\n",
      "2020-02-01  471.240602     479   -7.76     60.22    7.76\n",
      "2020-03-01  479.989217     454   25.99    675.48   25.99\n",
      "2020-04-01  421.642275     393   28.64    820.25   28.64\n",
      "2020-05-01  330.067462     275   55.07   3032.70   55.07\n",
      "2020-06-01  206.181535     174   32.18   1035.55   32.18\n",
      "2020-07-01  154.806183     162   -7.19     51.70    7.19\n",
      "2020-08-01  165.933024     149   16.93    286.62   16.93\n",
      "2020-09-01  159.936933     215  -55.06   3031.60   55.06\n",
      "2020-10-01  275.514748     391 -115.49  13337.94  115.49\n",
      "2020-11-01  552.206174     445  107.21  11493.98  107.21\n",
      "2020-12-01  442.588079     537  -94.41   8913.25   94.41\n",
      "2021-01-01  579.690068     536   43.69   1908.82   43.69\n",
      "2021-02-01  442.811370     481  -38.19   1458.48   38.19\n"
     ]
    },
    {
     "name": "stderr",
     "output_type": "stream",
     "text": [
      "C:\\Users\\Paul\\anaconda3\\lib\\site-packages\\statsmodels\\tsa\\base\\tsa_model.py:524: ValueWarning: No frequency information was provided, so inferred frequency MS will be used.\n",
      "  warnings.warn('No frequency information was'\n",
      "C:\\Users\\Paul\\anaconda3\\lib\\site-packages\\statsmodels\\tsa\\base\\tsa_model.py:524: ValueWarning: No frequency information was provided, so inferred frequency MS will be used.\n",
      "  warnings.warn('No frequency information was'\n"
     ]
    },
    {
     "name": "stdout",
     "output_type": "stream",
     "text": [
      "            prediction  actual   error       mse    rmse\n",
      "2020-01-01  429.898362     482  -52.10   2714.41   52.10\n",
      "2020-02-01  503.854094     548  -44.15   1949.22   44.15\n",
      "2020-03-01  495.802482     334  161.80  26179.24  161.80\n",
      "2020-04-01  178.452542     124   54.45   2964.80   54.45\n",
      "2020-05-01   79.950554      76    3.95     15.60    3.95\n",
      "2020-06-01   49.826498      36   13.83    191.27   13.83\n",
      "2020-07-01   33.439230      50  -16.56    274.23   16.56\n",
      "2020-08-01   59.071780      58    1.07      1.14    1.07\n",
      "2020-09-01   68.616379      63    5.62     31.58    5.62\n",
      "2020-10-01   73.115350      84  -10.88    118.37   10.88\n",
      "2020-11-01  183.523621     177    6.52     42.51    6.52\n",
      "2020-12-01  259.603128     294  -34.40   1183.36   34.40\n",
      "2021-01-01  397.072857     251  146.07  21336.44  146.07\n",
      "2021-02-01  208.096968     174   34.10   1162.81   34.10\n"
     ]
    },
    {
     "name": "stderr",
     "output_type": "stream",
     "text": [
      "C:\\Users\\Paul\\anaconda3\\lib\\site-packages\\statsmodels\\tsa\\base\\tsa_model.py:524: ValueWarning: No frequency information was provided, so inferred frequency MS will be used.\n",
      "  warnings.warn('No frequency information was'\n",
      "C:\\Users\\Paul\\anaconda3\\lib\\site-packages\\statsmodels\\tsa\\base\\tsa_model.py:524: ValueWarning: No frequency information was provided, so inferred frequency MS will be used.\n",
      "  warnings.warn('No frequency information was'\n"
     ]
    },
    {
     "name": "stdout",
     "output_type": "stream",
     "text": [
      "            prediction  actual   error       mse    rmse\n",
      "2020-01-01  482.973981     468   14.97    224.10   14.97\n",
      "2020-02-01  452.278140     461   -8.72     76.04    8.72\n",
      "2020-03-01  388.961687     447  -58.04   3368.64   58.04\n",
      "2020-04-01  405.672312     398    7.67     58.83    7.67\n",
      "2020-05-01  338.902324     388  -49.10   2410.81   49.10\n",
      "2020-06-01  349.528256     360  -10.47    109.62   10.47\n",
      "2020-07-01  357.022960     332   25.02    626.00   25.02\n",
      "2020-08-01  319.020748     304   15.02    225.60   15.02\n",
      "2020-09-01  315.794573     384  -68.21   4652.60   68.21\n",
      "2020-10-01  460.545646     613 -152.45  23241.00  152.45\n",
      "2020-11-01  697.566524     691    6.57     43.16    6.57\n",
      "2020-12-01  752.109525     829  -76.89   5912.07   76.89\n",
      "2021-01-01  893.117632     762  131.12  17192.45  131.12\n",
      "2021-02-01  716.131382     602  114.13  13025.66  114.13\n"
     ]
    },
    {
     "name": "stderr",
     "output_type": "stream",
     "text": [
      "C:\\Users\\Paul\\anaconda3\\lib\\site-packages\\statsmodels\\tsa\\base\\tsa_model.py:524: ValueWarning: No frequency information was provided, so inferred frequency MS will be used.\n",
      "  warnings.warn('No frequency information was'\n",
      "C:\\Users\\Paul\\anaconda3\\lib\\site-packages\\statsmodels\\tsa\\base\\tsa_model.py:524: ValueWarning: No frequency information was provided, so inferred frequency MS will be used.\n",
      "  warnings.warn('No frequency information was'\n"
     ]
    },
    {
     "name": "stdout",
     "output_type": "stream",
     "text": [
      "            prediction  actual  error      mse   rmse\n",
      "2020-01-01  209.791566     195  14.79   218.74  14.79\n",
      "2020-02-01  164.852389     172  -7.15    51.12   7.15\n",
      "2020-03-01  204.539190     178  26.54   704.37  26.54\n",
      "2020-04-01  165.509804     168  -2.49     6.20   2.49\n",
      "2020-05-01  136.239799     165 -28.76   827.14  28.76\n",
      "2020-06-01  143.824139     153  -9.18    84.27   9.18\n",
      "2020-07-01  138.392256     132   6.39    40.83   6.39\n",
      "2020-08-01  116.138416     111   5.14    26.42   5.14\n",
      "2020-09-01  105.490215     124 -18.51   342.62  18.51\n",
      "2020-10-01  135.046394     166 -30.95   957.90  30.95\n",
      "2020-11-01  242.747103     176  66.75  4455.56  66.75\n",
      "2020-12-01  203.427283     202   1.43     2.04   1.43\n",
      "2021-01-01  198.311817     247 -48.69  2370.72  48.69\n",
      "2021-02-01  244.961441     279 -34.04  1158.72  34.04\n"
     ]
    },
    {
     "name": "stderr",
     "output_type": "stream",
     "text": [
      "C:\\Users\\Paul\\anaconda3\\lib\\site-packages\\statsmodels\\tsa\\base\\tsa_model.py:524: ValueWarning: No frequency information was provided, so inferred frequency MS will be used.\n",
      "  warnings.warn('No frequency information was'\n",
      "C:\\Users\\Paul\\anaconda3\\lib\\site-packages\\statsmodels\\tsa\\base\\tsa_model.py:524: ValueWarning: No frequency information was provided, so inferred frequency MS will be used.\n",
      "  warnings.warn('No frequency information was'\n"
     ]
    },
    {
     "name": "stdout",
     "output_type": "stream",
     "text": [
      "            prediction  actual  error      mse   rmse\n",
      "2020-01-01  374.620050     337  37.62  1415.26  37.62\n",
      "2020-02-01  288.570145     297  -8.43    71.06   8.43\n",
      "2020-03-01  281.503256     308 -26.50   702.25  26.50\n",
      "2020-04-01  293.903515     290   3.90    15.21   3.90\n",
      "2020-05-01  267.135363     249  18.14   329.06  18.14\n",
      "2020-06-01  217.314070     206  11.31   127.92  11.31\n",
      "2020-07-01  202.046675     200   2.05     4.20   2.05\n",
      "2020-08-01  197.123232     190   7.12    50.69   7.12\n",
      "2020-09-01  202.255015     186  16.26   264.39  16.26\n",
      "2020-10-01  195.319734     195   0.32     0.10   0.32\n",
      "2020-11-01  260.130028     225  35.13  1234.12  35.13\n",
      "2020-12-01  258.151060     164  94.15  8864.22  94.15\n",
      "2021-01-01   82.567354      48  34.57  1195.08  34.57\n",
      "2021-02-01  -12.376276      48 -60.38  3645.74  60.38\n"
     ]
    },
    {
     "name": "stderr",
     "output_type": "stream",
     "text": [
      "C:\\Users\\Paul\\anaconda3\\lib\\site-packages\\statsmodels\\tsa\\base\\tsa_model.py:524: ValueWarning: No frequency information was provided, so inferred frequency MS will be used.\n",
      "  warnings.warn('No frequency information was'\n",
      "C:\\Users\\Paul\\anaconda3\\lib\\site-packages\\statsmodels\\tsa\\base\\tsa_model.py:524: ValueWarning: No frequency information was provided, so inferred frequency MS will be used.\n",
      "  warnings.warn('No frequency information was'\n"
     ]
    },
    {
     "name": "stdout",
     "output_type": "stream",
     "text": [
      "            prediction  actual   error       mse    rmse\n",
      "2020-01-01  691.858774     510  181.86  33073.06  181.86\n",
      "2020-02-01  495.180146     776 -280.82  78859.87  280.82\n",
      "2020-03-01  667.193205     583   84.19   7087.96   84.19\n",
      "2020-04-01  483.647639     344  139.65  19502.12  139.65\n",
      "2020-05-01  313.639219     263   50.64   2564.41   50.64\n",
      "2020-06-01  252.717638     190   62.72   3933.80   62.72\n",
      "2020-07-01  209.910633     205    4.91     24.11    4.91\n",
      "2020-08-01  217.847027     211    6.85     46.92    6.85\n",
      "2020-09-01  255.833497     235   20.83    433.89   20.83\n",
      "2020-10-01  283.185777     319  -35.81   1282.36   35.81\n",
      "2020-11-01  443.400938     395   48.40   2342.56   48.40\n",
      "2020-12-01  515.970841     512    3.97     15.76    3.97\n",
      "2021-01-01  523.910786     495   28.91    835.79   28.91\n",
      "2021-02-01  531.773297     425  106.77  11399.83  106.77\n"
     ]
    },
    {
     "name": "stderr",
     "output_type": "stream",
     "text": [
      "C:\\Users\\Paul\\anaconda3\\lib\\site-packages\\statsmodels\\tsa\\base\\tsa_model.py:524: ValueWarning: No frequency information was provided, so inferred frequency MS will be used.\n",
      "  warnings.warn('No frequency information was'\n",
      "C:\\Users\\Paul\\anaconda3\\lib\\site-packages\\statsmodels\\tsa\\base\\tsa_model.py:524: ValueWarning: No frequency information was provided, so inferred frequency MS will be used.\n",
      "  warnings.warn('No frequency information was'\n"
     ]
    },
    {
     "name": "stdout",
     "output_type": "stream",
     "text": [
      "            prediction  actual   error       mse    rmse\n",
      "2020-01-01  876.427555     907  -30.57    934.52   30.57\n",
      "2020-02-01  873.193049     883   -9.81     96.24    9.81\n",
      "2020-03-01  829.978844     710  119.98  14395.20  119.98\n",
      "2020-04-01  569.106986     502   67.11   4503.75   67.11\n",
      "2020-05-01  354.670337     337   17.67    312.23   17.67\n",
      "2020-06-01  235.398674     200   35.40   1253.16   35.40\n",
      "2020-07-01  169.936008     224  -54.06   2922.48   54.06\n",
      "2020-08-01  232.884275     235   -2.12      4.49    2.12\n",
      "2020-09-01  321.117466     282   39.12   1530.37   39.12\n",
      "2020-10-01  335.994824     419  -83.01   6890.66   83.01\n",
      "2020-11-01  557.001494     459   98.00   9604.00   98.00\n",
      "2020-12-01  590.638914     536   54.64   2985.53   54.64\n",
      "2021-01-01  544.040032     478   66.04   4361.28   66.04\n",
      "2021-02-01  410.948657     359   51.95   2698.80   51.95\n"
     ]
    },
    {
     "name": "stderr",
     "output_type": "stream",
     "text": [
      "C:\\Users\\Paul\\anaconda3\\lib\\site-packages\\statsmodels\\tsa\\base\\tsa_model.py:524: ValueWarning: No frequency information was provided, so inferred frequency MS will be used.\n",
      "  warnings.warn('No frequency information was'\n",
      "C:\\Users\\Paul\\anaconda3\\lib\\site-packages\\statsmodels\\tsa\\base\\tsa_model.py:524: ValueWarning: No frequency information was provided, so inferred frequency MS will be used.\n",
      "  warnings.warn('No frequency information was'\n"
     ]
    },
    {
     "name": "stdout",
     "output_type": "stream",
     "text": [
      "            prediction  actual   error       mse    rmse\n",
      "2020-01-01  596.057276     564   32.06   1027.84   32.06\n",
      "2020-02-01  550.249195     547    3.25     10.56    3.25\n",
      "2020-03-01  472.971884     652 -179.03  32051.74  179.03\n",
      "2020-04-01  723.781041     684   39.78   1582.45   39.78\n",
      "2020-05-01  671.416176     422  249.42  62210.34  249.42\n",
      "2020-06-01  237.719693     210   27.72    768.40   27.72\n",
      "2020-07-01  190.056545     217  -26.94    725.76   26.94\n",
      "2020-08-01  229.688375     216   13.69    187.42   13.69\n",
      "2020-09-01  215.131152     229  -13.87    192.38   13.87\n",
      "2020-10-01  261.481273     281  -19.52    381.03   19.52\n",
      "2020-11-01  316.341017     423 -106.66  11376.36  106.66\n",
      "2020-12-01  543.712436     616  -72.29   5225.84   72.29\n",
      "2021-01-01  739.596709     628  111.60  12454.56  111.60\n",
      "2021-02-01  538.934848     581  -42.07   1769.88   42.07\n"
     ]
    },
    {
     "name": "stderr",
     "output_type": "stream",
     "text": [
      "C:\\Users\\Paul\\anaconda3\\lib\\site-packages\\statsmodels\\tsa\\base\\tsa_model.py:524: ValueWarning: No frequency information was provided, so inferred frequency MS will be used.\n",
      "  warnings.warn('No frequency information was'\n",
      "C:\\Users\\Paul\\anaconda3\\lib\\site-packages\\statsmodels\\tsa\\base\\tsa_model.py:524: ValueWarning: No frequency information was provided, so inferred frequency MS will be used.\n",
      "  warnings.warn('No frequency information was'\n"
     ]
    },
    {
     "name": "stdout",
     "output_type": "stream",
     "text": [
      "            prediction  actual   error       mse    rmse\n",
      "2020-01-01  467.151031     372   95.15   9053.52   95.15\n",
      "2020-02-01  303.369602     281   22.37    500.42   22.37\n",
      "2020-03-01  281.474171     258   23.47    550.84   23.47\n",
      "2020-04-01  219.901089     214    5.90     34.81    5.90\n",
      "2020-05-01  133.775526      93   40.78   1663.01   40.78\n",
      "2020-06-01   18.397549       0   18.40    338.56   18.40\n",
      "2020-07-01  -11.778127      68  -79.78   6364.85   79.78\n",
      "2020-08-01   87.618863     116  -28.38    805.42   28.38\n",
      "2020-09-01  151.605477     130   21.61    466.99   21.61\n",
      "2020-10-01  154.556738     177  -22.44    503.55   22.44\n",
      "2020-11-01  307.786348     243   64.79   4197.74   64.79\n",
      "2020-12-01  334.195480     337   -2.80      7.84    2.80\n",
      "2021-01-01  282.456698     424 -141.54  20033.57  141.54\n",
      "2021-02-01  396.321672     493  -96.68   9347.02   96.68\n"
     ]
    },
    {
     "name": "stderr",
     "output_type": "stream",
     "text": [
      "C:\\Users\\Paul\\anaconda3\\lib\\site-packages\\statsmodels\\tsa\\base\\tsa_model.py:524: ValueWarning: No frequency information was provided, so inferred frequency MS will be used.\n",
      "  warnings.warn('No frequency information was'\n",
      "C:\\Users\\Paul\\anaconda3\\lib\\site-packages\\statsmodels\\tsa\\base\\tsa_model.py:524: ValueWarning: No frequency information was provided, so inferred frequency MS will be used.\n",
      "  warnings.warn('No frequency information was'\n"
     ]
    },
    {
     "name": "stdout",
     "output_type": "stream",
     "text": [
      "            prediction  actual  error      mse   rmse\n",
      "2020-01-01  394.658873     477 -82.34  6779.88  82.34\n",
      "2020-02-01  428.073436     500 -71.93  5173.92  71.93\n",
      "2020-03-01  418.057919     379  39.06  1525.68  39.06\n",
      "2020-04-01  233.782445     242  -8.22    67.57   8.22\n",
      "2020-05-01  194.492808     212 -17.51   306.60  17.51\n",
      "2020-06-01  170.592669     177  -6.41    41.09   6.41\n",
      "2020-07-01  165.143577     147  18.14   329.06  18.14\n",
      "2020-08-01  137.893532     122  15.89   252.49  15.89\n",
      "2020-09-01  146.863717     142   4.86    23.62   4.86\n",
      "2020-10-01  161.721440     206 -44.28  1960.72  44.28\n",
      "2020-11-01  356.615023     336  20.62   425.18  20.62\n",
      "2020-12-01  435.939255     508 -72.06  5192.64  72.06\n",
      "2021-01-01  496.275709     450  46.28  2141.84  46.28\n",
      "2021-02-01  418.507226     333  85.51  7311.96  85.51\n"
     ]
    },
    {
     "name": "stderr",
     "output_type": "stream",
     "text": [
      "C:\\Users\\Paul\\anaconda3\\lib\\site-packages\\statsmodels\\tsa\\base\\tsa_model.py:524: ValueWarning: No frequency information was provided, so inferred frequency MS will be used.\n",
      "  warnings.warn('No frequency information was'\n",
      "C:\\Users\\Paul\\anaconda3\\lib\\site-packages\\statsmodels\\tsa\\base\\tsa_model.py:524: ValueWarning: No frequency information was provided, so inferred frequency MS will be used.\n",
      "  warnings.warn('No frequency information was'\n"
     ]
    },
    {
     "name": "stdout",
     "output_type": "stream",
     "text": [
      "            prediction  actual  error      mse   rmse\n",
      "2020-01-01  451.770266     484 -32.23  1038.77  32.23\n",
      "2020-02-01  469.542778     485 -15.46   239.01  15.46\n",
      "2020-03-01  462.643501     451  11.64   135.49  11.64\n",
      "2020-04-01  389.798738     384   5.80    33.64   5.80\n",
      "2020-05-01  348.810379     342   6.81    46.38   6.81\n",
      "2020-06-01  305.684283     293  12.68   160.78  12.68\n",
      "2020-07-01  276.342886     267   9.34    87.24   9.34\n",
      "2020-08-01  252.565340     242  10.57   111.72  10.57\n",
      "2020-09-01  291.000118     282   9.00    81.00   9.00\n",
      "2020-10-01  326.896686     407 -80.10  6416.01  80.10\n",
      "2020-11-01  502.542479     456  46.54  2165.97  46.54\n",
      "2020-12-01  495.998195     545 -49.00  2401.00  49.00\n",
      "2021-01-01  592.118990     549  43.12  1859.33  43.12\n",
      "2021-02-01  505.288382     501   4.29    18.40   4.29\n"
     ]
    },
    {
     "name": "stderr",
     "output_type": "stream",
     "text": [
      "C:\\Users\\Paul\\anaconda3\\lib\\site-packages\\statsmodels\\tsa\\base\\tsa_model.py:524: ValueWarning: No frequency information was provided, so inferred frequency MS will be used.\n",
      "  warnings.warn('No frequency information was'\n",
      "C:\\Users\\Paul\\anaconda3\\lib\\site-packages\\statsmodels\\tsa\\base\\tsa_model.py:524: ValueWarning: No frequency information was provided, so inferred frequency MS will be used.\n",
      "  warnings.warn('No frequency information was'\n"
     ]
    },
    {
     "name": "stdout",
     "output_type": "stream",
     "text": [
      "            prediction  actual  error      mse   rmse\n",
      "2020-01-01  110.816764     121 -10.18   103.63  10.18\n",
      "2020-02-01   59.812420     109 -49.19  2419.66  49.19\n",
      "2020-03-01  149.113161     105  44.11  1945.69  44.11\n",
      "2020-04-01   66.983279      93 -26.02   677.04  26.02\n",
      "2020-05-01   73.234542     108 -34.77  1208.95  34.77\n",
      "2020-06-01   94.842456     114 -19.16   367.11  19.16\n",
      "2020-07-01  103.150680     120 -16.85   283.92  16.85\n",
      "2020-08-01  112.311144     122  -9.69    93.90   9.69\n",
      "2020-09-01  142.899246     126  16.90   285.61  16.90\n",
      "2020-10-01  142.246591     147  -4.75    22.56   4.75\n",
      "2020-11-01  179.257175     148  31.26   977.19  31.26\n",
      "2020-12-01  181.551237     159  22.55   508.50  22.55\n",
      "2021-01-01  160.222552     174 -13.78   189.89  13.78\n",
      "2021-02-01  120.811401     175 -54.19  2936.56  54.19\n"
     ]
    },
    {
     "name": "stderr",
     "output_type": "stream",
     "text": [
      "C:\\Users\\Paul\\anaconda3\\lib\\site-packages\\statsmodels\\tsa\\base\\tsa_model.py:524: ValueWarning: No frequency information was provided, so inferred frequency MS will be used.\n",
      "  warnings.warn('No frequency information was'\n",
      "C:\\Users\\Paul\\anaconda3\\lib\\site-packages\\statsmodels\\tsa\\base\\tsa_model.py:524: ValueWarning: No frequency information was provided, so inferred frequency MS will be used.\n",
      "  warnings.warn('No frequency information was'\n"
     ]
    },
    {
     "name": "stdout",
     "output_type": "stream",
     "text": [
      "            prediction  actual  error      mse   rmse\n",
      "2020-01-01  395.167268     365  30.17   910.23  30.17\n",
      "2020-02-01  337.595328     339  -1.40     1.96   1.40\n",
      "2020-03-01  355.240783     333  22.24   494.62  22.24\n",
      "2020-04-01  321.285926     298  23.29   542.42  23.29\n",
      "2020-05-01  179.891318     246 -66.11  4370.53  66.11\n",
      "2020-06-01  184.049667     196 -11.95   142.80  11.95\n",
      "2020-07-01  193.444393     169  24.44   597.31  24.44\n",
      "2020-08-01  153.940516     144   9.94    98.80   9.94\n",
      "2020-09-01  159.986366     164  -4.01    16.08   4.01\n",
      "2020-10-01  186.671181     230 -43.33  1877.49  43.33\n",
      "2020-11-01  327.676657     314  13.68   187.14  13.68\n",
      "2020-12-01  347.811677     433 -85.19  7257.34  85.19\n",
      "2021-01-01  468.039055     469  -0.96     0.92   0.96\n",
      "2021-02-01  452.126794     468 -15.87   251.86  15.87\n"
     ]
    },
    {
     "name": "stderr",
     "output_type": "stream",
     "text": [
      "C:\\Users\\Paul\\anaconda3\\lib\\site-packages\\statsmodels\\tsa\\base\\tsa_model.py:524: ValueWarning: No frequency information was provided, so inferred frequency MS will be used.\n",
      "  warnings.warn('No frequency information was'\n",
      "C:\\Users\\Paul\\anaconda3\\lib\\site-packages\\statsmodels\\tsa\\base\\tsa_model.py:524: ValueWarning: No frequency information was provided, so inferred frequency MS will be used.\n",
      "  warnings.warn('No frequency information was'\n"
     ]
    },
    {
     "name": "stdout",
     "output_type": "stream",
     "text": [
      "            prediction  actual   error       mse    rmse\n",
      "2020-01-01  278.380259     223   55.38   3066.94   55.38\n",
      "2020-02-01  239.462335     328  -88.54   7839.33   88.54\n",
      "2020-03-01  277.350942     261   16.35    267.32   16.35\n",
      "2020-04-01  228.595382     179   49.60   2460.16   49.60\n",
      "2020-05-01  176.248385     184   -7.75     60.06    7.75\n",
      "2020-06-01  176.584019     176    0.58      0.34    0.58\n",
      "2020-07-01  174.604783     185  -10.40    108.16   10.40\n",
      "2020-08-01  180.653602     188   -7.35     54.02    7.35\n",
      "2020-09-01  196.875294     192    4.88     23.81    4.88\n",
      "2020-10-01  202.468925     226  -23.53    553.66   23.53\n",
      "2020-11-01  230.860982     311  -80.14   6422.42   80.14\n",
      "2020-12-01  375.649669     431  -55.35   3063.62   55.35\n",
      "2021-01-01  449.264494     414   35.26   1243.27   35.26\n",
      "2021-02-01  465.185642     352  113.19  12811.98  113.19\n"
     ]
    },
    {
     "name": "stderr",
     "output_type": "stream",
     "text": [
      "C:\\Users\\Paul\\anaconda3\\lib\\site-packages\\statsmodels\\tsa\\base\\tsa_model.py:524: ValueWarning: No frequency information was provided, so inferred frequency MS will be used.\n",
      "  warnings.warn('No frequency information was'\n",
      "C:\\Users\\Paul\\anaconda3\\lib\\site-packages\\statsmodels\\tsa\\base\\tsa_model.py:524: ValueWarning: No frequency information was provided, so inferred frequency MS will be used.\n",
      "  warnings.warn('No frequency information was'\n"
     ]
    },
    {
     "name": "stdout",
     "output_type": "stream",
     "text": [
      "            prediction  actual   error       mse    rmse\n",
      "2020-01-01  322.321412     374  -51.68   2670.82   51.68\n",
      "2020-02-01  375.605951     386  -10.39    107.95   10.39\n",
      "2020-03-01  411.246610     401   10.25    105.06   10.25\n",
      "2020-04-01  376.005850     377   -0.99      0.98    0.99\n",
      "2020-05-01  332.259109     363  -30.74    944.95   30.74\n",
      "2020-06-01  342.869255     333    9.87     97.42    9.87\n",
      "2020-07-01  339.238833     333    6.24     38.94    6.24\n",
      "2020-08-01  332.760910     325    7.76     60.22    7.76\n",
      "2020-09-01  341.175791     341    0.18      0.03    0.17\n",
      "2020-10-01  366.119624     418  -51.88   2691.53   51.88\n",
      "2020-11-01  479.033426     433   46.03   2118.76   46.03\n",
      "2020-12-01  433.633527     481  -47.37   2243.92   47.37\n",
      "2021-01-01  537.942001     394  143.94  20718.72  143.94\n",
      "2021-02-01  278.569129     244   34.57   1195.08   34.57\n"
     ]
    },
    {
     "name": "stderr",
     "output_type": "stream",
     "text": [
      "C:\\Users\\Paul\\anaconda3\\lib\\site-packages\\statsmodels\\tsa\\base\\tsa_model.py:524: ValueWarning: No frequency information was provided, so inferred frequency MS will be used.\n",
      "  warnings.warn('No frequency information was'\n",
      "C:\\Users\\Paul\\anaconda3\\lib\\site-packages\\statsmodels\\tsa\\base\\tsa_model.py:524: ValueWarning: No frequency information was provided, so inferred frequency MS will be used.\n",
      "  warnings.warn('No frequency information was'\n"
     ]
    },
    {
     "name": "stdout",
     "output_type": "stream",
     "text": [
      "            prediction  actual   error       mse    rmse\n",
      "2020-01-01  531.713616     372  159.71  25507.28  159.71\n",
      "2020-02-01  291.933809     279   12.93    167.18   12.93\n",
      "2020-03-01  231.295289     324  -92.70   8593.29   92.70\n",
      "2020-04-01  301.502552     333  -31.50    992.25   31.50\n",
      "2020-05-01  271.923641     285  -13.08    171.09   13.08\n",
      "2020-06-01  247.580594     234   13.58    184.42   13.58\n",
      "2020-07-01  213.990826     224  -10.01    100.20   10.01\n",
      "2020-08-01  215.610697     209    6.61     43.69    6.61\n",
      "2020-09-01  246.025708     218   28.03    785.68   28.03\n",
      "2020-10-01  213.992470     262  -48.01   2304.96   48.01\n",
      "2020-11-01  349.626798     241  108.63  11800.48  108.63\n",
      "2020-12-01  263.340985     234   29.34    860.84   29.34\n",
      "2021-01-01  251.846289     272  -20.15    406.02   20.15\n",
      "2021-02-01  262.717711     294  -31.28    978.44   31.28\n"
     ]
    },
    {
     "name": "stderr",
     "output_type": "stream",
     "text": [
      "C:\\Users\\Paul\\anaconda3\\lib\\site-packages\\statsmodels\\tsa\\base\\tsa_model.py:524: ValueWarning: No frequency information was provided, so inferred frequency MS will be used.\n",
      "  warnings.warn('No frequency information was'\n",
      "C:\\Users\\Paul\\anaconda3\\lib\\site-packages\\statsmodels\\tsa\\base\\tsa_model.py:524: ValueWarning: No frequency information was provided, so inferred frequency MS will be used.\n",
      "  warnings.warn('No frequency information was'\n"
     ]
    },
    {
     "name": "stdout",
     "output_type": "stream",
     "text": [
      "            prediction  actual   error       mse    rmse\n",
      "2020-01-01  727.112284     708   19.11    365.19   19.11\n",
      "2020-02-01  634.049195     642   -7.95     63.20    7.95\n",
      "2020-03-01  633.309741     658  -24.69    609.60   24.69\n",
      "2020-04-01  598.470358     613  -14.53    211.12   14.53\n",
      "2020-05-01  532.923675     464   68.92   4749.97   68.92\n",
      "2020-06-01  368.022922     329   39.02   1522.56   39.02\n",
      "2020-07-01  303.319277     321  -17.68    312.58   17.68\n",
      "2020-08-01  307.552230     306    1.55      2.40    1.55\n",
      "2020-09-01  357.014777     413  -55.99   3134.88   55.99\n",
      "2020-10-01  487.324206     708 -220.68  48699.66  220.68\n",
      "2020-11-01  937.393946     770  167.39  28019.41  167.39\n",
      "2020-12-01  843.867663     893  -49.13   2413.76   49.13\n",
      "2021-01-01  918.568512     932  -13.43    180.36   13.43\n",
      "2021-02-01  852.845766     889  -36.15   1306.82   36.15\n"
     ]
    },
    {
     "name": "stderr",
     "output_type": "stream",
     "text": [
      "C:\\Users\\Paul\\anaconda3\\lib\\site-packages\\statsmodels\\tsa\\base\\tsa_model.py:524: ValueWarning: No frequency information was provided, so inferred frequency MS will be used.\n",
      "  warnings.warn('No frequency information was'\n",
      "C:\\Users\\Paul\\anaconda3\\lib\\site-packages\\statsmodels\\tsa\\base\\tsa_model.py:524: ValueWarning: No frequency information was provided, so inferred frequency MS will be used.\n",
      "  warnings.warn('No frequency information was'\n"
     ]
    },
    {
     "name": "stdout",
     "output_type": "stream",
     "text": [
      "            prediction  actual   error       mse    rmse\n",
      "2020-01-01  410.068684     525 -114.93  13208.90  114.93\n",
      "2020-02-01  569.808629     604  -34.19   1168.96   34.19\n",
      "2020-03-01  563.016037     541   22.02    484.88   22.02\n",
      "2020-04-01  456.227969     442   14.23    202.49   14.23\n",
      "2020-05-01  389.054926     414  -24.95    622.50   24.95\n",
      "2020-06-01  387.401860     373   14.40    207.36   14.40\n",
      "2020-07-01  344.372456     325   19.37    375.20   19.37\n",
      "2020-08-01  300.493296     283   17.49    305.90   17.49\n",
      "2020-09-01  306.165074     306    0.17      0.03    0.17\n",
      "2020-10-01  339.609038     396  -56.39   3179.83   56.39\n",
      "2020-11-01  526.490714     448   78.49   6160.68   78.49\n",
      "2020-12-01  490.318537     541  -50.68   2568.46   50.68\n",
      "2021-01-01  627.802855     529   98.80   9761.44   98.80\n",
      "2021-02-01  454.892583     463   -8.11     65.77    8.11\n"
     ]
    },
    {
     "name": "stderr",
     "output_type": "stream",
     "text": [
      "C:\\Users\\Paul\\anaconda3\\lib\\site-packages\\statsmodels\\tsa\\base\\tsa_model.py:524: ValueWarning: No frequency information was provided, so inferred frequency MS will be used.\n",
      "  warnings.warn('No frequency information was'\n",
      "C:\\Users\\Paul\\anaconda3\\lib\\site-packages\\statsmodels\\tsa\\base\\tsa_model.py:524: ValueWarning: No frequency information was provided, so inferred frequency MS will be used.\n",
      "  warnings.warn('No frequency information was'\n"
     ]
    },
    {
     "name": "stdout",
     "output_type": "stream",
     "text": [
      "            prediction  actual  error      mse   rmse\n",
      "2020-01-01  354.189625     435 -80.81  6530.26  80.81\n",
      "2020-02-01  382.509355     465 -82.49  6804.60  82.49\n",
      "2020-03-01  378.023773     369   9.02    81.36   9.02\n",
      "2020-04-01  290.986385     254  36.99  1368.26  36.99\n",
      "2020-05-01  185.255569     186  -0.74     0.55   0.74\n",
      "2020-06-01  121.276298     128  -6.72    45.16   6.72\n",
      "2020-07-01  133.118936     116  17.12   293.09  17.12\n",
      "2020-08-01  110.130383     106   4.13    17.06   4.13\n",
      "2020-09-01  161.412913     147  14.41   207.65  14.41\n",
      "2020-10-01  200.446882     261 -60.55  3666.30  60.55\n",
      "2020-11-01  308.990586     309  -0.01     0.00   0.00\n",
      "2020-12-01  370.813552     387 -16.19   262.12  16.19\n",
      "2021-01-01  395.120891     373  22.12   489.29  22.12\n",
      "2021-02-01  353.638519     321  32.64  1065.37  32.64\n"
     ]
    },
    {
     "name": "stderr",
     "output_type": "stream",
     "text": [
      "C:\\Users\\Paul\\anaconda3\\lib\\site-packages\\statsmodels\\tsa\\base\\tsa_model.py:524: ValueWarning: No frequency information was provided, so inferred frequency MS will be used.\n",
      "  warnings.warn('No frequency information was'\n",
      "C:\\Users\\Paul\\anaconda3\\lib\\site-packages\\statsmodels\\tsa\\base\\tsa_model.py:524: ValueWarning: No frequency information was provided, so inferred frequency MS will be used.\n",
      "  warnings.warn('No frequency information was'\n"
     ]
    },
    {
     "name": "stdout",
     "output_type": "stream",
     "text": [
      "            prediction  actual   error       mse    rmse\n",
      "2020-01-01  664.927687     559  105.93  11221.16  105.93\n",
      "2020-02-01  479.732635     484   -4.27     18.23    4.27\n",
      "2020-03-01  438.872384     481  -42.13   1774.94   42.13\n",
      "2020-04-01  404.310019     435  -30.69    941.88   30.69\n",
      "2020-05-01  385.776917     320   65.78   4327.01   65.78\n",
      "2020-06-01  229.513815     219   10.51    110.46   10.51\n",
      "2020-07-01  201.870934     244  -42.13   1774.94   42.13\n",
      "2020-08-01  249.766696     257   -7.23     52.27    7.23\n",
      "2020-09-01  297.721305     292    5.72     32.72    5.72\n",
      "2020-10-01  330.614759     408  -77.39   5989.21   77.39\n",
      "2020-11-01  557.091197     512   45.09   2033.11   45.09\n",
      "2020-12-01  572.434195     667  -94.57   8943.48   94.57\n",
      "2021-01-01  756.699184     782  -25.30    640.09   25.30\n",
      "2021-02-01  758.055774     849  -90.94   8270.08   90.94\n"
     ]
    },
    {
     "name": "stderr",
     "output_type": "stream",
     "text": [
      "C:\\Users\\Paul\\anaconda3\\lib\\site-packages\\statsmodels\\tsa\\base\\tsa_model.py:524: ValueWarning: No frequency information was provided, so inferred frequency MS will be used.\n",
      "  warnings.warn('No frequency information was'\n",
      "C:\\Users\\Paul\\anaconda3\\lib\\site-packages\\statsmodels\\tsa\\base\\tsa_model.py:524: ValueWarning: No frequency information was provided, so inferred frequency MS will be used.\n",
      "  warnings.warn('No frequency information was'\n"
     ]
    },
    {
     "name": "stdout",
     "output_type": "stream",
     "text": [
      "            prediction  actual   error       mse    rmse\n",
      "2020-01-01  371.643006     273   98.64   9729.85   98.64\n",
      "2020-02-01  256.770860     217   39.77   1581.65   39.77\n",
      "2020-03-01  213.690043     253  -39.31   1545.28   39.31\n",
      "2020-04-01  224.238418     262  -37.76   1425.82   37.76\n",
      "2020-05-01  244.876802     272  -27.12    735.49   27.12\n",
      "2020-06-01  265.712572     264    1.71      2.92    1.71\n",
      "2020-07-01  253.533167     261   -7.47     55.80    7.47\n",
      "2020-08-01  254.624622     253    1.62      2.62    1.62\n",
      "2020-09-01  253.008565     266  -12.99    168.74   12.99\n",
      "2020-10-01  266.127754     327  -60.87   3705.16   60.87\n",
      "2020-11-01  362.588012     243  119.59  14301.77  119.59\n",
      "2020-12-01  263.984241     548 -284.02  80667.36  284.02\n",
      "2021-01-01  629.885410     514  115.89  13430.49  115.89\n",
      "2021-02-01  457.057095     423   34.06   1160.08   34.06\n"
     ]
    },
    {
     "name": "stderr",
     "output_type": "stream",
     "text": [
      "C:\\Users\\Paul\\anaconda3\\lib\\site-packages\\statsmodels\\tsa\\base\\tsa_model.py:524: ValueWarning: No frequency information was provided, so inferred frequency MS will be used.\n",
      "  warnings.warn('No frequency information was'\n",
      "C:\\Users\\Paul\\anaconda3\\lib\\site-packages\\statsmodels\\tsa\\base\\tsa_model.py:524: ValueWarning: No frequency information was provided, so inferred frequency MS will be used.\n",
      "  warnings.warn('No frequency information was'\n"
     ]
    },
    {
     "name": "stdout",
     "output_type": "stream",
     "text": [
      "            prediction  actual   error       mse    rmse\n",
      "2020-01-01  391.865784     400   -8.13     66.10    8.13\n",
      "2020-02-01  369.225921     407  -37.77   1426.57   37.77\n",
      "2020-03-01  469.829531     341  128.83  16597.17  128.83\n",
      "2020-04-01  268.369133     255   13.37    178.76   13.37\n",
      "2020-05-01  223.408557     285  -61.59   3793.33   61.59\n",
      "2020-06-01  252.943315     291  -38.06   1448.56   38.06\n",
      "2020-07-01  211.939512     242  -30.06    903.60   30.06\n",
      "2020-08-01  178.071014     200  -21.93    480.92   21.93\n",
      "2020-09-01  221.116294     271  -49.88   2488.01   49.88\n",
      "2020-10-01  312.487326     465 -152.51  23259.30  152.51\n",
      "2020-11-01  580.693174     566   14.69    215.80   14.69\n",
      "2020-12-01  608.357743     721 -112.64  12687.77  112.64\n",
      "2021-01-01  813.907961     661  152.91  23381.47  152.91\n",
      "2021-02-01  576.484162     524   52.48   2754.15   52.48\n"
     ]
    },
    {
     "name": "stderr",
     "output_type": "stream",
     "text": [
      "C:\\Users\\Paul\\anaconda3\\lib\\site-packages\\statsmodels\\tsa\\base\\tsa_model.py:524: ValueWarning: No frequency information was provided, so inferred frequency MS will be used.\n",
      "  warnings.warn('No frequency information was'\n",
      "C:\\Users\\Paul\\anaconda3\\lib\\site-packages\\statsmodels\\tsa\\base\\tsa_model.py:524: ValueWarning: No frequency information was provided, so inferred frequency MS will be used.\n",
      "  warnings.warn('No frequency information was'\n"
     ]
    },
    {
     "name": "stdout",
     "output_type": "stream",
     "text": [
      "            prediction  actual  error      mse   rmse\n",
      "2020-01-01  303.989056     377 -73.01  5330.46  73.01\n",
      "2020-02-01  393.175384     403  -9.82    96.43   9.82\n",
      "2020-03-01  440.286566     407  33.29  1108.22  33.29\n",
      "2020-04-01  371.756733     376  -4.24    17.98   4.24\n",
      "2020-05-01  339.598703     363 -23.40   547.56  23.40\n",
      "2020-06-01  342.703012     334   8.70    75.69   8.70\n",
      "2020-07-01  324.524995     386 -61.48  3779.79  61.48\n",
      "2020-08-01  419.290818     416   3.29    10.82   3.29\n",
      "2020-09-01  420.536406     433 -12.46   155.25  12.46\n",
      "2020-10-01  457.818078     520 -62.18  3866.35  62.18\n",
      "2020-11-01  601.173025     536  65.17  4247.13  65.17\n",
      "2020-12-01  537.655391     593 -55.34  3062.52  55.34\n",
      "2021-01-01  650.546148     613  37.55  1410.00  37.55\n",
      "2021-02-01  581.090108     578   3.09     9.55   3.09\n"
     ]
    },
    {
     "name": "stderr",
     "output_type": "stream",
     "text": [
      "C:\\Users\\Paul\\anaconda3\\lib\\site-packages\\statsmodels\\tsa\\base\\tsa_model.py:524: ValueWarning: No frequency information was provided, so inferred frequency MS will be used.\n",
      "  warnings.warn('No frequency information was'\n",
      "C:\\Users\\Paul\\anaconda3\\lib\\site-packages\\statsmodels\\tsa\\base\\tsa_model.py:524: ValueWarning: No frequency information was provided, so inferred frequency MS will be used.\n",
      "  warnings.warn('No frequency information was'\n"
     ]
    },
    {
     "name": "stdout",
     "output_type": "stream",
     "text": [
      "            prediction  actual  error      mse   rmse\n",
      "2020-01-01  563.217362     579 -15.78   249.01  15.78\n",
      "2020-02-01  560.773425     581 -20.23   409.25  20.23\n",
      "2020-03-01  575.444863     524  51.44  2646.07  51.44\n",
      "2020-04-01  449.984213     431  18.98   360.24  18.98\n",
      "2020-05-01  350.508357     389 -38.49  1481.48  38.49\n",
      "2020-06-01  336.336017     337  -0.66     0.44   0.66\n",
      "2020-07-01  327.331755     325   2.33     5.43   2.33\n",
      "2020-08-01  318.150314     308  10.15   103.02  10.15\n",
      "2020-09-01  325.041782     344 -18.96   359.48  18.96\n",
      "2020-10-01  382.406124     466 -83.59  6987.29  83.59\n",
      "2020-11-01  579.112087     515  64.11  4110.09  64.11\n",
      "2020-12-01  566.504325     608 -41.50  1722.25  41.50\n",
      "2021-01-01  669.222607     658  11.22   125.89  11.22\n",
      "2021-02-01  625.588924     656 -30.41   924.77  30.41\n"
     ]
    },
    {
     "name": "stderr",
     "output_type": "stream",
     "text": [
      "C:\\Users\\Paul\\anaconda3\\lib\\site-packages\\statsmodels\\tsa\\base\\tsa_model.py:524: ValueWarning: No frequency information was provided, so inferred frequency MS will be used.\n",
      "  warnings.warn('No frequency information was'\n",
      "C:\\Users\\Paul\\anaconda3\\lib\\site-packages\\statsmodels\\tsa\\base\\tsa_model.py:524: ValueWarning: No frequency information was provided, so inferred frequency MS will be used.\n",
      "  warnings.warn('No frequency information was'\n"
     ]
    },
    {
     "name": "stdout",
     "output_type": "stream",
     "text": [
      "            prediction  actual  error      mse   rmse\n",
      "2020-01-01  395.815181     356  39.82  1585.63  39.82\n",
      "2020-02-01  314.119478     321  -6.88    47.33   6.88\n",
      "2020-03-01  319.065995     334 -14.93   222.90  14.93\n",
      "2020-04-01  310.893980     316  -5.11    26.11   5.11\n",
      "2020-05-01  264.698566     244  20.70   428.49  20.70\n",
      "2020-06-01  178.839885     178   0.84     0.71   0.84\n",
      "2020-07-01  168.880169     123  45.88  2104.97  45.88\n",
      "2020-08-01   87.850055      80   7.85    61.62   7.85\n",
      "2020-09-01  127.310169     127   0.31     0.10   0.32\n",
      "2020-10-01  166.422416     253 -86.58  7496.10  86.58\n",
      "2020-11-01  374.536984     305  69.54  4835.81  69.54\n",
      "2020-12-01  311.922157     387 -75.08  5637.01  75.08\n",
      "2021-01-01  445.007601     487 -41.99  1763.16  41.99\n",
      "2021-02-01  488.167244     567 -78.83  6214.17  78.83\n"
     ]
    },
    {
     "name": "stderr",
     "output_type": "stream",
     "text": [
      "C:\\Users\\Paul\\anaconda3\\lib\\site-packages\\statsmodels\\tsa\\base\\tsa_model.py:524: ValueWarning: No frequency information was provided, so inferred frequency MS will be used.\n",
      "  warnings.warn('No frequency information was'\n",
      "C:\\Users\\Paul\\anaconda3\\lib\\site-packages\\statsmodels\\tsa\\base\\tsa_model.py:524: ValueWarning: No frequency information was provided, so inferred frequency MS will be used.\n",
      "  warnings.warn('No frequency information was'\n"
     ]
    },
    {
     "name": "stdout",
     "output_type": "stream",
     "text": [
      "            prediction  actual   error       mse    rmse\n",
      "2020-01-01  704.002450     676   28.00    784.00   28.00\n",
      "2020-02-01  646.421516     685  -38.58   1488.42   38.58\n",
      "2020-03-01  645.598493     538  107.60  11577.76  107.60\n",
      "2020-04-01  340.877037     365  -24.12    581.77   24.12\n",
      "2020-05-01  291.907730     310  -18.09    327.25   18.09\n",
      "2020-06-01  241.128528     253  -11.87    140.90   11.87\n",
      "2020-07-01  279.148012     180   99.15   9830.72   99.15\n",
      "2020-08-01  102.339281     122  -19.66    386.52   19.66\n",
      "2020-09-01  180.084888      83   97.08   9424.53   97.08\n",
      "2020-10-01   47.198048       0   47.20   2227.84   47.20\n",
      "2020-11-01   43.247996     135  -91.75   8418.06   91.75\n",
      "2020-12-01  304.456834     299    5.46     29.81    5.46\n",
      "2021-01-01  370.855399     349   21.86    477.86   21.86\n",
      "2021-02-01  328.508812     380  -51.49   2651.22   51.49\n"
     ]
    },
    {
     "name": "stderr",
     "output_type": "stream",
     "text": [
      "C:\\Users\\Paul\\anaconda3\\lib\\site-packages\\statsmodels\\tsa\\base\\tsa_model.py:524: ValueWarning: No frequency information was provided, so inferred frequency MS will be used.\n",
      "  warnings.warn('No frequency information was'\n",
      "C:\\Users\\Paul\\anaconda3\\lib\\site-packages\\statsmodels\\tsa\\base\\tsa_model.py:524: ValueWarning: No frequency information was provided, so inferred frequency MS will be used.\n",
      "  warnings.warn('No frequency information was'\n"
     ]
    },
    {
     "name": "stdout",
     "output_type": "stream",
     "text": [
      "            prediction  actual  error      mse   rmse\n",
      "2020-01-01  326.852211     394 -67.15  4509.12  67.15\n",
      "2020-02-01  404.826920     437 -32.17  1034.91  32.17\n",
      "2020-03-01  386.937883     314  72.94  5320.24  72.94\n",
      "2020-04-01  201.500720     181  20.50   420.25  20.50\n",
      "2020-05-01  147.577708     168 -20.42   416.98  20.42\n",
      "2020-06-01  145.103480     149  -3.90    15.21   3.90\n",
      "2020-07-01  153.658279     129  24.66   608.12  24.66\n",
      "2020-08-01  117.213618     109   8.21    67.40   8.21\n",
      "2020-09-01  113.972454     139 -25.03   626.50  25.03\n",
      "2020-10-01  166.817137     226 -59.18  3502.27  59.18\n",
      "2020-11-01  327.380117     265  62.38  3891.26  62.38\n",
      "2020-12-01  300.241178     331 -30.76   946.18  30.76\n",
      "2021-01-01  386.848187     304  82.85  6864.12  82.85\n",
      "2021-02-01  242.888764     242   0.89     0.79   0.89\n"
     ]
    },
    {
     "name": "stderr",
     "output_type": "stream",
     "text": [
      "C:\\Users\\Paul\\anaconda3\\lib\\site-packages\\statsmodels\\tsa\\base\\tsa_model.py:524: ValueWarning: No frequency information was provided, so inferred frequency MS will be used.\n",
      "  warnings.warn('No frequency information was'\n",
      "C:\\Users\\Paul\\anaconda3\\lib\\site-packages\\statsmodels\\tsa\\base\\tsa_model.py:524: ValueWarning: No frequency information was provided, so inferred frequency MS will be used.\n",
      "  warnings.warn('No frequency information was'\n"
     ]
    },
    {
     "name": "stdout",
     "output_type": "stream",
     "text": [
      "            prediction  actual   error        mse    rmse\n",
      "2020-01-01  259.623810     212   47.62    2267.66   47.62\n",
      "2020-02-01  169.211714     199  -29.79     887.44   29.79\n",
      "2020-03-01  178.628587     208  -29.37     862.60   29.37\n",
      "2020-04-01  170.303564     197  -26.70     712.89   26.70\n",
      "2020-05-01  155.090437     150    5.09      25.91    5.09\n",
      "2020-06-01  101.627944     106   -4.37      19.10    4.37\n",
      "2020-07-01  129.548125      92   37.55    1410.00   37.55\n",
      "2020-08-01   70.370371      79   -8.63      74.48    8.63\n",
      "2020-09-01   97.103197     158  -60.90    3708.81   60.90\n",
      "2020-10-01  254.699597     357 -102.30   10465.29  102.30\n",
      "2020-11-01  471.911458     440   31.91    1018.25   31.91\n",
      "2020-12-01  484.311372     566  -81.69    6673.26   81.69\n",
      "2021-01-01  663.688624     151  512.69  262851.04  512.69\n",
      "2021-02-01 -220.753144    -383  162.25   26325.06  162.25\n"
     ]
    },
    {
     "name": "stderr",
     "output_type": "stream",
     "text": [
      "C:\\Users\\Paul\\anaconda3\\lib\\site-packages\\statsmodels\\tsa\\base\\tsa_model.py:524: ValueWarning: No frequency information was provided, so inferred frequency MS will be used.\n",
      "  warnings.warn('No frequency information was'\n",
      "C:\\Users\\Paul\\anaconda3\\lib\\site-packages\\statsmodels\\tsa\\base\\tsa_model.py:524: ValueWarning: No frequency information was provided, so inferred frequency MS will be used.\n",
      "  warnings.warn('No frequency information was'\n"
     ]
    },
    {
     "name": "stdout",
     "output_type": "stream",
     "text": [
      "            prediction  actual   error       mse    rmse\n",
      "2020-01-01  465.919577     278  187.92  35313.93  187.92\n",
      "2020-02-01  194.850672     243  -48.15   2318.42   48.15\n",
      "2020-03-01   86.925021     207 -120.07  14416.80  120.07\n",
      "2020-04-01  101.759197     160  -58.24   3391.90   58.24\n",
      "2020-05-01  147.867128     140    7.87     61.94    7.87\n",
      "2020-06-01  104.987131     118  -13.01    169.26   13.01\n",
      "2020-07-01  127.995900     119    9.00     81.00    9.00\n",
      "2020-08-01  112.262903     117   -4.74     22.47    4.74\n",
      "2020-09-01  148.241935     129   19.24    370.18   19.24\n",
      "2020-10-01  135.760683     173  -37.24   1386.82   37.24\n",
      "2020-11-01  290.648469     201   89.65   8037.12   89.65\n",
      "2020-12-01  226.425000     249  -22.57    509.40   22.57\n",
      "2021-01-01  352.086448     264   88.09   7759.85   88.09\n",
      "2021-02-01  217.607289     258  -40.39   1631.35   40.39\n"
     ]
    },
    {
     "name": "stderr",
     "output_type": "stream",
     "text": [
      "C:\\Users\\Paul\\anaconda3\\lib\\site-packages\\statsmodels\\tsa\\base\\tsa_model.py:524: ValueWarning: No frequency information was provided, so inferred frequency MS will be used.\n",
      "  warnings.warn('No frequency information was'\n",
      "C:\\Users\\Paul\\anaconda3\\lib\\site-packages\\statsmodels\\tsa\\base\\tsa_model.py:524: ValueWarning: No frequency information was provided, so inferred frequency MS will be used.\n",
      "  warnings.warn('No frequency information was'\n"
     ]
    },
    {
     "name": "stdout",
     "output_type": "stream",
     "text": [
      "            prediction  actual  error      mse   rmse\n",
      "2020-01-01  265.704184     309 -43.30  1874.89  43.30\n",
      "2020-02-01  328.553104     338  -9.45    89.30   9.45\n",
      "2020-03-01  275.688389     243  32.69  1068.64  32.69\n",
      "2020-04-01  153.497379     142  11.50   132.25  11.50\n",
      "2020-05-01  111.758924     129 -17.24   297.22  17.24\n",
      "2020-06-01  120.030369     114   6.03    36.36   6.03\n",
      "2020-07-01  109.083785     119  -9.92    98.41   9.92\n",
      "2020-08-01  127.896229     120   7.90    62.41   7.90\n",
      "2020-09-01  125.812387     126  -0.19     0.04   0.20\n",
      "2020-10-01  141.760058     156 -14.24   202.78  14.24\n",
      "2020-11-01  242.014008     224  18.01   324.36  18.01\n",
      "2020-12-01  276.551083     319 -42.45  1802.00  42.45\n",
      "2021-01-01  385.399050     287  98.40  9682.56  98.40\n",
      "2021-02-01  198.258803     216 -17.74   314.71  17.74\n"
     ]
    },
    {
     "name": "stderr",
     "output_type": "stream",
     "text": [
      "C:\\Users\\Paul\\anaconda3\\lib\\site-packages\\statsmodels\\tsa\\base\\tsa_model.py:524: ValueWarning: No frequency information was provided, so inferred frequency MS will be used.\n",
      "  warnings.warn('No frequency information was'\n",
      "C:\\Users\\Paul\\anaconda3\\lib\\site-packages\\statsmodels\\tsa\\base\\tsa_model.py:524: ValueWarning: No frequency information was provided, so inferred frequency MS will be used.\n",
      "  warnings.warn('No frequency information was'\n"
     ]
    },
    {
     "name": "stdout",
     "output_type": "stream",
     "text": [
      "            prediction  actual   error       mse    rmse\n",
      "2020-01-01  375.926332     556 -180.07  32425.20  180.07\n",
      "2020-02-01  582.270609     606  -23.73    563.11   23.73\n",
      "2020-03-01  527.954366     472   55.95   3130.40   55.95\n",
      "2020-04-01  314.554488     318   -3.45     11.90    3.45\n",
      "2020-05-01  221.004254     212    9.00     81.00    9.00\n",
      "2020-06-01  121.906515     123   -1.09      1.19    1.09\n",
      "2020-07-01  118.617731     124   -5.38     28.94    5.38\n",
      "2020-08-01  121.645514     121    0.65      0.42    0.65\n",
      "2020-09-01  252.408475     198   54.41   2960.45   54.41\n",
      "2020-10-01  222.194138     399 -176.81  31261.78  176.81\n",
      "2020-11-01  632.025669     507  125.03  15632.50  125.03\n",
      "2020-12-01  554.767587     667 -112.23  12595.57  112.23\n",
      "2021-01-01  772.025571     617  155.03  24034.30  155.03\n",
      "2021-02-01  463.727060     496  -32.27   1041.35   32.27\n"
     ]
    },
    {
     "name": "stderr",
     "output_type": "stream",
     "text": [
      "C:\\Users\\Paul\\anaconda3\\lib\\site-packages\\statsmodels\\tsa\\base\\tsa_model.py:524: ValueWarning: No frequency information was provided, so inferred frequency MS will be used.\n",
      "  warnings.warn('No frequency information was'\n",
      "C:\\Users\\Paul\\anaconda3\\lib\\site-packages\\statsmodels\\tsa\\base\\tsa_model.py:524: ValueWarning: No frequency information was provided, so inferred frequency MS will be used.\n",
      "  warnings.warn('No frequency information was'\n"
     ]
    },
    {
     "name": "stdout",
     "output_type": "stream",
     "text": [
      "            prediction  actual  error      mse   rmse\n",
      "2020-01-01  365.306130     372  -6.69    44.76   6.69\n",
      "2020-02-01  353.760950     359  -5.24    27.46   5.24\n",
      "2020-03-01  354.351671     341  13.35   178.22  13.35\n",
      "2020-04-01  301.283443     295   6.28    39.44   6.28\n",
      "2020-05-01  253.551419     242  11.55   133.40  11.55\n",
      "2020-06-01  202.564472     189  13.56   183.87  13.56\n",
      "2020-07-01  186.922688     163  23.92   572.17  23.92\n",
      "2020-08-01  148.428776     140   8.43    71.06   8.43\n",
      "2020-09-01  188.324430     177  11.32   128.14  11.32\n",
      "2020-10-01  219.160494     282 -62.84  3948.87  62.84\n",
      "2020-11-01  346.526535     384 -37.47  1404.00  37.47\n",
      "2020-12-01  457.686100     528 -70.31  4943.50  70.31\n",
      "2021-01-01  593.639046     602  -8.36    69.89   8.36\n",
      "2021-02-01  606.196751     636 -29.80   888.04  29.80\n"
     ]
    },
    {
     "name": "stderr",
     "output_type": "stream",
     "text": [
      "C:\\Users\\Paul\\anaconda3\\lib\\site-packages\\statsmodels\\tsa\\base\\tsa_model.py:524: ValueWarning: No frequency information was provided, so inferred frequency MS will be used.\n",
      "  warnings.warn('No frequency information was'\n",
      "C:\\Users\\Paul\\anaconda3\\lib\\site-packages\\statsmodels\\tsa\\base\\tsa_model.py:524: ValueWarning: No frequency information was provided, so inferred frequency MS will be used.\n",
      "  warnings.warn('No frequency information was'\n"
     ]
    },
    {
     "name": "stdout",
     "output_type": "stream",
     "text": [
      "            prediction  actual   error       mse    rmse\n",
      "2020-01-01  462.301301     437   25.30    640.09   25.30\n",
      "2020-02-01  391.650022     415  -23.35    545.22   23.35\n",
      "2020-03-01  405.360564     413   -7.64     58.37    7.64\n",
      "2020-04-01  385.001614     375   10.00    100.00   10.00\n",
      "2020-05-01  292.099407     258   34.10   1162.81   34.10\n",
      "2020-06-01  162.293038     159    3.29     10.82    3.29\n",
      "2020-07-01  142.475409     153  -10.52    110.67   10.52\n",
      "2020-08-01  149.480501     144    5.48     30.03    5.48\n",
      "2020-09-01  180.868876     222  -41.13   1691.68   41.13\n",
      "2020-10-01  273.703628     432 -158.30  25058.89  158.30\n",
      "2020-11-01  626.669590     457  169.67  28787.91  169.67\n",
      "2020-12-01  442.552141     518  -75.45   5692.70   75.45\n",
      "2021-01-01  591.818932     561   30.82    949.87   30.82\n",
      "2021-02-01  506.783871     560  -53.22   2832.37   53.22\n"
     ]
    },
    {
     "name": "stderr",
     "output_type": "stream",
     "text": [
      "C:\\Users\\Paul\\anaconda3\\lib\\site-packages\\statsmodels\\tsa\\base\\tsa_model.py:524: ValueWarning: No frequency information was provided, so inferred frequency MS will be used.\n",
      "  warnings.warn('No frequency information was'\n",
      "C:\\Users\\Paul\\anaconda3\\lib\\site-packages\\statsmodels\\tsa\\base\\tsa_model.py:524: ValueWarning: No frequency information was provided, so inferred frequency MS will be used.\n",
      "  warnings.warn('No frequency information was'\n"
     ]
    },
    {
     "name": "stdout",
     "output_type": "stream",
     "text": [
      "            prediction  actual   error       mse    rmse\n",
      "2020-01-01  810.600623     745   65.60   4303.36   65.60\n",
      "2020-02-01  690.262608     722  -31.74   1007.43   31.74\n",
      "2020-03-01  735.246007     635  100.25  10050.06  100.25\n",
      "2020-04-01  533.984508     506   27.98    782.88   27.98\n",
      "2020-05-01  283.014722     359  -75.99   5774.48   75.99\n",
      "2020-06-01  202.231680     234  -31.77   1009.33   31.77\n",
      "2020-07-01  166.168420     242  -75.83   5750.19   75.83\n",
      "2020-08-01  203.726680     241  -37.27   1389.05   37.27\n",
      "2020-09-01  404.652657     327   77.65   6029.52   77.65\n",
      "2020-10-01  438.239508     560 -121.76  14825.50  121.76\n",
      "2020-11-01  746.163085     702   44.16   1950.11   44.16\n",
      "2020-12-01  855.531376     914  -58.47   3418.74   58.47\n",
      "2021-01-01  965.638842     840  125.64  15785.41  125.64\n",
      "2021-02-01  781.807340     665  116.81  13644.58  116.81\n"
     ]
    },
    {
     "name": "stderr",
     "output_type": "stream",
     "text": [
      "C:\\Users\\Paul\\anaconda3\\lib\\site-packages\\statsmodels\\tsa\\base\\tsa_model.py:524: ValueWarning: No frequency information was provided, so inferred frequency MS will be used.\n",
      "  warnings.warn('No frequency information was'\n",
      "C:\\Users\\Paul\\anaconda3\\lib\\site-packages\\statsmodels\\tsa\\base\\tsa_model.py:524: ValueWarning: No frequency information was provided, so inferred frequency MS will be used.\n",
      "  warnings.warn('No frequency information was'\n"
     ]
    },
    {
     "name": "stdout",
     "output_type": "stream",
     "text": [
      "            prediction  actual  error      mse   rmse\n",
      "2020-01-01  339.287666     349  -9.71    94.28   9.71\n",
      "2020-02-01  333.154371     335  -1.85     3.42   1.85\n",
      "2020-03-01  365.412862     337  28.41   807.13  28.41\n",
      "2020-04-01  311.131203     309   2.13     4.54   2.13\n",
      "2020-05-01  270.500624     312 -41.50  1722.25  41.50\n",
      "2020-06-01  300.688744     297   3.69    13.62   3.69\n",
      "2020-07-01  281.965016     301 -19.03   362.14  19.03\n",
      "2020-08-01  308.946461     296  12.95   167.70  12.95\n",
      "2020-09-01  298.816502     311 -12.18   148.35  12.18\n",
      "2020-10-01  343.296606     377 -33.70  1135.69  33.70\n",
      "2020-11-01  414.649871     382  32.65  1066.02  32.65\n",
      "2020-12-01  384.795117     413 -28.20   795.24  28.20\n",
      "2021-01-01  450.740893     389  61.74  3811.83  61.74\n",
      "2021-02-01  316.190086     320  -3.81    14.52   3.81\n"
     ]
    },
    {
     "name": "stderr",
     "output_type": "stream",
     "text": [
      "C:\\Users\\Paul\\anaconda3\\lib\\site-packages\\statsmodels\\tsa\\base\\tsa_model.py:524: ValueWarning: No frequency information was provided, so inferred frequency MS will be used.\n",
      "  warnings.warn('No frequency information was'\n",
      "C:\\Users\\Paul\\anaconda3\\lib\\site-packages\\statsmodels\\tsa\\base\\tsa_model.py:524: ValueWarning: No frequency information was provided, so inferred frequency MS will be used.\n",
      "  warnings.warn('No frequency information was'\n"
     ]
    },
    {
     "name": "stdout",
     "output_type": "stream",
     "text": [
      "             prediction  actual   error       mse    rmse\n",
      "2020-01-01   985.056042     894   91.06   8291.92   91.06\n",
      "2020-02-01   820.814471     815    5.81     33.76    5.81\n",
      "2020-03-01   737.023841     768  -30.98    959.76   30.98\n",
      "2020-04-01   643.789910     662  -18.21    331.60   18.21\n",
      "2020-05-01   460.348567     496  -35.65   1270.92   35.65\n",
      "2020-06-01   329.793548     348  -18.21    331.60   18.21\n",
      "2020-07-01   349.953130     345    4.95     24.50    4.95\n",
      "2020-08-01   330.652837     334   -3.35     11.22    3.35\n",
      "2020-09-01   417.791536     394   23.79    565.96   23.79\n",
      "2020-10-01   462.896439     575 -112.10  12566.41  112.10\n",
      "2020-11-01   858.328339     748  110.33  12172.71  110.33\n",
      "2020-12-01   933.888459     999  -65.11   4239.31   65.11\n",
      "2021-01-01  1055.241625    1052    3.24     10.50    3.24\n",
      "2021-02-01   998.408317    1018  -19.59    383.77   19.59\n"
     ]
    },
    {
     "name": "stderr",
     "output_type": "stream",
     "text": [
      "C:\\Users\\Paul\\anaconda3\\lib\\site-packages\\statsmodels\\tsa\\base\\tsa_model.py:524: ValueWarning: No frequency information was provided, so inferred frequency MS will be used.\n",
      "  warnings.warn('No frequency information was'\n",
      "C:\\Users\\Paul\\anaconda3\\lib\\site-packages\\statsmodels\\tsa\\base\\tsa_model.py:524: ValueWarning: No frequency information was provided, so inferred frequency MS will be used.\n",
      "  warnings.warn('No frequency information was'\n"
     ]
    },
    {
     "name": "stdout",
     "output_type": "stream",
     "text": [
      "            prediction  actual  error      mse   rmse\n",
      "2020-01-01  677.862510     584  93.86  8809.70  93.86\n",
      "2020-02-01  516.436791     506  10.44   108.99  10.44\n",
      "2020-03-01  482.223991     487  -4.78    22.85   4.78\n",
      "2020-04-01  400.817797     426 -25.18   634.03  25.18\n",
      "2020-05-01  318.301895     314   4.30    18.49   4.30\n",
      "2020-06-01  213.644033     216  -2.36     5.57   2.36\n",
      "2020-07-01  179.027050     205 -25.97   674.44  25.97\n",
      "2020-08-01  193.580377     192   1.58     2.50   1.58\n",
      "2020-09-01  233.422957     216  17.42   303.46  17.42\n",
      "2020-10-01  265.094376     297 -31.91  1018.25  31.91\n",
      "2020-11-01  459.980615     420  39.98  1598.40  39.98\n",
      "2020-12-01  508.353210     590 -81.65  6666.72  81.65\n",
      "2021-01-01  678.610872     631  47.61  2266.71  47.61\n",
      "2021-02-01  549.537811     621 -71.46  5106.53  71.46\n"
     ]
    },
    {
     "name": "stderr",
     "output_type": "stream",
     "text": [
      "C:\\Users\\Paul\\anaconda3\\lib\\site-packages\\statsmodels\\tsa\\base\\tsa_model.py:524: ValueWarning: No frequency information was provided, so inferred frequency MS will be used.\n",
      "  warnings.warn('No frequency information was'\n",
      "C:\\Users\\Paul\\anaconda3\\lib\\site-packages\\statsmodels\\tsa\\base\\tsa_model.py:524: ValueWarning: No frequency information was provided, so inferred frequency MS will be used.\n",
      "  warnings.warn('No frequency information was'\n"
     ]
    },
    {
     "name": "stdout",
     "output_type": "stream",
     "text": [
      "            prediction  actual   error       mse    rmse\n",
      "2020-01-01  459.086175     521  -61.91   3832.85   61.91\n",
      "2020-02-01  498.805178     534  -35.19   1238.34   35.19\n",
      "2020-03-01  521.222734     434   87.22   7607.33   87.22\n",
      "2020-04-01  351.153294     310   41.15   1693.32   41.15\n",
      "2020-05-01  239.345386     255  -15.65    244.92   15.65\n",
      "2020-06-01  210.536181     202    8.54     72.93    8.54\n",
      "2020-07-01  174.495669     192  -17.50    306.25   17.50\n",
      "2020-08-01  180.346962     182   -1.65      2.72    1.65\n",
      "2020-09-01  254.423221     242   12.42    154.26   12.42\n",
      "2020-10-01  304.034579     411 -106.97  11442.58  106.97\n",
      "2020-11-01  513.908493     446   67.91   4611.77   67.91\n",
      "2020-12-01  486.192107     519  -32.81   1076.50   32.81\n",
      "2021-01-01  541.140203     481   60.14   3616.82   60.14\n",
      "2021-02-01  421.782889     384   37.78   1427.33   37.78\n"
     ]
    },
    {
     "name": "stderr",
     "output_type": "stream",
     "text": [
      "C:\\Users\\Paul\\anaconda3\\lib\\site-packages\\statsmodels\\tsa\\base\\tsa_model.py:524: ValueWarning: No frequency information was provided, so inferred frequency MS will be used.\n",
      "  warnings.warn('No frequency information was'\n",
      "C:\\Users\\Paul\\anaconda3\\lib\\site-packages\\statsmodels\\tsa\\base\\tsa_model.py:524: ValueWarning: No frequency information was provided, so inferred frequency MS will be used.\n",
      "  warnings.warn('No frequency information was'\n"
     ]
    },
    {
     "name": "stdout",
     "output_type": "stream",
     "text": [
      "            prediction  actual  error      mse   rmse\n",
      "2020-01-01  446.251810     455  -8.75    76.56   8.75\n",
      "2020-02-01  430.785106     440  -9.21    84.82   9.21\n",
      "2020-03-01  431.580403     368  63.58  4042.42  63.58\n",
      "2020-04-01  303.284866     273  30.28   916.88  30.28\n",
      "2020-05-01  193.380909     198  -4.62    21.34   4.62\n",
      "2020-06-01  146.693721     133  13.69   187.42  13.69\n",
      "2020-07-01  100.919955     136 -35.08  1230.61  35.08\n",
      "2020-08-01  147.974379     137  10.97   120.34  10.97\n",
      "2020-09-01  187.371755     186   1.37     1.88   1.37\n",
      "2020-10-01  231.662514     320 -88.34  7803.96  88.34\n",
      "2020-11-01  399.628148     420 -20.37   414.94  20.37\n",
      "2020-12-01  519.837651     564 -44.16  1950.11  44.16\n",
      "2021-01-01  604.509899     514  90.51  8192.06  90.51\n",
      "2021-02-01  463.697495     403  60.70  3684.49  60.70\n"
     ]
    },
    {
     "name": "stderr",
     "output_type": "stream",
     "text": [
      "C:\\Users\\Paul\\anaconda3\\lib\\site-packages\\statsmodels\\tsa\\base\\tsa_model.py:524: ValueWarning: No frequency information was provided, so inferred frequency MS will be used.\n",
      "  warnings.warn('No frequency information was'\n",
      "C:\\Users\\Paul\\anaconda3\\lib\\site-packages\\statsmodels\\tsa\\base\\tsa_model.py:524: ValueWarning: No frequency information was provided, so inferred frequency MS will be used.\n",
      "  warnings.warn('No frequency information was'\n"
     ]
    },
    {
     "name": "stdout",
     "output_type": "stream",
     "text": [
      "            prediction  actual  error      mse   rmse\n",
      "2020-01-01  566.002499     534  32.00  1024.00  32.00\n",
      "2020-02-01  486.338715     496  -9.66    93.32   9.66\n",
      "2020-03-01  476.338442     451  25.34   642.12  25.34\n",
      "2020-04-01  387.564528     373  14.56   211.99  14.56\n",
      "2020-05-01  306.272496     306   0.27     0.07   0.26\n",
      "2020-06-01  264.822931     239  25.82   666.67  25.82\n",
      "2020-07-01  215.440975     234 -18.56   344.47  18.56\n",
      "2020-08-01  238.209485     224  14.21   201.92  14.21\n",
      "2020-09-01  258.132445     247  11.13   123.88  11.13\n",
      "2020-10-01  277.416800     328 -50.58  2558.34  50.58\n",
      "2020-11-01  464.893365     425  39.89  1591.21  39.89\n",
      "2020-12-01  490.116174     564 -73.88  5458.25  73.88\n",
      "2021-01-01  618.208782     625  -6.79    46.10   6.79\n",
      "2021-02-01  600.456171     639 -38.54  1485.33  38.54\n"
     ]
    },
    {
     "name": "stderr",
     "output_type": "stream",
     "text": [
      "C:\\Users\\Paul\\anaconda3\\lib\\site-packages\\statsmodels\\tsa\\base\\tsa_model.py:524: ValueWarning: No frequency information was provided, so inferred frequency MS will be used.\n",
      "  warnings.warn('No frequency information was'\n",
      "C:\\Users\\Paul\\anaconda3\\lib\\site-packages\\statsmodels\\tsa\\base\\tsa_model.py:524: ValueWarning: No frequency information was provided, so inferred frequency MS will be used.\n",
      "  warnings.warn('No frequency information was'\n"
     ]
    },
    {
     "name": "stdout",
     "output_type": "stream",
     "text": [
      "            prediction  actual  error      mse   rmse\n",
      "2020-01-01  482.778921     406  76.78  5895.17  76.78\n",
      "2020-02-01  342.609099     359 -16.39   268.63  16.39\n",
      "2020-03-01  375.426060     359  16.43   269.94  16.43\n",
      "2020-04-01  307.040826     327 -19.96   398.40  19.96\n",
      "2020-05-01  272.064267     287 -14.94   223.20  14.94\n",
      "2020-06-01  240.857041     241  -0.14     0.02   0.14\n",
      "2020-07-01  231.768215     227   4.77    22.75   4.77\n",
      "2020-08-01  216.393302     210   6.39    40.83   6.39\n",
      "2020-09-01  212.183708     216  -3.82    14.59   3.82\n",
      "2020-10-01  232.039430     257 -24.96   623.00  24.96\n",
      "2020-11-01  361.632273     323  38.63  1492.28  38.63\n",
      "2020-12-01  374.819705     422 -47.18  2225.95  47.18\n",
      "2021-01-01  488.081274     552 -63.92  4085.77  63.92\n",
      "2021-02-01  575.105315     660 -84.89  7206.31  84.89\n"
     ]
    },
    {
     "name": "stderr",
     "output_type": "stream",
     "text": [
      "C:\\Users\\Paul\\anaconda3\\lib\\site-packages\\statsmodels\\tsa\\base\\tsa_model.py:524: ValueWarning: No frequency information was provided, so inferred frequency MS will be used.\n",
      "  warnings.warn('No frequency information was'\n",
      "C:\\Users\\Paul\\anaconda3\\lib\\site-packages\\statsmodels\\tsa\\base\\tsa_model.py:524: ValueWarning: No frequency information was provided, so inferred frequency MS will be used.\n",
      "  warnings.warn('No frequency information was'\n"
     ]
    },
    {
     "name": "stdout",
     "output_type": "stream",
     "text": [
      "             prediction  actual   error       mse    rmse\n",
      "2020-01-01   829.689568     917  -87.31   7623.04   87.31\n",
      "2020-02-01   916.015406     946  -29.98    898.80   29.98\n",
      "2020-03-01   905.696625     699  206.70  42724.89  206.70\n",
      "2020-04-01   498.276542     430   68.28   4662.16   68.28\n",
      "2020-05-01   349.918110     391  -41.08   1687.57   41.08\n",
      "2020-06-01   355.044742     341   14.04    197.12   14.04\n",
      "2020-07-01   297.440550     359  -61.56   3789.63   61.56\n",
      "2020-08-01   371.601248     363    8.60     73.96    8.60\n",
      "2020-09-01   415.870766     417   -1.13      1.28    1.13\n",
      "2020-10-01   486.509957     588 -101.49  10300.22  101.49\n",
      "2020-11-01   764.188035     732   32.19   1036.20   32.19\n",
      "2020-12-01   832.888903     946 -113.11  12793.87  113.11\n",
      "2021-01-01  1048.216720     902  146.22  21380.29  146.22\n",
      "2021-02-01   769.189551     759   10.19    103.84   10.19\n"
     ]
    },
    {
     "name": "stderr",
     "output_type": "stream",
     "text": [
      "C:\\Users\\Paul\\anaconda3\\lib\\site-packages\\statsmodels\\tsa\\base\\tsa_model.py:524: ValueWarning: No frequency information was provided, so inferred frequency MS will be used.\n",
      "  warnings.warn('No frequency information was'\n",
      "C:\\Users\\Paul\\anaconda3\\lib\\site-packages\\statsmodels\\tsa\\base\\tsa_model.py:524: ValueWarning: No frequency information was provided, so inferred frequency MS will be used.\n",
      "  warnings.warn('No frequency information was'\n"
     ]
    },
    {
     "name": "stdout",
     "output_type": "stream",
     "text": [
      "            prediction  actual   error       mse    rmse\n",
      "2020-01-01  554.409667     564   -9.59     91.97    9.59\n",
      "2020-02-01  515.641280     547  -31.36    983.45   31.36\n",
      "2020-03-01  595.448975     801 -205.55  42250.80  205.55\n",
      "2020-04-01  798.416712     948 -149.58  22374.18  149.58\n",
      "2020-05-01  786.532886     691   95.53   9125.98   95.53\n",
      "2020-06-01  541.801333     466   75.80   5745.64   75.80\n",
      "2020-07-01  451.740152     478  -26.26    689.59   26.26\n",
      "2020-08-01  462.965544     475  -12.03    144.72   12.03\n",
      "2020-09-01  539.086425     482   57.09   3259.27   57.09\n",
      "2020-10-01  539.955146     553  -13.04    170.04   13.04\n",
      "2020-11-01  659.402382     580   79.40   6304.36   79.40\n",
      "2020-12-01  675.348810     654   21.35    455.82   21.35\n",
      "2021-01-01  690.767650     644   46.77   2187.43   46.77\n",
      "2021-02-01  610.378052     568   42.38   1796.06   42.38\n"
     ]
    },
    {
     "name": "stderr",
     "output_type": "stream",
     "text": [
      "C:\\Users\\Paul\\anaconda3\\lib\\site-packages\\statsmodels\\tsa\\base\\tsa_model.py:524: ValueWarning: No frequency information was provided, so inferred frequency MS will be used.\n",
      "  warnings.warn('No frequency information was'\n",
      "C:\\Users\\Paul\\anaconda3\\lib\\site-packages\\statsmodels\\tsa\\base\\tsa_model.py:524: ValueWarning: No frequency information was provided, so inferred frequency MS will be used.\n",
      "  warnings.warn('No frequency information was'\n"
     ]
    },
    {
     "name": "stdout",
     "output_type": "stream",
     "text": [
      "            prediction  actual   error       mse    rmse\n",
      "2020-01-01  627.989708     491  136.99  18766.26  136.99\n",
      "2020-02-01  419.263517     402   17.26    297.91   17.26\n",
      "2020-03-01  399.174001     386   13.17    173.45   13.17\n",
      "2020-04-01  334.276212     338   -3.72     13.84    3.72\n",
      "2020-05-01  278.837744     297  -18.16    329.79   18.16\n",
      "2020-06-01  255.379726     250    5.38     28.94    5.38\n",
      "2020-07-01  236.714728     233    3.71     13.76    3.71\n",
      "2020-08-01  223.873861     215    8.87     78.68    8.87\n",
      "2020-09-01  266.429337     258    8.43     71.06    8.43\n",
      "2020-10-01  306.038156     390  -83.96   7049.28   83.96\n",
      "2020-11-01  482.281159     373  109.28  11942.12  109.28\n",
      "2020-12-01  366.580020     381  -14.42    207.94   14.42\n",
      "2021-01-01  416.808841     460  -43.19   1865.38   43.19\n",
      "2021-02-01  445.372593     514  -68.63   4710.08   68.63\n"
     ]
    },
    {
     "name": "stderr",
     "output_type": "stream",
     "text": [
      "C:\\Users\\Paul\\anaconda3\\lib\\site-packages\\statsmodels\\tsa\\base\\tsa_model.py:524: ValueWarning: No frequency information was provided, so inferred frequency MS will be used.\n",
      "  warnings.warn('No frequency information was'\n",
      "C:\\Users\\Paul\\anaconda3\\lib\\site-packages\\statsmodels\\tsa\\base\\tsa_model.py:524: ValueWarning: No frequency information was provided, so inferred frequency MS will be used.\n",
      "  warnings.warn('No frequency information was'\n"
     ]
    },
    {
     "name": "stdout",
     "output_type": "stream",
     "text": [
      "            prediction  actual  error      mse   rmse\n",
      "2020-01-01  157.553559     145  12.55   157.50  12.55\n",
      "2020-02-01  137.971505     142  -4.03    16.24   4.03\n",
      "2020-03-01  160.109488     150  10.11   102.21  10.11\n",
      "2020-04-01  134.705684     144  -9.29    86.30   9.29\n",
      "2020-05-01   98.731474     135 -36.27  1315.51  36.27\n",
      "2020-06-01  107.875763     119 -11.12   123.65  11.12\n",
      "2020-07-01  102.279426     111  -8.72    76.04   8.72\n",
      "2020-08-01  123.695259     103  20.70   428.49  20.70\n",
      "2020-09-01  105.394256     108  -2.61     6.81   2.61\n",
      "2020-10-01  117.431661     135 -17.57   308.70  17.57\n",
      "2020-11-01  157.033039     151   6.03    36.36   6.03\n",
      "2020-12-01  171.614175     179  -7.39    54.61   7.39\n",
      "2021-01-01  207.083173     183  24.08   579.85  24.08\n",
      "2021-02-01  169.119228     171  -1.88     3.53   1.88\n"
     ]
    },
    {
     "name": "stderr",
     "output_type": "stream",
     "text": [
      "C:\\Users\\Paul\\anaconda3\\lib\\site-packages\\statsmodels\\tsa\\base\\tsa_model.py:524: ValueWarning: No frequency information was provided, so inferred frequency MS will be used.\n",
      "  warnings.warn('No frequency information was'\n",
      "C:\\Users\\Paul\\anaconda3\\lib\\site-packages\\statsmodels\\tsa\\base\\tsa_model.py:524: ValueWarning: No frequency information was provided, so inferred frequency MS will be used.\n",
      "  warnings.warn('No frequency information was'\n"
     ]
    },
    {
     "name": "stdout",
     "output_type": "stream",
     "text": [
      "            prediction  actual   error       mse    rmse\n",
      "2020-01-01  434.753016     383   51.75   2678.06   51.75\n",
      "2020-02-01  341.215827     350   -8.78     77.09    8.78\n",
      "2020-03-01  299.551585     288   11.55    133.40   11.55\n",
      "2020-04-01  219.077194     209   10.08    101.61   10.08\n",
      "2020-05-01  174.130614     184   -9.87     97.42    9.87\n",
      "2020-06-01  163.275164     155    8.28     68.56    8.28\n",
      "2020-07-01  147.785544     142    5.79     33.52    5.79\n",
      "2020-08-01  134.122525     129    5.12     26.21    5.12\n",
      "2020-09-01  168.699494     172   -3.30     10.89    3.30\n",
      "2020-10-01  213.323432     294  -80.68   6509.26   80.68\n",
      "2020-11-01  390.374619     367   23.37    546.16   23.37\n",
      "2020-12-01  417.668701     476  -58.33   3402.39   58.33\n",
      "2021-01-01  526.480365     391  135.48  18354.83  135.48\n",
      "2021-02-01  299.176058     247   52.18   2722.75   52.18\n"
     ]
    },
    {
     "name": "stderr",
     "output_type": "stream",
     "text": [
      "C:\\Users\\Paul\\anaconda3\\lib\\site-packages\\statsmodels\\tsa\\base\\tsa_model.py:524: ValueWarning: No frequency information was provided, so inferred frequency MS will be used.\n",
      "  warnings.warn('No frequency information was'\n",
      "C:\\Users\\Paul\\anaconda3\\lib\\site-packages\\statsmodels\\tsa\\base\\tsa_model.py:524: ValueWarning: No frequency information was provided, so inferred frequency MS will be used.\n",
      "  warnings.warn('No frequency information was'\n"
     ]
    },
    {
     "name": "stdout",
     "output_type": "stream",
     "text": [
      "            prediction  actual   error       mse    rmse\n",
      "2020-01-01  462.753896     492  -29.25    855.56   29.25\n",
      "2020-02-01  496.554983     492    4.55     20.70    4.55\n",
      "2020-03-01  480.964548     367  113.96  12986.88  113.96\n",
      "2020-04-01  223.685436     227   -3.31     10.96    3.31\n",
      "2020-05-01  171.513411     225  -53.49   2861.18   53.49\n",
      "2020-06-01  209.855762     210   -0.14      0.02    0.14\n",
      "2020-07-01  224.165896     211   13.17    173.45   13.17\n",
      "2020-08-01  209.247747     207    2.25      5.06    2.25\n",
      "2020-09-01  227.365389     224    3.37     11.36    3.37\n",
      "2020-10-01  252.709153     288  -35.29   1245.38   35.29\n",
      "2020-11-01  383.128546     407  -23.87    569.78   23.87\n",
      "2020-12-01  501.002963     573  -72.00   5184.00   72.00\n",
      "2021-01-01  655.626180     495  160.63  25802.00  160.63\n",
      "2021-02-01  335.113729     350  -14.89    221.71   14.89\n"
     ]
    },
    {
     "name": "stderr",
     "output_type": "stream",
     "text": [
      "C:\\Users\\Paul\\anaconda3\\lib\\site-packages\\statsmodels\\tsa\\base\\tsa_model.py:524: ValueWarning: No frequency information was provided, so inferred frequency MS will be used.\n",
      "  warnings.warn('No frequency information was'\n",
      "C:\\Users\\Paul\\anaconda3\\lib\\site-packages\\statsmodels\\tsa\\base\\tsa_model.py:524: ValueWarning: No frequency information was provided, so inferred frequency MS will be used.\n",
      "  warnings.warn('No frequency information was'\n"
     ]
    },
    {
     "name": "stdout",
     "output_type": "stream",
     "text": [
      "            prediction  actual  error      mse   rmse\n",
      "2020-01-01  423.183963     389  34.18  1168.27  34.18\n",
      "2020-02-01  339.186420     344  -4.81    23.14   4.81\n",
      "2020-03-01  377.429590     362  15.43   238.08  15.43\n",
      "2020-04-01  337.923014     345  -7.08    50.13   7.08\n",
      "2020-05-01  338.886250     349 -10.11   102.21  10.11\n",
      "2020-06-01  330.275056     331  -0.72     0.52   0.72\n",
      "2020-07-01  324.638579     343 -18.36   337.09  18.36\n",
      "2020-08-01  342.817705     342   0.82     0.67   0.82\n",
      "2020-09-01  351.350255     353  -1.65     2.72   1.65\n",
      "2020-10-01  375.499898     416 -40.50  1640.25  40.50\n",
      "2020-11-01  455.975374     400  55.98  3133.76  55.98\n",
      "2020-12-01  403.840368     411  -7.16    51.27   7.16\n",
      "2021-01-01  413.973596     428 -14.03   196.84  14.03\n",
      "2021-02-01  396.865168     408 -11.13   123.88  11.13\n"
     ]
    },
    {
     "name": "stderr",
     "output_type": "stream",
     "text": [
      "C:\\Users\\Paul\\anaconda3\\lib\\site-packages\\statsmodels\\tsa\\base\\tsa_model.py:524: ValueWarning: No frequency information was provided, so inferred frequency MS will be used.\n",
      "  warnings.warn('No frequency information was'\n",
      "C:\\Users\\Paul\\anaconda3\\lib\\site-packages\\statsmodels\\tsa\\base\\tsa_model.py:524: ValueWarning: No frequency information was provided, so inferred frequency MS will be used.\n",
      "  warnings.warn('No frequency information was'\n"
     ]
    },
    {
     "name": "stdout",
     "output_type": "stream",
     "text": [
      "            prediction  actual  error      mse   rmse\n",
      "2020-01-01  496.447193     410  86.45  7473.60  86.45\n",
      "2020-02-01  384.691266     377   7.69    59.14   7.69\n",
      "2020-03-01  373.033911     348  25.03   626.50  25.03\n",
      "2020-04-01  291.927277     294  -2.07     4.28   2.07\n",
      "2020-05-01  219.550047     264 -44.45  1975.80  44.45\n",
      "2020-06-01  212.973212     229 -16.03   256.96  16.03\n",
      "2020-07-01  225.561605     212  13.56   183.87  13.56\n",
      "2020-08-01  205.427376     194  11.43   130.64  11.43\n",
      "2020-09-01  210.953948     216  -5.05    25.50   5.05\n",
      "2020-10-01  243.572068     293 -49.43  2443.32  49.43\n",
      "2020-11-01  344.919653     319  25.92   671.85  25.92\n",
      "2020-12-01  406.073902     371  35.07  1229.90  35.07\n",
      "2021-01-01  412.418560     464 -51.58  2660.50  51.58\n",
      "2021-02-01  461.768094     533 -71.23  5073.71  71.23\n"
     ]
    },
    {
     "name": "stderr",
     "output_type": "stream",
     "text": [
      "C:\\Users\\Paul\\anaconda3\\lib\\site-packages\\statsmodels\\tsa\\base\\tsa_model.py:524: ValueWarning: No frequency information was provided, so inferred frequency MS will be used.\n",
      "  warnings.warn('No frequency information was'\n",
      "C:\\Users\\Paul\\anaconda3\\lib\\site-packages\\statsmodels\\tsa\\base\\tsa_model.py:524: ValueWarning: No frequency information was provided, so inferred frequency MS will be used.\n",
      "  warnings.warn('No frequency information was'\n"
     ]
    },
    {
     "name": "stdout",
     "output_type": "stream",
     "text": [
      "            prediction  actual   error       mse    rmse\n",
      "2020-01-01  411.079768     284  127.08  16149.33  127.08\n",
      "2020-02-01  245.590188     547 -301.41  90847.99  301.41\n",
      "2020-03-01  499.760570     438   61.76   3814.30   61.76\n",
      "2020-04-01  335.469518     306   29.47    868.48   29.47\n",
      "2020-05-01  271.765398     250   21.77    473.93   21.77\n",
      "2020-06-01  212.621184     194   18.62    346.70   18.62\n",
      "2020-07-01  188.945579     201  -12.05    145.20   12.05\n",
      "2020-08-01  190.414058     202  -11.59    134.33   11.59\n",
      "2020-09-01  227.584323     246  -18.42    339.30   18.42\n",
      "2020-10-01  276.275982     378 -101.72  10346.96  101.72\n",
      "2020-11-01  491.816233     509  -17.18    295.15   17.18\n",
      "2020-12-01  615.352660     694  -78.65   6185.82   78.65\n",
      "2021-01-01  688.647515     623   65.65   4309.92   65.65\n",
      "2021-02-01  624.477141     473  151.48  22946.19  151.48\n"
     ]
    },
    {
     "name": "stderr",
     "output_type": "stream",
     "text": [
      "C:\\Users\\Paul\\anaconda3\\lib\\site-packages\\statsmodels\\tsa\\base\\tsa_model.py:524: ValueWarning: No frequency information was provided, so inferred frequency MS will be used.\n",
      "  warnings.warn('No frequency information was'\n",
      "C:\\Users\\Paul\\anaconda3\\lib\\site-packages\\statsmodels\\tsa\\base\\tsa_model.py:524: ValueWarning: No frequency information was provided, so inferred frequency MS will be used.\n",
      "  warnings.warn('No frequency information was'\n"
     ]
    },
    {
     "name": "stdout",
     "output_type": "stream",
     "text": [
      "            prediction  actual  error      mse   rmse\n",
      "2020-01-01  361.365133     363  -1.63     2.66   1.63\n",
      "2020-02-01  317.686741     349 -31.31   980.32  31.31\n",
      "2020-03-01  348.925725     365 -16.07   258.24  16.07\n",
      "2020-04-01  317.596334     345 -27.40   750.76  27.40\n",
      "2020-05-01  285.033774     341 -55.97  3132.64  55.97\n",
      "2020-06-01  231.178302     320 -88.82  7888.99  88.82\n",
      "2020-07-01  351.780177     324  27.78   771.73  27.78\n",
      "2020-08-01  341.685091     321  20.69   428.08  20.69\n",
      "2020-09-01  362.736482     329  33.74  1138.39  33.74\n",
      "2020-10-01  364.722905     387 -22.28   496.40  22.28\n",
      "2020-11-01  434.050252     384  50.05  2505.00  50.05\n",
      "2020-12-01  424.415087     409  15.42   237.78  15.42\n",
      "2021-01-01  423.050559     396  27.05   731.70  27.05\n",
      "2021-02-01  364.999121     343  22.00   484.00  22.00\n"
     ]
    },
    {
     "name": "stderr",
     "output_type": "stream",
     "text": [
      "C:\\Users\\Paul\\anaconda3\\lib\\site-packages\\statsmodels\\tsa\\base\\tsa_model.py:524: ValueWarning: No frequency information was provided, so inferred frequency MS will be used.\n",
      "  warnings.warn('No frequency information was'\n",
      "C:\\Users\\Paul\\anaconda3\\lib\\site-packages\\statsmodels\\tsa\\base\\tsa_model.py:524: ValueWarning: No frequency information was provided, so inferred frequency MS will be used.\n",
      "  warnings.warn('No frequency information was'\n"
     ]
    },
    {
     "name": "stdout",
     "output_type": "stream",
     "text": [
      "            prediction  actual   error       mse    rmse\n",
      "2020-01-01  498.614321     389  109.61  12014.35  109.61\n",
      "2020-02-01  269.341028     289  -19.66    386.52   19.66\n",
      "2020-03-01  305.662086     331  -25.34    642.12   25.34\n",
      "2020-04-01  316.225280     338  -21.77    473.93   21.77\n",
      "2020-05-01  312.250745     302   10.25    105.06   10.25\n",
      "2020-06-01  255.424587     259   -3.58     12.82    3.58\n",
      "2020-07-01  239.642372     248   -8.36     69.89    8.36\n",
      "2020-08-01  236.139817     233    3.14      9.86    3.14\n",
      "2020-09-01  281.423424     266   15.42    237.78   15.42\n",
      "2020-10-01  302.238427     373  -70.76   5006.98   70.76\n",
      "2020-11-01  491.369247     532  -40.63   1650.80   40.63\n",
      "2020-12-01  631.143640     753 -121.86  14849.86  121.86\n",
      "2021-01-01  804.409016     851  -46.59   2170.63   46.59\n",
      "2021-02-01  827.599509     888  -60.40   3648.16   60.40\n"
     ]
    },
    {
     "name": "stderr",
     "output_type": "stream",
     "text": [
      "C:\\Users\\Paul\\anaconda3\\lib\\site-packages\\statsmodels\\tsa\\base\\tsa_model.py:524: ValueWarning: No frequency information was provided, so inferred frequency MS will be used.\n",
      "  warnings.warn('No frequency information was'\n",
      "C:\\Users\\Paul\\anaconda3\\lib\\site-packages\\statsmodels\\tsa\\base\\tsa_model.py:524: ValueWarning: No frequency information was provided, so inferred frequency MS will be used.\n",
      "  warnings.warn('No frequency information was'\n"
     ]
    },
    {
     "name": "stdout",
     "output_type": "stream",
     "text": [
      "            prediction  actual   error       mse    rmse\n",
      "2020-01-01  836.472607     786   50.47   2547.22   50.47\n",
      "2020-02-01  720.791955     738  -17.21    296.18   17.21\n",
      "2020-03-01  732.517994     540  192.52  37063.95  192.52\n",
      "2020-04-01  341.174823     323   18.17    330.15   18.17\n",
      "2020-05-01  135.867197     269 -133.13  17723.60  133.13\n",
      "2020-06-01  185.614982     216  -30.39    923.55   30.39\n",
      "2020-07-01  184.544259     235  -50.46   2546.21   50.46\n",
      "2020-08-01  239.558275     246   -6.44     41.47    6.44\n",
      "2020-09-01  311.384869     251   60.38   3645.74   60.38\n",
      "2020-10-01  287.636310     292   -4.36     19.01    4.36\n",
      "2020-11-01  498.749326     439   59.75   3570.06   59.75\n",
      "2020-12-01  585.772225     641  -55.23   3050.35   55.23\n",
      "2021-01-01  717.271283     778  -60.73   3688.13   60.73\n",
      "2021-02-01  760.101931     875 -114.90  13202.01  114.90\n"
     ]
    },
    {
     "name": "stderr",
     "output_type": "stream",
     "text": [
      "C:\\Users\\Paul\\anaconda3\\lib\\site-packages\\statsmodels\\tsa\\base\\tsa_model.py:524: ValueWarning: No frequency information was provided, so inferred frequency MS will be used.\n",
      "  warnings.warn('No frequency information was'\n",
      "C:\\Users\\Paul\\anaconda3\\lib\\site-packages\\statsmodels\\tsa\\base\\tsa_model.py:524: ValueWarning: No frequency information was provided, so inferred frequency MS will be used.\n",
      "  warnings.warn('No frequency information was'\n"
     ]
    },
    {
     "name": "stdout",
     "output_type": "stream",
     "text": [
      "             prediction  actual   error       mse    rmse\n",
      "2020-01-01   772.283646     875 -102.72  10551.40  102.72\n",
      "2020-02-01  1002.250658     932   70.25   4935.06   70.25\n",
      "2020-03-01   814.130581     872  -57.87   3348.94   57.87\n",
      "2020-04-01   756.393439     744   12.39    153.51   12.39\n",
      "2020-05-01   587.329415     605  -17.67    312.23   17.67\n",
      "2020-06-01   483.878171     471   12.88    165.89   12.88\n",
      "2020-07-01   414.420990     373   41.42   1715.62   41.42\n",
      "2020-08-01   320.322027     291   29.32    859.66   29.32\n",
      "2020-09-01   382.195839     391   -8.80     77.44    8.80\n",
      "2020-10-01   492.855154     668 -175.14  30674.02  175.14\n",
      "2020-11-01   836.899393     743   93.90   8817.21   93.90\n",
      "2020-12-01   842.564203     881  -38.44   1477.63   38.44\n",
      "2021-01-01   963.526841     922   41.53   1724.74   41.53\n",
      "2021-02-01   998.706308     884  114.71  13158.38  114.71\n"
     ]
    },
    {
     "name": "stderr",
     "output_type": "stream",
     "text": [
      "C:\\Users\\Paul\\anaconda3\\lib\\site-packages\\statsmodels\\tsa\\base\\tsa_model.py:524: ValueWarning: No frequency information was provided, so inferred frequency MS will be used.\n",
      "  warnings.warn('No frequency information was'\n",
      "C:\\Users\\Paul\\anaconda3\\lib\\site-packages\\statsmodels\\tsa\\base\\tsa_model.py:524: ValueWarning: No frequency information was provided, so inferred frequency MS will be used.\n",
      "  warnings.warn('No frequency information was'\n"
     ]
    },
    {
     "name": "stdout",
     "output_type": "stream",
     "text": [
      "             prediction  actual   error       mse    rmse\n",
      "2020-01-01  1675.046714    1633   42.05   1768.20   42.05\n",
      "2020-02-01  1482.606465    1508  -25.39    644.65   25.39\n",
      "2020-03-01  1333.003655    1460 -127.00  16129.00  127.00\n",
      "2020-04-01  1230.572971    1291  -60.43   3651.78   60.43\n",
      "2020-05-01   991.691180     910   81.69   6673.26   81.69\n",
      "2020-06-01   660.472224     583   77.47   6001.60   77.47\n",
      "2020-07-01   538.563747     578  -39.44   1555.51   39.44\n",
      "2020-08-01   563.271471     559    4.27     18.23    4.27\n",
      "2020-09-01   820.320921     727   93.32   8708.62   93.32\n",
      "2020-10-01   917.377808    1203 -285.62  81578.78  285.62\n",
      "2020-11-01  1645.160682    1405  240.16  57676.83  240.16\n",
      "2020-12-01  1697.934835    1735  -37.07   1374.18   37.07\n",
      "2021-01-01  1741.138780    1671   70.14   4919.62   70.14\n",
      "2021-02-01  1518.966633    1431   87.97   7738.72   87.97\n"
     ]
    },
    {
     "name": "stderr",
     "output_type": "stream",
     "text": [
      "C:\\Users\\Paul\\anaconda3\\lib\\site-packages\\statsmodels\\tsa\\base\\tsa_model.py:524: ValueWarning: No frequency information was provided, so inferred frequency MS will be used.\n",
      "  warnings.warn('No frequency information was'\n",
      "C:\\Users\\Paul\\anaconda3\\lib\\site-packages\\statsmodels\\tsa\\base\\tsa_model.py:524: ValueWarning: No frequency information was provided, so inferred frequency MS will be used.\n",
      "  warnings.warn('No frequency information was'\n"
     ]
    },
    {
     "name": "stdout",
     "output_type": "stream",
     "text": [
      "            prediction  actual   error       mse    rmse\n",
      "2020-01-01  478.272370     414   64.27   4130.63   64.27\n",
      "2020-02-01  418.500056     364   54.50   2970.25   54.50\n",
      "2020-03-01  326.183616     289   37.18   1382.35   37.18\n",
      "2020-04-01  222.357598     202   20.36    414.53   20.36\n",
      "2020-05-01  144.085113     122   22.09    487.97   22.09\n",
      "2020-06-01   67.870480      57   10.87    118.16   10.87\n",
      "2020-07-01   50.209616      59   -8.79     77.26    8.79\n",
      "2020-08-01   55.773649      60   -4.23     17.89    4.23\n",
      "2020-09-01   70.754807     141  -70.25   4935.06   70.25\n",
      "2020-10-01  166.193091     346 -179.81  32331.64  179.81\n",
      "2020-11-01  469.788724     394   75.79   5744.12   75.79\n",
      "2020-12-01  415.436272     477  -61.56   3789.63   61.56\n",
      "2021-01-01  539.263490     442   97.26   9459.51   97.26\n",
      "2021-02-01  411.349238     354   57.35   3289.02   57.35\n"
     ]
    },
    {
     "name": "stderr",
     "output_type": "stream",
     "text": [
      "C:\\Users\\Paul\\anaconda3\\lib\\site-packages\\statsmodels\\tsa\\base\\tsa_model.py:524: ValueWarning: No frequency information was provided, so inferred frequency MS will be used.\n",
      "  warnings.warn('No frequency information was'\n",
      "C:\\Users\\Paul\\anaconda3\\lib\\site-packages\\statsmodels\\tsa\\base\\tsa_model.py:524: ValueWarning: No frequency information was provided, so inferred frequency MS will be used.\n",
      "  warnings.warn('No frequency information was'\n"
     ]
    },
    {
     "name": "stdout",
     "output_type": "stream",
     "text": [
      "            prediction  actual   error        mse    rmse\n",
      "2020-01-01  680.982033     812 -131.02   17166.24  131.02\n",
      "2020-02-01  798.963164     884  -85.04    7231.80   85.04\n",
      "2020-03-01  846.750920     405  441.75  195143.06  441.75\n",
      "2020-04-01  221.098944     324 -102.90   10588.41  102.90\n",
      "2020-05-01  256.237800     300  -43.76    1914.94   43.76\n",
      "2020-06-01  225.604894     267  -41.40    1713.96   41.40\n",
      "2020-07-01  278.701932     253   25.70     660.49   25.70\n",
      "2020-08-01  238.455388     237    1.46       2.13    1.46\n",
      "2020-09-01  362.686400     250  112.69   12699.04  112.69\n",
      "2020-10-01  324.283509     308   16.28     265.04   16.28\n",
      "2020-11-01  417.237988     159  258.24   66687.90  258.24\n",
      "2020-12-01  214.443508       0  214.44   45984.51  214.44\n",
      "2021-01-01   64.435154       0   64.44    4152.51   64.44\n",
      "2021-02-01   16.744535       0   16.74     280.23   16.74\n"
     ]
    },
    {
     "name": "stderr",
     "output_type": "stream",
     "text": [
      "C:\\Users\\Paul\\anaconda3\\lib\\site-packages\\statsmodels\\tsa\\base\\tsa_model.py:524: ValueWarning: No frequency information was provided, so inferred frequency MS will be used.\n",
      "  warnings.warn('No frequency information was'\n",
      "C:\\Users\\Paul\\anaconda3\\lib\\site-packages\\statsmodels\\tsa\\base\\tsa_model.py:524: ValueWarning: No frequency information was provided, so inferred frequency MS will be used.\n",
      "  warnings.warn('No frequency information was'\n"
     ]
    },
    {
     "name": "stdout",
     "output_type": "stream",
     "text": [
      "             prediction  actual   error       mse    rmse\n",
      "2020-01-01  1155.079427    1163   -7.92     62.73    7.92\n",
      "2020-02-01  1109.026216     991  118.03  13931.08  118.03\n",
      "2020-03-01  1350.443926    1091  259.44  67309.11  259.44\n",
      "2020-04-01  1092.607406    1081   11.61    134.79   11.61\n",
      "2020-05-01   863.761060    1049 -185.24  34313.86  185.24\n",
      "2020-06-01   831.275585     969 -137.72  18966.80  137.72\n",
      "2020-07-01   884.327430     881    3.33     11.09    3.33\n",
      "2020-08-01   813.363618     794   19.36    374.81   19.36\n",
      "2020-09-01   888.214467     789   99.21   9842.62   99.21\n",
      "2020-10-01   903.518153     865   38.52   1483.79   38.52\n",
      "2020-11-01  1057.172074     976   81.17   6588.57   81.17\n",
      "2020-12-01  1207.597086    1172   35.60   1267.36   35.60\n",
      "2021-01-01  1087.776096    1141  -53.22   2832.37   53.22\n",
      "2021-02-01  1093.791447     992  101.79  10361.20  101.79\n"
     ]
    },
    {
     "name": "stderr",
     "output_type": "stream",
     "text": [
      "C:\\Users\\Paul\\anaconda3\\lib\\site-packages\\statsmodels\\tsa\\base\\tsa_model.py:524: ValueWarning: No frequency information was provided, so inferred frequency MS will be used.\n",
      "  warnings.warn('No frequency information was'\n",
      "C:\\Users\\Paul\\anaconda3\\lib\\site-packages\\statsmodels\\tsa\\base\\tsa_model.py:524: ValueWarning: No frequency information was provided, so inferred frequency MS will be used.\n",
      "  warnings.warn('No frequency information was'\n"
     ]
    },
    {
     "name": "stdout",
     "output_type": "stream",
     "text": [
      "            prediction  actual  error      mse   rmse\n",
      "2020-01-01  330.826834     315  15.83   250.59  15.83\n",
      "2020-02-01  301.205196     313 -11.79   139.00  11.79\n",
      "2020-03-01  336.356414     345  -8.64    74.65   8.64\n",
      "2020-04-01  345.975206     341   4.98    24.80   4.98\n",
      "2020-05-01  336.403132     298  38.40  1474.56  38.40\n",
      "2020-06-01  256.064265     250   6.06    36.72   6.06\n",
      "2020-07-01  247.448259     151  96.45  9302.60  96.45\n",
      "2020-08-01   65.181945      72  -6.82    46.51   6.82\n",
      "2020-09-01   82.195550      86  -3.80    14.44   3.80\n",
      "2020-10-01  114.070782     126 -11.93   142.32  11.93\n",
      "2020-11-01  130.459162     180 -49.54  2454.21  49.54\n",
      "2020-12-01  234.617734     256 -21.38   457.10  21.38\n",
      "2021-01-01  309.301608     385 -75.70  5730.49  75.70\n",
      "2021-02-01  455.924252     511 -55.08  3033.81  55.08\n"
     ]
    },
    {
     "name": "stderr",
     "output_type": "stream",
     "text": [
      "C:\\Users\\Paul\\anaconda3\\lib\\site-packages\\statsmodels\\tsa\\base\\tsa_model.py:524: ValueWarning: No frequency information was provided, so inferred frequency MS will be used.\n",
      "  warnings.warn('No frequency information was'\n",
      "C:\\Users\\Paul\\anaconda3\\lib\\site-packages\\statsmodels\\tsa\\base\\tsa_model.py:524: ValueWarning: No frequency information was provided, so inferred frequency MS will be used.\n",
      "  warnings.warn('No frequency information was'\n"
     ]
    },
    {
     "name": "stdout",
     "output_type": "stream",
     "text": [
      "            prediction  actual   error       mse    rmse\n",
      "2020-01-01  416.826119     419   -2.17      4.71    2.17\n",
      "2020-02-01  397.914192     405   -7.09     50.27    7.09\n",
      "2020-03-01  422.352262     311  111.35  12398.82  111.35\n",
      "2020-04-01  221.224400     206   15.22    231.65   15.22\n",
      "2020-05-01  166.147896     189  -22.85    522.12   22.85\n",
      "2020-06-01  172.301361     167    5.30     28.09    5.30\n",
      "2020-07-01  174.093269     171    3.09      9.55    3.09\n",
      "2020-08-01  175.123557     170    5.12     26.21    5.12\n",
      "2020-09-01  215.017983     215    0.02      0.00    0.00\n",
      "2020-10-01  261.410906     343  -81.59   6656.93   81.59\n",
      "2020-11-01  447.303068     474  -26.70    712.89   26.70\n",
      "2020-12-01  548.089802     657 -108.91  11861.39  108.91\n",
      "2021-01-01  744.951254     578  166.95  27872.30  166.95\n",
      "2021-02-01  439.260575     423   16.26    264.39   16.26\n"
     ]
    },
    {
     "name": "stderr",
     "output_type": "stream",
     "text": [
      "C:\\Users\\Paul\\anaconda3\\lib\\site-packages\\statsmodels\\tsa\\base\\tsa_model.py:524: ValueWarning: No frequency information was provided, so inferred frequency MS will be used.\n",
      "  warnings.warn('No frequency information was'\n",
      "C:\\Users\\Paul\\anaconda3\\lib\\site-packages\\statsmodels\\tsa\\base\\tsa_model.py:524: ValueWarning: No frequency information was provided, so inferred frequency MS will be used.\n",
      "  warnings.warn('No frequency information was'\n"
     ]
    },
    {
     "name": "stdout",
     "output_type": "stream",
     "text": [
      "            prediction  actual  error      mse   rmse\n",
      "2020-01-01  852.530372     846   6.53    42.64   6.53\n",
      "2020-02-01  804.371716     821 -16.63   276.56  16.63\n",
      "2020-03-01  759.984759     704  55.98  3133.76  55.98\n",
      "2020-04-01  578.779505     543  35.78  1280.21  35.78\n",
      "2020-05-01  415.934100     499 -83.07  6900.62  83.07\n",
      "2020-06-01  430.059149     441 -10.94   119.68  10.94\n",
      "2020-07-01  418.485713     411   7.49    56.10   7.49\n",
      "2020-08-01  393.611283     380  13.61   185.23  13.61\n",
      "2020-09-01  423.158916     411  12.16   147.87  12.16\n",
      "2020-10-01  459.435032     529 -69.56  4838.59  69.56\n",
      "2020-11-01  734.431297     642  92.43  8543.30  92.43\n",
      "2020-12-01  782.604967     818 -35.40  1253.16  35.40\n",
      "2021-01-01  877.083388     809  68.08  4634.89  68.08\n",
      "2021-02-01  747.649219     720  27.65   764.52  27.65\n"
     ]
    },
    {
     "name": "stderr",
     "output_type": "stream",
     "text": [
      "C:\\Users\\Paul\\anaconda3\\lib\\site-packages\\statsmodels\\tsa\\base\\tsa_model.py:524: ValueWarning: No frequency information was provided, so inferred frequency MS will be used.\n",
      "  warnings.warn('No frequency information was'\n",
      "C:\\Users\\Paul\\anaconda3\\lib\\site-packages\\statsmodels\\tsa\\base\\tsa_model.py:524: ValueWarning: No frequency information was provided, so inferred frequency MS will be used.\n",
      "  warnings.warn('No frequency information was'\n"
     ]
    },
    {
     "name": "stdout",
     "output_type": "stream",
     "text": [
      "            prediction  actual  error      mse   rmse\n",
      "2020-01-01  219.393932     203  16.39   268.63  16.39\n",
      "2020-02-01  194.956459     219 -24.04   577.92  24.04\n",
      "2020-03-01  222.334412     254 -31.67  1002.99  31.67\n",
      "2020-04-01  178.942570     262 -83.06  6898.96  83.06\n",
      "2020-05-01  188.891481     212 -23.11   534.07  23.11\n",
      "2020-06-01  127.806767     163 -35.19  1238.34  35.19\n",
      "2020-07-01  147.219631      93  54.22  2939.81  54.22\n",
      "2020-08-01   42.927099      40   2.93     8.58   2.93\n",
      "2020-09-01  101.448739      47  54.45  2964.80  54.45\n",
      "2020-10-01   81.950319      69  12.95   167.70  12.95\n",
      "2020-11-01  124.667457      67  57.67  3325.83  57.67\n",
      "2020-12-01   94.651071      87   7.65    58.52   7.65\n",
      "2021-01-01  153.483764     121  32.48  1054.95  32.48\n",
      "2021-02-01  102.800607     136 -33.20  1102.24  33.20\n"
     ]
    },
    {
     "name": "stderr",
     "output_type": "stream",
     "text": [
      "C:\\Users\\Paul\\anaconda3\\lib\\site-packages\\statsmodels\\tsa\\base\\tsa_model.py:524: ValueWarning: No frequency information was provided, so inferred frequency MS will be used.\n",
      "  warnings.warn('No frequency information was'\n",
      "C:\\Users\\Paul\\anaconda3\\lib\\site-packages\\statsmodels\\tsa\\base\\tsa_model.py:524: ValueWarning: No frequency information was provided, so inferred frequency MS will be used.\n",
      "  warnings.warn('No frequency information was'\n"
     ]
    },
    {
     "name": "stdout",
     "output_type": "stream",
     "text": [
      "            prediction  actual   error       mse    rmse\n",
      "2020-01-01  569.256812     459  110.26  12157.27  110.26\n",
      "2020-02-01  378.060916     383   -4.94     24.40    4.94\n",
      "2020-03-01  400.715856     388   12.72    161.80   12.72\n",
      "2020-04-01  339.816591     359  -19.18    367.87   19.18\n",
      "2020-05-01  303.753778     357  -53.25   2835.56   53.25\n",
      "2020-06-01  320.631371     334  -13.37    178.76   13.37\n",
      "2020-07-01  333.954403     318   15.95    254.40   15.95\n",
      "2020-08-01  289.360359     297   -7.64     58.37    7.64\n",
      "2020-09-01  322.980528     322    0.98      0.96    0.98\n",
      "2020-10-01  356.937475     416  -59.06   3488.08   59.06\n",
      "2020-11-01  534.538383     380  154.54  23882.61  154.54\n",
      "2020-12-01  374.226250     366    8.23     67.73    8.23\n",
      "2021-01-01  378.814402     348   30.81    949.26   30.81\n",
      "2021-02-01  287.533229     293   -5.47     29.92    5.47\n"
     ]
    },
    {
     "name": "stderr",
     "output_type": "stream",
     "text": [
      "C:\\Users\\Paul\\anaconda3\\lib\\site-packages\\statsmodels\\tsa\\base\\tsa_model.py:524: ValueWarning: No frequency information was provided, so inferred frequency MS will be used.\n",
      "  warnings.warn('No frequency information was'\n",
      "C:\\Users\\Paul\\anaconda3\\lib\\site-packages\\statsmodels\\tsa\\base\\tsa_model.py:524: ValueWarning: No frequency information was provided, so inferred frequency MS will be used.\n",
      "  warnings.warn('No frequency information was'\n"
     ]
    },
    {
     "name": "stdout",
     "output_type": "stream",
     "text": [
      "            prediction  actual   error       mse    rmse\n",
      "2020-01-01  664.831651     610   54.83   3006.33   54.83\n",
      "2020-02-01  558.742013     573  -14.26    203.35   14.26\n",
      "2020-03-01  594.247855     459  135.25  18292.56  135.25\n",
      "2020-04-01  347.683062     322   25.68    659.46   25.68\n",
      "2020-05-01  276.984894     263   13.98    195.44   13.98\n",
      "2020-06-01  207.694950     207    0.69      0.48    0.69\n",
      "2020-07-01  208.200695     193   15.20    231.04   15.20\n",
      "2020-08-01  179.884884     177    2.88      8.29    2.88\n",
      "2020-09-01  199.430997     197    2.43      5.90    2.43\n",
      "2020-10-01  224.932002     266  -41.07   1686.74   41.07\n",
      "2020-11-01  414.086827     429  -14.91    222.31   14.91\n",
      "2020-12-01  555.103740     644  -88.90   7903.21   88.90\n",
      "2021-01-01  703.969788     601  102.97  10602.82  102.97\n",
      "2021-02-01  502.617434     490   12.62    159.26   12.62\n"
     ]
    },
    {
     "name": "stderr",
     "output_type": "stream",
     "text": [
      "C:\\Users\\Paul\\anaconda3\\lib\\site-packages\\statsmodels\\tsa\\base\\tsa_model.py:524: ValueWarning: No frequency information was provided, so inferred frequency MS will be used.\n",
      "  warnings.warn('No frequency information was'\n",
      "C:\\Users\\Paul\\anaconda3\\lib\\site-packages\\statsmodels\\tsa\\base\\tsa_model.py:524: ValueWarning: No frequency information was provided, so inferred frequency MS will be used.\n",
      "  warnings.warn('No frequency information was'\n"
     ]
    },
    {
     "name": "stdout",
     "output_type": "stream",
     "text": [
      "            prediction  actual  error      mse   rmse\n",
      "2020-01-01  307.863161     272  35.86  1285.94  35.86\n",
      "2020-02-01  239.564589     236   3.56    12.67   3.56\n",
      "2020-03-01  239.185701     261 -21.81   475.68  21.81\n",
      "2020-04-01  227.205934     260 -32.79  1075.18  32.79\n",
      "2020-05-01  243.041230     263 -19.96   398.40  19.96\n",
      "2020-06-01  243.025077     250  -6.97    48.58   6.97\n",
      "2020-07-01  263.571408     238  25.57   653.82  25.57\n",
      "2020-08-01  230.292105     222   8.29    68.72   8.29\n",
      "2020-09-01  228.115289     223   5.12    26.21   5.12\n",
      "2020-10-01  236.882115     251 -14.12   199.37  14.12\n",
      "2020-11-01  298.585889     320 -21.41   458.39  21.41\n",
      "2020-12-01  370.546023     423 -52.45  2751.00  52.45\n",
      "2021-01-01  451.509518     436  15.51   240.56  15.51\n",
      "2021-02-01  408.320448     408   0.32     0.10   0.32\n"
     ]
    },
    {
     "name": "stderr",
     "output_type": "stream",
     "text": [
      "C:\\Users\\Paul\\anaconda3\\lib\\site-packages\\statsmodels\\tsa\\base\\tsa_model.py:524: ValueWarning: No frequency information was provided, so inferred frequency MS will be used.\n",
      "  warnings.warn('No frequency information was'\n",
      "C:\\Users\\Paul\\anaconda3\\lib\\site-packages\\statsmodels\\tsa\\base\\tsa_model.py:524: ValueWarning: No frequency information was provided, so inferred frequency MS will be used.\n",
      "  warnings.warn('No frequency information was'\n"
     ]
    },
    {
     "name": "stdout",
     "output_type": "stream",
     "text": [
      "            prediction  actual   error       mse    rmse\n",
      "2020-01-01  323.860343     394  -70.14   4919.62   70.14\n",
      "2020-02-01  409.456460     439  -29.54    872.61   29.54\n",
      "2020-03-01  376.713236     390  -13.29    176.62   13.29\n",
      "2020-04-01  309.287266     315   -5.71     32.60    5.71\n",
      "2020-05-01  269.380041     268    1.38      1.90    1.38\n",
      "2020-06-01  229.226184     219   10.23    104.65   10.23\n",
      "2020-07-01  216.866643     192   24.87    618.52   24.87\n",
      "2020-08-01  174.723216     168    6.72     45.16    6.72\n",
      "2020-09-01  197.100435     217  -19.90    396.01   19.90\n",
      "2020-10-01  261.002401     356  -95.00   9025.00   95.00\n",
      "2020-11-01  508.291194     488   20.29    411.68   20.29\n",
      "2020-12-01  571.661836     674 -102.34  10473.48  102.34\n",
      "2021-01-01  769.535358     593  176.54  31166.37  176.54\n",
      "2021-02-01  484.866049     432   52.87   2795.24   52.87\n"
     ]
    },
    {
     "name": "stderr",
     "output_type": "stream",
     "text": [
      "C:\\Users\\Paul\\anaconda3\\lib\\site-packages\\statsmodels\\tsa\\base\\tsa_model.py:524: ValueWarning: No frequency information was provided, so inferred frequency MS will be used.\n",
      "  warnings.warn('No frequency information was'\n",
      "C:\\Users\\Paul\\anaconda3\\lib\\site-packages\\statsmodels\\tsa\\base\\tsa_model.py:524: ValueWarning: No frequency information was provided, so inferred frequency MS will be used.\n",
      "  warnings.warn('No frequency information was'\n"
     ]
    },
    {
     "name": "stdout",
     "output_type": "stream",
     "text": [
      "             prediction  actual   error       mse    rmse\n",
      "2020-01-01  1245.414624    1186   59.41   3529.55   59.41\n",
      "2020-02-01  1095.645863    1108  -12.35    152.52   12.35\n",
      "2020-03-01   875.044718     905  -29.96    897.60   29.96\n",
      "2020-04-01   647.617343     653   -5.38     28.94    5.38\n",
      "2020-05-01   475.949511     509  -33.05   1092.30   33.05\n",
      "2020-06-01   390.574715     377   13.57    184.14   13.57\n",
      "2020-07-01   352.487002     262   90.49   8188.44   90.49\n",
      "2020-08-01   225.734125     169   56.73   3218.29   56.73\n",
      "2020-09-01   252.054806     174   78.05   6091.80   78.05\n",
      "2020-10-01   235.538211     207   28.54    814.53   28.54\n",
      "2020-11-01   574.228807     642  -67.77   4592.77   67.77\n",
      "2020-12-01  1010.420034    1185 -174.58  30478.18  174.58\n",
      "2021-01-01  1291.910617    1213   78.91   6226.79   78.91\n",
      "2021-02-01  1099.872670    1132  -32.13   1032.34   32.13\n"
     ]
    },
    {
     "name": "stderr",
     "output_type": "stream",
     "text": [
      "C:\\Users\\Paul\\anaconda3\\lib\\site-packages\\statsmodels\\tsa\\base\\tsa_model.py:524: ValueWarning: No frequency information was provided, so inferred frequency MS will be used.\n",
      "  warnings.warn('No frequency information was'\n",
      "C:\\Users\\Paul\\anaconda3\\lib\\site-packages\\statsmodels\\tsa\\base\\tsa_model.py:524: ValueWarning: No frequency information was provided, so inferred frequency MS will be used.\n",
      "  warnings.warn('No frequency information was'\n"
     ]
    },
    {
     "name": "stdout",
     "output_type": "stream",
     "text": [
      "            prediction  actual  error      mse   rmse\n",
      "2020-01-01  241.817668     193  48.82  2383.39  48.82\n",
      "2020-02-01  183.283606     150  33.28  1107.56  33.28\n",
      "2020-03-01  127.006848     130  -2.99     8.94   2.99\n",
      "2020-04-01   99.465305     102  -2.53     6.40   2.53\n",
      "2020-05-01   54.738351      54   0.74     0.55   0.74\n",
      "2020-06-01   21.087569      16   5.09    25.91   5.09\n",
      "2020-07-01   14.791391      13   1.79     3.20   1.79\n",
      "2020-08-01   15.749513      10   5.75    33.06   5.75\n",
      "2020-09-01   35.601313      38  -2.40     5.76   2.40\n",
      "2020-10-01   30.759105     108 -77.24  5966.02  77.24\n",
      "2020-11-01  158.801850     181 -22.20   492.84  22.20\n",
      "2020-12-01  247.981708     278 -30.02   901.20  30.02\n",
      "2021-01-01  283.906095     267  16.91   285.95  16.91\n",
      "2021-02-01  254.116263     229  25.12   631.01  25.12\n"
     ]
    },
    {
     "name": "stderr",
     "output_type": "stream",
     "text": [
      "C:\\Users\\Paul\\anaconda3\\lib\\site-packages\\statsmodels\\tsa\\base\\tsa_model.py:524: ValueWarning: No frequency information was provided, so inferred frequency MS will be used.\n",
      "  warnings.warn('No frequency information was'\n",
      "C:\\Users\\Paul\\anaconda3\\lib\\site-packages\\statsmodels\\tsa\\base\\tsa_model.py:524: ValueWarning: No frequency information was provided, so inferred frequency MS will be used.\n",
      "  warnings.warn('No frequency information was'\n"
     ]
    },
    {
     "name": "stdout",
     "output_type": "stream",
     "text": [
      "            prediction  actual  error      mse   rmse\n",
      "2020-01-01  290.801640     322 -31.20   973.44  31.20\n",
      "2020-02-01  291.429715     302 -10.57   111.72  10.57\n",
      "2020-03-01  303.576219     318 -14.42   207.94  14.42\n",
      "2020-04-01  298.760762     303  -4.24    17.98   4.24\n",
      "2020-05-01  282.479442     204  78.48  6159.11  78.48\n",
      "2020-06-01  149.868193     119  30.87   952.96  30.87\n",
      "2020-07-01  108.672252     109  -0.33     0.11   0.33\n",
      "2020-08-01  102.377075      98   4.38    19.18   4.38\n",
      "2020-09-01  114.477534     116  -1.52     2.31   1.52\n",
      "2020-10-01  139.555409     170 -30.44   926.59  30.44\n",
      "2020-11-01  214.946774     220  -5.05    25.50   5.05\n",
      "2020-12-01  260.597284     291 -30.40   924.16  30.40\n",
      "2021-01-01  318.449650     351 -32.55  1059.50  32.55\n",
      "2021-02-01  336.420669     393 -56.58  3201.30  56.58\n"
     ]
    },
    {
     "name": "stderr",
     "output_type": "stream",
     "text": [
      "C:\\Users\\Paul\\anaconda3\\lib\\site-packages\\statsmodels\\tsa\\base\\tsa_model.py:524: ValueWarning: No frequency information was provided, so inferred frequency MS will be used.\n",
      "  warnings.warn('No frequency information was'\n",
      "C:\\Users\\Paul\\anaconda3\\lib\\site-packages\\statsmodels\\tsa\\base\\tsa_model.py:524: ValueWarning: No frequency information was provided, so inferred frequency MS will be used.\n",
      "  warnings.warn('No frequency information was'\n"
     ]
    },
    {
     "name": "stdout",
     "output_type": "stream",
     "text": [
      "            prediction  actual   error       mse    rmse\n",
      "2020-01-01  591.481195     460  131.48  17286.99  131.48\n",
      "2020-02-01  369.686830     388  -18.31    335.26   18.31\n",
      "2020-03-01  394.520578     390    4.52     20.43    4.52\n",
      "2020-04-01  329.850066     357  -27.15    737.12   27.15\n",
      "2020-05-01  282.279023     342  -59.72   3566.48   59.72\n",
      "2020-06-01  299.310956     311  -11.69    136.66   11.69\n",
      "2020-07-01  317.589081     316    1.59      2.53    1.59\n",
      "2020-08-01  307.572780     311   -3.43     11.76    3.43\n",
      "2020-09-01  369.029893     360    9.03     81.54    9.03\n",
      "2020-10-01  407.249141     516 -108.75  11826.56  108.75\n",
      "2020-11-01  624.667515     603   21.67    469.59   21.67\n",
      "2020-12-01  651.413614     747  -95.59   9137.45   95.59\n",
      "2021-01-01  813.049439     627  186.05  34614.60  186.05\n",
      "2021-02-01  475.903706     416   59.90   3588.01   59.90\n"
     ]
    },
    {
     "name": "stderr",
     "output_type": "stream",
     "text": [
      "C:\\Users\\Paul\\anaconda3\\lib\\site-packages\\statsmodels\\tsa\\base\\tsa_model.py:524: ValueWarning: No frequency information was provided, so inferred frequency MS will be used.\n",
      "  warnings.warn('No frequency information was'\n",
      "C:\\Users\\Paul\\anaconda3\\lib\\site-packages\\statsmodels\\tsa\\base\\tsa_model.py:524: ValueWarning: No frequency information was provided, so inferred frequency MS will be used.\n",
      "  warnings.warn('No frequency information was'\n"
     ]
    },
    {
     "name": "stdout",
     "output_type": "stream",
     "text": [
      "            prediction  actual   error       mse    rmse\n",
      "2020-01-01  469.889700     722 -252.11  63559.45  252.11\n",
      "2020-02-01  712.585840     837 -124.41  15477.85  124.41\n",
      "2020-03-01  816.757122     639  177.76  31598.62  177.76\n",
      "2020-04-01  521.875761     414  107.88  11638.09  107.88\n",
      "2020-05-01  287.870394     256   31.87   1015.70   31.87\n",
      "2020-06-01  176.661156     127   49.66   2466.12   49.66\n",
      "2020-07-01  108.205878     131  -22.79    519.38   22.79\n",
      "2020-08-01  128.294635     131   -2.71      7.34    2.71\n",
      "2020-09-01  163.264370     200  -36.74   1349.83   36.74\n",
      "2020-10-01  222.743832     384 -161.26  26004.79  161.26\n",
      "2020-11-01  667.821717     576   91.82   8430.91   91.82\n",
      "2020-12-01  692.797400     836 -143.20  20506.24  143.20\n",
      "2021-01-01  874.716600     882   -7.28     53.00    7.28\n",
      "2021-02-01  838.087814     856  -17.91    320.77   17.91\n"
     ]
    },
    {
     "name": "stderr",
     "output_type": "stream",
     "text": [
      "C:\\Users\\Paul\\anaconda3\\lib\\site-packages\\statsmodels\\tsa\\base\\tsa_model.py:524: ValueWarning: No frequency information was provided, so inferred frequency MS will be used.\n",
      "  warnings.warn('No frequency information was'\n",
      "C:\\Users\\Paul\\anaconda3\\lib\\site-packages\\statsmodels\\tsa\\base\\tsa_model.py:524: ValueWarning: No frequency information was provided, so inferred frequency MS will be used.\n",
      "  warnings.warn('No frequency information was'\n"
     ]
    },
    {
     "name": "stdout",
     "output_type": "stream",
     "text": [
      "            prediction  actual   error       mse    rmse\n",
      "2020-01-01  393.276158     289  104.28  10874.32  104.28\n",
      "2020-02-01  263.441148     439 -175.56  30821.31  175.56\n",
      "2020-03-01  483.574753     371  112.57  12672.00  112.57\n",
      "2020-04-01  300.817719     280   20.82    433.47   20.82\n",
      "2020-05-01  254.061740     246    8.06     64.96    8.06\n",
      "2020-06-01  200.657599     208   -7.34     53.88    7.34\n",
      "2020-07-01  158.557876     202  -43.44   1887.03   43.44\n",
      "2020-08-01  181.054144     192  -10.95    119.90   10.95\n",
      "2020-09-01  204.961467     228  -23.04    530.84   23.04\n",
      "2020-10-01  243.881550     336  -92.12   8486.09   92.12\n",
      "2020-11-01  411.687309     442  -30.31    918.70   30.31\n",
      "2020-12-01  481.986935     593 -111.01  12323.22  111.01\n",
      "2021-01-01  651.564811     482  169.56  28750.59  169.56\n",
      "2021-02-01  458.673987     312  146.67  21512.09  146.67\n"
     ]
    },
    {
     "name": "stderr",
     "output_type": "stream",
     "text": [
      "C:\\Users\\Paul\\anaconda3\\lib\\site-packages\\statsmodels\\tsa\\base\\tsa_model.py:524: ValueWarning: No frequency information was provided, so inferred frequency MS will be used.\n",
      "  warnings.warn('No frequency information was'\n",
      "C:\\Users\\Paul\\anaconda3\\lib\\site-packages\\statsmodels\\tsa\\base\\tsa_model.py:524: ValueWarning: No frequency information was provided, so inferred frequency MS will be used.\n",
      "  warnings.warn('No frequency information was'\n"
     ]
    },
    {
     "name": "stdout",
     "output_type": "stream",
     "text": [
      "            prediction  actual   error       mse    rmse\n",
      "2020-01-01  572.760692     702 -129.24  16702.98  129.24\n",
      "2020-02-01  739.107448     790  -50.89   2589.79   50.89\n",
      "2020-03-01  753.015689     600  153.02  23415.12  153.02\n",
      "2020-04-01  448.153229     386   62.15   3862.62   62.15\n",
      "2020-05-01  259.448979     299  -39.55   1564.20   39.55\n",
      "2020-06-01  256.716334     220   36.72   1348.36   36.72\n",
      "2020-07-01  207.804301     191   16.80    282.24   16.80\n",
      "2020-08-01  191.011250     166   25.01    625.50   25.01\n",
      "2020-09-01  209.618447     239  -29.38    863.18   29.38\n",
      "2020-10-01  302.902821     437 -134.10  17982.81  134.10\n",
      "2020-11-01  604.603580     554   50.60   2560.36   50.60\n",
      "2020-12-01  627.010320     729 -101.99  10401.96  101.99\n",
      "2021-01-01  835.786684     662  173.79  30202.96  173.79\n",
      "2021-02-01  569.042370     515   54.04   2920.32   54.04\n"
     ]
    },
    {
     "name": "stderr",
     "output_type": "stream",
     "text": [
      "C:\\Users\\Paul\\anaconda3\\lib\\site-packages\\statsmodels\\tsa\\base\\tsa_model.py:524: ValueWarning: No frequency information was provided, so inferred frequency MS will be used.\n",
      "  warnings.warn('No frequency information was'\n",
      "C:\\Users\\Paul\\anaconda3\\lib\\site-packages\\statsmodels\\tsa\\base\\tsa_model.py:524: ValueWarning: No frequency information was provided, so inferred frequency MS will be used.\n",
      "  warnings.warn('No frequency information was'\n"
     ]
    },
    {
     "name": "stdout",
     "output_type": "stream",
     "text": [
      "            prediction  actual   error       mse    rmse\n",
      "2020-01-01  919.810585     819  100.81  10162.66  100.81\n",
      "2020-02-01  740.458944     737    3.46     11.97    3.46\n",
      "2020-03-01  628.197938     657  -28.80    829.44   28.80\n",
      "2020-04-01  526.541762     532   -5.46     29.81    5.46\n",
      "2020-05-01  410.661361     374   36.66   1343.96   36.66\n",
      "2020-06-01  261.622268     241   20.62    425.18   20.62\n",
      "2020-07-01  226.396559     236   -9.60     92.16    9.60\n",
      "2020-08-01  228.971448     227    1.97      3.88    1.97\n",
      "2020-09-01  270.650141     300  -29.35    861.42   29.35\n",
      "2020-10-01  356.351311     508 -151.65  22997.72  151.65\n",
      "2020-11-01  768.617044     651  117.62  13834.46  117.62\n",
      "2020-12-01  809.151444     862  -52.85   2793.12   52.85\n",
      "2021-01-01  905.502182     866   39.50   1560.25   39.50\n",
      "2021-02-01  803.654092     787   16.65    277.22   16.65\n"
     ]
    },
    {
     "name": "stderr",
     "output_type": "stream",
     "text": [
      "C:\\Users\\Paul\\anaconda3\\lib\\site-packages\\statsmodels\\tsa\\base\\tsa_model.py:524: ValueWarning: No frequency information was provided, so inferred frequency MS will be used.\n",
      "  warnings.warn('No frequency information was'\n",
      "C:\\Users\\Paul\\anaconda3\\lib\\site-packages\\statsmodels\\tsa\\base\\tsa_model.py:524: ValueWarning: No frequency information was provided, so inferred frequency MS will be used.\n",
      "  warnings.warn('No frequency information was'\n"
     ]
    },
    {
     "name": "stdout",
     "output_type": "stream",
     "text": [
      "            prediction  actual   error       mse    rmse\n",
      "2020-01-01  484.216611     464   20.22    408.85   20.22\n",
      "2020-02-01  414.950278     422   -7.05     49.70    7.05\n",
      "2020-03-01  442.280915     495  -52.72   2779.40   52.72\n",
      "2020-04-01  508.025563     513   -4.97     24.70    4.97\n",
      "2020-05-01  448.718364     362   86.72   7520.36   86.72\n",
      "2020-06-01  267.185141     233   34.19   1168.96   34.19\n",
      "2020-07-01  213.587111     184   29.59    875.57   29.59\n",
      "2020-08-01  156.645865     142   14.65    214.62   14.65\n",
      "2020-09-01  174.991865     195  -20.01    400.40   20.01\n",
      "2020-10-01  235.923561     336 -100.08  10016.01  100.08\n",
      "2020-11-01  481.904415     371  110.90  12298.81  110.90\n",
      "2020-12-01  374.707437     437  -62.29   3880.04   62.29\n",
      "2021-01-01  483.193965     494  -10.81    116.86   10.81\n",
      "2021-02-01  449.531147     517  -67.47   4552.20   67.47\n"
     ]
    },
    {
     "name": "stderr",
     "output_type": "stream",
     "text": [
      "C:\\Users\\Paul\\anaconda3\\lib\\site-packages\\statsmodels\\tsa\\base\\tsa_model.py:524: ValueWarning: No frequency information was provided, so inferred frequency MS will be used.\n",
      "  warnings.warn('No frequency information was'\n",
      "C:\\Users\\Paul\\anaconda3\\lib\\site-packages\\statsmodels\\tsa\\base\\tsa_model.py:524: ValueWarning: No frequency information was provided, so inferred frequency MS will be used.\n",
      "  warnings.warn('No frequency information was'\n"
     ]
    },
    {
     "name": "stdout",
     "output_type": "stream",
     "text": [
      "            prediction  actual  error      mse   rmse\n",
      "2020-01-01  188.004943     287 -99.00  9801.00  99.00\n",
      "2020-02-01  297.224547     337 -39.78  1582.45  39.78\n",
      "2020-03-01  282.342896     225  57.34  3287.88  57.34\n",
      "2020-04-01  131.633395     110  21.63   467.86  21.63\n",
      "2020-05-01   61.962773     103 -41.04  1684.28  41.04\n",
      "2020-06-01   87.517860      91  -3.48    12.11   3.48\n",
      "2020-07-01   87.511946      80   7.51    56.40   7.51\n",
      "2020-08-01   77.274531      70   7.27    52.85   7.27\n",
      "2020-09-01   86.448706      96  -9.55    91.20   9.55\n",
      "2020-10-01  120.796143     170 -49.20  2420.64  49.20\n",
      "2020-11-01  285.057769     273  12.06   145.44  12.06\n",
      "2020-12-01  346.512636     409 -62.49  3905.00  62.49\n",
      "2021-01-01  447.243580     395  52.24  2729.02  52.24\n",
      "2021-02-01  333.463445     337  -3.54    12.53   3.54\n"
     ]
    },
    {
     "name": "stderr",
     "output_type": "stream",
     "text": [
      "C:\\Users\\Paul\\anaconda3\\lib\\site-packages\\statsmodels\\tsa\\base\\tsa_model.py:524: ValueWarning: No frequency information was provided, so inferred frequency MS will be used.\n",
      "  warnings.warn('No frequency information was'\n",
      "C:\\Users\\Paul\\anaconda3\\lib\\site-packages\\statsmodels\\tsa\\base\\tsa_model.py:524: ValueWarning: No frequency information was provided, so inferred frequency MS will be used.\n",
      "  warnings.warn('No frequency information was'\n"
     ]
    },
    {
     "name": "stdout",
     "output_type": "stream",
     "text": [
      "             prediction  actual   error       mse    rmse\n",
      "2020-01-01  1034.106449     939   95.11   9045.91   95.11\n",
      "2020-02-01   776.239336     842  -65.76   4324.38   65.76\n",
      "2020-03-01   632.671181     686  -53.33   2844.09   53.33\n",
      "2020-04-01   461.525827     493  -31.47    990.36   31.47\n",
      "2020-05-01   331.914787     453 -121.09  14662.79  121.09\n",
      "2020-06-01   403.106893     398    5.11     26.11    5.11\n",
      "2020-07-01   390.068655     346   44.07   1942.16   44.07\n",
      "2020-08-01   298.772411     298    0.77      0.59    0.77\n",
      "2020-09-01   395.217831     288  107.22  11496.13  107.22\n",
      "2020-10-01   313.263735     297   16.26    264.39   16.26\n",
      "2020-11-01   605.998104     618  -12.00    144.00   12.00\n",
      "2020-12-01   931.249706    1027  -95.75   9168.06   95.75\n",
      "2021-01-01  1124.785001    1049   75.79   5744.12   75.79\n",
      "2021-02-01   909.763318     977  -67.24   4521.22   67.24\n"
     ]
    },
    {
     "name": "stderr",
     "output_type": "stream",
     "text": [
      "C:\\Users\\Paul\\anaconda3\\lib\\site-packages\\statsmodels\\tsa\\base\\tsa_model.py:524: ValueWarning: No frequency information was provided, so inferred frequency MS will be used.\n",
      "  warnings.warn('No frequency information was'\n",
      "C:\\Users\\Paul\\anaconda3\\lib\\site-packages\\statsmodels\\tsa\\base\\tsa_model.py:524: ValueWarning: No frequency information was provided, so inferred frequency MS will be used.\n",
      "  warnings.warn('No frequency information was'\n"
     ]
    },
    {
     "name": "stdout",
     "output_type": "stream",
     "text": [
      "            prediction  actual  error      mse   rmse\n",
      "2020-01-01  252.533864     183  69.53  4834.42  69.53\n",
      "2020-02-01  143.524083     138   5.52    30.47   5.52\n",
      "2020-03-01  152.628080     153  -0.37     0.14   0.37\n",
      "2020-04-01  139.801788     153 -13.20   174.24  13.20\n",
      "2020-05-01  135.118345     154 -18.88   356.45  18.88\n",
      "2020-06-01  143.146123     147  -3.85    14.82   3.85\n",
      "2020-07-01  139.712396     134   5.71    32.60   5.71\n",
      "2020-08-01  121.999774     123  -1.00     1.00   1.00\n",
      "2020-09-01  153.126860     121  32.13  1032.34  32.13\n",
      "2020-10-01  139.190596     127  12.19   148.60  12.19\n",
      "2020-11-01  125.735318     103  22.74   517.11  22.74\n",
      "2020-12-01   93.812740      85   8.81    77.62   8.81\n",
      "2021-01-01   78.918650     159 -80.08  6412.81  80.08\n",
      "2021-02-01  173.250122     235 -61.75  3813.06  61.75\n"
     ]
    },
    {
     "name": "stderr",
     "output_type": "stream",
     "text": [
      "C:\\Users\\Paul\\anaconda3\\lib\\site-packages\\statsmodels\\tsa\\base\\tsa_model.py:524: ValueWarning: No frequency information was provided, so inferred frequency MS will be used.\n",
      "  warnings.warn('No frequency information was'\n",
      "C:\\Users\\Paul\\anaconda3\\lib\\site-packages\\statsmodels\\tsa\\base\\tsa_model.py:524: ValueWarning: No frequency information was provided, so inferred frequency MS will be used.\n",
      "  warnings.warn('No frequency information was'\n"
     ]
    },
    {
     "name": "stdout",
     "output_type": "stream",
     "text": [
      "            prediction  actual   error       mse    rmse\n",
      "2020-01-01  620.198350     540   80.20   6432.04   80.20\n",
      "2020-02-01  486.248445     524  -37.75   1425.06   37.75\n",
      "2020-03-01  617.629024     388  229.63  52729.94  229.63\n",
      "2020-04-01  287.284818     237   50.28   2528.08   50.28\n",
      "2020-05-01  132.273686     189  -56.73   3218.29   56.73\n",
      "2020-06-01  150.624595     144    6.62     43.82    6.62\n",
      "2020-07-01  136.302905     128    8.30     68.89    8.30\n",
      "2020-08-01  116.306210     113    3.31     10.96    3.31\n",
      "2020-09-01  187.179578     166   21.18    448.59   21.18\n",
      "2020-10-01  224.878263     305  -80.12   6419.21   80.12\n",
      "2020-11-01  459.226764     421   38.23   1461.53   38.23\n",
      "2020-12-01  545.707362     585  -39.29   1543.70   39.29\n",
      "2021-01-01  625.912618     565   60.91   3710.03   60.91\n",
      "2021-02-01  527.469296     486   41.47   1719.76   41.47\n"
     ]
    },
    {
     "name": "stderr",
     "output_type": "stream",
     "text": [
      "C:\\Users\\Paul\\anaconda3\\lib\\site-packages\\statsmodels\\tsa\\base\\tsa_model.py:524: ValueWarning: No frequency information was provided, so inferred frequency MS will be used.\n",
      "  warnings.warn('No frequency information was'\n",
      "C:\\Users\\Paul\\anaconda3\\lib\\site-packages\\statsmodels\\tsa\\base\\tsa_model.py:524: ValueWarning: No frequency information was provided, so inferred frequency MS will be used.\n",
      "  warnings.warn('No frequency information was'\n"
     ]
    },
    {
     "name": "stdout",
     "output_type": "stream",
     "text": [
      "             prediction  actual   error       mse    rmse\n",
      "2020-01-01   705.724084     789  -83.28   6935.56   83.28\n",
      "2020-02-01   767.380828     830  -62.62   3921.26   62.62\n",
      "2020-03-01   766.124088     595  171.12  29282.05  171.12\n",
      "2020-04-01   425.179204     344   81.18   6590.19   81.18\n",
      "2020-05-01   194.087253     248  -53.91   2906.29   53.91\n",
      "2020-06-01   173.188834     164    9.19     84.46    9.19\n",
      "2020-07-01   143.865987     140    3.87     14.98    3.87\n",
      "2020-08-01   130.376406     119   11.38    129.50   11.38\n",
      "2020-09-01   198.472915     204   -5.53     30.58    5.53\n",
      "2020-10-01   274.341314     422 -147.66  21803.48  147.66\n",
      "2020-11-01   643.406958     644   -0.59      0.35    0.59\n",
      "2020-12-01   789.423910     944 -154.58  23894.98  154.58\n",
      "2021-01-01  1046.386020     918  128.39  16483.99  128.39\n",
      "2021-02-01   843.978661     798   45.98   2114.16   45.98\n"
     ]
    },
    {
     "name": "stderr",
     "output_type": "stream",
     "text": [
      "C:\\Users\\Paul\\anaconda3\\lib\\site-packages\\statsmodels\\tsa\\base\\tsa_model.py:524: ValueWarning: No frequency information was provided, so inferred frequency MS will be used.\n",
      "  warnings.warn('No frequency information was'\n",
      "C:\\Users\\Paul\\anaconda3\\lib\\site-packages\\statsmodels\\tsa\\base\\tsa_model.py:524: ValueWarning: No frequency information was provided, so inferred frequency MS will be used.\n",
      "  warnings.warn('No frequency information was'\n"
     ]
    },
    {
     "name": "stdout",
     "output_type": "stream",
     "text": [
      "            prediction  actual  error      mse   rmse\n",
      "2020-01-01  262.490179     229  33.49  1121.58  33.49\n",
      "2020-02-01  204.314552     199   5.31    28.20   5.31\n",
      "2020-03-01  190.874986     230 -39.13  1531.16  39.13\n",
      "2020-04-01  217.677903     237 -19.32   373.26  19.32\n",
      "2020-05-01  214.677688     229 -14.32   205.06  14.32\n",
      "2020-06-01  210.642514     211  -0.36     0.13   0.36\n",
      "2020-07-01  217.649976     216   1.65     2.72   1.65\n",
      "2020-08-01  210.790280     215  -4.21    17.72   4.21\n",
      "2020-09-01  218.113929     223  -4.89    23.91   4.89\n",
      "2020-10-01  235.820299     266 -30.18   910.83  30.18\n",
      "2020-11-01  317.025083     245  72.03  5188.32  72.03\n",
      "2020-12-01  240.992048     240   0.99     0.98   0.99\n",
      "2021-01-01  266.301889     302 -35.70  1274.49  35.70\n",
      "2021-02-01  303.596487     350 -46.40  2152.96  46.40\n"
     ]
    },
    {
     "name": "stderr",
     "output_type": "stream",
     "text": [
      "C:\\Users\\Paul\\anaconda3\\lib\\site-packages\\statsmodels\\tsa\\base\\tsa_model.py:524: ValueWarning: No frequency information was provided, so inferred frequency MS will be used.\n",
      "  warnings.warn('No frequency information was'\n",
      "C:\\Users\\Paul\\anaconda3\\lib\\site-packages\\statsmodels\\tsa\\base\\tsa_model.py:524: ValueWarning: No frequency information was provided, so inferred frequency MS will be used.\n",
      "  warnings.warn('No frequency information was'\n"
     ]
    },
    {
     "name": "stdout",
     "output_type": "stream",
     "text": [
      "            prediction  actual   error       mse    rmse\n",
      "2020-01-01  506.579760     433   73.58   5414.02   73.58\n",
      "2020-02-01  374.342940     387  -12.66    160.28   12.66\n",
      "2020-03-01  339.778670     242   97.78   9560.93   97.78\n",
      "2020-04-01  109.789341      97   12.79    163.58   12.79\n",
      "2020-05-01    5.881685     113 -107.12  11474.69  107.12\n",
      "2020-06-01  104.057609     119  -14.94    223.20   14.94\n",
      "2020-07-01   76.771090     120  -43.23   1868.83   43.23\n",
      "2020-08-01  110.253366     116   -5.75     33.06    5.75\n",
      "2020-09-01  222.373360     154   68.37   4674.46   68.37\n",
      "2020-10-01  200.926312     258  -57.07   3256.98   57.07\n",
      "2020-11-01  380.854066     284   96.85   9379.92   96.85\n",
      "2020-12-01  320.563910     335  -14.44    208.51   14.44\n",
      "2021-01-01  378.510103     357   21.51    462.68   21.51\n",
      "2021-02-01  317.696270     350  -32.30   1043.29   32.30\n"
     ]
    },
    {
     "name": "stderr",
     "output_type": "stream",
     "text": [
      "C:\\Users\\Paul\\anaconda3\\lib\\site-packages\\statsmodels\\tsa\\base\\tsa_model.py:524: ValueWarning: No frequency information was provided, so inferred frequency MS will be used.\n",
      "  warnings.warn('No frequency information was'\n",
      "C:\\Users\\Paul\\anaconda3\\lib\\site-packages\\statsmodels\\tsa\\base\\tsa_model.py:524: ValueWarning: No frequency information was provided, so inferred frequency MS will be used.\n",
      "  warnings.warn('No frequency information was'\n"
     ]
    },
    {
     "name": "stdout",
     "output_type": "stream",
     "text": [
      "             prediction  actual   error       mse    rmse\n",
      "2020-01-01   713.493840     762  -48.51   2353.22   48.51\n",
      "2020-02-01   711.427012     766  -54.57   2977.88   54.57\n",
      "2020-03-01   614.744360     622   -7.26     52.71    7.26\n",
      "2020-04-01   456.382975     444   12.38    153.26   12.38\n",
      "2020-05-01   329.969142     400  -70.03   4904.20   70.03\n",
      "2020-06-01   313.272928     346  -32.73   1071.25   32.73\n",
      "2020-07-01   317.944520     373  -55.06   3031.60   55.06\n",
      "2020-08-01   319.998881     384  -64.00   4096.00   64.00\n",
      "2020-09-01   554.695769     453  101.70  10342.89  101.70\n",
      "2020-10-01   496.000774     664 -168.00  28224.00  168.00\n",
      "2020-11-01   814.400101     932 -117.60  13829.76  117.60\n",
      "2020-12-01  1079.833959    1308 -228.17  52061.55  228.17\n",
      "2021-01-01  1329.649142    1233   96.65   9341.22   96.65\n",
      "2021-02-01  1193.341623    1022  171.34  29357.40  171.34\n"
     ]
    },
    {
     "name": "stderr",
     "output_type": "stream",
     "text": [
      "C:\\Users\\Paul\\anaconda3\\lib\\site-packages\\statsmodels\\tsa\\base\\tsa_model.py:524: ValueWarning: No frequency information was provided, so inferred frequency MS will be used.\n",
      "  warnings.warn('No frequency information was'\n",
      "C:\\Users\\Paul\\anaconda3\\lib\\site-packages\\statsmodels\\tsa\\base\\tsa_model.py:524: ValueWarning: No frequency information was provided, so inferred frequency MS will be used.\n",
      "  warnings.warn('No frequency information was'\n"
     ]
    },
    {
     "name": "stdout",
     "output_type": "stream",
     "text": [
      "            prediction  actual   error       mse    rmse\n",
      "2020-01-01  538.839701     389  149.84  22452.03  149.84\n",
      "2020-02-01  335.798245     310   25.80    665.64   25.80\n",
      "2020-03-01  290.863250     276   14.86    220.82   14.86\n",
      "2020-04-01  207.216346     223  -15.78    249.01   15.78\n",
      "2020-05-01  146.225835     200  -53.77   2891.21   53.77\n",
      "2020-06-01  149.012662     174  -24.99    624.50   24.99\n",
      "2020-07-01  186.153923     172   14.15    200.22   14.15\n",
      "2020-08-01  171.250266     168    3.25     10.56    3.25\n",
      "2020-09-01  185.114621     183    2.11      4.45    2.11\n",
      "2020-10-01  201.964231     239  -37.04   1371.96   37.04\n",
      "2020-11-01  312.734608     243   69.73   4862.27   69.73\n",
      "2020-12-01  292.013542     266   26.01    676.52   26.01\n",
      "2021-01-01  315.707583     302   13.71    187.96   13.71\n",
      "2021-02-01  272.524384     320  -47.48   2254.35   47.48\n"
     ]
    },
    {
     "name": "stderr",
     "output_type": "stream",
     "text": [
      "C:\\Users\\Paul\\anaconda3\\lib\\site-packages\\statsmodels\\tsa\\base\\tsa_model.py:524: ValueWarning: No frequency information was provided, so inferred frequency MS will be used.\n",
      "  warnings.warn('No frequency information was'\n",
      "C:\\Users\\Paul\\anaconda3\\lib\\site-packages\\statsmodels\\tsa\\base\\tsa_model.py:524: ValueWarning: No frequency information was provided, so inferred frequency MS will be used.\n",
      "  warnings.warn('No frequency information was'\n"
     ]
    },
    {
     "name": "stdout",
     "output_type": "stream",
     "text": [
      "            prediction  actual   error       mse    rmse\n",
      "2020-01-01  736.328068     595  141.33  19974.17  141.33\n",
      "2020-02-01  510.793936     492   18.79    353.06   18.79\n",
      "2020-03-01  499.327614     397  102.33  10471.43  102.33\n",
      "2020-04-01  363.905359     280   83.91   7040.89   83.91\n",
      "2020-05-01  194.307683     200   -5.69     32.38    5.69\n",
      "2020-06-01  182.985168     133   49.99   2499.00   49.99\n",
      "2020-07-01  108.677361     124  -15.32    234.70   15.32\n",
      "2020-08-01  125.998013     114   12.00    144.00   12.00\n",
      "2020-09-01  160.892302     129   31.89   1016.97   31.89\n",
      "2020-10-01  163.649776     177  -13.35    178.22   13.35\n",
      "2020-11-01  306.982050     318  -11.02    121.44   11.02\n",
      "2020-12-01  454.266635     500  -45.73   2091.23   45.73\n",
      "2021-01-01  471.531551     402   69.53   4834.42   69.53\n",
      "2021-02-01  299.931786     566 -266.07  70793.24  266.07\n"
     ]
    },
    {
     "name": "stderr",
     "output_type": "stream",
     "text": [
      "C:\\Users\\Paul\\anaconda3\\lib\\site-packages\\statsmodels\\tsa\\base\\tsa_model.py:524: ValueWarning: No frequency information was provided, so inferred frequency MS will be used.\n",
      "  warnings.warn('No frequency information was'\n",
      "C:\\Users\\Paul\\anaconda3\\lib\\site-packages\\statsmodels\\tsa\\base\\tsa_model.py:524: ValueWarning: No frequency information was provided, so inferred frequency MS will be used.\n",
      "  warnings.warn('No frequency information was'\n"
     ]
    },
    {
     "name": "stdout",
     "output_type": "stream",
     "text": [
      "             prediction  actual   error        mse    rmse\n",
      "2020-01-01   271.463399     311  -39.54    1563.41   39.54\n",
      "2020-02-01   313.398612     332  -18.60     345.96   18.60\n",
      "2020-03-01   361.223655     398  -36.78    1352.77   36.78\n",
      "2020-04-01   407.764128     390   17.76     315.42   17.76\n",
      "2020-05-01   351.255155     403  -51.74    2677.03   51.74\n",
      "2020-06-01   388.174041     390   -1.83       3.35    1.83\n",
      "2020-07-01   386.021188     387   -0.98       0.96    0.98\n",
      "2020-08-01   380.511563     376    4.51      20.34    4.51\n",
      "2020-09-01   408.709075     547 -138.29   19124.12  138.29\n",
      "2020-10-01   643.705283    1008 -364.29  132707.20  364.29\n",
      "2020-11-01  1229.396595    1084  145.40   21141.16  145.40\n",
      "2020-12-01  1109.652528    1248 -138.35   19140.72  138.35\n",
      "2021-01-01  1348.973166    1146  202.97   41196.82  202.97\n",
      "2021-02-01  1075.425709     910  165.43   27367.08  165.43\n"
     ]
    },
    {
     "name": "stderr",
     "output_type": "stream",
     "text": [
      "C:\\Users\\Paul\\anaconda3\\lib\\site-packages\\statsmodels\\tsa\\base\\tsa_model.py:524: ValueWarning: No frequency information was provided, so inferred frequency MS will be used.\n",
      "  warnings.warn('No frequency information was'\n",
      "C:\\Users\\Paul\\anaconda3\\lib\\site-packages\\statsmodels\\tsa\\base\\tsa_model.py:524: ValueWarning: No frequency information was provided, so inferred frequency MS will be used.\n",
      "  warnings.warn('No frequency information was'\n"
     ]
    },
    {
     "name": "stdout",
     "output_type": "stream",
     "text": [
      "            prediction  actual   error       mse    rmse\n",
      "2020-01-01  529.114436     533   -3.89     15.13    3.89\n",
      "2020-02-01  494.416766     506  -11.58    134.10   11.58\n",
      "2020-03-01  479.248515     543  -63.75   4064.06   63.75\n",
      "2020-04-01  515.282125     526  -10.72    114.92   10.72\n",
      "2020-05-01  486.104387     466   20.10    404.01   20.10\n",
      "2020-06-01  417.350328     397   20.35    414.12   20.35\n",
      "2020-07-01  389.137013     366   23.14    535.46   23.14\n",
      "2020-08-01  354.443868     333   21.44    459.67   21.44\n",
      "2020-09-01  359.655942     375  -15.34    235.32   15.34\n",
      "2020-10-01  421.028094     512  -90.97   8275.54   90.97\n",
      "2020-11-01  633.582557     509  124.58  15520.18  124.58\n",
      "2020-12-01  532.116758     540   -7.88     62.09    7.88\n",
      "2021-01-01  554.992281     540   14.99    224.70   14.99\n",
      "2021-02-01  493.401371     486    7.40     54.76    7.40\n"
     ]
    },
    {
     "name": "stderr",
     "output_type": "stream",
     "text": [
      "C:\\Users\\Paul\\anaconda3\\lib\\site-packages\\statsmodels\\tsa\\base\\tsa_model.py:524: ValueWarning: No frequency information was provided, so inferred frequency MS will be used.\n",
      "  warnings.warn('No frequency information was'\n",
      "C:\\Users\\Paul\\anaconda3\\lib\\site-packages\\statsmodels\\tsa\\base\\tsa_model.py:524: ValueWarning: No frequency information was provided, so inferred frequency MS will be used.\n",
      "  warnings.warn('No frequency information was'\n"
     ]
    },
    {
     "name": "stdout",
     "output_type": "stream",
     "text": [
      "            prediction  actual  error      mse   rmse\n",
      "2020-01-01  442.450778     435   7.45    55.50   7.45\n",
      "2020-02-01  412.560669     429 -16.44   270.27  16.44\n",
      "2020-03-01  457.006713     378  79.01  6242.58  79.01\n",
      "2020-04-01  321.542886     303  18.54   343.73  18.54\n",
      "2020-05-01  259.815557     239  20.82   433.47  20.82\n",
      "2020-06-01  186.406912     179   7.41    54.91   7.41\n",
      "2020-07-01  158.368300     167  -8.63    74.48   8.63\n",
      "2020-08-01  154.147958     154   0.15     0.02   0.14\n",
      "2020-09-01  162.749353     161   1.75     3.06   1.75\n",
      "2020-10-01  177.131224     195 -17.87   319.34  17.87\n",
      "2020-11-01  260.862392     183  77.86  6062.18  77.86\n",
      "2020-12-01  203.229669     183  20.23   409.25  20.23\n",
      "2021-01-01  188.905467     200 -11.09   122.99  11.09\n",
      "2021-02-01  187.715729     204 -16.28   265.04  16.28\n"
     ]
    },
    {
     "name": "stderr",
     "output_type": "stream",
     "text": [
      "C:\\Users\\Paul\\anaconda3\\lib\\site-packages\\statsmodels\\tsa\\base\\tsa_model.py:524: ValueWarning: No frequency information was provided, so inferred frequency MS will be used.\n",
      "  warnings.warn('No frequency information was'\n",
      "C:\\Users\\Paul\\anaconda3\\lib\\site-packages\\statsmodels\\tsa\\base\\tsa_model.py:524: ValueWarning: No frequency information was provided, so inferred frequency MS will be used.\n",
      "  warnings.warn('No frequency information was'\n"
     ]
    },
    {
     "name": "stdout",
     "output_type": "stream",
     "text": [
      "            prediction  actual   error       mse    rmse\n",
      "2020-01-01  277.183732     270    7.18     51.55    7.18\n",
      "2020-02-01  260.485708     236   24.49    599.76   24.49\n",
      "2020-03-01  308.578851     242   66.58   4432.90   66.58\n",
      "2020-04-01  224.354484     226   -1.65      2.72    1.65\n",
      "2020-05-01  216.189810     125   91.19   8315.62   91.19\n",
      "2020-06-01  150.228357      45  105.23  11073.35  105.23\n",
      "2020-07-01   36.856842      30    6.86     47.06    6.86\n",
      "2020-08-01   39.088107      18   21.09    444.79   21.09\n",
      "2020-09-01  105.572393      13   92.57   8569.20   92.57\n",
      "2020-10-01   81.981309      52   29.98    898.80   29.98\n",
      "2020-11-01  122.180355     138  -15.82    250.27   15.82\n",
      "2020-12-01  218.868124     154   64.87   4208.12   64.87\n",
      "2021-01-01  168.092181     210  -41.91   1756.45   41.91\n",
      "2021-02-01  201.875084     261  -59.12   3495.17   59.12\n"
     ]
    },
    {
     "name": "stderr",
     "output_type": "stream",
     "text": [
      "C:\\Users\\Paul\\anaconda3\\lib\\site-packages\\statsmodels\\tsa\\base\\tsa_model.py:524: ValueWarning: No frequency information was provided, so inferred frequency MS will be used.\n",
      "  warnings.warn('No frequency information was'\n",
      "C:\\Users\\Paul\\anaconda3\\lib\\site-packages\\statsmodels\\tsa\\base\\tsa_model.py:524: ValueWarning: No frequency information was provided, so inferred frequency MS will be used.\n",
      "  warnings.warn('No frequency information was'\n"
     ]
    },
    {
     "name": "stdout",
     "output_type": "stream",
     "text": [
      "            prediction  actual   error       mse    rmse\n",
      "2020-01-01  728.135947     730   -1.86      3.46    1.86\n",
      "2020-02-01  690.900540     703  -12.10    146.41   12.10\n",
      "2020-03-01  631.173427     569   62.17   3865.11   62.17\n",
      "2020-04-01  448.801673     405   43.80   1918.44   43.80\n",
      "2020-05-01  347.291982     383  -35.71   1275.20   35.71\n",
      "2020-06-01  342.853328     345   -2.15      4.62    2.15\n",
      "2020-07-01  338.354193     323   15.35    235.62   15.35\n",
      "2020-08-01  319.445987     241   78.45   6154.40   78.45\n",
      "2020-09-01  251.789520     360 -108.21  11709.40  108.21\n",
      "2020-10-01  447.030267     679 -231.97  53810.08  231.97\n",
      "2020-11-01  851.074967     742  109.07  11896.26  109.07\n",
      "2020-12-01  824.986316     865  -40.01   1600.80   40.01\n",
      "2021-01-01  942.148444     873   69.15   4781.72   69.15\n",
      "2021-02-01  783.589734     798  -14.41    207.65   14.41\n"
     ]
    },
    {
     "name": "stderr",
     "output_type": "stream",
     "text": [
      "C:\\Users\\Paul\\anaconda3\\lib\\site-packages\\statsmodels\\tsa\\base\\tsa_model.py:524: ValueWarning: No frequency information was provided, so inferred frequency MS will be used.\n",
      "  warnings.warn('No frequency information was'\n",
      "C:\\Users\\Paul\\anaconda3\\lib\\site-packages\\statsmodels\\tsa\\base\\tsa_model.py:524: ValueWarning: No frequency information was provided, so inferred frequency MS will be used.\n",
      "  warnings.warn('No frequency information was'\n"
     ]
    },
    {
     "name": "stdout",
     "output_type": "stream",
     "text": [
      "             prediction  actual   error       mse    rmse\n",
      "2020-01-01   987.490762    1099 -111.51  12434.48  111.51\n",
      "2020-02-01  1092.300454    1149  -56.70   3214.89   56.70\n",
      "2020-03-01  1042.927765     961   81.93   6712.52   81.93\n",
      "2020-04-01   782.164001     717   65.16   4245.83   65.16\n",
      "2020-05-01   548.890608     525   23.89    570.73   23.89\n",
      "2020-06-01   415.773449     358   57.77   3337.37   57.77\n",
      "2020-07-01   374.536237     327   47.54   2260.05   47.54\n",
      "2020-08-01   329.428595     297   32.43   1051.70   32.43\n",
      "2020-09-01   348.501229     357   -8.50     72.25    8.50\n",
      "2020-10-01   425.098590     536 -110.90  12298.81  110.90\n",
      "2020-11-01   803.076781     645  158.08  24989.29  158.08\n",
      "2020-12-01   778.250764     817  -38.75   1501.56   38.75\n",
      "2021-01-01   886.865225     761  125.87  15843.26  125.87\n",
      "2021-02-01   669.320303     618   51.32   2633.74   51.32\n"
     ]
    },
    {
     "name": "stderr",
     "output_type": "stream",
     "text": [
      "C:\\Users\\Paul\\anaconda3\\lib\\site-packages\\statsmodels\\tsa\\base\\tsa_model.py:524: ValueWarning: No frequency information was provided, so inferred frequency MS will be used.\n",
      "  warnings.warn('No frequency information was'\n",
      "C:\\Users\\Paul\\anaconda3\\lib\\site-packages\\statsmodels\\tsa\\base\\tsa_model.py:524: ValueWarning: No frequency information was provided, so inferred frequency MS will be used.\n",
      "  warnings.warn('No frequency information was'\n"
     ]
    },
    {
     "name": "stdout",
     "output_type": "stream",
     "text": [
      "            prediction  actual   error       mse    rmse\n",
      "2020-01-01  495.816423     383  112.82  12728.35  112.82\n",
      "2020-02-01  302.045213     318  -15.95    254.40   15.95\n",
      "2020-03-01  301.324617     321  -19.68    387.30   19.68\n",
      "2020-04-01  296.539944     297   -0.46      0.21    0.46\n",
      "2020-05-01  308.560246     291   17.56    308.35   17.56\n",
      "2020-06-01  277.870124     271    6.87     47.20    6.87\n",
      "2020-07-01  263.666552     278  -14.33    205.35   14.33\n",
      "2020-08-01  283.515895     278    5.52     30.47    5.52\n",
      "2020-09-01  269.595005     276   -6.40     40.96    6.40\n",
      "2020-10-01  285.308499     305  -19.69    387.70   19.69\n",
      "2020-11-01  363.954960     340   23.95    573.60   23.95\n",
      "2020-12-01  363.397783     405  -41.60   1730.56   41.60\n",
      "2021-01-01  464.050314     520  -55.95   3130.40   55.95\n",
      "2021-02-01  555.671872     613  -57.33   3286.73   57.33\n"
     ]
    },
    {
     "name": "stderr",
     "output_type": "stream",
     "text": [
      "C:\\Users\\Paul\\anaconda3\\lib\\site-packages\\statsmodels\\tsa\\base\\tsa_model.py:524: ValueWarning: No frequency information was provided, so inferred frequency MS will be used.\n",
      "  warnings.warn('No frequency information was'\n",
      "C:\\Users\\Paul\\anaconda3\\lib\\site-packages\\statsmodels\\tsa\\base\\tsa_model.py:524: ValueWarning: No frequency information was provided, so inferred frequency MS will be used.\n",
      "  warnings.warn('No frequency information was'\n"
     ]
    },
    {
     "name": "stdout",
     "output_type": "stream",
     "text": [
      "            prediction  actual  error      mse   rmse\n",
      "2020-01-01  461.294091     390  71.29  5082.26  71.29\n",
      "2020-02-01  328.907227     347 -18.09   327.25  18.09\n",
      "2020-03-01  377.103659     389 -11.90   141.61  11.90\n",
      "2020-04-01  359.373352     390 -30.63   938.20  30.63\n",
      "2020-05-01  336.754809     368 -31.25   976.56  31.25\n",
      "2020-06-01  326.022542     333  -6.98    48.72   6.98\n",
      "2020-07-01  318.336811     320  -1.66     2.76   1.66\n",
      "2020-08-01  303.681423     303   0.68     0.46   0.68\n",
      "2020-09-01  337.977444     322  15.98   255.36  15.98\n",
      "2020-10-01  350.367592     401 -50.63  2563.40  50.63\n",
      "2020-11-01  485.640020     469  16.64   276.89  16.64\n",
      "2020-12-01  507.178112     580 -72.82  5302.75  72.82\n",
      "2021-01-01  637.201278     577  60.20  3624.04  60.20\n",
      "2021-02-01  504.171711     516 -11.83   139.95  11.83\n"
     ]
    },
    {
     "name": "stderr",
     "output_type": "stream",
     "text": [
      "C:\\Users\\Paul\\anaconda3\\lib\\site-packages\\statsmodels\\tsa\\base\\tsa_model.py:524: ValueWarning: No frequency information was provided, so inferred frequency MS will be used.\n",
      "  warnings.warn('No frequency information was'\n",
      "C:\\Users\\Paul\\anaconda3\\lib\\site-packages\\statsmodels\\tsa\\base\\tsa_model.py:524: ValueWarning: No frequency information was provided, so inferred frequency MS will be used.\n",
      "  warnings.warn('No frequency information was'\n"
     ]
    },
    {
     "name": "stdout",
     "output_type": "stream",
     "text": [
      "            prediction  actual  error      mse   rmse\n",
      "2020-01-01  225.741258     218   7.74    59.91   7.74\n",
      "2020-02-01  193.131583     208 -14.87   221.12  14.87\n",
      "2020-03-01  209.465219     221 -11.53   132.94  11.53\n",
      "2020-04-01  196.053361     213 -16.95   287.30  16.95\n",
      "2020-05-01  197.913336     198  -0.09     0.01   0.10\n",
      "2020-06-01  171.314771     174  -2.69     7.24   2.69\n",
      "2020-07-01  166.286055     161   5.29    27.98   5.29\n",
      "2020-08-01  147.288951     147   0.29     0.08   0.28\n",
      "2020-09-01  151.897790     152  -0.10     0.01   0.10\n",
      "2020-10-01  163.299116     182 -18.70   349.69  18.70\n",
      "2020-11-01  233.659316     192  41.66  1735.56  41.66\n",
      "2020-12-01  208.806965     216  -7.19    51.70   7.19\n",
      "2021-01-01  233.208411     215  18.21   331.60  18.21\n",
      "2021-02-01  186.225289     193  -6.77    45.83   6.77\n"
     ]
    },
    {
     "name": "stderr",
     "output_type": "stream",
     "text": [
      "C:\\Users\\Paul\\anaconda3\\lib\\site-packages\\statsmodels\\tsa\\base\\tsa_model.py:524: ValueWarning: No frequency information was provided, so inferred frequency MS will be used.\n",
      "  warnings.warn('No frequency information was'\n",
      "C:\\Users\\Paul\\anaconda3\\lib\\site-packages\\statsmodels\\tsa\\base\\tsa_model.py:524: ValueWarning: No frequency information was provided, so inferred frequency MS will be used.\n",
      "  warnings.warn('No frequency information was'\n"
     ]
    },
    {
     "name": "stdout",
     "output_type": "stream",
     "text": [
      "            prediction  actual  error      mse   rmse\n",
      "2020-01-01  317.556610     363 -45.44  2064.79  45.44\n",
      "2020-02-01  354.787955     368 -13.21   174.50  13.21\n",
      "2020-03-01  345.604060     311  34.60  1197.16  34.60\n",
      "2020-04-01  222.357239     237 -14.64   214.33  14.64\n",
      "2020-05-01  209.508877     220 -10.49   110.04  10.49\n",
      "2020-06-01  189.916758     195  -5.08    25.81   5.08\n",
      "2020-07-01  193.120879     180  13.12   172.13  13.12\n",
      "2020-08-01  161.395479     165  -3.60    12.96   3.60\n",
      "2020-09-01  181.316825     174   7.32    53.58   7.32\n",
      "2020-10-01  196.625432     214 -17.37   301.72  17.37\n",
      "2020-11-01  292.182915     319 -26.82   719.31  26.82\n",
      "2020-12-01  415.318499     462 -46.68  2179.02  46.68\n",
      "2021-01-01  510.739927     435  75.74  5736.55  75.74\n",
      "2021-02-01  355.339143     359  -3.66    13.40   3.66\n"
     ]
    },
    {
     "name": "stderr",
     "output_type": "stream",
     "text": [
      "C:\\Users\\Paul\\anaconda3\\lib\\site-packages\\statsmodels\\tsa\\base\\tsa_model.py:524: ValueWarning: No frequency information was provided, so inferred frequency MS will be used.\n",
      "  warnings.warn('No frequency information was'\n",
      "C:\\Users\\Paul\\anaconda3\\lib\\site-packages\\statsmodels\\tsa\\base\\tsa_model.py:524: ValueWarning: No frequency information was provided, so inferred frequency MS will be used.\n",
      "  warnings.warn('No frequency information was'\n"
     ]
    },
    {
     "name": "stdout",
     "output_type": "stream",
     "text": [
      "            prediction  actual  error      mse   rmse\n",
      "2020-01-01  181.112416     201 -19.89   395.61  19.89\n",
      "2020-02-01  176.495244     189 -12.50   156.25  12.50\n",
      "2020-03-01  196.565283     228 -31.43   987.84  31.43\n",
      "2020-04-01  214.511003     242 -27.49   755.70  27.49\n",
      "2020-05-01  229.717311     236  -6.28    39.44   6.28\n",
      "2020-06-01  209.221464     218  -8.78    77.09   8.78\n",
      "2020-07-01  221.419418     203  18.42   339.30  18.42\n",
      "2020-08-01  170.929447     188 -17.07   291.38  17.07\n",
      "2020-09-01  197.667132     197   0.67     0.45   0.67\n",
      "2020-10-01  224.871965     237 -12.13   147.14  12.13\n",
      "2020-11-01  305.152545     248  57.15  3266.12  57.15\n",
      "2020-12-01  268.346528     278  -9.65    93.12   9.65\n",
      "2021-01-01  276.931532     312 -35.07  1229.90  35.07\n",
      "2021-02-01  303.695834     324 -20.30   412.09  20.30\n"
     ]
    },
    {
     "name": "stderr",
     "output_type": "stream",
     "text": [
      "C:\\Users\\Paul\\anaconda3\\lib\\site-packages\\statsmodels\\tsa\\base\\tsa_model.py:524: ValueWarning: No frequency information was provided, so inferred frequency MS will be used.\n",
      "  warnings.warn('No frequency information was'\n",
      "C:\\Users\\Paul\\anaconda3\\lib\\site-packages\\statsmodels\\tsa\\base\\tsa_model.py:524: ValueWarning: No frequency information was provided, so inferred frequency MS will be used.\n",
      "  warnings.warn('No frequency information was'\n"
     ]
    },
    {
     "name": "stdout",
     "output_type": "stream",
     "text": [
      "            prediction  actual   error       mse    rmse\n",
      "2020-01-01   18.173067       0   18.17    330.15   18.17\n",
      "2020-02-01  -34.392958       0  -34.39   1182.67   34.39\n",
      "2020-03-01    1.589826       0    1.59      2.53    1.59\n",
      "2020-04-01  -47.462455       0  -47.46   2252.45   47.46\n",
      "2020-05-01   -2.713333       0   -2.71      7.34    2.71\n",
      "2020-06-01  -24.896603       0  -24.90    620.01   24.90\n",
      "2020-07-01   -6.066808      10  -16.07    258.24   16.07\n",
      "2020-08-01   -1.405711      16  -17.41    303.11   17.41\n",
      "2020-09-01   20.501618      19    1.50      2.25    1.50\n",
      "2020-10-01   14.175923      28  -13.82    190.99   13.82\n",
      "2020-11-01   80.856612     206 -125.14  15660.02  125.14\n",
      "2020-12-01  336.506975     425  -88.49   7830.48   88.49\n",
      "2021-01-01  488.432417     520  -31.57    996.66   31.57\n",
      "2021-02-01  529.783950     587  -57.22   3274.13   57.22\n"
     ]
    },
    {
     "name": "stderr",
     "output_type": "stream",
     "text": [
      "C:\\Users\\Paul\\anaconda3\\lib\\site-packages\\statsmodels\\tsa\\base\\tsa_model.py:524: ValueWarning: No frequency information was provided, so inferred frequency MS will be used.\n",
      "  warnings.warn('No frequency information was'\n",
      "C:\\Users\\Paul\\anaconda3\\lib\\site-packages\\statsmodels\\tsa\\base\\tsa_model.py:524: ValueWarning: No frequency information was provided, so inferred frequency MS will be used.\n",
      "  warnings.warn('No frequency information was'\n"
     ]
    },
    {
     "name": "stdout",
     "output_type": "stream",
     "text": [
      "            prediction  actual   error       mse    rmse\n",
      "2020-01-01  350.037630     481 -130.96  17150.52  130.96\n",
      "2020-02-01  436.271989     491  -54.73   2995.37   54.73\n",
      "2020-03-01  484.570614     504  -19.43    377.52   19.43\n",
      "2020-04-01  426.150074     472  -45.85   2102.22   45.85\n",
      "2020-05-01  352.214461     473 -120.79  14590.22  120.79\n",
      "2020-06-01  413.179975     449  -35.82   1283.07   35.82\n",
      "2020-07-01  476.816502     255  221.82  49204.11  221.82\n",
      "2020-08-01  143.145608     202  -58.85   3463.32   58.85\n",
      "2020-09-01  308.436499     334  -25.56    653.31   25.56\n",
      "2020-10-01  437.937955     454  -16.06    257.92   16.06\n",
      "2020-11-01  562.400265     583  -20.60    424.36   20.60\n",
      "2020-12-01  700.600553     774  -73.40   5387.56   73.40\n",
      "2021-01-01  807.481161     708   99.48   9896.27   99.48\n",
      "2021-02-01  602.783468     557   45.78   2095.81   45.78\n"
     ]
    },
    {
     "name": "stderr",
     "output_type": "stream",
     "text": [
      "C:\\Users\\Paul\\anaconda3\\lib\\site-packages\\statsmodels\\tsa\\base\\tsa_model.py:524: ValueWarning: No frequency information was provided, so inferred frequency MS will be used.\n",
      "  warnings.warn('No frequency information was'\n",
      "C:\\Users\\Paul\\anaconda3\\lib\\site-packages\\statsmodels\\tsa\\base\\tsa_model.py:524: ValueWarning: No frequency information was provided, so inferred frequency MS will be used.\n",
      "  warnings.warn('No frequency information was'\n"
     ]
    },
    {
     "name": "stdout",
     "output_type": "stream",
     "text": [
      "            prediction  actual   error       mse    rmse\n",
      "2020-01-01  679.394634     677    2.39      5.71    2.39\n",
      "2020-02-01  633.118760     661  -27.88    777.29   27.88\n",
      "2020-03-01  615.116749     524   91.12   8302.85   91.12\n",
      "2020-04-01  378.625105     363   15.63    244.30   15.63\n",
      "2020-05-01  272.145113     320  -47.85   2289.62   47.85\n",
      "2020-06-01  266.035748     272   -5.96     35.52    5.96\n",
      "2020-07-01  252.091432     272  -19.91    396.41   19.91\n",
      "2020-08-01  266.726289     265    1.73      2.99    1.73\n",
      "2020-09-01  318.284605     304   14.28    203.92   14.28\n",
      "2020-10-01  352.687395     425  -72.31   5228.74   72.31\n",
      "2020-11-01  602.715601     559   43.72   1911.44   43.72\n",
      "2020-12-01  666.480113     751  -84.52   7143.63   84.52\n",
      "2021-01-01  832.062556     669  163.06  26588.56  163.06\n",
      "2021-02-01  542.732281     503   39.73   1578.47   39.73\n"
     ]
    },
    {
     "name": "stderr",
     "output_type": "stream",
     "text": [
      "C:\\Users\\Paul\\anaconda3\\lib\\site-packages\\statsmodels\\tsa\\base\\tsa_model.py:524: ValueWarning: No frequency information was provided, so inferred frequency MS will be used.\n",
      "  warnings.warn('No frequency information was'\n",
      "C:\\Users\\Paul\\anaconda3\\lib\\site-packages\\statsmodels\\tsa\\base\\tsa_model.py:524: ValueWarning: No frequency information was provided, so inferred frequency MS will be used.\n",
      "  warnings.warn('No frequency information was'\n"
     ]
    },
    {
     "name": "stdout",
     "output_type": "stream",
     "text": [
      "            prediction  actual   error       mse    rmse\n",
      "2020-01-01  853.430475     805   48.43   2345.46   48.43\n",
      "2020-02-01  712.244012     736  -23.76    564.54   23.76\n",
      "2020-03-01  792.342123     789    3.34     11.16    3.34\n",
      "2020-04-01  762.139177     765   -2.86      8.18    2.86\n",
      "2020-05-01  681.630840     648   33.63   1130.98   33.63\n",
      "2020-06-01  556.087738     528   28.09    789.05   28.09\n",
      "2020-07-01  504.488955     471   33.49   1121.58   33.49\n",
      "2020-08-01  438.044433     418   20.04    401.60   20.04\n",
      "2020-09-01  400.057179     432  -31.94   1020.16   31.94\n",
      "2020-10-01  443.176565     515  -71.82   5158.11   71.82\n",
      "2020-11-01  720.564064     569  151.56  22970.43  151.56\n",
      "2020-12-01  607.189968     671  -63.81   4071.72   63.81\n",
      "2021-01-01  714.157091     744  -29.84    890.43   29.84\n",
      "2021-02-01  682.754391     763  -80.25   6440.06   80.25\n"
     ]
    },
    {
     "name": "stderr",
     "output_type": "stream",
     "text": [
      "C:\\Users\\Paul\\anaconda3\\lib\\site-packages\\statsmodels\\tsa\\base\\tsa_model.py:524: ValueWarning: No frequency information was provided, so inferred frequency MS will be used.\n",
      "  warnings.warn('No frequency information was'\n",
      "C:\\Users\\Paul\\anaconda3\\lib\\site-packages\\statsmodels\\tsa\\base\\tsa_model.py:524: ValueWarning: No frequency information was provided, so inferred frequency MS will be used.\n",
      "  warnings.warn('No frequency information was'\n"
     ]
    },
    {
     "name": "stdout",
     "output_type": "stream",
     "text": [
      "            prediction  actual   error       mse    rmse\n",
      "2020-01-01  647.230604     538  109.23  11931.19  109.23\n",
      "2020-02-01  423.387194     456  -32.61   1063.41   32.61\n",
      "2020-03-01  431.560602     437   -5.44     29.59    5.44\n",
      "2020-04-01  348.108421     384  -35.89   1288.09   35.89\n",
      "2020-05-01  335.058365     305   30.06    903.60   30.06\n",
      "2020-06-01  222.376324     232   -9.62     92.54    9.62\n",
      "2020-07-01  204.287825     221  -16.71    279.22   16.71\n",
      "2020-08-01  198.949558     207   -8.05     64.80    8.05\n",
      "2020-09-01  311.266071     217   94.27   8886.83   94.27\n",
      "2020-10-01  244.700021     263  -18.30    334.89   18.30\n",
      "2020-11-01  425.169417     389   36.17   1308.27   36.17\n",
      "2020-12-01  495.246644     561  -65.75   4323.06   65.75\n",
      "2021-01-01  561.812162     601  -39.19   1535.86   39.19\n",
      "2021-02-01  544.528407     595  -50.47   2547.22   50.47\n"
     ]
    },
    {
     "name": "stderr",
     "output_type": "stream",
     "text": [
      "C:\\Users\\Paul\\anaconda3\\lib\\site-packages\\statsmodels\\tsa\\base\\tsa_model.py:524: ValueWarning: No frequency information was provided, so inferred frequency MS will be used.\n",
      "  warnings.warn('No frequency information was'\n",
      "C:\\Users\\Paul\\anaconda3\\lib\\site-packages\\statsmodels\\tsa\\base\\tsa_model.py:524: ValueWarning: No frequency information was provided, so inferred frequency MS will be used.\n",
      "  warnings.warn('No frequency information was'\n"
     ]
    },
    {
     "name": "stdout",
     "output_type": "stream",
     "text": [
      "            prediction  actual   error       mse    rmse\n",
      "2020-01-01  652.839074     720  -67.16   4510.47   67.16\n",
      "2020-02-01  695.475641     705   -9.52     90.63    9.52\n",
      "2020-03-01  606.845837     506  100.85  10170.72  100.85\n",
      "2020-04-01  322.349552     293   29.35    861.42   29.35\n",
      "2020-05-01  233.373565     258  -24.63    606.64   24.63\n",
      "2020-06-01  208.556255     218   -9.44     89.11    9.44\n",
      "2020-07-01  179.084368     195  -15.92    253.45   15.92\n",
      "2020-08-01  181.074063     173    8.07     65.12    8.07\n",
      "2020-09-01  259.340418     229   30.34    920.52   30.34\n",
      "2020-10-01  284.435373     384  -99.56   9912.19   99.56\n",
      "2020-11-01  639.561659     478  161.56  26101.63  161.56\n",
      "2020-12-01  518.855986     619 -100.14  10028.02  100.14\n",
      "2021-01-01  676.024434     606   70.02   4902.80   70.02\n",
      "2021-02-01  489.261186     533  -43.74   1913.19   43.74\n"
     ]
    },
    {
     "name": "stderr",
     "output_type": "stream",
     "text": [
      "C:\\Users\\Paul\\anaconda3\\lib\\site-packages\\statsmodels\\tsa\\base\\tsa_model.py:524: ValueWarning: No frequency information was provided, so inferred frequency MS will be used.\n",
      "  warnings.warn('No frequency information was'\n",
      "C:\\Users\\Paul\\anaconda3\\lib\\site-packages\\statsmodels\\tsa\\base\\tsa_model.py:524: ValueWarning: No frequency information was provided, so inferred frequency MS will be used.\n",
      "  warnings.warn('No frequency information was'\n"
     ]
    },
    {
     "name": "stdout",
     "output_type": "stream",
     "text": [
      "            prediction  actual   error       mse    rmse\n",
      "2020-01-01  501.093740     530  -28.91    835.79   28.91\n",
      "2020-02-01  493.590116     546  -52.41   2746.81   52.41\n",
      "2020-03-01  523.569336     405  118.57  14058.84  118.57\n",
      "2020-04-01  284.229147     250   34.23   1171.69   34.23\n",
      "2020-05-01   94.650594     217 -122.35  14969.52  122.35\n",
      "2020-06-01  161.654311     181  -19.35    374.42   19.35\n",
      "2020-07-01  138.872166     136    2.87      8.24    2.87\n",
      "2020-08-01  109.623202     101    8.62     74.30    8.62\n",
      "2020-09-01  189.779503     160   29.78    886.85   29.78\n",
      "2020-10-01  226.711669     318  -91.29   8333.86   91.29\n",
      "2020-11-01  479.103712     321  158.10  24995.61  158.10\n",
      "2020-12-01  384.366564     347   37.37   1396.52   37.37\n",
      "2021-01-01  390.899734     401  -10.10    102.01   10.10\n",
      "2021-02-01  375.360554     430  -54.64   2985.53   54.64\n"
     ]
    },
    {
     "name": "stderr",
     "output_type": "stream",
     "text": [
      "C:\\Users\\Paul\\anaconda3\\lib\\site-packages\\statsmodels\\tsa\\base\\tsa_model.py:524: ValueWarning: No frequency information was provided, so inferred frequency MS will be used.\n",
      "  warnings.warn('No frequency information was'\n",
      "C:\\Users\\Paul\\anaconda3\\lib\\site-packages\\statsmodels\\tsa\\base\\tsa_model.py:524: ValueWarning: No frequency information was provided, so inferred frequency MS will be used.\n",
      "  warnings.warn('No frequency information was'\n"
     ]
    },
    {
     "name": "stdout",
     "output_type": "stream",
     "text": [
      "            prediction  actual   error       mse    rmse\n",
      "2020-01-01  268.527990     339  -70.47   4966.02   70.47\n",
      "2020-02-01  301.216513     317  -15.78    249.01   15.78\n",
      "2020-03-01  400.587504     288  112.59  12676.51  112.59\n",
      "2020-04-01  264.345262     239   25.35    642.62   25.35\n",
      "2020-05-01  161.976762     202  -40.02   1601.60   40.02\n",
      "2020-06-01  224.265298     163   61.27   3754.01   61.27\n",
      "2020-07-01  114.855449     175  -60.14   3616.82   60.14\n",
      "2020-08-01  171.958605     181   -9.04     81.72    9.04\n",
      "2020-09-01  207.203996     202    5.20     27.04    5.20\n",
      "2020-10-01  244.856415     274  -29.14    849.14   29.14\n",
      "2020-11-01  313.591953     243   70.59   4982.95   70.59\n",
      "2020-12-01  235.413676     226    9.41     88.55    9.41\n",
      "2021-01-01  174.068367     201  -26.93    725.22   26.93\n",
      "2021-02-01  147.228137     152   -4.77     22.75    4.77\n"
     ]
    },
    {
     "name": "stderr",
     "output_type": "stream",
     "text": [
      "C:\\Users\\Paul\\anaconda3\\lib\\site-packages\\statsmodels\\tsa\\base\\tsa_model.py:524: ValueWarning: No frequency information was provided, so inferred frequency MS will be used.\n",
      "  warnings.warn('No frequency information was'\n",
      "C:\\Users\\Paul\\anaconda3\\lib\\site-packages\\statsmodels\\tsa\\base\\tsa_model.py:524: ValueWarning: No frequency information was provided, so inferred frequency MS will be used.\n",
      "  warnings.warn('No frequency information was'\n"
     ]
    },
    {
     "name": "stdout",
     "output_type": "stream",
     "text": [
      "            prediction  actual  error      mse   rmse\n",
      "2020-01-01  516.690167     455  61.69  3805.66  61.69\n",
      "2020-02-01  370.170083     368   2.17     4.71   2.17\n",
      "2020-03-01  372.608664     320  52.61  2767.81  52.61\n",
      "2020-04-01  251.617222     253  -1.38     1.90   1.38\n",
      "2020-05-01  200.074925     224 -23.93   572.64  23.93\n",
      "2020-06-01  195.984089     193   2.98     8.88   2.98\n",
      "2020-07-01  186.638930     165  21.64   468.29  21.64\n",
      "2020-08-01  147.566880     142   5.57    31.02   5.57\n",
      "2020-09-01  162.910633     171  -8.09    65.45   8.09\n",
      "2020-10-01  202.404320     257 -54.60  2981.16  54.60\n",
      "2020-11-01  409.450883     360  49.45  2445.30  49.45\n",
      "2020-12-01  416.885176     503 -86.11  7414.93  86.11\n",
      "2021-01-01  531.587216     597 -65.41  4278.47  65.41\n",
      "2021-02-01  583.439686     656 -72.56  5264.95  72.56\n"
     ]
    },
    {
     "name": "stderr",
     "output_type": "stream",
     "text": [
      "C:\\Users\\Paul\\anaconda3\\lib\\site-packages\\statsmodels\\tsa\\base\\tsa_model.py:524: ValueWarning: No frequency information was provided, so inferred frequency MS will be used.\n",
      "  warnings.warn('No frequency information was'\n",
      "C:\\Users\\Paul\\anaconda3\\lib\\site-packages\\statsmodels\\tsa\\base\\tsa_model.py:524: ValueWarning: No frequency information was provided, so inferred frequency MS will be used.\n",
      "  warnings.warn('No frequency information was'\n"
     ]
    },
    {
     "name": "stdout",
     "output_type": "stream",
     "text": [
      "            prediction  actual   error       mse    rmse\n",
      "2020-01-01  585.820673     607  -21.18    448.59   21.18\n",
      "2020-02-01  594.979306     640  -45.02   2026.80   45.02\n",
      "2020-03-01  541.133419     466   75.13   5644.52   75.13\n",
      "2020-04-01  300.262245     278   22.26    495.51   22.26\n",
      "2020-05-01  159.011482     182  -22.99    528.54   22.99\n",
      "2020-06-01  102.580279     103   -0.42      0.18    0.42\n",
      "2020-07-01   83.480779     102  -18.52    342.99   18.52\n",
      "2020-08-01   96.119239     100   -3.88     15.05    3.88\n",
      "2020-09-01  194.572056     174   20.57    423.12   20.57\n",
      "2020-10-01  243.849606     369 -125.15  15662.52  125.15\n",
      "2020-11-01  535.347733     424  111.35  12398.82  111.35\n",
      "2020-12-01  490.623260     519  -28.38    805.42   28.38\n",
      "2021-01-01  619.652566     446  173.65  30154.32  173.65\n",
      "2021-02-01  363.129172     311   52.13   2717.54   52.13\n"
     ]
    },
    {
     "name": "stderr",
     "output_type": "stream",
     "text": [
      "C:\\Users\\Paul\\anaconda3\\lib\\site-packages\\statsmodels\\tsa\\base\\tsa_model.py:524: ValueWarning: No frequency information was provided, so inferred frequency MS will be used.\n",
      "  warnings.warn('No frequency information was'\n",
      "C:\\Users\\Paul\\anaconda3\\lib\\site-packages\\statsmodels\\tsa\\base\\tsa_model.py:524: ValueWarning: No frequency information was provided, so inferred frequency MS will be used.\n",
      "  warnings.warn('No frequency information was'\n"
     ]
    },
    {
     "name": "stdout",
     "output_type": "stream",
     "text": [
      "             prediction  actual   error       mse    rmse\n",
      "2020-01-01  1252.449114    1121  131.45  17279.10  131.45\n",
      "2020-02-01   966.057438    1018  -51.94   2697.76   51.94\n",
      "2020-03-01  1078.592794    1036   42.59   1813.91   42.59\n",
      "2020-04-01   930.593257     962  -31.41    986.59   31.41\n",
      "2020-05-01   782.684277     856  -73.32   5375.82   73.32\n",
      "2020-06-01   748.545655     732   16.55    273.90   16.55\n",
      "2020-07-01   696.747611     629   67.75   4590.06   67.75\n",
      "2020-08-01   557.008889     270  287.01  82374.74  287.01\n",
      "2020-09-01   233.351002      51  182.35  33251.52  182.35\n",
      "2020-10-01    77.565650      74    3.57     12.74    3.57\n",
      "2020-11-01   223.767239     166   57.77   3337.37   57.77\n",
      "2020-12-01   272.088297     283  -10.91    119.03   10.91\n",
      "2021-01-01   312.538339     273   39.54   1563.41   39.54\n",
      "2021-02-01   168.749735     234  -65.25   4257.56   65.25\n"
     ]
    },
    {
     "name": "stderr",
     "output_type": "stream",
     "text": [
      "C:\\Users\\Paul\\anaconda3\\lib\\site-packages\\statsmodels\\tsa\\base\\tsa_model.py:524: ValueWarning: No frequency information was provided, so inferred frequency MS will be used.\n",
      "  warnings.warn('No frequency information was'\n",
      "C:\\Users\\Paul\\anaconda3\\lib\\site-packages\\statsmodels\\tsa\\base\\tsa_model.py:524: ValueWarning: No frequency information was provided, so inferred frequency MS will be used.\n",
      "  warnings.warn('No frequency information was'\n"
     ]
    },
    {
     "name": "stdout",
     "output_type": "stream",
     "text": [
      "            prediction  actual  error      mse   rmse\n",
      "2020-01-01  443.563456     394  49.56  2456.19  49.56\n",
      "2020-02-01  372.653634     378  -5.35    28.62   5.35\n",
      "2020-03-01  369.045403     382 -12.95   167.70  12.95\n",
      "2020-04-01  369.167534     352  17.17   294.81  17.17\n",
      "2020-05-01  314.924868     277  37.92  1437.93  37.92\n",
      "2020-06-01  234.553827     206  28.55   815.10  28.55\n",
      "2020-07-01  180.424208     192 -11.58   134.10  11.58\n",
      "2020-08-01  189.519552     177  12.52   156.75  12.52\n",
      "2020-09-01  176.961213     196 -19.04   362.52  19.04\n",
      "2020-10-01  223.797364     260 -36.20  1310.44  36.20\n",
      "2020-11-01  372.088146     324  48.09  2312.65  48.09\n",
      "2020-12-01  391.338777     420 -28.66   821.40  28.66\n",
      "2021-01-01  447.754309     496 -48.25  2328.06  48.25\n",
      "2021-02-01  516.103722     486  30.10   906.01  30.10\n"
     ]
    },
    {
     "name": "stderr",
     "output_type": "stream",
     "text": [
      "C:\\Users\\Paul\\anaconda3\\lib\\site-packages\\statsmodels\\tsa\\base\\tsa_model.py:524: ValueWarning: No frequency information was provided, so inferred frequency MS will be used.\n",
      "  warnings.warn('No frequency information was'\n",
      "C:\\Users\\Paul\\anaconda3\\lib\\site-packages\\statsmodels\\tsa\\base\\tsa_model.py:524: ValueWarning: No frequency information was provided, so inferred frequency MS will be used.\n",
      "  warnings.warn('No frequency information was'\n"
     ]
    },
    {
     "name": "stdout",
     "output_type": "stream",
     "text": [
      "            prediction  actual   error       mse    rmse\n",
      "2020-01-01  505.165959     515   -9.83     96.63    9.83\n",
      "2020-02-01  482.874285     464   18.87    356.08   18.87\n",
      "2020-03-01  748.258642     526  222.26  49399.51  222.26\n",
      "2020-04-01  473.769919     532  -58.23   3390.73   58.23\n",
      "2020-05-01  302.336901     474 -171.66  29467.16  171.66\n",
      "2020-06-01  415.926876     405   10.93    119.46   10.93\n",
      "2020-07-01  255.152287     431 -175.85  30923.22  175.85\n",
      "2020-08-01  509.788658     439   70.79   5011.22   70.79\n",
      "2020-09-01  512.229545     456   56.23   3161.81   56.23\n",
      "2020-10-01  528.779113     547  -18.22    331.97   18.22\n",
      "2020-11-01  577.021050     526   51.02   2603.04   51.02\n",
      "2020-12-01  518.161618     538  -19.84    393.63   19.84\n",
      "2021-01-01  558.560175     550    8.56     73.27    8.56\n",
      "2021-02-01  491.586068     513  -21.41    458.39   21.41\n"
     ]
    },
    {
     "name": "stderr",
     "output_type": "stream",
     "text": [
      "C:\\Users\\Paul\\anaconda3\\lib\\site-packages\\statsmodels\\tsa\\base\\tsa_model.py:524: ValueWarning: No frequency information was provided, so inferred frequency MS will be used.\n",
      "  warnings.warn('No frequency information was'\n",
      "C:\\Users\\Paul\\anaconda3\\lib\\site-packages\\statsmodels\\tsa\\base\\tsa_model.py:524: ValueWarning: No frequency information was provided, so inferred frequency MS will be used.\n",
      "  warnings.warn('No frequency information was'\n"
     ]
    },
    {
     "name": "stdout",
     "output_type": "stream",
     "text": [
      "            prediction  actual   error       mse    rmse\n",
      "2020-01-01  597.540506     750 -152.46  23244.05  152.46\n",
      "2020-02-01  752.907904     799  -46.09   2124.29   46.09\n",
      "2020-03-01  727.363349     604  123.36  15217.69  123.36\n",
      "2020-04-01  485.277001     384  101.28  10257.64  101.28\n",
      "2020-05-01  312.728319     347  -34.27   1174.43   34.27\n",
      "2020-06-01  300.716043     300    0.72      0.52    0.72\n",
      "2020-07-01  275.165038     308  -32.83   1077.81   32.83\n",
      "2020-08-01  314.103273     306    8.10     65.61    8.10\n",
      "2020-09-01  356.237624     352    4.24     17.98    4.24\n",
      "2020-10-01  412.107208     494  -81.89   6705.97   81.89\n",
      "2020-11-01  673.282681     676   -2.72      7.40    2.72\n",
      "2020-12-01  802.396801     931 -128.60  16537.96  128.60\n",
      "2021-01-01  982.290167     874  108.29  11726.72  108.29\n",
      "2021-02-01  755.690553     718   37.69   1420.54   37.69\n"
     ]
    },
    {
     "name": "stderr",
     "output_type": "stream",
     "text": [
      "C:\\Users\\Paul\\anaconda3\\lib\\site-packages\\statsmodels\\tsa\\base\\tsa_model.py:524: ValueWarning: No frequency information was provided, so inferred frequency MS will be used.\n",
      "  warnings.warn('No frequency information was'\n",
      "C:\\Users\\Paul\\anaconda3\\lib\\site-packages\\statsmodels\\tsa\\base\\tsa_model.py:524: ValueWarning: No frequency information was provided, so inferred frequency MS will be used.\n",
      "  warnings.warn('No frequency information was'\n"
     ]
    },
    {
     "name": "stdout",
     "output_type": "stream",
     "text": [
      "            prediction  actual   error       mse    rmse\n",
      "2020-01-01  266.145799     254   12.15    147.62   12.15\n",
      "2020-02-01  236.464520     251  -14.54    211.41   14.54\n",
      "2020-03-01  269.267804     273   -3.73     13.91    3.73\n",
      "2020-04-01  252.674200     269  -16.33    266.67   16.33\n",
      "2020-05-01  249.931880     239   10.93    119.46   10.93\n",
      "2020-06-01  201.068976     206   -4.93     24.30    4.93\n",
      "2020-07-01  197.324643     218  -20.68    427.66   20.68\n",
      "2020-08-01  217.367883     223   -5.63     31.70    5.63\n",
      "2020-09-01  241.050724     256  -14.95    223.50   14.95\n",
      "2020-10-01  283.463773     362  -78.54   6168.53   78.54\n",
      "2020-11-01  421.939095     370   51.94   2697.76   51.94\n",
      "2020-12-01  353.540058     404  -50.46   2546.21   50.46\n",
      "2021-01-01  471.435128     389   82.44   6796.35   82.44\n",
      "2021-02-01  320.205102     195  125.21  15677.54  125.21\n"
     ]
    },
    {
     "name": "stderr",
     "output_type": "stream",
     "text": [
      "C:\\Users\\Paul\\anaconda3\\lib\\site-packages\\statsmodels\\tsa\\base\\tsa_model.py:524: ValueWarning: No frequency information was provided, so inferred frequency MS will be used.\n",
      "  warnings.warn('No frequency information was'\n",
      "C:\\Users\\Paul\\anaconda3\\lib\\site-packages\\statsmodels\\tsa\\base\\tsa_model.py:524: ValueWarning: No frequency information was provided, so inferred frequency MS will be used.\n",
      "  warnings.warn('No frequency information was'\n"
     ]
    },
    {
     "name": "stdout",
     "output_type": "stream",
     "text": [
      "            prediction  actual  error      mse   rmse\n",
      "2020-01-01  218.433013     236 -17.57   308.70  17.57\n",
      "2020-02-01  229.443882     237  -7.56    57.15   7.56\n",
      "2020-03-01  265.100126     248  17.10   292.41  17.10\n",
      "2020-04-01  234.566346     237  -2.43     5.90   2.43\n",
      "2020-05-01  170.176827     170   0.18     0.03   0.17\n",
      "2020-06-01  118.023278     114   4.02    16.16   4.02\n",
      "2020-07-01  113.827578     100  13.83   191.27  13.83\n",
      "2020-08-01   89.425135      85   4.43    19.62   4.43\n",
      "2020-09-01   97.531810      88   9.53    90.82   9.53\n",
      "2020-10-01  108.994929     105   3.99    15.92   3.99\n",
      "2020-11-01  143.597492     119  24.60   605.16  24.60\n",
      "2020-12-01  135.099744     145  -9.90    98.01   9.90\n",
      "2021-01-01  157.171800     196 -38.83  1507.77  38.83\n",
      "2021-02-01  208.403551     241 -32.60  1062.76  32.60\n"
     ]
    },
    {
     "name": "stderr",
     "output_type": "stream",
     "text": [
      "C:\\Users\\Paul\\anaconda3\\lib\\site-packages\\statsmodels\\tsa\\base\\tsa_model.py:524: ValueWarning: No frequency information was provided, so inferred frequency MS will be used.\n",
      "  warnings.warn('No frequency information was'\n",
      "C:\\Users\\Paul\\anaconda3\\lib\\site-packages\\statsmodels\\tsa\\base\\tsa_model.py:524: ValueWarning: No frequency information was provided, so inferred frequency MS will be used.\n",
      "  warnings.warn('No frequency information was'\n"
     ]
    },
    {
     "name": "stdout",
     "output_type": "stream",
     "text": [
      "            prediction  actual  error      mse   rmse\n",
      "2020-01-01  487.032426     436  51.03  2604.06  51.03\n",
      "2020-02-01  395.995774     400  -4.00    16.00   4.00\n",
      "2020-03-01  423.102230     437 -13.90   193.21  13.90\n",
      "2020-04-01  409.665417     431 -21.33   454.97  21.33\n",
      "2020-05-01  397.349662     385  12.35   152.52  12.35\n",
      "2020-06-01  326.852493     330  -3.15     9.92   3.15\n",
      "2020-07-01  281.615983     246  35.62  1268.78  35.62\n",
      "2020-08-01  189.045842     178  11.05   122.10  11.05\n",
      "2020-09-01  221.965305     210  11.97   143.28  11.97\n",
      "2020-10-01  263.075545     312 -48.92  2393.17  48.92\n",
      "2020-11-01  379.936256     332  47.94  2298.24  47.94\n",
      "2020-12-01  352.467121     380 -27.53   757.90  27.53\n",
      "2021-01-01  428.914449     430  -1.09     1.19   1.09\n",
      "2021-02-01  403.183274     453 -49.82  2482.03  49.82\n"
     ]
    },
    {
     "name": "stderr",
     "output_type": "stream",
     "text": [
      "C:\\Users\\Paul\\anaconda3\\lib\\site-packages\\statsmodels\\tsa\\base\\tsa_model.py:524: ValueWarning: No frequency information was provided, so inferred frequency MS will be used.\n",
      "  warnings.warn('No frequency information was'\n",
      "C:\\Users\\Paul\\anaconda3\\lib\\site-packages\\statsmodels\\tsa\\base\\tsa_model.py:524: ValueWarning: No frequency information was provided, so inferred frequency MS will be used.\n",
      "  warnings.warn('No frequency information was'\n"
     ]
    },
    {
     "name": "stdout",
     "output_type": "stream",
     "text": [
      "            prediction  actual   error       mse    rmse\n",
      "2020-01-01  424.457103     386   38.46   1479.17   38.46\n",
      "2020-02-01  354.672687     383  -28.33    802.59   28.33\n",
      "2020-03-01  327.260817     313   14.26    203.35   14.26\n",
      "2020-04-01  212.682615     226  -13.32    177.42   13.32\n",
      "2020-05-01  167.178227     201  -33.82   1143.79   33.82\n",
      "2020-06-01  161.138810     176  -14.86    220.82   14.86\n",
      "2020-07-01  186.022979     227  -40.98   1679.36   40.98\n",
      "2020-08-01  247.452600     249   -1.55      2.40    1.55\n",
      "2020-09-01  284.214424     336  -51.79   2682.20   51.79\n",
      "2020-10-01  397.621546     577 -179.38  32177.18  179.38\n",
      "2020-11-01  744.294058     592  152.29  23192.24  152.29\n",
      "2020-12-01  573.903483     650  -76.10   5791.21   76.10\n",
      "2021-01-01  749.166972     641  108.17  11700.75  108.17\n",
      "2021-02-01  569.338763     566    3.34     11.16    3.34\n"
     ]
    },
    {
     "name": "stderr",
     "output_type": "stream",
     "text": [
      "C:\\Users\\Paul\\anaconda3\\lib\\site-packages\\statsmodels\\tsa\\base\\tsa_model.py:524: ValueWarning: No frequency information was provided, so inferred frequency MS will be used.\n",
      "  warnings.warn('No frequency information was'\n",
      "C:\\Users\\Paul\\anaconda3\\lib\\site-packages\\statsmodels\\tsa\\base\\tsa_model.py:524: ValueWarning: No frequency information was provided, so inferred frequency MS will be used.\n",
      "  warnings.warn('No frequency information was'\n"
     ]
    },
    {
     "name": "stdout",
     "output_type": "stream",
     "text": [
      "            prediction  actual  error      mse   rmse\n",
      "2020-01-01  438.237640     461 -22.76   518.02  22.76\n",
      "2020-02-01  463.464793     467  -3.54    12.53   3.54\n",
      "2020-03-01  479.878850     386  93.88  8813.45  93.88\n",
      "2020-04-01  312.171270     285  27.17   738.21  27.17\n",
      "2020-05-01  242.602298     247  -4.40    19.36   4.40\n",
      "2020-06-01  231.241022     207  24.24   587.58  24.24\n",
      "2020-07-01  192.345473     198  -5.65    31.92   5.65\n",
      "2020-08-01  196.714825     188   8.71    75.86   8.71\n",
      "2020-09-01  201.589824     229 -27.41   751.31  27.41\n",
      "2020-10-01  266.737996     351 -84.26  7099.75  84.26\n",
      "2020-11-01  438.399648     413  25.40   645.16  25.40\n",
      "2020-12-01  444.256418     512 -67.74  4588.71  67.74\n",
      "2021-01-01  556.295665     478  78.30  6130.89  78.30\n",
      "2021-02-01  418.446867     387  31.45   989.10  31.45\n"
     ]
    },
    {
     "name": "stderr",
     "output_type": "stream",
     "text": [
      "C:\\Users\\Paul\\anaconda3\\lib\\site-packages\\statsmodels\\tsa\\base\\tsa_model.py:524: ValueWarning: No frequency information was provided, so inferred frequency MS will be used.\n",
      "  warnings.warn('No frequency information was'\n",
      "C:\\Users\\Paul\\anaconda3\\lib\\site-packages\\statsmodels\\tsa\\base\\tsa_model.py:524: ValueWarning: No frequency information was provided, so inferred frequency MS will be used.\n",
      "  warnings.warn('No frequency information was'\n"
     ]
    },
    {
     "name": "stdout",
     "output_type": "stream",
     "text": [
      "            prediction  actual  error      mse   rmse\n",
      "2020-01-01  467.707583     536 -68.29  4663.52  68.29\n",
      "2020-02-01  521.021324     548 -26.98   727.92  26.98\n",
      "2020-03-01  441.040668     489 -47.96  2300.16  47.96\n",
      "2020-04-01  455.394321     394  61.39  3768.73  61.39\n",
      "2020-05-01  295.074336     328 -32.93  1084.38  32.93\n",
      "2020-06-01  319.294736     262  57.29  3282.14  57.29\n",
      "2020-07-01  245.653561     252  -6.35    40.32   6.35\n",
      "2020-08-01  241.537381     240   1.54     2.37   1.54\n",
      "2020-09-01  297.562927     248  49.56  2456.19  49.56\n",
      "2020-10-01  290.855360     295  -4.14    17.14   4.14\n",
      "2020-11-01  382.251213     319  63.25  4000.56  63.25\n",
      "2020-12-01  412.231794     370  42.23  1783.37  42.23\n",
      "2021-01-01  366.770195     453 -86.23  7435.61  86.23\n",
      "2021-02-01  451.172156     512 -60.83  3700.29  60.83\n"
     ]
    },
    {
     "name": "stderr",
     "output_type": "stream",
     "text": [
      "C:\\Users\\Paul\\anaconda3\\lib\\site-packages\\statsmodels\\tsa\\base\\tsa_model.py:524: ValueWarning: No frequency information was provided, so inferred frequency MS will be used.\n",
      "  warnings.warn('No frequency information was'\n",
      "C:\\Users\\Paul\\anaconda3\\lib\\site-packages\\statsmodels\\tsa\\base\\tsa_model.py:524: ValueWarning: No frequency information was provided, so inferred frequency MS will be used.\n",
      "  warnings.warn('No frequency information was'\n"
     ]
    },
    {
     "name": "stdout",
     "output_type": "stream",
     "text": [
      "            prediction  actual   error       mse    rmse\n",
      "2020-01-01  640.635975     575   65.64   4308.61   65.64\n",
      "2020-02-01  491.330125     498   -6.67     44.49    6.67\n",
      "2020-03-01  479.657300     479    0.66      0.44    0.66\n",
      "2020-04-01  411.655670     419   -7.34     53.88    7.34\n",
      "2020-05-01  384.836036     428  -43.16   1862.79   43.16\n",
      "2020-06-01  416.264987     409    7.26     52.71    7.26\n",
      "2020-07-01  423.992124     372   51.99   2702.96   51.99\n",
      "2020-08-01  356.989288     336   20.99    440.58   20.99\n",
      "2020-09-01  346.124774     346    0.12      0.01    0.10\n",
      "2020-10-01  372.717963     406  -33.28   1107.56   33.28\n",
      "2020-11-01  525.413693     400  125.41  15727.67  125.41\n",
      "2020-12-01  409.515279     422  -12.48    155.75   12.48\n",
      "2021-01-01  441.893891     454  -12.11    146.65   12.11\n",
      "2021-02-01  404.291577     451  -46.71   2181.82   46.71\n"
     ]
    },
    {
     "name": "stderr",
     "output_type": "stream",
     "text": [
      "C:\\Users\\Paul\\anaconda3\\lib\\site-packages\\statsmodels\\tsa\\base\\tsa_model.py:524: ValueWarning: No frequency information was provided, so inferred frequency MS will be used.\n",
      "  warnings.warn('No frequency information was'\n",
      "C:\\Users\\Paul\\anaconda3\\lib\\site-packages\\statsmodels\\tsa\\base\\tsa_model.py:524: ValueWarning: No frequency information was provided, so inferred frequency MS will be used.\n",
      "  warnings.warn('No frequency information was'\n"
     ]
    },
    {
     "name": "stdout",
     "output_type": "stream",
     "text": [
      "             prediction  actual   error        mse    rmse\n",
      "2020-01-01   880.036479    1026 -145.96   21304.32  145.96\n",
      "2020-02-01  1038.280591    1053  -14.72     216.68   14.72\n",
      "2020-03-01   958.974414     599  359.97  129578.40  359.97\n",
      "2020-04-01   233.706045     160   73.71    5433.16   73.71\n",
      "2020-05-01    62.230836     124  -61.77    3815.53   61.77\n",
      "2020-06-01   121.254823      91   30.25     915.06   30.25\n",
      "2020-07-01    65.729238      90  -24.27     589.03   24.27\n",
      "2020-08-01   105.896134      88   17.90     320.41   17.90\n",
      "2020-09-01   151.165705     104   47.17    2225.01   47.17\n",
      "2020-10-01   134.755478     157  -22.24     494.62   22.24\n",
      "2020-11-01   409.286505     404    5.29      27.98    5.29\n",
      "2020-12-01   611.054153     716 -104.95   11014.50  104.95\n",
      "2021-01-01   790.402638     579  211.40   44689.96  211.40\n",
      "2021-02-01   374.636019     352   22.64     512.57   22.64\n"
     ]
    },
    {
     "name": "stderr",
     "output_type": "stream",
     "text": [
      "C:\\Users\\Paul\\anaconda3\\lib\\site-packages\\statsmodels\\tsa\\base\\tsa_model.py:524: ValueWarning: No frequency information was provided, so inferred frequency MS will be used.\n",
      "  warnings.warn('No frequency information was'\n",
      "C:\\Users\\Paul\\anaconda3\\lib\\site-packages\\statsmodels\\tsa\\base\\tsa_model.py:524: ValueWarning: No frequency information was provided, so inferred frequency MS will be used.\n",
      "  warnings.warn('No frequency information was'\n"
     ]
    },
    {
     "name": "stdout",
     "output_type": "stream",
     "text": [
      "            prediction  actual  error      mse   rmse\n",
      "2020-01-01  320.252813     305  15.25   232.56  15.25\n",
      "2020-02-01  313.423869     298  15.42   237.78  15.42\n",
      "2020-03-01  276.971821     242  34.97  1222.90  34.97\n",
      "2020-04-01  178.862378     172   6.86    47.06   6.86\n",
      "2020-05-01  135.575236     142  -6.42    41.22   6.42\n",
      "2020-06-01  119.018653     112   7.02    49.28   7.02\n",
      "2020-07-01   97.421095     112 -14.58   212.58  14.58\n",
      "2020-08-01  112.127985     111   1.13     1.28   1.13\n",
      "2020-09-01  150.955750     131  19.96   398.40  19.96\n",
      "2020-10-01  154.791334     193 -38.21  1460.00  38.21\n",
      "2020-11-01  234.780370     316 -81.22  6596.69  81.22\n",
      "2020-12-01  396.275982     480 -83.72  7009.04  83.72\n",
      "2021-01-01  549.692596     457  92.69  8591.44  92.69\n",
      "2021-02-01  417.466785     323  94.47  8924.58  94.47\n"
     ]
    },
    {
     "name": "stderr",
     "output_type": "stream",
     "text": [
      "C:\\Users\\Paul\\anaconda3\\lib\\site-packages\\statsmodels\\tsa\\base\\tsa_model.py:524: ValueWarning: No frequency information was provided, so inferred frequency MS will be used.\n",
      "  warnings.warn('No frequency information was'\n",
      "C:\\Users\\Paul\\anaconda3\\lib\\site-packages\\statsmodels\\tsa\\base\\tsa_model.py:524: ValueWarning: No frequency information was provided, so inferred frequency MS will be used.\n",
      "  warnings.warn('No frequency information was'\n"
     ]
    },
    {
     "name": "stdout",
     "output_type": "stream",
     "text": [
      "            prediction  actual   error       mse    rmse\n",
      "2020-01-01  389.665770     254  135.67  18406.35  135.67\n",
      "2020-02-01  236.435424     191   45.44   2064.79   45.44\n",
      "2020-03-01  176.564299     165   11.56    133.63   11.56\n",
      "2020-04-01  122.434037     129   -6.57     43.16    6.57\n",
      "2020-05-01   99.636679     122  -22.36    499.97   22.36\n",
      "2020-06-01   93.934285     110  -16.07    258.24   16.07\n",
      "2020-07-01  107.678288      94   13.68    187.14   13.68\n",
      "2020-08-01   84.381349      79    5.38     28.94    5.38\n",
      "2020-09-01   97.792406      90    7.79     60.68    7.79\n",
      "2020-10-01  109.234426     127  -17.77    315.77   17.77\n",
      "2020-11-01  159.433782     134   25.43    646.68   25.43\n",
      "2020-12-01  130.865045     152  -21.13    446.48   21.13\n",
      "2021-01-01  207.174241     199    8.17     66.75    8.17\n",
      "2021-02-01  202.187942     238  -35.81   1282.36   35.81\n"
     ]
    },
    {
     "name": "stderr",
     "output_type": "stream",
     "text": [
      "C:\\Users\\Paul\\anaconda3\\lib\\site-packages\\statsmodels\\tsa\\base\\tsa_model.py:524: ValueWarning: No frequency information was provided, so inferred frequency MS will be used.\n",
      "  warnings.warn('No frequency information was'\n",
      "C:\\Users\\Paul\\anaconda3\\lib\\site-packages\\statsmodels\\tsa\\base\\tsa_model.py:524: ValueWarning: No frequency information was provided, so inferred frequency MS will be used.\n",
      "  warnings.warn('No frequency information was'\n"
     ]
    },
    {
     "name": "stdout",
     "output_type": "stream",
     "text": [
      "            prediction  actual   error       mse    rmse\n",
      "2020-01-01  460.786537     433   27.79    772.28   27.79\n",
      "2020-02-01  447.071794     386   61.07   3729.54   61.07\n",
      "2020-03-01  362.578832     407  -44.42   1973.14   44.42\n",
      "2020-04-01  346.502980     389  -42.50   1806.25   42.50\n",
      "2020-05-01  306.869415     405  -98.13   9629.50   98.13\n",
      "2020-06-01  354.808568     393  -38.19   1458.48   38.19\n",
      "2020-07-01  377.067476     371    6.07     36.84    6.07\n",
      "2020-08-01  329.102517     347  -17.90    320.41   17.90\n",
      "2020-09-01  389.416459     327   62.42   3896.26   62.42\n",
      "2020-10-01  345.241171     230  115.24  13280.26  115.24\n",
      "2020-11-01  303.018935     245   58.02   3366.32   58.02\n",
      "2020-12-01  330.759050     244   86.76   7527.30   86.76\n",
      "2021-01-01  222.027938     333 -110.97  12314.34  110.97\n",
      "2021-02-01  377.062110     412  -34.94   1220.80   34.94\n"
     ]
    },
    {
     "name": "stderr",
     "output_type": "stream",
     "text": [
      "C:\\Users\\Paul\\anaconda3\\lib\\site-packages\\statsmodels\\tsa\\base\\tsa_model.py:524: ValueWarning: No frequency information was provided, so inferred frequency MS will be used.\n",
      "  warnings.warn('No frequency information was'\n",
      "C:\\Users\\Paul\\anaconda3\\lib\\site-packages\\statsmodels\\tsa\\base\\tsa_model.py:524: ValueWarning: No frequency information was provided, so inferred frequency MS will be used.\n",
      "  warnings.warn('No frequency information was'\n"
     ]
    },
    {
     "name": "stdout",
     "output_type": "stream",
     "text": [
      "            prediction  actual   error       mse    rmse\n",
      "2020-01-01  522.254726     459   63.25   4000.56   63.25\n",
      "2020-02-01  424.839050     470  -45.16   2039.43   45.16\n",
      "2020-03-01  445.012724     339  106.01  11238.12  106.01\n",
      "2020-04-01  199.006774     199    0.01      0.00    0.00\n",
      "2020-05-01  113.623747     155  -41.38   1712.30   41.38\n",
      "2020-06-01  116.082558     114    2.08      4.33    2.08\n",
      "2020-07-01  113.711333     108    5.71     32.60    5.71\n",
      "2020-08-01  101.263488      99    2.26      5.11    2.26\n",
      "2020-09-01  190.055067     135   55.06   3031.60   55.06\n",
      "2020-10-01  178.948568     234  -55.05   3030.50   55.05\n",
      "2020-11-01  313.860940     377  -63.14   3986.66   63.14\n",
      "2020-12-01  481.131575     566  -84.87   7202.92   84.87\n",
      "2021-01-01  684.306348     482  202.31  40929.34  202.31\n",
      "2021-02-01  365.388190     328   37.39   1398.01   37.39\n"
     ]
    },
    {
     "name": "stderr",
     "output_type": "stream",
     "text": [
      "C:\\Users\\Paul\\anaconda3\\lib\\site-packages\\statsmodels\\tsa\\base\\tsa_model.py:524: ValueWarning: No frequency information was provided, so inferred frequency MS will be used.\n",
      "  warnings.warn('No frequency information was'\n",
      "C:\\Users\\Paul\\anaconda3\\lib\\site-packages\\statsmodels\\tsa\\base\\tsa_model.py:524: ValueWarning: No frequency information was provided, so inferred frequency MS will be used.\n",
      "  warnings.warn('No frequency information was'\n"
     ]
    },
    {
     "name": "stdout",
     "output_type": "stream",
     "text": [
      "            prediction  actual   error       mse    rmse\n",
      "2020-01-01  386.074582     476  -89.93   8087.40   89.93\n",
      "2020-02-01  468.469784     499  -30.53    932.08   30.53\n",
      "2020-03-01  482.716807     486   -3.28     10.76    3.28\n",
      "2020-04-01  459.563509     433   26.56    705.43   26.56\n",
      "2020-05-01  417.350058     400   17.35    301.02   17.35\n",
      "2020-06-01  364.378658     353   11.38    129.50   11.38\n",
      "2020-07-01  351.670979     337   14.67    215.21   14.67\n",
      "2020-08-01  331.077092     318   13.08    171.09   13.08\n",
      "2020-09-01  323.007732     355  -31.99   1023.36   31.99\n",
      "2020-10-01  379.962273     481 -101.04  10209.08  101.04\n",
      "2020-11-01  586.057496     418  168.06  28244.16  168.06\n",
      "2020-12-01  460.179086     749 -288.82  83416.99  288.82\n",
      "2021-01-01  809.721321     750   59.72   3566.48   59.72\n",
      "2021-02-01  736.727774     679   57.73   3332.75   57.73\n"
     ]
    },
    {
     "name": "stderr",
     "output_type": "stream",
     "text": [
      "C:\\Users\\Paul\\anaconda3\\lib\\site-packages\\statsmodels\\tsa\\base\\tsa_model.py:524: ValueWarning: No frequency information was provided, so inferred frequency MS will be used.\n",
      "  warnings.warn('No frequency information was'\n",
      "C:\\Users\\Paul\\anaconda3\\lib\\site-packages\\statsmodels\\tsa\\base\\tsa_model.py:524: ValueWarning: No frequency information was provided, so inferred frequency MS will be used.\n",
      "  warnings.warn('No frequency information was'\n"
     ]
    },
    {
     "name": "stdout",
     "output_type": "stream",
     "text": [
      "            prediction  actual   error       mse    rmse\n",
      "2020-01-01  495.070166     434   61.07   3729.54   61.07\n",
      "2020-02-01  378.151817     355   23.15    535.92   23.15\n",
      "2020-03-01  373.563446     380   -6.44     41.47    6.44\n",
      "2020-04-01  353.367365     194  159.37  25398.80  159.37\n",
      "2020-05-01   93.021259     211 -117.98  13919.28  117.98\n",
      "2020-06-01  191.486731     214  -22.51    506.70   22.51\n",
      "2020-07-01  213.243608     226  -12.76    162.82   12.76\n",
      "2020-08-01  244.330154     228   16.33    266.67   16.33\n",
      "2020-09-01  260.516367     245   15.52    240.87   15.52\n",
      "2020-10-01  280.263155     311  -30.74    944.95   30.74\n",
      "2020-11-01  414.377983     370   44.38   1969.58   44.38\n",
      "2020-12-01  451.938003     464  -12.06    145.44   12.06\n",
      "2021-01-01  430.094565     489  -58.91   3470.39   58.91\n",
      "2021-02-01  434.739245     473  -38.26   1463.83   38.26\n"
     ]
    },
    {
     "name": "stderr",
     "output_type": "stream",
     "text": [
      "C:\\Users\\Paul\\anaconda3\\lib\\site-packages\\statsmodels\\tsa\\base\\tsa_model.py:524: ValueWarning: No frequency information was provided, so inferred frequency MS will be used.\n",
      "  warnings.warn('No frequency information was'\n",
      "C:\\Users\\Paul\\anaconda3\\lib\\site-packages\\statsmodels\\tsa\\base\\tsa_model.py:524: ValueWarning: No frequency information was provided, so inferred frequency MS will be used.\n",
      "  warnings.warn('No frequency information was'\n"
     ]
    },
    {
     "name": "stdout",
     "output_type": "stream",
     "text": [
      "            prediction  actual   error       mse    rmse\n",
      "2020-01-01  614.327271     637  -22.67    513.93   22.67\n",
      "2020-02-01  562.815329     576  -13.18    173.71   13.18\n",
      "2020-03-01  558.723979     490   68.72   4722.44   68.72\n",
      "2020-04-01  382.167933     375    7.17     51.41    7.17\n",
      "2020-05-01  219.398508     272  -52.60   2766.76   52.60\n",
      "2020-06-01  188.349483     183    5.35     28.62    5.35\n",
      "2020-07-01  163.664431     107   56.66   3210.36   56.66\n",
      "2020-08-01   78.464180      49   29.46    867.89   29.46\n",
      "2020-09-01  140.287469     133    7.29     53.14    7.29\n",
      "2020-10-01  229.973963     346 -116.03  13462.96  116.03\n",
      "2020-11-01  525.990884     499   26.99    728.46   26.99\n",
      "2020-12-01  595.308655     711 -115.69  13384.18  115.69\n",
      "2021-01-01  727.236476     775  -47.76   2281.02   47.76\n",
      "2021-02-01  704.889260     779  -74.11   5492.29   74.11\n"
     ]
    },
    {
     "name": "stderr",
     "output_type": "stream",
     "text": [
      "C:\\Users\\Paul\\anaconda3\\lib\\site-packages\\statsmodels\\tsa\\base\\tsa_model.py:524: ValueWarning: No frequency information was provided, so inferred frequency MS will be used.\n",
      "  warnings.warn('No frequency information was'\n",
      "C:\\Users\\Paul\\anaconda3\\lib\\site-packages\\statsmodels\\tsa\\base\\tsa_model.py:524: ValueWarning: No frequency information was provided, so inferred frequency MS will be used.\n",
      "  warnings.warn('No frequency information was'\n"
     ]
    },
    {
     "name": "stdout",
     "output_type": "stream",
     "text": [
      "            prediction  actual  error      mse   rmse\n",
      "2020-01-01  387.054270     368  19.05   362.90  19.05\n",
      "2020-02-01  313.136523     314  -0.86     0.74   0.86\n",
      "2020-03-01  266.576129     281 -14.42   207.94  14.42\n",
      "2020-04-01  208.472375     230 -21.53   463.54  21.53\n",
      "2020-05-01  205.966119     208  -2.03     4.12   2.03\n",
      "2020-06-01  188.598642     182   6.60    43.56   6.60\n",
      "2020-07-01  125.051820     180 -54.95  3019.50  54.95\n",
      "2020-08-01  177.642974     173   4.64    21.53   4.64\n",
      "2020-09-01  244.238747     191  53.24  2834.50  53.24\n",
      "2020-10-01  227.582999     253 -25.42   646.18  25.42\n",
      "2020-11-01  320.199254     254  66.20  4382.44  66.20\n",
      "2020-12-01  324.281737     272  52.28  2733.20  52.28\n",
      "2021-01-01  240.894430     326 -85.11  7243.71  85.11\n",
      "2021-02-01  291.735656     363 -71.26  5077.99  71.26\n"
     ]
    },
    {
     "name": "stderr",
     "output_type": "stream",
     "text": [
      "C:\\Users\\Paul\\anaconda3\\lib\\site-packages\\statsmodels\\tsa\\base\\tsa_model.py:524: ValueWarning: No frequency information was provided, so inferred frequency MS will be used.\n",
      "  warnings.warn('No frequency information was'\n",
      "C:\\Users\\Paul\\anaconda3\\lib\\site-packages\\statsmodels\\tsa\\base\\tsa_model.py:524: ValueWarning: No frequency information was provided, so inferred frequency MS will be used.\n",
      "  warnings.warn('No frequency information was'\n"
     ]
    },
    {
     "name": "stdout",
     "output_type": "stream",
     "text": [
      "            prediction  actual   error       mse    rmse\n",
      "2020-01-01  481.036163     537  -55.96   3131.52   55.96\n",
      "2020-02-01  549.980112     553   -3.02      9.12    3.02\n",
      "2020-03-01  482.333200     378  104.33  10884.75  104.33\n",
      "2020-04-01  258.717535     197   61.72   3809.36   61.72\n",
      "2020-05-01  131.514017     152  -20.49    419.84   20.49\n",
      "2020-06-01  116.450742     112    4.45     19.80    4.45\n",
      "2020-07-01  116.825951      87   29.83    889.83   29.83\n",
      "2020-08-01   84.639225      63   21.64    468.29   21.64\n",
      "2020-09-01   91.629887     105  -13.37    178.76   13.37\n",
      "2020-10-01  145.448721     216  -70.55   4977.30   70.55\n",
      "2020-11-01  340.971913     294   46.97   2206.18   46.97\n",
      "2020-12-01  352.605108     404  -51.39   2640.93   51.39\n",
      "2021-01-01  440.708007     396   44.71   1998.98   44.71\n",
      "2021-02-01  368.496164     346   22.50    506.25   22.50\n"
     ]
    },
    {
     "name": "stderr",
     "output_type": "stream",
     "text": [
      "C:\\Users\\Paul\\anaconda3\\lib\\site-packages\\statsmodels\\tsa\\base\\tsa_model.py:524: ValueWarning: No frequency information was provided, so inferred frequency MS will be used.\n",
      "  warnings.warn('No frequency information was'\n",
      "C:\\Users\\Paul\\anaconda3\\lib\\site-packages\\statsmodels\\tsa\\base\\tsa_model.py:524: ValueWarning: No frequency information was provided, so inferred frequency MS will be used.\n",
      "  warnings.warn('No frequency information was'\n"
     ]
    },
    {
     "name": "stdout",
     "output_type": "stream",
     "text": [
      "            prediction  actual  error      mse   rmse\n",
      "2020-01-01  350.867941     310  40.87  1670.36  40.87\n",
      "2020-02-01  244.844341     289 -44.16  1950.11  44.16\n",
      "2020-03-01  305.549096     268  37.55  1410.00  37.55\n",
      "2020-04-01  219.597196     226  -6.40    40.96   6.40\n",
      "2020-05-01  185.986327     181   4.99    24.90   4.99\n",
      "2020-06-01  135.901264     138  -2.10     4.41   2.10\n",
      "2020-07-01  117.445542     139 -21.55   464.40  21.55\n",
      "2020-08-01  133.614273     136  -2.39     5.71   2.39\n",
      "2020-09-01  155.408289     142  13.41   179.83  13.41\n",
      "2020-10-01  160.277802     172 -11.72   137.36  11.72\n",
      "2020-11-01  239.240123     185  54.24  2941.98  54.24\n",
      "2020-12-01  222.623672     211  11.62   135.02  11.62\n",
      "2021-01-01  234.617370     278 -43.38  1881.82  43.38\n",
      "2021-02-01  260.690272     333 -72.31  5228.74  72.31\n"
     ]
    },
    {
     "name": "stderr",
     "output_type": "stream",
     "text": [
      "C:\\Users\\Paul\\anaconda3\\lib\\site-packages\\statsmodels\\tsa\\base\\tsa_model.py:524: ValueWarning: No frequency information was provided, so inferred frequency MS will be used.\n",
      "  warnings.warn('No frequency information was'\n",
      "C:\\Users\\Paul\\anaconda3\\lib\\site-packages\\statsmodels\\tsa\\base\\tsa_model.py:524: ValueWarning: No frequency information was provided, so inferred frequency MS will be used.\n",
      "  warnings.warn('No frequency information was'\n"
     ]
    },
    {
     "name": "stdout",
     "output_type": "stream",
     "text": [
      "            prediction  actual   error       mse    rmse\n",
      "2020-01-01  541.050489     529   12.05    145.20   12.05\n",
      "2020-02-01  452.526211     470  -17.47    305.20   17.47\n",
      "2020-03-01  483.644979     349  134.64  18127.93  134.64\n",
      "2020-04-01  233.373817     216   17.37    301.72   17.37\n",
      "2020-05-01  130.478819     184  -53.52   2864.39   53.52\n",
      "2020-06-01  129.997671     153  -23.00    529.00   23.00\n",
      "2020-07-01  138.281632     146   -7.72     59.60    7.72\n",
      "2020-08-01  133.158949     138   -4.84     23.43    4.84\n",
      "2020-09-01  212.630704     154   58.63   3437.48   58.63\n",
      "2020-10-01  185.797079     212  -26.20    686.44   26.20\n",
      "2020-11-01  398.005832     291  107.01  11451.14  107.01\n",
      "2020-12-01  382.810633     402  -19.19    368.26   19.19\n",
      "2021-01-01  401.448400     473  -71.55   5119.40   71.55\n",
      "2021-02-01  441.766868     514  -72.23   5217.17   72.23\n"
     ]
    },
    {
     "name": "stderr",
     "output_type": "stream",
     "text": [
      "C:\\Users\\Paul\\anaconda3\\lib\\site-packages\\statsmodels\\tsa\\base\\tsa_model.py:524: ValueWarning: No frequency information was provided, so inferred frequency MS will be used.\n",
      "  warnings.warn('No frequency information was'\n",
      "C:\\Users\\Paul\\anaconda3\\lib\\site-packages\\statsmodels\\tsa\\base\\tsa_model.py:524: ValueWarning: No frequency information was provided, so inferred frequency MS will be used.\n",
      "  warnings.warn('No frequency information was'\n"
     ]
    },
    {
     "name": "stdout",
     "output_type": "stream",
     "text": [
      "             prediction  actual   error       mse    rmse\n",
      "2020-01-01  1128.577118    1134   -5.42     29.38    5.42\n",
      "2020-02-01  1111.147582    1154  -42.85   1836.12   42.85\n",
      "2020-03-01  1033.284979     845  188.28  35449.36  188.28\n",
      "2020-04-01   598.692900     508   90.69   8224.68   90.69\n",
      "2020-05-01   348.826051     406  -57.17   3268.41   57.17\n",
      "2020-06-01   340.390289     311   29.39    863.77   29.39\n",
      "2020-07-01   281.650263     332  -50.35   2535.12   50.35\n",
      "2020-08-01   335.960815     339   -3.04      9.24    3.04\n",
      "2020-09-01   399.164535     406   -6.84     46.79    6.84\n",
      "2020-10-01   463.701902     605 -141.30  19965.69  141.30\n",
      "2020-11-01   884.820375     923  -38.18   1457.71   38.18\n",
      "2020-12-01  1150.050049    1353 -202.95  41188.70  202.95\n",
      "2021-01-01  1525.491528    1300  225.49  50845.74  225.49\n",
      "2021-02-01  1190.255644    1106   84.26   7099.75   84.26\n"
     ]
    },
    {
     "name": "stderr",
     "output_type": "stream",
     "text": [
      "C:\\Users\\Paul\\anaconda3\\lib\\site-packages\\statsmodels\\tsa\\base\\tsa_model.py:524: ValueWarning: No frequency information was provided, so inferred frequency MS will be used.\n",
      "  warnings.warn('No frequency information was'\n",
      "C:\\Users\\Paul\\anaconda3\\lib\\site-packages\\statsmodels\\tsa\\base\\tsa_model.py:524: ValueWarning: No frequency information was provided, so inferred frequency MS will be used.\n",
      "  warnings.warn('No frequency information was'\n"
     ]
    },
    {
     "name": "stdout",
     "output_type": "stream",
     "text": [
      "            prediction  actual  error      mse   rmse\n",
      "2020-01-01   -4.799214       0  -4.80    23.04   4.80\n",
      "2020-02-01  -51.552131       0 -51.55  2657.40  51.55\n",
      "2020-03-01  -24.258067       0 -24.26   588.55  24.26\n",
      "2020-04-01  -14.783577       0 -14.78   218.45  14.78\n",
      "2020-05-01  -24.428125       0 -24.43   596.82  24.43\n",
      "2020-06-01   -7.386459       0  -7.39    54.61   7.39\n",
      "2020-07-01    8.559676       0   8.56    73.27   8.56\n",
      "2020-08-01   -6.034834       0  -6.03    36.36   6.03\n",
      "2020-09-01   18.330586       0  18.33   335.99  18.33\n",
      "2020-10-01   -1.879436       0  -1.88     3.53   1.88\n",
      "2020-11-01   26.882891       0  26.88   722.53  26.88\n",
      "2020-12-01    4.017794       0   4.02    16.16   4.02\n",
      "2021-01-01   -2.174805       0  -2.17     4.71   2.17\n",
      "2021-02-01  -25.646012       0 -25.65   657.92  25.65\n"
     ]
    },
    {
     "name": "stderr",
     "output_type": "stream",
     "text": [
      "C:\\Users\\Paul\\anaconda3\\lib\\site-packages\\statsmodels\\tsa\\base\\tsa_model.py:524: ValueWarning: No frequency information was provided, so inferred frequency MS will be used.\n",
      "  warnings.warn('No frequency information was'\n",
      "C:\\Users\\Paul\\anaconda3\\lib\\site-packages\\statsmodels\\tsa\\base\\tsa_model.py:524: ValueWarning: No frequency information was provided, so inferred frequency MS will be used.\n",
      "  warnings.warn('No frequency information was'\n"
     ]
    },
    {
     "name": "stdout",
     "output_type": "stream",
     "text": [
      "            prediction  actual  error      mse   rmse\n",
      "2020-01-01   81.855702      80   1.86     3.46   1.86\n",
      "2020-02-01   74.298408      78  -3.70    13.69   3.70\n",
      "2020-03-01   78.511929      82  -3.49    12.18   3.49\n",
      "2020-04-01   75.806805      79  -3.19    10.18   3.19\n",
      "2020-05-01   71.025301      74  -2.97     8.82   2.97\n",
      "2020-06-01   68.581244      66   2.58     6.66   2.58\n",
      "2020-07-01   69.420480      66   3.42    11.70   3.42\n",
      "2020-08-01   67.163094      66   1.16     1.35   1.16\n",
      "2020-09-01   64.464736      66  -1.54     2.37   1.54\n",
      "2020-10-01   68.551901      78  -9.45    89.30   9.45\n",
      "2020-11-01   92.700096      79  13.70   187.69  13.70\n",
      "2020-12-01   77.811757      85  -7.19    51.70   7.19\n",
      "2021-01-01   96.844790      64  32.84  1078.47  32.84\n",
      "2021-02-01   38.232400      31   7.23    52.27   7.23\n"
     ]
    },
    {
     "name": "stderr",
     "output_type": "stream",
     "text": [
      "C:\\Users\\Paul\\anaconda3\\lib\\site-packages\\statsmodels\\tsa\\base\\tsa_model.py:524: ValueWarning: No frequency information was provided, so inferred frequency MS will be used.\n",
      "  warnings.warn('No frequency information was'\n",
      "C:\\Users\\Paul\\anaconda3\\lib\\site-packages\\statsmodels\\tsa\\base\\tsa_model.py:524: ValueWarning: No frequency information was provided, so inferred frequency MS will be used.\n",
      "  warnings.warn('No frequency information was'\n"
     ]
    },
    {
     "name": "stdout",
     "output_type": "stream",
     "text": [
      "            prediction  actual   error       mse    rmse\n",
      "2020-01-01  267.076753     346  -78.92   6228.37   78.92\n",
      "2020-02-01  273.858330     279   -5.14     26.42    5.14\n",
      "2020-03-01  294.732357     334  -39.27   1542.13   39.27\n",
      "2020-04-01  336.271848     352  -15.73    247.43   15.73\n",
      "2020-05-01  275.562054     320  -44.44   1974.91   44.44\n",
      "2020-06-01  279.343981     278    1.34      1.80    1.34\n",
      "2020-07-01  229.316281     233   -3.68     13.54    3.68\n",
      "2020-08-01  203.543142     193   10.54    111.09   10.54\n",
      "2020-09-01  251.791790     173   78.79   6207.86   78.79\n",
      "2020-10-01  184.597259     146   38.60   1489.96   38.60\n",
      "2020-11-01  257.345126     152  105.35  11098.62  105.35\n",
      "2020-12-01  206.568366     169   37.57   1411.50   37.57\n",
      "2021-01-01   68.129847     196 -127.87  16350.74  127.87\n",
      "2021-02-01  192.774013     212  -19.23    369.79   19.23\n"
     ]
    },
    {
     "name": "stderr",
     "output_type": "stream",
     "text": [
      "C:\\Users\\Paul\\anaconda3\\lib\\site-packages\\statsmodels\\tsa\\base\\tsa_model.py:524: ValueWarning: No frequency information was provided, so inferred frequency MS will be used.\n",
      "  warnings.warn('No frequency information was'\n",
      "C:\\Users\\Paul\\anaconda3\\lib\\site-packages\\statsmodels\\tsa\\base\\tsa_model.py:524: ValueWarning: No frequency information was provided, so inferred frequency MS will be used.\n",
      "  warnings.warn('No frequency information was'\n"
     ]
    },
    {
     "name": "stdout",
     "output_type": "stream",
     "text": [
      "            prediction  actual   error       mse    rmse\n",
      "2020-01-01  911.798242     935  -23.20    538.24   23.20\n",
      "2020-02-01  866.778549     896  -29.22    853.81   29.22\n",
      "2020-03-01  798.394073     731   67.39   4541.41   67.39\n",
      "2020-04-01  557.816702     525   32.82   1077.15   32.82\n",
      "2020-05-01  379.282373     456  -76.72   5885.96   76.72\n",
      "2020-06-01  393.142567     380   13.14    172.66   13.14\n",
      "2020-07-01  431.731231     352   79.73   6356.87   79.73\n",
      "2020-08-01  347.454371     325   22.45    504.00   22.45\n",
      "2020-09-01  401.200718     423  -21.80    475.24   21.80\n",
      "2020-10-01  516.156299     700 -183.84  33797.15  183.84\n",
      "2020-11-01  957.546884     792  165.55  27406.80  165.55\n",
      "2020-12-01  891.712557     952  -60.29   3634.88   60.29\n",
      "2021-01-01  992.217946     909   83.22   6925.57   83.22\n",
      "2021-02-01  800.235960     766   34.24   1172.38   34.24\n"
     ]
    },
    {
     "name": "stderr",
     "output_type": "stream",
     "text": [
      "C:\\Users\\Paul\\anaconda3\\lib\\site-packages\\statsmodels\\tsa\\base\\tsa_model.py:524: ValueWarning: No frequency information was provided, so inferred frequency MS will be used.\n",
      "  warnings.warn('No frequency information was'\n",
      "C:\\Users\\Paul\\anaconda3\\lib\\site-packages\\statsmodels\\tsa\\base\\tsa_model.py:524: ValueWarning: No frequency information was provided, so inferred frequency MS will be used.\n",
      "  warnings.warn('No frequency information was'\n"
     ]
    },
    {
     "name": "stdout",
     "output_type": "stream",
     "text": [
      "            prediction  actual  error     mse   rmse\n",
      "2020-01-01  104.252718      97   7.25   52.56   7.25\n",
      "2020-02-01   91.018944      94  -2.98    8.88   2.98\n",
      "2020-03-01  104.255046     132 -27.74  769.51  27.74\n",
      "2020-04-01  143.601239     153  -9.40   88.36   9.40\n",
      "2020-05-01  158.127648     138  20.13  405.22  20.13\n",
      "2020-06-01  121.297788     121   0.30    0.09   0.30\n",
      "2020-07-01  117.859704     112   5.86   34.34   5.86\n",
      "2020-08-01  104.233575     104   0.23    0.05   0.22\n",
      "2020-09-01  105.883621     108  -2.12    4.49   2.12\n",
      "2020-10-01  114.072962     130 -15.93  253.76  15.93\n",
      "2020-11-01  137.621256     137   0.62    0.38   0.62\n",
      "2020-12-01  138.390717     156 -17.61  310.11  17.61\n",
      "2021-01-01  175.735922     153  22.74  517.11  22.74\n",
      "2021-02-01  135.378330     135   0.38    0.14   0.37\n"
     ]
    },
    {
     "name": "stderr",
     "output_type": "stream",
     "text": [
      "C:\\Users\\Paul\\anaconda3\\lib\\site-packages\\statsmodels\\tsa\\base\\tsa_model.py:524: ValueWarning: No frequency information was provided, so inferred frequency MS will be used.\n",
      "  warnings.warn('No frequency information was'\n",
      "C:\\Users\\Paul\\anaconda3\\lib\\site-packages\\statsmodels\\tsa\\base\\tsa_model.py:524: ValueWarning: No frequency information was provided, so inferred frequency MS will be used.\n",
      "  warnings.warn('No frequency information was'\n"
     ]
    },
    {
     "name": "stdout",
     "output_type": "stream",
     "text": [
      "            prediction  actual  error      mse   rmse\n",
      "2020-01-01  380.565225     338  42.57  1812.20  42.57\n",
      "2020-02-01  319.353439     323  -3.65    13.32   3.65\n",
      "2020-03-01  337.973822     317  20.97   439.74  20.97\n",
      "2020-04-01  273.085424     284 -10.91   119.03  10.91\n",
      "2020-05-01  230.898576     259 -28.10   789.61  28.10\n",
      "2020-06-01  234.335704     226   8.34    69.56   8.34\n",
      "2020-07-01  210.370407     201   9.37    87.80   9.37\n",
      "2020-08-01  188.865597     177  11.87   140.90  11.87\n",
      "2020-09-01  185.836075     189  -3.16     9.99   3.16\n",
      "2020-10-01  206.457132     236 -29.54   872.61  29.54\n",
      "2020-11-01  301.157695     337 -35.84  1284.51  35.84\n",
      "2020-12-01  400.100527     476 -75.90  5760.81  75.90\n",
      "2021-01-01  545.246166     479  66.25  4389.06  66.25\n",
      "2021-02-01  440.280778     437   3.28    10.76   3.28\n"
     ]
    },
    {
     "name": "stderr",
     "output_type": "stream",
     "text": [
      "C:\\Users\\Paul\\anaconda3\\lib\\site-packages\\statsmodels\\tsa\\base\\tsa_model.py:524: ValueWarning: No frequency information was provided, so inferred frequency MS will be used.\n",
      "  warnings.warn('No frequency information was'\n",
      "C:\\Users\\Paul\\anaconda3\\lib\\site-packages\\statsmodels\\tsa\\base\\tsa_model.py:524: ValueWarning: No frequency information was provided, so inferred frequency MS will be used.\n",
      "  warnings.warn('No frequency information was'\n"
     ]
    },
    {
     "name": "stdout",
     "output_type": "stream",
     "text": [
      "            prediction  actual   error       mse    rmse\n",
      "2020-01-01  546.672680     532   14.67    215.21   14.67\n",
      "2020-02-01  487.043098     497   -9.96     99.20    9.96\n",
      "2020-03-01  461.697120     436   25.70    660.49   25.70\n",
      "2020-04-01  377.463275     345   32.46   1053.65   32.46\n",
      "2020-05-01  269.897787     254   15.90    252.81   15.90\n",
      "2020-06-01  201.220797     173   28.22    796.37   28.22\n",
      "2020-07-01  194.306400     186    8.31     69.06    8.31\n",
      "2020-08-01  199.059948     190    9.06     82.08    9.06\n",
      "2020-09-01  232.152869     216   16.15    260.82   16.15\n",
      "2020-10-01  257.996300     300  -42.00   1764.00   42.00\n",
      "2020-11-01  411.137119     395   16.14    260.50   16.14\n",
      "2020-12-01  564.163869     531   33.16   1099.59   33.16\n",
      "2021-01-01  545.716576     618  -72.28   5224.40   72.28\n",
      "2021-02-01  552.513149     666 -113.49  12879.98  113.49\n"
     ]
    },
    {
     "name": "stderr",
     "output_type": "stream",
     "text": [
      "C:\\Users\\Paul\\anaconda3\\lib\\site-packages\\statsmodels\\tsa\\base\\tsa_model.py:524: ValueWarning: No frequency information was provided, so inferred frequency MS will be used.\n",
      "  warnings.warn('No frequency information was'\n",
      "C:\\Users\\Paul\\anaconda3\\lib\\site-packages\\statsmodels\\tsa\\base\\tsa_model.py:524: ValueWarning: No frequency information was provided, so inferred frequency MS will be used.\n",
      "  warnings.warn('No frequency information was'\n"
     ]
    },
    {
     "name": "stdout",
     "output_type": "stream",
     "text": [
      "            prediction  actual   error       mse    rmse\n",
      "2020-01-01  547.626975     620  -72.37   5237.42   72.37\n",
      "2020-02-01  626.391096     678  -51.61   2663.59   51.61\n",
      "2020-03-01  609.849518     481  128.85  16602.32  128.85\n",
      "2020-04-01  324.490114     271   53.49   2861.18   53.49\n",
      "2020-05-01  211.546875     255  -43.45   1887.90   43.45\n",
      "2020-06-01  226.016871     231   -4.98     24.80    4.98\n",
      "2020-07-01  231.610975     239   -7.39     54.61    7.39\n",
      "2020-08-01  239.075504     238    1.08      1.17    1.08\n",
      "2020-09-01  259.762052     262   -2.24      5.02    2.24\n",
      "2020-10-01  293.305612     346  -52.69   2776.24   52.69\n",
      "2020-11-01  465.958265     450   15.96    254.72   15.96\n",
      "2020-12-01  537.234462     601  -63.77   4066.61   63.77\n",
      "2021-01-01  702.415529     602  100.42  10084.18  100.42\n",
      "2021-02-01  558.563559     546   12.56    157.75   12.56\n"
     ]
    },
    {
     "name": "stderr",
     "output_type": "stream",
     "text": [
      "C:\\Users\\Paul\\anaconda3\\lib\\site-packages\\statsmodels\\tsa\\base\\tsa_model.py:524: ValueWarning: No frequency information was provided, so inferred frequency MS will be used.\n",
      "  warnings.warn('No frequency information was'\n",
      "C:\\Users\\Paul\\anaconda3\\lib\\site-packages\\statsmodels\\tsa\\base\\tsa_model.py:524: ValueWarning: No frequency information was provided, so inferred frequency MS will be used.\n",
      "  warnings.warn('No frequency information was'\n"
     ]
    },
    {
     "name": "stdout",
     "output_type": "stream",
     "text": [
      "            prediction  actual  error      mse   rmse\n",
      "2020-01-01  418.211499     490 -71.79  5153.80  71.79\n",
      "2020-02-01  502.080549     535 -32.92  1083.73  32.92\n",
      "2020-03-01  451.605711     383  68.61  4707.33  68.61\n",
      "2020-04-01  249.865076     221  28.87   833.48  28.87\n",
      "2020-05-01  176.252410     205 -28.75   826.56  28.75\n",
      "2020-06-01  187.792218     150  37.79  1428.08  37.79\n",
      "2020-07-01  112.559898      93  19.56   382.59  19.56\n",
      "2020-08-01   74.487556      64  10.49   110.04  10.49\n",
      "2020-09-01   97.873837      83  14.87   221.12  14.87\n",
      "2020-10-01  112.861856     137 -24.14   582.74  24.14\n",
      "2020-11-01  257.668256     204  53.67  2880.47  53.67\n",
      "2020-12-01  277.429883     294 -16.57   274.56  16.57\n",
      "2021-01-01  343.233881     274  69.23  4792.79  69.23\n",
      "2021-02-01  226.076263     223   3.08     9.49   3.08\n"
     ]
    },
    {
     "name": "stderr",
     "output_type": "stream",
     "text": [
      "C:\\Users\\Paul\\anaconda3\\lib\\site-packages\\statsmodels\\tsa\\base\\tsa_model.py:524: ValueWarning: No frequency information was provided, so inferred frequency MS will be used.\n",
      "  warnings.warn('No frequency information was'\n",
      "C:\\Users\\Paul\\anaconda3\\lib\\site-packages\\statsmodels\\tsa\\base\\tsa_model.py:524: ValueWarning: No frequency information was provided, so inferred frequency MS will be used.\n",
      "  warnings.warn('No frequency information was'\n"
     ]
    },
    {
     "name": "stdout",
     "output_type": "stream",
     "text": [
      "            prediction  actual   error       mse    rmse\n",
      "2020-01-01  531.281592     489   42.28   1787.60   42.28\n",
      "2020-02-01  450.828048     450    0.83      0.69    0.83\n",
      "2020-03-01  427.691976     385   42.69   1822.44   42.69\n",
      "2020-04-01  322.517488     296   26.52    703.31   26.52\n",
      "2020-05-01  215.951310     243  -27.05    731.70   27.05\n",
      "2020-06-01  201.575949     193    8.58     73.62    8.58\n",
      "2020-07-01  181.888296     194  -12.11    146.65   12.11\n",
      "2020-08-01  186.915085     191   -4.08     16.65    4.08\n",
      "2020-09-01  227.610936     231   -3.39     11.49    3.39\n",
      "2020-10-01  268.587633     348  -79.41   6305.95   79.41\n",
      "2020-11-01  477.368232     369  108.37  11744.06  108.37\n",
      "2020-12-01  438.855095     421   17.86    318.98   17.86\n",
      "2021-01-01  404.435228     486  -81.56   6652.03   81.56\n",
      "2021-02-01  476.100605     522  -45.90   2106.81   45.90\n"
     ]
    },
    {
     "name": "stderr",
     "output_type": "stream",
     "text": [
      "C:\\Users\\Paul\\anaconda3\\lib\\site-packages\\statsmodels\\tsa\\base\\tsa_model.py:524: ValueWarning: No frequency information was provided, so inferred frequency MS will be used.\n",
      "  warnings.warn('No frequency information was'\n",
      "C:\\Users\\Paul\\anaconda3\\lib\\site-packages\\statsmodels\\tsa\\base\\tsa_model.py:524: ValueWarning: No frequency information was provided, so inferred frequency MS will be used.\n",
      "  warnings.warn('No frequency information was'\n"
     ]
    },
    {
     "name": "stdout",
     "output_type": "stream",
     "text": [
      "            prediction  actual   error       mse    rmse\n",
      "2020-01-01  464.566741     575 -110.43  12194.78  110.43\n",
      "2020-02-01  613.361594     644  -30.64    938.81   30.64\n",
      "2020-03-01  649.944803     541  108.94  11867.92  108.94\n",
      "2020-04-01  405.781631     405    0.78      0.61    0.78\n",
      "2020-05-01  297.259337     303   -5.74     32.95    5.74\n",
      "2020-06-01  214.415384     212    2.42      5.86    2.42\n",
      "2020-07-01  172.941934     215  -42.06   1769.04   42.06\n",
      "2020-08-01  219.941475     212    7.94     63.04    7.94\n",
      "2020-09-01  252.257853     231   21.26    451.99   21.26\n",
      "2020-10-01  262.158288     303  -40.84   1667.91   40.84\n",
      "2020-11-01  440.003126     385   55.00   3025.00   55.00\n",
      "2020-12-01  450.661547     505  -54.34   2952.84   54.34\n",
      "2021-01-01  607.791179     671  -63.21   3995.50   63.21\n",
      "2021-02-01  709.869407     811 -101.13  10227.28  101.13\n"
     ]
    },
    {
     "name": "stderr",
     "output_type": "stream",
     "text": [
      "C:\\Users\\Paul\\anaconda3\\lib\\site-packages\\statsmodels\\tsa\\base\\tsa_model.py:524: ValueWarning: No frequency information was provided, so inferred frequency MS will be used.\n",
      "  warnings.warn('No frequency information was'\n",
      "C:\\Users\\Paul\\anaconda3\\lib\\site-packages\\statsmodels\\tsa\\base\\tsa_model.py:524: ValueWarning: No frequency information was provided, so inferred frequency MS will be used.\n",
      "  warnings.warn('No frequency information was'\n"
     ]
    },
    {
     "name": "stdout",
     "output_type": "stream",
     "text": [
      "            prediction  actual   error       mse    rmse\n",
      "2020-01-01  710.912558     731  -20.09    403.61   20.09\n",
      "2020-02-01  667.926779     701  -33.07   1093.62   33.07\n",
      "2020-03-01  584.565622     510   74.57   5560.68   74.57\n",
      "2020-04-01  333.348090     301   32.35   1046.52   32.35\n",
      "2020-05-01  212.376551     229  -16.62    276.22   16.62\n",
      "2020-06-01  159.239402     165   -5.76     33.18    5.76\n",
      "2020-07-01  149.864334     197  -47.14   2222.18   47.14\n",
      "2020-08-01  198.522307     216  -17.48    305.55   17.48\n",
      "2020-09-01  281.276625     261   20.28    411.28   20.28\n",
      "2020-10-01  321.479490     396  -74.52   5553.23   74.52\n",
      "2020-11-01  638.335475     577   61.34   3762.60   61.34\n",
      "2020-12-01  744.856901     822  -77.14   5950.58   77.14\n",
      "2021-01-01  862.485167     743  119.49  14277.86  119.49\n",
      "2021-02-01  626.167007     571   55.17   3043.73   55.17\n"
     ]
    },
    {
     "name": "stderr",
     "output_type": "stream",
     "text": [
      "C:\\Users\\Paul\\anaconda3\\lib\\site-packages\\statsmodels\\tsa\\base\\tsa_model.py:524: ValueWarning: No frequency information was provided, so inferred frequency MS will be used.\n",
      "  warnings.warn('No frequency information was'\n",
      "C:\\Users\\Paul\\anaconda3\\lib\\site-packages\\statsmodels\\tsa\\base\\tsa_model.py:524: ValueWarning: No frequency information was provided, so inferred frequency MS will be used.\n",
      "  warnings.warn('No frequency information was'\n"
     ]
    },
    {
     "name": "stdout",
     "output_type": "stream",
     "text": [
      "             prediction  actual   error       mse    rmse\n",
      "2020-01-01  1135.999644    1376 -240.00  57600.00  240.00\n",
      "2020-02-01  1388.490415    1457  -68.51   4693.62   68.51\n",
      "2020-03-01  1130.848300     996  134.85  18184.52  134.85\n",
      "2020-04-01   741.625091     515  226.63  51361.16  226.63\n",
      "2020-05-01   467.198163     379   88.20   7779.24   88.20\n",
      "2020-06-01   299.451438     260   39.45   1556.30   39.45\n",
      "2020-07-01    66.613232     263 -196.39  38569.03  196.39\n",
      "2020-08-01   219.573498     260  -40.43   1634.58   40.43\n",
      "2020-09-01   332.525848     243   89.53   8015.62   89.53\n",
      "2020-10-01   299.525577     231   68.53   4696.36   68.53\n",
      "2020-11-01   624.624416     506  118.62  14070.70  118.62\n",
      "2020-12-01   854.465437     857   -2.53      6.40    2.53\n",
      "2021-01-01   888.229269     888    0.23      0.05    0.22\n",
      "2021-02-01   839.052822     843   -3.95     15.60    3.95\n"
     ]
    },
    {
     "name": "stderr",
     "output_type": "stream",
     "text": [
      "C:\\Users\\Paul\\anaconda3\\lib\\site-packages\\statsmodels\\tsa\\base\\tsa_model.py:524: ValueWarning: No frequency information was provided, so inferred frequency MS will be used.\n",
      "  warnings.warn('No frequency information was'\n",
      "C:\\Users\\Paul\\anaconda3\\lib\\site-packages\\statsmodels\\tsa\\base\\tsa_model.py:524: ValueWarning: No frequency information was provided, so inferred frequency MS will be used.\n",
      "  warnings.warn('No frequency information was'\n"
     ]
    },
    {
     "name": "stdout",
     "output_type": "stream",
     "text": [
      "             prediction  actual   error       mse    rmse\n",
      "2020-01-01  1270.896356    1161  109.90  12078.01  109.90\n",
      "2020-02-01  1058.699105    1085  -26.30    691.69   26.30\n",
      "2020-03-01  1043.049065     854  189.05  35739.90  189.05\n",
      "2020-04-01   615.359569     583   32.36   1047.17   32.36\n",
      "2020-05-01   351.545570     531 -179.45  32202.30  179.45\n",
      "2020-06-01   426.441443     465  -38.56   1486.87   38.56\n",
      "2020-07-01   444.503543     468  -23.50    552.25   23.50\n",
      "2020-08-01   460.337824     457    3.34     11.16    3.34\n",
      "2020-09-01   588.462488     508   80.46   6473.81   80.46\n",
      "2020-10-01   597.735287     681  -83.26   6932.23   83.26\n",
      "2020-11-01   947.161871     992  -44.84   2010.63   44.84\n",
      "2020-12-01  1212.172045    1417 -204.83  41955.33  204.83\n",
      "2021-01-01  1556.012376    1475   81.01   6562.62   81.01\n",
      "2021-02-01  1357.752486    1406  -48.25   2328.06   48.25\n"
     ]
    },
    {
     "name": "stderr",
     "output_type": "stream",
     "text": [
      "C:\\Users\\Paul\\anaconda3\\lib\\site-packages\\statsmodels\\tsa\\base\\tsa_model.py:524: ValueWarning: No frequency information was provided, so inferred frequency MS will be used.\n",
      "  warnings.warn('No frequency information was'\n",
      "C:\\Users\\Paul\\anaconda3\\lib\\site-packages\\statsmodels\\tsa\\base\\tsa_model.py:524: ValueWarning: No frequency information was provided, so inferred frequency MS will be used.\n",
      "  warnings.warn('No frequency information was'\n"
     ]
    },
    {
     "name": "stdout",
     "output_type": "stream",
     "text": [
      "            prediction  actual   error       mse    rmse\n",
      "2020-01-01  369.919001     349   20.92    437.65   20.92\n",
      "2020-02-01  306.590916     318  -11.41    130.19   11.41\n",
      "2020-03-01  339.422559     365  -25.58    654.34   25.58\n",
      "2020-04-01  371.242718     373   -1.76      3.10    1.76\n",
      "2020-05-01  368.195791     319   49.20   2420.64   49.20\n",
      "2020-06-01  260.368674     263   -2.63      6.92    2.63\n",
      "2020-07-01  248.350260     281  -32.65   1066.02   32.65\n",
      "2020-08-01  296.757654     287    9.76     95.26    9.76\n",
      "2020-09-01  295.565296     372  -76.43   5841.54   76.43\n",
      "2020-10-01  457.152068     609 -151.85  23058.42  151.85\n",
      "2020-11-01  801.252869     568  233.25  54405.56  233.25\n",
      "2020-12-01  460.938638     559  -98.06   9615.76   98.06\n",
      "2021-01-01  595.227974     576   19.23    369.79   19.23\n",
      "2021-02-01  539.651766     540   -0.35      0.12    0.35\n"
     ]
    },
    {
     "name": "stderr",
     "output_type": "stream",
     "text": [
      "C:\\Users\\Paul\\anaconda3\\lib\\site-packages\\statsmodels\\tsa\\base\\tsa_model.py:524: ValueWarning: No frequency information was provided, so inferred frequency MS will be used.\n",
      "  warnings.warn('No frequency information was'\n",
      "C:\\Users\\Paul\\anaconda3\\lib\\site-packages\\statsmodels\\tsa\\base\\tsa_model.py:524: ValueWarning: No frequency information was provided, so inferred frequency MS will be used.\n",
      "  warnings.warn('No frequency information was'\n"
     ]
    },
    {
     "name": "stdout",
     "output_type": "stream",
     "text": [
      "            prediction  actual   error       mse    rmse\n",
      "2020-01-01  545.160996     615  -69.84   4877.63   69.84\n",
      "2020-02-01  591.433408     631  -39.57   1565.78   39.57\n",
      "2020-03-01  551.919831     430  121.92  14864.49  121.92\n",
      "2020-04-01  270.051601     221   49.05   2405.90   49.05\n",
      "2020-05-01   59.066586     167 -107.93  11648.88  107.93\n",
      "2020-06-01   90.335535     119  -28.66    821.40   28.66\n",
      "2020-07-01   99.825001     114  -14.17    200.79   14.17\n",
      "2020-08-01   97.464972     108  -10.54    111.09   10.54\n",
      "2020-09-01  229.705825     130   99.71   9942.08   99.71\n",
      "2020-10-01  194.409023     195   -0.59      0.35    0.59\n",
      "2020-11-01  333.433340     368  -34.57   1195.08   34.57\n",
      "2020-12-01  516.281334     593  -76.72   5885.96   76.72\n",
      "2021-01-01  653.902329     495  158.90  25249.21  158.90\n",
      "2021-02-01  437.335115     326  111.34  12396.60  111.34\n"
     ]
    },
    {
     "name": "stderr",
     "output_type": "stream",
     "text": [
      "C:\\Users\\Paul\\anaconda3\\lib\\site-packages\\statsmodels\\tsa\\base\\tsa_model.py:524: ValueWarning: No frequency information was provided, so inferred frequency MS will be used.\n",
      "  warnings.warn('No frequency information was'\n",
      "C:\\Users\\Paul\\anaconda3\\lib\\site-packages\\statsmodels\\tsa\\base\\tsa_model.py:524: ValueWarning: No frequency information was provided, so inferred frequency MS will be used.\n",
      "  warnings.warn('No frequency information was'\n"
     ]
    },
    {
     "name": "stdout",
     "output_type": "stream",
     "text": [
      "            prediction  actual   error       mse    rmse\n",
      "2020-01-01  447.776157     382   65.78   4327.01   65.78\n",
      "2020-02-01  309.701483     316   -6.30     39.69    6.30\n",
      "2020-03-01  401.952700     351   50.95   2595.90   50.95\n",
      "2020-04-01  337.993795     350  -12.01    144.24   12.01\n",
      "2020-05-01  284.831071     341  -56.17   3155.07   56.17\n",
      "2020-06-01  304.604918     316  -11.40    129.96   11.40\n",
      "2020-07-01  319.340883     329   -9.66     93.32    9.66\n",
      "2020-08-01  324.322874     331   -6.68     44.62    6.68\n",
      "2020-09-01  373.749041     416  -42.25   1785.06   42.25\n",
      "2020-10-01  489.401321     656 -166.60  27755.56  166.60\n",
      "2020-11-01  738.286690     586  152.29  23192.24  152.29\n",
      "2020-12-01  526.832727     547  -20.17    406.83   20.17\n",
      "2021-01-01  521.541329     545  -23.46    550.37   23.46\n",
      "2021-02-01  502.367593     490   12.37    153.02   12.37\n"
     ]
    },
    {
     "name": "stderr",
     "output_type": "stream",
     "text": [
      "C:\\Users\\Paul\\anaconda3\\lib\\site-packages\\statsmodels\\tsa\\base\\tsa_model.py:524: ValueWarning: No frequency information was provided, so inferred frequency MS will be used.\n",
      "  warnings.warn('No frequency information was'\n",
      "C:\\Users\\Paul\\anaconda3\\lib\\site-packages\\statsmodels\\tsa\\base\\tsa_model.py:524: ValueWarning: No frequency information was provided, so inferred frequency MS will be used.\n",
      "  warnings.warn('No frequency information was'\n"
     ]
    },
    {
     "name": "stdout",
     "output_type": "stream",
     "text": [
      "            prediction  actual   error       mse    rmse\n",
      "2020-01-01  601.561315     477  124.56  15515.19  124.56\n",
      "2020-02-01  372.214778     401  -28.79    828.86   28.79\n",
      "2020-03-01  464.105357     389   75.11   5641.51   75.11\n",
      "2020-04-01  324.085807     345  -20.91    437.23   20.91\n",
      "2020-05-01  321.942883     304   17.94    321.84   17.94\n",
      "2020-06-01  255.812270     258   -2.19      4.80    2.19\n",
      "2020-07-01  236.580481     235    1.58      2.50    1.58\n",
      "2020-08-01  210.932733     211   -0.07      0.00    0.00\n",
      "2020-09-01  203.475045     204   -0.52      0.27    0.52\n",
      "2020-10-01  214.551078     212    2.55      6.50    2.55\n",
      "2020-11-01  272.494173     265    7.49     56.10    7.49\n",
      "2020-12-01  325.844879     345  -19.16    367.11   19.16\n",
      "2021-01-01  348.719045     450 -101.28  10257.64  101.28\n",
      "2021-02-01  472.521025     538  -65.48   4287.63   65.48\n"
     ]
    },
    {
     "name": "stderr",
     "output_type": "stream",
     "text": [
      "C:\\Users\\Paul\\anaconda3\\lib\\site-packages\\statsmodels\\tsa\\base\\tsa_model.py:524: ValueWarning: No frequency information was provided, so inferred frequency MS will be used.\n",
      "  warnings.warn('No frequency information was'\n",
      "C:\\Users\\Paul\\anaconda3\\lib\\site-packages\\statsmodels\\tsa\\base\\tsa_model.py:524: ValueWarning: No frequency information was provided, so inferred frequency MS will be used.\n",
      "  warnings.warn('No frequency information was'\n"
     ]
    },
    {
     "name": "stdout",
     "output_type": "stream",
     "text": [
      "            prediction  actual  error      mse   rmse\n",
      "2020-01-01  259.932130     230  29.93   895.80  29.93\n",
      "2020-02-01  203.279568     211  -7.72    59.60   7.72\n",
      "2020-03-01  206.317591     214  -7.68    58.98   7.68\n",
      "2020-04-01  194.741836     197  -2.26     5.11   2.26\n",
      "2020-05-01  203.503064     156  47.50  2256.25  47.50\n",
      "2020-06-01  122.063547     119   3.06     9.36   3.06\n",
      "2020-07-01   74.655773      96 -21.34   455.40  21.34\n",
      "2020-08-01   88.782658      77  11.78   138.77  11.78\n",
      "2020-09-01   90.308638      97  -6.69    44.76   6.69\n",
      "2020-10-01  119.108277     156 -36.89  1360.87  36.89\n",
      "2020-11-01  207.129646     183  24.13   582.26  24.13\n",
      "2020-12-01  197.061970     229 -31.94  1020.16  31.94\n",
      "2021-01-01  261.647379     298 -36.35  1321.32  36.35\n",
      "2021-02-01  306.456157     356 -49.54  2454.21  49.54\n"
     ]
    },
    {
     "name": "stderr",
     "output_type": "stream",
     "text": [
      "C:\\Users\\Paul\\anaconda3\\lib\\site-packages\\statsmodels\\tsa\\base\\tsa_model.py:524: ValueWarning: No frequency information was provided, so inferred frequency MS will be used.\n",
      "  warnings.warn('No frequency information was'\n",
      "C:\\Users\\Paul\\anaconda3\\lib\\site-packages\\statsmodels\\tsa\\base\\tsa_model.py:524: ValueWarning: No frequency information was provided, so inferred frequency MS will be used.\n",
      "  warnings.warn('No frequency information was'\n"
     ]
    },
    {
     "name": "stdout",
     "output_type": "stream",
     "text": [
      "            prediction  actual  error      mse   rmse\n",
      "2020-01-01  351.898955     302  49.90  2490.01  49.90\n",
      "2020-02-01  259.382001     289 -29.62   877.34  29.62\n",
      "2020-03-01  324.373053     366 -41.63  1733.06  41.63\n",
      "2020-04-01  368.970509     400 -31.03   962.86  31.03\n",
      "2020-05-01  401.470053     348  53.47  2859.04  53.47\n",
      "2020-06-01  279.423085     292 -12.58   158.26  12.58\n",
      "2020-07-01  303.127835     270  33.13  1097.60  33.13\n",
      "2020-08-01  242.429145     247  -4.57    20.88   4.57\n",
      "2020-09-01  243.249524     243   0.25     0.06   0.24\n",
      "2020-10-01  259.008269     259   0.01     0.00   0.00\n",
      "2020-11-01  236.059083     225  11.06   122.32  11.06\n",
      "2020-12-01  217.372461     202  15.37   236.24  15.37\n",
      "2021-01-01  227.953668     183  44.95  2020.50  44.95\n",
      "2021-02-01  140.238246     140   0.24     0.06   0.24\n"
     ]
    },
    {
     "name": "stderr",
     "output_type": "stream",
     "text": [
      "C:\\Users\\Paul\\anaconda3\\lib\\site-packages\\statsmodels\\tsa\\base\\tsa_model.py:524: ValueWarning: No frequency information was provided, so inferred frequency MS will be used.\n",
      "  warnings.warn('No frequency information was'\n",
      "C:\\Users\\Paul\\anaconda3\\lib\\site-packages\\statsmodels\\tsa\\base\\tsa_model.py:524: ValueWarning: No frequency information was provided, so inferred frequency MS will be used.\n",
      "  warnings.warn('No frequency information was'\n"
     ]
    },
    {
     "name": "stdout",
     "output_type": "stream",
     "text": [
      "            prediction  actual   error       mse    rmse\n",
      "2020-01-01  569.584223     576   -6.42     41.22    6.42\n",
      "2020-02-01  532.965245     585  -52.03   2707.12   52.03\n",
      "2020-03-01  499.147644     484   15.15    229.52   15.15\n",
      "2020-04-01  333.182642     354  -20.82    433.47   20.82\n",
      "2020-05-01  349.506417     333   16.51    272.58   16.51\n",
      "2020-06-01  297.401454     300   -2.60      6.76    2.60\n",
      "2020-07-01  344.541233     310   34.54   1193.01   34.54\n",
      "2020-08-01  316.199116     309    7.20     51.84    7.20\n",
      "2020-09-01  333.025244     324    9.03     81.54    9.03\n",
      "2020-10-01  352.658532     391  -38.34   1469.96   38.34\n",
      "2020-11-01  472.648622     456   16.65    277.22   16.65\n",
      "2020-12-01  520.633704     561  -40.37   1629.74   40.37\n",
      "2021-01-01  636.987903     494  142.99  20446.14  142.99\n",
      "2021-02-01  421.047352     361   60.05   3606.00   60.05\n"
     ]
    },
    {
     "name": "stderr",
     "output_type": "stream",
     "text": [
      "C:\\Users\\Paul\\anaconda3\\lib\\site-packages\\statsmodels\\tsa\\base\\tsa_model.py:524: ValueWarning: No frequency information was provided, so inferred frequency MS will be used.\n",
      "  warnings.warn('No frequency information was'\n",
      "C:\\Users\\Paul\\anaconda3\\lib\\site-packages\\statsmodels\\tsa\\base\\tsa_model.py:524: ValueWarning: No frequency information was provided, so inferred frequency MS will be used.\n",
      "  warnings.warn('No frequency information was'\n"
     ]
    },
    {
     "name": "stdout",
     "output_type": "stream",
     "text": [
      "            prediction  actual   error       mse    rmse\n",
      "2020-01-01  456.464500     336  120.46  14510.61  120.46\n",
      "2020-02-01  293.911597     296   -2.09      4.37    2.09\n",
      "2020-03-01  261.391319     296  -34.61   1197.85   34.61\n",
      "2020-04-01  229.934620     271  -41.07   1686.74   41.07\n",
      "2020-05-01  242.786302     238    4.79     22.94    4.79\n",
      "2020-06-01  192.868933     202   -9.13     83.36    9.13\n",
      "2020-07-01  178.975815     198  -19.02    361.76   19.02\n",
      "2020-08-01  189.721414     191   -1.28      1.64    1.28\n",
      "2020-09-01  211.025942     206    5.03     25.30    5.03\n",
      "2020-10-01  226.480519     266  -39.52   1561.83   39.52\n",
      "2020-11-01  349.250901     340    9.25     85.56    9.25\n",
      "2020-12-01  387.020630     450  -62.98   3966.48   62.98\n",
      "2021-01-01  559.953934     517   42.95   1844.70   42.95\n",
      "2021-02-01  498.988526     549  -50.01   2501.00   50.01\n"
     ]
    },
    {
     "name": "stderr",
     "output_type": "stream",
     "text": [
      "C:\\Users\\Paul\\anaconda3\\lib\\site-packages\\statsmodels\\tsa\\base\\tsa_model.py:524: ValueWarning: No frequency information was provided, so inferred frequency MS will be used.\n",
      "  warnings.warn('No frequency information was'\n",
      "C:\\Users\\Paul\\anaconda3\\lib\\site-packages\\statsmodels\\tsa\\base\\tsa_model.py:524: ValueWarning: No frequency information was provided, so inferred frequency MS will be used.\n",
      "  warnings.warn('No frequency information was'\n"
     ]
    },
    {
     "name": "stdout",
     "output_type": "stream",
     "text": [
      "            prediction  actual   error       mse    rmse\n",
      "2020-01-01  470.477755     450   20.48    419.43   20.48\n",
      "2020-02-01  408.630606     422  -13.37    178.76   13.37\n",
      "2020-03-01  452.511052     454   -1.49      2.22    1.49\n",
      "2020-04-01  427.309093     444  -16.69    278.56   16.69\n",
      "2020-05-01  407.226080     428  -20.77    431.39   20.77\n",
      "2020-06-01  396.012633     393    3.01      9.06    3.01\n",
      "2020-07-01  387.335307     390   -2.66      7.08    2.66\n",
      "2020-08-01  382.634918     377    5.63     31.70    5.63\n",
      "2020-09-01  390.639434     362   28.64    820.25   28.64\n",
      "2020-10-01  380.828953     370   10.83    117.29   10.83\n",
      "2020-11-01  399.560151     329   70.56   4978.71   70.56\n",
      "2020-12-01  341.913211     306   35.91   1289.53   35.91\n",
      "2021-01-01  301.601295     414 -112.40  12633.76  112.40\n",
      "2021-02-01  437.018339     507  -69.98   4897.20   69.98\n"
     ]
    },
    {
     "name": "stderr",
     "output_type": "stream",
     "text": [
      "C:\\Users\\Paul\\anaconda3\\lib\\site-packages\\statsmodels\\tsa\\base\\tsa_model.py:524: ValueWarning: No frequency information was provided, so inferred frequency MS will be used.\n",
      "  warnings.warn('No frequency information was'\n",
      "C:\\Users\\Paul\\anaconda3\\lib\\site-packages\\statsmodels\\tsa\\base\\tsa_model.py:524: ValueWarning: No frequency information was provided, so inferred frequency MS will be used.\n",
      "  warnings.warn('No frequency information was'\n"
     ]
    },
    {
     "name": "stdout",
     "output_type": "stream",
     "text": [
      "             prediction  actual   error        mse    rmse\n",
      "2020-01-01  1044.657232    1086  -41.34    1709.00   41.34\n",
      "2020-02-01   965.287696    1016  -50.71    2571.50   50.71\n",
      "2020-03-01  1112.522375     792  320.52  102733.07  320.52\n",
      "2020-04-01   687.011062     530  157.01   24652.14  157.01\n",
      "2020-05-01   387.041311     544 -156.96   24636.44  156.96\n",
      "2020-06-01   454.489419     524  -69.51    4831.64   69.51\n",
      "2020-07-01   489.325378     536  -46.67    2178.09   46.67\n",
      "2020-08-01   507.444557     533  -25.56     653.31   25.56\n",
      "2020-09-01   598.948512     563   35.95    1292.40   35.95\n",
      "2020-10-01   665.887670     695  -29.11     847.39   29.11\n",
      "2020-11-01   907.337530     710  197.34   38943.08  197.34\n",
      "2020-12-01   801.503137     778   23.50     552.25   23.50\n",
      "2021-01-01   748.347663     733   15.35     235.62   15.35\n",
      "2021-02-01   611.293736     608    3.29      10.82    3.29\n"
     ]
    },
    {
     "name": "stderr",
     "output_type": "stream",
     "text": [
      "C:\\Users\\Paul\\anaconda3\\lib\\site-packages\\statsmodels\\tsa\\base\\tsa_model.py:524: ValueWarning: No frequency information was provided, so inferred frequency MS will be used.\n",
      "  warnings.warn('No frequency information was'\n",
      "C:\\Users\\Paul\\anaconda3\\lib\\site-packages\\statsmodels\\tsa\\base\\tsa_model.py:524: ValueWarning: No frequency information was provided, so inferred frequency MS will be used.\n",
      "  warnings.warn('No frequency information was'\n"
     ]
    },
    {
     "name": "stdout",
     "output_type": "stream",
     "text": [
      "            prediction  actual   error       mse    rmse\n",
      "2020-01-01  738.523011     744   -5.48     30.03    5.48\n",
      "2020-02-01  725.123478     757  -31.88   1016.33   31.88\n",
      "2020-03-01  706.240039     572  134.24  18020.38  134.24\n",
      "2020-04-01  401.670332     366   35.67   1272.35   35.67\n",
      "2020-05-01  275.058445     314  -38.94   1516.32   38.94\n",
      "2020-06-01  269.105333     257   12.11    146.65   12.11\n",
      "2020-07-01  225.321992     208   17.32    299.98   17.32\n",
      "2020-08-01  191.486570     165   26.49    701.72   26.49\n",
      "2020-09-01  244.409670     169   75.41   5686.67   75.41\n",
      "2020-10-01  204.496465     199    5.50     30.25    5.50\n",
      "2020-11-01  271.580068     393 -121.42  14742.82  121.42\n",
      "2020-12-01  544.295678     642  -97.70   9545.29   97.70\n",
      "2021-01-01  756.100510     699   57.10   3260.41   57.10\n",
      "2021-02-01  651.799688     702  -50.20   2520.04   50.20\n"
     ]
    },
    {
     "name": "stderr",
     "output_type": "stream",
     "text": [
      "C:\\Users\\Paul\\anaconda3\\lib\\site-packages\\statsmodels\\tsa\\base\\tsa_model.py:524: ValueWarning: No frequency information was provided, so inferred frequency MS will be used.\n",
      "  warnings.warn('No frequency information was'\n",
      "C:\\Users\\Paul\\anaconda3\\lib\\site-packages\\statsmodels\\tsa\\base\\tsa_model.py:524: ValueWarning: No frequency information was provided, so inferred frequency MS will be used.\n",
      "  warnings.warn('No frequency information was'\n"
     ]
    },
    {
     "name": "stdout",
     "output_type": "stream",
     "text": [
      "            prediction  actual   error       mse    rmse\n",
      "2020-01-01  589.065411     465  124.07  15393.36  124.07\n",
      "2020-02-01  354.008163     380  -25.99    675.48   25.99\n",
      "2020-03-01  369.327959     386  -16.67    277.89   16.67\n",
      "2020-04-01  323.840547     359  -35.16   1236.23   35.16\n",
      "2020-05-01  351.231658     360   -8.77     76.91    8.77\n",
      "2020-06-01  337.787731     340   -2.21      4.88    2.21\n",
      "2020-07-01  334.788972     337   -2.21      4.88    2.21\n",
      "2020-08-01  323.370108     325   -1.63      2.66    1.63\n",
      "2020-09-01  320.868139     352  -31.13    969.08   31.13\n",
      "2020-10-01  386.513642     453  -66.49   4420.92   66.49\n",
      "2020-11-01  595.457010     565   30.46    927.81   30.46\n",
      "2020-12-01  623.635747     732 -108.36  11741.89  108.36\n",
      "2021-01-01  850.940930     844    6.94     48.16    6.94\n",
      "2021-02-01  808.522583     901  -92.48   8552.55   92.48\n"
     ]
    },
    {
     "name": "stderr",
     "output_type": "stream",
     "text": [
      "C:\\Users\\Paul\\anaconda3\\lib\\site-packages\\statsmodels\\tsa\\base\\tsa_model.py:524: ValueWarning: No frequency information was provided, so inferred frequency MS will be used.\n",
      "  warnings.warn('No frequency information was'\n",
      "C:\\Users\\Paul\\anaconda3\\lib\\site-packages\\statsmodels\\tsa\\base\\tsa_model.py:524: ValueWarning: No frequency information was provided, so inferred frequency MS will be used.\n",
      "  warnings.warn('No frequency information was'\n"
     ]
    },
    {
     "name": "stdout",
     "output_type": "stream",
     "text": [
      "            prediction  actual   error       mse    rmse\n",
      "2020-01-01  453.479170     372   81.48   6638.99   81.48\n",
      "2020-02-01  322.598755     333  -10.40    108.16   10.40\n",
      "2020-03-01  331.085462     358  -26.91    724.15   26.91\n",
      "2020-04-01  330.957157     348  -17.04    290.36   17.04\n",
      "2020-05-01  336.403340     344   -7.60     57.76    7.60\n",
      "2020-06-01  325.030249     322    3.03      9.18    3.03\n",
      "2020-07-01  292.837140     328  -35.16   1236.23   35.16\n",
      "2020-08-01  326.390557     326    0.39      0.15    0.39\n",
      "2020-09-01  333.089506     336   -2.91      8.47    2.91\n",
      "2020-10-01  355.449028     398  -42.55   1810.50   42.55\n",
      "2020-11-01  462.522717     362  100.52  10104.27  100.52\n",
      "2020-12-01  345.530962     348   -2.47      6.10    2.47\n",
      "2021-01-01  397.563344     438  -40.44   1635.39   40.44\n",
      "2021-02-01  450.521952     509  -58.48   3419.91   58.48\n"
     ]
    },
    {
     "name": "stderr",
     "output_type": "stream",
     "text": [
      "C:\\Users\\Paul\\anaconda3\\lib\\site-packages\\statsmodels\\tsa\\base\\tsa_model.py:524: ValueWarning: No frequency information was provided, so inferred frequency MS will be used.\n",
      "  warnings.warn('No frequency information was'\n",
      "C:\\Users\\Paul\\anaconda3\\lib\\site-packages\\statsmodels\\tsa\\base\\tsa_model.py:524: ValueWarning: No frequency information was provided, so inferred frequency MS will be used.\n",
      "  warnings.warn('No frequency information was'\n"
     ]
    },
    {
     "name": "stdout",
     "output_type": "stream",
     "text": [
      "             prediction  actual   error       mse    rmse\n",
      "2020-01-01   884.210791    1155 -270.79  73327.22  270.79\n",
      "2020-02-01  1253.912294    1380 -126.09  15898.69  126.09\n",
      "2020-03-01  1331.716439    1048  283.72  80497.04  283.72\n",
      "2020-04-01   781.915729     674  107.92  11646.73  107.92\n",
      "2020-05-01   546.423461     483   63.42   4022.10   63.42\n",
      "2020-06-01   383.967629     317   66.97   4484.98   66.97\n",
      "2020-07-01   258.995401     292  -33.00   1089.00   33.00\n",
      "2020-08-01   291.686779     264   27.69    766.74   27.69\n",
      "2020-09-01   299.235870     412 -112.76  12714.82  112.76\n",
      "2020-10-01   515.856868     803 -287.14  82449.38  287.14\n",
      "2020-11-01  1118.806348     852  266.81  71187.58  266.81\n",
      "2020-12-01   883.198546     970  -86.80   7534.24   86.80\n",
      "2021-01-01  1167.823248    1035  132.82  17641.15  132.82\n",
      "2021-02-01   989.016635    1015  -25.98    674.96   25.98\n"
     ]
    },
    {
     "name": "stderr",
     "output_type": "stream",
     "text": [
      "C:\\Users\\Paul\\anaconda3\\lib\\site-packages\\statsmodels\\tsa\\base\\tsa_model.py:524: ValueWarning: No frequency information was provided, so inferred frequency MS will be used.\n",
      "  warnings.warn('No frequency information was'\n",
      "C:\\Users\\Paul\\anaconda3\\lib\\site-packages\\statsmodels\\tsa\\base\\tsa_model.py:524: ValueWarning: No frequency information was provided, so inferred frequency MS will be used.\n",
      "  warnings.warn('No frequency information was'\n"
     ]
    },
    {
     "name": "stdout",
     "output_type": "stream",
     "text": [
      "             prediction  actual   error        mse    rmse\n",
      "2020-01-01  1809.091816    1754   55.09    3034.91   55.09\n",
      "2020-02-01  1590.756633    1691 -100.24   10048.06  100.24\n",
      "2020-03-01  1574.447337    1245  329.45  108537.30  329.45\n",
      "2020-04-01   860.333769     754  106.33   11306.07  106.33\n",
      "2020-05-01   347.885822     459 -111.11   12345.43  111.11\n",
      "2020-06-01   190.491742     220  -29.51     870.84   29.51\n",
      "2020-07-01   135.101804     206  -70.90    5026.81   70.90\n",
      "2020-08-01   163.772818     192  -28.23     796.93   28.23\n",
      "2020-09-01   529.402988     456   73.40    5387.56   73.40\n",
      "2020-10-01   701.762973    1123 -421.24  177443.14  421.24\n",
      "2020-11-01  1664.206287    1511  153.21   23473.30  153.21\n",
      "2020-12-01  1830.582083    2062 -231.42   53555.22  231.42\n",
      "2021-01-01  2230.654535    2051  179.65   32274.12  179.65\n",
      "2021-02-01  1886.967032    1838   48.97    2398.06   48.97\n"
     ]
    },
    {
     "name": "stderr",
     "output_type": "stream",
     "text": [
      "C:\\Users\\Paul\\anaconda3\\lib\\site-packages\\statsmodels\\tsa\\base\\tsa_model.py:524: ValueWarning: No frequency information was provided, so inferred frequency MS will be used.\n",
      "  warnings.warn('No frequency information was'\n",
      "C:\\Users\\Paul\\anaconda3\\lib\\site-packages\\statsmodels\\tsa\\base\\tsa_model.py:524: ValueWarning: No frequency information was provided, so inferred frequency MS will be used.\n",
      "  warnings.warn('No frequency information was'\n"
     ]
    },
    {
     "name": "stdout",
     "output_type": "stream",
     "text": [
      "            prediction  actual  error      mse   rmse\n",
      "2020-01-01  627.117704     550  77.12  5947.49  77.12\n",
      "2020-02-01  504.969427     521 -16.03   256.96  16.03\n",
      "2020-03-01  465.467042     455  10.47   109.62  10.47\n",
      "2020-04-01  353.282370     359  -5.72    32.72   5.72\n",
      "2020-05-01  305.432406     329 -23.57   555.54  23.57\n",
      "2020-06-01  294.748968     290   4.75    22.56   4.75\n",
      "2020-07-01  273.157039     267   6.16    37.95   6.16\n",
      "2020-08-01  252.405291     244   8.41    70.73   8.41\n",
      "2020-09-01  263.624663     263   0.62     0.38   0.62\n",
      "2020-10-01  297.912908     332 -34.09  1162.13  34.09\n",
      "2020-11-01  475.929265     424  51.93  2696.72  51.93\n",
      "2020-12-01  515.841034     559 -43.16  1862.79  43.16\n",
      "2021-01-01  657.414995     642  15.41   237.47  15.41\n",
      "2021-02-01  621.480800     682 -60.52  3662.67  60.52\n"
     ]
    },
    {
     "name": "stderr",
     "output_type": "stream",
     "text": [
      "C:\\Users\\Paul\\anaconda3\\lib\\site-packages\\statsmodels\\tsa\\base\\tsa_model.py:524: ValueWarning: No frequency information was provided, so inferred frequency MS will be used.\n",
      "  warnings.warn('No frequency information was'\n",
      "C:\\Users\\Paul\\anaconda3\\lib\\site-packages\\statsmodels\\tsa\\base\\tsa_model.py:524: ValueWarning: No frequency information was provided, so inferred frequency MS will be used.\n",
      "  warnings.warn('No frequency information was'\n"
     ]
    },
    {
     "name": "stdout",
     "output_type": "stream",
     "text": [
      "            prediction  actual   error       mse    rmse\n",
      "2020-01-01  557.009708     475   82.01   6725.64   82.01\n",
      "2020-02-01  394.916097     411  -16.08    258.57   16.08\n",
      "2020-03-01  415.020369     488  -72.98   5326.08   72.98\n",
      "2020-04-01  479.331717     511  -31.67   1002.99   31.67\n",
      "2020-05-01  478.557893     450   28.56    815.67   28.56\n",
      "2020-06-01  387.251383     380    7.25     52.56    7.25\n",
      "2020-07-01  374.861338     279   95.86   9189.14   95.86\n",
      "2020-08-01  208.237232     197   11.24    126.34   11.24\n",
      "2020-09-01  247.469715     252   -4.53     20.52    4.53\n",
      "2020-10-01  306.607761     411 -104.39  10897.27  104.39\n",
      "2020-11-01  529.967168     439   90.97   8275.54   90.97\n",
      "2020-12-01  437.895268     502  -64.10   4108.81   64.10\n",
      "2021-01-01  541.127096     565  -23.87    569.78   23.87\n",
      "2021-02-01  527.636700     589  -61.36   3765.05   61.36\n"
     ]
    },
    {
     "name": "stderr",
     "output_type": "stream",
     "text": [
      "C:\\Users\\Paul\\anaconda3\\lib\\site-packages\\statsmodels\\tsa\\base\\tsa_model.py:524: ValueWarning: No frequency information was provided, so inferred frequency MS will be used.\n",
      "  warnings.warn('No frequency information was'\n",
      "C:\\Users\\Paul\\anaconda3\\lib\\site-packages\\statsmodels\\tsa\\base\\tsa_model.py:524: ValueWarning: No frequency information was provided, so inferred frequency MS will be used.\n",
      "  warnings.warn('No frequency information was'\n"
     ]
    },
    {
     "name": "stdout",
     "output_type": "stream",
     "text": [
      "            prediction  actual  error      mse   rmse\n",
      "2020-01-01  415.282895     420  -4.72    22.28   4.72\n",
      "2020-02-01  385.610142     415 -29.39   863.77  29.39\n",
      "2020-03-01  330.069493     302  28.07   787.92  28.07\n",
      "2020-04-01  178.712173     179  -0.29     0.08   0.28\n",
      "2020-05-01  136.796351     152 -15.20   231.04  15.20\n",
      "2020-06-01  107.718220     125 -17.28   298.60  17.28\n",
      "2020-07-01  119.877355     122  -2.12     4.49   2.12\n",
      "2020-08-01  111.251196     116  -4.75    22.56   4.75\n",
      "2020-09-01  137.042492     129   8.04    64.64   8.04\n",
      "2020-10-01  149.852043     173 -23.15   535.92  23.15\n",
      "2020-11-01  324.046730     250  74.05  5483.40  74.05\n",
      "2020-12-01  346.232260     354  -7.77    60.37   7.77\n",
      "2021-01-01  394.806419     304  90.81  8246.46  90.81\n",
      "2021-02-01  227.730935     214  13.73   188.51  13.73\n"
     ]
    },
    {
     "name": "stderr",
     "output_type": "stream",
     "text": [
      "C:\\Users\\Paul\\anaconda3\\lib\\site-packages\\statsmodels\\tsa\\base\\tsa_model.py:524: ValueWarning: No frequency information was provided, so inferred frequency MS will be used.\n",
      "  warnings.warn('No frequency information was'\n",
      "C:\\Users\\Paul\\anaconda3\\lib\\site-packages\\statsmodels\\tsa\\base\\tsa_model.py:524: ValueWarning: No frequency information was provided, so inferred frequency MS will be used.\n",
      "  warnings.warn('No frequency information was'\n"
     ]
    },
    {
     "name": "stdout",
     "output_type": "stream",
     "text": [
      "            prediction  actual   error       mse    rmse\n",
      "2020-01-01  438.056757     357   81.06   6570.72   81.06\n",
      "2020-02-01  319.940643     335  -15.06    226.80   15.06\n",
      "2020-03-01  224.843061     260  -35.16   1236.23   35.16\n",
      "2020-04-01  123.375110     176  -52.62   2768.86   52.62\n",
      "2020-05-01  109.186856     150  -40.81   1665.46   40.81\n",
      "2020-06-01   60.684081     124  -63.32   4009.42   63.32\n",
      "2020-07-01  129.874162     130   -0.13      0.02    0.14\n",
      "2020-08-01  124.443407     131   -6.56     43.03    6.56\n",
      "2020-09-01  196.386646     169   27.39    750.21   27.39\n",
      "2020-10-01  216.294182     278  -61.71   3808.12   61.71\n",
      "2020-11-01  450.960379     364   86.96   7562.04   86.96\n",
      "2020-12-01  478.583736     488   -9.42     88.74    9.42\n",
      "2021-01-01  575.409154     407  168.41  28361.93  168.41\n",
      "2021-02-01  337.692142     268   69.69   4856.70   69.69\n"
     ]
    },
    {
     "name": "stderr",
     "output_type": "stream",
     "text": [
      "C:\\Users\\Paul\\anaconda3\\lib\\site-packages\\statsmodels\\tsa\\base\\tsa_model.py:524: ValueWarning: No frequency information was provided, so inferred frequency MS will be used.\n",
      "  warnings.warn('No frequency information was'\n",
      "C:\\Users\\Paul\\anaconda3\\lib\\site-packages\\statsmodels\\tsa\\base\\tsa_model.py:524: ValueWarning: No frequency information was provided, so inferred frequency MS will be used.\n",
      "  warnings.warn('No frequency information was'\n"
     ]
    },
    {
     "name": "stdout",
     "output_type": "stream",
     "text": [
      "            prediction  actual   error       mse    rmse\n",
      "2020-01-01  514.131227     383  131.13  17195.08  131.13\n",
      "2020-02-01  300.711995     329  -28.29    800.32   28.29\n",
      "2020-03-01  296.291956     314  -17.71    313.64   17.71\n",
      "2020-04-01  235.220910     273  -37.78   1427.33   37.78\n",
      "2020-05-01  178.994167     241  -62.01   3845.24   62.01\n",
      "2020-06-01  198.186717     204   -5.81     33.76    5.81\n",
      "2020-07-01  195.096390     176   19.10    364.81   19.10\n",
      "2020-08-01  155.354849     150    5.35     28.62    5.35\n",
      "2020-09-01  172.542168     160   12.54    157.25   12.54\n",
      "2020-10-01  172.009014     205  -32.99   1088.34   32.99\n",
      "2020-11-01  351.577508     271   80.58   6493.14   80.58\n",
      "2020-12-01  330.367048     366  -35.63   1269.50   35.63\n",
      "2021-01-01  460.058648     555  -94.94   9013.60   94.94\n",
      "2021-02-01  614.712232     740 -125.29  15697.58  125.29\n"
     ]
    },
    {
     "name": "stderr",
     "output_type": "stream",
     "text": [
      "C:\\Users\\Paul\\anaconda3\\lib\\site-packages\\statsmodels\\tsa\\base\\tsa_model.py:524: ValueWarning: No frequency information was provided, so inferred frequency MS will be used.\n",
      "  warnings.warn('No frequency information was'\n",
      "C:\\Users\\Paul\\anaconda3\\lib\\site-packages\\statsmodels\\tsa\\base\\tsa_model.py:524: ValueWarning: No frequency information was provided, so inferred frequency MS will be used.\n",
      "  warnings.warn('No frequency information was'\n"
     ]
    },
    {
     "name": "stdout",
     "output_type": "stream",
     "text": [
      "            prediction  actual  error  mse  rmse\n",
      "2020-01-01    0.000492       0    0.0  0.0   0.0\n",
      "2020-02-01   -0.001553       0   -0.0  0.0   0.0\n",
      "2020-03-01    0.000762       0    0.0  0.0   0.0\n",
      "2020-04-01   -0.001780       0   -0.0  0.0   0.0\n",
      "2020-05-01    0.000236       0    0.0  0.0   0.0\n",
      "2020-06-01   -0.001105       0   -0.0  0.0   0.0\n",
      "2020-07-01   -0.001815       0   -0.0  0.0   0.0\n",
      "2020-08-01   -0.000340       0   -0.0  0.0   0.0\n",
      "2020-09-01   -0.002260       0   -0.0  0.0   0.0\n",
      "2020-10-01   -0.000061       0   -0.0  0.0   0.0\n",
      "2020-11-01    0.000955       0    0.0  0.0   0.0\n",
      "2020-12-01   -0.000211       0   -0.0  0.0   0.0\n",
      "2021-01-01    0.000045       0    0.0  0.0   0.0\n",
      "2021-02-01   -0.000144       0   -0.0  0.0   0.0\n"
     ]
    },
    {
     "name": "stderr",
     "output_type": "stream",
     "text": [
      "C:\\Users\\Paul\\anaconda3\\lib\\site-packages\\statsmodels\\tsa\\base\\tsa_model.py:524: ValueWarning: No frequency information was provided, so inferred frequency MS will be used.\n",
      "  warnings.warn('No frequency information was'\n",
      "C:\\Users\\Paul\\anaconda3\\lib\\site-packages\\statsmodels\\tsa\\base\\tsa_model.py:524: ValueWarning: No frequency information was provided, so inferred frequency MS will be used.\n",
      "  warnings.warn('No frequency information was'\n"
     ]
    },
    {
     "name": "stdout",
     "output_type": "stream",
     "text": [
      "            prediction  actual   error       mse    rmse\n",
      "2020-01-01  785.228252     756   29.23    854.39   29.23\n",
      "2020-02-01  715.148945     732  -16.85    283.92   16.85\n",
      "2020-03-01  676.256716     562  114.26  13055.35  114.26\n",
      "2020-04-01  415.203912     367   48.20   2323.24   48.20\n",
      "2020-05-01  228.347450     271  -42.65   1819.02   42.65\n",
      "2020-06-01  202.193719     186   16.19    262.12   16.19\n",
      "2020-07-01  165.722156     176  -10.28    105.68   10.28\n",
      "2020-08-01  169.151412     165    4.15     17.22    4.15\n",
      "2020-09-01  244.630375     192   52.63   2769.92   52.63\n",
      "2020-10-01  236.473534     278  -41.53   1724.74   41.53\n",
      "2020-11-01  455.870254     443   12.87    165.64   12.87\n",
      "2020-12-01  581.703344     662  -80.30   6448.09   80.30\n",
      "2021-01-01  741.813438     627  114.81  13181.34  114.81\n",
      "2021-02-01  545.918758     520   25.92    671.85   25.92\n"
     ]
    },
    {
     "name": "stderr",
     "output_type": "stream",
     "text": [
      "C:\\Users\\Paul\\anaconda3\\lib\\site-packages\\statsmodels\\tsa\\base\\tsa_model.py:524: ValueWarning: No frequency information was provided, so inferred frequency MS will be used.\n",
      "  warnings.warn('No frequency information was'\n",
      "C:\\Users\\Paul\\anaconda3\\lib\\site-packages\\statsmodels\\tsa\\base\\tsa_model.py:524: ValueWarning: No frequency information was provided, so inferred frequency MS will be used.\n",
      "  warnings.warn('No frequency information was'\n"
     ]
    },
    {
     "name": "stdout",
     "output_type": "stream",
     "text": [
      "            prediction  actual   error       mse    rmse\n",
      "2020-01-01  905.406465     938  -32.59   1062.11   32.59\n",
      "2020-02-01  913.035253     965  -51.96   2699.84   51.96\n",
      "2020-03-01  946.810973     705  241.81  58472.08  241.81\n",
      "2020-04-01  547.496560     421  126.50  16002.25  126.50\n",
      "2020-05-01  388.078153     362   26.08    680.17   26.08\n",
      "2020-06-01  313.852190      61  252.85  63933.12  252.85\n",
      "2020-07-01  -39.615908     115 -154.62  23907.34  154.62\n",
      "2020-08-01  171.117695     154   17.12    293.09   17.12\n",
      "2020-09-01  196.328807     164   32.33   1045.23   32.33\n",
      "2020-10-01  260.846852     204   56.85   3231.92   56.85\n",
      "2020-11-01  272.319092     213   59.32   3518.86   59.32\n",
      "2020-12-01  313.334786     237   76.33   5826.27   76.33\n",
      "2021-01-01  311.528955     248   63.53   4036.06   63.53\n",
      "2021-02-01  240.889217     240    0.89      0.79    0.89\n"
     ]
    },
    {
     "name": "stderr",
     "output_type": "stream",
     "text": [
      "C:\\Users\\Paul\\anaconda3\\lib\\site-packages\\statsmodels\\tsa\\base\\tsa_model.py:524: ValueWarning: No frequency information was provided, so inferred frequency MS will be used.\n",
      "  warnings.warn('No frequency information was'\n",
      "C:\\Users\\Paul\\anaconda3\\lib\\site-packages\\statsmodels\\tsa\\base\\tsa_model.py:524: ValueWarning: No frequency information was provided, so inferred frequency MS will be used.\n",
      "  warnings.warn('No frequency information was'\n"
     ]
    },
    {
     "name": "stdout",
     "output_type": "stream",
     "text": [
      "            prediction  actual  error      mse   rmse\n",
      "2020-01-01  561.926967     543  18.93   358.34  18.93\n",
      "2020-02-01  476.919177     498 -21.08   444.37  21.08\n",
      "2020-03-01  573.926895     524  49.93  2493.00  49.93\n",
      "2020-04-01  486.408292     502 -15.59   243.05  15.59\n",
      "2020-05-01  479.741505     407  72.74  5291.11  72.74\n",
      "2020-06-01  318.985068     314   4.99    24.90   4.99\n",
      "2020-07-01  303.167989     326 -22.83   521.21  22.83\n",
      "2020-08-01  315.491662     328 -12.51   156.50  12.51\n",
      "2020-09-01  346.138488     340   6.14    37.70   6.14\n",
      "2020-10-01  368.073841     407 -38.93  1515.54  38.93\n",
      "2020-11-01  482.057874     416  66.06  4363.92  66.06\n",
      "2020-12-01  439.255516     457 -17.74   314.71  17.74\n",
      "2021-01-01  463.793298     496 -32.21  1037.48  32.21\n",
      "2021-02-01  462.564001     497 -34.44  1186.11  34.44\n"
     ]
    },
    {
     "name": "stderr",
     "output_type": "stream",
     "text": [
      "C:\\Users\\Paul\\anaconda3\\lib\\site-packages\\statsmodels\\tsa\\base\\tsa_model.py:524: ValueWarning: No frequency information was provided, so inferred frequency MS will be used.\n",
      "  warnings.warn('No frequency information was'\n",
      "C:\\Users\\Paul\\anaconda3\\lib\\site-packages\\statsmodels\\tsa\\base\\tsa_model.py:524: ValueWarning: No frequency information was provided, so inferred frequency MS will be used.\n",
      "  warnings.warn('No frequency information was'\n"
     ]
    },
    {
     "name": "stdout",
     "output_type": "stream",
     "text": [
      "            prediction  actual   error       mse    rmse\n",
      "2020-01-01  132.996477     211  -78.00   6084.00   78.00\n",
      "2020-02-01  171.463103     185  -13.54    183.33   13.54\n",
      "2020-03-01  305.202460     222   83.20   6922.24   83.20\n",
      "2020-04-01  223.468915     236  -12.53    157.00   12.53\n",
      "2020-05-01  231.585507     246  -14.41    207.65   14.41\n",
      "2020-06-01  238.308268     240   -1.69      2.86    1.69\n",
      "2020-07-01  222.604313     199   23.60    556.96   23.60\n",
      "2020-08-01  162.759199     165   -2.24      5.02    2.24\n",
      "2020-09-01  176.319821     194  -17.68    312.58   17.68\n",
      "2020-10-01  219.060610     286  -66.94   4480.96   66.94\n",
      "2020-11-01  381.731827     272  109.73  12040.67  109.73\n",
      "2020-12-01  207.634294     276  -68.37   4674.46   68.37\n",
      "2021-01-01  258.485524     342  -83.51   6973.92   83.51\n",
      "2021-02-01  316.730236     391  -74.27   5516.03   74.27\n"
     ]
    },
    {
     "name": "stderr",
     "output_type": "stream",
     "text": [
      "C:\\Users\\Paul\\anaconda3\\lib\\site-packages\\statsmodels\\tsa\\base\\tsa_model.py:524: ValueWarning: No frequency information was provided, so inferred frequency MS will be used.\n",
      "  warnings.warn('No frequency information was'\n",
      "C:\\Users\\Paul\\anaconda3\\lib\\site-packages\\statsmodels\\tsa\\base\\tsa_model.py:524: ValueWarning: No frequency information was provided, so inferred frequency MS will be used.\n",
      "  warnings.warn('No frequency information was'\n"
     ]
    },
    {
     "name": "stdout",
     "output_type": "stream",
     "text": [
      "            prediction  actual   error        mse    rmse\n",
      "2020-01-01  310.734784     377  -66.27    4391.71   66.27\n",
      "2020-02-01  392.886591     737 -344.11  118411.69  344.11\n",
      "2020-03-01  684.462662     610   74.46    5544.29   74.46\n",
      "2020-04-01  381.096004     449  -67.90    4610.41   67.90\n",
      "2020-05-01  398.622231     444  -45.38    2059.34   45.38\n",
      "2020-06-01  393.344862     414  -20.66     426.84   20.66\n",
      "2020-07-01  418.417999     375   43.42    1885.30   43.42\n",
      "2020-08-01  352.415200     335   17.42     303.46   17.42\n",
      "2020-09-01  385.134796     406  -20.87     435.56   20.87\n",
      "2020-10-01  462.785148     617 -154.21   23780.72  154.21\n",
      "2020-11-01  844.540530     695  149.54   22362.21  149.54\n",
      "2020-12-01  779.703115     835  -55.30    3058.09   55.30\n",
      "2021-01-01  959.765942     800  159.77   25526.45  159.77\n",
      "2021-02-01  771.771253     591  180.77   32677.79  180.77\n"
     ]
    },
    {
     "name": "stderr",
     "output_type": "stream",
     "text": [
      "C:\\Users\\Paul\\anaconda3\\lib\\site-packages\\statsmodels\\tsa\\base\\tsa_model.py:524: ValueWarning: No frequency information was provided, so inferred frequency MS will be used.\n",
      "  warnings.warn('No frequency information was'\n",
      "C:\\Users\\Paul\\anaconda3\\lib\\site-packages\\statsmodels\\tsa\\base\\tsa_model.py:524: ValueWarning: No frequency information was provided, so inferred frequency MS will be used.\n",
      "  warnings.warn('No frequency information was'\n"
     ]
    },
    {
     "name": "stdout",
     "output_type": "stream",
     "text": [
      "            prediction  actual   error       mse    rmse\n",
      "2020-01-01  746.425437     788  -41.57   1728.06   41.57\n",
      "2020-02-01  772.219832     788  -15.78    249.01   15.78\n",
      "2020-03-01  623.308817     592   31.31    980.32   31.31\n",
      "2020-04-01  431.685103     374   57.69   3328.14   57.69\n",
      "2020-05-01  287.356695     306  -18.64    347.45   18.64\n",
      "2020-06-01  270.271119     239   31.27    977.81   31.27\n",
      "2020-07-01  216.365156     222   -5.63     31.70    5.63\n",
      "2020-08-01  233.360737     203   30.36    921.73   30.36\n",
      "2020-09-01  237.792900     281  -43.21   1867.10   43.21\n",
      "2020-10-01  355.501529     498 -142.50  20306.25  142.50\n",
      "2020-11-01  713.172286     605  108.17  11700.75  108.17\n",
      "2020-12-01  728.608503     771  -42.39   1796.91   42.39\n",
      "2021-01-01  864.732111     684  180.73  32663.33  180.73\n",
      "2021-02-01  563.197373     511   52.20   2724.84   52.20\n"
     ]
    },
    {
     "name": "stderr",
     "output_type": "stream",
     "text": [
      "C:\\Users\\Paul\\anaconda3\\lib\\site-packages\\statsmodels\\tsa\\base\\tsa_model.py:524: ValueWarning: No frequency information was provided, so inferred frequency MS will be used.\n",
      "  warnings.warn('No frequency information was'\n",
      "C:\\Users\\Paul\\anaconda3\\lib\\site-packages\\statsmodels\\tsa\\base\\tsa_model.py:524: ValueWarning: No frequency information was provided, so inferred frequency MS will be used.\n",
      "  warnings.warn('No frequency information was'\n"
     ]
    },
    {
     "name": "stdout",
     "output_type": "stream",
     "text": [
      "            prediction  actual  error      mse   rmse\n",
      "2020-01-01  624.485353     622   2.49     6.20   2.49\n",
      "2020-02-01  579.102642     606 -26.90   723.61  26.90\n",
      "2020-03-01  641.826590     680 -38.17  1456.95  38.17\n",
      "2020-04-01  654.196461     683 -28.80   829.44  28.80\n",
      "2020-05-01  669.036667     619  50.04  2504.00  50.04\n",
      "2020-06-01  549.929680     539  10.93   119.46  10.93\n",
      "2020-07-01  503.402946     495   8.40    70.56   8.40\n",
      "2020-08-01  460.760393     450  10.76   115.78  10.76\n",
      "2020-09-01  458.909514     471 -12.09   146.17  12.09\n",
      "2020-10-01  512.896054     571 -58.10  3375.61  58.10\n",
      "2020-11-01  653.678804     575  78.68  6190.54  78.68\n",
      "2020-12-01  599.190377     621 -21.81   475.68  21.81\n",
      "2021-01-01  661.346938     674 -12.65   160.02  12.65\n",
      "2021-02-01  653.906036     673 -19.09   364.43  19.09\n"
     ]
    },
    {
     "name": "stderr",
     "output_type": "stream",
     "text": [
      "C:\\Users\\Paul\\anaconda3\\lib\\site-packages\\statsmodels\\tsa\\base\\tsa_model.py:524: ValueWarning: No frequency information was provided, so inferred frequency MS will be used.\n",
      "  warnings.warn('No frequency information was'\n",
      "C:\\Users\\Paul\\anaconda3\\lib\\site-packages\\statsmodels\\tsa\\base\\tsa_model.py:524: ValueWarning: No frequency information was provided, so inferred frequency MS will be used.\n",
      "  warnings.warn('No frequency information was'\n"
     ]
    },
    {
     "name": "stdout",
     "output_type": "stream",
     "text": [
      "            prediction  actual  error      mse   rmse\n",
      "2020-01-01  621.770639     563  58.77  3453.91  58.77\n",
      "2020-02-01  491.437147     506 -14.56   211.99  14.56\n",
      "2020-03-01  400.225295     416 -15.77   248.69  15.77\n",
      "2020-04-01  282.160713     303 -20.84   434.31  20.84\n",
      "2020-05-01  186.984056     240 -53.02  2811.12  53.02\n",
      "2020-06-01  176.868112     181  -4.13    17.06   4.13\n",
      "2020-07-01  158.796615     150   8.80    77.44   8.80\n",
      "2020-08-01  123.225944     122   1.23     1.51   1.23\n",
      "2020-09-01  220.990525     141  79.99  6398.40  79.99\n",
      "2020-10-01  188.706593     205 -16.29   265.36  16.29\n",
      "2020-11-01  373.733129     364   9.73    94.67   9.73\n",
      "2020-12-01  509.818795     570 -60.18  3621.63  60.18\n",
      "2021-01-01  607.494119     654 -46.51  2163.18  46.51\n",
      "2021-02-01  631.881315     697 -65.12  4240.61  65.12\n"
     ]
    },
    {
     "name": "stderr",
     "output_type": "stream",
     "text": [
      "C:\\Users\\Paul\\anaconda3\\lib\\site-packages\\statsmodels\\tsa\\base\\tsa_model.py:524: ValueWarning: No frequency information was provided, so inferred frequency MS will be used.\n",
      "  warnings.warn('No frequency information was'\n",
      "C:\\Users\\Paul\\anaconda3\\lib\\site-packages\\statsmodels\\tsa\\base\\tsa_model.py:524: ValueWarning: No frequency information was provided, so inferred frequency MS will be used.\n",
      "  warnings.warn('No frequency information was'\n"
     ]
    },
    {
     "name": "stdout",
     "output_type": "stream",
     "text": [
      "            prediction  actual   error       mse    rmse\n",
      "2020-01-01  620.323246     654  -33.68   1134.34   33.68\n",
      "2020-02-01  643.407255     664  -20.59    423.95   20.59\n",
      "2020-03-01  649.852878     527  122.85  15092.12  122.85\n",
      "2020-04-01  401.473120     363   38.47   1479.94   38.47\n",
      "2020-05-01  336.142128     283   53.14   2823.86   53.14\n",
      "2020-06-01  238.043634     209   29.04    843.32   29.04\n",
      "2020-07-01  178.539230     196  -17.46    304.85   17.46\n",
      "2020-08-01  195.347637     181   14.35    205.92   14.35\n",
      "2020-09-01  188.444785     208  -19.56    382.59   19.56\n",
      "2020-10-01  243.151445     298  -54.85   3008.52   54.85\n",
      "2020-11-01  407.209363     417   -9.79     95.84    9.79\n",
      "2020-12-01  498.115426     582  -83.88   7035.85   83.88\n",
      "2021-01-01  652.802431     559   93.80   8798.44   93.80\n",
      "2021-02-01  475.054438     475    0.05      0.00    0.00\n"
     ]
    },
    {
     "name": "stderr",
     "output_type": "stream",
     "text": [
      "C:\\Users\\Paul\\anaconda3\\lib\\site-packages\\statsmodels\\tsa\\base\\tsa_model.py:524: ValueWarning: No frequency information was provided, so inferred frequency MS will be used.\n",
      "  warnings.warn('No frequency information was'\n",
      "C:\\Users\\Paul\\anaconda3\\lib\\site-packages\\statsmodels\\tsa\\base\\tsa_model.py:524: ValueWarning: No frequency information was provided, so inferred frequency MS will be used.\n",
      "  warnings.warn('No frequency information was'\n"
     ]
    },
    {
     "name": "stdout",
     "output_type": "stream",
     "text": [
      "            prediction  actual   error       mse    rmse\n",
      "2020-01-01  849.418820     776   73.42   5390.50   73.42\n",
      "2020-02-01  722.243694     766  -43.76   1914.94   43.76\n",
      "2020-03-01  715.514926     685   30.51    930.86   30.51\n",
      "2020-04-01  548.469172     556   -7.53     56.70    7.53\n",
      "2020-05-01  456.333685     488  -31.67   1002.99   31.67\n",
      "2020-06-01  404.389139     412   -7.61     57.91    7.61\n",
      "2020-07-01  380.814853     399  -18.19    330.88   18.19\n",
      "2020-08-01  374.998497     380   -5.00     25.00    5.00\n",
      "2020-09-01  424.704692     322  102.70  10547.29  102.70\n",
      "2020-10-01  333.352537     222  111.35  12398.82  111.35\n",
      "2020-11-01  407.794200     470  -62.21   3870.08   62.21\n",
      "2020-12-01  713.061797     786  -72.94   5320.24   72.94\n",
      "2021-01-01  858.049097     799   59.05   3486.90   59.05\n",
      "2021-02-01  762.785688     740   22.79    519.38   22.79\n"
     ]
    },
    {
     "name": "stderr",
     "output_type": "stream",
     "text": [
      "C:\\Users\\Paul\\anaconda3\\lib\\site-packages\\statsmodels\\tsa\\base\\tsa_model.py:524: ValueWarning: No frequency information was provided, so inferred frequency MS will be used.\n",
      "  warnings.warn('No frequency information was'\n",
      "C:\\Users\\Paul\\anaconda3\\lib\\site-packages\\statsmodels\\tsa\\base\\tsa_model.py:524: ValueWarning: No frequency information was provided, so inferred frequency MS will be used.\n",
      "  warnings.warn('No frequency information was'\n"
     ]
    },
    {
     "name": "stdout",
     "output_type": "stream",
     "text": [
      "            prediction  actual  error      mse   rmse\n",
      "2020-01-01  237.380451     195  42.38  1796.06  42.38\n",
      "2020-02-01  184.390765     197 -12.61   159.01  12.61\n",
      "2020-03-01  168.816924     146  22.82   520.75  22.82\n",
      "2020-04-01   82.977188     127 -44.02  1937.76  44.02\n",
      "2020-05-01  113.617442     131 -17.38   302.06  17.38\n",
      "2020-06-01  110.051042     127 -16.95   287.30  16.95\n",
      "2020-07-01  108.010390      79  29.01   841.58  29.01\n",
      "2020-08-01   42.113334      41   1.11     1.23   1.11\n",
      "2020-09-01   79.736498      48  31.74  1007.43  31.74\n",
      "2020-10-01   59.917438      67  -7.08    50.13   7.08\n",
      "2020-11-01  102.501344      44  58.50  3422.25  58.50\n",
      "2020-12-01   38.715706      21  17.72   314.00  17.72\n",
      "2021-01-01   56.310385      21  35.31  1246.80  35.31\n",
      "2021-02-01   10.760688      20  -9.24    85.38   9.24\n"
     ]
    },
    {
     "name": "stderr",
     "output_type": "stream",
     "text": [
      "C:\\Users\\Paul\\anaconda3\\lib\\site-packages\\statsmodels\\tsa\\base\\tsa_model.py:524: ValueWarning: No frequency information was provided, so inferred frequency MS will be used.\n",
      "  warnings.warn('No frequency information was'\n",
      "C:\\Users\\Paul\\anaconda3\\lib\\site-packages\\statsmodels\\tsa\\base\\tsa_model.py:524: ValueWarning: No frequency information was provided, so inferred frequency MS will be used.\n",
      "  warnings.warn('No frequency information was'\n"
     ]
    },
    {
     "name": "stdout",
     "output_type": "stream",
     "text": [
      "            prediction  actual  error      mse   rmse\n",
      "2020-01-01  205.048267     182  23.05   531.30  23.05\n",
      "2020-02-01  159.021528     161  -1.98     3.92   1.98\n",
      "2020-03-01  149.564043     189 -39.44  1555.51  39.44\n",
      "2020-04-01  159.718446     196 -36.28  1316.24  36.28\n",
      "2020-05-01  190.284795     188   2.28     5.20   2.28\n",
      "2020-06-01  174.378450     172   2.38     5.66   2.38\n",
      "2020-07-01  165.663566     152  13.66   186.60  13.66\n",
      "2020-08-01  141.744445     134   7.74    59.91   7.74\n",
      "2020-09-01  144.158540     144   0.16     0.03   0.17\n",
      "2020-10-01  159.942627     183 -23.06   531.76  23.06\n",
      "2020-11-01  205.601654     188  17.60   309.76  17.60\n",
      "2020-12-01  206.077304     208  -1.92     3.69   1.92\n",
      "2021-01-01  209.248072     230 -20.75   430.56  20.75\n",
      "2021-02-01  209.794809     237 -27.21   740.38  27.21\n"
     ]
    },
    {
     "name": "stderr",
     "output_type": "stream",
     "text": [
      "C:\\Users\\Paul\\anaconda3\\lib\\site-packages\\statsmodels\\tsa\\base\\tsa_model.py:524: ValueWarning: No frequency information was provided, so inferred frequency MS will be used.\n",
      "  warnings.warn('No frequency information was'\n",
      "C:\\Users\\Paul\\anaconda3\\lib\\site-packages\\statsmodels\\tsa\\base\\tsa_model.py:524: ValueWarning: No frequency information was provided, so inferred frequency MS will be used.\n",
      "  warnings.warn('No frequency information was'\n"
     ]
    },
    {
     "name": "stdout",
     "output_type": "stream",
     "text": [
      "            prediction  actual   error       mse    rmse\n",
      "2020-01-01  553.118331     527   26.12    682.25   26.12\n",
      "2020-02-01  482.009750     504  -21.99    483.56   21.99\n",
      "2020-03-01  453.213550     393   60.21   3625.24   60.21\n",
      "2020-04-01  265.101459     264    1.10      1.21    1.10\n",
      "2020-05-01  205.247949     194   11.25    126.56   11.25\n",
      "2020-06-01  130.840638     133   -2.16      4.67    2.16\n",
      "2020-07-01  121.304145     121    0.30      0.09    0.30\n",
      "2020-08-01  106.211681     111   -4.79     22.94    4.79\n",
      "2020-09-01  142.130494     170  -27.87    776.74   27.87\n",
      "2020-10-01  209.044639     326 -116.96  13679.64  116.96\n",
      "2020-11-01  517.363411     409  108.36  11741.89  108.36\n",
      "2020-12-01  472.694755     533  -60.31   3637.30   60.31\n",
      "2021-01-01  606.575384     504  102.58  10522.66  102.58\n",
      "2021-02-01  410.275408     421  -10.72    114.92   10.72\n"
     ]
    },
    {
     "name": "stderr",
     "output_type": "stream",
     "text": [
      "C:\\Users\\Paul\\anaconda3\\lib\\site-packages\\statsmodels\\tsa\\base\\tsa_model.py:524: ValueWarning: No frequency information was provided, so inferred frequency MS will be used.\n",
      "  warnings.warn('No frequency information was'\n",
      "C:\\Users\\Paul\\anaconda3\\lib\\site-packages\\statsmodels\\tsa\\base\\tsa_model.py:524: ValueWarning: No frequency information was provided, so inferred frequency MS will be used.\n",
      "  warnings.warn('No frequency information was'\n"
     ]
    },
    {
     "name": "stdout",
     "output_type": "stream",
     "text": [
      "             prediction  actual   error       mse    rmse\n",
      "2020-01-01   757.580302     895 -137.42  18884.26  137.42\n",
      "2020-02-01   944.278488    1004  -59.72   3566.48   59.72\n",
      "2020-03-01   918.154713     736  182.15  33178.62  182.15\n",
      "2020-04-01   515.267480     443   72.27   5222.95   72.27\n",
      "2020-05-01   333.407828     412  -78.59   6176.39   78.59\n",
      "2020-06-01   394.775499     367   27.78    771.73   27.78\n",
      "2020-07-01   349.519743     412  -62.48   3903.75   62.48\n",
      "2020-08-01   439.003332     436    3.00      9.00    3.00\n",
      "2020-09-01   512.027958     511    1.03      1.06    1.03\n",
      "2020-10-01   571.560456     742 -170.44  29049.79  170.44\n",
      "2020-11-01   982.957609     918   64.96   4219.80   64.96\n",
      "2020-12-01  1022.041214    1184 -161.96  26231.04  161.96\n",
      "2021-01-01  1378.836059    1098  280.84  78871.11  280.84\n",
      "2021-02-01   979.906244     884   95.91   9198.73   95.91\n"
     ]
    },
    {
     "name": "stderr",
     "output_type": "stream",
     "text": [
      "C:\\Users\\Paul\\anaconda3\\lib\\site-packages\\statsmodels\\tsa\\base\\tsa_model.py:524: ValueWarning: No frequency information was provided, so inferred frequency MS will be used.\n",
      "  warnings.warn('No frequency information was'\n",
      "C:\\Users\\Paul\\anaconda3\\lib\\site-packages\\statsmodels\\tsa\\base\\tsa_model.py:524: ValueWarning: No frequency information was provided, so inferred frequency MS will be used.\n",
      "  warnings.warn('No frequency information was'\n"
     ]
    },
    {
     "name": "stdout",
     "output_type": "stream",
     "text": [
      "            prediction  actual   error       mse    rmse\n",
      "2020-01-01  707.484441     675   32.48   1054.95   32.48\n",
      "2020-02-01  619.497400     642  -22.50    506.25   22.50\n",
      "2020-03-01  642.153804     585   57.15   3266.12   57.15\n",
      "2020-04-01  469.427188     486  -16.57    274.56   16.57\n",
      "2020-05-01  352.740867     387  -34.26   1173.75   34.26\n",
      "2020-06-01  295.639441     293    2.64      6.97    2.64\n",
      "2020-07-01  248.253937     235   13.25    175.56   13.25\n",
      "2020-08-01  193.486860     187    6.49     42.12    6.49\n",
      "2020-09-01  267.414802     204   63.41   4020.83   63.41\n",
      "2020-10-01  246.088603     270  -23.91    571.69   23.91\n",
      "2020-11-01  423.032673     444  -20.97    439.74   20.97\n",
      "2020-12-01  585.780226     676  -90.22   8139.65   90.22\n",
      "2021-01-01  767.727814     819  -51.27   2628.61   51.27\n",
      "2021-02-01  809.915088     921 -111.08  12338.77  111.08\n"
     ]
    },
    {
     "name": "stderr",
     "output_type": "stream",
     "text": [
      "C:\\Users\\Paul\\anaconda3\\lib\\site-packages\\statsmodels\\tsa\\base\\tsa_model.py:524: ValueWarning: No frequency information was provided, so inferred frequency MS will be used.\n",
      "  warnings.warn('No frequency information was'\n",
      "C:\\Users\\Paul\\anaconda3\\lib\\site-packages\\statsmodels\\tsa\\base\\tsa_model.py:524: ValueWarning: No frequency information was provided, so inferred frequency MS will be used.\n",
      "  warnings.warn('No frequency information was'\n"
     ]
    },
    {
     "name": "stdout",
     "output_type": "stream",
     "text": [
      "            prediction  actual  error      mse   rmse\n",
      "2020-01-01  548.906335     471  77.91  6069.97  77.91\n",
      "2020-02-01  406.488451     420 -13.51   182.52  13.51\n",
      "2020-03-01  424.874608     365  59.87  3584.42  59.87\n",
      "2020-04-01  307.810870     285  22.81   520.30  22.81\n",
      "2020-05-01  239.946700     210  29.95   897.00  29.95\n",
      "2020-06-01  162.429397     145  17.43   303.80  17.43\n",
      "2020-07-01  119.147915     143 -23.85   568.82  23.85\n",
      "2020-08-01  149.159721     138  11.16   124.55  11.16\n",
      "2020-09-01  141.017698     148  -6.98    48.72   6.98\n",
      "2020-10-01  165.751153     189 -23.25   540.56  23.25\n",
      "2020-11-01  264.320178     225  39.32  1546.06  39.32\n",
      "2020-12-01  252.134631     282 -29.87   892.22  29.87\n",
      "2021-01-01  311.446378     349 -37.55  1410.00  37.55\n",
      "2021-02-01  361.134499     399 -37.87  1434.14  37.87\n"
     ]
    },
    {
     "name": "stderr",
     "output_type": "stream",
     "text": [
      "C:\\Users\\Paul\\anaconda3\\lib\\site-packages\\statsmodels\\tsa\\base\\tsa_model.py:524: ValueWarning: No frequency information was provided, so inferred frequency MS will be used.\n",
      "  warnings.warn('No frequency information was'\n",
      "C:\\Users\\Paul\\anaconda3\\lib\\site-packages\\statsmodels\\tsa\\base\\tsa_model.py:524: ValueWarning: No frequency information was provided, so inferred frequency MS will be used.\n",
      "  warnings.warn('No frequency information was'\n"
     ]
    },
    {
     "name": "stdout",
     "output_type": "stream",
     "text": [
      "            prediction  actual   error       mse    rmse\n",
      "2020-01-01  307.233126     360  -52.77   2784.67   52.77\n",
      "2020-02-01  378.242970     400  -21.76    473.50   21.76\n",
      "2020-03-01  343.041794     262   81.04   6567.48   81.04\n",
      "2020-04-01  137.744861     123   14.74    217.27   14.74\n",
      "2020-05-01   77.837370     107  -29.16    850.31   29.16\n",
      "2020-06-01  112.491997      89   23.49    551.78   23.49\n",
      "2020-07-01   52.645837      98  -45.35   2056.62   45.35\n",
      "2020-08-01  104.553352     103    1.55      2.40    1.55\n",
      "2020-09-01  115.846622     129  -13.15    172.92   13.15\n",
      "2020-10-01  156.960216     206  -49.04   2404.92   49.04\n",
      "2020-11-01  312.200890     359  -46.80   2190.24   46.80\n",
      "2020-12-01  460.996710     560  -99.00   9801.00   99.00\n",
      "2021-01-01  655.039738     550  105.04  11033.40  105.04\n",
      "2021-02-01  485.504757     484    1.50      2.25    1.50\n"
     ]
    },
    {
     "name": "stderr",
     "output_type": "stream",
     "text": [
      "C:\\Users\\Paul\\anaconda3\\lib\\site-packages\\statsmodels\\tsa\\base\\tsa_model.py:524: ValueWarning: No frequency information was provided, so inferred frequency MS will be used.\n",
      "  warnings.warn('No frequency information was'\n",
      "C:\\Users\\Paul\\anaconda3\\lib\\site-packages\\statsmodels\\tsa\\base\\tsa_model.py:524: ValueWarning: No frequency information was provided, so inferred frequency MS will be used.\n",
      "  warnings.warn('No frequency information was'\n"
     ]
    },
    {
     "name": "stdout",
     "output_type": "stream",
     "text": [
      "             prediction  actual   error       mse    rmse\n",
      "2020-01-01  1064.732579    1112  -47.27   2234.45   47.27\n",
      "2020-02-01  1093.885845    1160  -66.11   4370.53   66.11\n",
      "2020-03-01  1047.929744     931  116.93  13672.62  116.93\n",
      "2020-04-01   730.267682     656   74.27   5516.03   74.27\n",
      "2020-05-01   530.980743     581  -50.02   2502.00   50.02\n",
      "2020-06-01   510.897863     496   14.90    222.01   14.90\n",
      "2020-07-01   492.711669     488    4.71     22.18    4.71\n",
      "2020-08-01   486.734679     469   17.73    314.35   17.73\n",
      "2020-09-01   518.291981     546  -27.71    767.84   27.71\n",
      "2020-10-01   608.351299     786 -177.65  31559.52  177.65\n",
      "2020-11-01  1055.518252     986   69.52   4833.03   69.52\n",
      "2020-12-01  1145.184784    1286 -140.82  19830.27  140.82\n",
      "2021-01-01  1451.741200    1195  256.74  65915.43  256.74\n",
      "2021-02-01  1071.859617     965  106.86  11419.06  106.86\n"
     ]
    },
    {
     "name": "stderr",
     "output_type": "stream",
     "text": [
      "C:\\Users\\Paul\\anaconda3\\lib\\site-packages\\statsmodels\\tsa\\base\\tsa_model.py:524: ValueWarning: No frequency information was provided, so inferred frequency MS will be used.\n",
      "  warnings.warn('No frequency information was'\n",
      "C:\\Users\\Paul\\anaconda3\\lib\\site-packages\\statsmodels\\tsa\\base\\tsa_model.py:524: ValueWarning: No frequency information was provided, so inferred frequency MS will be used.\n",
      "  warnings.warn('No frequency information was'\n"
     ]
    },
    {
     "name": "stdout",
     "output_type": "stream",
     "text": [
      "            prediction  actual   error       mse    rmse\n",
      "2020-01-01  748.544670     602  146.54  21473.97  146.54\n",
      "2020-02-01  492.199928     492    0.20      0.04    0.20\n",
      "2020-03-01  399.787389     410  -10.21    104.24   10.21\n",
      "2020-04-01  267.522369     304  -36.48   1330.79   36.48\n",
      "2020-05-01  187.393360     253  -65.61   4304.67   65.61\n",
      "2020-06-01  184.306625     201  -16.69    278.56   16.69\n",
      "2020-07-01  192.290128     202   -9.71     94.28    9.71\n",
      "2020-08-01  183.420250     197  -13.58    184.42   13.58\n",
      "2020-09-01  254.106705     223   31.11    967.83   31.11\n",
      "2020-10-01  253.329125     306  -52.67   2774.13   52.67\n",
      "2020-11-01  547.851354     454   93.85   8807.82   93.85\n",
      "2020-12-01  589.113479     655  -65.89   4341.49   65.89\n",
      "2021-01-01  721.888768     732  -10.11    102.21   10.11\n",
      "2021-02-01  680.995939     758  -77.00   5929.00   77.00\n"
     ]
    },
    {
     "name": "stderr",
     "output_type": "stream",
     "text": [
      "C:\\Users\\Paul\\anaconda3\\lib\\site-packages\\statsmodels\\tsa\\base\\tsa_model.py:524: ValueWarning: No frequency information was provided, so inferred frequency MS will be used.\n",
      "  warnings.warn('No frequency information was'\n",
      "C:\\Users\\Paul\\anaconda3\\lib\\site-packages\\statsmodels\\tsa\\base\\tsa_model.py:524: ValueWarning: No frequency information was provided, so inferred frequency MS will be used.\n",
      "  warnings.warn('No frequency information was'\n"
     ]
    },
    {
     "name": "stdout",
     "output_type": "stream",
     "text": [
      "             prediction  actual   error       mse    rmse\n",
      "2020-01-01  1466.054545    1372   94.05   8845.40   94.05\n",
      "2020-02-01  1289.633816    1350  -60.37   3644.54   60.37\n",
      "2020-03-01  1076.520804     879  197.52  39014.15  197.52\n",
      "2020-04-01   509.498710     401  108.50  11772.25  108.50\n",
      "2020-05-01    47.439888     227 -179.56  32241.79  179.56\n",
      "2020-06-01    29.950636      89  -59.05   3486.90   59.05\n",
      "2020-07-01   104.786874      96    8.79     77.26    8.79\n",
      "2020-08-01   104.986358     100    4.99     24.90    4.99\n",
      "2020-09-01   388.738622     290   98.74   9749.59   98.74\n",
      "2020-10-01   502.576517     766 -263.42  69390.10  263.42\n",
      "2020-11-01  1170.698932    1006  164.70  27126.09  164.70\n",
      "2020-12-01  1250.877459    1350  -99.12   9824.77   99.12\n",
      "2021-01-01  1500.913289    1272  228.91  52399.79  228.91\n",
      "2021-02-01  1178.925896    1052  126.93  16111.22  126.93\n"
     ]
    },
    {
     "name": "stderr",
     "output_type": "stream",
     "text": [
      "C:\\Users\\Paul\\anaconda3\\lib\\site-packages\\statsmodels\\tsa\\base\\tsa_model.py:524: ValueWarning: No frequency information was provided, so inferred frequency MS will be used.\n",
      "  warnings.warn('No frequency information was'\n",
      "C:\\Users\\Paul\\anaconda3\\lib\\site-packages\\statsmodels\\tsa\\base\\tsa_model.py:524: ValueWarning: No frequency information was provided, so inferred frequency MS will be used.\n",
      "  warnings.warn('No frequency information was'\n"
     ]
    },
    {
     "name": "stdout",
     "output_type": "stream",
     "text": [
      "            prediction  actual   error       mse    rmse\n",
      "2020-01-01  527.960601     479   48.96   2397.08   48.96\n",
      "2020-02-01  435.031861     461  -25.97    674.44   25.97\n",
      "2020-03-01  457.283781     336  121.28  14708.84  121.28\n",
      "2020-04-01  241.012760     200   41.01   1681.82   41.01\n",
      "2020-05-01  185.326169     150   35.33   1248.21   35.33\n",
      "2020-06-01  116.647510     106   10.65    113.42   10.65\n",
      "2020-07-01  103.609932     102    1.61      2.59    1.61\n",
      "2020-08-01   90.345810      96   -5.65     31.92    5.65\n",
      "2020-09-01  144.434540     153   -8.57     73.44    8.57\n",
      "2020-10-01  187.637777     304 -116.36  13539.65  116.36\n",
      "2020-11-01  374.779515     371    3.78     14.29    3.78\n",
      "2020-12-01  415.807397     473  -57.19   3270.70   57.19\n",
      "2021-01-01  544.242883     407  137.24  18834.82  137.24\n",
      "2021-02-01  348.134514     288   60.13   3615.62   60.13\n"
     ]
    },
    {
     "name": "stderr",
     "output_type": "stream",
     "text": [
      "C:\\Users\\Paul\\anaconda3\\lib\\site-packages\\statsmodels\\tsa\\base\\tsa_model.py:524: ValueWarning: No frequency information was provided, so inferred frequency MS will be used.\n",
      "  warnings.warn('No frequency information was'\n",
      "C:\\Users\\Paul\\anaconda3\\lib\\site-packages\\statsmodels\\tsa\\base\\tsa_model.py:524: ValueWarning: No frequency information was provided, so inferred frequency MS will be used.\n",
      "  warnings.warn('No frequency information was'\n"
     ]
    },
    {
     "name": "stdout",
     "output_type": "stream",
     "text": [
      "            prediction  actual   error       mse    rmse\n",
      "2020-01-01  475.863314     389   86.86   7544.66   86.86\n",
      "2020-02-01  364.925855     365   -0.07      0.00    0.00\n",
      "2020-03-01  355.616999     324   31.62    999.82   31.62\n",
      "2020-04-01  257.209659     262   -4.79     22.94    4.79\n",
      "2020-05-01  176.671102     230  -53.33   2844.09   53.33\n",
      "2020-06-01  180.536786     194  -13.46    181.17   13.46\n",
      "2020-07-01  163.951431     216  -52.05   2709.20   52.05\n",
      "2020-08-01  231.888912     227    4.89     23.91    4.89\n",
      "2020-09-01  247.154511     281  -33.85   1145.82   33.85\n",
      "2020-10-01  328.751911     438 -109.25  11935.56  109.25\n",
      "2020-11-01  531.746891     545  -13.25    175.56   13.25\n",
      "2020-12-01  596.748679     707 -110.25  12155.06  110.25\n",
      "2021-01-01  818.795988     736   82.80   6855.84   82.80\n",
      "2021-02-01  689.241779     700  -10.76    115.78   10.76\n"
     ]
    },
    {
     "name": "stderr",
     "output_type": "stream",
     "text": [
      "C:\\Users\\Paul\\anaconda3\\lib\\site-packages\\statsmodels\\tsa\\base\\tsa_model.py:524: ValueWarning: No frequency information was provided, so inferred frequency MS will be used.\n",
      "  warnings.warn('No frequency information was'\n",
      "C:\\Users\\Paul\\anaconda3\\lib\\site-packages\\statsmodels\\tsa\\base\\tsa_model.py:524: ValueWarning: No frequency information was provided, so inferred frequency MS will be used.\n",
      "  warnings.warn('No frequency information was'\n"
     ]
    },
    {
     "name": "stdout",
     "output_type": "stream",
     "text": [
      "            prediction  actual   error       mse    rmse\n",
      "2020-01-01  663.437911     650   13.44    180.63   13.44\n",
      "2020-02-01  585.149127     631  -45.85   2102.22   45.85\n",
      "2020-03-01  570.915291     470  100.92  10184.85  100.92\n",
      "2020-04-01  273.665870     293  -19.33    373.65   19.33\n",
      "2020-05-01  143.381149     240  -96.62   9335.42   96.62\n",
      "2020-06-01  158.058224     188  -29.94    896.40   29.94\n",
      "2020-07-01  153.545994     146    7.55     57.00    7.55\n",
      "2020-08-01  113.664445     111    2.66      7.08    2.66\n",
      "2020-09-01  198.463323     199   -0.54      0.29    0.54\n",
      "2020-10-01  339.355167     427  -87.64   7680.77   87.64\n",
      "2020-11-01  651.604758     598   53.60   2872.96   53.60\n",
      "2020-12-01  721.785024     834 -112.21  12591.08  112.21\n",
      "2021-01-01  942.394549     762  180.39  32540.55  180.39\n",
      "2021-02-01  604.785625     599    5.79     33.52    5.79\n"
     ]
    },
    {
     "name": "stderr",
     "output_type": "stream",
     "text": [
      "C:\\Users\\Paul\\anaconda3\\lib\\site-packages\\statsmodels\\tsa\\base\\tsa_model.py:524: ValueWarning: No frequency information was provided, so inferred frequency MS will be used.\n",
      "  warnings.warn('No frequency information was'\n",
      "C:\\Users\\Paul\\anaconda3\\lib\\site-packages\\statsmodels\\tsa\\base\\tsa_model.py:524: ValueWarning: No frequency information was provided, so inferred frequency MS will be used.\n",
      "  warnings.warn('No frequency information was'\n"
     ]
    },
    {
     "name": "stdout",
     "output_type": "stream",
     "text": [
      "            prediction  actual  error      mse   rmse\n",
      "2020-01-01  453.833452     457  -3.17    10.05   3.17\n",
      "2020-02-01  424.513940     459 -34.49  1189.56  34.49\n",
      "2020-03-01  374.440814     336  38.44  1477.63  38.44\n",
      "2020-04-01  257.124340     204  53.12  2821.73  53.12\n",
      "2020-05-01  126.932877     151 -24.07   579.36  24.07\n",
      "2020-06-01  107.314451     105   2.31     5.34   2.31\n",
      "2020-07-01  108.361565      88  20.36   414.53  20.36\n",
      "2020-08-01   84.221265      73  11.22   125.89  11.22\n",
      "2020-09-01  123.756442     104  19.76   390.46  19.76\n",
      "2020-10-01  148.928940     185 -36.07  1301.04  36.07\n",
      "2020-11-01  274.425513     250  24.43   596.82  24.43\n",
      "2020-12-01  332.896019     413 -80.10  6416.01  80.10\n",
      "2021-01-01  466.419996     467  -0.58     0.34   0.58\n",
      "2021-02-01  442.224450     440   2.22     4.93   2.22\n"
     ]
    },
    {
     "name": "stderr",
     "output_type": "stream",
     "text": [
      "C:\\Users\\Paul\\anaconda3\\lib\\site-packages\\statsmodels\\tsa\\base\\tsa_model.py:524: ValueWarning: No frequency information was provided, so inferred frequency MS will be used.\n",
      "  warnings.warn('No frequency information was'\n",
      "C:\\Users\\Paul\\anaconda3\\lib\\site-packages\\statsmodels\\tsa\\base\\tsa_model.py:524: ValueWarning: No frequency information was provided, so inferred frequency MS will be used.\n",
      "  warnings.warn('No frequency information was'\n"
     ]
    },
    {
     "name": "stdout",
     "output_type": "stream",
     "text": [
      "            prediction  actual   error       mse    rmse\n",
      "2020-01-01  608.747036     516   92.75   8602.56   92.75\n",
      "2020-02-01  403.908291     412   -8.09     65.45    8.09\n",
      "2020-03-01  447.549778     429   18.55    344.10   18.55\n",
      "2020-04-01  376.790847     405  -28.21    795.80   28.21\n",
      "2020-05-01  294.426648     321  -26.57    705.96   26.57\n",
      "2020-06-01  237.927328     243   -5.07     25.70    5.07\n",
      "2020-07-01  231.540057     254  -22.46    504.45   22.46\n",
      "2020-08-01  255.001097     258   -3.00      9.00    3.00\n",
      "2020-09-01  309.166918     251   58.17   3383.75   58.17\n",
      "2020-10-01  261.362950     264   -2.64      6.97    2.64\n",
      "2020-11-01  391.280072     265  126.28  15946.64  126.28\n",
      "2020-12-01  300.841781     287   13.84    191.55   13.84\n",
      "2021-01-01  275.974886     360  -84.03   7061.04   84.03\n",
      "2021-02-01  352.236788     417  -64.76   4193.86   64.76\n"
     ]
    },
    {
     "name": "stderr",
     "output_type": "stream",
     "text": [
      "C:\\Users\\Paul\\anaconda3\\lib\\site-packages\\statsmodels\\tsa\\base\\tsa_model.py:524: ValueWarning: No frequency information was provided, so inferred frequency MS will be used.\n",
      "  warnings.warn('No frequency information was'\n",
      "C:\\Users\\Paul\\anaconda3\\lib\\site-packages\\statsmodels\\tsa\\base\\tsa_model.py:524: ValueWarning: No frequency information was provided, so inferred frequency MS will be used.\n",
      "  warnings.warn('No frequency information was'\n"
     ]
    },
    {
     "name": "stdout",
     "output_type": "stream",
     "text": [
      "             prediction  actual   error        mse    rmse\n",
      "2020-01-01   884.942796     884    0.94       0.88    0.94\n",
      "2020-02-01   829.266647     853  -23.73     563.11   23.73\n",
      "2020-03-01   677.532119     622   55.53    3083.58   55.53\n",
      "2020-04-01   406.859867     370   36.86    1358.66   36.86\n",
      "2020-05-01   241.443374     304  -62.56    3913.75   62.56\n",
      "2020-06-01   236.524238     237   -0.48       0.23    0.48\n",
      "2020-07-01   207.459033     202    5.46      29.81    5.46\n",
      "2020-08-01   202.060072     170   32.06    1027.84   32.06\n",
      "2020-09-01   213.261989     169   44.26    1958.95   44.26\n",
      "2020-10-01   212.403289     181   31.40     985.96   31.40\n",
      "2020-11-01   450.432338     478  -27.57     760.10   27.57\n",
      "2020-12-01   734.906434    1166 -431.09  185838.59  431.09\n",
      "2021-01-01  1303.260147    1165  138.26   19115.83  138.26\n",
      "2021-02-01  1044.385615    1052   -7.61      57.91    7.61\n"
     ]
    },
    {
     "name": "stderr",
     "output_type": "stream",
     "text": [
      "C:\\Users\\Paul\\anaconda3\\lib\\site-packages\\statsmodels\\tsa\\base\\tsa_model.py:524: ValueWarning: No frequency information was provided, so inferred frequency MS will be used.\n",
      "  warnings.warn('No frequency information was'\n",
      "C:\\Users\\Paul\\anaconda3\\lib\\site-packages\\statsmodels\\tsa\\base\\tsa_model.py:524: ValueWarning: No frequency information was provided, so inferred frequency MS will be used.\n",
      "  warnings.warn('No frequency information was'\n"
     ]
    },
    {
     "name": "stdout",
     "output_type": "stream",
     "text": [
      "            prediction  actual   error       mse    rmse\n",
      "2020-01-01  539.244096     589  -49.76   2476.06   49.76\n",
      "2020-02-01  588.454892     622  -33.55   1125.60   33.55\n",
      "2020-03-01  552.126207     494   58.13   3379.10   58.13\n",
      "2020-04-01  378.278922     340   38.28   1465.36   38.28\n",
      "2020-05-01  238.173971     307  -68.83   4737.57   68.83\n",
      "2020-06-01  213.477285     266  -52.52   2758.35   52.52\n",
      "2020-07-01  254.593244     232   22.59    510.31   22.59\n",
      "2020-08-01  264.832803     202   62.83   3947.61   62.83\n",
      "2020-09-01  245.761456     276  -30.24    914.46   30.24\n",
      "2020-10-01  328.047167     481 -152.95  23393.70  152.95\n",
      "2020-11-01  648.679465     650   -1.32      1.74    1.32\n",
      "2020-12-01  757.313755     891 -133.69  17873.02  133.69\n",
      "2021-01-01  968.581078     726  242.58  58845.06  242.58\n",
      "2021-02-01  659.363384     448  211.36  44673.05  211.36\n"
     ]
    },
    {
     "name": "stderr",
     "output_type": "stream",
     "text": [
      "C:\\Users\\Paul\\anaconda3\\lib\\site-packages\\statsmodels\\tsa\\base\\tsa_model.py:524: ValueWarning: No frequency information was provided, so inferred frequency MS will be used.\n",
      "  warnings.warn('No frequency information was'\n",
      "C:\\Users\\Paul\\anaconda3\\lib\\site-packages\\statsmodels\\tsa\\base\\tsa_model.py:524: ValueWarning: No frequency information was provided, so inferred frequency MS will be used.\n",
      "  warnings.warn('No frequency information was'\n"
     ]
    },
    {
     "name": "stdout",
     "output_type": "stream",
     "text": [
      "            prediction  actual   error       mse    rmse\n",
      "2020-01-01  595.582876     561   34.58   1195.78   34.58\n",
      "2020-02-01  514.486884     531  -16.51    272.58   16.51\n",
      "2020-03-01  556.430023     526   30.43    925.98   30.43\n",
      "2020-04-01  471.527273     474   -2.47      6.10    2.47\n",
      "2020-05-01  379.401364     379    0.40      0.16    0.40\n",
      "2020-06-01  297.413648     290    7.41     54.91    7.41\n",
      "2020-07-01  211.033189     246  -34.97   1222.90   34.97\n",
      "2020-08-01  202.996514     207   -4.00     16.00    4.00\n",
      "2020-09-01  276.307489     275    1.31      1.72    1.31\n",
      "2020-10-01  334.657761     462 -127.34  16215.48  127.34\n",
      "2020-11-01  631.605436     458  173.61  30140.43  173.61\n",
      "2020-12-01  485.480958     486   -0.52      0.27    0.52\n",
      "2021-01-01  536.995818     520   17.00    289.00   17.00\n",
      "2021-02-01  474.391668     512  -37.61   1414.51   37.61\n"
     ]
    },
    {
     "name": "stderr",
     "output_type": "stream",
     "text": [
      "C:\\Users\\Paul\\anaconda3\\lib\\site-packages\\statsmodels\\tsa\\base\\tsa_model.py:524: ValueWarning: No frequency information was provided, so inferred frequency MS will be used.\n",
      "  warnings.warn('No frequency information was'\n",
      "C:\\Users\\Paul\\anaconda3\\lib\\site-packages\\statsmodels\\tsa\\base\\tsa_model.py:524: ValueWarning: No frequency information was provided, so inferred frequency MS will be used.\n",
      "  warnings.warn('No frequency information was'\n"
     ]
    },
    {
     "name": "stdout",
     "output_type": "stream",
     "text": [
      "             prediction  actual   error       mse    rmse\n",
      "2020-01-01   939.272570     833  106.27  11293.31  106.27\n",
      "2020-02-01   713.266051     726  -12.73    162.05   12.73\n",
      "2020-03-01   676.750104     649   27.75    770.06   27.75\n",
      "2020-04-01   504.739151     528  -23.26    541.03   23.26\n",
      "2020-05-01   458.422327     498  -39.58   1566.58   39.58\n",
      "2020-06-01   439.226692     447   -7.77     60.37    7.77\n",
      "2020-07-01   424.059048     457  -32.94   1085.04   32.94\n",
      "2020-08-01   459.982286     453    6.98     48.72    6.98\n",
      "2020-09-01   490.165483     508  -17.83    317.91   17.83\n",
      "2020-10-01   574.680190     691 -116.32  13530.34  116.32\n",
      "2020-11-01   970.897201     833  137.90  19016.41  137.90\n",
      "2020-12-01   922.084580    1057 -134.92  18203.41  134.92\n",
      "2021-01-01  1150.100895     990  160.10  25632.01  160.10\n",
      "2021-02-01   794.171187     813  -18.83    354.57   18.83\n"
     ]
    },
    {
     "name": "stderr",
     "output_type": "stream",
     "text": [
      "C:\\Users\\Paul\\anaconda3\\lib\\site-packages\\statsmodels\\tsa\\base\\tsa_model.py:524: ValueWarning: No frequency information was provided, so inferred frequency MS will be used.\n",
      "  warnings.warn('No frequency information was'\n",
      "C:\\Users\\Paul\\anaconda3\\lib\\site-packages\\statsmodels\\tsa\\base\\tsa_model.py:524: ValueWarning: No frequency information was provided, so inferred frequency MS will be used.\n",
      "  warnings.warn('No frequency information was'\n"
     ]
    },
    {
     "name": "stdout",
     "output_type": "stream",
     "text": [
      "            prediction  actual   error       mse    rmse\n",
      "2020-01-01  925.112440     940  -14.89    221.71   14.89\n",
      "2020-02-01  903.053485     935  -31.95   1020.80   31.95\n",
      "2020-03-01  816.286071     710  106.29  11297.56  106.29\n",
      "2020-04-01  527.631496     458   69.63   4848.34   69.63\n",
      "2020-05-01  332.795246     384  -51.20   2621.44   51.20\n",
      "2020-06-01  319.362726     310    9.36     87.61    9.36\n",
      "2020-07-01  271.364768     279   -7.64     58.37    7.64\n",
      "2020-08-01  289.289084     247   42.29   1788.44   42.29\n",
      "2020-09-01  303.203298     276   27.20    739.84   27.20\n",
      "2020-10-01  332.540242     371  -38.46   1479.17   38.46\n",
      "2020-11-01  592.363661     520   72.36   5235.97   72.36\n",
      "2020-12-01  690.633074     725  -34.37   1181.30   34.37\n",
      "2021-01-01  786.695237     769   17.70    313.29   17.70\n",
      "2021-02-01  726.553945     748  -21.45    460.10   21.45\n"
     ]
    },
    {
     "name": "stderr",
     "output_type": "stream",
     "text": [
      "C:\\Users\\Paul\\anaconda3\\lib\\site-packages\\statsmodels\\tsa\\base\\tsa_model.py:524: ValueWarning: No frequency information was provided, so inferred frequency MS will be used.\n",
      "  warnings.warn('No frequency information was'\n",
      "C:\\Users\\Paul\\anaconda3\\lib\\site-packages\\statsmodels\\tsa\\base\\tsa_model.py:524: ValueWarning: No frequency information was provided, so inferred frequency MS will be used.\n",
      "  warnings.warn('No frequency information was'\n"
     ]
    },
    {
     "name": "stdout",
     "output_type": "stream",
     "text": [
      "            prediction  actual  error      mse   rmse\n",
      "2020-01-01  208.119337     144  64.12  4111.37  64.12\n",
      "2020-02-01   79.595912     103 -23.40   547.56  23.40\n",
      "2020-03-01  114.804399      99  15.80   249.64  15.80\n",
      "2020-04-01   76.583340      87 -10.42   108.58  10.42\n",
      "2020-05-01   66.980829      94 -27.02   730.08  27.02\n",
      "2020-06-01   90.871126      93  -2.13     4.54   2.13\n",
      "2020-07-01   87.479801      92  -4.52    20.43   4.52\n",
      "2020-08-01   88.453999      89  -0.55     0.30   0.55\n",
      "2020-09-01  133.622996     100  33.62  1130.30  33.62\n",
      "2020-10-01  120.066863     137 -16.93   286.62  16.93\n",
      "2020-11-01  143.797414     125  18.80   353.44  18.80\n",
      "2020-12-01  117.330789     123  -5.67    32.15   5.67\n",
      "2021-01-01  123.981050     165 -41.02  1682.64  41.02\n",
      "2021-02-01  159.554593     202 -42.45  1802.00  42.45\n"
     ]
    },
    {
     "name": "stderr",
     "output_type": "stream",
     "text": [
      "C:\\Users\\Paul\\anaconda3\\lib\\site-packages\\statsmodels\\tsa\\base\\tsa_model.py:524: ValueWarning: No frequency information was provided, so inferred frequency MS will be used.\n",
      "  warnings.warn('No frequency information was'\n",
      "C:\\Users\\Paul\\anaconda3\\lib\\site-packages\\statsmodels\\tsa\\base\\tsa_model.py:524: ValueWarning: No frequency information was provided, so inferred frequency MS will be used.\n",
      "  warnings.warn('No frequency information was'\n"
     ]
    },
    {
     "name": "stdout",
     "output_type": "stream",
     "text": [
      "             prediction  actual   error        mse    rmse\n",
      "2020-01-01  2151.014004    2152   -0.99       0.98    0.99\n",
      "2020-02-01  2018.294237    2089  -70.71    4999.90   70.71\n",
      "2020-03-01  1760.688388    1487  273.69   74906.22  273.69\n",
      "2020-04-01   926.255946     846   80.26    6441.67   80.26\n",
      "2020-05-01   284.537787     549 -264.46   69939.09  264.46\n",
      "2020-06-01   309.263360     303    6.26      39.19    6.26\n",
      "2020-07-01   221.900048     281  -59.10    3492.81   59.10\n",
      "2020-08-01   255.848414     259   -3.15       9.92    3.15\n",
      "2020-09-01   483.912508     370  113.91   12975.49  113.91\n",
      "2020-10-01   493.604223     671 -177.40   31470.76  177.40\n",
      "2020-11-01  1567.903965    1101  466.90  217995.61  466.90\n",
      "2020-12-01  1578.930252    1672  -93.07    8662.02   93.07\n",
      "2021-01-01  1799.903252    1721   78.90    6225.21   78.90\n",
      "2021-02-01  1557.434788    1615  -57.57    3314.30   57.57\n"
     ]
    },
    {
     "name": "stderr",
     "output_type": "stream",
     "text": [
      "C:\\Users\\Paul\\anaconda3\\lib\\site-packages\\statsmodels\\tsa\\base\\tsa_model.py:524: ValueWarning: No frequency information was provided, so inferred frequency MS will be used.\n",
      "  warnings.warn('No frequency information was'\n",
      "C:\\Users\\Paul\\anaconda3\\lib\\site-packages\\statsmodels\\tsa\\base\\tsa_model.py:524: ValueWarning: No frequency information was provided, so inferred frequency MS will be used.\n",
      "  warnings.warn('No frequency information was'\n"
     ]
    },
    {
     "name": "stdout",
     "output_type": "stream",
     "text": [
      "            prediction  actual  error      mse   rmse\n",
      "2020-01-01  632.253612     556  76.25  5814.06  76.25\n",
      "2020-02-01  486.251663     521 -34.75  1207.56  34.75\n",
      "2020-03-01  488.041152     519 -30.96   958.52  30.96\n",
      "2020-04-01  446.376253     472 -25.62   656.38  25.62\n",
      "2020-05-01  445.493654     443   2.49     6.20   2.49\n",
      "2020-06-01  401.667326     398   3.67    13.47   3.67\n",
      "2020-07-01  332.280739     340  -7.72    59.60   7.72\n",
      "2020-08-01  298.851489     288  10.85   117.72  10.85\n",
      "2020-09-01  325.215504     305  20.22   408.85  20.22\n",
      "2020-10-01  338.643283     378 -39.36  1549.21  39.36\n",
      "2020-11-01  515.253828     503  12.25   150.06  12.25\n",
      "2020-12-01  600.306221     681 -80.69  6510.88  80.69\n",
      "2021-01-01  761.943181     809 -47.06  2214.64  47.06\n",
      "2021-02-01  805.453923     893 -87.55  7665.00  87.55\n"
     ]
    },
    {
     "name": "stderr",
     "output_type": "stream",
     "text": [
      "C:\\Users\\Paul\\anaconda3\\lib\\site-packages\\statsmodels\\tsa\\base\\tsa_model.py:524: ValueWarning: No frequency information was provided, so inferred frequency MS will be used.\n",
      "  warnings.warn('No frequency information was'\n",
      "C:\\Users\\Paul\\anaconda3\\lib\\site-packages\\statsmodels\\tsa\\base\\tsa_model.py:524: ValueWarning: No frequency information was provided, so inferred frequency MS will be used.\n",
      "  warnings.warn('No frequency information was'\n"
     ]
    },
    {
     "name": "stdout",
     "output_type": "stream",
     "text": [
      "             prediction  actual   error       mse    rmse\n",
      "2020-01-01  1365.536668    1300   65.54   4295.49   65.54\n",
      "2020-02-01  1233.187464    1246  -12.81    164.10   12.81\n",
      "2020-03-01  1107.726972     992  115.73  13393.43  115.73\n",
      "2020-04-01   762.375079     691   71.38   5095.10   71.38\n",
      "2020-05-01   474.987336     568  -93.01   8650.86   93.01\n",
      "2020-06-01   449.452531     449    0.45      0.20    0.45\n",
      "2020-07-01   444.538661     379   65.54   4295.49   65.54\n",
      "2020-08-01   346.523511     317   29.52    871.43   29.52\n",
      "2020-09-01   349.983447     348    1.98      3.92    1.98\n",
      "2020-10-01   395.556794     458  -62.44   3898.75   62.44\n",
      "2020-11-01   792.911208     650  142.91  20423.27  142.91\n",
      "2020-12-01   889.767504     915  -25.23    636.55   25.23\n",
      "2021-01-01   984.065456     867  117.07  13705.38  117.07\n",
      "2021-02-01   778.204771     720   58.20   3387.24   58.20\n"
     ]
    },
    {
     "name": "stderr",
     "output_type": "stream",
     "text": [
      "C:\\Users\\Paul\\anaconda3\\lib\\site-packages\\statsmodels\\tsa\\base\\tsa_model.py:524: ValueWarning: No frequency information was provided, so inferred frequency MS will be used.\n",
      "  warnings.warn('No frequency information was'\n",
      "C:\\Users\\Paul\\anaconda3\\lib\\site-packages\\statsmodels\\tsa\\base\\tsa_model.py:524: ValueWarning: No frequency information was provided, so inferred frequency MS will be used.\n",
      "  warnings.warn('No frequency information was'\n"
     ]
    },
    {
     "name": "stdout",
     "output_type": "stream",
     "text": [
      "             prediction  actual   error       mse    rmse\n",
      "2020-01-01   646.686986     620   26.69    712.36   26.69\n",
      "2020-02-01   574.621635     591  -16.38    268.30   16.38\n",
      "2020-03-01   481.532167     449   32.53   1058.20   32.53\n",
      "2020-04-01   287.534903     290   -2.47      6.10    2.47\n",
      "2020-05-01   193.644130     253  -59.36   3523.61   59.36\n",
      "2020-06-01   193.944237     214  -20.06    402.40   20.06\n",
      "2020-07-01   203.899535     203    0.90      0.81    0.90\n",
      "2020-08-01   188.075709     190   -1.92      3.69    1.92\n",
      "2020-09-01   215.362239     299  -83.64   6995.65   83.64\n",
      "2020-10-01   399.524861     591 -191.48  36664.59  191.48\n",
      "2020-11-01   826.847748     803   23.85    568.82   23.85\n",
      "2020-12-01   949.955310    1101 -151.04  22813.08  151.04\n",
      "2021-01-01  1197.859818    1081  116.86  13656.26  116.86\n",
      "2021-02-01   997.329647     949   48.33   2335.79   48.33\n"
     ]
    },
    {
     "name": "stderr",
     "output_type": "stream",
     "text": [
      "C:\\Users\\Paul\\anaconda3\\lib\\site-packages\\statsmodels\\tsa\\base\\tsa_model.py:524: ValueWarning: No frequency information was provided, so inferred frequency MS will be used.\n",
      "  warnings.warn('No frequency information was'\n",
      "C:\\Users\\Paul\\anaconda3\\lib\\site-packages\\statsmodels\\tsa\\base\\tsa_model.py:524: ValueWarning: No frequency information was provided, so inferred frequency MS will be used.\n",
      "  warnings.warn('No frequency information was'\n"
     ]
    },
    {
     "name": "stdout",
     "output_type": "stream",
     "text": [
      "            prediction  actual   error       mse    rmse\n",
      "2020-01-01  531.993815     491   40.99   1680.18   40.99\n",
      "2020-02-01  366.194314     405  -38.81   1506.22   38.81\n",
      "2020-03-01  354.849794     356   -1.15      1.32    1.15\n",
      "2020-04-01  234.393387     283  -48.61   2362.93   48.61\n",
      "2020-05-01  164.984270     219  -54.02   2918.16   54.02\n",
      "2020-06-01  167.214381     161    6.21     38.56    6.21\n",
      "2020-07-01  144.893249     156  -11.11    123.43   11.11\n",
      "2020-08-01  160.802531     148   12.80    163.84   12.80\n",
      "2020-09-01  163.560088     183  -19.44    377.91   19.44\n",
      "2020-10-01  225.821035     281  -55.18   3044.83   55.18\n",
      "2020-11-01  594.994764     377  217.99  47519.64  217.99\n",
      "2020-12-01  438.162655     515  -76.84   5904.39   76.84\n",
      "2021-01-01  520.867699     559  -38.13   1453.90   38.13\n",
      "2021-02-01  483.894279     561  -77.11   5945.95   77.11\n"
     ]
    },
    {
     "name": "stderr",
     "output_type": "stream",
     "text": [
      "C:\\Users\\Paul\\anaconda3\\lib\\site-packages\\statsmodels\\tsa\\base\\tsa_model.py:524: ValueWarning: No frequency information was provided, so inferred frequency MS will be used.\n",
      "  warnings.warn('No frequency information was'\n",
      "C:\\Users\\Paul\\anaconda3\\lib\\site-packages\\statsmodels\\tsa\\base\\tsa_model.py:524: ValueWarning: No frequency information was provided, so inferred frequency MS will be used.\n",
      "  warnings.warn('No frequency information was'\n"
     ]
    },
    {
     "name": "stdout",
     "output_type": "stream",
     "text": [
      "             prediction  actual   error       mse    rmse\n",
      "2020-01-01  1044.177772    1223 -178.82  31976.59  178.82\n",
      "2020-02-01  1188.845938    1323 -134.15  17996.22  134.15\n",
      "2020-03-01  1166.914063     969  197.91  39168.37  197.91\n",
      "2020-04-01   651.970726     583   68.97   4756.86   68.97\n",
      "2020-05-01   400.636344     437  -36.36   1322.05   36.36\n",
      "2020-06-01   325.044581     306   19.04    362.52   19.04\n",
      "2020-07-01   302.222459     286   16.22    263.09   16.22\n",
      "2020-08-01   280.875716     264   16.88    284.93   16.88\n",
      "2020-09-01   325.007804     368  -42.99   1848.14   42.99\n",
      "2020-10-01   450.761281     653 -202.24  40901.02  202.24\n",
      "2020-11-01  1055.065376    1114  -58.93   3472.74   58.93\n",
      "2020-12-01  1418.731250    1721 -302.27  91367.15  302.27\n",
      "2021-01-01  2024.282871    1797  227.28  51656.20  227.28\n",
      "2021-02-01  1738.689957    1719   19.69    387.70   19.69\n"
     ]
    }
   ],
   "source": [
    "for m in meter_ids:\n",
    "    df = pd.read_csv('CHL_Monthly_Stacked.csv', header=0, sep='[,]', parse_dates=True, squeeze=True, dayfirst=True, engine='python')\n",
    "    df['Date'] = pd.to_datetime(df['Date'], dayfirst=True)\n",
    "    df.columns =['MeterNo', 'WeekNo', 'kWh']\n",
    "    y = df.set_index(['WeekNo'])\n",
    "    y = y.loc[y['MeterNo'] == m]\n",
    "    y.drop(y.columns[[0]], axis = 1, inplace = True)\n",
    "    mod = sm.tsa.statespace.SARIMAX(y,\n",
    "                                order=(1, 1, 1),\n",
    "                                seasonal_order=(0, 1, 1, 12),\n",
    "                                enforce_stationarity=False,\n",
    "                                enforce_invertibility=False)\n",
    "    results = mod.fit()\n",
    "    pred = results.get_prediction(start=pd.to_datetime(pred_date), dynamic=False)\n",
    "    y_forecasted = pred.predicted_mean\n",
    "    y_forecasted =y_forecasted.to_frame()\n",
    "    y_truth = y[pred_date:]\n",
    "    df1 = merge(y_forecasted, y_truth, left_index=True, right_index=True)\n",
    "    df1.columns =['prediction', 'actual']\n",
    "    df1['error'] = round(((df1['prediction'] - df1['actual'])),2)\n",
    "    df1['mse'] = round(df1['error'] ** 2,2)\n",
    "    df1['rmse'] = round(np.sqrt(df1['mse']),2)\n",
    "    print(df1)\n",
    "    df2 = df2.append(df1)"
   ]
  },
  {
   "cell_type": "code",
   "execution_count": 7,
   "metadata": {},
   "outputs": [
    {
     "name": "stdout",
     "output_type": "stream",
     "text": [
      "             prediction actual   error       mse    rmse\n",
      "2020-01-01   191.275406    181   10.28    105.68   10.28\n",
      "2020-02-01   155.619192    157   -1.38      1.90    1.38\n",
      "2020-03-01   147.879303    121   26.88    722.53   26.88\n",
      "2020-04-01    80.473386     80    0.47      0.22    0.47\n",
      "2020-05-01    58.924402     72  -13.08    171.09   13.08\n",
      "...                 ...    ...     ...       ...     ...\n",
      "2020-10-01   450.761281    653 -202.24  40901.02  202.24\n",
      "2020-11-01  1055.065376   1114  -58.93   3472.74   58.93\n",
      "2020-12-01  1418.731250   1721 -302.27  91367.15  302.27\n",
      "2021-01-01  2024.282871   1797  227.28  51656.20  227.28\n",
      "2021-02-01  1738.689957   1719   19.69    387.70   19.69\n",
      "\n",
      "[3990 rows x 5 columns]\n"
     ]
    }
   ],
   "source": [
    "# Each meter per week\n",
    "df2 = df2.dropna()\n",
    "print(df2)"
   ]
  },
  {
   "cell_type": "code",
   "execution_count": 8,
   "metadata": {},
   "outputs": [
    {
     "data": {
      "text/html": [
       "<div>\n",
       "<style scoped>\n",
       "    .dataframe tbody tr th:only-of-type {\n",
       "        vertical-align: middle;\n",
       "    }\n",
       "\n",
       "    .dataframe tbody tr th {\n",
       "        vertical-align: top;\n",
       "    }\n",
       "\n",
       "    .dataframe thead th {\n",
       "        text-align: right;\n",
       "    }\n",
       "</style>\n",
       "<table border=\"1\" class=\"dataframe\">\n",
       "  <thead>\n",
       "    <tr style=\"text-align: right;\">\n",
       "      <th></th>\n",
       "      <th>prediction</th>\n",
       "      <th>actual</th>\n",
       "      <th>error</th>\n",
       "      <th>mse</th>\n",
       "      <th>rmse</th>\n",
       "    </tr>\n",
       "  </thead>\n",
       "  <tbody>\n",
       "    <tr>\n",
       "      <th>min</th>\n",
       "      <td>-1977.60</td>\n",
       "      <td>-1821.00</td>\n",
       "      <td>-1255.60</td>\n",
       "      <td>0.00</td>\n",
       "      <td>0.00</td>\n",
       "    </tr>\n",
       "    <tr>\n",
       "      <th>max</th>\n",
       "      <td>2230.65</td>\n",
       "      <td>2152.00</td>\n",
       "      <td>1249.00</td>\n",
       "      <td>1576531.36</td>\n",
       "      <td>1255.60</td>\n",
       "    </tr>\n",
       "    <tr>\n",
       "      <th>mean</th>\n",
       "      <td>397.61</td>\n",
       "      <td>395.77</td>\n",
       "      <td>1.84</td>\n",
       "      <td>6682.50</td>\n",
       "      <td>49.48</td>\n",
       "    </tr>\n",
       "    <tr>\n",
       "      <th>sum</th>\n",
       "      <td>1586457.25</td>\n",
       "      <td>1579125.00</td>\n",
       "      <td>7332.20</td>\n",
       "      <td>26663171.49</td>\n",
       "      <td>197435.89</td>\n",
       "    </tr>\n",
       "    <tr>\n",
       "      <th>count</th>\n",
       "      <td>3990.00</td>\n",
       "      <td>3990.00</td>\n",
       "      <td>3990.00</td>\n",
       "      <td>3990.00</td>\n",
       "      <td>3990.00</td>\n",
       "    </tr>\n",
       "  </tbody>\n",
       "</table>\n",
       "</div>"
      ],
      "text/plain": [
       "       prediction      actual    error          mse       rmse\n",
       "min      -1977.60    -1821.00 -1255.60         0.00       0.00\n",
       "max       2230.65     2152.00  1249.00   1576531.36    1255.60\n",
       "mean       397.61      395.77     1.84      6682.50      49.48\n",
       "sum    1586457.25  1579125.00  7332.20  26663171.49  197435.89\n",
       "count     3990.00     3990.00  3990.00      3990.00    3990.00"
      ]
     },
     "execution_count": 8,
     "metadata": {},
     "output_type": "execute_result"
    }
   ],
   "source": [
    "# Summary of each meter for each week\n",
    "def Summary(x):\n",
    "    return round(Series(index=['min','max', 'mean','sum','count'],data=[x.min(),x.max(),x.mean(),x.sum(),x.count()]),2)\n",
    "df2.apply(Summary)"
   ]
  },
  {
   "cell_type": "code",
   "execution_count": 9,
   "metadata": {},
   "outputs": [
    {
     "name": "stdout",
     "output_type": "stream",
     "text": [
      "             prediction actual\n",
      "2020-01-01   191.275406    181\n",
      "2020-02-01   155.619192    157\n",
      "2020-03-01   147.879303    121\n",
      "2020-04-01    80.473386     80\n",
      "2020-05-01    58.924402     72\n",
      "...                 ...    ...\n",
      "2020-10-01   450.761281    653\n",
      "2020-11-01  1055.065376   1114\n",
      "2020-12-01  1418.731250   1721\n",
      "2021-01-01  2024.282871   1797\n",
      "2021-02-01  1738.689957   1719\n",
      "\n",
      "[3990 rows x 2 columns]\n"
     ]
    }
   ],
   "source": [
    "df2.drop(df2.columns[[2,3,4]], axis = 1, inplace = True)\n",
    "print(df2)"
   ]
  },
  {
   "cell_type": "code",
   "execution_count": 10,
   "metadata": {},
   "outputs": [
    {
     "name": "stdout",
     "output_type": "stream",
     "text": [
      "               prediction  actual\n",
      "2020-01-01  161625.747270  157644\n",
      "2020-02-01  145662.201194  153167\n",
      "2020-03-01  144876.256473  132075\n",
      "2020-04-01  104765.692205  102761\n",
      "2020-05-01   80535.176466   86880\n",
      "2020-06-01   71011.878136   70208\n",
      "2020-07-01   65346.233758   65112\n",
      "2020-08-01   61382.345226   59640\n",
      "2020-09-01   72992.078193   68140\n",
      "2020-10-01   80588.959068   97677\n",
      "2020-11-01  136550.603036  121306\n",
      "2020-12-01  143299.414317  157891\n",
      "2021-01-01  173304.817659  159650\n",
      "2021-02-01  144515.850499  146974\n"
     ]
    }
   ],
   "source": [
    "df2a = df2.groupby(df2.index)['prediction'].sum()\n",
    "df2b = df2.groupby(df2.index)['actual'].sum()\n",
    "df3 = merge(df2a, df2b, left_index=True, right_index=True)\n",
    "print(df3)"
   ]
  },
  {
   "cell_type": "code",
   "execution_count": 11,
   "metadata": {},
   "outputs": [
    {
     "name": "stdout",
     "output_type": "stream",
     "text": [
      "               prediction  actual     error           mse      rmse     %error\n",
      "2020-01-01  161625.747270  157644   3981.75  1.585433e+07   3981.75   2.525786\n",
      "2020-02-01  145662.201194  153167  -7504.80  5.632202e+07   7504.80  -4.899750\n",
      "2020-03-01  144876.256473  132075  12801.26  1.638723e+08  12801.26   9.692417\n",
      "2020-04-01  104765.692205  102761   2004.69  4.018782e+06   2004.69   1.950828\n",
      "2020-05-01   80535.176466   86880  -6344.82  4.025674e+07   6344.82  -7.302970\n",
      "2020-06-01   71011.878136   70208    803.88  6.462231e+05    803.88   1.144998\n",
      "2020-07-01   65346.233758   65112    234.23  5.486369e+04    234.23   0.359734\n",
      "2020-08-01   61382.345226   59640   1742.35  3.035784e+06   1742.35   2.921445\n",
      "2020-09-01   72992.078193   68140   4852.08  2.354268e+07   4852.08   7.120751\n",
      "2020-10-01   80588.959068   97677 -17088.04  2.920011e+08  17088.04 -17.494436\n",
      "2020-11-01  136550.603036  121306  15244.60  2.323978e+08  15244.60  12.567062\n",
      "2020-12-01  143299.414317  157891 -14591.59  2.129145e+08  14591.59  -9.241559\n",
      "2021-01-01  173304.817659  159650  13654.82  1.864541e+08  13654.82   8.552972\n",
      "2021-02-01  144515.850499  146974  -2458.15  6.042501e+06   2458.15  -1.672507\n"
     ]
    }
   ],
   "source": [
    "# Sum of all meters for each week\n",
    "df3['error'] = round(((df3['prediction'] - df3['actual'])),2)\n",
    "df3['mse'] = df3['error'] ** 2\n",
    "df3['rmse'] = round(np.sqrt(df3['mse']),2)\n",
    "df3['%error'] = (df3['error']/df3['actual'])*100\n",
    "print(df3)\n",
    "df3.to_csv('CHL_SARIMA_AllMeters_Monthly.csv')"
   ]
  },
  {
   "cell_type": "code",
   "execution_count": 12,
   "metadata": {},
   "outputs": [
    {
     "data": {
      "text/html": [
       "<div>\n",
       "<style scoped>\n",
       "    .dataframe tbody tr th:only-of-type {\n",
       "        vertical-align: middle;\n",
       "    }\n",
       "\n",
       "    .dataframe tbody tr th {\n",
       "        vertical-align: top;\n",
       "    }\n",
       "\n",
       "    .dataframe thead th {\n",
       "        text-align: right;\n",
       "    }\n",
       "</style>\n",
       "<table border=\"1\" class=\"dataframe\">\n",
       "  <thead>\n",
       "    <tr style=\"text-align: right;\">\n",
       "      <th></th>\n",
       "      <th>prediction</th>\n",
       "      <th>actual</th>\n",
       "      <th>error</th>\n",
       "      <th>mse</th>\n",
       "      <th>rmse</th>\n",
       "      <th>%error</th>\n",
       "    </tr>\n",
       "  </thead>\n",
       "  <tbody>\n",
       "    <tr>\n",
       "      <th>min</th>\n",
       "      <td>61382.35</td>\n",
       "      <td>59640.00</td>\n",
       "      <td>-17088.04</td>\n",
       "      <td>5.486369e+04</td>\n",
       "      <td>234.23</td>\n",
       "      <td>-17.49</td>\n",
       "    </tr>\n",
       "    <tr>\n",
       "      <th>max</th>\n",
       "      <td>173304.82</td>\n",
       "      <td>159650.00</td>\n",
       "      <td>15244.60</td>\n",
       "      <td>2.920011e+08</td>\n",
       "      <td>17088.04</td>\n",
       "      <td>12.57</td>\n",
       "    </tr>\n",
       "    <tr>\n",
       "      <th>mean</th>\n",
       "      <td>113318.38</td>\n",
       "      <td>112794.64</td>\n",
       "      <td>523.73</td>\n",
       "      <td>8.838670e+07</td>\n",
       "      <td>7379.08</td>\n",
       "      <td>0.44</td>\n",
       "    </tr>\n",
       "    <tr>\n",
       "      <th>sum</th>\n",
       "      <td>1586457.25</td>\n",
       "      <td>1579125.00</td>\n",
       "      <td>7332.26</td>\n",
       "      <td>1.237414e+09</td>\n",
       "      <td>103307.06</td>\n",
       "      <td>6.22</td>\n",
       "    </tr>\n",
       "    <tr>\n",
       "      <th>count</th>\n",
       "      <td>14.00</td>\n",
       "      <td>14.00</td>\n",
       "      <td>14.00</td>\n",
       "      <td>1.400000e+01</td>\n",
       "      <td>14.00</td>\n",
       "      <td>14.00</td>\n",
       "    </tr>\n",
       "  </tbody>\n",
       "</table>\n",
       "</div>"
      ],
      "text/plain": [
       "       prediction      actual     error           mse       rmse  %error\n",
       "min      61382.35    59640.00 -17088.04  5.486369e+04     234.23  -17.49\n",
       "max     173304.82   159650.00  15244.60  2.920011e+08   17088.04   12.57\n",
       "mean    113318.38   112794.64    523.73  8.838670e+07    7379.08    0.44\n",
       "sum    1586457.25  1579125.00   7332.26  1.237414e+09  103307.06    6.22\n",
       "count       14.00       14.00     14.00  1.400000e+01      14.00   14.00"
      ]
     },
     "execution_count": 12,
     "metadata": {},
     "output_type": "execute_result"
    }
   ],
   "source": [
    "# Summary of the sum of all meters for each week\n",
    "df3.apply(Summary)"
   ]
  },
  {
   "cell_type": "markdown",
   "metadata": {},
   "source": [
    "for param in pdq:\n",
    "    for param_seasonal in seasonal_pdq:\n",
    "        try:\n",
    "            mod = sm.tsa.statespace.SARIMAX(y,order=param,seasonal_order=param_seasonal,enforce_stationarity=False,enforce_invertibility=False, period=1)\n",
    "            results = mod.fit()\n",
    "            print('ARIMA{}x{}12 - AIC:{}'.format(param,param_seasonal,results.aic))\n",
    "        except: \n",
    "            continue"
   ]
  },
  {
   "cell_type": "markdown",
   "metadata": {},
   "source": [
    "for m in meter_ids:\n",
    "    df = pd.read_csv('CHL_Monthly_Stacked.csv', header=0, sep='[,]', parse_dates=True, squeeze=True, dayfirst=True, engine='python')\n",
    "    df['Date'] = pd.to_datetime(df['Date'], dayfirst=True)\n",
    "    df.columns =['MeterNo', 'WeekNo', 'kWh']\n",
    "    y = df.set_index(['WeekNo'])\n",
    "    y = y.loc[y['MeterNo'] == m]\n",
    "    y.drop(y.columns[[0]], axis = 1, inplace = True)\n",
    "    #print(y)\n",
    "    for param in pdq:\n",
    "        for param_seasonal in seasonal_pdq:\n",
    "            try:\n",
    "                mod = sm.tsa.statespace.SARIMAX(y,order=param,seasonal_order=param_seasonal,enforce_stationarity=False,enforce_invertibility=False)\n",
    "                results = mod.fit()\n",
    "                print('ARIMA{}x{}12 - AIC:{}'.format(param,param_seasonal,results.aic))\n",
    "            except: \n",
    "                continue"
   ]
  }
 ],
 "metadata": {
  "kernelspec": {
   "display_name": "Python 3",
   "language": "python",
   "name": "python3"
  },
  "language_info": {
   "codemirror_mode": {
    "name": "ipython",
    "version": 3
   },
   "file_extension": ".py",
   "mimetype": "text/x-python",
   "name": "python",
   "nbconvert_exporter": "python",
   "pygments_lexer": "ipython3",
   "version": "3.8.5"
  }
 },
 "nbformat": 4,
 "nbformat_minor": 2
}
