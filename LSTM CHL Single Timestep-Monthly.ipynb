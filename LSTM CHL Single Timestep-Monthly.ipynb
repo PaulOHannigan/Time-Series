{
 "cells": [
  {
   "cell_type": "markdown",
   "metadata": {},
   "source": [
    "# Multivariate Time Series Forecasting with LSTMs in Keras\n",
    "#### Reference: https://machinelearningmastery.com/multivariate-time-series-forecasting-lstms-keras/"
   ]
  },
  {
   "cell_type": "markdown",
   "metadata": {},
   "source": [
    "### Train On Single Lag Timestep - All meters"
   ]
  },
  {
   "cell_type": "code",
   "execution_count": 1,
   "metadata": {},
   "outputs": [],
   "source": [
    "from math import sqrt\n",
    "from numpy import concatenate, savetxt\n",
    "from matplotlib import pyplot\n",
    "from pandas import read_csv, DataFrame, concat\n",
    "from sklearn.preprocessing import MinMaxScaler, LabelEncoder\n",
    "from sklearn.metrics import mean_squared_error\n",
    "from keras.models import Sequential\n",
    "from keras.layers import Dense, LSTM\n"
   ]
  },
  {
   "cell_type": "code",
   "execution_count": 2,
   "metadata": {},
   "outputs": [],
   "source": [
    "# convert series to supervised learning\n",
    "def series_to_supervised(data, n_in=1, n_out=1, dropnan=True):\n",
    "\tn_vars = 1 if type(data) is list else data.shape[1]\n",
    "\tdf = DataFrame(data)\n",
    "\tcols, names = list(), list()\n",
    "\t# input sequence (t-n, ... t-1)\n",
    "\tfor i in range(n_in, 0, -1):\n",
    "\t\tcols.append(df.shift(i))\n",
    "\t\tnames += [('var%d(t-%d)' % (j+1, i)) for j in range(n_vars)]\n",
    "\t# forecast sequence (t, t+1, ... t+n)\n",
    "\tfor i in range(0, n_out):\n",
    "\t\tcols.append(df.shift(-i))\n",
    "\t\tif i == 0:\n",
    "\t\t\tnames += [('var%d(t)' % (j+1)) for j in range(n_vars)]\n",
    "\t\telse:\n",
    "\t\t\tnames += [('var%d(t+%d)' % (j+1, i)) for j in range(n_vars)]\n",
    "\t# put it all together\n",
    "\tagg = concat(cols, axis=1)\n",
    "\tagg.columns = names\n",
    "\t# drop rows with NaN values\n",
    "\tif dropnan:\n",
    "\t\tagg.dropna(inplace=True)\n",
    "\treturn agg\n",
    " \n"
   ]
  },
  {
   "cell_type": "code",
   "execution_count": 3,
   "metadata": {},
   "outputs": [
    {
     "name": "stdout",
     "output_type": "stream",
     "text": [
      "   kWh  MeterNo  DDH  Area_m2  Const_Year  Month\n",
      "0  133      101  318     73.0      2007.0      1\n",
      "1  182      101  311     73.0      2007.0      2\n",
      "2  180      101  380     73.0      2007.0      3\n",
      "3  157      101  254     73.0      2007.0      4\n",
      "4   95      101  168     73.0      2007.0      5\n",
      "   var1(t-1)  var2(t-1)  var3(t-1)  var4(t-1)  var5(t-1)  var6(t-1)   var1(t)\n",
      "1   0.287458        0.0   0.825352   0.302326        0.0   0.000000  0.290976\n",
      "2   0.290976        0.0   0.805634   0.302326        0.0   0.090909  0.290832\n",
      "3   0.290832        0.0   1.000000   0.302326        0.0   0.181818  0.289181\n",
      "4   0.289181        0.0   0.645070   0.302326        0.0   0.272727  0.284730\n",
      "5   0.284730        0.0   0.402817   0.302326        0.0   0.363636  0.281571\n",
      "   var1(t-1)  var2(t-1)  var3(t-1)  var4(t-1)  var5(t-1)  var6(t-1)   var1(t)\n",
      "0   0.291119   0.678161   0.101408   0.000000        0.0   0.454545  0.290976\n",
      "1   0.308565   0.275862   0.819718   0.302326        0.0   1.000000  0.290760\n",
      "2   0.290617   0.850575   0.107042   0.302326        0.0   0.454545  0.290042\n",
      "3   0.332185   0.327586   0.763380   0.000000        0.0   0.000000  0.325436\n",
      "4   0.315170   0.080460   0.019718   0.302326        0.0   0.545455  0.316031\n"
     ]
    }
   ],
   "source": [
    "# load dataset\n",
    "#dataset = read_csv('DFS04690650Rand.txt', header=0, index_col=0)\n",
    "dataset = read_csv('CharlestownAllMonth.csv', header=0, sep='[,]', parse_dates=True, squeeze=True, dayfirst=True, engine='python') \n",
    "dataset.drop(dataset.columns[[0]], axis = 1, inplace = True)\n",
    "values = dataset.values\n",
    "print(dataset.head())\n",
    "# ensure all data is float\n",
    "values = values.astype('float32')\n",
    "#savetxt('CharlestownValues.csv', values, delimiter=',')\n",
    "# normalize features\n",
    "scaler = MinMaxScaler(feature_range=(0, 1))\n",
    "scaled = scaler.fit_transform(values)\n",
    "# frame as supervised learning\n",
    "reframed = series_to_supervised(scaled, 1, 1)\n",
    "reframed.dtypes\n",
    "# drop columns we don't want to predict\n",
    "reframed.drop(reframed.columns[[7,8,9,10,11]], axis=1, inplace=True)\n",
    "print(reframed.head())\n",
    "#shuffle rows\n",
    "reframed=reframed.sample(frac=1).reset_index(drop=True)\n",
    "print(reframed.head())"
   ]
  },
  {
   "cell_type": "markdown",
   "metadata": {},
   "source": [
    "# ensure all data is float\n",
    "values = values.astype('float32')\n",
    "savetxt('CharlestownValues.csv', values, delimiter=',')"
   ]
  },
  {
   "cell_type": "markdown",
   "metadata": {},
   "source": [
    "# normalize features\n",
    "scaler = MinMaxScaler(feature_range=(0, 1))\n",
    "scaled = scaler.fit_transform(values)"
   ]
  },
  {
   "cell_type": "markdown",
   "metadata": {},
   "source": [
    "# frame as supervised learning\n",
    "reframed = series_to_supervised(scaled, 1, 1)\n",
    "reframed.dtypes"
   ]
  },
  {
   "cell_type": "markdown",
   "metadata": {},
   "source": [
    "# drop columns we don't want to predict\n",
    "reframed.drop(reframed.columns[[10,11,12,13,14,16,17,18,19]], axis=1, inplace=True)\n",
    "print(reframed.head())"
   ]
  },
  {
   "cell_type": "markdown",
   "metadata": {},
   "source": [
    "#shuffle rows\n",
    "reframed=reframed.sample(frac=1).reset_index(drop=True)\n",
    "print(reframed.head())"
   ]
  },
  {
   "cell_type": "markdown",
   "metadata": {},
   "source": [
    "# ensure all data is float\n",
    "values = values.astype('float32')\n",
    "# normalize features\n",
    "scaler = MinMaxScaler(feature_range=(0, 1))\n",
    "scaled = scaler.fit_transform(values)\n",
    "# frame as supervised learning\n",
    "reframed = series_to_supervised(scaled, 1, 1)\n",
    "reframed.dtypes\n",
    "# drop columns we don't want to predict\n",
    "reframed.drop(reframed.columns[[11,12,13,14,15,17,18,19,20,21]], axis=1, inplace=True)\n",
    "print(reframed.head())"
   ]
  },
  {
   "cell_type": "code",
   "execution_count": 4,
   "metadata": {},
   "outputs": [
    {
     "name": "stdout",
     "output_type": "stream",
     "text": [
      "(11759, 1, 6) (11759,) (2940, 1, 6) (2940,)\n"
     ]
    }
   ],
   "source": [
    "# split into train and test sets\n",
    "values = reframed.values\n",
    "n_train_periods = int(len(values)*0.8)\n",
    "train = values[:n_train_periods, :]\n",
    "test = values[n_train_periods:, :]\n",
    "# split into input and outputs\n",
    "train_X, train_y = train[:, :-1], train[:, -1]\n",
    "test_X, test_y = test[:, :-1], test[:, -1]\n",
    "# reshape input to be 3D [samples, timesteps, features]\n",
    "train_X = train_X.reshape((train_X.shape[0], 1, train_X.shape[1]))\n",
    "test_X = test_X.reshape((test_X.shape[0], 1, test_X.shape[1]))\n",
    "print(train_X.shape, train_y.shape, test_X.shape, test_y.shape)\n",
    " \n"
   ]
  },
  {
   "cell_type": "code",
   "execution_count": 5,
   "metadata": {},
   "outputs": [
    {
     "name": "stdout",
     "output_type": "stream",
     "text": [
      "Epoch 1/50\n",
      "245/245 - 4s - loss: 0.0460 - val_loss: 0.0096\n",
      "Epoch 2/50\n",
      "245/245 - 0s - loss: 0.0097 - val_loss: 0.0096\n",
      "Epoch 3/50\n",
      "245/245 - 0s - loss: 0.0091 - val_loss: 0.0086\n",
      "Epoch 4/50\n",
      "245/245 - 0s - loss: 0.0084 - val_loss: 0.0080\n",
      "Epoch 5/50\n",
      "245/245 - 0s - loss: 0.0077 - val_loss: 0.0076\n",
      "Epoch 6/50\n",
      "245/245 - 0s - loss: 0.0071 - val_loss: 0.0067\n",
      "Epoch 7/50\n",
      "245/245 - 0s - loss: 0.0063 - val_loss: 0.0063\n",
      "Epoch 8/50\n",
      "245/245 - 0s - loss: 0.0058 - val_loss: 0.0064\n",
      "Epoch 9/50\n",
      "245/245 - 0s - loss: 0.0053 - val_loss: 0.0050\n",
      "Epoch 10/50\n",
      "245/245 - 0s - loss: 0.0051 - val_loss: 0.0046\n",
      "Epoch 11/50\n",
      "245/245 - 0s - loss: 0.0049 - val_loss: 0.0049\n",
      "Epoch 12/50\n",
      "245/245 - 0s - loss: 0.0048 - val_loss: 0.0044\n",
      "Epoch 13/50\n",
      "245/245 - 0s - loss: 0.0049 - val_loss: 0.0044\n",
      "Epoch 14/50\n",
      "245/245 - 0s - loss: 0.0049 - val_loss: 0.0044\n",
      "Epoch 15/50\n",
      "245/245 - 0s - loss: 0.0048 - val_loss: 0.0044\n",
      "Epoch 16/50\n",
      "245/245 - 0s - loss: 0.0049 - val_loss: 0.0045\n",
      "Epoch 17/50\n",
      "245/245 - 0s - loss: 0.0048 - val_loss: 0.0043\n",
      "Epoch 18/50\n",
      "245/245 - 0s - loss: 0.0048 - val_loss: 0.0043\n",
      "Epoch 19/50\n",
      "245/245 - 0s - loss: 0.0048 - val_loss: 0.0044\n",
      "Epoch 20/50\n",
      "245/245 - 1s - loss: 0.0048 - val_loss: 0.0043\n",
      "Epoch 21/50\n",
      "245/245 - 0s - loss: 0.0048 - val_loss: 0.0044\n",
      "Epoch 22/50\n",
      "245/245 - 0s - loss: 0.0048 - val_loss: 0.0043\n",
      "Epoch 23/50\n",
      "245/245 - 0s - loss: 0.0048 - val_loss: 0.0043\n",
      "Epoch 24/50\n",
      "245/245 - 0s - loss: 0.0048 - val_loss: 0.0043\n",
      "Epoch 25/50\n",
      "245/245 - 0s - loss: 0.0047 - val_loss: 0.0044\n",
      "Epoch 26/50\n",
      "245/245 - 0s - loss: 0.0047 - val_loss: 0.0043\n",
      "Epoch 27/50\n",
      "245/245 - 0s - loss: 0.0048 - val_loss: 0.0044\n",
      "Epoch 28/50\n",
      "245/245 - 0s - loss: 0.0048 - val_loss: 0.0044\n",
      "Epoch 29/50\n",
      "245/245 - 0s - loss: 0.0048 - val_loss: 0.0043\n",
      "Epoch 30/50\n",
      "245/245 - 0s - loss: 0.0048 - val_loss: 0.0046\n",
      "Epoch 31/50\n",
      "245/245 - 0s - loss: 0.0048 - val_loss: 0.0047\n",
      "Epoch 32/50\n",
      "245/245 - 0s - loss: 0.0047 - val_loss: 0.0044\n",
      "Epoch 33/50\n",
      "245/245 - 0s - loss: 0.0047 - val_loss: 0.0047\n",
      "Epoch 34/50\n",
      "245/245 - 0s - loss: 0.0047 - val_loss: 0.0044\n",
      "Epoch 35/50\n",
      "245/245 - 0s - loss: 0.0047 - val_loss: 0.0049\n",
      "Epoch 36/50\n",
      "245/245 - 0s - loss: 0.0048 - val_loss: 0.0051\n",
      "Epoch 37/50\n",
      "245/245 - 0s - loss: 0.0047 - val_loss: 0.0045\n",
      "Epoch 38/50\n",
      "245/245 - 0s - loss: 0.0048 - val_loss: 0.0047\n",
      "Epoch 39/50\n",
      "245/245 - 0s - loss: 0.0047 - val_loss: 0.0046\n",
      "Epoch 40/50\n",
      "245/245 - 0s - loss: 0.0047 - val_loss: 0.0047\n",
      "Epoch 41/50\n",
      "245/245 - 0s - loss: 0.0047 - val_loss: 0.0048\n",
      "Epoch 42/50\n",
      "245/245 - 0s - loss: 0.0047 - val_loss: 0.0049\n",
      "Epoch 43/50\n",
      "245/245 - 0s - loss: 0.0047 - val_loss: 0.0047\n",
      "Epoch 44/50\n",
      "245/245 - 0s - loss: 0.0047 - val_loss: 0.0048\n",
      "Epoch 45/50\n",
      "245/245 - 0s - loss: 0.0047 - val_loss: 0.0047\n",
      "Epoch 46/50\n",
      "245/245 - 0s - loss: 0.0047 - val_loss: 0.0047\n",
      "Epoch 47/50\n",
      "245/245 - 0s - loss: 0.0047 - val_loss: 0.0044\n",
      "Epoch 48/50\n",
      "245/245 - 0s - loss: 0.0047 - val_loss: 0.0047\n",
      "Epoch 49/50\n",
      "245/245 - 0s - loss: 0.0047 - val_loss: 0.0044\n",
      "Epoch 50/50\n",
      "245/245 - 0s - loss: 0.0047 - val_loss: 0.0046\n"
     ]
    },
    {
     "data": {
      "text/plain": [
       "<matplotlib.legend.Legend at 0x20048a01820>"
      ]
     },
     "execution_count": 5,
     "metadata": {},
     "output_type": "execute_result"
    },
    {
     "data": {
      "image/png": "[encoded data removed]",
      "text/plain": [
       "<Figure size 432x288 with 1 Axes>"
      ]
     },
     "metadata": {
      "needs_background": "light"
     },
     "output_type": "display_data"
    }
   ],
   "source": [
    "# design network\n",
    "model = Sequential()\n",
    "model.add(LSTM(50, input_shape=(train_X.shape[1], train_X.shape[2])))\n",
    "model.add(Dense(1))\n",
    "model.compile(loss='mae', optimizer='adam')\n",
    "# fit network\n",
    "history = model.fit(train_X, train_y, epochs=50, batch_size=48, validation_data=(test_X, test_y), verbose=2, shuffle=False)\n",
    "# plot history\n",
    "pyplot.plot(history.history['loss'], label='train')\n",
    "pyplot.plot(history.history['val_loss'], label='test')\n",
    "pyplot.legend()\n",
    "#pyplot.show()\n",
    " \n"
   ]
  },
  {
   "cell_type": "code",
   "execution_count": 6,
   "metadata": {},
   "outputs": [],
   "source": [
    "# make a prediction\n",
    "yhat = model.predict(test_X)\n",
    "test_X = test_X.reshape((test_X.shape[0], test_X.shape[2]))\n",
    "# invert scaling for forecast\n",
    "inv_yhat = concatenate((yhat, test_X[:, 1:]), axis=1)\n",
    "inv_yhat = scaler.inverse_transform(inv_yhat)\n",
    "inv_yhat = inv_yhat[:,0]\n",
    "# invert scaling for actual\n",
    "test_y = test_y.reshape((len(test_y), 1))\n",
    "inv_y = concatenate((test_y, test_X[:, 1:]), axis=1)\n",
    "inv_y = scaler.inverse_transform(inv_y)\n",
    "inv_y = inv_y[:,0]\n"
   ]
  },
  {
   "cell_type": "code",
   "execution_count": 7,
   "metadata": {},
   "outputs": [
    {
     "name": "stdout",
     "output_type": "stream",
     "text": [
      "Test RMSE: 116.531\n",
      "Test MSE: 13579.494\n"
     ]
    }
   ],
   "source": [
    "# calculate RMSE\n",
    "rmse = sqrt(mean_squared_error(inv_y, inv_yhat))\n",
    "print('Test RMSE: %.3f' % rmse)\n",
    "# calculate MSE\n",
    "mse = mean_squared_error(inv_y, inv_yhat)\n",
    "print('Test MSE: %.3f' % mse)"
   ]
  },
  {
   "cell_type": "code",
   "execution_count": null,
   "metadata": {},
   "outputs": [],
   "source": []
  }
 ],
 "metadata": {
  "kernelspec": {
   "display_name": "Python 3",
   "language": "python",
   "name": "python3"
  },
  "language_info": {
   "codemirror_mode": {
    "name": "ipython",
    "version": 3
   },
   "file_extension": ".py",
   "mimetype": "text/x-python",
   "name": "python",
   "nbconvert_exporter": "python",
   "pygments_lexer": "ipython3",
   "version": "3.8.5"
  }
 },
 "nbformat": 4,
 "nbformat_minor": 2
}
