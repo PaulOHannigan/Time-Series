{
 "cells": [
  {
   "cell_type": "markdown",
   "metadata": {},
   "source": [
    "# Multivariate Time Series Forecasting with LSTMs in Keras\n",
    "#### Reference: https://machinelearningmastery.com/multivariate-time-series-forecasting-lstms-keras/"
   ]
  },
  {
   "cell_type": "markdown",
   "metadata": {},
   "source": [
    "### Train On Single Lag Timestep - All meters"
   ]
  },
  {
   "cell_type": "code",
   "execution_count": 1,
   "metadata": {},
   "outputs": [
    {
     "name": "stderr",
     "output_type": "stream",
     "text": [
      "Using TensorFlow backend.\n"
     ]
    }
   ],
   "source": [
    "from math import sqrt\n",
    "from numpy import concatenate\n",
    "from matplotlib import pyplot\n",
    "from pandas import read_csv\n",
    "from pandas import DataFrame\n",
    "from pandas import concat\n",
    "from sklearn.preprocessing import MinMaxScaler\n",
    "from sklearn.preprocessing import LabelEncoder\n",
    "from sklearn.metrics import mean_squared_error\n",
    "from keras.models import Sequential\n",
    "from keras.layers import Dense\n",
    "from keras.layers import LSTM\n",
    " \n"
   ]
  },
  {
   "cell_type": "code",
   "execution_count": 2,
   "metadata": {},
   "outputs": [],
   "source": [
    "# convert series to supervised learning\n",
    "def series_to_supervised(data, n_in=1, n_out=1, dropnan=True):\n",
    "\tn_vars = 1 if type(data) is list else data.shape[1]\n",
    "\tdf = DataFrame(data)\n",
    "\tcols, names = list(), list()\n",
    "\t# input sequence (t-n, ... t-1)\n",
    "\tfor i in range(n_in, 0, -1):\n",
    "\t\tcols.append(df.shift(i))\n",
    "\t\tnames += [('var%d(t-%d)' % (j+1, i)) for j in range(n_vars)]\n",
    "\t# forecast sequence (t, t+1, ... t+n)\n",
    "\tfor i in range(0, n_out):\n",
    "\t\tcols.append(df.shift(-i))\n",
    "\t\tif i == 0:\n",
    "\t\t\tnames += [('var%d(t)' % (j+1)) for j in range(n_vars)]\n",
    "\t\telse:\n",
    "\t\t\tnames += [('var%d(t+%d)' % (j+1, i)) for j in range(n_vars)]\n",
    "\t# put it all together\n",
    "\tagg = concat(cols, axis=1)\n",
    "\tagg.columns = names\n",
    "\t# drop rows with NaN values\n",
    "\tif dropnan:\n",
    "\t\tagg.dropna(inplace=True)\n",
    "\treturn agg\n",
    " \n"
   ]
  },
  {
   "cell_type": "code",
   "execution_count": 3,
   "metadata": {},
   "outputs": [
    {
     "name": "stdout",
     "output_type": "stream",
     "text": [
      "         Temp  MeterNo  NoBeds  Area_m2  Const_Year  kWh  Month  Weekday  \\\n",
      "691403   1.35        4       2     87.8        2017    1      6        1   \n",
      "336765   7.00       40       1     69.4        2017    0     10        1   \n",
      "72500   10.65       14       1     64.6        2017    0     10        4   \n",
      "759515  14.35        3       2     87.8        2017    0      8        1   \n",
      "895578   9.30       28       2     85.2        2017    0     12        2   \n",
      "\n",
      "        Seconds  Daytime  Holiday  \n",
      "691403    31500        1        0  \n",
      "336765    10800        0        0  \n",
      "72500     41400        1        0  \n",
      "759515    54900        1        0  \n",
      "895578     3600        0        0  \n"
     ]
    }
   ],
   "source": [
    "# load dataset\n",
    "#dataset = read_csv('DFS04690650Rand.txt', header=0, index_col=0)\n",
    "dataset = read_csv('WorthingtonAllDropped.txt', header=0, sep='[\\t]', parse_dates=True, squeeze=True, dayfirst=True, engine='python') \n",
    "values = dataset.values\n",
    "dataset.dtypes\n",
    "print(dataset.head())\n",
    "\n"
   ]
  },
  {
   "cell_type": "code",
   "execution_count": 4,
   "metadata": {},
   "outputs": [
    {
     "name": "stdout",
     "output_type": "stream",
     "text": [
      "   var1(t-1)  var2(t-1)  var3(t-1)  var4(t-1)  var5(t-1)  var6(t-1)  \\\n",
      "1   0.241319       0.06        1.0   0.775342        0.0      0.125   \n",
      "2   0.437500       0.78        0.0   0.271233        0.0      0.000   \n",
      "3   0.564236       0.26        0.0   0.139726        0.0      0.000   \n",
      "4   0.692708       0.04        1.0   0.775342        0.0      0.000   \n",
      "5   0.517361       0.54        1.0   0.704109        0.0      0.000   \n",
      "\n",
      "   var7(t-1)  var8(t-1)  var9(t-1)  var10(t-1)  var11(t-1)  var6(t)  \n",
      "1   0.454545   0.166667   0.361702         1.0         0.0      0.0  \n",
      "2   0.818182   0.166667   0.117021         0.0         0.0      0.0  \n",
      "3   0.818182   0.666667   0.478723         1.0         0.0      0.0  \n",
      "4   0.636364   0.166667   0.638298         1.0         0.0      0.0  \n",
      "5   1.000000   0.333333   0.031915         0.0         0.0      0.0  \n"
     ]
    }
   ],
   "source": [
    "# ensure all data is float\n",
    "values = values.astype('float32')\n",
    "# normalize features\n",
    "scaler = MinMaxScaler(feature_range=(0, 1))\n",
    "scaled = scaler.fit_transform(values)\n",
    "# frame as supervised learning\n",
    "reframed = series_to_supervised(scaled, 1, 1)\n",
    "reframed.dtypes\n",
    "# drop columns we don't want to predict\n",
    "reframed.drop(reframed.columns[[11,12,13,14,15,17,18,19,20,21]], axis=1, inplace=True)\n",
    "print(reframed.head())"
   ]
  },
  {
   "cell_type": "code",
   "execution_count": 5,
   "metadata": {},
   "outputs": [
    {
     "name": "stdout",
     "output_type": "stream",
     "text": [
      "(792380, 1, 11) (792380,) (198095, 1, 11) (198095,)\n"
     ]
    }
   ],
   "source": [
    "# split into train and test sets\n",
    "values = reframed.values\n",
    "n_train_periods = int(len(values)*0.8)\n",
    "train = values[:n_train_periods, :]\n",
    "test = values[n_train_periods:, :]\n",
    "# split into input and outputs\n",
    "train_X, train_y = train[:, :-1], train[:, -1]\n",
    "test_X, test_y = test[:, :-1], test[:, -1]\n",
    "# reshape input to be 3D [samples, timesteps, features]\n",
    "train_X = train_X.reshape((train_X.shape[0], 1, train_X.shape[1]))\n",
    "test_X = test_X.reshape((test_X.shape[0], 1, test_X.shape[1]))\n",
    "print(train_X.shape, train_y.shape, test_X.shape, test_y.shape)\n",
    " \n"
   ]
  },
  {
   "cell_type": "code",
   "execution_count": null,
   "metadata": {},
   "outputs": [
    {
     "name": "stdout",
     "output_type": "stream",
     "text": [
      "Train on 792380 samples, validate on 198095 samples\n",
      "Epoch 1/50\n",
      " - 102s - loss: 0.0119 - val_loss: 0.0115\n",
      "Epoch 2/50\n",
      " - 101s - loss: 0.0116 - val_loss: 0.0115\n",
      "Epoch 3/50\n",
      " - 99s - loss: 0.0116 - val_loss: 0.0116\n",
      "Epoch 4/50\n",
      " - 100s - loss: 0.0116 - val_loss: 0.0115\n",
      "Epoch 5/50\n",
      " - 97s - loss: 0.0116 - val_loss: 0.0116\n",
      "Epoch 6/50\n",
      " - 96s - loss: 0.0116 - val_loss: 0.0117\n",
      "Epoch 7/50\n",
      " - 98s - loss: 0.0116 - val_loss: 0.0115\n",
      "Epoch 8/50\n",
      " - 98s - loss: 0.0116 - val_loss: 0.0116\n",
      "Epoch 9/50\n",
      " - 101s - loss: 0.0116 - val_loss: 0.0115\n",
      "Epoch 10/50\n",
      " - 105s - loss: 0.0116 - val_loss: 0.0116\n",
      "Epoch 11/50\n",
      " - 92s - loss: 0.0116 - val_loss: 0.0116\n",
      "Epoch 12/50\n",
      " - 89s - loss: 0.0116 - val_loss: 0.0115\n",
      "Epoch 13/50\n",
      " - 88s - loss: 0.0116 - val_loss: 0.0115\n",
      "Epoch 14/50\n",
      " - 89s - loss: 0.0116 - val_loss: 0.0116\n",
      "Epoch 15/50\n",
      " - 89s - loss: 0.0116 - val_loss: 0.0115\n",
      "Epoch 16/50\n",
      " - 86s - loss: 0.0116 - val_loss: 0.0117\n",
      "Epoch 17/50\n",
      " - 90s - loss: 0.0116 - val_loss: 0.0115\n",
      "Epoch 18/50\n",
      " - 89s - loss: 0.0116 - val_loss: 0.0117\n",
      "Epoch 19/50\n",
      " - 90s - loss: 0.0116 - val_loss: 0.0115\n",
      "Epoch 20/50\n",
      " - 88s - loss: 0.0116 - val_loss: 0.0116\n",
      "Epoch 21/50\n",
      " - 88s - loss: 0.0116 - val_loss: 0.0115\n",
      "Epoch 22/50\n",
      " - 86s - loss: 0.0116 - val_loss: 0.0115\n",
      "Epoch 23/50\n",
      " - 87s - loss: 0.0116 - val_loss: 0.0116\n",
      "Epoch 24/50\n",
      " - 87s - loss: 0.0116 - val_loss: 0.0116\n",
      "Epoch 25/50\n",
      " - 89s - loss: 0.0116 - val_loss: 0.0115\n",
      "Epoch 26/50\n",
      " - 91s - loss: 0.0116 - val_loss: 0.0115\n",
      "Epoch 27/50\n",
      " - 91s - loss: 0.0116 - val_loss: 0.0118\n",
      "Epoch 28/50\n",
      " - 91s - loss: 0.0116 - val_loss: 0.0115\n",
      "Epoch 29/50\n",
      " - 94s - loss: 0.0116 - val_loss: 0.0115\n",
      "Epoch 30/50\n",
      " - 92s - loss: 0.0116 - val_loss: 0.0115\n",
      "Epoch 31/50\n",
      " - 92s - loss: 0.0116 - val_loss: 0.0117\n",
      "Epoch 32/50\n",
      " - 85s - loss: 0.0116 - val_loss: 0.0116\n",
      "Epoch 33/50\n",
      " - 86s - loss: 0.0116 - val_loss: 0.0116\n",
      "Epoch 34/50\n",
      " - 85s - loss: 0.0116 - val_loss: 0.0119\n",
      "Epoch 35/50\n",
      " - 85s - loss: 0.0116 - val_loss: 0.0117\n",
      "Epoch 36/50\n",
      " - 85s - loss: 0.0116 - val_loss: 0.0115\n",
      "Epoch 37/50\n",
      " - 85s - loss: 0.0116 - val_loss: 0.0117\n",
      "Epoch 38/50\n",
      " - 85s - loss: 0.0116 - val_loss: 0.0115\n",
      "Epoch 39/50\n",
      " - 87s - loss: 0.0116 - val_loss: 0.0117\n",
      "Epoch 40/50\n",
      " - 91s - loss: 0.0116 - val_loss: 0.0116\n",
      "Epoch 41/50\n",
      " - 90s - loss: 0.0116 - val_loss: 0.0117\n",
      "Epoch 42/50\n",
      " - 89s - loss: 0.0116 - val_loss: 0.0115\n",
      "Epoch 43/50\n",
      " - 93s - loss: 0.0116 - val_loss: 0.0119\n",
      "Epoch 44/50\n",
      " - 92s - loss: 0.0116 - val_loss: 0.0116\n",
      "Epoch 45/50\n",
      " - 94s - loss: 0.0116 - val_loss: 0.0116\n",
      "Epoch 46/50\n",
      " - 91s - loss: 0.0116 - val_loss: 0.0116\n",
      "Epoch 47/50\n",
      " - 96s - loss: 0.0116 - val_loss: 0.0117\n",
      "Epoch 48/50\n",
      " - 122s - loss: 0.0116 - val_loss: 0.0115\n",
      "Epoch 49/50\n"
     ]
    }
   ],
   "source": [
    "# design network\n",
    "model = Sequential()\n",
    "model.add(LSTM(50, input_shape=(train_X.shape[1], train_X.shape[2])))\n",
    "model.add(Dense(1))\n",
    "model.compile(loss='mae', optimizer='adam')\n",
    "# fit network\n",
    "history = model.fit(train_X, train_y, epochs=50, batch_size=32, validation_data=(test_X, test_y), verbose=2, shuffle=False)\n",
    "# plot history\n",
    "pyplot.plot(history.history['loss'], label='train')\n",
    "pyplot.plot(history.history['val_loss'], label='test')\n",
    "pyplot.legend()\n",
    "#pyplot.show()\n",
    " \n"
   ]
  },
  {
   "cell_type": "code",
   "execution_count": null,
   "metadata": {},
   "outputs": [],
   "source": [
    "# make a prediction\n",
    "yhat = model.predict(test_X)\n",
    "test_X = test_X.reshape((test_X.shape[0], test_X.shape[2]))\n",
    "# invert scaling for forecast\n",
    "inv_yhat = concatenate((yhat, test_X[:, 1:]), axis=1)\n",
    "inv_yhat = scaler.inverse_transform(inv_yhat)\n",
    "inv_yhat = inv_yhat[:,0]\n",
    "# invert scaling for actual\n",
    "test_y = test_y.reshape((len(test_y), 1))\n",
    "inv_y = concatenate((test_y, test_X[:, 1:]), axis=1)\n",
    "inv_y = scaler.inverse_transform(inv_y)\n",
    "inv_y = inv_y[:,0]\n",
    "# calculate RMSE\n",
    "rmse = sqrt(mean_squared_error(inv_y, inv_yhat))\n",
    "print('Test RMSE: %.3f' % rmse)"
   ]
  }
 ],
 "metadata": {
  "kernelspec": {
   "display_name": "Python 3",
   "language": "python",
   "name": "python3"
  },
  "language_info": {
   "codemirror_mode": {
    "name": "ipython",
    "version": 3
   },
   "file_extension": ".py",
   "mimetype": "text/x-python",
   "name": "python",
   "nbconvert_exporter": "python",
   "pygments_lexer": "ipython3",
   "version": "3.7.4"
  }
 },
 "nbformat": 4,
 "nbformat_minor": 2
}
