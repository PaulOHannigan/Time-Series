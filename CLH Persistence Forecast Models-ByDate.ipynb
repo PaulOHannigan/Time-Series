{
 "cells": [
  {
   "cell_type": "code",
   "execution_count": 1,
   "metadata": {},
   "outputs": [],
   "source": [
    "# evaluate a persistence forecast model\n",
    "from pandas import read_csv\n",
    "import datetime\n",
    "from pandas import DataFrame, Series\n",
    "from pandas import concat, merge\n",
    "from matplotlib import pyplot\n",
    "from sklearn.metrics import mean_squared_error\n",
    "from math import sqrt\n",
    "from numpy import concatenate, savetxt, unique, array, subtract\n",
    "from statistics import mean\n"
   ]
  },
  {
   "cell_type": "code",
   "execution_count": 2,
   "metadata": {},
   "outputs": [
    {
     "name": "stdout",
     "output_type": "stream",
     "text": [
      "[  1   2   3   4   5   6   7   8   9  10  11  12  13  14  15  17  18  19\n",
      "  20  21  22  23  24  25  26  27  28  29  30  31  32  33  34  35  37  38\n",
      "  39  40  41  42  43  44  45  46  47  48  49  50  51  52  53  54  55  56\n",
      "  57  59  60  61  62  63  64  65  66  67  68  69  70  71  72  73  74  75\n",
      "  76  77  78  79  80  81  82  83  84  85  86  88  89  90  91  92  93  94\n",
      "  95  96  97  98  99 100 101 102 103 104 105 106 107 109 110 113 114 115\n",
      " 116 117 118 119 120 121 122 123 124 125 126 127 128 129 130 131 132 133\n",
      " 134 135 136 137 138 139 140 141 142 143 144 145 146 147 148 149 150 151\n",
      " 152 153 154 155 156 157 159 160 161 162 163 164 165 166 167 168 169 170\n",
      " 171 172 173 174 175 176 177 178 179 180 181 182 183 184 185 186 187 188\n",
      " 189 190 191 192 193 194 195 196 197 198 199 200 201 202 203 204 205 206\n",
      " 207 208 209 210 211 212 213 214 215 216 217 218 219 220 221 222 223 224\n",
      " 225 226 227 228 229 230 231 232 233 234 235 236 237 238 239 240 241 242\n",
      " 243 244 245 246 247 248 249 250 251 252 253 254 255 256 257 259 260 261\n",
      " 262 263 264 265 266 267 268 269 270 271 272 273 274 275 276 277 278 279\n",
      " 280 281 282 284 285]\n"
     ]
    }
   ],
   "source": [
    "# make a prediction using data from a single meter\n",
    "# load dataset\n",
    "dataset = read_csv('CharlestownAllWithDate3.csv', header=0, sep='[,]', parse_dates=True, squeeze=True, dayfirst=True, engine='python') \n",
    "#dataset = dataset.loc[dataset['MeterNo'] <3]\n",
    "meter_ids = unique(dataset['MeterNo'])\n",
    "print(meter_ids)\n",
    "df2 = DataFrame(index =['Date'], columns=['prediction', 'actual', 'error','mse'])"
   ]
  },
  {
   "cell_type": "code",
   "execution_count": 3,
   "metadata": {},
   "outputs": [],
   "source": [
    "for m in meter_ids:\n",
    "    series = read_csv('CharlestownAllWithDate3.csv', header=0, sep='[,]', parse_dates=True, squeeze=True, dayfirst=True, engine='python') \n",
    "    series = series.set_index(['Date'])\n",
    "    series = series.loc[series['MeterNo'] == m]\n",
    "    series.drop(series.columns[[1]], axis = 1, inplace = True)\n",
    "    #dataset = dataset[['kWh', 'Temp', 'Area_m2', 'Month', 'Weekday', 'Holiday']]\n",
    "    \n",
    "    # create lagged dataset\n",
    "    values = DataFrame(series.values)\n",
    "    dataframe = concat([values.shift(1), values], axis=1)\n",
    "    dataframe.columns = ['t', 't+1']\n",
    "    #print(dataframe.head(5))\n",
    "    # split into train and test sets\n",
    "    X = dataframe.values\n",
    "    train_size = int(len(X) * 0.66)\n",
    "    train, test = X[1:train_size], X[train_size:]\n",
    "    train_X, train_y = train[:,0], train[:,1]\n",
    "    test_X, test_y = test[:,0], test[:,1]\n",
    "    # persistence model\n",
    "    def model_persistence(x):\n",
    "        return x\n",
    "    # walk-forward validation\n",
    "    predictions = list()\n",
    "    for x in test_X:\n",
    "        yhat = model_persistence(x)\n",
    "        predictions.append(yhat)\n",
    "        \n",
    "    # calculate actual Error\n",
    "    prediction = mean(predictions)\n",
    "    actual = mean(test_y)\n",
    "    mse = mean_squared_error(test_y, predictions)\n",
    "    rmse = sqrt(mean_squared_error(test_y, predictions))\n",
    "    error = mean(subtract(test_y, predictions))\n",
    "    \n",
    "    test_y = DataFrame(test_y, columns = ['kWh'])\n",
    "    predictions = DataFrame(predictions, columns = ['kWh']) \n",
    "        \n",
    "    #print('MeterNo %s - Prediction: %.3f - Actual: %.3f - Error: %.3f - Test MSE: %.3f - Test RMSE: %.3f' % (m, prediction, actual, error, mse, rmse))\n",
    "    df1 = merge(predictions, test_y, left_index=True, right_index=True)\n",
    "    df1.columns =['prediction', 'actual']\n",
    "    df1['error'] = df1['prediction'] - df1['actual']\n",
    "    df1['mse'] = df1['error'] ** 2\n",
    "    df1['rmse'] = abs(df1['error'])\n",
    "    #print(df1)\n",
    "    df2 = df2.append(df1)\n",
    "    "
   ]
  },
  {
   "cell_type": "code",
   "execution_count": 4,
   "metadata": {},
   "outputs": [
    {
     "name": "stdout",
     "output_type": "stream",
     "text": [
      "      prediction  actual  error    mse  rmse\n",
      "Date         NaN     NaN    NaN    NaN   NaN\n",
      "0            4.0     5.0   -1.0    1.0   1.0\n",
      "1            5.0     4.0    1.0    1.0   1.0\n",
      "2            4.0     5.0   -1.0    1.0   1.0\n",
      "3            5.0    11.0   -6.0   36.0   6.0\n",
      "...          ...     ...    ...    ...   ...\n",
      "111         13.0    25.0  -12.0  144.0  12.0\n",
      "112         25.0    22.0    3.0    9.0   3.0\n",
      "113         22.0    23.0   -1.0    1.0   1.0\n",
      "114         23.0    21.0    2.0    4.0   2.0\n",
      "115         21.0    23.0   -2.0    4.0   2.0\n",
      "\n",
      "[31901 rows x 5 columns]\n"
     ]
    }
   ],
   "source": [
    "print(df2)"
   ]
  },
  {
   "cell_type": "code",
   "execution_count": 5,
   "metadata": {},
   "outputs": [
    {
     "data": {
      "text/html": [
       "<div>\n",
       "<style scoped>\n",
       "    .dataframe tbody tr th:only-of-type {\n",
       "        vertical-align: middle;\n",
       "    }\n",
       "\n",
       "    .dataframe tbody tr th {\n",
       "        vertical-align: top;\n",
       "    }\n",
       "\n",
       "    .dataframe thead th {\n",
       "        text-align: right;\n",
       "    }\n",
       "</style>\n",
       "<table border=\"1\" class=\"dataframe\">\n",
       "  <thead>\n",
       "    <tr style=\"text-align: right;\">\n",
       "      <th></th>\n",
       "      <th>prediction</th>\n",
       "      <th>actual</th>\n",
       "      <th>error</th>\n",
       "      <th>mse</th>\n",
       "      <th>rmse</th>\n",
       "    </tr>\n",
       "  </thead>\n",
       "  <tbody>\n",
       "    <tr>\n",
       "      <th>min</th>\n",
       "      <td>0.000000</td>\n",
       "      <td>0.00000</td>\n",
       "      <td>-70.000000</td>\n",
       "      <td>0.000000e+00</td>\n",
       "      <td>0.000000</td>\n",
       "    </tr>\n",
       "    <tr>\n",
       "      <th>max</th>\n",
       "      <td>103.000000</td>\n",
       "      <td>103.00000</td>\n",
       "      <td>55.000000</td>\n",
       "      <td>4.900000e+03</td>\n",
       "      <td>70.000000</td>\n",
       "    </tr>\n",
       "    <tr>\n",
       "      <th>mean</th>\n",
       "      <td>17.550408</td>\n",
       "      <td>17.54768</td>\n",
       "      <td>0.002727</td>\n",
       "      <td>5.561150e+01</td>\n",
       "      <td>5.036834</td>\n",
       "    </tr>\n",
       "    <tr>\n",
       "      <th>sum</th>\n",
       "      <td>559858.000000</td>\n",
       "      <td>559771.00000</td>\n",
       "      <td>87.000000</td>\n",
       "      <td>1.774007e+06</td>\n",
       "      <td>160675.000000</td>\n",
       "    </tr>\n",
       "    <tr>\n",
       "      <th>count</th>\n",
       "      <td>31900.000000</td>\n",
       "      <td>31900.00000</td>\n",
       "      <td>31900.000000</td>\n",
       "      <td>3.190000e+04</td>\n",
       "      <td>31900.000000</td>\n",
       "    </tr>\n",
       "  </tbody>\n",
       "</table>\n",
       "</div>"
      ],
      "text/plain": [
       "          prediction        actual         error           mse           rmse\n",
       "min         0.000000       0.00000    -70.000000  0.000000e+00       0.000000\n",
       "max       103.000000     103.00000     55.000000  4.900000e+03      70.000000\n",
       "mean       17.550408      17.54768      0.002727  5.561150e+01       5.036834\n",
       "sum    559858.000000  559771.00000     87.000000  1.774007e+06  160675.000000\n",
       "count   31900.000000   31900.00000  31900.000000  3.190000e+04   31900.000000"
      ]
     },
     "execution_count": 5,
     "metadata": {},
     "output_type": "execute_result"
    }
   ],
   "source": [
    "def Summary(x):\n",
    "    return Series(index=['min','max', 'mean','sum','count'],data=[x.min(),x.max(),x.mean(),x.sum(),x.count()])\n",
    "df2.apply(Summary)"
   ]
  },
  {
   "cell_type": "code",
   "execution_count": 6,
   "metadata": {},
   "outputs": [
    {
     "name": "stdout",
     "output_type": "stream",
     "text": [
      "      prediction  actual  error       mse   rmse     %error\n",
      "0         4131.0  4446.0 -315.0   99225.0  315.0  -7.085020\n",
      "1         4446.0  4196.0  250.0   62500.0  250.0   5.958055\n",
      "2         4196.0  3790.0  406.0  164836.0  406.0  10.712401\n",
      "3         3790.0  4570.0 -780.0  608400.0  780.0 -17.067834\n",
      "4         4570.0  4545.0   25.0     625.0   25.0   0.550055\n",
      "...          ...     ...    ...       ...    ...        ...\n",
      "112       4066.0  4075.0   -9.0      81.0    9.0  -0.220859\n",
      "113       4075.0  3925.0  150.0   22500.0  150.0   3.821656\n",
      "114       3925.0  3719.0  206.0   42436.0  206.0   5.539123\n",
      "115       3719.0  4044.0 -325.0  105625.0  325.0  -8.036597\n",
      "Date         0.0     0.0    0.0       0.0    0.0        NaN\n",
      "\n",
      "[117 rows x 6 columns]\n"
     ]
    },
    {
     "name": "stderr",
     "output_type": "stream",
     "text": [
      "<ipython-input-6-92b18c512e39>:2: FutureWarning: Indexing with multiple keys (implicitly converted to a tuple of keys) will be deprecated, use a list instead.\n",
      "  df3 = df2.groupby(df2.index)['prediction','actual'].sum()\n"
     ]
    }
   ],
   "source": [
    "df2.drop(df2.columns[[2,3,4]], axis = 1, inplace = True)\n",
    "df3 = df2.groupby(df2.index)['prediction','actual'].sum()\n",
    "df3['error'] = round(((df3['prediction'] - df3['actual'])),2)\n",
    "df3['mse'] = df3['error'] ** 2\n",
    "df3['rmse'] = abs(df3['error'])\n",
    "df3['%error'] = (df3['error']/df3['actual'])*100\n",
    "print(df3)\n",
    "df3.to_csv('CHL_SARIMA_CLH_Persistence_Forecast_Models_ByDate.csv')"
   ]
  },
  {
   "cell_type": "code",
   "execution_count": 7,
   "metadata": {},
   "outputs": [
    {
     "data": {
      "text/html": [
       "<div>\n",
       "<style scoped>\n",
       "    .dataframe tbody tr th:only-of-type {\n",
       "        vertical-align: middle;\n",
       "    }\n",
       "\n",
       "    .dataframe tbody tr th {\n",
       "        vertical-align: top;\n",
       "    }\n",
       "\n",
       "    .dataframe thead th {\n",
       "        text-align: right;\n",
       "    }\n",
       "</style>\n",
       "<table border=\"1\" class=\"dataframe\">\n",
       "  <thead>\n",
       "    <tr style=\"text-align: right;\">\n",
       "      <th></th>\n",
       "      <th>prediction</th>\n",
       "      <th>actual</th>\n",
       "      <th>error</th>\n",
       "      <th>mse</th>\n",
       "      <th>rmse</th>\n",
       "      <th>%error</th>\n",
       "    </tr>\n",
       "  </thead>\n",
       "  <tbody>\n",
       "    <tr>\n",
       "      <th>min</th>\n",
       "      <td>0.000000</td>\n",
       "      <td>0.000000</td>\n",
       "      <td>-1644.00000</td>\n",
       "      <td>0.000000e+00</td>\n",
       "      <td>0.000000</td>\n",
       "      <td>-24.841342</td>\n",
       "    </tr>\n",
       "    <tr>\n",
       "      <th>max</th>\n",
       "      <td>8628.000000</td>\n",
       "      <td>8628.000000</td>\n",
       "      <td>1797.00000</td>\n",
       "      <td>3.229209e+06</td>\n",
       "      <td>1797.000000</td>\n",
       "      <td>30.263158</td>\n",
       "    </tr>\n",
       "    <tr>\n",
       "      <th>mean</th>\n",
       "      <td>4785.111111</td>\n",
       "      <td>4784.367521</td>\n",
       "      <td>0.74359</td>\n",
       "      <td>2.105611e+05</td>\n",
       "      <td>333.358974</td>\n",
       "      <td>0.406374</td>\n",
       "    </tr>\n",
       "    <tr>\n",
       "      <th>sum</th>\n",
       "      <td>559858.000000</td>\n",
       "      <td>559771.000000</td>\n",
       "      <td>87.00000</td>\n",
       "      <td>2.463565e+07</td>\n",
       "      <td>39003.000000</td>\n",
       "      <td>47.139408</td>\n",
       "    </tr>\n",
       "    <tr>\n",
       "      <th>count</th>\n",
       "      <td>117.000000</td>\n",
       "      <td>117.000000</td>\n",
       "      <td>117.00000</td>\n",
       "      <td>1.170000e+02</td>\n",
       "      <td>117.000000</td>\n",
       "      <td>116.000000</td>\n",
       "    </tr>\n",
       "  </tbody>\n",
       "</table>\n",
       "</div>"
      ],
      "text/plain": [
       "          prediction         actual       error           mse          rmse  \\\n",
       "min         0.000000       0.000000 -1644.00000  0.000000e+00      0.000000   \n",
       "max      8628.000000    8628.000000  1797.00000  3.229209e+06   1797.000000   \n",
       "mean     4785.111111    4784.367521     0.74359  2.105611e+05    333.358974   \n",
       "sum    559858.000000  559771.000000    87.00000  2.463565e+07  39003.000000   \n",
       "count     117.000000     117.000000   117.00000  1.170000e+02    117.000000   \n",
       "\n",
       "           %error  \n",
       "min    -24.841342  \n",
       "max     30.263158  \n",
       "mean     0.406374  \n",
       "sum     47.139408  \n",
       "count  116.000000  "
      ]
     },
     "execution_count": 7,
     "metadata": {},
     "output_type": "execute_result"
    }
   ],
   "source": [
    "df3.apply(Summary)"
   ]
  },
  {
   "cell_type": "code",
   "execution_count": 8,
   "metadata": {},
   "outputs": [
    {
     "data": {
      "text/plain": [
       "prediction      4785.111111\n",
       "actual          4784.367521\n",
       "error              0.743590\n",
       "mse           210561.136752\n",
       "rmse             333.358974\n",
       "%error             0.406374\n",
       "dtype: float64"
      ]
     },
     "execution_count": 8,
     "metadata": {},
     "output_type": "execute_result"
    }
   ],
   "source": [
    "df4 = df3.mean()\n",
    "df4"
   ]
  },
  {
   "cell_type": "code",
   "execution_count": null,
   "metadata": {},
   "outputs": [],
   "source": []
  }
 ],
 "metadata": {
  "kernelspec": {
   "display_name": "Python 3",
   "language": "python",
   "name": "python3"
  },
  "language_info": {
   "codemirror_mode": {
    "name": "ipython",
    "version": 3
   },
   "file_extension": ".py",
   "mimetype": "text/x-python",
   "name": "python",
   "nbconvert_exporter": "python",
   "pygments_lexer": "ipython3",
   "version": "3.8.5"
  }
 },
 "nbformat": 4,
 "nbformat_minor": 4
}
