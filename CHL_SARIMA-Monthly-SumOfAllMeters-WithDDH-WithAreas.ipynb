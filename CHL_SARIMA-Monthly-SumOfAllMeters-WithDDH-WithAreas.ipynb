{
 "cells": [
  {
   "cell_type": "markdown",
   "metadata": {},
   "source": [
    "# Development 3 - Heat Prediction With Sarimax\n",
    "## Monthly dataset based on mean values of meters"
   ]
  },
  {
   "cell_type": "code",
   "execution_count": 1,
   "metadata": {},
   "outputs": [],
   "source": [
    "# Import Python modules\n",
    "import warnings\n",
    "import itertools\n",
    "import numpy as np\n",
    "from numpy import concatenate, savetxt, unique, array, subtract\n",
    "import matplotlib.pyplot as plt\n",
    "warnings.filterwarnings(\"ignore\")\n",
    "import pandas as pd\n",
    "from pandas import merge, DataFrame, Series\n",
    "import statsmodels.api as sm\n",
    "from sklearn.metrics import mean_squared_error\n",
    "import matplotlib\n",
    "from math import sqrt\n",
    "from statistics import mean\n"
   ]
  },
  {
   "cell_type": "code",
   "execution_count": 2,
   "metadata": {},
   "outputs": [
    {
     "name": "stdout",
     "output_type": "stream",
     "text": [
      "                   kWh  DDH    Area_m2\n",
      "Month                                 \n",
      "2013-01-01  474.596491  318  72.519298\n",
      "2013-02-01  467.385965  311  72.519298\n",
      "2013-03-01  455.115789  380  72.519298\n",
      "2013-04-01  389.592982  254  72.519298\n",
      "2013-05-01  280.585965  168  72.519298\n",
      "...                ...  ...        ...\n",
      "2020-10-01  342.726316  183  72.519298\n",
      "2020-11-01  425.635088  220  72.519298\n",
      "2020-12-01  554.003509  326  72.519298\n",
      "2021-01-01  560.175439  358  72.519298\n",
      "2021-02-01  515.698246  261  72.519298\n",
      "\n",
      "[98 rows x 3 columns]\n"
     ]
    }
   ],
   "source": [
    "# Load the format the datasets\n",
    "df = pd.read_csv('CHL_Monthly_Stacked.csv', header=0, sep='[,]', parse_dates=True,\n",
    "                 squeeze=True, dayfirst=True, engine='python')\n",
    "df1a = pd.DataFrame(index =['Month'], columns=['prediction', 'actual'])\n",
    "pred_date = '2019-03-01'\n",
    "df['Date'] = pd.to_datetime(df['Date'], dayfirst=True)\n",
    "df.columns =['MeterNo', 'Month', 'kWh']\n",
    "df_DDH = pd.read_csv('DDH_Monthly.csv', header=0, sep='[,]', parse_dates=True, squeeze=True, dayfirst=True, engine='python')\n",
    "df_DDH['Date'] = pd.to_datetime(df_DDH['Date'], dayfirst=True)\n",
    "df_DDH.columns =['Month', 'DDH']\n",
    "df = merge(df, df_DDH, on='Month')\n",
    "df_meters = pd.read_csv('CHL-Meters.csv', header=0, sep='[,]', parse_dates=True, squeeze=True, dayfirst=True, engine='python')\n",
    "df = merge(df, df_meters, on='MeterNo')\n",
    "y = df.set_index('Month')\n",
    "y.drop(y.columns[[0]], axis = 1, inplace = True)\n",
    "y = y.sort_index()\n",
    "\n",
    "# Create the summary datasets and merge\n",
    "ya = y.groupby(y.index)['kWh'].mean()\n",
    "yb = y.groupby(y.index)['DDH'].mean()\n",
    "yc = y.groupby(y.index)['Area_m2'].mean()\n",
    "z = merge(ya, yb, left_index=True, right_index=True)\n",
    "z = merge(z, yc, left_index=True, right_index=True)\n",
    "print(z)\n"
   ]
  },
  {
   "cell_type": "code",
   "execution_count": 3,
   "metadata": {},
   "outputs": [
    {
     "name": "stderr",
     "output_type": "stream",
     "text": [
      "C:\\Users\\Paul\\anaconda3\\lib\\site-packages\\statsmodels\\tsa\\base\\tsa_model.py:524: ValueWarning: No frequency information was provided, so inferred frequency MS will be used.\n",
      "  warnings.warn('No frequency information was'\n",
      "C:\\Users\\Paul\\anaconda3\\lib\\site-packages\\statsmodels\\tsa\\base\\tsa_model.py:524: ValueWarning: No frequency information was provided, so inferred frequency MS will be used.\n",
      "  warnings.warn('No frequency information was'\n"
     ]
    },
    {
     "name": "stdout",
     "output_type": "stream",
     "text": [
      "            prediction      actual  error\n",
      "2019-03-01  389.618161  432.150877 -42.53\n",
      "2019-04-01  353.944754  385.712281 -31.77\n",
      "2019-05-01  314.603398  302.915789  11.69\n",
      "2019-06-01  240.461316  227.119298  13.34\n",
      "2019-07-01  202.568557  211.235088  -8.67\n",
      "2019-08-01  199.133824  194.691228   4.44\n",
      "2019-09-01  235.215084  259.235088 -24.02\n",
      "2019-10-01  313.906126  321.540351  -7.63\n",
      "2019-11-01  438.546205  418.789474  19.76\n",
      "2019-12-01  525.382704  533.392982  -8.01\n",
      "2020-01-01  555.918246  553.136842   2.78\n",
      "2020-02-01  521.435975  537.428070 -15.99\n",
      "2020-03-01  494.063053  463.421053  30.64\n",
      "2020-04-01  372.493933  360.564912  11.93\n",
      "2020-05-01  288.691126  304.842105 -16.15\n",
      "2020-06-01  242.187705  246.343860  -4.16\n",
      "2020-07-01  231.526083  228.463158   3.06\n",
      "2020-08-01  211.730911  209.263158   2.47\n",
      "2020-09-01  255.263290  239.087719  16.18\n",
      "2020-10-01  286.687657  342.726316 -56.04\n",
      "2020-11-01  451.335385  425.635088  25.70\n",
      "2020-12-01  549.996145  554.003509  -4.01\n",
      "2021-01-01  589.002150  560.175439  28.83\n",
      "2021-02-01  503.939433  515.698246 -11.76\n"
     ]
    }
   ],
   "source": [
    "#Sarimax model configuration\n",
    "endog = z.iloc[:,0]\n",
    "exog = z.iloc[:,1:]\n",
    "mod = sm.tsa.statespace.SARIMAX(endog = endog,\n",
    "                            order=(1, 1, 1),\n",
    "                            seasonal_order=(0, 1, 1, 12),\n",
    "                            exog = exog,\n",
    "                            enforce_stationarity=False,\n",
    "                            enforce_invertibility=False)\n",
    "results = mod.fit()\n",
    "pred = results.get_prediction(start=pd.to_datetime(pred_date), dynamic=False)\n",
    "y_forecasted = pred.predicted_mean\n",
    "y_forecasted =y_forecasted.to_frame()\n",
    "y_truth = z[pred_date:]\n",
    "df1 = merge(y_forecasted, y_truth, left_index=True, right_index=True)\n",
    "df1.drop(df1.columns[[2,3]], axis = 1, inplace = True)\n",
    "df1.columns =['prediction', 'actual']\n",
    "df1['error'] = round(((df1['prediction'] - df1['actual'])),2)\n",
    "print(df1)"
   ]
  },
  {
   "cell_type": "code",
   "execution_count": 4,
   "metadata": {},
   "outputs": [
    {
     "name": "stdout",
     "output_type": "stream",
     "text": [
      "            prediction      actual  error\n",
      "2019-03-01  389.618161  432.150877 -42.53\n",
      "2019-04-01  353.944754  385.712281 -31.77\n",
      "2019-05-01  314.603398  302.915789  11.69\n",
      "2019-06-01  240.461316  227.119298  13.34\n",
      "2019-07-01  202.568557  211.235088  -8.67\n",
      "2019-08-01  199.133824  194.691228   4.44\n",
      "2019-09-01  235.215084  259.235088 -24.02\n",
      "2019-10-01  313.906126  321.540351  -7.63\n",
      "2019-11-01  438.546205  418.789474  19.76\n",
      "2019-12-01  525.382704  533.392982  -8.01\n",
      "2020-01-01  555.918246  553.136842   2.78\n",
      "2020-02-01  521.435975  537.428070 -15.99\n",
      "2020-03-01  494.063053  463.421053  30.64\n",
      "2020-04-01  372.493933  360.564912  11.93\n",
      "2020-05-01  288.691126  304.842105 -16.15\n",
      "2020-06-01  242.187705  246.343860  -4.16\n",
      "2020-07-01  231.526083  228.463158   3.06\n",
      "2020-08-01  211.730911  209.263158   2.47\n",
      "2020-09-01  255.263290  239.087719  16.18\n",
      "2020-10-01  286.687657  342.726316 -56.04\n",
      "2020-11-01  451.335385  425.635088  25.70\n",
      "2020-12-01  549.996145  554.003509  -4.01\n",
      "2021-01-01  589.002150  560.175439  28.83\n",
      "2021-02-01  503.939433  515.698246 -11.76\n"
     ]
    }
   ],
   "source": [
    "# drop any nan values\n",
    "df2 = df1.dropna()\n",
    "print(df2)"
   ]
  },
  {
   "cell_type": "code",
   "execution_count": 5,
   "metadata": {},
   "outputs": [
    {
     "name": "stdout",
     "output_type": "stream",
     "text": [
      "458.4794729408605\n"
     ]
    }
   ],
   "source": [
    "#mse calculation\n",
    "mse = mean_squared_error(df2['actual'],df2['prediction'])\n",
    "print(mse)"
   ]
  },
  {
   "cell_type": "code",
   "execution_count": 6,
   "metadata": {},
   "outputs": [
    {
     "name": "stdout",
     "output_type": "stream",
     "text": [
      "21.412133778324392\n"
     ]
    }
   ],
   "source": [
    "#rmse calculation\n",
    "rmse = np.sqrt(mse)\n",
    "print(rmse)"
   ]
  },
  {
   "cell_type": "code",
   "execution_count": 7,
   "metadata": {},
   "outputs": [
    {
     "name": "stdout",
     "output_type": "stream",
     "text": [
      "367.81549707602335\n"
     ]
    }
   ],
   "source": [
    "#mean acutal calculation\n",
    "print(df2['actual'].mean())"
   ]
  },
  {
   "cell_type": "code",
   "execution_count": null,
   "metadata": {},
   "outputs": [],
   "source": [
    "#PRMSE: RMSE/Mean Actual\n",
    "rmse/df2['actual'].mean()"
   ]
  },
  {
   "cell_type": "code",
   "execution_count": null,
   "metadata": {},
   "outputs": [],
   "source": [
    "# Summary statistics\n",
    "def Summary(x):\n",
    "    return round(Series(index=['min','max', 'mean','sum','count'],data=[x.min(),x.max(),x.mean(),x.sum(),x.count()]),2)\n",
    "df2.apply(Summary)"
   ]
  }
 ],
 "metadata": {
  "kernelspec": {
   "display_name": "Python 3",
   "language": "python",
   "name": "python3"
  },
  "language_info": {
   "codemirror_mode": {
    "name": "ipython",
    "version": 3
   },
   "file_extension": ".py",
   "mimetype": "text/x-python",
   "name": "python",
   "nbconvert_exporter": "python",
   "pygments_lexer": "ipython3",
   "version": "3.8.5"
  }
 },
 "nbformat": 4,
 "nbformat_minor": 2
}
