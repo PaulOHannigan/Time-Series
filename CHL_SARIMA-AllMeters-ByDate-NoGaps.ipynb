{
 "cells": [
  {
   "cell_type": "markdown",
   "metadata": {},
   "source": [
    "### https://towardsdatascience.com/how-to-forecast-sales-with-python-using-sarima-model-ba600992fa7d"
   ]
  },
  {
   "cell_type": "code",
   "execution_count": 1,
   "metadata": {},
   "outputs": [],
   "source": [
    "import warnings\n",
    "import itertools\n",
    "import numpy as np\n",
    "from numpy import concatenate, savetxt, unique, array, subtract\n",
    "import matplotlib.pyplot as plt\n",
    "warnings.filterwarnings(\"ignore\")\n",
    "plt.style.use('fivethirtyeight')\n",
    "import pandas as pd\n",
    "from pandas import merge, DataFrame, Series\n",
    "import statsmodels.api as sm\n",
    "import matplotlib\n",
    "from math import sqrt\n",
    "from statistics import mean\n",
    "matplotlib.rcParams['axes.labelsize'] = 14\n",
    "matplotlib.rcParams['xtick.labelsize'] = 12\n",
    "matplotlib.rcParams['ytick.labelsize'] = 12\n",
    "matplotlib.rcParams['text.color'] = 'g'\n"
   ]
  },
  {
   "cell_type": "code",
   "execution_count": 2,
   "metadata": {},
   "outputs": [],
   "source": [
    "df = pd.read_csv('CharlestownAllWithDate3.csv', header=0, sep='[,]', parse_dates=True, squeeze=True, dayfirst=True, engine='python')\n",
    "df['Date'] = pd.to_datetime(df['Date'], dayfirst=True)\n",
    "y = df.set_index(['Date'])\n"
   ]
  },
  {
   "cell_type": "code",
   "execution_count": 3,
   "metadata": {},
   "outputs": [],
   "source": [
    "meter_ids = unique(y['MeterNo']) \n",
    "df2 = pd.DataFrame(index =['Date'], columns=['prediction', 'actual', 'error','mse','rmse'])\n",
    "pred_date = '2021-02-01'"
   ]
  },
  {
   "cell_type": "code",
   "execution_count": 4,
   "metadata": {},
   "outputs": [
    {
     "name": "stdout",
     "output_type": "stream",
     "text": [
      "Examples of parameter for SARIMA...\n",
      "SARIMAX: (0, 0, 1) x (0, 0, 1, 7)\n",
      "SARIMAX: (0, 0, 1) x (0, 1, 0, 7)\n",
      "SARIMAX: (0, 1, 0) x (0, 1, 1, 7)\n",
      "SARIMAX: (0, 1, 0) x (1, 0, 0, 7)\n"
     ]
    }
   ],
   "source": [
    "p = d = q = range(0, 2)\n",
    "pdq = list(itertools.product(p, d, q))\n",
    "seasonal_pdq = [(x[0], x[1], x[2], 7) for x in list(itertools.product(p, d, q))]\n",
    "print('Examples of parameter for SARIMA...')\n",
    "print('SARIMAX: {} x {}'.format(pdq[1], seasonal_pdq[1]))\n",
    "print('SARIMAX: {} x {}'.format(pdq[1], seasonal_pdq[2]))\n",
    "print('SARIMAX: {} x {}'.format(pdq[2], seasonal_pdq[3]))\n",
    "print('SARIMAX: {} x {}'.format(pdq[2], seasonal_pdq[4]))"
   ]
  },
  {
   "cell_type": "code",
   "execution_count": 5,
   "metadata": {},
   "outputs": [
    {
     "name": "stderr",
     "output_type": "stream",
     "text": [
      "C:\\Users\\Paul\\anaconda3\\lib\\site-packages\\statsmodels\\tsa\\base\\tsa_model.py:581: ValueWarning: A date index has been provided, but it has no associated frequency information and so will be ignored when e.g. forecasting.\n",
      "  warnings.warn('A date index has been provided, but it has no'\n",
      "C:\\Users\\Paul\\anaconda3\\lib\\site-packages\\statsmodels\\tsa\\base\\tsa_model.py:585: ValueWarning: A date index has been provided, but it is not monotonic and so will be ignored when e.g. forecasting.\n",
      "  warnings.warn('A date index has been provided, but it is not'\n",
      "C:\\Users\\Paul\\anaconda3\\lib\\site-packages\\statsmodels\\tsa\\base\\tsa_model.py:581: ValueWarning: A date index has been provided, but it has no associated frequency information and so will be ignored when e.g. forecasting.\n",
      "  warnings.warn('A date index has been provided, but it has no'\n",
      "C:\\Users\\Paul\\anaconda3\\lib\\site-packages\\statsmodels\\tsa\\base\\tsa_model.py:585: ValueWarning: A date index has been provided, but it is not monotonic and so will be ignored when e.g. forecasting.\n",
      "  warnings.warn('A date index has been provided, but it is not'\n",
      "C:\\Users\\Paul\\anaconda3\\lib\\site-packages\\statsmodels\\tsa\\base\\tsa_model.py:581: ValueWarning: A date index has been provided, but it has no associated frequency information and so will be ignored when e.g. forecasting.\n",
      "  warnings.warn('A date index has been provided, but it has no'\n",
      "C:\\Users\\Paul\\anaconda3\\lib\\site-packages\\statsmodels\\tsa\\base\\tsa_model.py:585: ValueWarning: A date index has been provided, but it is not monotonic and so will be ignored when e.g. forecasting.\n",
      "  warnings.warn('A date index has been provided, but it is not'\n",
      "C:\\Users\\Paul\\anaconda3\\lib\\site-packages\\statsmodels\\tsa\\base\\tsa_model.py:581: ValueWarning: A date index has been provided, but it has no associated frequency information and so will be ignored when e.g. forecasting.\n",
      "  warnings.warn('A date index has been provided, but it has no'\n",
      "C:\\Users\\Paul\\anaconda3\\lib\\site-packages\\statsmodels\\tsa\\base\\tsa_model.py:585: ValueWarning: A date index has been provided, but it is not monotonic and so will be ignored when e.g. forecasting.\n",
      "  warnings.warn('A date index has been provided, but it is not'\n",
      "C:\\Users\\Paul\\anaconda3\\lib\\site-packages\\statsmodels\\tsa\\base\\tsa_model.py:581: ValueWarning: A date index has been provided, but it has no associated frequency information and so will be ignored when e.g. forecasting.\n",
      "  warnings.warn('A date index has been provided, but it has no'\n",
      "C:\\Users\\Paul\\anaconda3\\lib\\site-packages\\statsmodels\\tsa\\base\\tsa_model.py:585: ValueWarning: A date index has been provided, but it is not monotonic and so will be ignored when e.g. forecasting.\n",
      "  warnings.warn('A date index has been provided, but it is not'\n",
      "C:\\Users\\Paul\\anaconda3\\lib\\site-packages\\statsmodels\\tsa\\base\\tsa_model.py:581: ValueWarning: A date index has been provided, but it has no associated frequency information and so will be ignored when e.g. forecasting.\n",
      "  warnings.warn('A date index has been provided, but it has no'\n",
      "C:\\Users\\Paul\\anaconda3\\lib\\site-packages\\statsmodels\\tsa\\base\\tsa_model.py:585: ValueWarning: A date index has been provided, but it is not monotonic and so will be ignored when e.g. forecasting.\n",
      "  warnings.warn('A date index has been provided, but it is not'\n",
      "C:\\Users\\Paul\\anaconda3\\lib\\site-packages\\statsmodels\\tsa\\base\\tsa_model.py:581: ValueWarning: A date index has been provided, but it has no associated frequency information and so will be ignored when e.g. forecasting.\n",
      "  warnings.warn('A date index has been provided, but it has no'\n",
      "C:\\Users\\Paul\\anaconda3\\lib\\site-packages\\statsmodels\\tsa\\base\\tsa_model.py:585: ValueWarning: A date index has been provided, but it is not monotonic and so will be ignored when e.g. forecasting.\n",
      "  warnings.warn('A date index has been provided, but it is not'\n",
      "C:\\Users\\Paul\\anaconda3\\lib\\site-packages\\statsmodels\\tsa\\base\\tsa_model.py:581: ValueWarning: A date index has been provided, but it has no associated frequency information and so will be ignored when e.g. forecasting.\n",
      "  warnings.warn('A date index has been provided, but it has no'\n",
      "C:\\Users\\Paul\\anaconda3\\lib\\site-packages\\statsmodels\\tsa\\base\\tsa_model.py:585: ValueWarning: A date index has been provided, but it is not monotonic and so will be ignored when e.g. forecasting.\n",
      "  warnings.warn('A date index has been provided, but it is not'\n",
      "C:\\Users\\Paul\\anaconda3\\lib\\site-packages\\statsmodels\\tsa\\base\\tsa_model.py:581: ValueWarning: A date index has been provided, but it has no associated frequency information and so will be ignored when e.g. forecasting.\n",
      "  warnings.warn('A date index has been provided, but it has no'\n",
      "C:\\Users\\Paul\\anaconda3\\lib\\site-packages\\statsmodels\\tsa\\base\\tsa_model.py:585: ValueWarning: A date index has been provided, but it is not monotonic and so will be ignored when e.g. forecasting.\n",
      "  warnings.warn('A date index has been provided, but it is not'\n",
      "C:\\Users\\Paul\\anaconda3\\lib\\site-packages\\statsmodels\\tsa\\base\\tsa_model.py:581: ValueWarning: A date index has been provided, but it has no associated frequency information and so will be ignored when e.g. forecasting.\n",
      "  warnings.warn('A date index has been provided, but it has no'\n",
      "C:\\Users\\Paul\\anaconda3\\lib\\site-packages\\statsmodels\\tsa\\base\\tsa_model.py:585: ValueWarning: A date index has been provided, but it is not monotonic and so will be ignored when e.g. forecasting.\n",
      "  warnings.warn('A date index has been provided, but it is not'\n",
      "C:\\Users\\Paul\\anaconda3\\lib\\site-packages\\statsmodels\\tsa\\base\\tsa_model.py:581: ValueWarning: A date index has been provided, but it has no associated frequency information and so will be ignored when e.g. forecasting.\n",
      "  warnings.warn('A date index has been provided, but it has no'\n",
      "C:\\Users\\Paul\\anaconda3\\lib\\site-packages\\statsmodels\\tsa\\base\\tsa_model.py:585: ValueWarning: A date index has been provided, but it is not monotonic and so will be ignored when e.g. forecasting.\n",
      "  warnings.warn('A date index has been provided, but it is not'\n",
      "C:\\Users\\Paul\\anaconda3\\lib\\site-packages\\statsmodels\\tsa\\base\\tsa_model.py:581: ValueWarning: A date index has been provided, but it has no associated frequency information and so will be ignored when e.g. forecasting.\n",
      "  warnings.warn('A date index has been provided, but it has no'\n",
      "C:\\Users\\Paul\\anaconda3\\lib\\site-packages\\statsmodels\\tsa\\base\\tsa_model.py:585: ValueWarning: A date index has been provided, but it is not monotonic and so will be ignored when e.g. forecasting.\n",
      "  warnings.warn('A date index has been provided, but it is not'\n",
      "C:\\Users\\Paul\\anaconda3\\lib\\site-packages\\statsmodels\\tsa\\base\\tsa_model.py:581: ValueWarning: A date index has been provided, but it has no associated frequency information and so will be ignored when e.g. forecasting.\n",
      "  warnings.warn('A date index has been provided, but it has no'\n",
      "C:\\Users\\Paul\\anaconda3\\lib\\site-packages\\statsmodels\\tsa\\base\\tsa_model.py:585: ValueWarning: A date index has been provided, but it is not monotonic and so will be ignored when e.g. forecasting.\n",
      "  warnings.warn('A date index has been provided, but it is not'\n",
      "C:\\Users\\Paul\\anaconda3\\lib\\site-packages\\statsmodels\\tsa\\base\\tsa_model.py:581: ValueWarning: A date index has been provided, but it has no associated frequency information and so will be ignored when e.g. forecasting.\n",
      "  warnings.warn('A date index has been provided, but it has no'\n",
      "C:\\Users\\Paul\\anaconda3\\lib\\site-packages\\statsmodels\\tsa\\base\\tsa_model.py:585: ValueWarning: A date index has been provided, but it is not monotonic and so will be ignored when e.g. forecasting.\n",
      "  warnings.warn('A date index has been provided, but it is not'\n",
      "C:\\Users\\Paul\\anaconda3\\lib\\site-packages\\statsmodels\\tsa\\base\\tsa_model.py:581: ValueWarning: A date index has been provided, but it has no associated frequency information and so will be ignored when e.g. forecasting.\n",
      "  warnings.warn('A date index has been provided, but it has no'\n",
      "C:\\Users\\Paul\\anaconda3\\lib\\site-packages\\statsmodels\\tsa\\base\\tsa_model.py:585: ValueWarning: A date index has been provided, but it is not monotonic and so will be ignored when e.g. forecasting.\n",
      "  warnings.warn('A date index has been provided, but it is not'\n",
      "C:\\Users\\Paul\\anaconda3\\lib\\site-packages\\statsmodels\\tsa\\base\\tsa_model.py:581: ValueWarning: A date index has been provided, but it has no associated frequency information and so will be ignored when e.g. forecasting.\n",
      "  warnings.warn('A date index has been provided, but it has no'\n",
      "C:\\Users\\Paul\\anaconda3\\lib\\site-packages\\statsmodels\\tsa\\base\\tsa_model.py:585: ValueWarning: A date index has been provided, but it is not monotonic and so will be ignored when e.g. forecasting.\n",
      "  warnings.warn('A date index has been provided, but it is not'\n",
      "C:\\Users\\Paul\\anaconda3\\lib\\site-packages\\statsmodels\\tsa\\base\\tsa_model.py:581: ValueWarning: A date index has been provided, but it has no associated frequency information and so will be ignored when e.g. forecasting.\n",
      "  warnings.warn('A date index has been provided, but it has no'\n",
      "C:\\Users\\Paul\\anaconda3\\lib\\site-packages\\statsmodels\\tsa\\base\\tsa_model.py:585: ValueWarning: A date index has been provided, but it is not monotonic and so will be ignored when e.g. forecasting.\n",
      "  warnings.warn('A date index has been provided, but it is not'\n",
      "C:\\Users\\Paul\\anaconda3\\lib\\site-packages\\statsmodels\\tsa\\base\\tsa_model.py:581: ValueWarning: A date index has been provided, but it has no associated frequency information and so will be ignored when e.g. forecasting.\n",
      "  warnings.warn('A date index has been provided, but it has no'\n",
      "C:\\Users\\Paul\\anaconda3\\lib\\site-packages\\statsmodels\\tsa\\base\\tsa_model.py:585: ValueWarning: A date index has been provided, but it is not monotonic and so will be ignored when e.g. forecasting.\n",
      "  warnings.warn('A date index has been provided, but it is not'\n",
      "C:\\Users\\Paul\\anaconda3\\lib\\site-packages\\statsmodels\\tsa\\base\\tsa_model.py:581: ValueWarning: A date index has been provided, but it has no associated frequency information and so will be ignored when e.g. forecasting.\n",
      "  warnings.warn('A date index has been provided, but it has no'\n",
      "C:\\Users\\Paul\\anaconda3\\lib\\site-packages\\statsmodels\\tsa\\base\\tsa_model.py:585: ValueWarning: A date index has been provided, but it is not monotonic and so will be ignored when e.g. forecasting.\n",
      "  warnings.warn('A date index has been provided, but it is not'\n",
      "C:\\Users\\Paul\\anaconda3\\lib\\site-packages\\statsmodels\\tsa\\base\\tsa_model.py:581: ValueWarning: A date index has been provided, but it has no associated frequency information and so will be ignored when e.g. forecasting.\n",
      "  warnings.warn('A date index has been provided, but it has no'\n",
      "C:\\Users\\Paul\\anaconda3\\lib\\site-packages\\statsmodels\\tsa\\base\\tsa_model.py:585: ValueWarning: A date index has been provided, but it is not monotonic and so will be ignored when e.g. forecasting.\n",
      "  warnings.warn('A date index has been provided, but it is not'\n",
      "C:\\Users\\Paul\\anaconda3\\lib\\site-packages\\statsmodels\\tsa\\base\\tsa_model.py:581: ValueWarning: A date index has been provided, but it has no associated frequency information and so will be ignored when e.g. forecasting.\n",
      "  warnings.warn('A date index has been provided, but it has no'\n",
      "C:\\Users\\Paul\\anaconda3\\lib\\site-packages\\statsmodels\\tsa\\base\\tsa_model.py:585: ValueWarning: A date index has been provided, but it is not monotonic and so will be ignored when e.g. forecasting.\n",
      "  warnings.warn('A date index has been provided, but it is not'\n",
      "C:\\Users\\Paul\\anaconda3\\lib\\site-packages\\statsmodels\\tsa\\base\\tsa_model.py:581: ValueWarning: A date index has been provided, but it has no associated frequency information and so will be ignored when e.g. forecasting.\n",
      "  warnings.warn('A date index has been provided, but it has no'\n",
      "C:\\Users\\Paul\\anaconda3\\lib\\site-packages\\statsmodels\\tsa\\base\\tsa_model.py:585: ValueWarning: A date index has been provided, but it is not monotonic and so will be ignored when e.g. forecasting.\n",
      "  warnings.warn('A date index has been provided, but it is not'\n",
      "C:\\Users\\Paul\\anaconda3\\lib\\site-packages\\statsmodels\\tsa\\base\\tsa_model.py:581: ValueWarning: A date index has been provided, but it has no associated frequency information and so will be ignored when e.g. forecasting.\n",
      "  warnings.warn('A date index has been provided, but it has no'\n",
      "C:\\Users\\Paul\\anaconda3\\lib\\site-packages\\statsmodels\\tsa\\base\\tsa_model.py:585: ValueWarning: A date index has been provided, but it is not monotonic and so will be ignored when e.g. forecasting.\n",
      "  warnings.warn('A date index has been provided, but it is not'\n",
      "C:\\Users\\Paul\\anaconda3\\lib\\site-packages\\statsmodels\\tsa\\base\\tsa_model.py:581: ValueWarning: A date index has been provided, but it has no associated frequency information and so will be ignored when e.g. forecasting.\n",
      "  warnings.warn('A date index has been provided, but it has no'\n",
      "C:\\Users\\Paul\\anaconda3\\lib\\site-packages\\statsmodels\\tsa\\base\\tsa_model.py:585: ValueWarning: A date index has been provided, but it is not monotonic and so will be ignored when e.g. forecasting.\n",
      "  warnings.warn('A date index has been provided, but it is not'\n",
      "C:\\Users\\Paul\\anaconda3\\lib\\site-packages\\statsmodels\\tsa\\base\\tsa_model.py:581: ValueWarning: A date index has been provided, but it has no associated frequency information and so will be ignored when e.g. forecasting.\n",
      "  warnings.warn('A date index has been provided, but it has no'\n",
      "C:\\Users\\Paul\\anaconda3\\lib\\site-packages\\statsmodels\\tsa\\base\\tsa_model.py:585: ValueWarning: A date index has been provided, but it is not monotonic and so will be ignored when e.g. forecasting.\n",
      "  warnings.warn('A date index has been provided, but it is not'\n",
      "C:\\Users\\Paul\\anaconda3\\lib\\site-packages\\statsmodels\\tsa\\base\\tsa_model.py:581: ValueWarning: A date index has been provided, but it has no associated frequency information and so will be ignored when e.g. forecasting.\n",
      "  warnings.warn('A date index has been provided, but it has no'\n",
      "C:\\Users\\Paul\\anaconda3\\lib\\site-packages\\statsmodels\\tsa\\base\\tsa_model.py:585: ValueWarning: A date index has been provided, but it is not monotonic and so will be ignored when e.g. forecasting.\n",
      "  warnings.warn('A date index has been provided, but it is not'\n",
      "C:\\Users\\Paul\\anaconda3\\lib\\site-packages\\statsmodels\\tsa\\base\\tsa_model.py:581: ValueWarning: A date index has been provided, but it has no associated frequency information and so will be ignored when e.g. forecasting.\n",
      "  warnings.warn('A date index has been provided, but it has no'\n",
      "C:\\Users\\Paul\\anaconda3\\lib\\site-packages\\statsmodels\\tsa\\base\\tsa_model.py:585: ValueWarning: A date index has been provided, but it is not monotonic and so will be ignored when e.g. forecasting.\n",
      "  warnings.warn('A date index has been provided, but it is not'\n",
      "C:\\Users\\Paul\\anaconda3\\lib\\site-packages\\statsmodels\\tsa\\base\\tsa_model.py:581: ValueWarning: A date index has been provided, but it has no associated frequency information and so will be ignored when e.g. forecasting.\n",
      "  warnings.warn('A date index has been provided, but it has no'\n",
      "C:\\Users\\Paul\\anaconda3\\lib\\site-packages\\statsmodels\\tsa\\base\\tsa_model.py:585: ValueWarning: A date index has been provided, but it is not monotonic and so will be ignored when e.g. forecasting.\n",
      "  warnings.warn('A date index has been provided, but it is not'\n",
      "C:\\Users\\Paul\\anaconda3\\lib\\site-packages\\statsmodels\\tsa\\base\\tsa_model.py:581: ValueWarning: A date index has been provided, but it has no associated frequency information and so will be ignored when e.g. forecasting.\n",
      "  warnings.warn('A date index has been provided, but it has no'\n",
      "C:\\Users\\Paul\\anaconda3\\lib\\site-packages\\statsmodels\\tsa\\base\\tsa_model.py:585: ValueWarning: A date index has been provided, but it is not monotonic and so will be ignored when e.g. forecasting.\n",
      "  warnings.warn('A date index has been provided, but it is not'\n",
      "C:\\Users\\Paul\\anaconda3\\lib\\site-packages\\statsmodels\\tsa\\base\\tsa_model.py:581: ValueWarning: A date index has been provided, but it has no associated frequency information and so will be ignored when e.g. forecasting.\n",
      "  warnings.warn('A date index has been provided, but it has no'\n",
      "C:\\Users\\Paul\\anaconda3\\lib\\site-packages\\statsmodels\\tsa\\base\\tsa_model.py:585: ValueWarning: A date index has been provided, but it is not monotonic and so will be ignored when e.g. forecasting.\n",
      "  warnings.warn('A date index has been provided, but it is not'\n",
      "C:\\Users\\Paul\\anaconda3\\lib\\site-packages\\statsmodels\\tsa\\base\\tsa_model.py:581: ValueWarning: A date index has been provided, but it has no associated frequency information and so will be ignored when e.g. forecasting.\n",
      "  warnings.warn('A date index has been provided, but it has no'\n",
      "C:\\Users\\Paul\\anaconda3\\lib\\site-packages\\statsmodels\\tsa\\base\\tsa_model.py:585: ValueWarning: A date index has been provided, but it is not monotonic and so will be ignored when e.g. forecasting.\n",
      "  warnings.warn('A date index has been provided, but it is not'\n",
      "C:\\Users\\Paul\\anaconda3\\lib\\site-packages\\statsmodels\\tsa\\base\\tsa_model.py:581: ValueWarning: A date index has been provided, but it has no associated frequency information and so will be ignored when e.g. forecasting.\n",
      "  warnings.warn('A date index has been provided, but it has no'\n",
      "C:\\Users\\Paul\\anaconda3\\lib\\site-packages\\statsmodels\\tsa\\base\\tsa_model.py:585: ValueWarning: A date index has been provided, but it is not monotonic and so will be ignored when e.g. forecasting.\n",
      "  warnings.warn('A date index has been provided, but it is not'\n",
      "C:\\Users\\Paul\\anaconda3\\lib\\site-packages\\statsmodels\\tsa\\base\\tsa_model.py:581: ValueWarning: A date index has been provided, but it has no associated frequency information and so will be ignored when e.g. forecasting.\n",
      "  warnings.warn('A date index has been provided, but it has no'\n",
      "C:\\Users\\Paul\\anaconda3\\lib\\site-packages\\statsmodels\\tsa\\base\\tsa_model.py:585: ValueWarning: A date index has been provided, but it is not monotonic and so will be ignored when e.g. forecasting.\n",
      "  warnings.warn('A date index has been provided, but it is not'\n",
      "C:\\Users\\Paul\\anaconda3\\lib\\site-packages\\statsmodels\\tsa\\base\\tsa_model.py:581: ValueWarning: A date index has been provided, but it has no associated frequency information and so will be ignored when e.g. forecasting.\n",
      "  warnings.warn('A date index has been provided, but it has no'\n",
      "C:\\Users\\Paul\\anaconda3\\lib\\site-packages\\statsmodels\\tsa\\base\\tsa_model.py:585: ValueWarning: A date index has been provided, but it is not monotonic and so will be ignored when e.g. forecasting.\n",
      "  warnings.warn('A date index has been provided, but it is not'\n",
      "C:\\Users\\Paul\\anaconda3\\lib\\site-packages\\statsmodels\\tsa\\base\\tsa_model.py:581: ValueWarning: A date index has been provided, but it has no associated frequency information and so will be ignored when e.g. forecasting.\n",
      "  warnings.warn('A date index has been provided, but it has no'\n",
      "C:\\Users\\Paul\\anaconda3\\lib\\site-packages\\statsmodels\\tsa\\base\\tsa_model.py:585: ValueWarning: A date index has been provided, but it is not monotonic and so will be ignored when e.g. forecasting.\n",
      "  warnings.warn('A date index has been provided, but it is not'\n",
      "C:\\Users\\Paul\\anaconda3\\lib\\site-packages\\statsmodels\\tsa\\base\\tsa_model.py:581: ValueWarning: A date index has been provided, but it has no associated frequency information and so will be ignored when e.g. forecasting.\n",
      "  warnings.warn('A date index has been provided, but it has no'\n",
      "C:\\Users\\Paul\\anaconda3\\lib\\site-packages\\statsmodels\\tsa\\base\\tsa_model.py:585: ValueWarning: A date index has been provided, but it is not monotonic and so will be ignored when e.g. forecasting.\n",
      "  warnings.warn('A date index has been provided, but it is not'\n",
      "C:\\Users\\Paul\\anaconda3\\lib\\site-packages\\statsmodels\\tsa\\base\\tsa_model.py:581: ValueWarning: A date index has been provided, but it has no associated frequency information and so will be ignored when e.g. forecasting.\n",
      "  warnings.warn('A date index has been provided, but it has no'\n",
      "C:\\Users\\Paul\\anaconda3\\lib\\site-packages\\statsmodels\\tsa\\base\\tsa_model.py:585: ValueWarning: A date index has been provided, but it is not monotonic and so will be ignored when e.g. forecasting.\n",
      "  warnings.warn('A date index has been provided, but it is not'\n",
      "C:\\Users\\Paul\\anaconda3\\lib\\site-packages\\statsmodels\\tsa\\base\\tsa_model.py:581: ValueWarning: A date index has been provided, but it has no associated frequency information and so will be ignored when e.g. forecasting.\n",
      "  warnings.warn('A date index has been provided, but it has no'\n",
      "C:\\Users\\Paul\\anaconda3\\lib\\site-packages\\statsmodels\\tsa\\base\\tsa_model.py:585: ValueWarning: A date index has been provided, but it is not monotonic and so will be ignored when e.g. forecasting.\n",
      "  warnings.warn('A date index has been provided, but it is not'\n",
      "C:\\Users\\Paul\\anaconda3\\lib\\site-packages\\statsmodels\\tsa\\base\\tsa_model.py:581: ValueWarning: A date index has been provided, but it has no associated frequency information and so will be ignored when e.g. forecasting.\n",
      "  warnings.warn('A date index has been provided, but it has no'\n",
      "C:\\Users\\Paul\\anaconda3\\lib\\site-packages\\statsmodels\\tsa\\base\\tsa_model.py:585: ValueWarning: A date index has been provided, but it is not monotonic and so will be ignored when e.g. forecasting.\n",
      "  warnings.warn('A date index has been provided, but it is not'\n",
      "C:\\Users\\Paul\\anaconda3\\lib\\site-packages\\statsmodels\\tsa\\base\\tsa_model.py:581: ValueWarning: A date index has been provided, but it has no associated frequency information and so will be ignored when e.g. forecasting.\n",
      "  warnings.warn('A date index has been provided, but it has no'\n",
      "C:\\Users\\Paul\\anaconda3\\lib\\site-packages\\statsmodels\\tsa\\base\\tsa_model.py:585: ValueWarning: A date index has been provided, but it is not monotonic and so will be ignored when e.g. forecasting.\n",
      "  warnings.warn('A date index has been provided, but it is not'\n",
      "C:\\Users\\Paul\\anaconda3\\lib\\site-packages\\statsmodels\\tsa\\base\\tsa_model.py:581: ValueWarning: A date index has been provided, but it has no associated frequency information and so will be ignored when e.g. forecasting.\n",
      "  warnings.warn('A date index has been provided, but it has no'\n",
      "C:\\Users\\Paul\\anaconda3\\lib\\site-packages\\statsmodels\\tsa\\base\\tsa_model.py:585: ValueWarning: A date index has been provided, but it is not monotonic and so will be ignored when e.g. forecasting.\n",
      "  warnings.warn('A date index has been provided, but it is not'\n",
      "C:\\Users\\Paul\\anaconda3\\lib\\site-packages\\statsmodels\\tsa\\base\\tsa_model.py:581: ValueWarning: A date index has been provided, but it has no associated frequency information and so will be ignored when e.g. forecasting.\n",
      "  warnings.warn('A date index has been provided, but it has no'\n",
      "C:\\Users\\Paul\\anaconda3\\lib\\site-packages\\statsmodels\\tsa\\base\\tsa_model.py:585: ValueWarning: A date index has been provided, but it is not monotonic and so will be ignored when e.g. forecasting.\n",
      "  warnings.warn('A date index has been provided, but it is not'\n",
      "C:\\Users\\Paul\\anaconda3\\lib\\site-packages\\statsmodels\\tsa\\base\\tsa_model.py:581: ValueWarning: A date index has been provided, but it has no associated frequency information and so will be ignored when e.g. forecasting.\n",
      "  warnings.warn('A date index has been provided, but it has no'\n",
      "C:\\Users\\Paul\\anaconda3\\lib\\site-packages\\statsmodels\\tsa\\base\\tsa_model.py:585: ValueWarning: A date index has been provided, but it is not monotonic and so will be ignored when e.g. forecasting.\n",
      "  warnings.warn('A date index has been provided, but it is not'\n",
      "C:\\Users\\Paul\\anaconda3\\lib\\site-packages\\statsmodels\\tsa\\base\\tsa_model.py:581: ValueWarning: A date index has been provided, but it has no associated frequency information and so will be ignored when e.g. forecasting.\n",
      "  warnings.warn('A date index has been provided, but it has no'\n",
      "C:\\Users\\Paul\\anaconda3\\lib\\site-packages\\statsmodels\\tsa\\base\\tsa_model.py:585: ValueWarning: A date index has been provided, but it is not monotonic and so will be ignored when e.g. forecasting.\n",
      "  warnings.warn('A date index has been provided, but it is not'\n",
      "C:\\Users\\Paul\\anaconda3\\lib\\site-packages\\statsmodels\\tsa\\base\\tsa_model.py:581: ValueWarning: A date index has been provided, but it has no associated frequency information and so will be ignored when e.g. forecasting.\n",
      "  warnings.warn('A date index has been provided, but it has no'\n",
      "C:\\Users\\Paul\\anaconda3\\lib\\site-packages\\statsmodels\\tsa\\base\\tsa_model.py:585: ValueWarning: A date index has been provided, but it is not monotonic and so will be ignored when e.g. forecasting.\n",
      "  warnings.warn('A date index has been provided, but it is not'\n",
      "C:\\Users\\Paul\\anaconda3\\lib\\site-packages\\statsmodels\\tsa\\base\\tsa_model.py:581: ValueWarning: A date index has been provided, but it has no associated frequency information and so will be ignored when e.g. forecasting.\n",
      "  warnings.warn('A date index has been provided, but it has no'\n",
      "C:\\Users\\Paul\\anaconda3\\lib\\site-packages\\statsmodels\\tsa\\base\\tsa_model.py:585: ValueWarning: A date index has been provided, but it is not monotonic and so will be ignored when e.g. forecasting.\n",
      "  warnings.warn('A date index has been provided, but it is not'\n",
      "C:\\Users\\Paul\\anaconda3\\lib\\site-packages\\statsmodels\\tsa\\base\\tsa_model.py:581: ValueWarning: A date index has been provided, but it has no associated frequency information and so will be ignored when e.g. forecasting.\n",
      "  warnings.warn('A date index has been provided, but it has no'\n",
      "C:\\Users\\Paul\\anaconda3\\lib\\site-packages\\statsmodels\\tsa\\base\\tsa_model.py:585: ValueWarning: A date index has been provided, but it is not monotonic and so will be ignored when e.g. forecasting.\n",
      "  warnings.warn('A date index has been provided, but it is not'\n",
      "C:\\Users\\Paul\\anaconda3\\lib\\site-packages\\statsmodels\\tsa\\base\\tsa_model.py:581: ValueWarning: A date index has been provided, but it has no associated frequency information and so will be ignored when e.g. forecasting.\n",
      "  warnings.warn('A date index has been provided, but it has no'\n",
      "C:\\Users\\Paul\\anaconda3\\lib\\site-packages\\statsmodels\\tsa\\base\\tsa_model.py:585: ValueWarning: A date index has been provided, but it is not monotonic and so will be ignored when e.g. forecasting.\n",
      "  warnings.warn('A date index has been provided, but it is not'\n",
      "C:\\Users\\Paul\\anaconda3\\lib\\site-packages\\statsmodels\\tsa\\base\\tsa_model.py:581: ValueWarning: A date index has been provided, but it has no associated frequency information and so will be ignored when e.g. forecasting.\n",
      "  warnings.warn('A date index has been provided, but it has no'\n",
      "C:\\Users\\Paul\\anaconda3\\lib\\site-packages\\statsmodels\\tsa\\base\\tsa_model.py:585: ValueWarning: A date index has been provided, but it is not monotonic and so will be ignored when e.g. forecasting.\n",
      "  warnings.warn('A date index has been provided, but it is not'\n",
      "C:\\Users\\Paul\\anaconda3\\lib\\site-packages\\statsmodels\\tsa\\base\\tsa_model.py:581: ValueWarning: A date index has been provided, but it has no associated frequency information and so will be ignored when e.g. forecasting.\n",
      "  warnings.warn('A date index has been provided, but it has no'\n",
      "C:\\Users\\Paul\\anaconda3\\lib\\site-packages\\statsmodels\\tsa\\base\\tsa_model.py:585: ValueWarning: A date index has been provided, but it is not monotonic and so will be ignored when e.g. forecasting.\n",
      "  warnings.warn('A date index has been provided, but it is not'\n",
      "C:\\Users\\Paul\\anaconda3\\lib\\site-packages\\statsmodels\\tsa\\base\\tsa_model.py:581: ValueWarning: A date index has been provided, but it has no associated frequency information and so will be ignored when e.g. forecasting.\n",
      "  warnings.warn('A date index has been provided, but it has no'\n",
      "C:\\Users\\Paul\\anaconda3\\lib\\site-packages\\statsmodels\\tsa\\base\\tsa_model.py:585: ValueWarning: A date index has been provided, but it is not monotonic and so will be ignored when e.g. forecasting.\n",
      "  warnings.warn('A date index has been provided, but it is not'\n",
      "C:\\Users\\Paul\\anaconda3\\lib\\site-packages\\statsmodels\\tsa\\base\\tsa_model.py:581: ValueWarning: A date index has been provided, but it has no associated frequency information and so will be ignored when e.g. forecasting.\n",
      "  warnings.warn('A date index has been provided, but it has no'\n",
      "C:\\Users\\Paul\\anaconda3\\lib\\site-packages\\statsmodels\\tsa\\base\\tsa_model.py:585: ValueWarning: A date index has been provided, but it is not monotonic and so will be ignored when e.g. forecasting.\n",
      "  warnings.warn('A date index has been provided, but it is not'\n",
      "C:\\Users\\Paul\\anaconda3\\lib\\site-packages\\statsmodels\\tsa\\base\\tsa_model.py:581: ValueWarning: A date index has been provided, but it has no associated frequency information and so will be ignored when e.g. forecasting.\n",
      "  warnings.warn('A date index has been provided, but it has no'\n",
      "C:\\Users\\Paul\\anaconda3\\lib\\site-packages\\statsmodels\\tsa\\base\\tsa_model.py:585: ValueWarning: A date index has been provided, but it is not monotonic and so will be ignored when e.g. forecasting.\n",
      "  warnings.warn('A date index has been provided, but it is not'\n",
      "C:\\Users\\Paul\\anaconda3\\lib\\site-packages\\statsmodels\\tsa\\base\\tsa_model.py:581: ValueWarning: A date index has been provided, but it has no associated frequency information and so will be ignored when e.g. forecasting.\n",
      "  warnings.warn('A date index has been provided, but it has no'\n",
      "C:\\Users\\Paul\\anaconda3\\lib\\site-packages\\statsmodels\\tsa\\base\\tsa_model.py:585: ValueWarning: A date index has been provided, but it is not monotonic and so will be ignored when e.g. forecasting.\n",
      "  warnings.warn('A date index has been provided, but it is not'\n",
      "C:\\Users\\Paul\\anaconda3\\lib\\site-packages\\statsmodels\\tsa\\base\\tsa_model.py:581: ValueWarning: A date index has been provided, but it has no associated frequency information and so will be ignored when e.g. forecasting.\n",
      "  warnings.warn('A date index has been provided, but it has no'\n",
      "C:\\Users\\Paul\\anaconda3\\lib\\site-packages\\statsmodels\\tsa\\base\\tsa_model.py:585: ValueWarning: A date index has been provided, but it is not monotonic and so will be ignored when e.g. forecasting.\n",
      "  warnings.warn('A date index has been provided, but it is not'\n",
      "C:\\Users\\Paul\\anaconda3\\lib\\site-packages\\statsmodels\\tsa\\base\\tsa_model.py:581: ValueWarning: A date index has been provided, but it has no associated frequency information and so will be ignored when e.g. forecasting.\n",
      "  warnings.warn('A date index has been provided, but it has no'\n",
      "C:\\Users\\Paul\\anaconda3\\lib\\site-packages\\statsmodels\\tsa\\base\\tsa_model.py:585: ValueWarning: A date index has been provided, but it is not monotonic and so will be ignored when e.g. forecasting.\n",
      "  warnings.warn('A date index has been provided, but it is not'\n",
      "C:\\Users\\Paul\\anaconda3\\lib\\site-packages\\statsmodels\\tsa\\base\\tsa_model.py:581: ValueWarning: A date index has been provided, but it has no associated frequency information and so will be ignored when e.g. forecasting.\n",
      "  warnings.warn('A date index has been provided, but it has no'\n",
      "C:\\Users\\Paul\\anaconda3\\lib\\site-packages\\statsmodels\\tsa\\base\\tsa_model.py:585: ValueWarning: A date index has been provided, but it is not monotonic and so will be ignored when e.g. forecasting.\n",
      "  warnings.warn('A date index has been provided, but it is not'\n",
      "C:\\Users\\Paul\\anaconda3\\lib\\site-packages\\statsmodels\\tsa\\base\\tsa_model.py:581: ValueWarning: A date index has been provided, but it has no associated frequency information and so will be ignored when e.g. forecasting.\n",
      "  warnings.warn('A date index has been provided, but it has no'\n",
      "C:\\Users\\Paul\\anaconda3\\lib\\site-packages\\statsmodels\\tsa\\base\\tsa_model.py:585: ValueWarning: A date index has been provided, but it is not monotonic and so will be ignored when e.g. forecasting.\n",
      "  warnings.warn('A date index has been provided, but it is not'\n",
      "C:\\Users\\Paul\\anaconda3\\lib\\site-packages\\statsmodels\\tsa\\base\\tsa_model.py:581: ValueWarning: A date index has been provided, but it has no associated frequency information and so will be ignored when e.g. forecasting.\n",
      "  warnings.warn('A date index has been provided, but it has no'\n",
      "C:\\Users\\Paul\\anaconda3\\lib\\site-packages\\statsmodels\\tsa\\base\\tsa_model.py:585: ValueWarning: A date index has been provided, but it is not monotonic and so will be ignored when e.g. forecasting.\n",
      "  warnings.warn('A date index has been provided, but it is not'\n",
      "C:\\Users\\Paul\\anaconda3\\lib\\site-packages\\statsmodels\\tsa\\base\\tsa_model.py:581: ValueWarning: A date index has been provided, but it has no associated frequency information and so will be ignored when e.g. forecasting.\n",
      "  warnings.warn('A date index has been provided, but it has no'\n",
      "C:\\Users\\Paul\\anaconda3\\lib\\site-packages\\statsmodels\\tsa\\base\\tsa_model.py:585: ValueWarning: A date index has been provided, but it is not monotonic and so will be ignored when e.g. forecasting.\n",
      "  warnings.warn('A date index has been provided, but it is not'\n",
      "C:\\Users\\Paul\\anaconda3\\lib\\site-packages\\statsmodels\\tsa\\base\\tsa_model.py:581: ValueWarning: A date index has been provided, but it has no associated frequency information and so will be ignored when e.g. forecasting.\n",
      "  warnings.warn('A date index has been provided, but it has no'\n",
      "C:\\Users\\Paul\\anaconda3\\lib\\site-packages\\statsmodels\\tsa\\base\\tsa_model.py:585: ValueWarning: A date index has been provided, but it is not monotonic and so will be ignored when e.g. forecasting.\n",
      "  warnings.warn('A date index has been provided, but it is not'\n",
      "C:\\Users\\Paul\\anaconda3\\lib\\site-packages\\statsmodels\\tsa\\base\\tsa_model.py:581: ValueWarning: A date index has been provided, but it has no associated frequency information and so will be ignored when e.g. forecasting.\n",
      "  warnings.warn('A date index has been provided, but it has no'\n",
      "C:\\Users\\Paul\\anaconda3\\lib\\site-packages\\statsmodels\\tsa\\base\\tsa_model.py:585: ValueWarning: A date index has been provided, but it is not monotonic and so will be ignored when e.g. forecasting.\n",
      "  warnings.warn('A date index has been provided, but it is not'\n",
      "C:\\Users\\Paul\\anaconda3\\lib\\site-packages\\statsmodels\\tsa\\base\\tsa_model.py:581: ValueWarning: A date index has been provided, but it has no associated frequency information and so will be ignored when e.g. forecasting.\n",
      "  warnings.warn('A date index has been provided, but it has no'\n",
      "C:\\Users\\Paul\\anaconda3\\lib\\site-packages\\statsmodels\\tsa\\base\\tsa_model.py:585: ValueWarning: A date index has been provided, but it is not monotonic and so will be ignored when e.g. forecasting.\n",
      "  warnings.warn('A date index has been provided, but it is not'\n",
      "C:\\Users\\Paul\\anaconda3\\lib\\site-packages\\statsmodels\\tsa\\base\\tsa_model.py:581: ValueWarning: A date index has been provided, but it has no associated frequency information and so will be ignored when e.g. forecasting.\n",
      "  warnings.warn('A date index has been provided, but it has no'\n",
      "C:\\Users\\Paul\\anaconda3\\lib\\site-packages\\statsmodels\\tsa\\base\\tsa_model.py:585: ValueWarning: A date index has been provided, but it is not monotonic and so will be ignored when e.g. forecasting.\n",
      "  warnings.warn('A date index has been provided, but it is not'\n"
     ]
    }
   ],
   "source": [
    "for param in pdq:\n",
    "    for param_seasonal in seasonal_pdq:\n",
    "        try:\n",
    "            mod = sm.tsa.statespace.SARIMAX(y,order=param,seasonal_order=param_seasonal,enforce_stationarity=False,enforce_invertibility=False, period=1)\n",
    "            results = mod.fit()\n",
    "            print('ARIMA{}x{}12 - AIC:{}'.format(param,param_seasonal,results.aic))\n",
    "        except: \n",
    "            continue"
   ]
  },
  {
   "cell_type": "code",
   "execution_count": 6,
   "metadata": {},
   "outputs": [
    {
     "name": "stderr",
     "output_type": "stream",
     "text": [
      "C:\\Users\\Paul\\anaconda3\\lib\\site-packages\\statsmodels\\tsa\\base\\tsa_model.py:581: ValueWarning: A date index has been provided, but it has no associated frequency information and so will be ignored when e.g. forecasting.\n",
      "  warnings.warn('A date index has been provided, but it has no'\n",
      "C:\\Users\\Paul\\anaconda3\\lib\\site-packages\\statsmodels\\tsa\\base\\tsa_model.py:581: ValueWarning: A date index has been provided, but it has no associated frequency information and so will be ignored when e.g. forecasting.\n",
      "  warnings.warn('A date index has been provided, but it has no'\n"
     ]
    },
    {
     "name": "stdout",
     "output_type": "stream",
     "text": [
      "            prediction  actual  error     mse  rmse\n",
      "Date                                               \n",
      "2021-02-01    8.032382    10.0  -1.97  3.8809  1.97\n",
      "2021-02-02    9.796398    11.0  -1.20  1.4400  1.20\n",
      "2021-02-03    9.311478    10.0  -0.69  0.4761  0.69\n",
      "2021-02-04    9.482739     9.0   0.48  0.2304  0.48\n",
      "2021-02-05   10.299489     9.0   1.30  1.6900  1.30\n",
      "...                ...     ...    ...     ...   ...\n",
      "2021-04-07    5.288605     3.0   2.29  5.2441  2.29\n",
      "2021-04-08    2.890617     3.0  -0.11  0.0121  0.11\n",
      "2021-04-09    4.063380     2.0   2.06  4.2436  2.06\n",
      "2021-04-10    1.997381     2.0  -0.00  0.0000  0.00\n",
      "2021-04-11    2.951762     2.0   0.95  0.9025  0.95\n",
      "\n",
      "[70 rows x 5 columns]\n"
     ]
    },
    {
     "name": "stderr",
     "output_type": "stream",
     "text": [
      "C:\\Users\\Paul\\anaconda3\\lib\\site-packages\\statsmodels\\tsa\\base\\tsa_model.py:581: ValueWarning: A date index has been provided, but it has no associated frequency information and so will be ignored when e.g. forecasting.\n",
      "  warnings.warn('A date index has been provided, but it has no'\n",
      "C:\\Users\\Paul\\anaconda3\\lib\\site-packages\\statsmodels\\tsa\\base\\tsa_model.py:581: ValueWarning: A date index has been provided, but it has no associated frequency information and so will be ignored when e.g. forecasting.\n",
      "  warnings.warn('A date index has been provided, but it has no'\n"
     ]
    },
    {
     "name": "stdout",
     "output_type": "stream",
     "text": [
      "            prediction  actual  error       mse   rmse\n",
      "Date                                                  \n",
      "2021-02-01   35.712351    42.0  -6.29   39.5641   6.29\n",
      "2021-02-02   36.657785    45.0  -8.34   69.5556   8.34\n",
      "2021-02-03   40.625436    23.0  17.63  310.8169  17.63\n",
      "2021-02-04   34.230814    27.0   7.23   52.2729   7.23\n",
      "2021-02-05   30.838518    29.0   1.84    3.3856   1.84\n",
      "...                ...     ...    ...       ...    ...\n",
      "2021-04-07   11.991024    20.0  -8.01   64.1601   8.01\n",
      "2021-04-08   15.188511    30.0 -14.81  219.3361  14.81\n",
      "2021-04-09   20.529004    25.0  -4.47   19.9809   4.47\n",
      "2021-04-10   21.455440     9.0  12.46  155.2516  12.46\n",
      "2021-04-11   17.296790    12.0   5.30   28.0900   5.30\n",
      "\n",
      "[70 rows x 5 columns]\n"
     ]
    },
    {
     "name": "stderr",
     "output_type": "stream",
     "text": [
      "C:\\Users\\Paul\\anaconda3\\lib\\site-packages\\statsmodels\\tsa\\base\\tsa_model.py:581: ValueWarning: A date index has been provided, but it has no associated frequency information and so will be ignored when e.g. forecasting.\n",
      "  warnings.warn('A date index has been provided, but it has no'\n",
      "C:\\Users\\Paul\\anaconda3\\lib\\site-packages\\statsmodels\\tsa\\base\\tsa_model.py:581: ValueWarning: A date index has been provided, but it has no associated frequency information and so will be ignored when e.g. forecasting.\n",
      "  warnings.warn('A date index has been provided, but it has no'\n"
     ]
    },
    {
     "name": "stdout",
     "output_type": "stream",
     "text": [
      "            prediction  actual  error       mse   rmse\n",
      "Date                                                  \n",
      "2021-02-01   21.571283    29.0  -7.43   55.2049   7.43\n",
      "2021-02-02   23.952841    20.0   3.95   15.6025   3.95\n",
      "2021-02-03   21.424475    27.0  -5.58   31.1364   5.58\n",
      "2021-02-04   22.817170    15.0   7.82   61.1524   7.82\n",
      "2021-02-05   21.229923    24.0  -2.77    7.6729   2.77\n",
      "...                ...     ...    ...       ...    ...\n",
      "2021-04-07   12.124394    21.0  -8.88   78.8544   8.88\n",
      "2021-04-08   14.025527    25.0 -10.97  120.3409  10.97\n",
      "2021-04-09   16.907674    17.0  -0.09    0.0081   0.09\n",
      "2021-04-10   16.765331    12.0   4.77   22.7529   4.77\n",
      "2021-04-11   15.875365    22.0  -6.12   37.4544   6.12\n",
      "\n",
      "[70 rows x 5 columns]\n"
     ]
    },
    {
     "name": "stderr",
     "output_type": "stream",
     "text": [
      "C:\\Users\\Paul\\anaconda3\\lib\\site-packages\\statsmodels\\tsa\\base\\tsa_model.py:581: ValueWarning: A date index has been provided, but it has no associated frequency information and so will be ignored when e.g. forecasting.\n",
      "  warnings.warn('A date index has been provided, but it has no'\n",
      "C:\\Users\\Paul\\anaconda3\\lib\\site-packages\\statsmodels\\tsa\\base\\tsa_model.py:581: ValueWarning: A date index has been provided, but it has no associated frequency information and so will be ignored when e.g. forecasting.\n",
      "  warnings.warn('A date index has been provided, but it has no'\n"
     ]
    },
    {
     "name": "stdout",
     "output_type": "stream",
     "text": [
      "            prediction  actual  error      mse  rmse\n",
      "Date                                                \n",
      "2021-02-01   25.134225    27.0  -1.87   3.4969  1.87\n",
      "2021-02-02   25.351244    23.0   2.35   5.5225  2.35\n",
      "2021-02-03   25.011256    23.0   2.01   4.0401  2.01\n",
      "2021-02-04   21.318051    16.0   5.32  28.3024  5.32\n",
      "2021-02-05   20.408882    19.0   1.41   1.9881  1.41\n",
      "...                ...     ...    ...      ...   ...\n",
      "2021-04-07   11.386319    14.0  -2.61   6.8121  2.61\n",
      "2021-04-08   12.510906    11.0   1.51   2.2801  1.51\n",
      "2021-04-09   11.476979    12.0  -0.52   0.2704  0.52\n",
      "2021-04-10   12.967519    13.0  -0.03   0.0009  0.03\n",
      "2021-04-11   13.562674    11.0   2.56   6.5536  2.56\n",
      "\n",
      "[70 rows x 5 columns]\n"
     ]
    },
    {
     "name": "stderr",
     "output_type": "stream",
     "text": [
      "C:\\Users\\Paul\\anaconda3\\lib\\site-packages\\statsmodels\\tsa\\base\\tsa_model.py:581: ValueWarning: A date index has been provided, but it has no associated frequency information and so will be ignored when e.g. forecasting.\n",
      "  warnings.warn('A date index has been provided, but it has no'\n",
      "C:\\Users\\Paul\\anaconda3\\lib\\site-packages\\statsmodels\\tsa\\base\\tsa_model.py:581: ValueWarning: A date index has been provided, but it has no associated frequency information and so will be ignored when e.g. forecasting.\n",
      "  warnings.warn('A date index has been provided, but it has no'\n"
     ]
    },
    {
     "name": "stdout",
     "output_type": "stream",
     "text": [
      "            prediction  actual  error     mse  rmse\n",
      "Date                                               \n",
      "2021-02-01    4.106220     4.0   0.11  0.0121  0.11\n",
      "2021-02-02    4.089006     3.0   1.09  1.1881  1.09\n",
      "2021-02-03    3.692231     3.0   0.69  0.4761  0.69\n",
      "2021-02-04    3.942193     3.0   0.94  0.8836  0.94\n",
      "2021-02-05    3.678410     3.0   0.68  0.4624  0.68\n",
      "...                ...     ...    ...     ...   ...\n",
      "2021-04-07    3.486909     4.0  -0.51  0.2601  0.51\n",
      "2021-04-08    3.772256     4.0  -0.23  0.0529  0.23\n",
      "2021-04-09    3.535696     4.0  -0.46  0.2116  0.46\n",
      "2021-04-10    4.053302     3.0   1.05  1.1025  1.05\n",
      "2021-04-11    4.159227     3.0   1.16  1.3456  1.16\n",
      "\n",
      "[70 rows x 5 columns]\n"
     ]
    },
    {
     "name": "stderr",
     "output_type": "stream",
     "text": [
      "C:\\Users\\Paul\\anaconda3\\lib\\site-packages\\statsmodels\\tsa\\base\\tsa_model.py:581: ValueWarning: A date index has been provided, but it has no associated frequency information and so will be ignored when e.g. forecasting.\n",
      "  warnings.warn('A date index has been provided, but it has no'\n",
      "C:\\Users\\Paul\\anaconda3\\lib\\site-packages\\statsmodels\\tsa\\base\\tsa_model.py:581: ValueWarning: A date index has been provided, but it has no associated frequency information and so will be ignored when e.g. forecasting.\n",
      "  warnings.warn('A date index has been provided, but it has no'\n"
     ]
    },
    {
     "name": "stdout",
     "output_type": "stream",
     "text": [
      "            prediction  actual  error       mse   rmse\n",
      "Date                                                  \n",
      "2021-02-01   22.528319    15.0   7.53   56.7009   7.53\n",
      "2021-02-02   19.626833    26.0  -6.37   40.5769   6.37\n",
      "2021-02-03   18.729911    11.0   7.73   59.7529   7.73\n",
      "2021-02-04   18.329682     7.0  11.33  128.3689  11.33\n",
      "2021-02-05   16.889535    28.0 -11.11  123.4321  11.11\n",
      "...                ...     ...    ...       ...    ...\n",
      "2021-04-07    1.746329     4.0  -2.25    5.0625   2.25\n",
      "2021-04-08    2.084063    11.0  -8.92   79.5664   8.92\n",
      "2021-04-09    5.200406     8.0  -2.80    7.8400   2.80\n",
      "2021-04-10    6.693073     8.0  -1.31    1.7161   1.31\n",
      "2021-04-11    5.436634     5.0   0.44    0.1936   0.44\n",
      "\n",
      "[70 rows x 5 columns]\n"
     ]
    },
    {
     "name": "stderr",
     "output_type": "stream",
     "text": [
      "C:\\Users\\Paul\\anaconda3\\lib\\site-packages\\statsmodels\\tsa\\base\\tsa_model.py:581: ValueWarning: A date index has been provided, but it has no associated frequency information and so will be ignored when e.g. forecasting.\n",
      "  warnings.warn('A date index has been provided, but it has no'\n",
      "C:\\Users\\Paul\\anaconda3\\lib\\site-packages\\statsmodels\\tsa\\base\\tsa_model.py:581: ValueWarning: A date index has been provided, but it has no associated frequency information and so will be ignored when e.g. forecasting.\n",
      "  warnings.warn('A date index has been provided, but it has no'\n"
     ]
    },
    {
     "name": "stdout",
     "output_type": "stream",
     "text": [
      "            prediction  actual  error      mse  rmse\n",
      "Date                                                \n",
      "2021-02-01    9.333830     6.0   3.33  11.0889  3.33\n",
      "2021-02-02    9.907522    14.0  -4.09  16.7281  4.09\n",
      "2021-02-03    9.608491     9.0   0.61   0.3721  0.61\n",
      "2021-02-04    9.728028     0.0   9.73  94.6729  9.73\n",
      "2021-02-05    8.519990     4.0   4.52  20.4304  4.52\n",
      "...                ...     ...    ...      ...   ...\n",
      "2021-04-07    8.284923     4.0   4.28  18.3184  4.28\n",
      "2021-04-08    8.040397    13.0  -4.96  24.6016  4.96\n",
      "2021-04-09    8.233790     7.0   1.23   1.5129  1.23\n",
      "2021-04-10    7.703253     6.0   1.70   2.8900  1.70\n",
      "2021-04-11    9.288472    17.0  -7.71  59.4441  7.71\n",
      "\n",
      "[70 rows x 5 columns]\n"
     ]
    },
    {
     "name": "stderr",
     "output_type": "stream",
     "text": [
      "C:\\Users\\Paul\\anaconda3\\lib\\site-packages\\statsmodels\\tsa\\base\\tsa_model.py:581: ValueWarning: A date index has been provided, but it has no associated frequency information and so will be ignored when e.g. forecasting.\n",
      "  warnings.warn('A date index has been provided, but it has no'\n",
      "C:\\Users\\Paul\\anaconda3\\lib\\site-packages\\statsmodels\\tsa\\base\\tsa_model.py:581: ValueWarning: A date index has been provided, but it has no associated frequency information and so will be ignored when e.g. forecasting.\n",
      "  warnings.warn('A date index has been provided, but it has no'\n"
     ]
    },
    {
     "name": "stdout",
     "output_type": "stream",
     "text": [
      "            prediction  actual  error       mse   rmse\n",
      "Date                                                  \n",
      "2021-02-01   11.469920    23.0 -11.53  132.9409  11.53\n",
      "2021-02-02   14.329418    13.0   1.33    1.7689   1.33\n",
      "2021-02-03   13.955378    18.0  -4.04   16.3216   4.04\n",
      "2021-02-04   14.964189     5.0   9.96   99.2016   9.96\n",
      "2021-02-05   12.087718     4.0   8.09   65.4481   8.09\n",
      "...                ...     ...    ...       ...    ...\n",
      "2021-04-07    5.713398    10.0  -4.29   18.4041   4.29\n",
      "2021-04-08    6.280915    13.0  -6.72   45.1584   6.72\n",
      "2021-04-09    8.595025     9.0  -0.40    0.1600   0.40\n",
      "2021-04-10    9.898134     9.0   0.90    0.8100   0.90\n",
      "2021-04-11    9.380514     6.0   3.38   11.4244   3.38\n",
      "\n",
      "[70 rows x 5 columns]\n"
     ]
    },
    {
     "name": "stderr",
     "output_type": "stream",
     "text": [
      "C:\\Users\\Paul\\anaconda3\\lib\\site-packages\\statsmodels\\tsa\\base\\tsa_model.py:581: ValueWarning: A date index has been provided, but it has no associated frequency information and so will be ignored when e.g. forecasting.\n",
      "  warnings.warn('A date index has been provided, but it has no'\n",
      "C:\\Users\\Paul\\anaconda3\\lib\\site-packages\\statsmodels\\tsa\\base\\tsa_model.py:581: ValueWarning: A date index has been provided, but it has no associated frequency information and so will be ignored when e.g. forecasting.\n",
      "  warnings.warn('A date index has been provided, but it has no'\n"
     ]
    },
    {
     "name": "stdout",
     "output_type": "stream",
     "text": [
      "            prediction  actual  error      mse  rmse\n",
      "Date                                                \n",
      "2021-02-01    2.659164     6.0  -3.34  11.1556  3.34\n",
      "2021-02-02    2.655990     6.0  -3.34  11.1556  3.34\n",
      "2021-02-03    2.916163     2.0   0.92   0.8464  0.92\n",
      "2021-02-04    3.158185     0.0   3.16   9.9856  3.16\n",
      "2021-02-05    2.555359     5.0  -2.44   5.9536  2.44\n",
      "...                ...     ...    ...      ...   ...\n",
      "2021-04-07    0.691927     2.0  -1.31   1.7161  1.31\n",
      "2021-04-08    1.068809     0.0   1.07   1.1449  1.07\n",
      "2021-04-09    1.036603     2.0  -0.96   0.9216  0.96\n",
      "2021-04-10    0.610727     0.0   0.61   0.3721  0.61\n",
      "2021-04-11    1.148128     0.0   1.15   1.3225  1.15\n",
      "\n",
      "[70 rows x 5 columns]\n"
     ]
    },
    {
     "name": "stderr",
     "output_type": "stream",
     "text": [
      "C:\\Users\\Paul\\anaconda3\\lib\\site-packages\\statsmodels\\tsa\\base\\tsa_model.py:581: ValueWarning: A date index has been provided, but it has no associated frequency information and so will be ignored when e.g. forecasting.\n",
      "  warnings.warn('A date index has been provided, but it has no'\n",
      "C:\\Users\\Paul\\anaconda3\\lib\\site-packages\\statsmodels\\tsa\\base\\tsa_model.py:581: ValueWarning: A date index has been provided, but it has no associated frequency information and so will be ignored when e.g. forecasting.\n",
      "  warnings.warn('A date index has been provided, but it has no'\n"
     ]
    },
    {
     "name": "stdout",
     "output_type": "stream",
     "text": [
      "            prediction  actual  error       mse   rmse\n",
      "Date                                                  \n",
      "2021-02-01   18.703059    38.0 -19.30  372.4900  19.30\n",
      "2021-02-02   21.903020    23.0  -1.10    1.2100   1.10\n",
      "2021-02-03   21.076518    16.0   5.08   25.8064   5.08\n",
      "2021-02-04   21.826726     8.0  13.83  191.2689  13.83\n",
      "2021-02-05   17.517769     8.0   9.52   90.6304   9.52\n",
      "...                ...     ...    ...       ...    ...\n",
      "2021-04-07    3.405533     6.0  -2.59    6.7081   2.59\n",
      "2021-04-08    4.862119     4.0   0.86    0.7396   0.86\n",
      "2021-04-09    5.104748     8.0  -2.90    8.4100   2.90\n",
      "2021-04-10    5.899934     4.0   1.90    3.6100   1.90\n",
      "2021-04-11    7.095468    10.0  -2.90    8.4100   2.90\n",
      "\n",
      "[70 rows x 5 columns]\n"
     ]
    },
    {
     "name": "stderr",
     "output_type": "stream",
     "text": [
      "C:\\Users\\Paul\\anaconda3\\lib\\site-packages\\statsmodels\\tsa\\base\\tsa_model.py:581: ValueWarning: A date index has been provided, but it has no associated frequency information and so will be ignored when e.g. forecasting.\n",
      "  warnings.warn('A date index has been provided, but it has no'\n",
      "C:\\Users\\Paul\\anaconda3\\lib\\site-packages\\statsmodels\\tsa\\base\\tsa_model.py:581: ValueWarning: A date index has been provided, but it has no associated frequency information and so will be ignored when e.g. forecasting.\n",
      "  warnings.warn('A date index has been provided, but it has no'\n"
     ]
    },
    {
     "name": "stdout",
     "output_type": "stream",
     "text": [
      "            prediction  actual  error      mse  rmse\n",
      "Date                                                \n",
      "2021-02-01   21.301426    18.0   3.30  10.8900  3.30\n",
      "2021-02-02   18.457909    22.0  -3.54  12.5316  3.54\n",
      "2021-02-03   20.108891    19.0   1.11   1.2321  1.11\n",
      "2021-02-04   21.278703    23.0  -1.72   2.9584  1.72\n",
      "2021-02-05   20.777193    19.0   1.78   3.1684  1.78\n",
      "...                ...     ...    ...      ...   ...\n",
      "2021-04-07    6.525769     8.0  -1.47   2.1609  1.47\n",
      "2021-04-08    6.512343     9.0  -2.49   6.2001  2.49\n",
      "2021-04-09    7.335304    11.0  -3.66  13.3956  3.66\n",
      "2021-04-10    7.943710     7.0   0.94   0.8836  0.94\n",
      "2021-04-11    8.619821    10.0  -1.38   1.9044  1.38\n",
      "\n",
      "[70 rows x 5 columns]\n"
     ]
    },
    {
     "name": "stderr",
     "output_type": "stream",
     "text": [
      "C:\\Users\\Paul\\anaconda3\\lib\\site-packages\\statsmodels\\tsa\\base\\tsa_model.py:581: ValueWarning: A date index has been provided, but it has no associated frequency information and so will be ignored when e.g. forecasting.\n",
      "  warnings.warn('A date index has been provided, but it has no'\n",
      "C:\\Users\\Paul\\anaconda3\\lib\\site-packages\\statsmodels\\tsa\\base\\tsa_model.py:581: ValueWarning: A date index has been provided, but it has no associated frequency information and so will be ignored when e.g. forecasting.\n",
      "  warnings.warn('A date index has been provided, but it has no'\n"
     ]
    },
    {
     "name": "stdout",
     "output_type": "stream",
     "text": [
      "            prediction  actual  error      mse  rmse\n",
      "Date                                                \n",
      "2021-02-01   23.886561    27.0  -3.11   9.6721  3.11\n",
      "2021-02-02   23.308311    25.0  -1.69   2.8561  1.69\n",
      "2021-02-03   23.900150    21.0   2.90   8.4100  2.90\n",
      "2021-02-04   21.548083    21.0   0.55   0.3025  0.55\n",
      "2021-02-05   23.270404    23.0   0.27   0.0729  0.27\n",
      "...                ...     ...    ...      ...   ...\n",
      "2021-04-07   17.099576    21.0  -3.90  15.2100  3.90\n",
      "2021-04-08   17.351312    20.0  -2.65   7.0225  2.65\n",
      "2021-04-09   19.405321    16.0   3.41  11.6281  3.41\n",
      "2021-04-10   20.756720    22.0  -1.24   1.5376  1.24\n",
      "2021-04-11   21.963477    26.0  -4.04  16.3216  4.04\n",
      "\n",
      "[70 rows x 5 columns]\n"
     ]
    },
    {
     "name": "stderr",
     "output_type": "stream",
     "text": [
      "C:\\Users\\Paul\\anaconda3\\lib\\site-packages\\statsmodels\\tsa\\base\\tsa_model.py:581: ValueWarning: A date index has been provided, but it has no associated frequency information and so will be ignored when e.g. forecasting.\n",
      "  warnings.warn('A date index has been provided, but it has no'\n",
      "C:\\Users\\Paul\\anaconda3\\lib\\site-packages\\statsmodels\\tsa\\base\\tsa_model.py:581: ValueWarning: A date index has been provided, but it has no associated frequency information and so will be ignored when e.g. forecasting.\n",
      "  warnings.warn('A date index has been provided, but it has no'\n"
     ]
    },
    {
     "name": "stdout",
     "output_type": "stream",
     "text": [
      "            prediction  actual  error       mse   rmse\n",
      "Date                                                  \n",
      "2021-02-01   20.497887    44.0 -23.50  552.2500  23.50\n",
      "2021-02-02   32.050178    31.0   1.05    1.1025   1.05\n",
      "2021-02-03   31.056468    30.0   1.06    1.1236   1.06\n",
      "2021-02-04   30.885029    28.0   2.89    8.3521   2.89\n",
      "2021-02-05   29.588618    18.0  11.59  134.3281  11.59\n",
      "...                ...     ...    ...       ...    ...\n",
      "2021-04-07    2.880461     5.0  -2.12    4.4944   2.12\n",
      "2021-04-08    3.815246     9.0  -5.18   26.8324   5.18\n",
      "2021-04-09    6.646788     3.0   3.65   13.3225   3.65\n",
      "2021-04-10    5.536226     5.0   0.54    0.2916   0.54\n",
      "2021-04-11    4.548882     7.0  -2.45    6.0025   2.45\n",
      "\n",
      "[70 rows x 5 columns]\n"
     ]
    },
    {
     "name": "stderr",
     "output_type": "stream",
     "text": [
      "C:\\Users\\Paul\\anaconda3\\lib\\site-packages\\statsmodels\\tsa\\base\\tsa_model.py:581: ValueWarning: A date index has been provided, but it has no associated frequency information and so will be ignored when e.g. forecasting.\n",
      "  warnings.warn('A date index has been provided, but it has no'\n",
      "C:\\Users\\Paul\\anaconda3\\lib\\site-packages\\statsmodels\\tsa\\base\\tsa_model.py:581: ValueWarning: A date index has been provided, but it has no associated frequency information and so will be ignored when e.g. forecasting.\n",
      "  warnings.warn('A date index has been provided, but it has no'\n"
     ]
    },
    {
     "name": "stdout",
     "output_type": "stream",
     "text": [
      "            prediction  actual  error      mse  rmse\n",
      "Date                                                \n",
      "2021-02-01   18.977915    22.0  -3.02   9.1204  3.02\n",
      "2021-02-02   19.570255    21.0  -1.43   2.0449  1.43\n",
      "2021-02-03   20.238582    22.0  -1.76   3.0976  1.76\n",
      "2021-02-04   21.466219    15.0   6.47  41.8609  6.47\n",
      "2021-02-05   19.335903    19.0   0.34   0.1156  0.34\n",
      "...                ...     ...    ...      ...   ...\n",
      "2021-04-07    6.586961     7.0  -0.41   0.1681  0.41\n",
      "2021-04-08    7.128973    12.0  -4.87  23.7169  4.87\n",
      "2021-04-09    9.858211    12.0  -2.14   4.5796  2.14\n",
      "2021-04-10    9.499634     9.0   0.50   0.2500  0.50\n",
      "2021-04-11   11.203539     9.0   2.20   4.8400  2.20\n",
      "\n",
      "[70 rows x 5 columns]\n"
     ]
    },
    {
     "name": "stderr",
     "output_type": "stream",
     "text": [
      "C:\\Users\\Paul\\anaconda3\\lib\\site-packages\\statsmodels\\tsa\\base\\tsa_model.py:581: ValueWarning: A date index has been provided, but it has no associated frequency information and so will be ignored when e.g. forecasting.\n",
      "  warnings.warn('A date index has been provided, but it has no'\n",
      "C:\\Users\\Paul\\anaconda3\\lib\\site-packages\\statsmodels\\tsa\\base\\tsa_model.py:581: ValueWarning: A date index has been provided, but it has no associated frequency information and so will be ignored when e.g. forecasting.\n",
      "  warnings.warn('A date index has been provided, but it has no'\n"
     ]
    },
    {
     "name": "stdout",
     "output_type": "stream",
     "text": [
      "            prediction  actual  error       mse   rmse\n",
      "Date                                                  \n",
      "2021-02-01   14.410774     7.0   7.41   54.9081   7.41\n",
      "2021-02-02   14.611081     8.0   6.61   43.6921   6.61\n",
      "2021-02-03   11.445673     8.0   3.45   11.9025   3.45\n",
      "2021-02-04    9.668678    12.0  -2.33    5.4289   2.33\n",
      "2021-02-05   10.054687    22.0 -11.95  142.8025  11.95\n",
      "...                ...     ...    ...       ...    ...\n",
      "2021-04-07    7.705970     7.0   0.71    0.5041   0.71\n",
      "2021-04-08    8.844672     8.0   0.84    0.7056   0.84\n",
      "2021-04-09    7.317556    10.0  -2.68    7.1824   2.68\n",
      "2021-04-10    9.824699     9.0   0.82    0.6724   0.82\n",
      "2021-04-11    8.282008    12.0  -3.72   13.8384   3.72\n",
      "\n",
      "[70 rows x 5 columns]\n"
     ]
    },
    {
     "name": "stderr",
     "output_type": "stream",
     "text": [
      "C:\\Users\\Paul\\anaconda3\\lib\\site-packages\\statsmodels\\tsa\\base\\tsa_model.py:581: ValueWarning: A date index has been provided, but it has no associated frequency information and so will be ignored when e.g. forecasting.\n",
      "  warnings.warn('A date index has been provided, but it has no'\n",
      "C:\\Users\\Paul\\anaconda3\\lib\\site-packages\\statsmodels\\tsa\\base\\tsa_model.py:581: ValueWarning: A date index has been provided, but it has no associated frequency information and so will be ignored when e.g. forecasting.\n",
      "  warnings.warn('A date index has been provided, but it has no'\n"
     ]
    },
    {
     "name": "stdout",
     "output_type": "stream",
     "text": [
      "            prediction  actual  error       mse   rmse\n",
      "Date                                                  \n",
      "2021-02-01   32.319471    34.0  -1.68    2.8224   1.68\n",
      "2021-02-02   35.070169    33.0   2.07    4.2849   2.07\n",
      "2021-02-03   33.171173    34.0  -0.83    0.6889   0.83\n",
      "2021-02-04   33.857790    14.0  19.86  394.4196  19.86\n",
      "2021-02-05   13.086135     3.0  10.09  101.8081  10.09\n",
      "...                ...     ...    ...       ...    ...\n",
      "2021-04-07    1.685985     1.0   0.69    0.4761   0.69\n",
      "2021-04-08    0.239322     2.0  -1.76    3.0976   1.76\n",
      "2021-04-09    2.229880     2.0   0.23    0.0529   0.23\n",
      "2021-04-10    2.719522     2.0   0.72    0.5184   0.72\n",
      "2021-04-11    3.018539     2.0   1.02    1.0404   1.02\n",
      "\n",
      "[70 rows x 5 columns]\n"
     ]
    },
    {
     "name": "stderr",
     "output_type": "stream",
     "text": [
      "C:\\Users\\Paul\\anaconda3\\lib\\site-packages\\statsmodels\\tsa\\base\\tsa_model.py:581: ValueWarning: A date index has been provided, but it has no associated frequency information and so will be ignored when e.g. forecasting.\n",
      "  warnings.warn('A date index has been provided, but it has no'\n",
      "C:\\Users\\Paul\\anaconda3\\lib\\site-packages\\statsmodels\\tsa\\base\\tsa_model.py:581: ValueWarning: A date index has been provided, but it has no associated frequency information and so will be ignored when e.g. forecasting.\n",
      "  warnings.warn('A date index has been provided, but it has no'\n"
     ]
    },
    {
     "name": "stdout",
     "output_type": "stream",
     "text": [
      "            prediction  actual  error      mse  rmse\n",
      "Date                                                \n",
      "2021-02-01    3.815114     2.0   1.82   3.3124  1.82\n",
      "2021-02-02    3.265879    12.0  -8.73  76.2129  8.73\n",
      "2021-02-03   10.281139     3.0   7.28  52.9984  7.28\n",
      "2021-02-04    3.691835     3.0   0.69   0.4761  0.69\n",
      "2021-02-05    3.622843     4.0  -0.38   0.1444  0.38\n",
      "...                ...     ...    ...      ...   ...\n",
      "2021-04-07   17.367463    17.0   0.37   0.1369  0.37\n",
      "2021-04-08   17.270265    18.0  -0.73   0.5329  0.73\n",
      "2021-04-09   17.983373    17.0   0.98   0.9604  0.98\n",
      "2021-04-10   17.779904    16.0   1.78   3.1684  1.78\n",
      "2021-04-11   17.632291    21.0  -3.37  11.3569  3.37\n",
      "\n",
      "[70 rows x 5 columns]\n"
     ]
    },
    {
     "name": "stderr",
     "output_type": "stream",
     "text": [
      "C:\\Users\\Paul\\anaconda3\\lib\\site-packages\\statsmodels\\tsa\\base\\tsa_model.py:581: ValueWarning: A date index has been provided, but it has no associated frequency information and so will be ignored when e.g. forecasting.\n",
      "  warnings.warn('A date index has been provided, but it has no'\n",
      "C:\\Users\\Paul\\anaconda3\\lib\\site-packages\\statsmodels\\tsa\\base\\tsa_model.py:581: ValueWarning: A date index has been provided, but it has no associated frequency information and so will be ignored when e.g. forecasting.\n",
      "  warnings.warn('A date index has been provided, but it has no'\n"
     ]
    },
    {
     "name": "stdout",
     "output_type": "stream",
     "text": [
      "            prediction  actual  error      mse  rmse\n",
      "Date                                                \n",
      "2021-02-01   19.548156    20.0  -0.45   0.2025  0.45\n",
      "2021-02-02   18.354359    13.0   5.35  28.6225  5.35\n",
      "2021-02-03   14.791879     8.0   6.79  46.1041  6.79\n",
      "2021-02-04   12.867635    18.0  -5.13  26.3169  5.13\n",
      "2021-02-05   16.584253    15.0   1.58   2.4964  1.58\n",
      "...                ...     ...    ...      ...   ...\n",
      "2021-04-07   10.696201    17.0  -6.30  39.6900  6.30\n",
      "2021-04-08   12.727727    14.0  -1.27   1.6129  1.27\n",
      "2021-04-09   15.605969    15.0   0.61   0.3721  0.61\n",
      "2021-04-10   15.177912    12.0   3.18  10.1124  3.18\n",
      "2021-04-11   14.419826     8.0   6.42  41.2164  6.42\n",
      "\n",
      "[70 rows x 5 columns]\n"
     ]
    },
    {
     "name": "stderr",
     "output_type": "stream",
     "text": [
      "C:\\Users\\Paul\\anaconda3\\lib\\site-packages\\statsmodels\\tsa\\base\\tsa_model.py:581: ValueWarning: A date index has been provided, but it has no associated frequency information and so will be ignored when e.g. forecasting.\n",
      "  warnings.warn('A date index has been provided, but it has no'\n",
      "C:\\Users\\Paul\\anaconda3\\lib\\site-packages\\statsmodels\\tsa\\base\\tsa_model.py:581: ValueWarning: A date index has been provided, but it has no associated frequency information and so will be ignored when e.g. forecasting.\n",
      "  warnings.warn('A date index has been provided, but it has no'\n"
     ]
    },
    {
     "name": "stdout",
     "output_type": "stream",
     "text": [
      "            prediction  actual  error      mse  rmse\n",
      "Date                                                \n",
      "2021-02-01   12.224371    16.0  -3.78  14.2884  3.78\n",
      "2021-02-02   14.347333    17.0  -2.65   7.0225  2.65\n",
      "2021-02-03   16.081295    18.0  -1.92   3.6864  1.92\n",
      "2021-02-04   15.840946    17.0  -1.16   1.3456  1.16\n",
      "2021-02-05   16.549221    10.0   6.55  42.9025  6.55\n",
      "...                ...     ...    ...      ...   ...\n",
      "2021-04-07   11.430302     8.0   3.43  11.7649  3.43\n",
      "2021-04-08    9.935051    13.0  -3.06   9.3636  3.06\n",
      "2021-04-09   10.827567    12.0  -1.17   1.3689  1.17\n",
      "2021-04-10   11.225281    14.0  -2.77   7.6729  2.77\n",
      "2021-04-11   13.608692    14.0  -0.39   0.1521  0.39\n",
      "\n",
      "[70 rows x 5 columns]\n"
     ]
    },
    {
     "name": "stderr",
     "output_type": "stream",
     "text": [
      "C:\\Users\\Paul\\anaconda3\\lib\\site-packages\\statsmodels\\tsa\\base\\tsa_model.py:581: ValueWarning: A date index has been provided, but it has no associated frequency information and so will be ignored when e.g. forecasting.\n",
      "  warnings.warn('A date index has been provided, but it has no'\n",
      "C:\\Users\\Paul\\anaconda3\\lib\\site-packages\\statsmodels\\tsa\\base\\tsa_model.py:581: ValueWarning: A date index has been provided, but it has no associated frequency information and so will be ignored when e.g. forecasting.\n",
      "  warnings.warn('A date index has been provided, but it has no'\n"
     ]
    },
    {
     "name": "stdout",
     "output_type": "stream",
     "text": [
      "            prediction  actual  error      mse  rmse\n",
      "Date                                                \n",
      "2021-02-01   26.782116    33.0  -6.22  38.6884  6.22\n",
      "2021-02-02   31.701682    29.0   2.70   7.2900  2.70\n",
      "2021-02-03   28.413448    22.0   6.41  41.0881  6.41\n",
      "2021-02-04   24.284813    16.0   8.28  68.5584  8.28\n",
      "2021-02-05   19.620739    14.0   5.62  31.5844  5.62\n",
      "...                ...     ...    ...      ...   ...\n",
      "2021-04-07   13.201073    22.0  -8.80  77.4400  8.80\n",
      "2021-04-08   18.255519    22.0  -3.74  13.9876  3.74\n",
      "2021-04-09   21.922620    12.0   9.92  98.4064  9.92\n",
      "2021-04-10   16.029869    15.0   1.03   1.0609  1.03\n",
      "2021-04-11   17.453452    20.0  -2.55   6.5025  2.55\n",
      "\n",
      "[70 rows x 5 columns]\n"
     ]
    },
    {
     "name": "stderr",
     "output_type": "stream",
     "text": [
      "C:\\Users\\Paul\\anaconda3\\lib\\site-packages\\statsmodels\\tsa\\base\\tsa_model.py:581: ValueWarning: A date index has been provided, but it has no associated frequency information and so will be ignored when e.g. forecasting.\n",
      "  warnings.warn('A date index has been provided, but it has no'\n",
      "C:\\Users\\Paul\\anaconda3\\lib\\site-packages\\statsmodels\\tsa\\base\\tsa_model.py:581: ValueWarning: A date index has been provided, but it has no associated frequency information and so will be ignored when e.g. forecasting.\n",
      "  warnings.warn('A date index has been provided, but it has no'\n"
     ]
    },
    {
     "name": "stdout",
     "output_type": "stream",
     "text": [
      "            prediction  actual  error       mse   rmse\n",
      "Date                                                  \n",
      "2021-02-01   35.791240    33.0   2.79    7.7841   2.79\n",
      "2021-02-02   31.235909    38.0  -6.76   45.6976   6.76\n",
      "2021-02-03   36.680834    46.0  -9.32   86.8624   9.32\n",
      "2021-02-04   39.763585    41.0  -1.24    1.5376   1.24\n",
      "2021-02-05   41.013976    38.0   3.01    9.0601   3.01\n",
      "...                ...     ...    ...       ...    ...\n",
      "2021-04-07   48.515414    57.0  -8.48   71.9104   8.48\n",
      "2021-04-08   51.900418    62.0 -10.10  102.0100  10.10\n",
      "2021-04-09   56.284409    25.0  31.28  978.4384  31.28\n",
      "2021-04-10   42.602653    61.0 -18.40  338.5600  18.40\n",
      "2021-04-11   51.447286    54.0  -2.55    6.5025   2.55\n",
      "\n",
      "[70 rows x 5 columns]\n"
     ]
    },
    {
     "name": "stderr",
     "output_type": "stream",
     "text": [
      "C:\\Users\\Paul\\anaconda3\\lib\\site-packages\\statsmodels\\tsa\\base\\tsa_model.py:581: ValueWarning: A date index has been provided, but it has no associated frequency information and so will be ignored when e.g. forecasting.\n",
      "  warnings.warn('A date index has been provided, but it has no'\n",
      "C:\\Users\\Paul\\anaconda3\\lib\\site-packages\\statsmodels\\tsa\\base\\tsa_model.py:581: ValueWarning: A date index has been provided, but it has no associated frequency information and so will be ignored when e.g. forecasting.\n",
      "  warnings.warn('A date index has been provided, but it has no'\n"
     ]
    },
    {
     "name": "stdout",
     "output_type": "stream",
     "text": [
      "            prediction  actual  error       mse   rmse\n",
      "Date                                                  \n",
      "2021-02-01   31.476213    33.0  -1.52    2.3104   1.52\n",
      "2021-02-02   29.435200    28.0   1.44    2.0736   1.44\n",
      "2021-02-03   28.648885    15.0  13.65  186.3225  13.65\n",
      "2021-02-04   24.090932    28.0  -3.91   15.2881   3.91\n",
      "2021-02-05   31.315572    31.0   0.32    0.1024   0.32\n",
      "...                ...     ...    ...       ...    ...\n",
      "2021-04-07   18.090832    38.0 -19.91  396.4081  19.91\n",
      "2021-04-08   20.332977    24.0  -3.67   13.4689   3.67\n",
      "2021-04-09   24.064073    15.0   9.06   82.0836   9.06\n",
      "2021-04-10   24.120560    33.0  -8.88   78.8544   8.88\n",
      "2021-04-11   30.381511    42.0 -11.62  135.0244  11.62\n",
      "\n",
      "[70 rows x 5 columns]\n"
     ]
    },
    {
     "name": "stderr",
     "output_type": "stream",
     "text": [
      "C:\\Users\\Paul\\anaconda3\\lib\\site-packages\\statsmodels\\tsa\\base\\tsa_model.py:581: ValueWarning: A date index has been provided, but it has no associated frequency information and so will be ignored when e.g. forecasting.\n",
      "  warnings.warn('A date index has been provided, but it has no'\n",
      "C:\\Users\\Paul\\anaconda3\\lib\\site-packages\\statsmodels\\tsa\\base\\tsa_model.py:581: ValueWarning: A date index has been provided, but it has no associated frequency information and so will be ignored when e.g. forecasting.\n",
      "  warnings.warn('A date index has been provided, but it has no'\n"
     ]
    },
    {
     "name": "stdout",
     "output_type": "stream",
     "text": [
      "            prediction  actual  error      mse  rmse\n",
      "Date                                                \n",
      "2021-02-01   22.014182    29.0  -6.99  48.8601  6.99\n",
      "2021-02-02   32.896000    32.0   0.90   0.8100  0.90\n",
      "2021-02-03   32.484208    30.0   2.48   6.1504  2.48\n",
      "2021-02-04   31.971144    27.0   4.97  24.7009  4.97\n",
      "2021-02-05   30.732300    29.0   1.73   2.9929  1.73\n",
      "...                ...     ...    ...      ...   ...\n",
      "2021-04-07   21.360227    22.0  -0.64   0.4096  0.64\n",
      "2021-04-08   19.010383    21.0  -1.99   3.9601  1.99\n",
      "2021-04-09   21.554108    18.0   3.55  12.6025  3.55\n",
      "2021-04-10   20.676392    21.0  -0.32   0.1024  0.32\n",
      "2021-04-11   19.838504    19.0   0.84   0.7056  0.84\n",
      "\n",
      "[70 rows x 5 columns]\n"
     ]
    },
    {
     "name": "stderr",
     "output_type": "stream",
     "text": [
      "C:\\Users\\Paul\\anaconda3\\lib\\site-packages\\statsmodels\\tsa\\base\\tsa_model.py:581: ValueWarning: A date index has been provided, but it has no associated frequency information and so will be ignored when e.g. forecasting.\n",
      "  warnings.warn('A date index has been provided, but it has no'\n",
      "C:\\Users\\Paul\\anaconda3\\lib\\site-packages\\statsmodels\\tsa\\base\\tsa_model.py:581: ValueWarning: A date index has been provided, but it has no associated frequency information and so will be ignored when e.g. forecasting.\n",
      "  warnings.warn('A date index has been provided, but it has no'\n"
     ]
    },
    {
     "name": "stdout",
     "output_type": "stream",
     "text": [
      "            prediction  actual  error     mse  rmse\n",
      "Date                                               \n",
      "2021-02-01   -0.365785     0.0  -0.37  0.1369  0.37\n",
      "2021-02-02    1.130533     0.0   1.13  1.2769  1.13\n",
      "2021-02-03   -1.057157     0.0  -1.06  1.1236  1.06\n",
      "2021-02-04   -0.841077     0.0  -0.84  0.7056  0.84\n",
      "2021-02-05    0.579070     0.0   0.58  0.3364  0.58\n",
      "...                ...     ...    ...     ...   ...\n",
      "2021-04-07   -0.850242     0.0  -0.85  0.7225  0.85\n",
      "2021-04-08   -0.675628     0.0  -0.68  0.4624  0.68\n",
      "2021-04-09    0.472400     0.0   0.47  0.2209  0.47\n",
      "2021-04-10   -0.851788     0.0  -0.85  0.7225  0.85\n",
      "2021-04-11   -1.271533     0.0  -1.27  1.6129  1.27\n",
      "\n",
      "[70 rows x 5 columns]\n"
     ]
    },
    {
     "name": "stderr",
     "output_type": "stream",
     "text": [
      "C:\\Users\\Paul\\anaconda3\\lib\\site-packages\\statsmodels\\tsa\\base\\tsa_model.py:581: ValueWarning: A date index has been provided, but it has no associated frequency information and so will be ignored when e.g. forecasting.\n",
      "  warnings.warn('A date index has been provided, but it has no'\n",
      "C:\\Users\\Paul\\anaconda3\\lib\\site-packages\\statsmodels\\tsa\\base\\tsa_model.py:581: ValueWarning: A date index has been provided, but it has no associated frequency information and so will be ignored when e.g. forecasting.\n",
      "  warnings.warn('A date index has been provided, but it has no'\n"
     ]
    },
    {
     "name": "stdout",
     "output_type": "stream",
     "text": [
      "            prediction  actual  error       mse   rmse\n",
      "Date                                                  \n",
      "2021-02-01   20.744961    26.0  -5.26   27.6676   5.26\n",
      "2021-02-02   20.445955    35.0 -14.55  211.7025  14.55\n",
      "2021-02-03   24.216211    11.0  13.22  174.7684  13.22\n",
      "2021-02-04   21.888617    11.0  10.89  118.5921  10.89\n",
      "2021-02-05   18.779447    11.0   7.78   60.5284   7.78\n",
      "...                ...     ...    ...       ...    ...\n",
      "2021-04-07   12.240807    10.0   2.24    5.0176   2.24\n",
      "2021-04-08   12.071001    14.0  -1.93    3.7249   1.93\n",
      "2021-04-09   11.971516    11.0   0.97    0.9409   0.97\n",
      "2021-04-10   10.566728    14.0  -3.43   11.7649   3.43\n",
      "2021-04-11   10.737091    14.0  -3.26   10.6276   3.26\n",
      "\n",
      "[70 rows x 5 columns]\n"
     ]
    },
    {
     "name": "stderr",
     "output_type": "stream",
     "text": [
      "C:\\Users\\Paul\\anaconda3\\lib\\site-packages\\statsmodels\\tsa\\base\\tsa_model.py:581: ValueWarning: A date index has been provided, but it has no associated frequency information and so will be ignored when e.g. forecasting.\n",
      "  warnings.warn('A date index has been provided, but it has no'\n",
      "C:\\Users\\Paul\\anaconda3\\lib\\site-packages\\statsmodels\\tsa\\base\\tsa_model.py:581: ValueWarning: A date index has been provided, but it has no associated frequency information and so will be ignored when e.g. forecasting.\n",
      "  warnings.warn('A date index has been provided, but it has no'\n"
     ]
    },
    {
     "name": "stdout",
     "output_type": "stream",
     "text": [
      "            prediction  actual  error       mse   rmse\n",
      "Date                                                  \n",
      "2021-02-01   16.818877    14.0   2.82    7.9524   2.82\n",
      "2021-02-02   15.739311    14.0   1.74    3.0276   1.74\n",
      "2021-02-03   16.915410    28.0 -11.08  122.7664  11.08\n",
      "2021-02-04   17.999803    19.0  -1.00    1.0000   1.00\n",
      "2021-02-05   19.475052    18.0   1.48    2.1904   1.48\n",
      "...                ...     ...    ...       ...    ...\n",
      "2021-04-07   17.282038    20.0  -2.72    7.3984   2.72\n",
      "2021-04-08   18.388618    20.0  -1.61    2.5921   1.61\n",
      "2021-04-09   18.303193    19.0  -0.70    0.4900   0.70\n",
      "2021-04-10   19.336708    16.0   3.34   11.1556   3.34\n",
      "2021-04-11   17.242327    20.0  -2.76    7.6176   2.76\n",
      "\n",
      "[70 rows x 5 columns]\n"
     ]
    },
    {
     "name": "stderr",
     "output_type": "stream",
     "text": [
      "C:\\Users\\Paul\\anaconda3\\lib\\site-packages\\statsmodels\\tsa\\base\\tsa_model.py:581: ValueWarning: A date index has been provided, but it has no associated frequency information and so will be ignored when e.g. forecasting.\n",
      "  warnings.warn('A date index has been provided, but it has no'\n",
      "C:\\Users\\Paul\\anaconda3\\lib\\site-packages\\statsmodels\\tsa\\base\\tsa_model.py:581: ValueWarning: A date index has been provided, but it has no associated frequency information and so will be ignored when e.g. forecasting.\n",
      "  warnings.warn('A date index has been provided, but it has no'\n"
     ]
    },
    {
     "name": "stdout",
     "output_type": "stream",
     "text": [
      "            prediction  actual  error       mse   rmse\n",
      "Date                                                  \n",
      "2021-02-01   10.326446    11.0  -0.67    0.4489   0.67\n",
      "2021-02-02   11.474017    26.0 -14.53  211.1209  14.53\n",
      "2021-02-03   16.472951    33.0 -16.53  273.2409  16.53\n",
      "2021-02-04   23.828416    11.0  12.83  164.6089  12.83\n",
      "2021-02-05   19.224398     8.0  11.22  125.8884  11.22\n",
      "...                ...     ...    ...       ...    ...\n",
      "2021-04-07   10.831126    15.0  -4.17   17.3889   4.17\n",
      "2021-04-08   12.632722    11.0   1.63    2.6569   1.63\n",
      "2021-04-09   11.443641    10.0   1.44    2.0736   1.44\n",
      "2021-04-10   10.034362     9.0   1.03    1.0609   1.03\n",
      "2021-04-11   10.662236    10.0   0.66    0.4356   0.66\n",
      "\n",
      "[70 rows x 5 columns]\n"
     ]
    },
    {
     "name": "stderr",
     "output_type": "stream",
     "text": [
      "C:\\Users\\Paul\\anaconda3\\lib\\site-packages\\statsmodels\\tsa\\base\\tsa_model.py:581: ValueWarning: A date index has been provided, but it has no associated frequency information and so will be ignored when e.g. forecasting.\n",
      "  warnings.warn('A date index has been provided, but it has no'\n",
      "C:\\Users\\Paul\\anaconda3\\lib\\site-packages\\statsmodels\\tsa\\base\\tsa_model.py:581: ValueWarning: A date index has been provided, but it has no associated frequency information and so will be ignored when e.g. forecasting.\n",
      "  warnings.warn('A date index has been provided, but it has no'\n"
     ]
    },
    {
     "name": "stdout",
     "output_type": "stream",
     "text": [
      "            prediction  actual  error       mse   rmse\n",
      "Date                                                  \n",
      "2021-02-01   25.625758    33.0  -7.37   54.3169   7.37\n",
      "2021-02-02   28.670475    37.0  -8.33   69.3889   8.33\n",
      "2021-02-03   32.809052    27.0   5.81   33.7561   5.81\n",
      "2021-02-04   30.096491    15.0  15.10  228.0100  15.10\n",
      "2021-02-05   23.260470    12.0  11.26  126.7876  11.26\n",
      "...                ...     ...    ...       ...    ...\n",
      "2021-04-07   18.119906    10.0   8.12   65.9344   8.12\n",
      "2021-04-08   14.388029    15.0  -0.61    0.3721   0.61\n",
      "2021-04-09   15.491040    16.0  -0.51    0.2601   0.51\n",
      "2021-04-10   13.707351    18.0  -4.29   18.4041   4.29\n",
      "2021-04-11   16.984062    19.0  -2.02    4.0804   2.02\n",
      "\n",
      "[70 rows x 5 columns]\n"
     ]
    },
    {
     "name": "stderr",
     "output_type": "stream",
     "text": [
      "C:\\Users\\Paul\\anaconda3\\lib\\site-packages\\statsmodels\\tsa\\base\\tsa_model.py:581: ValueWarning: A date index has been provided, but it has no associated frequency information and so will be ignored when e.g. forecasting.\n",
      "  warnings.warn('A date index has been provided, but it has no'\n",
      "C:\\Users\\Paul\\anaconda3\\lib\\site-packages\\statsmodels\\tsa\\base\\tsa_model.py:581: ValueWarning: A date index has been provided, but it has no associated frequency information and so will be ignored when e.g. forecasting.\n",
      "  warnings.warn('A date index has been provided, but it has no'\n"
     ]
    },
    {
     "name": "stdout",
     "output_type": "stream",
     "text": [
      "            prediction  actual  error      mse  rmse\n",
      "Date                                                \n",
      "2021-02-01   11.251733    12.0  -0.75   0.5625  0.75\n",
      "2021-02-02   11.646020     5.0   6.65  44.2225  6.65\n",
      "2021-02-03   10.426466    14.0  -3.57  12.7449  3.57\n",
      "2021-02-04   11.436015     5.0   6.44  41.4736  6.44\n",
      "2021-02-05   10.590677     9.0   1.59   2.5281  1.59\n",
      "...                ...     ...    ...      ...   ...\n",
      "2021-04-07    6.247094     9.0  -2.75   7.5625  2.75\n",
      "2021-04-08    7.183120     7.0   0.18   0.0324  0.18\n",
      "2021-04-09    6.512599     8.0  -1.49   2.2201  1.49\n",
      "2021-04-10    7.482648     3.0   4.48  20.0704  4.48\n",
      "2021-04-11    6.442184     6.0   0.44   0.1936  0.44\n",
      "\n",
      "[70 rows x 5 columns]\n"
     ]
    },
    {
     "name": "stderr",
     "output_type": "stream",
     "text": [
      "C:\\Users\\Paul\\anaconda3\\lib\\site-packages\\statsmodels\\tsa\\base\\tsa_model.py:581: ValueWarning: A date index has been provided, but it has no associated frequency information and so will be ignored when e.g. forecasting.\n",
      "  warnings.warn('A date index has been provided, but it has no'\n",
      "C:\\Users\\Paul\\anaconda3\\lib\\site-packages\\statsmodels\\tsa\\base\\tsa_model.py:581: ValueWarning: A date index has been provided, but it has no associated frequency information and so will be ignored when e.g. forecasting.\n",
      "  warnings.warn('A date index has been provided, but it has no'\n"
     ]
    },
    {
     "name": "stdout",
     "output_type": "stream",
     "text": [
      "            prediction  actual  error      mse  rmse\n",
      "Date                                                \n",
      "2021-02-01    5.633691     6.0  -0.37   0.1369  0.37\n",
      "2021-02-02    5.810242     4.0   1.81   3.2761  1.81\n",
      "2021-02-03    5.406494     5.0   0.41   0.1681  0.41\n",
      "2021-02-04    5.040322     4.0   1.04   1.0816  1.04\n",
      "2021-02-05    5.009736     3.0   2.01   4.0401  2.01\n",
      "...                ...     ...    ...      ...   ...\n",
      "2021-04-07    4.282126     3.0   1.28   1.6384  1.28\n",
      "2021-04-08    3.453970     7.0  -3.55  12.6025  3.55\n",
      "2021-04-09    3.928171     3.0   0.93   0.8649  0.93\n",
      "2021-04-10    4.151546     4.0   0.15   0.0225  0.15\n",
      "2021-04-11    3.939792     4.0  -0.06   0.0036  0.06\n",
      "\n",
      "[70 rows x 5 columns]\n"
     ]
    },
    {
     "name": "stderr",
     "output_type": "stream",
     "text": [
      "C:\\Users\\Paul\\anaconda3\\lib\\site-packages\\statsmodels\\tsa\\base\\tsa_model.py:581: ValueWarning: A date index has been provided, but it has no associated frequency information and so will be ignored when e.g. forecasting.\n",
      "  warnings.warn('A date index has been provided, but it has no'\n",
      "C:\\Users\\Paul\\anaconda3\\lib\\site-packages\\statsmodels\\tsa\\base\\tsa_model.py:581: ValueWarning: A date index has been provided, but it has no associated frequency information and so will be ignored when e.g. forecasting.\n",
      "  warnings.warn('A date index has been provided, but it has no'\n"
     ]
    },
    {
     "name": "stdout",
     "output_type": "stream",
     "text": [
      "            prediction  actual  error      mse  rmse\n",
      "Date                                                \n",
      "2021-02-01    8.681503     8.0   0.68   0.4624  0.68\n",
      "2021-02-02    8.757249     8.0   0.76   0.5776  0.76\n",
      "2021-02-03    8.632002     9.0  -0.37   0.1369  0.37\n",
      "2021-02-04    9.594593     7.0   2.59   6.7081  2.59\n",
      "2021-02-05    8.285147     8.0   0.29   0.0841  0.29\n",
      "...                ...     ...    ...      ...   ...\n",
      "2021-04-07    8.160004     9.0  -0.84   0.7056  0.84\n",
      "2021-04-08    9.223533     6.0   3.22  10.3684  3.22\n",
      "2021-04-09    8.611903     9.0  -0.39   0.1521  0.39\n",
      "2021-04-10    8.869970     5.0   3.87  14.9769  3.87\n",
      "2021-04-11    7.524870     9.0  -1.48   2.1904  1.48\n",
      "\n",
      "[70 rows x 5 columns]\n"
     ]
    },
    {
     "name": "stderr",
     "output_type": "stream",
     "text": [
      "C:\\Users\\Paul\\anaconda3\\lib\\site-packages\\statsmodels\\tsa\\base\\tsa_model.py:581: ValueWarning: A date index has been provided, but it has no associated frequency information and so will be ignored when e.g. forecasting.\n",
      "  warnings.warn('A date index has been provided, but it has no'\n",
      "C:\\Users\\Paul\\anaconda3\\lib\\site-packages\\statsmodels\\tsa\\base\\tsa_model.py:581: ValueWarning: A date index has been provided, but it has no associated frequency information and so will be ignored when e.g. forecasting.\n",
      "  warnings.warn('A date index has been provided, but it has no'\n"
     ]
    },
    {
     "name": "stdout",
     "output_type": "stream",
     "text": [
      "            prediction  actual  error      mse  rmse\n",
      "Date                                                \n",
      "2021-02-01   13.274884    20.0  -6.73  45.2929  6.73\n",
      "2021-02-02   15.592141    17.0  -1.41   1.9881  1.41\n",
      "2021-02-03   15.811228    20.0  -4.19  17.5561  4.19\n",
      "2021-02-04   17.154771    12.0   5.15  26.5225  5.15\n",
      "2021-02-05   15.397069    17.0  -1.60   2.5600  1.60\n",
      "...                ...     ...    ...      ...   ...\n",
      "2021-04-07    4.840229     3.0   1.84   3.3856  1.84\n",
      "2021-04-08    3.913208     4.0  -0.09   0.0081  0.09\n",
      "2021-04-09    3.873285     4.0  -0.13   0.0169  0.13\n",
      "2021-04-10    3.706577     4.0  -0.29   0.0841  0.29\n",
      "2021-04-11    4.626652     5.0  -0.37   0.1369  0.37\n",
      "\n",
      "[70 rows x 5 columns]\n"
     ]
    },
    {
     "name": "stderr",
     "output_type": "stream",
     "text": [
      "C:\\Users\\Paul\\anaconda3\\lib\\site-packages\\statsmodels\\tsa\\base\\tsa_model.py:581: ValueWarning: A date index has been provided, but it has no associated frequency information and so will be ignored when e.g. forecasting.\n",
      "  warnings.warn('A date index has been provided, but it has no'\n",
      "C:\\Users\\Paul\\anaconda3\\lib\\site-packages\\statsmodels\\tsa\\base\\tsa_model.py:581: ValueWarning: A date index has been provided, but it has no associated frequency information and so will be ignored when e.g. forecasting.\n",
      "  warnings.warn('A date index has been provided, but it has no'\n"
     ]
    },
    {
     "name": "stdout",
     "output_type": "stream",
     "text": [
      "            prediction  actual  error       mse   rmse\n",
      "Date                                                  \n",
      "2021-02-01    4.344391     4.0   0.34    0.1156   0.34\n",
      "2021-02-02    3.884480     5.0  -1.12    1.2544   1.12\n",
      "2021-02-03    4.639386     6.0  -1.36    1.8496   1.36\n",
      "2021-02-04    5.344385     3.0   2.34    5.4756   2.34\n",
      "2021-02-05    4.597378     4.0   0.60    0.3600   0.60\n",
      "...                ...     ...    ...       ...    ...\n",
      "2021-04-07    8.967944    26.0 -17.03  290.0209  17.03\n",
      "2021-04-08   15.595253    13.0   2.60    6.7600   2.60\n",
      "2021-04-09   15.723014     4.0  11.72  137.3584  11.72\n",
      "2021-04-10   10.743376     3.0   7.74   59.9076   7.74\n",
      "2021-04-11    7.641698    10.0  -2.36    5.5696   2.36\n",
      "\n",
      "[70 rows x 5 columns]\n"
     ]
    },
    {
     "name": "stderr",
     "output_type": "stream",
     "text": [
      "C:\\Users\\Paul\\anaconda3\\lib\\site-packages\\statsmodels\\tsa\\base\\tsa_model.py:581: ValueWarning: A date index has been provided, but it has no associated frequency information and so will be ignored when e.g. forecasting.\n",
      "  warnings.warn('A date index has been provided, but it has no'\n",
      "C:\\Users\\Paul\\anaconda3\\lib\\site-packages\\statsmodels\\tsa\\base\\tsa_model.py:581: ValueWarning: A date index has been provided, but it has no associated frequency information and so will be ignored when e.g. forecasting.\n",
      "  warnings.warn('A date index has been provided, but it has no'\n"
     ]
    },
    {
     "name": "stdout",
     "output_type": "stream",
     "text": [
      "            prediction  actual  error      mse  rmse\n",
      "Date                                                \n",
      "2021-02-01    3.974483     3.0   0.97   0.9409  0.97\n",
      "2021-02-02    3.448704     2.0   1.45   2.1025  1.45\n",
      "2021-02-03    3.521454     3.0   0.52   0.2704  0.52\n",
      "2021-02-04    2.926666     3.0  -0.07   0.0049  0.07\n",
      "2021-02-05    3.299518     3.0   0.30   0.0900  0.30\n",
      "...                ...     ...    ...      ...   ...\n",
      "2021-04-07    3.231082     4.0  -0.77   0.5929  0.77\n",
      "2021-04-08    3.190662     3.0   0.19   0.0361  0.19\n",
      "2021-04-09    3.003311     8.0  -5.00  25.0000  5.00\n",
      "2021-04-10    4.805850     4.0   0.81   0.6561  0.81\n",
      "2021-04-11    4.684350     3.0   1.68   2.8224  1.68\n",
      "\n",
      "[70 rows x 5 columns]\n"
     ]
    },
    {
     "name": "stderr",
     "output_type": "stream",
     "text": [
      "C:\\Users\\Paul\\anaconda3\\lib\\site-packages\\statsmodels\\tsa\\base\\tsa_model.py:581: ValueWarning: A date index has been provided, but it has no associated frequency information and so will be ignored when e.g. forecasting.\n",
      "  warnings.warn('A date index has been provided, but it has no'\n",
      "C:\\Users\\Paul\\anaconda3\\lib\\site-packages\\statsmodels\\tsa\\base\\tsa_model.py:581: ValueWarning: A date index has been provided, but it has no associated frequency information and so will be ignored when e.g. forecasting.\n",
      "  warnings.warn('A date index has been provided, but it has no'\n"
     ]
    },
    {
     "name": "stdout",
     "output_type": "stream",
     "text": [
      "            prediction  actual  error      mse  rmse\n",
      "Date                                                \n",
      "2021-02-01   22.837625    24.0  -1.16   1.3456  1.16\n",
      "2021-02-02   21.095199    23.0  -1.90   3.6100  1.90\n",
      "2021-02-03   21.070062    18.0   3.07   9.4249  3.07\n",
      "2021-02-04   20.104770    17.0   3.10   9.6100  3.10\n",
      "2021-02-05   20.240631    14.0   6.24  38.9376  6.24\n",
      "...                ...     ...    ...      ...   ...\n",
      "2021-04-07   16.042990    25.0  -8.96  80.2816  8.96\n",
      "2021-04-08   18.184969    22.0  -3.82  14.5924  3.82\n",
      "2021-04-09   21.051264    19.0   2.05   4.2025  2.05\n",
      "2021-04-10   21.712686    14.0   7.71  59.4441  7.71\n",
      "2021-04-11   19.009695    17.0   2.01   4.0401  2.01\n",
      "\n",
      "[70 rows x 5 columns]\n"
     ]
    },
    {
     "name": "stderr",
     "output_type": "stream",
     "text": [
      "C:\\Users\\Paul\\anaconda3\\lib\\site-packages\\statsmodels\\tsa\\base\\tsa_model.py:581: ValueWarning: A date index has been provided, but it has no associated frequency information and so will be ignored when e.g. forecasting.\n",
      "  warnings.warn('A date index has been provided, but it has no'\n",
      "C:\\Users\\Paul\\anaconda3\\lib\\site-packages\\statsmodels\\tsa\\base\\tsa_model.py:581: ValueWarning: A date index has been provided, but it has no associated frequency information and so will be ignored when e.g. forecasting.\n",
      "  warnings.warn('A date index has been provided, but it has no'\n"
     ]
    },
    {
     "name": "stdout",
     "output_type": "stream",
     "text": [
      "            prediction  actual  error      mse  rmse\n",
      "Date                                                \n",
      "2021-02-01   31.096178    26.0   5.10  26.0100  5.10\n",
      "2021-02-02   28.813690    23.0   5.81  33.7561  5.81\n",
      "2021-02-03   28.075033    22.0   6.08  36.9664  6.08\n",
      "2021-02-04   28.253020    29.0  -0.75   0.5625  0.75\n",
      "2021-02-05   27.270342    27.0   0.27   0.0729  0.27\n",
      "...                ...     ...    ...      ...   ...\n",
      "2021-04-07   15.904217    10.0   5.90  34.8100  5.90\n",
      "2021-04-08   15.672805    11.0   4.67  21.8089  4.67\n",
      "2021-04-09   13.539909    16.0  -2.46   6.0516  2.46\n",
      "2021-04-10   16.133424    12.0   4.13  17.0569  4.13\n",
      "2021-04-11   11.304600    13.0  -1.70   2.8900  1.70\n",
      "\n",
      "[70 rows x 5 columns]\n"
     ]
    },
    {
     "name": "stderr",
     "output_type": "stream",
     "text": [
      "C:\\Users\\Paul\\anaconda3\\lib\\site-packages\\statsmodels\\tsa\\base\\tsa_model.py:581: ValueWarning: A date index has been provided, but it has no associated frequency information and so will be ignored when e.g. forecasting.\n",
      "  warnings.warn('A date index has been provided, but it has no'\n",
      "C:\\Users\\Paul\\anaconda3\\lib\\site-packages\\statsmodels\\tsa\\base\\tsa_model.py:581: ValueWarning: A date index has been provided, but it has no associated frequency information and so will be ignored when e.g. forecasting.\n",
      "  warnings.warn('A date index has been provided, but it has no'\n"
     ]
    },
    {
     "name": "stdout",
     "output_type": "stream",
     "text": [
      "            prediction  actual  error       mse   rmse\n",
      "Date                                                  \n",
      "2021-02-01   20.153370    11.0   9.15   83.7225   9.15\n",
      "2021-02-02   17.006621    22.0  -4.99   24.9001   4.99\n",
      "2021-02-03   16.701946     8.0   8.70   75.6900   8.70\n",
      "2021-02-04   16.902517    19.0  -2.10    4.4100   2.10\n",
      "2021-02-05   16.954220    18.0  -1.05    1.1025   1.05\n",
      "...                ...     ...    ...       ...    ...\n",
      "2021-04-07   10.727918    15.0  -4.27   18.2329   4.27\n",
      "2021-04-08   12.084382    25.0 -12.92  166.9264  12.92\n",
      "2021-04-09   14.381762     7.0   7.38   54.4644   7.38\n",
      "2021-04-10   13.349721    15.0  -1.65    2.7225   1.65\n",
      "2021-04-11   14.171071    13.0   1.17    1.3689   1.17\n",
      "\n",
      "[70 rows x 5 columns]\n"
     ]
    },
    {
     "name": "stderr",
     "output_type": "stream",
     "text": [
      "C:\\Users\\Paul\\anaconda3\\lib\\site-packages\\statsmodels\\tsa\\base\\tsa_model.py:581: ValueWarning: A date index has been provided, but it has no associated frequency information and so will be ignored when e.g. forecasting.\n",
      "  warnings.warn('A date index has been provided, but it has no'\n",
      "C:\\Users\\Paul\\anaconda3\\lib\\site-packages\\statsmodels\\tsa\\base\\tsa_model.py:581: ValueWarning: A date index has been provided, but it has no associated frequency information and so will be ignored when e.g. forecasting.\n",
      "  warnings.warn('A date index has been provided, but it has no'\n"
     ]
    },
    {
     "name": "stdout",
     "output_type": "stream",
     "text": [
      "            prediction  actual  error        mse   rmse\n",
      "Date                                                   \n",
      "2021-02-01    1.045973     0.0   1.05     1.1025   1.05\n",
      "2021-02-02   -0.825911    65.0 -65.83  4333.5889  65.83\n",
      "2021-02-03   38.378556    68.0 -29.62   877.3444  29.62\n",
      "2021-02-04   54.443593    48.0   6.44    41.4736   6.44\n",
      "2021-02-05   51.733566    46.0   5.73    32.8329   5.73\n",
      "...                ...     ...    ...        ...    ...\n",
      "2021-04-07   14.762732    11.0   3.76    14.1376   3.76\n",
      "2021-04-08   10.482619     9.0   1.48     2.1904   1.48\n",
      "2021-04-09   11.420934    13.0  -1.58     2.4964   1.58\n",
      "2021-04-10   12.044283    19.0  -6.96    48.4416   6.96\n",
      "2021-04-11   15.615667    15.0   0.62     0.3844   0.62\n",
      "\n",
      "[70 rows x 5 columns]\n"
     ]
    },
    {
     "name": "stderr",
     "output_type": "stream",
     "text": [
      "C:\\Users\\Paul\\anaconda3\\lib\\site-packages\\statsmodels\\tsa\\base\\tsa_model.py:581: ValueWarning: A date index has been provided, but it has no associated frequency information and so will be ignored when e.g. forecasting.\n",
      "  warnings.warn('A date index has been provided, but it has no'\n",
      "C:\\Users\\Paul\\anaconda3\\lib\\site-packages\\statsmodels\\tsa\\base\\tsa_model.py:581: ValueWarning: A date index has been provided, but it has no associated frequency information and so will be ignored when e.g. forecasting.\n",
      "  warnings.warn('A date index has been provided, but it has no'\n"
     ]
    },
    {
     "name": "stdout",
     "output_type": "stream",
     "text": [
      "            prediction  actual  error       mse   rmse\n",
      "Date                                                  \n",
      "2021-02-01   18.482507    29.0 -10.52  110.6704  10.52\n",
      "2021-02-02   20.281635    31.0 -10.72  114.9184  10.72\n",
      "2021-02-03   23.949503    11.0  12.95  167.7025  12.95\n",
      "2021-02-04   20.735769    14.0   6.74   45.4276   6.74\n",
      "2021-02-05   20.315015    15.0   5.32   28.3024   5.32\n",
      "...                ...     ...    ...       ...    ...\n",
      "2021-04-07    5.475477     6.0  -0.52    0.2704   0.52\n",
      "2021-04-08    4.785414    11.0  -6.21   38.5641   6.21\n",
      "2021-04-09    8.419099     6.0   2.42    5.8564   2.42\n",
      "2021-04-10    7.181737    11.0  -3.82   14.5924   3.82\n",
      "2021-04-11   13.429954     7.0   6.43   41.3449   6.43\n",
      "\n",
      "[70 rows x 5 columns]\n"
     ]
    },
    {
     "name": "stderr",
     "output_type": "stream",
     "text": [
      "C:\\Users\\Paul\\anaconda3\\lib\\site-packages\\statsmodels\\tsa\\base\\tsa_model.py:581: ValueWarning: A date index has been provided, but it has no associated frequency information and so will be ignored when e.g. forecasting.\n",
      "  warnings.warn('A date index has been provided, but it has no'\n",
      "C:\\Users\\Paul\\anaconda3\\lib\\site-packages\\statsmodels\\tsa\\base\\tsa_model.py:581: ValueWarning: A date index has been provided, but it has no associated frequency information and so will be ignored when e.g. forecasting.\n",
      "  warnings.warn('A date index has been provided, but it has no'\n"
     ]
    },
    {
     "name": "stdout",
     "output_type": "stream",
     "text": [
      "            prediction  actual  error       mse   rmse\n",
      "Date                                                  \n",
      "2021-02-01   10.725492    21.0 -10.27  105.4729  10.27\n",
      "2021-02-02   16.706549     6.0  10.71  114.7041  10.71\n",
      "2021-02-03   15.102878     9.0   6.10   37.2100   6.10\n",
      "2021-02-04   15.835371     5.0  10.84  117.5056  10.84\n",
      "2021-02-05   13.138449    13.0   0.14    0.0196   0.14\n",
      "...                ...     ...    ...       ...    ...\n",
      "2021-04-07   13.742732    14.0  -0.26    0.0676   0.26\n",
      "2021-04-08   14.691642    17.0  -2.31    5.3361   2.31\n",
      "2021-04-09   15.973102    15.0   0.97    0.9409   0.97\n",
      "2021-04-10    9.695958    28.0 -18.30  334.8900  18.30\n",
      "2021-04-11    9.048807    13.0  -3.95   15.6025   3.95\n",
      "\n",
      "[70 rows x 5 columns]\n"
     ]
    },
    {
     "name": "stderr",
     "output_type": "stream",
     "text": [
      "C:\\Users\\Paul\\anaconda3\\lib\\site-packages\\statsmodels\\tsa\\base\\tsa_model.py:581: ValueWarning: A date index has been provided, but it has no associated frequency information and so will be ignored when e.g. forecasting.\n",
      "  warnings.warn('A date index has been provided, but it has no'\n",
      "C:\\Users\\Paul\\anaconda3\\lib\\site-packages\\statsmodels\\tsa\\base\\tsa_model.py:581: ValueWarning: A date index has been provided, but it has no associated frequency information and so will be ignored when e.g. forecasting.\n",
      "  warnings.warn('A date index has been provided, but it has no'\n"
     ]
    },
    {
     "name": "stdout",
     "output_type": "stream",
     "text": [
      "            prediction  actual  error       mse   rmse\n",
      "Date                                                  \n",
      "2021-02-01   18.749860    21.0  -2.25    5.0625   2.25\n",
      "2021-02-02   19.421081    15.0   4.42   19.5364   4.42\n",
      "2021-02-03   18.009362    15.0   3.01    9.0601   3.01\n",
      "2021-02-04   13.545075    29.0 -15.45  238.7025  15.45\n",
      "2021-02-05   23.617987    16.0   7.62   58.0644   7.62\n",
      "...                ...     ...    ...       ...    ...\n",
      "2021-04-07   30.914331    23.0   7.91   62.5681   7.91\n",
      "2021-04-08   25.300311    28.0  -2.70    7.2900   2.70\n",
      "2021-04-09   26.631780    24.0   2.63    6.9169   2.63\n",
      "2021-04-10   27.167808    27.0   0.17    0.0289   0.17\n",
      "2021-04-11   30.412625    38.0  -7.59   57.6081   7.59\n",
      "\n",
      "[70 rows x 5 columns]\n"
     ]
    },
    {
     "name": "stderr",
     "output_type": "stream",
     "text": [
      "C:\\Users\\Paul\\anaconda3\\lib\\site-packages\\statsmodels\\tsa\\base\\tsa_model.py:581: ValueWarning: A date index has been provided, but it has no associated frequency information and so will be ignored when e.g. forecasting.\n",
      "  warnings.warn('A date index has been provided, but it has no'\n",
      "C:\\Users\\Paul\\anaconda3\\lib\\site-packages\\statsmodels\\tsa\\base\\tsa_model.py:581: ValueWarning: A date index has been provided, but it has no associated frequency information and so will be ignored when e.g. forecasting.\n",
      "  warnings.warn('A date index has been provided, but it has no'\n"
     ]
    },
    {
     "name": "stdout",
     "output_type": "stream",
     "text": [
      "            prediction  actual  error       mse   rmse\n",
      "Date                                                  \n",
      "2021-02-01   38.857921    49.0 -10.14  102.8196  10.14\n",
      "2021-02-02   42.307672    34.0   8.31   69.0561   8.31\n",
      "2021-02-03   37.941080    41.0  -3.06    9.3636   3.06\n",
      "2021-02-04   40.793771    28.0  12.79  163.5841  12.79\n",
      "2021-02-05   34.961172    34.0   0.96    0.9216   0.96\n",
      "...                ...     ...    ...       ...    ...\n",
      "2021-04-07   13.970095     8.0   5.97   35.6409   5.97\n",
      "2021-04-08   14.846861     8.0   6.85   46.9225   6.85\n",
      "2021-04-09    9.352168     7.0   2.35    5.5225   2.35\n",
      "2021-04-10    7.705173     8.0  -0.29    0.0841   0.29\n",
      "2021-04-11   10.837010     7.0   3.84   14.7456   3.84\n",
      "\n",
      "[70 rows x 5 columns]\n"
     ]
    },
    {
     "name": "stderr",
     "output_type": "stream",
     "text": [
      "C:\\Users\\Paul\\anaconda3\\lib\\site-packages\\statsmodels\\tsa\\base\\tsa_model.py:581: ValueWarning: A date index has been provided, but it has no associated frequency information and so will be ignored when e.g. forecasting.\n",
      "  warnings.warn('A date index has been provided, but it has no'\n",
      "C:\\Users\\Paul\\anaconda3\\lib\\site-packages\\statsmodels\\tsa\\base\\tsa_model.py:581: ValueWarning: A date index has been provided, but it has no associated frequency information and so will be ignored when e.g. forecasting.\n",
      "  warnings.warn('A date index has been provided, but it has no'\n"
     ]
    },
    {
     "name": "stdout",
     "output_type": "stream",
     "text": [
      "            prediction  actual  error      mse  rmse\n",
      "Date                                                \n",
      "2021-02-01   18.346356    13.0   5.35  28.6225  5.35\n",
      "2021-02-02   18.719248    14.0   4.72  22.2784  4.72\n",
      "2021-02-03   17.235886    14.0   3.24  10.4976  3.24\n",
      "2021-02-04   17.465290    14.0   3.47  12.0409  3.47\n",
      "2021-02-05   13.047137    17.0  -3.95  15.6025  3.95\n",
      "...                ...     ...    ...      ...   ...\n",
      "2021-04-07    5.940645     7.0  -1.06   1.1236  1.06\n",
      "2021-04-08    7.212638     5.0   2.21   4.8841  2.21\n",
      "2021-04-09    7.033837     9.0  -1.97   3.8809  1.97\n",
      "2021-04-10    6.569599    11.0  -4.43  19.6249  4.43\n",
      "2021-04-11   10.868762     7.0   3.87  14.9769  3.87\n",
      "\n",
      "[70 rows x 5 columns]\n"
     ]
    },
    {
     "name": "stderr",
     "output_type": "stream",
     "text": [
      "C:\\Users\\Paul\\anaconda3\\lib\\site-packages\\statsmodels\\tsa\\base\\tsa_model.py:581: ValueWarning: A date index has been provided, but it has no associated frequency information and so will be ignored when e.g. forecasting.\n",
      "  warnings.warn('A date index has been provided, but it has no'\n",
      "C:\\Users\\Paul\\anaconda3\\lib\\site-packages\\statsmodels\\tsa\\base\\tsa_model.py:581: ValueWarning: A date index has been provided, but it has no associated frequency information and so will be ignored when e.g. forecasting.\n",
      "  warnings.warn('A date index has been provided, but it has no'\n"
     ]
    },
    {
     "name": "stdout",
     "output_type": "stream",
     "text": [
      "            prediction  actual  error      mse  rmse\n",
      "Date                                                \n",
      "2021-02-01   31.600621    32.0  -0.40   0.1600  0.40\n",
      "2021-02-02   22.523230    25.0  -2.48   6.1504  2.48\n",
      "2021-02-03   24.957947    26.0  -1.04   1.0816  1.04\n",
      "2021-02-04   24.204953    23.0   1.20   1.4400  1.20\n",
      "2021-02-05   26.739467    25.0   1.74   3.0276  1.74\n",
      "...                ...     ...    ...      ...   ...\n",
      "2021-04-07   21.196349    23.0  -1.80   3.2400  1.80\n",
      "2021-04-08   23.935635    26.0  -2.06   4.2436  2.06\n",
      "2021-04-09   23.357172    24.0  -0.64   0.4096  0.64\n",
      "2021-04-10   23.329482    23.0   0.33   0.1089  0.33\n",
      "2021-04-11   30.323278    35.0  -4.68  21.9024  4.68\n",
      "\n",
      "[70 rows x 5 columns]\n"
     ]
    },
    {
     "name": "stderr",
     "output_type": "stream",
     "text": [
      "C:\\Users\\Paul\\anaconda3\\lib\\site-packages\\statsmodels\\tsa\\base\\tsa_model.py:581: ValueWarning: A date index has been provided, but it has no associated frequency information and so will be ignored when e.g. forecasting.\n",
      "  warnings.warn('A date index has been provided, but it has no'\n",
      "C:\\Users\\Paul\\anaconda3\\lib\\site-packages\\statsmodels\\tsa\\base\\tsa_model.py:581: ValueWarning: A date index has been provided, but it has no associated frequency information and so will be ignored when e.g. forecasting.\n",
      "  warnings.warn('A date index has been provided, but it has no'\n"
     ]
    },
    {
     "name": "stdout",
     "output_type": "stream",
     "text": [
      "            prediction  actual  error       mse   rmse\n",
      "Date                                                  \n",
      "2021-02-01   30.619653    22.0   8.62   74.3044   8.62\n",
      "2021-02-02   28.163576    20.0   8.16   66.5856   8.16\n",
      "2021-02-03   25.714732    20.0   5.71   32.6041   5.71\n",
      "2021-02-04   21.776440    14.0   7.78   60.5284   7.78\n",
      "2021-02-05   19.065517    21.0  -1.93    3.7249   1.93\n",
      "...                ...     ...    ...       ...    ...\n",
      "2021-04-07   14.510145    12.0   2.51    6.3001   2.51\n",
      "2021-04-08   12.585135    12.0   0.59    0.3481   0.59\n",
      "2021-04-09   12.366576    32.0 -19.63  385.3369  19.63\n",
      "2021-04-10   20.118149    35.0 -14.88  221.4144  14.88\n",
      "2021-04-11   25.503272    26.0  -0.50    0.2500   0.50\n",
      "\n",
      "[70 rows x 5 columns]\n"
     ]
    },
    {
     "name": "stderr",
     "output_type": "stream",
     "text": [
      "C:\\Users\\Paul\\anaconda3\\lib\\site-packages\\statsmodels\\tsa\\base\\tsa_model.py:581: ValueWarning: A date index has been provided, but it has no associated frequency information and so will be ignored when e.g. forecasting.\n",
      "  warnings.warn('A date index has been provided, but it has no'\n",
      "C:\\Users\\Paul\\anaconda3\\lib\\site-packages\\statsmodels\\tsa\\base\\tsa_model.py:581: ValueWarning: A date index has been provided, but it has no associated frequency information and so will be ignored when e.g. forecasting.\n",
      "  warnings.warn('A date index has been provided, but it has no'\n"
     ]
    },
    {
     "name": "stdout",
     "output_type": "stream",
     "text": [
      "            prediction  actual  error      mse  rmse\n",
      "Date                                                \n",
      "2021-02-01   15.221915    20.0  -4.78  22.8484  4.78\n",
      "2021-02-02   17.164722    18.0  -0.84   0.7056  0.84\n",
      "2021-02-03   17.691216     9.0   8.69  75.5161  8.69\n",
      "2021-02-04   14.508310     6.0   8.51  72.4201  8.51\n",
      "2021-02-05   10.602220    13.0  -2.40   5.7600  2.40\n",
      "...                ...     ...    ...      ...   ...\n",
      "2021-04-07    9.015962    10.0  -0.98   0.9604  0.98\n",
      "2021-04-08    9.282765    12.0  -2.72   7.3984  2.72\n",
      "2021-04-09   11.281420    10.0   1.28   1.6384  1.28\n",
      "2021-04-10   10.364990     7.0   3.36  11.2896  3.36\n",
      "2021-04-11    9.847754    12.0  -2.15   4.6225  2.15\n",
      "\n",
      "[70 rows x 5 columns]\n"
     ]
    },
    {
     "name": "stderr",
     "output_type": "stream",
     "text": [
      "C:\\Users\\Paul\\anaconda3\\lib\\site-packages\\statsmodels\\tsa\\base\\tsa_model.py:581: ValueWarning: A date index has been provided, but it has no associated frequency information and so will be ignored when e.g. forecasting.\n",
      "  warnings.warn('A date index has been provided, but it has no'\n",
      "C:\\Users\\Paul\\anaconda3\\lib\\site-packages\\statsmodels\\tsa\\base\\tsa_model.py:581: ValueWarning: A date index has been provided, but it has no associated frequency information and so will be ignored when e.g. forecasting.\n",
      "  warnings.warn('A date index has been provided, but it has no'\n"
     ]
    },
    {
     "name": "stdout",
     "output_type": "stream",
     "text": [
      "            prediction  actual  error       mse   rmse\n",
      "Date                                                  \n",
      "2021-02-01   20.805803    36.0 -15.19  230.7361  15.19\n",
      "2021-02-02   26.548689    25.0   1.55    2.4025   1.55\n",
      "2021-02-03   24.334580    16.0   8.33   69.3889   8.33\n",
      "2021-02-04   22.270293     9.0  13.27  176.0929  13.27\n",
      "2021-02-05   15.639728     8.0   7.64   58.3696   7.64\n",
      "...                ...     ...    ...       ...    ...\n",
      "2021-04-07    7.407233     9.0  -1.59    2.5281   1.59\n",
      "2021-04-08    8.552925     6.0   2.55    6.5025   2.55\n",
      "2021-04-09    7.019293     8.0  -0.98    0.9604   0.98\n",
      "2021-04-10    9.485971    13.0  -3.51   12.3201   3.51\n",
      "2021-04-11   12.614284    11.0   1.61    2.5921   1.61\n",
      "\n",
      "[70 rows x 5 columns]\n"
     ]
    },
    {
     "name": "stderr",
     "output_type": "stream",
     "text": [
      "C:\\Users\\Paul\\anaconda3\\lib\\site-packages\\statsmodels\\tsa\\base\\tsa_model.py:581: ValueWarning: A date index has been provided, but it has no associated frequency information and so will be ignored when e.g. forecasting.\n",
      "  warnings.warn('A date index has been provided, but it has no'\n",
      "C:\\Users\\Paul\\anaconda3\\lib\\site-packages\\statsmodels\\tsa\\base\\tsa_model.py:581: ValueWarning: A date index has been provided, but it has no associated frequency information and so will be ignored when e.g. forecasting.\n",
      "  warnings.warn('A date index has been provided, but it has no'\n"
     ]
    },
    {
     "name": "stdout",
     "output_type": "stream",
     "text": [
      "            prediction  actual  error      mse  rmse\n",
      "Date                                                \n",
      "2021-02-01   15.449839    19.0  -3.55  12.6025  3.55\n",
      "2021-02-02   14.288535    16.0  -1.71   2.9241  1.71\n",
      "2021-02-03   16.447506    21.0  -4.55  20.7025  4.55\n",
      "2021-02-04   16.000086    17.0  -1.00   1.0000  1.00\n",
      "2021-02-05   17.013477     9.0   8.01  64.1601  8.01\n",
      "...                ...     ...    ...      ...   ...\n",
      "2021-04-07   15.777838    13.0   2.78   7.7284  2.78\n",
      "2021-04-08   13.633981    13.0   0.63   0.3969  0.63\n",
      "2021-04-09   13.044844    14.0  -0.96   0.9216  0.96\n",
      "2021-04-10   12.988814    11.0   1.99   3.9601  1.99\n",
      "2021-04-11   14.582750    12.0   2.58   6.6564  2.58\n",
      "\n",
      "[70 rows x 5 columns]\n"
     ]
    },
    {
     "name": "stderr",
     "output_type": "stream",
     "text": [
      "C:\\Users\\Paul\\anaconda3\\lib\\site-packages\\statsmodels\\tsa\\base\\tsa_model.py:581: ValueWarning: A date index has been provided, but it has no associated frequency information and so will be ignored when e.g. forecasting.\n",
      "  warnings.warn('A date index has been provided, but it has no'\n",
      "C:\\Users\\Paul\\anaconda3\\lib\\site-packages\\statsmodels\\tsa\\base\\tsa_model.py:581: ValueWarning: A date index has been provided, but it has no associated frequency information and so will be ignored when e.g. forecasting.\n",
      "  warnings.warn('A date index has been provided, but it has no'\n"
     ]
    },
    {
     "name": "stdout",
     "output_type": "stream",
     "text": [
      "            prediction  actual  error     mse  rmse\n",
      "Date                                               \n",
      "2021-02-01    0.173912     0.0   0.17  0.0289  0.17\n",
      "2021-02-02    0.019064     0.0   0.02  0.0004  0.02\n",
      "2021-02-03   -0.828412     0.0  -0.83  0.6889  0.83\n",
      "2021-02-04    0.111906     0.0   0.11  0.0121  0.11\n",
      "2021-02-05    0.577176     0.0   0.58  0.3364  0.58\n",
      "...                ...     ...    ...     ...   ...\n",
      "2021-04-07   -0.667045     0.0  -0.67  0.4489  0.67\n",
      "2021-04-08    0.089297     0.0   0.09  0.0081  0.09\n",
      "2021-04-09    0.466072     0.0   0.47  0.2209  0.47\n",
      "2021-04-10   -0.224358     0.0  -0.22  0.0484  0.22\n",
      "2021-04-11    0.091782     0.0   0.09  0.0081  0.09\n",
      "\n",
      "[70 rows x 5 columns]\n"
     ]
    },
    {
     "name": "stderr",
     "output_type": "stream",
     "text": [
      "C:\\Users\\Paul\\anaconda3\\lib\\site-packages\\statsmodels\\tsa\\base\\tsa_model.py:581: ValueWarning: A date index has been provided, but it has no associated frequency information and so will be ignored when e.g. forecasting.\n",
      "  warnings.warn('A date index has been provided, but it has no'\n",
      "C:\\Users\\Paul\\anaconda3\\lib\\site-packages\\statsmodels\\tsa\\base\\tsa_model.py:581: ValueWarning: A date index has been provided, but it has no associated frequency information and so will be ignored when e.g. forecasting.\n",
      "  warnings.warn('A date index has been provided, but it has no'\n"
     ]
    },
    {
     "name": "stdout",
     "output_type": "stream",
     "text": [
      "            prediction  actual  error      mse  rmse\n",
      "Date                                                \n",
      "2021-02-01   13.167312    10.0   3.17  10.0489  3.17\n",
      "2021-02-02   12.007546    10.0   2.01   4.0401  2.01\n",
      "2021-02-03   10.804285    10.0   0.80   0.6400  0.80\n",
      "2021-02-04   12.179927    13.0  -0.82   0.6724  0.82\n",
      "2021-02-05   11.696950    18.0  -6.30  39.6900  6.30\n",
      "...                ...     ...    ...      ...   ...\n",
      "2021-04-07    9.798972    11.0  -1.20   1.4400  1.20\n",
      "2021-04-08   11.162108     9.0   2.16   4.6656  2.16\n",
      "2021-04-09   11.104060    11.0   0.10   0.0100  0.10\n",
      "2021-04-10   10.578045    10.0   0.58   0.3364  0.58\n",
      "2021-04-11   11.514706    13.0  -1.49   2.2201  1.49\n",
      "\n",
      "[70 rows x 5 columns]\n"
     ]
    },
    {
     "name": "stderr",
     "output_type": "stream",
     "text": [
      "C:\\Users\\Paul\\anaconda3\\lib\\site-packages\\statsmodels\\tsa\\base\\tsa_model.py:581: ValueWarning: A date index has been provided, but it has no associated frequency information and so will be ignored when e.g. forecasting.\n",
      "  warnings.warn('A date index has been provided, but it has no'\n",
      "C:\\Users\\Paul\\anaconda3\\lib\\site-packages\\statsmodels\\tsa\\base\\tsa_model.py:581: ValueWarning: A date index has been provided, but it has no associated frequency information and so will be ignored when e.g. forecasting.\n",
      "  warnings.warn('A date index has been provided, but it has no'\n"
     ]
    },
    {
     "name": "stdout",
     "output_type": "stream",
     "text": [
      "            prediction  actual  error       mse   rmse\n",
      "Date                                                  \n",
      "2021-02-01   11.567274    36.0 -24.43  596.8249  24.43\n",
      "2021-02-02   25.972248    27.0  -1.03    1.0609   1.03\n",
      "2021-02-03   26.806311    24.0   2.81    7.8961   2.81\n",
      "2021-02-04   25.065750    23.0   2.07    4.2849   2.07\n",
      "2021-02-05   23.943888     8.0  15.94  254.0836  15.94\n",
      "...                ...     ...    ...       ...    ...\n",
      "2021-04-07    4.995808     3.0   2.00    4.0000   2.00\n",
      "2021-04-08    3.332229     3.0   0.33    0.1089   0.33\n",
      "2021-04-09    3.490078     3.0   0.49    0.2401   0.49\n",
      "2021-04-10    2.638549     3.0  -0.36    0.1296   0.36\n",
      "2021-04-11    3.352659     2.0   1.35    1.8225   1.35\n",
      "\n",
      "[70 rows x 5 columns]\n"
     ]
    },
    {
     "name": "stderr",
     "output_type": "stream",
     "text": [
      "C:\\Users\\Paul\\anaconda3\\lib\\site-packages\\statsmodels\\tsa\\base\\tsa_model.py:581: ValueWarning: A date index has been provided, but it has no associated frequency information and so will be ignored when e.g. forecasting.\n",
      "  warnings.warn('A date index has been provided, but it has no'\n",
      "C:\\Users\\Paul\\anaconda3\\lib\\site-packages\\statsmodels\\tsa\\base\\tsa_model.py:581: ValueWarning: A date index has been provided, but it has no associated frequency information and so will be ignored when e.g. forecasting.\n",
      "  warnings.warn('A date index has been provided, but it has no'\n"
     ]
    },
    {
     "name": "stdout",
     "output_type": "stream",
     "text": [
      "            prediction  actual  error       mse   rmse\n",
      "Date                                                  \n",
      "2021-02-01   24.242007    33.0  -8.76   76.7376   8.76\n",
      "2021-02-02   22.330733    26.0  -3.67   13.4689   3.67\n",
      "2021-02-03   23.727888    15.0   8.73   76.2129   8.73\n",
      "2021-02-04   20.315156    18.0   2.32    5.3824   2.32\n",
      "2021-02-05   21.401072    20.0   1.40    1.9600   1.40\n",
      "...                ...     ...    ...       ...    ...\n",
      "2021-04-07   10.190343     7.0   3.19   10.1761   3.19\n",
      "2021-04-08   10.391897    25.0 -14.61  213.4521  14.61\n",
      "2021-04-09   13.363648    22.0  -8.64   74.6496   8.64\n",
      "2021-04-10   18.668954    14.0   4.67   21.8089   4.67\n",
      "2021-04-11   20.209549    14.0   6.21   38.5641   6.21\n",
      "\n",
      "[70 rows x 5 columns]\n"
     ]
    },
    {
     "name": "stderr",
     "output_type": "stream",
     "text": [
      "C:\\Users\\Paul\\anaconda3\\lib\\site-packages\\statsmodels\\tsa\\base\\tsa_model.py:581: ValueWarning: A date index has been provided, but it has no associated frequency information and so will be ignored when e.g. forecasting.\n",
      "  warnings.warn('A date index has been provided, but it has no'\n",
      "C:\\Users\\Paul\\anaconda3\\lib\\site-packages\\statsmodels\\tsa\\base\\tsa_model.py:581: ValueWarning: A date index has been provided, but it has no associated frequency information and so will be ignored when e.g. forecasting.\n",
      "  warnings.warn('A date index has been provided, but it has no'\n"
     ]
    },
    {
     "name": "stdout",
     "output_type": "stream",
     "text": [
      "            prediction  actual  error     mse  rmse\n",
      "Date                                               \n",
      "2021-02-01    3.364260     3.0   0.36  0.1296  0.36\n",
      "2021-02-02    3.206235     4.0  -0.79  0.6241  0.79\n",
      "2021-02-03    2.866889     3.0  -0.13  0.0169  0.13\n",
      "2021-02-04    3.132714     3.0   0.13  0.0169  0.13\n",
      "2021-02-05    3.228371     3.0   0.23  0.0529  0.23\n",
      "...                ...     ...    ...     ...   ...\n",
      "2021-04-07    2.445150     1.0   1.45  2.1025  1.45\n",
      "2021-04-08    2.740259     1.0   1.74  3.0276  1.74\n",
      "2021-04-09    2.503662     2.0   0.50  0.2500  0.50\n",
      "2021-04-10    1.960523     2.0  -0.04  0.0016  0.04\n",
      "2021-04-11    2.465900     4.0  -1.53  2.3409  1.53\n",
      "\n",
      "[70 rows x 5 columns]\n"
     ]
    },
    {
     "name": "stderr",
     "output_type": "stream",
     "text": [
      "C:\\Users\\Paul\\anaconda3\\lib\\site-packages\\statsmodels\\tsa\\base\\tsa_model.py:581: ValueWarning: A date index has been provided, but it has no associated frequency information and so will be ignored when e.g. forecasting.\n",
      "  warnings.warn('A date index has been provided, but it has no'\n",
      "C:\\Users\\Paul\\anaconda3\\lib\\site-packages\\statsmodels\\tsa\\base\\tsa_model.py:581: ValueWarning: A date index has been provided, but it has no associated frequency information and so will be ignored when e.g. forecasting.\n",
      "  warnings.warn('A date index has been provided, but it has no'\n"
     ]
    },
    {
     "name": "stdout",
     "output_type": "stream",
     "text": [
      "            prediction  actual  error      mse  rmse\n",
      "Date                                                \n",
      "2021-02-01   13.902335    14.0  -0.10   0.0100  0.10\n",
      "2021-02-02   13.780626    13.0   0.78   0.6084  0.78\n",
      "2021-02-03   13.659635    14.0  -0.34   0.1156  0.34\n",
      "2021-02-04   13.932332    10.0   3.93  15.4449  3.93\n",
      "2021-02-05   12.965261    11.0   1.97   3.8809  1.97\n",
      "...                ...     ...    ...      ...   ...\n",
      "2021-04-07   12.871678    11.0   1.87   3.4969  1.87\n",
      "2021-04-08   13.009181    12.0   1.01   1.0201  1.01\n",
      "2021-04-09   12.615212    11.0   1.62   2.6244  1.62\n",
      "2021-04-10   12.004537    12.0   0.00   0.0000  0.00\n",
      "2021-04-11   11.272383    12.0  -0.73   0.5329  0.73\n",
      "\n",
      "[70 rows x 5 columns]\n"
     ]
    },
    {
     "name": "stderr",
     "output_type": "stream",
     "text": [
      "C:\\Users\\Paul\\anaconda3\\lib\\site-packages\\statsmodels\\tsa\\base\\tsa_model.py:581: ValueWarning: A date index has been provided, but it has no associated frequency information and so will be ignored when e.g. forecasting.\n",
      "  warnings.warn('A date index has been provided, but it has no'\n",
      "C:\\Users\\Paul\\anaconda3\\lib\\site-packages\\statsmodels\\tsa\\base\\tsa_model.py:581: ValueWarning: A date index has been provided, but it has no associated frequency information and so will be ignored when e.g. forecasting.\n",
      "  warnings.warn('A date index has been provided, but it has no'\n"
     ]
    },
    {
     "name": "stdout",
     "output_type": "stream",
     "text": [
      "            prediction  actual  error      mse  rmse\n",
      "Date                                                \n",
      "2021-02-01   12.546200    16.0  -3.45  11.9025  3.45\n",
      "2021-02-02   15.626844    18.0  -2.37   5.6169  2.37\n",
      "2021-02-03   15.701021    12.0   3.70  13.6900  3.70\n",
      "2021-02-04   14.141286    11.0   3.14   9.8596  3.14\n",
      "2021-02-05   14.574187    11.0   3.57  12.7449  3.57\n",
      "...                ...     ...    ...      ...   ...\n",
      "2021-04-07    5.627999    14.0  -8.37  70.0569  8.37\n",
      "2021-04-08    7.519238     7.0   0.52   0.2704  0.52\n",
      "2021-04-09    8.045365     4.0   4.05  16.4025  4.05\n",
      "2021-04-10    7.013301     9.0  -1.99   3.9601  1.99\n",
      "2021-04-11    8.222028     9.0  -0.78   0.6084  0.78\n",
      "\n",
      "[70 rows x 5 columns]\n"
     ]
    },
    {
     "name": "stderr",
     "output_type": "stream",
     "text": [
      "C:\\Users\\Paul\\anaconda3\\lib\\site-packages\\statsmodels\\tsa\\base\\tsa_model.py:581: ValueWarning: A date index has been provided, but it has no associated frequency information and so will be ignored when e.g. forecasting.\n",
      "  warnings.warn('A date index has been provided, but it has no'\n",
      "C:\\Users\\Paul\\anaconda3\\lib\\site-packages\\statsmodels\\tsa\\base\\tsa_model.py:581: ValueWarning: A date index has been provided, but it has no associated frequency information and so will be ignored when e.g. forecasting.\n",
      "  warnings.warn('A date index has been provided, but it has no'\n"
     ]
    },
    {
     "name": "stdout",
     "output_type": "stream",
     "text": [
      "            prediction  actual  error       mse   rmse\n",
      "Date                                                  \n",
      "2021-02-01   23.602744    11.0  12.60  158.7600  12.60\n",
      "2021-02-02   19.555988    14.0   5.56   30.9136   5.56\n",
      "2021-02-03   19.636732     8.0  11.64  135.4896  11.64\n",
      "2021-02-04   17.652488    17.0   0.65    0.4225   0.65\n",
      "2021-02-05   17.873615    15.0   2.87    8.2369   2.87\n",
      "...                ...     ...    ...       ...    ...\n",
      "2021-04-07   12.089846    12.0   0.09    0.0081   0.09\n",
      "2021-04-08   12.235087    15.0  -2.76    7.6176   2.76\n",
      "2021-04-09   12.471973    14.0  -1.53    2.3409   1.53\n",
      "2021-04-10   13.817514    15.0  -1.18    1.3924   1.18\n",
      "2021-04-11   15.011176    10.0   5.01   25.1001   5.01\n",
      "\n",
      "[70 rows x 5 columns]\n"
     ]
    },
    {
     "name": "stderr",
     "output_type": "stream",
     "text": [
      "C:\\Users\\Paul\\anaconda3\\lib\\site-packages\\statsmodels\\tsa\\base\\tsa_model.py:581: ValueWarning: A date index has been provided, but it has no associated frequency information and so will be ignored when e.g. forecasting.\n",
      "  warnings.warn('A date index has been provided, but it has no'\n",
      "C:\\Users\\Paul\\anaconda3\\lib\\site-packages\\statsmodels\\tsa\\base\\tsa_model.py:581: ValueWarning: A date index has been provided, but it has no associated frequency information and so will be ignored when e.g. forecasting.\n",
      "  warnings.warn('A date index has been provided, but it has no'\n"
     ]
    },
    {
     "name": "stdout",
     "output_type": "stream",
     "text": [
      "            prediction  actual  error       mse   rmse\n",
      "Date                                                  \n",
      "2021-02-01   15.736996    10.0   5.74   32.9476   5.74\n",
      "2021-02-02   11.726915     5.0   6.73   45.2929   6.73\n",
      "2021-02-03   10.485852     0.0  10.49  110.0401  10.49\n",
      "2021-02-04    6.223757     0.0   6.22   38.6884   6.22\n",
      "2021-02-05    4.336210     0.0   4.34   18.8356   4.34\n",
      "...                ...     ...    ...       ...    ...\n",
      "2021-04-07    8.136382    12.0  -3.86   14.8996   3.86\n",
      "2021-04-08    8.416494     6.0   2.42    5.8564   2.42\n",
      "2021-04-09    7.725223     3.0   4.73   22.3729   4.73\n",
      "2021-04-10    6.833711     7.0  -0.17    0.0289   0.17\n",
      "2021-04-11    5.742063     8.0  -2.26    5.1076   2.26\n",
      "\n",
      "[70 rows x 5 columns]\n"
     ]
    },
    {
     "name": "stderr",
     "output_type": "stream",
     "text": [
      "C:\\Users\\Paul\\anaconda3\\lib\\site-packages\\statsmodels\\tsa\\base\\tsa_model.py:581: ValueWarning: A date index has been provided, but it has no associated frequency information and so will be ignored when e.g. forecasting.\n",
      "  warnings.warn('A date index has been provided, but it has no'\n",
      "C:\\Users\\Paul\\anaconda3\\lib\\site-packages\\statsmodels\\tsa\\base\\tsa_model.py:581: ValueWarning: A date index has been provided, but it has no associated frequency information and so will be ignored when e.g. forecasting.\n",
      "  warnings.warn('A date index has been provided, but it has no'\n"
     ]
    },
    {
     "name": "stdout",
     "output_type": "stream",
     "text": [
      "            prediction  actual  error       mse   rmse\n",
      "Date                                                  \n",
      "2021-02-01   31.491422    33.0  -1.51    2.2801   1.51\n",
      "2021-02-02   26.254099    30.0  -3.75   14.0625   3.75\n",
      "2021-02-03   27.247246    36.0  -8.75   76.5625   8.75\n",
      "2021-02-04   30.074714    27.0   3.07    9.4249   3.07\n",
      "2021-02-05   26.734003    30.0  -3.27   10.6929   3.27\n",
      "...                ...     ...    ...       ...    ...\n",
      "2021-04-07   25.680371    19.0   6.68   44.6224   6.68\n",
      "2021-04-08   22.677171    26.0  -3.32   11.0224   3.32\n",
      "2021-04-09   21.109510    22.0  -0.89    0.7921   0.89\n",
      "2021-04-10   22.546875    33.0 -10.45  109.2025  10.45\n",
      "2021-04-11   28.113361    28.0   0.11    0.0121   0.11\n",
      "\n",
      "[70 rows x 5 columns]\n"
     ]
    },
    {
     "name": "stderr",
     "output_type": "stream",
     "text": [
      "C:\\Users\\Paul\\anaconda3\\lib\\site-packages\\statsmodels\\tsa\\base\\tsa_model.py:581: ValueWarning: A date index has been provided, but it has no associated frequency information and so will be ignored when e.g. forecasting.\n",
      "  warnings.warn('A date index has been provided, but it has no'\n",
      "C:\\Users\\Paul\\anaconda3\\lib\\site-packages\\statsmodels\\tsa\\base\\tsa_model.py:581: ValueWarning: A date index has been provided, but it has no associated frequency information and so will be ignored when e.g. forecasting.\n",
      "  warnings.warn('A date index has been provided, but it has no'\n"
     ]
    },
    {
     "name": "stdout",
     "output_type": "stream",
     "text": [
      "            prediction  actual  error       mse   rmse\n",
      "Date                                                  \n",
      "2021-02-01   26.015821    14.0  12.02  144.4804  12.02\n",
      "2021-02-02   23.015909    24.0  -0.98    0.9604   0.98\n",
      "2021-02-03   26.222636    22.0   4.22   17.8084   4.22\n",
      "2021-02-04   25.106794    29.0  -3.89   15.1321   3.89\n",
      "2021-02-05   25.029472    20.0   5.03   25.3009   5.03\n",
      "...                ...     ...    ...       ...    ...\n",
      "2021-04-07   13.451516    24.0 -10.55  111.3025  10.55\n",
      "2021-04-08   16.448057    23.0  -6.55   42.9025   6.55\n",
      "2021-04-09   17.305793    23.0  -5.69   32.3761   5.69\n",
      "2021-04-10   20.479547    33.0 -12.52  156.7504  12.52\n",
      "2021-04-11   23.104966    21.0   2.10    4.4100   2.10\n",
      "\n",
      "[70 rows x 5 columns]\n"
     ]
    },
    {
     "name": "stderr",
     "output_type": "stream",
     "text": [
      "C:\\Users\\Paul\\anaconda3\\lib\\site-packages\\statsmodels\\tsa\\base\\tsa_model.py:581: ValueWarning: A date index has been provided, but it has no associated frequency information and so will be ignored when e.g. forecasting.\n",
      "  warnings.warn('A date index has been provided, but it has no'\n",
      "C:\\Users\\Paul\\anaconda3\\lib\\site-packages\\statsmodels\\tsa\\base\\tsa_model.py:581: ValueWarning: A date index has been provided, but it has no associated frequency information and so will be ignored when e.g. forecasting.\n",
      "  warnings.warn('A date index has been provided, but it has no'\n"
     ]
    },
    {
     "name": "stdout",
     "output_type": "stream",
     "text": [
      "            prediction  actual  error       mse   rmse\n",
      "Date                                                  \n",
      "2021-02-01   63.787094    77.0 -13.21  174.5041  13.21\n",
      "2021-02-02   72.918826    51.0  21.92  480.4864  21.92\n",
      "2021-02-03   54.140550    55.0  -0.86    0.7396   0.86\n",
      "2021-02-04   54.738057    51.0   3.74   13.9876   3.74\n",
      "2021-02-05   52.215961    55.0  -2.78    7.7284   2.78\n",
      "...                ...     ...    ...       ...    ...\n",
      "2021-04-07   54.181404    53.0   1.18    1.3924   1.18\n",
      "2021-04-08   53.040605    53.0   0.04    0.0016   0.04\n",
      "2021-04-09   53.503905    58.0  -4.50   20.2500   4.50\n",
      "2021-04-10   57.661362    61.0  -3.34   11.1556   3.34\n",
      "2021-04-11   62.024119    54.0   8.02   64.3204   8.02\n",
      "\n",
      "[70 rows x 5 columns]\n"
     ]
    },
    {
     "name": "stderr",
     "output_type": "stream",
     "text": [
      "C:\\Users\\Paul\\anaconda3\\lib\\site-packages\\statsmodels\\tsa\\base\\tsa_model.py:581: ValueWarning: A date index has been provided, but it has no associated frequency information and so will be ignored when e.g. forecasting.\n",
      "  warnings.warn('A date index has been provided, but it has no'\n",
      "C:\\Users\\Paul\\anaconda3\\lib\\site-packages\\statsmodels\\tsa\\base\\tsa_model.py:581: ValueWarning: A date index has been provided, but it has no associated frequency information and so will be ignored when e.g. forecasting.\n",
      "  warnings.warn('A date index has been provided, but it has no'\n"
     ]
    },
    {
     "name": "stdout",
     "output_type": "stream",
     "text": [
      "            prediction  actual  error      mse  rmse\n",
      "Date                                                \n",
      "2021-02-01    5.618655     9.0  -3.38  11.4244  3.38\n",
      "2021-02-02    8.149019     7.0   1.15   1.3225  1.15\n",
      "2021-02-03    7.795492     7.0   0.80   0.6400  0.80\n",
      "2021-02-04    7.292363    10.0  -2.71   7.3441  2.71\n",
      "2021-02-05    7.939687     9.0  -1.06   1.1236  1.06\n",
      "...                ...     ...    ...      ...   ...\n",
      "2021-04-07    6.586736    12.0  -5.41  29.2681  5.41\n",
      "2021-04-08    5.944671     4.0   1.94   3.7636  1.94\n",
      "2021-04-09    7.085903     6.0   1.09   1.1881  1.09\n",
      "2021-04-10    6.165367     6.0   0.17   0.0289  0.17\n",
      "2021-04-11    6.337182     7.0  -0.66   0.4356  0.66\n",
      "\n",
      "[70 rows x 5 columns]\n"
     ]
    },
    {
     "name": "stderr",
     "output_type": "stream",
     "text": [
      "C:\\Users\\Paul\\anaconda3\\lib\\site-packages\\statsmodels\\tsa\\base\\tsa_model.py:581: ValueWarning: A date index has been provided, but it has no associated frequency information and so will be ignored when e.g. forecasting.\n",
      "  warnings.warn('A date index has been provided, but it has no'\n",
      "C:\\Users\\Paul\\anaconda3\\lib\\site-packages\\statsmodels\\tsa\\base\\tsa_model.py:581: ValueWarning: A date index has been provided, but it has no associated frequency information and so will be ignored when e.g. forecasting.\n",
      "  warnings.warn('A date index has been provided, but it has no'\n"
     ]
    },
    {
     "name": "stdout",
     "output_type": "stream",
     "text": [
      "            prediction  actual  error       mse   rmse\n",
      "Date                                                  \n",
      "2021-02-01   16.515310    10.0   6.52   42.5104   6.52\n",
      "2021-02-02   17.407077     7.0  10.41  108.3681  10.41\n",
      "2021-02-03   14.903100     5.0   9.90   98.0100   9.90\n",
      "2021-02-04   13.658868     7.0   6.66   44.3556   6.66\n",
      "2021-02-05   12.573121    17.0  -4.43   19.6249   4.43\n",
      "...                ...     ...    ...       ...    ...\n",
      "2021-04-07   12.354625    25.0 -12.65  160.0225  12.65\n",
      "2021-04-08   15.368196    13.0   2.37    5.6169   2.37\n",
      "2021-04-09   15.678482     6.0   9.68   93.7024   9.68\n",
      "2021-04-10   13.109321    11.0   2.11    4.4521   2.11\n",
      "2021-04-11   12.008758    16.0  -3.99   15.9201   3.99\n",
      "\n",
      "[70 rows x 5 columns]\n"
     ]
    },
    {
     "name": "stderr",
     "output_type": "stream",
     "text": [
      "C:\\Users\\Paul\\anaconda3\\lib\\site-packages\\statsmodels\\tsa\\base\\tsa_model.py:581: ValueWarning: A date index has been provided, but it has no associated frequency information and so will be ignored when e.g. forecasting.\n",
      "  warnings.warn('A date index has been provided, but it has no'\n",
      "C:\\Users\\Paul\\anaconda3\\lib\\site-packages\\statsmodels\\tsa\\base\\tsa_model.py:581: ValueWarning: A date index has been provided, but it has no associated frequency information and so will be ignored when e.g. forecasting.\n",
      "  warnings.warn('A date index has been provided, but it has no'\n"
     ]
    },
    {
     "name": "stdout",
     "output_type": "stream",
     "text": [
      "            prediction  actual  error      mse  rmse\n",
      "Date                                                \n",
      "2021-02-01   28.255056    30.0  -1.74   3.0276  1.74\n",
      "2021-02-02   28.887861    20.0   8.89  79.0321  8.89\n",
      "2021-02-03   25.283272    26.0  -0.72   0.5184  0.72\n",
      "2021-02-04   26.120658    24.0   2.12   4.4944  2.12\n",
      "2021-02-05   24.949990    18.0   6.95  48.3025  6.95\n",
      "...                ...     ...    ...      ...   ...\n",
      "2021-04-07   17.919697    18.0  -0.08   0.0064  0.08\n",
      "2021-04-08   18.559445    20.0  -1.44   2.0736  1.44\n",
      "2021-04-09   18.219551    19.0  -0.78   0.6084  0.78\n",
      "2021-04-10   20.536101    30.0  -9.46  89.4916  9.46\n",
      "2021-04-11   23.108938    19.0   4.11  16.8921  4.11\n",
      "\n",
      "[70 rows x 5 columns]\n"
     ]
    },
    {
     "name": "stderr",
     "output_type": "stream",
     "text": [
      "C:\\Users\\Paul\\anaconda3\\lib\\site-packages\\statsmodels\\tsa\\base\\tsa_model.py:581: ValueWarning: A date index has been provided, but it has no associated frequency information and so will be ignored when e.g. forecasting.\n",
      "  warnings.warn('A date index has been provided, but it has no'\n",
      "C:\\Users\\Paul\\anaconda3\\lib\\site-packages\\statsmodels\\tsa\\base\\tsa_model.py:581: ValueWarning: A date index has been provided, but it has no associated frequency information and so will be ignored when e.g. forecasting.\n",
      "  warnings.warn('A date index has been provided, but it has no'\n"
     ]
    },
    {
     "name": "stdout",
     "output_type": "stream",
     "text": [
      "            prediction  actual  error     mse  rmse\n",
      "Date                                               \n",
      "2021-02-01   15.359051    17.0  -1.64  2.6896  1.64\n",
      "2021-02-02   16.569543    17.0  -0.43  0.1849  0.43\n",
      "2021-02-03   16.451956    16.0   0.45  0.2025  0.45\n",
      "2021-02-04   16.464650    15.0   1.46  2.1316  1.46\n",
      "2021-02-05   15.677549    16.0  -0.32  0.1024  0.32\n",
      "...                ...     ...    ...     ...   ...\n",
      "2021-04-07   16.469392    16.0   0.47  0.2209  0.47\n",
      "2021-04-08   16.306560    19.0  -2.69  7.2361  2.69\n",
      "2021-04-09   18.412171    17.0   1.41  1.9881  1.41\n",
      "2021-04-10   17.295940    17.0   0.30  0.0900  0.30\n",
      "2021-04-11   17.044459    18.0  -0.96  0.9216  0.96\n",
      "\n",
      "[70 rows x 5 columns]\n"
     ]
    },
    {
     "name": "stderr",
     "output_type": "stream",
     "text": [
      "C:\\Users\\Paul\\anaconda3\\lib\\site-packages\\statsmodels\\tsa\\base\\tsa_model.py:581: ValueWarning: A date index has been provided, but it has no associated frequency information and so will be ignored when e.g. forecasting.\n",
      "  warnings.warn('A date index has been provided, but it has no'\n",
      "C:\\Users\\Paul\\anaconda3\\lib\\site-packages\\statsmodels\\tsa\\base\\tsa_model.py:581: ValueWarning: A date index has been provided, but it has no associated frequency information and so will be ignored when e.g. forecasting.\n",
      "  warnings.warn('A date index has been provided, but it has no'\n"
     ]
    },
    {
     "name": "stdout",
     "output_type": "stream",
     "text": [
      "            prediction  actual  error  mse  rmse\n",
      "Date                                            \n",
      "2021-02-01         0.0     0.0    0.0  0.0   0.0\n",
      "2021-02-02         0.0     0.0    0.0  0.0   0.0\n",
      "2021-02-03         0.0     0.0    0.0  0.0   0.0\n",
      "2021-02-04         0.0     0.0    0.0  0.0   0.0\n",
      "2021-02-05         0.0     0.0    0.0  0.0   0.0\n",
      "...                ...     ...    ...  ...   ...\n",
      "2021-04-07         0.0     0.0    0.0  0.0   0.0\n",
      "2021-04-08         0.0     0.0    0.0  0.0   0.0\n",
      "2021-04-09         0.0     0.0    0.0  0.0   0.0\n",
      "2021-04-10         0.0     0.0    0.0  0.0   0.0\n",
      "2021-04-11         0.0     0.0    0.0  0.0   0.0\n",
      "\n",
      "[70 rows x 5 columns]\n"
     ]
    },
    {
     "name": "stderr",
     "output_type": "stream",
     "text": [
      "C:\\Users\\Paul\\anaconda3\\lib\\site-packages\\statsmodels\\tsa\\base\\tsa_model.py:581: ValueWarning: A date index has been provided, but it has no associated frequency information and so will be ignored when e.g. forecasting.\n",
      "  warnings.warn('A date index has been provided, but it has no'\n",
      "C:\\Users\\Paul\\anaconda3\\lib\\site-packages\\statsmodels\\tsa\\base\\tsa_model.py:581: ValueWarning: A date index has been provided, but it has no associated frequency information and so will be ignored when e.g. forecasting.\n",
      "  warnings.warn('A date index has been provided, but it has no'\n"
     ]
    },
    {
     "name": "stdout",
     "output_type": "stream",
     "text": [
      "            prediction  actual  error       mse   rmse\n",
      "Date                                                  \n",
      "2021-02-01   33.071760    41.0  -7.93   62.8849   7.93\n",
      "2021-02-02   36.354484    44.0  -7.65   58.5225   7.65\n",
      "2021-02-03   40.111717    35.0   5.11   26.1121   5.11\n",
      "2021-02-04   35.687521    20.0  15.69  246.1761  15.69\n",
      "2021-02-05   31.638784    21.0  10.64  113.2096  10.64\n",
      "...                ...     ...    ...       ...    ...\n",
      "2021-04-07   34.987053    35.0  -0.01    0.0001   0.01\n",
      "2021-04-08   32.117826    40.0  -7.88   62.0944   7.88\n",
      "2021-04-09   37.165620    22.0  15.17  230.1289  15.17\n",
      "2021-04-10   32.981981    36.0  -3.02    9.1204   3.02\n",
      "2021-04-11   34.465740    30.0   4.47   19.9809   4.47\n",
      "\n",
      "[70 rows x 5 columns]\n"
     ]
    },
    {
     "name": "stderr",
     "output_type": "stream",
     "text": [
      "C:\\Users\\Paul\\anaconda3\\lib\\site-packages\\statsmodels\\tsa\\base\\tsa_model.py:581: ValueWarning: A date index has been provided, but it has no associated frequency information and so will be ignored when e.g. forecasting.\n",
      "  warnings.warn('A date index has been provided, but it has no'\n",
      "C:\\Users\\Paul\\anaconda3\\lib\\site-packages\\statsmodels\\tsa\\base\\tsa_model.py:581: ValueWarning: A date index has been provided, but it has no associated frequency information and so will be ignored when e.g. forecasting.\n",
      "  warnings.warn('A date index has been provided, but it has no'\n"
     ]
    },
    {
     "name": "stdout",
     "output_type": "stream",
     "text": [
      "            prediction  actual  error      mse  rmse\n",
      "Date                                                \n",
      "2021-02-01    7.639640     9.0  -1.36   1.8496  1.36\n",
      "2021-02-02    7.656745     8.0  -0.34   0.1156  0.34\n",
      "2021-02-03    7.711498    11.0  -3.29  10.8241  3.29\n",
      "2021-02-04    8.015008     7.0   1.02   1.0404  1.02\n",
      "2021-02-05    7.906733     9.0  -1.09   1.1881  1.09\n",
      "...                ...     ...    ...      ...   ...\n",
      "2021-04-07    6.741209     7.0  -0.26   0.0676  0.26\n",
      "2021-04-08    6.698435     8.0  -1.30   1.6900  1.30\n",
      "2021-04-09    7.007818     8.0  -0.99   0.9801  0.99\n",
      "2021-04-10    6.454253     6.0   0.45   0.2025  0.45\n",
      "2021-04-11    6.520486     6.0   0.52   0.2704  0.52\n",
      "\n",
      "[70 rows x 5 columns]\n"
     ]
    },
    {
     "name": "stderr",
     "output_type": "stream",
     "text": [
      "C:\\Users\\Paul\\anaconda3\\lib\\site-packages\\statsmodels\\tsa\\base\\tsa_model.py:581: ValueWarning: A date index has been provided, but it has no associated frequency information and so will be ignored when e.g. forecasting.\n",
      "  warnings.warn('A date index has been provided, but it has no'\n",
      "C:\\Users\\Paul\\anaconda3\\lib\\site-packages\\statsmodels\\tsa\\base\\tsa_model.py:581: ValueWarning: A date index has been provided, but it has no associated frequency information and so will be ignored when e.g. forecasting.\n",
      "  warnings.warn('A date index has been provided, but it has no'\n"
     ]
    },
    {
     "name": "stdout",
     "output_type": "stream",
     "text": [
      "            prediction  actual  error      mse  rmse\n",
      "Date                                                \n",
      "2021-02-01    9.043296     8.0   1.04   1.0816  1.04\n",
      "2021-02-02    8.686198     7.0   1.69   2.8561  1.69\n",
      "2021-02-03   11.293665    12.0  -0.71   0.5041  0.71\n",
      "2021-02-04    8.523884     8.0   0.52   0.2704  0.52\n",
      "2021-02-05    6.644859     5.0   1.64   2.6896  1.64\n",
      "...                ...     ...    ...      ...   ...\n",
      "2021-04-07    8.082197     6.0   2.08   4.3264  2.08\n",
      "2021-04-08    9.061119     4.0   5.06  25.6036  5.06\n",
      "2021-04-09    2.100925     2.0   0.10   0.0100  0.10\n",
      "2021-04-10    5.101959     6.0  -0.90   0.8100  0.90\n",
      "2021-04-11    7.724691     7.0   0.72   0.5184  0.72\n",
      "\n",
      "[70 rows x 5 columns]\n"
     ]
    },
    {
     "name": "stderr",
     "output_type": "stream",
     "text": [
      "C:\\Users\\Paul\\anaconda3\\lib\\site-packages\\statsmodels\\tsa\\base\\tsa_model.py:581: ValueWarning: A date index has been provided, but it has no associated frequency information and so will be ignored when e.g. forecasting.\n",
      "  warnings.warn('A date index has been provided, but it has no'\n",
      "C:\\Users\\Paul\\anaconda3\\lib\\site-packages\\statsmodels\\tsa\\base\\tsa_model.py:581: ValueWarning: A date index has been provided, but it has no associated frequency information and so will be ignored when e.g. forecasting.\n",
      "  warnings.warn('A date index has been provided, but it has no'\n"
     ]
    },
    {
     "name": "stdout",
     "output_type": "stream",
     "text": [
      "            prediction  actual  error      mse  rmse\n",
      "Date                                                \n",
      "2021-02-01   24.594175    18.0   6.59  43.4281  6.59\n",
      "2021-02-02   23.156227    25.0  -1.84   3.3856  1.84\n",
      "2021-02-03   24.048671    19.0   5.05  25.5025  5.05\n",
      "2021-02-04   23.478867    18.0   5.48  30.0304  5.48\n",
      "2021-02-05   21.956684    16.0   5.96  35.5216  5.96\n",
      "...                ...     ...    ...      ...   ...\n",
      "2021-04-07   11.282311    14.0  -2.72   7.3984  2.72\n",
      "2021-04-08   13.032587    19.0  -5.97  35.6409  5.97\n",
      "2021-04-09   14.602505    14.0   0.60   0.3600  0.60\n",
      "2021-04-10   11.958066     5.0   6.96  48.4416  6.96\n",
      "2021-04-11   11.946231     9.0   2.95   8.7025  2.95\n",
      "\n",
      "[70 rows x 5 columns]\n"
     ]
    },
    {
     "name": "stderr",
     "output_type": "stream",
     "text": [
      "C:\\Users\\Paul\\anaconda3\\lib\\site-packages\\statsmodels\\tsa\\base\\tsa_model.py:581: ValueWarning: A date index has been provided, but it has no associated frequency information and so will be ignored when e.g. forecasting.\n",
      "  warnings.warn('A date index has been provided, but it has no'\n",
      "C:\\Users\\Paul\\anaconda3\\lib\\site-packages\\statsmodels\\tsa\\base\\tsa_model.py:581: ValueWarning: A date index has been provided, but it has no associated frequency information and so will be ignored when e.g. forecasting.\n",
      "  warnings.warn('A date index has been provided, but it has no'\n"
     ]
    },
    {
     "name": "stdout",
     "output_type": "stream",
     "text": [
      "            prediction  actual  error      mse  rmse\n",
      "Date                                                \n",
      "2021-02-01   21.990017    31.0  -9.01  81.1801  9.01\n",
      "2021-02-02   25.463127    26.0  -0.54   0.2916  0.54\n",
      "2021-02-03   25.168266    23.0   2.17   4.7089  2.17\n",
      "2021-02-04   26.311362    18.0   8.31  69.0561  8.31\n",
      "2021-02-05   22.619231    20.0   2.62   6.8644  2.62\n",
      "...                ...     ...    ...      ...   ...\n",
      "2021-04-07    6.104512     4.0   2.10   4.4100  2.10\n",
      "2021-04-08    4.900090     6.0  -1.10   1.2100  1.10\n",
      "2021-04-09    6.007033     7.0  -0.99   0.9801  0.99\n",
      "2021-04-10    7.096743     6.0   1.10   1.2100  1.10\n",
      "2021-04-11    6.728741     7.0  -0.27   0.0729  0.27\n",
      "\n",
      "[70 rows x 5 columns]\n"
     ]
    },
    {
     "name": "stderr",
     "output_type": "stream",
     "text": [
      "C:\\Users\\Paul\\anaconda3\\lib\\site-packages\\statsmodels\\tsa\\base\\tsa_model.py:581: ValueWarning: A date index has been provided, but it has no associated frequency information and so will be ignored when e.g. forecasting.\n",
      "  warnings.warn('A date index has been provided, but it has no'\n",
      "C:\\Users\\Paul\\anaconda3\\lib\\site-packages\\statsmodels\\tsa\\base\\tsa_model.py:581: ValueWarning: A date index has been provided, but it has no associated frequency information and so will be ignored when e.g. forecasting.\n",
      "  warnings.warn('A date index has been provided, but it has no'\n"
     ]
    },
    {
     "name": "stdout",
     "output_type": "stream",
     "text": [
      "            prediction  actual  error       mse   rmse\n",
      "Date                                                  \n",
      "2021-02-01   19.865779     5.0  14.87  221.1169  14.87\n",
      "2021-02-02   14.850655    19.0  -4.15   17.2225   4.15\n",
      "2021-02-03   15.971397    25.0  -9.03   81.5409   9.03\n",
      "2021-02-04   19.218239    18.0   1.22    1.4884   1.22\n",
      "2021-02-05   18.537596    12.0   6.54   42.7716   6.54\n",
      "...                ...     ...    ...       ...    ...\n",
      "2021-04-07   13.432980    16.0  -2.57    6.6049   2.57\n",
      "2021-04-08   14.366752    13.0   1.37    1.8769   1.37\n",
      "2021-04-09   13.299630    13.0   0.30    0.0900   0.30\n",
      "2021-04-10   15.263351    11.0   4.26   18.1476   4.26\n",
      "2021-04-11   12.609080     6.0   6.61   43.6921   6.61\n",
      "\n",
      "[70 rows x 5 columns]\n"
     ]
    },
    {
     "name": "stderr",
     "output_type": "stream",
     "text": [
      "C:\\Users\\Paul\\anaconda3\\lib\\site-packages\\statsmodels\\tsa\\base\\tsa_model.py:581: ValueWarning: A date index has been provided, but it has no associated frequency information and so will be ignored when e.g. forecasting.\n",
      "  warnings.warn('A date index has been provided, but it has no'\n",
      "C:\\Users\\Paul\\anaconda3\\lib\\site-packages\\statsmodels\\tsa\\base\\tsa_model.py:581: ValueWarning: A date index has been provided, but it has no associated frequency information and so will be ignored when e.g. forecasting.\n",
      "  warnings.warn('A date index has been provided, but it has no'\n"
     ]
    },
    {
     "name": "stdout",
     "output_type": "stream",
     "text": [
      "            prediction  actual  error       mse   rmse\n",
      "Date                                                  \n",
      "2021-02-01   20.335709    17.0   3.34   11.1556   3.34\n",
      "2021-02-02   18.894013    19.0  -0.11    0.0121   0.11\n",
      "2021-02-03   17.240685    28.0 -10.76  115.7776  10.76\n",
      "2021-02-04   21.773302    11.0  10.77  115.9929  10.77\n",
      "2021-02-05   18.554996    10.0   8.55   73.1025   8.55\n",
      "...                ...     ...    ...       ...    ...\n",
      "2021-04-07   13.761044    14.0  -0.24    0.0576   0.24\n",
      "2021-04-08   14.722326    16.0  -1.28    1.6384   1.28\n",
      "2021-04-09   14.001935    11.0   3.00    9.0000   3.00\n",
      "2021-04-10   11.691610    14.0  -2.31    5.3361   2.31\n",
      "2021-04-11   13.217868    12.0   1.22    1.4884   1.22\n",
      "\n",
      "[70 rows x 5 columns]\n"
     ]
    },
    {
     "name": "stderr",
     "output_type": "stream",
     "text": [
      "C:\\Users\\Paul\\anaconda3\\lib\\site-packages\\statsmodels\\tsa\\base\\tsa_model.py:581: ValueWarning: A date index has been provided, but it has no associated frequency information and so will be ignored when e.g. forecasting.\n",
      "  warnings.warn('A date index has been provided, but it has no'\n",
      "C:\\Users\\Paul\\anaconda3\\lib\\site-packages\\statsmodels\\tsa\\base\\tsa_model.py:581: ValueWarning: A date index has been provided, but it has no associated frequency information and so will be ignored when e.g. forecasting.\n",
      "  warnings.warn('A date index has been provided, but it has no'\n"
     ]
    },
    {
     "name": "stdout",
     "output_type": "stream",
     "text": [
      "            prediction  actual  error     mse  rmse\n",
      "Date                                               \n",
      "2021-02-01    9.171425     9.0   0.17  0.0289  0.17\n",
      "2021-02-02    9.022190    10.0  -0.98  0.9604  0.98\n",
      "2021-02-03    9.203350     9.0   0.20  0.0400  0.20\n",
      "2021-02-04    8.972020     8.0   0.97  0.9409  0.97\n",
      "2021-02-05    8.795326     9.0  -0.20  0.0400  0.20\n",
      "...                ...     ...    ...     ...   ...\n",
      "2021-04-07    9.588825    10.0  -0.41  0.1681  0.41\n",
      "2021-04-08    9.519964     9.0   0.52  0.2704  0.52\n",
      "2021-04-09    9.405228    10.0  -0.59  0.3481  0.59\n",
      "2021-04-10    9.574763     9.0   0.57  0.3249  0.57\n",
      "2021-04-11    9.877482     9.0   0.88  0.7744  0.88\n",
      "\n",
      "[70 rows x 5 columns]\n"
     ]
    },
    {
     "name": "stderr",
     "output_type": "stream",
     "text": [
      "C:\\Users\\Paul\\anaconda3\\lib\\site-packages\\statsmodels\\tsa\\base\\tsa_model.py:581: ValueWarning: A date index has been provided, but it has no associated frequency information and so will be ignored when e.g. forecasting.\n",
      "  warnings.warn('A date index has been provided, but it has no'\n",
      "C:\\Users\\Paul\\anaconda3\\lib\\site-packages\\statsmodels\\tsa\\base\\tsa_model.py:581: ValueWarning: A date index has been provided, but it has no associated frequency information and so will be ignored when e.g. forecasting.\n",
      "  warnings.warn('A date index has been provided, but it has no'\n"
     ]
    },
    {
     "name": "stdout",
     "output_type": "stream",
     "text": [
      "            prediction  actual  error       mse   rmse\n",
      "Date                                                  \n",
      "2021-02-01   37.344948    26.0  11.34  128.5956  11.34\n",
      "2021-02-02   32.832953    27.0   5.83   33.9889   5.83\n",
      "2021-02-03   29.881722    27.0   2.88    8.2944   2.88\n",
      "2021-02-04   29.643290    24.0   5.64   31.8096   5.64\n",
      "2021-02-05   26.103423    25.0   1.10    1.2100   1.10\n",
      "...                ...     ...    ...       ...    ...\n",
      "2021-04-07   35.647678    32.0   3.65   13.3225   3.65\n",
      "2021-04-08   35.075594    30.0   5.08   25.8064   5.08\n",
      "2021-04-09   34.465299    30.0   4.47   19.9809   4.47\n",
      "2021-04-10   30.911359    31.0  -0.09    0.0081   0.09\n",
      "2021-04-11   31.513975    33.0  -1.49    2.2201   1.49\n",
      "\n",
      "[70 rows x 5 columns]\n"
     ]
    },
    {
     "name": "stderr",
     "output_type": "stream",
     "text": [
      "C:\\Users\\Paul\\anaconda3\\lib\\site-packages\\statsmodels\\tsa\\base\\tsa_model.py:581: ValueWarning: A date index has been provided, but it has no associated frequency information and so will be ignored when e.g. forecasting.\n",
      "  warnings.warn('A date index has been provided, but it has no'\n",
      "C:\\Users\\Paul\\anaconda3\\lib\\site-packages\\statsmodels\\tsa\\base\\tsa_model.py:581: ValueWarning: A date index has been provided, but it has no associated frequency information and so will be ignored when e.g. forecasting.\n",
      "  warnings.warn('A date index has been provided, but it has no'\n"
     ]
    },
    {
     "name": "stdout",
     "output_type": "stream",
     "text": [
      "            prediction  actual  error      mse  rmse\n",
      "Date                                                \n",
      "2021-02-01   16.009875    25.0  -8.99  80.8201  8.99\n",
      "2021-02-02   18.931644    16.0   2.93   8.5849  2.93\n",
      "2021-02-03   15.808269    15.0   0.81   0.6561  0.81\n",
      "2021-02-04   16.786837    14.0   2.79   7.7841  2.79\n",
      "2021-02-05   15.109448    16.0  -0.89   0.7921  0.89\n",
      "...                ...     ...    ...      ...   ...\n",
      "2021-04-07    8.681739    13.0  -4.32  18.6624  4.32\n",
      "2021-04-08   11.428558    13.0  -1.57   2.4649  1.57\n",
      "2021-04-09   12.563799    16.0  -3.44  11.8336  3.44\n",
      "2021-04-10   13.333157    15.0  -1.67   2.7889  1.67\n",
      "2021-04-11   15.857088    16.0  -0.14   0.0196  0.14\n",
      "\n",
      "[70 rows x 5 columns]\n"
     ]
    },
    {
     "name": "stderr",
     "output_type": "stream",
     "text": [
      "C:\\Users\\Paul\\anaconda3\\lib\\site-packages\\statsmodels\\tsa\\base\\tsa_model.py:581: ValueWarning: A date index has been provided, but it has no associated frequency information and so will be ignored when e.g. forecasting.\n",
      "  warnings.warn('A date index has been provided, but it has no'\n",
      "C:\\Users\\Paul\\anaconda3\\lib\\site-packages\\statsmodels\\tsa\\base\\tsa_model.py:581: ValueWarning: A date index has been provided, but it has no associated frequency information and so will be ignored when e.g. forecasting.\n",
      "  warnings.warn('A date index has been provided, but it has no'\n"
     ]
    },
    {
     "name": "stdout",
     "output_type": "stream",
     "text": [
      "            prediction  actual  error       mse   rmse\n",
      "Date                                                  \n",
      "2021-02-01   37.382245    51.0 -13.62  185.5044  13.62\n",
      "2021-02-02   38.972837    40.0  -1.03    1.0609   1.03\n",
      "2021-02-03   41.387692    43.0  -1.61    2.5921   1.61\n",
      "2021-02-04   41.514900    31.0  10.51  110.4601  10.51\n",
      "2021-02-05   37.020292    37.0   0.02    0.0004   0.02\n",
      "...                ...     ...    ...       ...    ...\n",
      "2021-04-07   26.179734    27.0  -0.82    0.6724   0.82\n",
      "2021-04-08   22.602778    26.0  -3.40   11.5600   3.40\n",
      "2021-04-09   24.404009    26.0  -1.60    2.5600   1.60\n",
      "2021-04-10   25.883344    23.0   2.88    8.2944   2.88\n",
      "2021-04-11   25.343185    18.0   7.34   53.8756   7.34\n",
      "\n",
      "[70 rows x 5 columns]\n"
     ]
    },
    {
     "name": "stderr",
     "output_type": "stream",
     "text": [
      "C:\\Users\\Paul\\anaconda3\\lib\\site-packages\\statsmodels\\tsa\\base\\tsa_model.py:581: ValueWarning: A date index has been provided, but it has no associated frequency information and so will be ignored when e.g. forecasting.\n",
      "  warnings.warn('A date index has been provided, but it has no'\n",
      "C:\\Users\\Paul\\anaconda3\\lib\\site-packages\\statsmodels\\tsa\\base\\tsa_model.py:581: ValueWarning: A date index has been provided, but it has no associated frequency information and so will be ignored when e.g. forecasting.\n",
      "  warnings.warn('A date index has been provided, but it has no'\n"
     ]
    },
    {
     "name": "stdout",
     "output_type": "stream",
     "text": [
      "            prediction  actual  error       mse   rmse\n",
      "Date                                                  \n",
      "2021-02-01   17.248801    16.0   1.25    1.5625   1.25\n",
      "2021-02-02   18.089710    23.0  -4.91   24.1081   4.91\n",
      "2021-02-03   20.322028    25.0  -4.68   21.9024   4.68\n",
      "2021-02-04   21.422425    15.0   6.42   41.2164   6.42\n",
      "2021-02-05   20.263892     9.0  11.26  126.7876  11.26\n",
      "...                ...     ...    ...       ...    ...\n",
      "2021-04-07    8.121257     9.0  -0.88    0.7744   0.88\n",
      "2021-04-08    6.389642     9.0  -2.61    6.8121   2.61\n",
      "2021-04-09    8.814013    11.0  -2.19    4.7961   2.19\n",
      "2021-04-10    9.371687    11.0  -1.63    2.6569   1.63\n",
      "2021-04-11   10.363535     6.0   4.36   19.0096   4.36\n",
      "\n",
      "[70 rows x 5 columns]\n"
     ]
    },
    {
     "name": "stderr",
     "output_type": "stream",
     "text": [
      "C:\\Users\\Paul\\anaconda3\\lib\\site-packages\\statsmodels\\tsa\\base\\tsa_model.py:581: ValueWarning: A date index has been provided, but it has no associated frequency information and so will be ignored when e.g. forecasting.\n",
      "  warnings.warn('A date index has been provided, but it has no'\n",
      "C:\\Users\\Paul\\anaconda3\\lib\\site-packages\\statsmodels\\tsa\\base\\tsa_model.py:581: ValueWarning: A date index has been provided, but it has no associated frequency information and so will be ignored when e.g. forecasting.\n",
      "  warnings.warn('A date index has been provided, but it has no'\n"
     ]
    },
    {
     "name": "stdout",
     "output_type": "stream",
     "text": [
      "            prediction  actual  error       mse   rmse\n",
      "Date                                                  \n",
      "2021-02-01   20.393086     6.0  14.39  207.0721  14.39\n",
      "2021-02-02   12.812127     7.0   5.81   33.7561   5.81\n",
      "2021-02-03   12.243714    19.0  -6.76   45.6976   6.76\n",
      "2021-02-04   15.482233    17.0  -1.52    2.3104   1.52\n",
      "2021-02-05   13.219342    13.0   0.22    0.0484   0.22\n",
      "...                ...     ...    ...       ...    ...\n",
      "2021-04-07   12.768382     9.0   3.77   14.2129   3.77\n",
      "2021-04-08   10.915702    10.0   0.92    0.8464   0.92\n",
      "2021-04-09    9.420284     9.0   0.42    0.1764   0.42\n",
      "2021-04-10   10.838712    10.0   0.84    0.7056   0.84\n",
      "2021-04-11   11.637393    15.0  -3.36   11.2896   3.36\n",
      "\n",
      "[70 rows x 5 columns]\n"
     ]
    },
    {
     "name": "stderr",
     "output_type": "stream",
     "text": [
      "C:\\Users\\Paul\\anaconda3\\lib\\site-packages\\statsmodels\\tsa\\base\\tsa_model.py:581: ValueWarning: A date index has been provided, but it has no associated frequency information and so will be ignored when e.g. forecasting.\n",
      "  warnings.warn('A date index has been provided, but it has no'\n",
      "C:\\Users\\Paul\\anaconda3\\lib\\site-packages\\statsmodels\\tsa\\base\\tsa_model.py:581: ValueWarning: A date index has been provided, but it has no associated frequency information and so will be ignored when e.g. forecasting.\n",
      "  warnings.warn('A date index has been provided, but it has no'\n"
     ]
    },
    {
     "name": "stdout",
     "output_type": "stream",
     "text": [
      "            prediction  actual  error      mse  rmse\n",
      "Date                                                \n",
      "2021-02-01   15.771405    14.0   1.77   3.1329  1.77\n",
      "2021-02-02   15.558392    12.0   3.56  12.6736  3.56\n",
      "2021-02-03   13.320796    13.0   0.32   0.1024  0.32\n",
      "2021-02-04   13.105487     8.0   5.11  26.1121  5.11\n",
      "2021-02-05   13.295103     9.0   4.30  18.4900  4.30\n",
      "...                ...     ...    ...      ...   ...\n",
      "2021-04-07    6.998802     6.0   1.00   1.0000  1.00\n",
      "2021-04-08    5.982801     9.0  -3.02   9.1204  3.02\n",
      "2021-04-09    7.734668     6.0   1.73   2.9929  1.73\n",
      "2021-04-10    7.582066     6.0   1.58   2.4964  1.58\n",
      "2021-04-11    8.085687    13.0  -4.91  24.1081  4.91\n",
      "\n",
      "[70 rows x 5 columns]\n"
     ]
    },
    {
     "name": "stderr",
     "output_type": "stream",
     "text": [
      "C:\\Users\\Paul\\anaconda3\\lib\\site-packages\\statsmodels\\tsa\\base\\tsa_model.py:581: ValueWarning: A date index has been provided, but it has no associated frequency information and so will be ignored when e.g. forecasting.\n",
      "  warnings.warn('A date index has been provided, but it has no'\n",
      "C:\\Users\\Paul\\anaconda3\\lib\\site-packages\\statsmodels\\tsa\\base\\tsa_model.py:581: ValueWarning: A date index has been provided, but it has no associated frequency information and so will be ignored when e.g. forecasting.\n",
      "  warnings.warn('A date index has been provided, but it has no'\n"
     ]
    },
    {
     "name": "stdout",
     "output_type": "stream",
     "text": [
      "            prediction  actual  error       mse   rmse\n",
      "Date                                                  \n",
      "2021-02-01   57.776935    61.0  -3.22   10.3684   3.22\n",
      "2021-02-02   59.678021    50.0   9.68   93.7024   9.68\n",
      "2021-02-03   54.607570    54.0   0.61    0.3721   0.61\n",
      "2021-02-04   52.903237    64.0 -11.10  123.2100  11.10\n",
      "2021-02-05   59.471647    48.0  11.47  131.5609  11.47\n",
      "...                ...     ...    ...       ...    ...\n",
      "2021-04-07   52.632610    59.0  -6.37   40.5769   6.37\n",
      "2021-04-08   54.492025    53.0   1.49    2.2201   1.49\n",
      "2021-04-09   53.873904    52.0   1.87    3.4969   1.87\n",
      "2021-04-10   51.347499    41.0  10.35  107.1225  10.35\n",
      "2021-04-11   48.404701    57.0  -8.60   73.9600   8.60\n",
      "\n",
      "[70 rows x 5 columns]\n"
     ]
    },
    {
     "name": "stderr",
     "output_type": "stream",
     "text": [
      "C:\\Users\\Paul\\anaconda3\\lib\\site-packages\\statsmodels\\tsa\\base\\tsa_model.py:581: ValueWarning: A date index has been provided, but it has no associated frequency information and so will be ignored when e.g. forecasting.\n",
      "  warnings.warn('A date index has been provided, but it has no'\n",
      "C:\\Users\\Paul\\anaconda3\\lib\\site-packages\\statsmodels\\tsa\\base\\tsa_model.py:581: ValueWarning: A date index has been provided, but it has no associated frequency information and so will be ignored when e.g. forecasting.\n",
      "  warnings.warn('A date index has been provided, but it has no'\n"
     ]
    },
    {
     "name": "stdout",
     "output_type": "stream",
     "text": [
      "            prediction  actual  error      mse  rmse\n",
      "Date                                                \n",
      "2021-02-01   16.528432    25.0  -8.47  71.7409  8.47\n",
      "2021-02-02   19.371067    15.0   4.37  19.0969  4.37\n",
      "2021-02-03   18.162035    22.0  -3.84  14.7456  3.84\n",
      "2021-02-04   19.782229    11.0   8.78  77.0884  8.78\n",
      "2021-02-05   16.190884    15.0   1.19   1.4161  1.19\n",
      "...                ...     ...    ...      ...   ...\n",
      "2021-04-07    9.349069    11.0  -1.65   2.7225  1.65\n",
      "2021-04-08    9.733469    13.0  -3.27  10.6929  3.27\n",
      "2021-04-09    9.724766     5.0   4.72  22.2784  4.72\n",
      "2021-04-10    8.368674    10.0  -1.63   2.6569  1.63\n",
      "2021-04-11    9.977194    10.0  -0.02   0.0004  0.02\n",
      "\n",
      "[70 rows x 5 columns]\n"
     ]
    },
    {
     "name": "stderr",
     "output_type": "stream",
     "text": [
      "C:\\Users\\Paul\\anaconda3\\lib\\site-packages\\statsmodels\\tsa\\base\\tsa_model.py:581: ValueWarning: A date index has been provided, but it has no associated frequency information and so will be ignored when e.g. forecasting.\n",
      "  warnings.warn('A date index has been provided, but it has no'\n",
      "C:\\Users\\Paul\\anaconda3\\lib\\site-packages\\statsmodels\\tsa\\base\\tsa_model.py:581: ValueWarning: A date index has been provided, but it has no associated frequency information and so will be ignored when e.g. forecasting.\n",
      "  warnings.warn('A date index has been provided, but it has no'\n"
     ]
    },
    {
     "name": "stdout",
     "output_type": "stream",
     "text": [
      "            prediction  actual  error      mse  rmse\n",
      "Date                                                \n",
      "2021-02-01    9.493005     6.0   3.49  12.1801  3.49\n",
      "2021-02-02    9.102153     8.0   1.10   1.2100  1.10\n",
      "2021-02-03    8.043538     4.0   4.04  16.3216  4.04\n",
      "2021-02-04    7.801439     3.0   4.80  23.0400  4.80\n",
      "2021-02-05    6.835722     3.0   3.84  14.7456  3.84\n",
      "...                ...     ...    ...      ...   ...\n",
      "2021-04-07    2.382979     0.0   2.38   5.6644  2.38\n",
      "2021-04-08    2.286708     3.0  -0.71   0.5041  0.71\n",
      "2021-04-09    3.202551     0.0   3.20  10.2400  3.20\n",
      "2021-04-10    2.251228     0.0   2.25   5.0625  2.25\n",
      "2021-04-11    0.671214     3.0  -2.33   5.4289  2.33\n",
      "\n",
      "[70 rows x 5 columns]\n"
     ]
    },
    {
     "name": "stderr",
     "output_type": "stream",
     "text": [
      "C:\\Users\\Paul\\anaconda3\\lib\\site-packages\\statsmodels\\tsa\\base\\tsa_model.py:581: ValueWarning: A date index has been provided, but it has no associated frequency information and so will be ignored when e.g. forecasting.\n",
      "  warnings.warn('A date index has been provided, but it has no'\n",
      "C:\\Users\\Paul\\anaconda3\\lib\\site-packages\\statsmodels\\tsa\\base\\tsa_model.py:581: ValueWarning: A date index has been provided, but it has no associated frequency information and so will be ignored when e.g. forecasting.\n",
      "  warnings.warn('A date index has been provided, but it has no'\n"
     ]
    },
    {
     "name": "stdout",
     "output_type": "stream",
     "text": [
      "            prediction  actual  error       mse   rmse\n",
      "Date                                                  \n",
      "2021-02-01   29.929775    23.0   6.93   48.0249   6.93\n",
      "2021-02-02   26.934511    19.0   7.93   62.8849   7.93\n",
      "2021-02-03   24.163846    22.0   2.16    4.6656   2.16\n",
      "2021-02-04   23.689999    22.0   1.69    2.8561   1.69\n",
      "2021-02-05   25.341806    11.0  14.34  205.6356  14.34\n",
      "...                ...     ...    ...       ...    ...\n",
      "2021-04-07   18.470624    21.0  -2.53    6.4009   2.53\n",
      "2021-04-08   18.950503    15.0   3.95   15.6025   3.95\n",
      "2021-04-09   19.124784    23.0  -3.88   15.0544   3.88\n",
      "2021-04-10   19.602035    14.0   5.60   31.3600   5.60\n",
      "2021-04-11   18.899969    23.0  -4.10   16.8100   4.10\n",
      "\n",
      "[70 rows x 5 columns]\n"
     ]
    },
    {
     "name": "stderr",
     "output_type": "stream",
     "text": [
      "C:\\Users\\Paul\\anaconda3\\lib\\site-packages\\statsmodels\\tsa\\base\\tsa_model.py:581: ValueWarning: A date index has been provided, but it has no associated frequency information and so will be ignored when e.g. forecasting.\n",
      "  warnings.warn('A date index has been provided, but it has no'\n",
      "C:\\Users\\Paul\\anaconda3\\lib\\site-packages\\statsmodels\\tsa\\base\\tsa_model.py:581: ValueWarning: A date index has been provided, but it has no associated frequency information and so will be ignored when e.g. forecasting.\n",
      "  warnings.warn('A date index has been provided, but it has no'\n"
     ]
    },
    {
     "name": "stdout",
     "output_type": "stream",
     "text": [
      "            prediction  actual  error      mse  rmse\n",
      "Date                                                \n",
      "2021-02-01    0.931996     0.0   0.93   0.8649  0.93\n",
      "2021-02-02    0.680079     0.0   0.68   0.4624  0.68\n",
      "2021-02-03    0.618002     4.0  -3.38  11.4244  3.38\n",
      "2021-02-04    0.238512     0.0   0.24   0.0576  0.24\n",
      "2021-02-05    1.715159     2.0  -0.28   0.0784  0.28\n",
      "...                ...     ...    ...      ...   ...\n",
      "2021-04-07    1.579491     3.0  -1.42   2.0164  1.42\n",
      "2021-04-08    1.365814     0.0   1.37   1.8769  1.37\n",
      "2021-04-09    1.425328     0.0   1.43   2.0449  1.43\n",
      "2021-04-10    2.015603     3.0  -0.98   0.9604  0.98\n",
      "2021-04-11    0.834792     0.0   0.83   0.6889  0.83\n",
      "\n",
      "[70 rows x 5 columns]\n"
     ]
    },
    {
     "name": "stderr",
     "output_type": "stream",
     "text": [
      "C:\\Users\\Paul\\anaconda3\\lib\\site-packages\\statsmodels\\tsa\\base\\tsa_model.py:581: ValueWarning: A date index has been provided, but it has no associated frequency information and so will be ignored when e.g. forecasting.\n",
      "  warnings.warn('A date index has been provided, but it has no'\n",
      "C:\\Users\\Paul\\anaconda3\\lib\\site-packages\\statsmodels\\tsa\\base\\tsa_model.py:581: ValueWarning: A date index has been provided, but it has no associated frequency information and so will be ignored when e.g. forecasting.\n",
      "  warnings.warn('A date index has been provided, but it has no'\n"
     ]
    },
    {
     "name": "stdout",
     "output_type": "stream",
     "text": [
      "            prediction  actual  error      mse  rmse\n",
      "Date                                                \n",
      "2021-02-01   18.072553    16.0   2.07   4.2849  2.07\n",
      "2021-02-02   18.631933     9.0   9.63  92.7369  9.63\n",
      "2021-02-03   14.024494    14.0   0.02   0.0004  0.02\n",
      "2021-02-04   13.717830    15.0  -1.28   1.6384  1.28\n",
      "2021-02-05   16.267794    15.0   1.27   1.6129  1.27\n",
      "...                ...     ...    ...      ...   ...\n",
      "2021-04-07   10.410603    14.0  -3.59  12.8881  3.59\n",
      "2021-04-08   10.282964    10.0   0.28   0.0784  0.28\n",
      "2021-04-09   12.098667    20.0  -7.90  62.4100  7.90\n",
      "2021-04-10   12.485260     7.0   5.49  30.1401  5.49\n",
      "2021-04-11   11.398472    16.0  -4.60  21.1600  4.60\n",
      "\n",
      "[70 rows x 5 columns]\n"
     ]
    },
    {
     "name": "stderr",
     "output_type": "stream",
     "text": [
      "C:\\Users\\Paul\\anaconda3\\lib\\site-packages\\statsmodels\\tsa\\base\\tsa_model.py:581: ValueWarning: A date index has been provided, but it has no associated frequency information and so will be ignored when e.g. forecasting.\n",
      "  warnings.warn('A date index has been provided, but it has no'\n",
      "C:\\Users\\Paul\\anaconda3\\lib\\site-packages\\statsmodels\\tsa\\base\\tsa_model.py:581: ValueWarning: A date index has been provided, but it has no associated frequency information and so will be ignored when e.g. forecasting.\n",
      "  warnings.warn('A date index has been provided, but it has no'\n"
     ]
    },
    {
     "name": "stdout",
     "output_type": "stream",
     "text": [
      "            prediction  actual  error       mse   rmse\n",
      "Date                                                  \n",
      "2021-02-01   11.769313    17.0  -5.23   27.3529   5.23\n",
      "2021-02-02   15.380196    14.0   1.38    1.9044   1.38\n",
      "2021-02-03   15.549492    11.0   4.55   20.7025   4.55\n",
      "2021-02-04   14.236188     7.0   7.24   52.4176   7.24\n",
      "2021-02-05   11.207662    12.0  -0.79    0.6241   0.79\n",
      "...                ...     ...    ...       ...    ...\n",
      "2021-04-07    9.476558    23.0 -13.52  182.7904  13.52\n",
      "2021-04-08   13.032893     7.0   6.03   36.3609   6.03\n",
      "2021-04-09    9.921748    16.0  -6.08   36.9664   6.08\n",
      "2021-04-10   11.634891    17.0  -5.37   28.8369   5.37\n",
      "2021-04-11   13.798376    22.0  -8.20   67.2400   8.20\n",
      "\n",
      "[70 rows x 5 columns]\n"
     ]
    },
    {
     "name": "stderr",
     "output_type": "stream",
     "text": [
      "C:\\Users\\Paul\\anaconda3\\lib\\site-packages\\statsmodels\\tsa\\base\\tsa_model.py:581: ValueWarning: A date index has been provided, but it has no associated frequency information and so will be ignored when e.g. forecasting.\n",
      "  warnings.warn('A date index has been provided, but it has no'\n",
      "C:\\Users\\Paul\\anaconda3\\lib\\site-packages\\statsmodels\\tsa\\base\\tsa_model.py:581: ValueWarning: A date index has been provided, but it has no associated frequency information and so will be ignored when e.g. forecasting.\n",
      "  warnings.warn('A date index has been provided, but it has no'\n"
     ]
    },
    {
     "name": "stdout",
     "output_type": "stream",
     "text": [
      "            prediction  actual  error      mse  rmse\n",
      "Date                                                \n",
      "2021-02-01   31.982916    32.0  -0.02   0.0004  0.02\n",
      "2021-02-02   33.266580    28.0   5.27  27.7729  5.27\n",
      "2021-02-03   28.644881    26.0   2.64   6.9696  2.64\n",
      "2021-02-04   27.496799    19.0   8.50  72.2500  8.50\n",
      "2021-02-05   21.098793    23.0  -1.90   3.6100  1.90\n",
      "...                ...     ...    ...      ...   ...\n",
      "2021-04-07    8.890548     8.0   0.89   0.7921  0.89\n",
      "2021-04-08    7.516360     8.0  -0.48   0.2304  0.48\n",
      "2021-04-09    7.371515     8.0  -0.63   0.3969  0.63\n",
      "2021-04-10    7.712884     8.0  -0.29   0.0841  0.29\n",
      "2021-04-11    8.775205     8.0   0.78   0.6084  0.78\n",
      "\n",
      "[70 rows x 5 columns]\n"
     ]
    },
    {
     "name": "stderr",
     "output_type": "stream",
     "text": [
      "C:\\Users\\Paul\\anaconda3\\lib\\site-packages\\statsmodels\\tsa\\base\\tsa_model.py:581: ValueWarning: A date index has been provided, but it has no associated frequency information and so will be ignored when e.g. forecasting.\n",
      "  warnings.warn('A date index has been provided, but it has no'\n",
      "C:\\Users\\Paul\\anaconda3\\lib\\site-packages\\statsmodels\\tsa\\base\\tsa_model.py:581: ValueWarning: A date index has been provided, but it has no associated frequency information and so will be ignored when e.g. forecasting.\n",
      "  warnings.warn('A date index has been provided, but it has no'\n"
     ]
    },
    {
     "name": "stdout",
     "output_type": "stream",
     "text": [
      "            prediction  actual  error       mse   rmse\n",
      "Date                                                  \n",
      "2021-02-01   22.930565    21.0   1.93    3.7249   1.93\n",
      "2021-02-02   21.371655    16.0   5.37   28.8369   5.37\n",
      "2021-02-03   17.740580    27.0  -9.26   85.7476   9.26\n",
      "2021-02-04   22.903057    12.0  10.90  118.8100  10.90\n",
      "2021-02-05   17.978607    15.0   2.98    8.8804   2.98\n",
      "...                ...     ...    ...       ...    ...\n",
      "2021-04-07    9.527785     8.0   1.53    2.3409   1.53\n",
      "2021-04-08    7.440222    10.0  -2.56    6.5536   2.56\n",
      "2021-04-09    9.598630    10.0  -0.40    0.1600   0.40\n",
      "2021-04-10   10.277135    15.0  -4.72   22.2784   4.72\n",
      "2021-04-11   13.656782     9.0   4.66   21.7156   4.66\n",
      "\n",
      "[70 rows x 5 columns]\n"
     ]
    },
    {
     "name": "stderr",
     "output_type": "stream",
     "text": [
      "C:\\Users\\Paul\\anaconda3\\lib\\site-packages\\statsmodels\\tsa\\base\\tsa_model.py:581: ValueWarning: A date index has been provided, but it has no associated frequency information and so will be ignored when e.g. forecasting.\n",
      "  warnings.warn('A date index has been provided, but it has no'\n",
      "C:\\Users\\Paul\\anaconda3\\lib\\site-packages\\statsmodels\\tsa\\base\\tsa_model.py:581: ValueWarning: A date index has been provided, but it has no associated frequency information and so will be ignored when e.g. forecasting.\n",
      "  warnings.warn('A date index has been provided, but it has no'\n"
     ]
    },
    {
     "name": "stdout",
     "output_type": "stream",
     "text": [
      "            prediction  actual  error      mse  rmse\n",
      "Date                                                \n",
      "2021-02-01   17.641362    13.0   4.64  21.5296  4.64\n",
      "2021-02-02   16.975358    13.0   3.98  15.8404  3.98\n",
      "2021-02-03   15.670444    13.0   2.67   7.1289  2.67\n",
      "2021-02-04   14.295058    13.0   1.30   1.6900  1.30\n",
      "2021-02-05   13.398778    12.0   1.40   1.9600  1.40\n",
      "...                ...     ...    ...      ...   ...\n",
      "2021-04-07    2.987658     4.0  -1.01   1.0201  1.01\n",
      "2021-04-08    2.854941     8.0  -5.15  26.5225  5.15\n",
      "2021-04-09    3.679676     3.0   0.68   0.4624  0.68\n",
      "2021-04-10    4.335706     5.0  -0.66   0.4356  0.66\n",
      "2021-04-11    4.054858     3.0   1.05   1.1025  1.05\n",
      "\n",
      "[70 rows x 5 columns]\n"
     ]
    },
    {
     "name": "stderr",
     "output_type": "stream",
     "text": [
      "C:\\Users\\Paul\\anaconda3\\lib\\site-packages\\statsmodels\\tsa\\base\\tsa_model.py:581: ValueWarning: A date index has been provided, but it has no associated frequency information and so will be ignored when e.g. forecasting.\n",
      "  warnings.warn('A date index has been provided, but it has no'\n",
      "C:\\Users\\Paul\\anaconda3\\lib\\site-packages\\statsmodels\\tsa\\base\\tsa_model.py:581: ValueWarning: A date index has been provided, but it has no associated frequency information and so will be ignored when e.g. forecasting.\n",
      "  warnings.warn('A date index has been provided, but it has no'\n"
     ]
    },
    {
     "name": "stdout",
     "output_type": "stream",
     "text": [
      "            prediction  actual  error       mse   rmse\n",
      "Date                                                  \n",
      "2021-02-01   20.056137    20.0   0.06    0.0036   0.06\n",
      "2021-02-02   19.342195    12.0   7.34   53.8756   7.34\n",
      "2021-02-03   18.125668    16.0   2.13    4.5369   2.13\n",
      "2021-02-04   19.052420    15.0   4.05   16.4025   4.05\n",
      "2021-02-05   17.495020    12.0   5.50   30.2500   5.50\n",
      "...                ...     ...    ...       ...    ...\n",
      "2021-04-07   14.764281    22.0  -7.24   52.4176   7.24\n",
      "2021-04-08   17.038697    21.0  -3.96   15.6816   3.96\n",
      "2021-04-09   15.773312    14.0   1.77    3.1329   1.77\n",
      "2021-04-10   19.611908    32.0 -12.39  153.5121  12.39\n",
      "2021-04-11   19.922447    17.0   2.92    8.5264   2.92\n",
      "\n",
      "[70 rows x 5 columns]\n"
     ]
    },
    {
     "name": "stderr",
     "output_type": "stream",
     "text": [
      "C:\\Users\\Paul\\anaconda3\\lib\\site-packages\\statsmodels\\tsa\\base\\tsa_model.py:581: ValueWarning: A date index has been provided, but it has no associated frequency information and so will be ignored when e.g. forecasting.\n",
      "  warnings.warn('A date index has been provided, but it has no'\n",
      "C:\\Users\\Paul\\anaconda3\\lib\\site-packages\\statsmodels\\tsa\\base\\tsa_model.py:581: ValueWarning: A date index has been provided, but it has no associated frequency information and so will be ignored when e.g. forecasting.\n",
      "  warnings.warn('A date index has been provided, but it has no'\n"
     ]
    },
    {
     "name": "stdout",
     "output_type": "stream",
     "text": [
      "            prediction  actual  error      mse  rmse\n",
      "Date                                                \n",
      "2021-02-01    7.334304    13.0  -5.67  32.1489  5.67\n",
      "2021-02-02    5.970573     7.0  -1.03   1.0609  1.03\n",
      "2021-02-03    6.635726     5.0   1.64   2.6896  1.64\n",
      "2021-02-04    6.194565     5.0   1.19   1.4161  1.19\n",
      "2021-02-05    6.170907     6.0   0.17   0.0289  0.17\n",
      "...                ...     ...    ...      ...   ...\n",
      "2021-04-07    5.626741     4.0   1.63   2.6569  1.63\n",
      "2021-04-08    6.127791     6.0   0.13   0.0169  0.13\n",
      "2021-04-09    5.511155     5.0   0.51   0.2601  0.51\n",
      "2021-04-10    5.942959     5.0   0.94   0.8836  0.94\n",
      "2021-04-11    7.127529     6.0   1.13   1.2769  1.13\n",
      "\n",
      "[70 rows x 5 columns]\n"
     ]
    },
    {
     "name": "stderr",
     "output_type": "stream",
     "text": [
      "C:\\Users\\Paul\\anaconda3\\lib\\site-packages\\statsmodels\\tsa\\base\\tsa_model.py:581: ValueWarning: A date index has been provided, but it has no associated frequency information and so will be ignored when e.g. forecasting.\n",
      "  warnings.warn('A date index has been provided, but it has no'\n",
      "C:\\Users\\Paul\\anaconda3\\lib\\site-packages\\statsmodels\\tsa\\base\\tsa_model.py:581: ValueWarning: A date index has been provided, but it has no associated frequency information and so will be ignored when e.g. forecasting.\n",
      "  warnings.warn('A date index has been provided, but it has no'\n"
     ]
    },
    {
     "name": "stdout",
     "output_type": "stream",
     "text": [
      "            prediction  actual  error      mse  rmse\n",
      "Date                                                \n",
      "2021-02-01   19.671695    24.0  -4.33  18.7489  4.33\n",
      "2021-02-02   21.344230    17.0   4.34  18.8356  4.34\n",
      "2021-02-03   19.081306    16.0   3.08   9.4864  3.08\n",
      "2021-02-04   18.567574    10.0   8.57  73.4449  8.57\n",
      "2021-02-05   12.186458    11.0   1.19   1.4161  1.19\n",
      "...                ...     ...    ...      ...   ...\n",
      "2021-04-07    7.374428     7.0   0.37   0.1369  0.37\n",
      "2021-04-08    7.599472     8.0  -0.40   0.1600  0.40\n",
      "2021-04-09    5.555780     7.0  -1.44   2.0736  1.44\n",
      "2021-04-10    6.456826     7.0  -0.54   0.2916  0.54\n",
      "2021-04-11    8.235848     7.0   1.24   1.5376  1.24\n",
      "\n",
      "[70 rows x 5 columns]\n"
     ]
    },
    {
     "name": "stderr",
     "output_type": "stream",
     "text": [
      "C:\\Users\\Paul\\anaconda3\\lib\\site-packages\\statsmodels\\tsa\\base\\tsa_model.py:581: ValueWarning: A date index has been provided, but it has no associated frequency information and so will be ignored when e.g. forecasting.\n",
      "  warnings.warn('A date index has been provided, but it has no'\n",
      "C:\\Users\\Paul\\anaconda3\\lib\\site-packages\\statsmodels\\tsa\\base\\tsa_model.py:581: ValueWarning: A date index has been provided, but it has no associated frequency information and so will be ignored when e.g. forecasting.\n",
      "  warnings.warn('A date index has been provided, but it has no'\n"
     ]
    },
    {
     "name": "stdout",
     "output_type": "stream",
     "text": [
      "            prediction  actual  error       mse   rmse\n",
      "Date                                                  \n",
      "2021-02-01    9.112179     7.0   2.11    4.4521   2.11\n",
      "2021-02-02   15.012872    26.0 -10.99  120.7801  10.99\n",
      "2021-02-03   21.683220    28.0  -6.32   39.9424   6.32\n",
      "2021-02-04   14.842500     8.0   6.84   46.7856   6.84\n",
      "2021-02-05   12.010599     7.0   5.01   25.1001   5.01\n",
      "...                ...     ...    ...       ...    ...\n",
      "2021-04-07   11.736820    11.0   0.74    0.5476   0.74\n",
      "2021-04-08    6.477800    18.0 -11.52  132.7104  11.52\n",
      "2021-04-09   10.018559     8.0   2.02    4.0804   2.02\n",
      "2021-04-10   11.014717    13.0  -1.99    3.9601   1.99\n",
      "2021-04-11   13.017415    29.0 -15.98  255.3604  15.98\n",
      "\n",
      "[70 rows x 5 columns]\n"
     ]
    },
    {
     "name": "stderr",
     "output_type": "stream",
     "text": [
      "C:\\Users\\Paul\\anaconda3\\lib\\site-packages\\statsmodels\\tsa\\base\\tsa_model.py:581: ValueWarning: A date index has been provided, but it has no associated frequency information and so will be ignored when e.g. forecasting.\n",
      "  warnings.warn('A date index has been provided, but it has no'\n",
      "C:\\Users\\Paul\\anaconda3\\lib\\site-packages\\statsmodels\\tsa\\base\\tsa_model.py:581: ValueWarning: A date index has been provided, but it has no associated frequency information and so will be ignored when e.g. forecasting.\n",
      "  warnings.warn('A date index has been provided, but it has no'\n"
     ]
    },
    {
     "name": "stdout",
     "output_type": "stream",
     "text": [
      "            prediction  actual  error       mse   rmse\n",
      "Date                                                  \n",
      "2021-02-01    9.232099     7.0   2.23    4.9729   2.23\n",
      "2021-02-02    9.406506    30.0 -20.59  423.9481  20.59\n",
      "2021-02-03   15.112345    28.0 -12.89  166.1521  12.89\n",
      "2021-02-04   17.056619    20.0  -2.94    8.6436   2.94\n",
      "2021-02-05   17.120484    16.0   1.12    1.2544   1.12\n",
      "...                ...     ...    ...       ...    ...\n",
      "2021-04-07    5.430197     6.0  -0.57    0.3249   0.57\n",
      "2021-04-08    6.188007     7.0  -0.81    0.6561   0.81\n",
      "2021-04-09    5.582099     6.0  -0.42    0.1764   0.42\n",
      "2021-04-10    5.649810     5.0   0.65    0.4225   0.65\n",
      "2021-04-11    6.185337     6.0   0.19    0.0361   0.19\n",
      "\n",
      "[70 rows x 5 columns]\n"
     ]
    },
    {
     "name": "stderr",
     "output_type": "stream",
     "text": [
      "C:\\Users\\Paul\\anaconda3\\lib\\site-packages\\statsmodels\\tsa\\base\\tsa_model.py:581: ValueWarning: A date index has been provided, but it has no associated frequency information and so will be ignored when e.g. forecasting.\n",
      "  warnings.warn('A date index has been provided, but it has no'\n",
      "C:\\Users\\Paul\\anaconda3\\lib\\site-packages\\statsmodels\\tsa\\base\\tsa_model.py:581: ValueWarning: A date index has been provided, but it has no associated frequency information and so will be ignored when e.g. forecasting.\n",
      "  warnings.warn('A date index has been provided, but it has no'\n"
     ]
    },
    {
     "name": "stdout",
     "output_type": "stream",
     "text": [
      "            prediction  actual  error      mse  rmse\n",
      "Date                                                \n",
      "2021-02-01   12.945167    12.0   0.95   0.9025  0.95\n",
      "2021-02-02   11.146844     7.0   4.15  17.2225  4.15\n",
      "2021-02-03    9.652170     8.0   1.65   2.7225  1.65\n",
      "2021-02-04    8.436243     7.0   1.44   2.0736  1.44\n",
      "2021-02-05    7.656642     6.0   1.66   2.7556  1.66\n",
      "...                ...     ...    ...      ...   ...\n",
      "2021-04-07   11.998797     8.0   4.00  16.0000  4.00\n",
      "2021-04-08   10.381660     7.0   3.38  11.4244  3.38\n",
      "2021-04-09    8.337450     7.0   1.34   1.7956  1.34\n",
      "2021-04-10    8.636745     8.0   0.64   0.4096  0.64\n",
      "2021-04-11   12.800909    10.0   2.80   7.8400  2.80\n",
      "\n",
      "[70 rows x 5 columns]\n"
     ]
    },
    {
     "name": "stderr",
     "output_type": "stream",
     "text": [
      "C:\\Users\\Paul\\anaconda3\\lib\\site-packages\\statsmodels\\tsa\\base\\tsa_model.py:581: ValueWarning: A date index has been provided, but it has no associated frequency information and so will be ignored when e.g. forecasting.\n",
      "  warnings.warn('A date index has been provided, but it has no'\n",
      "C:\\Users\\Paul\\anaconda3\\lib\\site-packages\\statsmodels\\tsa\\base\\tsa_model.py:581: ValueWarning: A date index has been provided, but it has no associated frequency information and so will be ignored when e.g. forecasting.\n",
      "  warnings.warn('A date index has been provided, but it has no'\n"
     ]
    },
    {
     "name": "stdout",
     "output_type": "stream",
     "text": [
      "            prediction  actual  error       mse   rmse\n",
      "Date                                                  \n",
      "2021-02-01   42.462953    53.0 -10.54  111.0916  10.54\n",
      "2021-02-02   48.147565    36.0  12.15  147.6225  12.15\n",
      "2021-02-03   42.190913    33.0   9.19   84.4561   9.19\n",
      "2021-02-04   37.330159    32.0   5.33   28.4089   5.33\n",
      "2021-02-05   36.068063    24.0  12.07  145.6849  12.07\n",
      "...                ...     ...    ...       ...    ...\n",
      "2021-04-07   11.532570    10.0   1.53    2.3409   1.53\n",
      "2021-04-08   10.419301    23.0 -12.58  158.2564  12.58\n",
      "2021-04-09   17.340967    11.0   6.34   40.1956   6.34\n",
      "2021-04-10   13.560811    15.0  -1.44    2.0736   1.44\n",
      "2021-04-11   14.793105    12.0   2.79    7.7841   2.79\n",
      "\n",
      "[70 rows x 5 columns]\n"
     ]
    },
    {
     "name": "stderr",
     "output_type": "stream",
     "text": [
      "C:\\Users\\Paul\\anaconda3\\lib\\site-packages\\statsmodels\\tsa\\base\\tsa_model.py:581: ValueWarning: A date index has been provided, but it has no associated frequency information and so will be ignored when e.g. forecasting.\n",
      "  warnings.warn('A date index has been provided, but it has no'\n",
      "C:\\Users\\Paul\\anaconda3\\lib\\site-packages\\statsmodels\\tsa\\base\\tsa_model.py:581: ValueWarning: A date index has been provided, but it has no associated frequency information and so will be ignored when e.g. forecasting.\n",
      "  warnings.warn('A date index has been provided, but it has no'\n"
     ]
    },
    {
     "name": "stdout",
     "output_type": "stream",
     "text": [
      "            prediction  actual  error       mse   rmse\n",
      "Date                                                  \n",
      "2021-02-01   23.153169    20.0   3.15    9.9225   3.15\n",
      "2021-02-02   19.468442    11.0   8.47   71.7409   8.47\n",
      "2021-02-03   16.301285    29.0 -12.70  161.2900  12.70\n",
      "2021-02-04   22.134309    13.0   9.13   83.3569   9.13\n",
      "2021-02-05   25.085555     9.0  16.09  258.8881  16.09\n",
      "...                ...     ...    ...       ...    ...\n",
      "2021-04-07   17.546714    26.0  -8.45   71.4025   8.45\n",
      "2021-04-08   19.625316    16.0   3.63   13.1769   3.63\n",
      "2021-04-09   19.586399    20.0  -0.41    0.1681   0.41\n",
      "2021-04-10   19.415308    14.0   5.42   29.3764   5.42\n",
      "2021-04-11   20.121411    28.0  -7.88   62.0944   7.88\n",
      "\n",
      "[70 rows x 5 columns]\n"
     ]
    },
    {
     "name": "stderr",
     "output_type": "stream",
     "text": [
      "C:\\Users\\Paul\\anaconda3\\lib\\site-packages\\statsmodels\\tsa\\base\\tsa_model.py:581: ValueWarning: A date index has been provided, but it has no associated frequency information and so will be ignored when e.g. forecasting.\n",
      "  warnings.warn('A date index has been provided, but it has no'\n",
      "C:\\Users\\Paul\\anaconda3\\lib\\site-packages\\statsmodels\\tsa\\base\\tsa_model.py:581: ValueWarning: A date index has been provided, but it has no associated frequency information and so will be ignored when e.g. forecasting.\n",
      "  warnings.warn('A date index has been provided, but it has no'\n"
     ]
    },
    {
     "name": "stdout",
     "output_type": "stream",
     "text": [
      "            prediction  actual  error      mse  rmse\n",
      "Date                                                \n",
      "2021-02-01   13.795458     5.0   8.80  77.4400  8.80\n",
      "2021-02-02   13.609003    19.0  -5.39  29.0521  5.39\n",
      "2021-02-03   13.996889    18.0  -4.00  16.0000  4.00\n",
      "2021-02-04   13.961482     8.0   5.96  35.5216  5.96\n",
      "2021-02-05   12.663994    14.0  -1.34   1.7956  1.34\n",
      "...                ...     ...    ...      ...   ...\n",
      "2021-04-07   11.658396    10.0   1.66   2.7556  1.66\n",
      "2021-04-08    8.091679     9.0  -0.91   0.8281  0.91\n",
      "2021-04-09    8.296702    16.0  -7.70  59.2900  7.70\n",
      "2021-04-10   10.656455     7.0   3.66  13.3956  3.66\n",
      "2021-04-11    9.799069    16.0  -6.20  38.4400  6.20\n",
      "\n",
      "[70 rows x 5 columns]\n"
     ]
    },
    {
     "name": "stderr",
     "output_type": "stream",
     "text": [
      "C:\\Users\\Paul\\anaconda3\\lib\\site-packages\\statsmodels\\tsa\\base\\tsa_model.py:581: ValueWarning: A date index has been provided, but it has no associated frequency information and so will be ignored when e.g. forecasting.\n",
      "  warnings.warn('A date index has been provided, but it has no'\n",
      "C:\\Users\\Paul\\anaconda3\\lib\\site-packages\\statsmodels\\tsa\\base\\tsa_model.py:581: ValueWarning: A date index has been provided, but it has no associated frequency information and so will be ignored when e.g. forecasting.\n",
      "  warnings.warn('A date index has been provided, but it has no'\n"
     ]
    },
    {
     "name": "stdout",
     "output_type": "stream",
     "text": [
      "            prediction  actual  error       mse   rmse\n",
      "Date                                                  \n",
      "2021-02-01   47.702116    51.0  -3.30   10.8900   3.30\n",
      "2021-02-02   49.956273    37.0  12.96  167.9616  12.96\n",
      "2021-02-03   40.959959    35.0   5.96   35.5216   5.96\n",
      "2021-02-04   37.854278    19.0  18.85  355.3225  18.85\n",
      "2021-02-05   26.752302    23.0   3.75   14.0625   3.75\n",
      "...                ...     ...    ...       ...    ...\n",
      "2021-04-07    8.025287     7.0   1.03    1.0609   1.03\n",
      "2021-04-08    6.511046     6.0   0.51    0.2601   0.51\n",
      "2021-04-09    7.006617     7.0   0.01    0.0001   0.01\n",
      "2021-04-10    5.317510     5.0   0.32    0.1024   0.32\n",
      "2021-04-11    6.602253    15.0  -8.40   70.5600   8.40\n",
      "\n",
      "[70 rows x 5 columns]\n"
     ]
    },
    {
     "name": "stderr",
     "output_type": "stream",
     "text": [
      "C:\\Users\\Paul\\anaconda3\\lib\\site-packages\\statsmodels\\tsa\\base\\tsa_model.py:581: ValueWarning: A date index has been provided, but it has no associated frequency information and so will be ignored when e.g. forecasting.\n",
      "  warnings.warn('A date index has been provided, but it has no'\n",
      "C:\\Users\\Paul\\anaconda3\\lib\\site-packages\\statsmodels\\tsa\\base\\tsa_model.py:581: ValueWarning: A date index has been provided, but it has no associated frequency information and so will be ignored when e.g. forecasting.\n",
      "  warnings.warn('A date index has been provided, but it has no'\n"
     ]
    },
    {
     "name": "stdout",
     "output_type": "stream",
     "text": [
      "            prediction  actual  error      mse  rmse\n",
      "Date                                                \n",
      "2021-02-01   14.968643    14.0   0.97   0.9409  0.97\n",
      "2021-02-02   14.174177    19.0  -4.83  23.3289  4.83\n",
      "2021-02-03   15.206276    13.0   2.21   4.8841  2.21\n",
      "2021-02-04   14.574313    15.0  -0.43   0.1849  0.43\n",
      "2021-02-05   15.016117    17.0  -1.98   3.9204  1.98\n",
      "...                ...     ...    ...      ...   ...\n",
      "2021-04-07   27.778866    26.0   1.78   3.1684  1.78\n",
      "2021-04-08   27.147365    31.0  -3.85  14.8225  3.85\n",
      "2021-04-09   29.914422    30.0  -0.09   0.0081  0.09\n",
      "2021-04-10   28.780619    20.0   8.78  77.0884  8.78\n",
      "2021-04-11   24.653638    22.0   2.65   7.0225  2.65\n",
      "\n",
      "[70 rows x 5 columns]\n"
     ]
    },
    {
     "name": "stderr",
     "output_type": "stream",
     "text": [
      "C:\\Users\\Paul\\anaconda3\\lib\\site-packages\\statsmodels\\tsa\\base\\tsa_model.py:581: ValueWarning: A date index has been provided, but it has no associated frequency information and so will be ignored when e.g. forecasting.\n",
      "  warnings.warn('A date index has been provided, but it has no'\n",
      "C:\\Users\\Paul\\anaconda3\\lib\\site-packages\\statsmodels\\tsa\\base\\tsa_model.py:581: ValueWarning: A date index has been provided, but it has no associated frequency information and so will be ignored when e.g. forecasting.\n",
      "  warnings.warn('A date index has been provided, but it has no'\n"
     ]
    },
    {
     "name": "stdout",
     "output_type": "stream",
     "text": [
      "            prediction  actual  error       mse   rmse\n",
      "Date                                                  \n",
      "2021-02-01   18.811957    20.0  -1.19    1.4161   1.19\n",
      "2021-02-02   18.876066    13.0   5.88   34.5744   5.88\n",
      "2021-02-03   15.675538    14.0   1.68    2.8224   1.68\n",
      "2021-02-04   14.179052    26.0 -11.82  139.7124  11.82\n",
      "2021-02-05   19.887715    12.0   7.89   62.2521   7.89\n",
      "...                ...     ...    ...       ...    ...\n",
      "2021-04-07   10.736235    34.0 -23.26  541.0276  23.26\n",
      "2021-04-08   16.605332    21.0  -4.39   19.2721   4.39\n",
      "2021-04-09   18.444270    25.0  -6.56   43.0336   6.56\n",
      "2021-04-10   20.270523    13.0   7.27   52.8529   7.27\n",
      "2021-04-11   18.105829    22.0  -3.89   15.1321   3.89\n",
      "\n",
      "[70 rows x 5 columns]\n"
     ]
    },
    {
     "name": "stderr",
     "output_type": "stream",
     "text": [
      "C:\\Users\\Paul\\anaconda3\\lib\\site-packages\\statsmodels\\tsa\\base\\tsa_model.py:581: ValueWarning: A date index has been provided, but it has no associated frequency information and so will be ignored when e.g. forecasting.\n",
      "  warnings.warn('A date index has been provided, but it has no'\n",
      "C:\\Users\\Paul\\anaconda3\\lib\\site-packages\\statsmodels\\tsa\\base\\tsa_model.py:581: ValueWarning: A date index has been provided, but it has no associated frequency information and so will be ignored when e.g. forecasting.\n",
      "  warnings.warn('A date index has been provided, but it has no'\n"
     ]
    },
    {
     "name": "stdout",
     "output_type": "stream",
     "text": [
      "            prediction  actual  error      mse  rmse\n",
      "Date                                                \n",
      "2021-02-01   22.155063    17.0   5.16  26.6256  5.16\n",
      "2021-02-02   22.696581    23.0  -0.30   0.0900  0.30\n",
      "2021-02-03   23.441400    25.0  -1.56   2.4336  1.56\n",
      "2021-02-04   21.487956    17.0   4.49  20.1601  4.49\n",
      "2021-02-05   21.767354    26.0  -4.23  17.8929  4.23\n",
      "...                ...     ...    ...      ...   ...\n",
      "2021-04-07   20.181812    21.0  -0.82   0.6724  0.82\n",
      "2021-04-08   18.211406    17.0   1.21   1.4641  1.21\n",
      "2021-04-09   19.279432    17.0   2.28   5.1984  2.28\n",
      "2021-04-10   18.486888    13.0   5.49  30.1401  5.49\n",
      "2021-04-11   18.920547    25.0  -6.08  36.9664  6.08\n",
      "\n",
      "[70 rows x 5 columns]\n"
     ]
    },
    {
     "name": "stderr",
     "output_type": "stream",
     "text": [
      "C:\\Users\\Paul\\anaconda3\\lib\\site-packages\\statsmodels\\tsa\\base\\tsa_model.py:581: ValueWarning: A date index has been provided, but it has no associated frequency information and so will be ignored when e.g. forecasting.\n",
      "  warnings.warn('A date index has been provided, but it has no'\n",
      "C:\\Users\\Paul\\anaconda3\\lib\\site-packages\\statsmodels\\tsa\\base\\tsa_model.py:581: ValueWarning: A date index has been provided, but it has no associated frequency information and so will be ignored when e.g. forecasting.\n",
      "  warnings.warn('A date index has been provided, but it has no'\n"
     ]
    },
    {
     "name": "stdout",
     "output_type": "stream",
     "text": [
      "            prediction  actual  error       mse   rmse\n",
      "Date                                                  \n",
      "2021-02-01   27.305009    26.0   1.31    1.7161   1.31\n",
      "2021-02-02   25.675339    16.0   9.68   93.7024   9.68\n",
      "2021-02-03   22.992345    22.0   0.99    0.9801   0.99\n",
      "2021-02-04   23.151829    13.0  10.15  103.0225  10.15\n",
      "2021-02-05   18.226935    17.0   1.23    1.5129   1.23\n",
      "...                ...     ...    ...       ...    ...\n",
      "2021-04-07   12.818901    22.0  -9.18   84.2724   9.18\n",
      "2021-04-08   14.707731    17.0  -2.29    5.2441   2.29\n",
      "2021-04-09   14.896720     9.0   5.90   34.8100   5.90\n",
      "2021-04-10   16.760715    23.0  -6.24   38.9376   6.24\n",
      "2021-04-11   18.561879    18.0   0.56    0.3136   0.56\n",
      "\n",
      "[70 rows x 5 columns]\n"
     ]
    },
    {
     "name": "stderr",
     "output_type": "stream",
     "text": [
      "C:\\Users\\Paul\\anaconda3\\lib\\site-packages\\statsmodels\\tsa\\base\\tsa_model.py:581: ValueWarning: A date index has been provided, but it has no associated frequency information and so will be ignored when e.g. forecasting.\n",
      "  warnings.warn('A date index has been provided, but it has no'\n",
      "C:\\Users\\Paul\\anaconda3\\lib\\site-packages\\statsmodels\\tsa\\base\\tsa_model.py:581: ValueWarning: A date index has been provided, but it has no associated frequency information and so will be ignored when e.g. forecasting.\n",
      "  warnings.warn('A date index has been provided, but it has no'\n"
     ]
    },
    {
     "name": "stdout",
     "output_type": "stream",
     "text": [
      "            prediction  actual  error       mse   rmse\n",
      "Date                                                  \n",
      "2021-02-01   17.410193     5.0  12.41  154.0081  12.41\n",
      "2021-02-02   14.604294    20.0  -5.40   29.1600   5.40\n",
      "2021-02-03   16.058129    24.0  -7.94   63.0436   7.94\n",
      "2021-02-04   18.801706    13.0   5.80   33.6400   5.80\n",
      "2021-02-05   17.590187     0.0  17.59  309.4081  17.59\n",
      "...                ...     ...    ...       ...    ...\n",
      "2021-04-07    3.626883     0.0   3.63   13.1769   3.63\n",
      "2021-04-08    3.893275     0.0   3.89   15.1321   3.89\n",
      "2021-04-09    3.125492     0.0   3.13    9.7969   3.13\n",
      "2021-04-10    1.115112     0.0   1.12    1.2544   1.12\n",
      "2021-04-11    0.958514     0.0   0.96    0.9216   0.96\n",
      "\n",
      "[70 rows x 5 columns]\n"
     ]
    },
    {
     "name": "stderr",
     "output_type": "stream",
     "text": [
      "C:\\Users\\Paul\\anaconda3\\lib\\site-packages\\statsmodels\\tsa\\base\\tsa_model.py:581: ValueWarning: A date index has been provided, but it has no associated frequency information and so will be ignored when e.g. forecasting.\n",
      "  warnings.warn('A date index has been provided, but it has no'\n",
      "C:\\Users\\Paul\\anaconda3\\lib\\site-packages\\statsmodels\\tsa\\base\\tsa_model.py:581: ValueWarning: A date index has been provided, but it has no associated frequency information and so will be ignored when e.g. forecasting.\n",
      "  warnings.warn('A date index has been provided, but it has no'\n"
     ]
    },
    {
     "name": "stdout",
     "output_type": "stream",
     "text": [
      "            prediction  actual  error      mse  rmse\n",
      "Date                                                \n",
      "2021-02-01    9.011554     9.0   0.01   0.0001  0.01\n",
      "2021-02-02    9.044567     9.0   0.04   0.0016  0.04\n",
      "2021-02-03    9.137845     8.0   1.14   1.2996  1.14\n",
      "2021-02-04    7.983177    12.0  -4.02  16.1604  4.02\n",
      "2021-02-05   10.769380    11.0  -0.23   0.0529  0.23\n",
      "...                ...     ...    ...      ...   ...\n",
      "2021-04-07    4.819472    13.0  -8.18  66.9124  8.18\n",
      "2021-04-08    9.059785    14.0  -4.94  24.4036  4.94\n",
      "2021-04-09   12.330115     7.0   5.33  28.4089  5.33\n",
      "2021-04-10    9.119652     5.0   4.12  16.9744  4.12\n",
      "2021-04-11    6.859214     7.0  -0.14   0.0196  0.14\n",
      "\n",
      "[70 rows x 5 columns]\n"
     ]
    },
    {
     "name": "stderr",
     "output_type": "stream",
     "text": [
      "C:\\Users\\Paul\\anaconda3\\lib\\site-packages\\statsmodels\\tsa\\base\\tsa_model.py:581: ValueWarning: A date index has been provided, but it has no associated frequency information and so will be ignored when e.g. forecasting.\n",
      "  warnings.warn('A date index has been provided, but it has no'\n",
      "C:\\Users\\Paul\\anaconda3\\lib\\site-packages\\statsmodels\\tsa\\base\\tsa_model.py:581: ValueWarning: A date index has been provided, but it has no associated frequency information and so will be ignored when e.g. forecasting.\n",
      "  warnings.warn('A date index has been provided, but it has no'\n"
     ]
    },
    {
     "name": "stdout",
     "output_type": "stream",
     "text": [
      "            prediction  actual  error      mse  rmse\n",
      "Date                                                \n",
      "2021-02-01    5.055138     6.0  -0.94   0.8836  0.94\n",
      "2021-02-02    6.029905     4.0   2.03   4.1209  2.03\n",
      "2021-02-03    4.763564     6.0  -1.24   1.5376  1.24\n",
      "2021-02-04    5.569519     5.0   0.57   0.3249  0.57\n",
      "2021-02-05    5.986522     6.0  -0.01   0.0001  0.01\n",
      "...                ...     ...    ...      ...   ...\n",
      "2021-04-07    5.218124    11.0  -5.78  33.4084  5.78\n",
      "2021-04-08    8.333187    15.0  -6.67  44.4889  6.67\n",
      "2021-04-09   14.252900    16.0  -1.75   3.0625  1.75\n",
      "2021-04-10   16.079784    10.0   6.08  36.9664  6.08\n",
      "2021-04-11   12.808189    10.0   2.81   7.8961  2.81\n",
      "\n",
      "[70 rows x 5 columns]\n"
     ]
    },
    {
     "name": "stderr",
     "output_type": "stream",
     "text": [
      "C:\\Users\\Paul\\anaconda3\\lib\\site-packages\\statsmodels\\tsa\\base\\tsa_model.py:581: ValueWarning: A date index has been provided, but it has no associated frequency information and so will be ignored when e.g. forecasting.\n",
      "  warnings.warn('A date index has been provided, but it has no'\n",
      "C:\\Users\\Paul\\anaconda3\\lib\\site-packages\\statsmodels\\tsa\\base\\tsa_model.py:581: ValueWarning: A date index has been provided, but it has no associated frequency information and so will be ignored when e.g. forecasting.\n",
      "  warnings.warn('A date index has been provided, but it has no'\n"
     ]
    },
    {
     "name": "stdout",
     "output_type": "stream",
     "text": [
      "            prediction  actual  error       mse   rmse\n",
      "Date                                                  \n",
      "2021-02-01   23.026719    17.0   6.03   36.3609   6.03\n",
      "2021-02-02   19.967104    14.0   5.97   35.6409   5.97\n",
      "2021-02-03   18.928014    14.0   4.93   24.3049   4.93\n",
      "2021-02-04   15.731986    16.0  -0.27    0.0729   0.27\n",
      "2021-02-05   20.328315    11.0   9.33   87.0489   9.33\n",
      "...                ...     ...    ...       ...    ...\n",
      "2021-04-07   12.014867    28.0 -15.99  255.6801  15.99\n",
      "2021-04-08   15.839569    25.0  -9.16   83.9056   9.16\n",
      "2021-04-09   20.737993    21.0  -0.26    0.0676   0.26\n",
      "2021-04-10   19.060684    10.0   9.06   82.0836   9.06\n",
      "2021-04-11   17.326266    19.0  -1.67    2.7889   1.67\n",
      "\n",
      "[70 rows x 5 columns]\n"
     ]
    },
    {
     "name": "stderr",
     "output_type": "stream",
     "text": [
      "C:\\Users\\Paul\\anaconda3\\lib\\site-packages\\statsmodels\\tsa\\base\\tsa_model.py:581: ValueWarning: A date index has been provided, but it has no associated frequency information and so will be ignored when e.g. forecasting.\n",
      "  warnings.warn('A date index has been provided, but it has no'\n",
      "C:\\Users\\Paul\\anaconda3\\lib\\site-packages\\statsmodels\\tsa\\base\\tsa_model.py:581: ValueWarning: A date index has been provided, but it has no associated frequency information and so will be ignored when e.g. forecasting.\n",
      "  warnings.warn('A date index has been provided, but it has no'\n"
     ]
    },
    {
     "name": "stdout",
     "output_type": "stream",
     "text": [
      "            prediction  actual  error       mse   rmse\n",
      "Date                                                  \n",
      "2021-02-01   33.222940    42.0  -8.78   77.0884   8.78\n",
      "2021-02-02   39.664325    28.0  11.66  135.9556  11.66\n",
      "2021-02-03   30.682597    23.0   7.68   58.9824   7.68\n",
      "2021-02-04   27.985555    12.0  15.99  255.6801  15.99\n",
      "2021-02-05   16.949287    21.0  -4.05   16.4025   4.05\n",
      "...                ...     ...    ...       ...    ...\n",
      "2021-04-07   -0.421326     3.0  -3.42   11.6964   3.42\n",
      "2021-04-08    2.655383    14.0 -11.34  128.5956  11.34\n",
      "2021-04-09    8.088077     5.0   3.09    9.5481   3.09\n",
      "2021-04-10    6.056325    14.0  -7.94   63.0436   7.94\n",
      "2021-04-11   11.139869    10.0   1.14    1.2996   1.14\n",
      "\n",
      "[70 rows x 5 columns]\n"
     ]
    },
    {
     "name": "stderr",
     "output_type": "stream",
     "text": [
      "C:\\Users\\Paul\\anaconda3\\lib\\site-packages\\statsmodels\\tsa\\base\\tsa_model.py:581: ValueWarning: A date index has been provided, but it has no associated frequency information and so will be ignored when e.g. forecasting.\n",
      "  warnings.warn('A date index has been provided, but it has no'\n",
      "C:\\Users\\Paul\\anaconda3\\lib\\site-packages\\statsmodels\\tsa\\base\\tsa_model.py:581: ValueWarning: A date index has been provided, but it has no associated frequency information and so will be ignored when e.g. forecasting.\n",
      "  warnings.warn('A date index has been provided, but it has no'\n"
     ]
    },
    {
     "name": "stdout",
     "output_type": "stream",
     "text": [
      "            prediction  actual  error      mse  rmse\n",
      "Date                                                \n",
      "2021-02-01   20.009007    26.0  -5.99  35.8801  5.99\n",
      "2021-02-02   21.024311    27.0  -5.98  35.7604  5.98\n",
      "2021-02-03   21.911682    20.0   1.91   3.6481  1.91\n",
      "2021-02-04   21.066553    15.0   6.07  36.8449  6.07\n",
      "2021-02-05   20.659982    25.0  -4.34  18.8356  4.34\n",
      "...                ...     ...    ...      ...   ...\n",
      "2021-04-07   17.462425    20.0  -2.54   6.4516  2.54\n",
      "2021-04-08   17.392716    19.0  -1.61   2.5921  1.61\n",
      "2021-04-09   17.926247    11.0   6.93  48.0249  6.93\n",
      "2021-04-10   16.434225    22.0  -5.57  31.0249  5.57\n",
      "2021-04-11   17.292552    13.0   4.29  18.4041  4.29\n",
      "\n",
      "[70 rows x 5 columns]\n"
     ]
    },
    {
     "name": "stderr",
     "output_type": "stream",
     "text": [
      "C:\\Users\\Paul\\anaconda3\\lib\\site-packages\\statsmodels\\tsa\\base\\tsa_model.py:581: ValueWarning: A date index has been provided, but it has no associated frequency information and so will be ignored when e.g. forecasting.\n",
      "  warnings.warn('A date index has been provided, but it has no'\n",
      "C:\\Users\\Paul\\anaconda3\\lib\\site-packages\\statsmodels\\tsa\\base\\tsa_model.py:581: ValueWarning: A date index has been provided, but it has no associated frequency information and so will be ignored when e.g. forecasting.\n",
      "  warnings.warn('A date index has been provided, but it has no'\n"
     ]
    },
    {
     "name": "stdout",
     "output_type": "stream",
     "text": [
      "            prediction  actual  error       mse   rmse\n",
      "Date                                                  \n",
      "2021-02-01   24.602635    33.0  -8.40   70.5600   8.40\n",
      "2021-02-02   26.572777    24.0   2.57    6.6049   2.57\n",
      "2021-02-03   25.109872    26.0  -0.89    0.7921   0.89\n",
      "2021-02-04   23.705146    20.0   3.71   13.7641   3.71\n",
      "2021-02-05   24.535905    31.0  -6.46   41.7316   6.46\n",
      "...                ...     ...    ...       ...    ...\n",
      "2021-04-07   11.802905    32.0 -20.20  408.0400  20.20\n",
      "2021-04-08   17.835998    29.0 -11.16  124.5456  11.16\n",
      "2021-04-09   23.743757    28.0  -4.26   18.1476   4.26\n",
      "2021-04-10   24.654468    28.0  -3.35   11.2225   3.35\n",
      "2021-04-11   26.252870    30.0  -3.75   14.0625   3.75\n",
      "\n",
      "[70 rows x 5 columns]\n"
     ]
    },
    {
     "name": "stderr",
     "output_type": "stream",
     "text": [
      "C:\\Users\\Paul\\anaconda3\\lib\\site-packages\\statsmodels\\tsa\\base\\tsa_model.py:581: ValueWarning: A date index has been provided, but it has no associated frequency information and so will be ignored when e.g. forecasting.\n",
      "  warnings.warn('A date index has been provided, but it has no'\n",
      "C:\\Users\\Paul\\anaconda3\\lib\\site-packages\\statsmodels\\tsa\\base\\tsa_model.py:581: ValueWarning: A date index has been provided, but it has no associated frequency information and so will be ignored when e.g. forecasting.\n",
      "  warnings.warn('A date index has been provided, but it has no'\n"
     ]
    },
    {
     "name": "stdout",
     "output_type": "stream",
     "text": [
      "            prediction  actual  error     mse  rmse\n",
      "Date                                               \n",
      "2021-02-01    8.904094    10.0  -1.10  1.2100  1.10\n",
      "2021-02-02   11.054534    10.0   1.05  1.1025  1.05\n",
      "2021-02-03   11.069156    10.0   1.07  1.1449  1.07\n",
      "2021-02-04   11.379517    10.0   1.38  1.9044  1.38\n",
      "2021-02-05    9.571627    10.0  -0.43  0.1849  0.43\n",
      "...                ...     ...    ...     ...   ...\n",
      "2021-04-07   10.057783    13.0  -2.94  8.6436  2.94\n",
      "2021-04-08   10.995595    13.0  -2.00  4.0000  2.00\n",
      "2021-04-09   10.513872    11.0  -0.49  0.2401  0.49\n",
      "2021-04-10   11.249952    11.0   0.25  0.0625  0.25\n",
      "2021-04-11   11.177399    12.0  -0.82  0.6724  0.82\n",
      "\n",
      "[70 rows x 5 columns]\n"
     ]
    },
    {
     "name": "stderr",
     "output_type": "stream",
     "text": [
      "C:\\Users\\Paul\\anaconda3\\lib\\site-packages\\statsmodels\\tsa\\base\\tsa_model.py:581: ValueWarning: A date index has been provided, but it has no associated frequency information and so will be ignored when e.g. forecasting.\n",
      "  warnings.warn('A date index has been provided, but it has no'\n",
      "C:\\Users\\Paul\\anaconda3\\lib\\site-packages\\statsmodels\\tsa\\base\\tsa_model.py:581: ValueWarning: A date index has been provided, but it has no associated frequency information and so will be ignored when e.g. forecasting.\n",
      "  warnings.warn('A date index has been provided, but it has no'\n"
     ]
    },
    {
     "name": "stdout",
     "output_type": "stream",
     "text": [
      "            prediction  actual  error      mse  rmse\n",
      "Date                                                \n",
      "2021-02-01   41.326648    48.0  -6.67  44.4889  6.67\n",
      "2021-02-02   43.312474    50.0  -6.69  44.7561  6.69\n",
      "2021-02-03   43.860706    35.0   8.86  78.4996  8.86\n",
      "2021-02-04   38.365665    31.0   7.37  54.3169  7.37\n",
      "2021-02-05   34.192055    34.0   0.19   0.0361  0.19\n",
      "...                ...     ...    ...      ...   ...\n",
      "2021-04-07   10.979428    10.0   0.98   0.9604  0.98\n",
      "2021-04-08    8.289761    12.0  -3.71  13.7641  3.71\n",
      "2021-04-09   10.761641    13.0  -2.24   5.0176  2.24\n",
      "2021-04-10   12.326343    10.0   2.33   5.4289  2.33\n",
      "2021-04-11   11.027588    14.0  -2.97   8.8209  2.97\n",
      "\n",
      "[70 rows x 5 columns]\n"
     ]
    },
    {
     "name": "stderr",
     "output_type": "stream",
     "text": [
      "C:\\Users\\Paul\\anaconda3\\lib\\site-packages\\statsmodels\\tsa\\base\\tsa_model.py:581: ValueWarning: A date index has been provided, but it has no associated frequency information and so will be ignored when e.g. forecasting.\n",
      "  warnings.warn('A date index has been provided, but it has no'\n",
      "C:\\Users\\Paul\\anaconda3\\lib\\site-packages\\statsmodels\\tsa\\base\\tsa_model.py:581: ValueWarning: A date index has been provided, but it has no associated frequency information and so will be ignored when e.g. forecasting.\n",
      "  warnings.warn('A date index has been provided, but it has no'\n"
     ]
    },
    {
     "name": "stdout",
     "output_type": "stream",
     "text": [
      "            prediction  actual  error      mse  rmse\n",
      "Date                                                \n",
      "2021-02-01   28.828131    37.0  -8.17  66.7489  8.17\n",
      "2021-02-02   32.162699    36.0  -3.84  14.7456  3.84\n",
      "2021-02-03   34.225727    33.0   1.23   1.5129  1.23\n",
      "2021-02-04   32.808215    32.0   0.81   0.6561  0.81\n",
      "2021-02-05   31.809385    30.0   1.81   3.2761  1.81\n",
      "...                ...     ...    ...      ...   ...\n",
      "2021-04-07   14.398405    10.0   4.40  19.3600  4.40\n",
      "2021-04-08   10.926601    14.0  -3.07   9.4249  3.07\n",
      "2021-04-09   12.890554    18.0  -5.11  26.1121  5.11\n",
      "2021-04-10   15.619081     9.0   6.62  43.8244  6.62\n",
      "2021-04-11   17.075913    20.0  -2.92   8.5264  2.92\n",
      "\n",
      "[70 rows x 5 columns]\n"
     ]
    },
    {
     "name": "stderr",
     "output_type": "stream",
     "text": [
      "C:\\Users\\Paul\\anaconda3\\lib\\site-packages\\statsmodels\\tsa\\base\\tsa_model.py:581: ValueWarning: A date index has been provided, but it has no associated frequency information and so will be ignored when e.g. forecasting.\n",
      "  warnings.warn('A date index has been provided, but it has no'\n",
      "C:\\Users\\Paul\\anaconda3\\lib\\site-packages\\statsmodels\\tsa\\base\\tsa_model.py:581: ValueWarning: A date index has been provided, but it has no associated frequency information and so will be ignored when e.g. forecasting.\n",
      "  warnings.warn('A date index has been provided, but it has no'\n"
     ]
    },
    {
     "name": "stdout",
     "output_type": "stream",
     "text": [
      "            prediction  actual  error      mse  rmse\n",
      "Date                                                \n",
      "2021-02-01   13.952904    11.0   2.95   8.7025  2.95\n",
      "2021-02-02   15.191781     7.0   8.19  67.0761  8.19\n",
      "2021-02-03   13.170085    16.0  -2.83   8.0089  2.83\n",
      "2021-02-04   15.812382     9.0   6.81  46.3761  6.81\n",
      "2021-02-05   14.298159    14.0   0.30   0.0900  0.30\n",
      "...                ...     ...    ...      ...   ...\n",
      "2021-04-07   10.604261    18.0  -7.40  54.7600  7.40\n",
      "2021-04-08   12.562052    18.0  -5.44  29.5936  5.44\n",
      "2021-04-09   12.852839    16.0  -3.15   9.9225  3.15\n",
      "2021-04-10   12.115213    12.0   0.12   0.0144  0.12\n",
      "2021-04-11   12.973441    10.0   2.97   8.8209  2.97\n",
      "\n",
      "[70 rows x 5 columns]\n"
     ]
    },
    {
     "name": "stderr",
     "output_type": "stream",
     "text": [
      "C:\\Users\\Paul\\anaconda3\\lib\\site-packages\\statsmodels\\tsa\\base\\tsa_model.py:581: ValueWarning: A date index has been provided, but it has no associated frequency information and so will be ignored when e.g. forecasting.\n",
      "  warnings.warn('A date index has been provided, but it has no'\n",
      "C:\\Users\\Paul\\anaconda3\\lib\\site-packages\\statsmodels\\tsa\\base\\tsa_model.py:581: ValueWarning: A date index has been provided, but it has no associated frequency information and so will be ignored when e.g. forecasting.\n",
      "  warnings.warn('A date index has been provided, but it has no'\n"
     ]
    },
    {
     "name": "stdout",
     "output_type": "stream",
     "text": [
      "            prediction  actual  error      mse  rmse\n",
      "Date                                                \n",
      "2021-02-01   17.774350    14.0   3.77  14.2129  3.77\n",
      "2021-02-02   16.009666    17.0  -0.99   0.9801  0.99\n",
      "2021-02-03   16.079313    14.0   2.08   4.3264  2.08\n",
      "2021-02-04   15.552687    17.0  -1.45   2.1025  1.45\n",
      "2021-02-05   15.084036    13.0   2.08   4.3264  2.08\n",
      "...                ...     ...    ...      ...   ...\n",
      "2021-04-07   13.861219    16.0  -2.14   4.5796  2.14\n",
      "2021-04-08   14.542274    19.0  -4.46  19.8916  4.46\n",
      "2021-04-09   13.870279    14.0  -0.13   0.0169  0.13\n",
      "2021-04-10   11.228367    10.0   1.23   1.5129  1.23\n",
      "2021-04-11   16.770446    18.0  -1.23   1.5129  1.23\n",
      "\n",
      "[70 rows x 5 columns]\n"
     ]
    },
    {
     "name": "stderr",
     "output_type": "stream",
     "text": [
      "C:\\Users\\Paul\\anaconda3\\lib\\site-packages\\statsmodels\\tsa\\base\\tsa_model.py:581: ValueWarning: A date index has been provided, but it has no associated frequency information and so will be ignored when e.g. forecasting.\n",
      "  warnings.warn('A date index has been provided, but it has no'\n",
      "C:\\Users\\Paul\\anaconda3\\lib\\site-packages\\statsmodels\\tsa\\base\\tsa_model.py:581: ValueWarning: A date index has been provided, but it has no associated frequency information and so will be ignored when e.g. forecasting.\n",
      "  warnings.warn('A date index has been provided, but it has no'\n"
     ]
    },
    {
     "name": "stdout",
     "output_type": "stream",
     "text": [
      "            prediction  actual  error       mse   rmse\n",
      "Date                                                  \n",
      "2021-02-01   28.345770    28.0   0.35    0.1225   0.35\n",
      "2021-02-02   26.432983    32.0  -5.57   31.0249   5.57\n",
      "2021-02-03   28.088980    27.0   1.09    1.1881   1.09\n",
      "2021-02-04   28.103738    17.0  11.10  123.2100  11.10\n",
      "2021-02-05   24.882841    33.0  -8.12   65.9344   8.12\n",
      "...                ...     ...    ...       ...    ...\n",
      "2021-04-07   15.525235    25.0  -9.47   89.6809   9.47\n",
      "2021-04-08   17.198450    14.0   3.20   10.2400   3.20\n",
      "2021-04-09   17.198105     9.0   8.20   67.2400   8.20\n",
      "2021-04-10   14.609596    10.0   4.61   21.2521   4.61\n",
      "2021-04-11   13.948688    11.0   2.95    8.7025   2.95\n",
      "\n",
      "[70 rows x 5 columns]\n"
     ]
    },
    {
     "name": "stderr",
     "output_type": "stream",
     "text": [
      "C:\\Users\\Paul\\anaconda3\\lib\\site-packages\\statsmodels\\tsa\\base\\tsa_model.py:581: ValueWarning: A date index has been provided, but it has no associated frequency information and so will be ignored when e.g. forecasting.\n",
      "  warnings.warn('A date index has been provided, but it has no'\n",
      "C:\\Users\\Paul\\anaconda3\\lib\\site-packages\\statsmodels\\tsa\\base\\tsa_model.py:581: ValueWarning: A date index has been provided, but it has no associated frequency information and so will be ignored when e.g. forecasting.\n",
      "  warnings.warn('A date index has been provided, but it has no'\n"
     ]
    },
    {
     "name": "stdout",
     "output_type": "stream",
     "text": [
      "            prediction  actual  error       mse   rmse\n",
      "Date                                                  \n",
      "2021-02-01   38.427572    28.0  10.43  108.7849  10.43\n",
      "2021-02-02   31.358043    26.0   5.36   28.7296   5.36\n",
      "2021-02-03   26.918055    20.0   6.92   47.8864   6.92\n",
      "2021-02-04   22.129725    12.0  10.13  102.6169  10.13\n",
      "2021-02-05   17.303596     9.0   8.30   68.8900   8.30\n",
      "...                ...     ...    ...       ...    ...\n",
      "2021-04-07    9.385618     6.0   3.39   11.4921   3.39\n",
      "2021-04-08    6.355321     8.0  -1.64    2.6896   1.64\n",
      "2021-04-09    7.608242     7.0   0.61    0.3721   0.61\n",
      "2021-04-10    8.152602     8.0   0.15    0.0225   0.15\n",
      "2021-04-11   10.870788    11.0  -0.13    0.0169   0.13\n",
      "\n",
      "[70 rows x 5 columns]\n"
     ]
    },
    {
     "name": "stderr",
     "output_type": "stream",
     "text": [
      "C:\\Users\\Paul\\anaconda3\\lib\\site-packages\\statsmodels\\tsa\\base\\tsa_model.py:581: ValueWarning: A date index has been provided, but it has no associated frequency information and so will be ignored when e.g. forecasting.\n",
      "  warnings.warn('A date index has been provided, but it has no'\n",
      "C:\\Users\\Paul\\anaconda3\\lib\\site-packages\\statsmodels\\tsa\\base\\tsa_model.py:581: ValueWarning: A date index has been provided, but it has no associated frequency information and so will be ignored when e.g. forecasting.\n",
      "  warnings.warn('A date index has been provided, but it has no'\n"
     ]
    },
    {
     "name": "stdout",
     "output_type": "stream",
     "text": [
      "            prediction  actual  error       mse   rmse\n",
      "Date                                                  \n",
      "2021-02-01   25.367477    29.0  -3.63   13.1769   3.63\n",
      "2021-02-02   24.398047    31.0  -6.60   43.5600   6.60\n",
      "2021-02-03   26.512187    24.0   2.51    6.3001   2.51\n",
      "2021-02-04   25.264766    28.0  -2.74    7.5076   2.74\n",
      "2021-02-05   28.292969    27.0   1.29    1.6641   1.29\n",
      "...                ...     ...    ...       ...    ...\n",
      "2021-04-07   12.762376    29.0 -16.24  263.7376  16.24\n",
      "2021-04-08   20.302334    24.0  -3.70   13.6900   3.70\n",
      "2021-04-09   22.397552    39.0 -16.60  275.5600  16.60\n",
      "2021-04-10   31.655993    16.0  15.66  245.2356  15.66\n",
      "2021-04-11   27.828227    29.0  -1.17    1.3689   1.17\n",
      "\n",
      "[70 rows x 5 columns]\n"
     ]
    },
    {
     "name": "stderr",
     "output_type": "stream",
     "text": [
      "C:\\Users\\Paul\\anaconda3\\lib\\site-packages\\statsmodels\\tsa\\base\\tsa_model.py:581: ValueWarning: A date index has been provided, but it has no associated frequency information and so will be ignored when e.g. forecasting.\n",
      "  warnings.warn('A date index has been provided, but it has no'\n",
      "C:\\Users\\Paul\\anaconda3\\lib\\site-packages\\statsmodels\\tsa\\base\\tsa_model.py:581: ValueWarning: A date index has been provided, but it has no associated frequency information and so will be ignored when e.g. forecasting.\n",
      "  warnings.warn('A date index has been provided, but it has no'\n"
     ]
    },
    {
     "name": "stdout",
     "output_type": "stream",
     "text": [
      "            prediction  actual  error      mse  rmse\n",
      "Date                                                \n",
      "2021-02-01   24.953515    16.0   8.95  80.1025  8.95\n",
      "2021-02-02   21.859881    18.0   3.86  14.8996  3.86\n",
      "2021-02-03   21.534368    22.0  -0.47   0.2209  0.47\n",
      "2021-02-04   21.051674    21.0   0.05   0.0025  0.05\n",
      "2021-02-05   21.407937    18.0   3.41  11.6281  3.41\n",
      "...                ...     ...    ...      ...   ...\n",
      "2021-04-07   14.461335     9.0   5.46  29.8116  5.46\n",
      "2021-04-08   13.255493    12.0   1.26   1.5876  1.26\n",
      "2021-04-09   13.315817    16.0  -2.68   7.1824  2.68\n",
      "2021-04-10   12.685615    12.0   0.69   0.4761  0.69\n",
      "2021-04-11   13.209201    15.0  -1.79   3.2041  1.79\n",
      "\n",
      "[70 rows x 5 columns]\n"
     ]
    },
    {
     "name": "stderr",
     "output_type": "stream",
     "text": [
      "C:\\Users\\Paul\\anaconda3\\lib\\site-packages\\statsmodels\\tsa\\base\\tsa_model.py:581: ValueWarning: A date index has been provided, but it has no associated frequency information and so will be ignored when e.g. forecasting.\n",
      "  warnings.warn('A date index has been provided, but it has no'\n",
      "C:\\Users\\Paul\\anaconda3\\lib\\site-packages\\statsmodels\\tsa\\base\\tsa_model.py:581: ValueWarning: A date index has been provided, but it has no associated frequency information and so will be ignored when e.g. forecasting.\n",
      "  warnings.warn('A date index has been provided, but it has no'\n"
     ]
    },
    {
     "name": "stdout",
     "output_type": "stream",
     "text": [
      "            prediction  actual  error       mse   rmse\n",
      "Date                                                  \n",
      "2021-02-01   18.771236    27.0  -8.23   67.7329   8.23\n",
      "2021-02-02   25.467278    28.0  -2.53    6.4009   2.53\n",
      "2021-02-03   26.967286    22.0   4.97   24.7009   4.97\n",
      "2021-02-04   23.459625    13.0  10.46  109.4116  10.46\n",
      "2021-02-05   14.443801    12.0   2.44    5.9536   2.44\n",
      "...                ...     ...    ...       ...    ...\n",
      "2021-04-07   12.588351    14.0  -1.41    1.9881   1.41\n",
      "2021-04-08   13.643240    14.0  -0.36    0.1296   0.36\n",
      "2021-04-09   13.119583    15.0  -1.88    3.5344   1.88\n",
      "2021-04-10   15.699730    14.0   1.70    2.8900   1.70\n",
      "2021-04-11   14.390531    16.0  -1.61    2.5921   1.61\n",
      "\n",
      "[70 rows x 5 columns]\n"
     ]
    },
    {
     "name": "stderr",
     "output_type": "stream",
     "text": [
      "C:\\Users\\Paul\\anaconda3\\lib\\site-packages\\statsmodels\\tsa\\base\\tsa_model.py:581: ValueWarning: A date index has been provided, but it has no associated frequency information and so will be ignored when e.g. forecasting.\n",
      "  warnings.warn('A date index has been provided, but it has no'\n",
      "C:\\Users\\Paul\\anaconda3\\lib\\site-packages\\statsmodels\\tsa\\base\\tsa_model.py:581: ValueWarning: A date index has been provided, but it has no associated frequency information and so will be ignored when e.g. forecasting.\n",
      "  warnings.warn('A date index has been provided, but it has no'\n"
     ]
    },
    {
     "name": "stdout",
     "output_type": "stream",
     "text": [
      "            prediction  actual  error     mse  rmse\n",
      "Date                                               \n",
      "2021-02-01    6.182552     8.0  -1.82  3.3124  1.82\n",
      "2021-02-02    6.098011     6.0   0.10  0.0100  0.10\n",
      "2021-02-03    6.376369     8.0  -1.62  2.6244  1.62\n",
      "2021-02-04    6.810711     8.0  -1.19  1.4161  1.19\n",
      "2021-02-05    6.658170     6.0   0.66  0.4356  0.66\n",
      "...                ...     ...    ...     ...   ...\n",
      "2021-04-07    6.981678     7.0  -0.02  0.0004  0.02\n",
      "2021-04-08    7.553443     7.0   0.55  0.3025  0.55\n",
      "2021-04-09    6.446714     9.0  -2.55  6.5025  2.55\n",
      "2021-04-10    7.014054     7.0   0.01  0.0001  0.01\n",
      "2021-04-11    8.181552     8.0   0.18  0.0324  0.18\n",
      "\n",
      "[70 rows x 5 columns]\n"
     ]
    },
    {
     "name": "stderr",
     "output_type": "stream",
     "text": [
      "C:\\Users\\Paul\\anaconda3\\lib\\site-packages\\statsmodels\\tsa\\base\\tsa_model.py:581: ValueWarning: A date index has been provided, but it has no associated frequency information and so will be ignored when e.g. forecasting.\n",
      "  warnings.warn('A date index has been provided, but it has no'\n",
      "C:\\Users\\Paul\\anaconda3\\lib\\site-packages\\statsmodels\\tsa\\base\\tsa_model.py:581: ValueWarning: A date index has been provided, but it has no associated frequency information and so will be ignored when e.g. forecasting.\n",
      "  warnings.warn('A date index has been provided, but it has no'\n"
     ]
    },
    {
     "name": "stdout",
     "output_type": "stream",
     "text": [
      "            prediction  actual  error      mse  rmse\n",
      "Date                                                \n",
      "2021-02-01    7.665112     6.0   1.67   2.7889  1.67\n",
      "2021-02-02    5.373895     6.0  -0.63   0.3969  0.63\n",
      "2021-02-03    5.929921     6.0  -0.07   0.0049  0.07\n",
      "2021-02-04    6.712817     5.0   1.71   2.9241  1.71\n",
      "2021-02-05    6.429660     3.0   3.43  11.7649  3.43\n",
      "...                ...     ...    ...      ...   ...\n",
      "2021-04-07    8.251012    15.0  -6.75  45.5625  6.75\n",
      "2021-04-08   13.364674     9.0   4.36  19.0096  4.36\n",
      "2021-04-09   10.941694    11.0  -0.06   0.0036  0.06\n",
      "2021-04-10   10.677817    10.0   0.68   0.4624  0.68\n",
      "2021-04-11   11.620493    10.0   1.62   2.6244  1.62\n",
      "\n",
      "[70 rows x 5 columns]\n"
     ]
    },
    {
     "name": "stderr",
     "output_type": "stream",
     "text": [
      "C:\\Users\\Paul\\anaconda3\\lib\\site-packages\\statsmodels\\tsa\\base\\tsa_model.py:581: ValueWarning: A date index has been provided, but it has no associated frequency information and so will be ignored when e.g. forecasting.\n",
      "  warnings.warn('A date index has been provided, but it has no'\n",
      "C:\\Users\\Paul\\anaconda3\\lib\\site-packages\\statsmodels\\tsa\\base\\tsa_model.py:581: ValueWarning: A date index has been provided, but it has no associated frequency information and so will be ignored when e.g. forecasting.\n",
      "  warnings.warn('A date index has been provided, but it has no'\n"
     ]
    },
    {
     "name": "stdout",
     "output_type": "stream",
     "text": [
      "            prediction  actual  error      mse  rmse\n",
      "Date                                                \n",
      "2021-02-01   12.761733    13.0  -0.24   0.0576  0.24\n",
      "2021-02-02    9.767938    12.0  -2.23   4.9729  2.23\n",
      "2021-02-03    9.547421     5.0   4.55  20.7025  4.55\n",
      "2021-02-04    5.679921    12.0  -6.32  39.9424  6.32\n",
      "2021-02-05   12.244538     5.0   7.24  52.4176  7.24\n",
      "...                ...     ...    ...      ...   ...\n",
      "2021-04-07    8.712986    11.0  -2.29   5.2441  2.29\n",
      "2021-04-08    8.995437    12.0  -3.00   9.0000  3.00\n",
      "2021-04-09   11.781407    11.0   0.78   0.6084  0.78\n",
      "2021-04-10   12.610010     7.0   5.61  31.4721  5.61\n",
      "2021-04-11   11.683197     8.0   3.68  13.5424  3.68\n",
      "\n",
      "[70 rows x 5 columns]\n"
     ]
    },
    {
     "name": "stderr",
     "output_type": "stream",
     "text": [
      "C:\\Users\\Paul\\anaconda3\\lib\\site-packages\\statsmodels\\tsa\\base\\tsa_model.py:581: ValueWarning: A date index has been provided, but it has no associated frequency information and so will be ignored when e.g. forecasting.\n",
      "  warnings.warn('A date index has been provided, but it has no'\n",
      "C:\\Users\\Paul\\anaconda3\\lib\\site-packages\\statsmodels\\tsa\\base\\tsa_model.py:581: ValueWarning: A date index has been provided, but it has no associated frequency information and so will be ignored when e.g. forecasting.\n",
      "  warnings.warn('A date index has been provided, but it has no'\n"
     ]
    },
    {
     "name": "stdout",
     "output_type": "stream",
     "text": [
      "            prediction  actual  error      mse  rmse\n",
      "Date                                                \n",
      "2021-02-01   13.593845    23.0  -9.41  88.5481  9.41\n",
      "2021-02-02   15.530403    13.0   2.53   6.4009  2.53\n",
      "2021-02-03   14.780242    14.0   0.78   0.6084  0.78\n",
      "2021-02-04   14.979771    11.0   3.98  15.8404  3.98\n",
      "2021-02-05   13.451015    13.0   0.45   0.2025  0.45\n",
      "...                ...     ...    ...      ...   ...\n",
      "2021-04-07   12.027888    14.0  -1.97   3.8809  1.97\n",
      "2021-04-08   12.159033    13.0  -0.84   0.7056  0.84\n",
      "2021-04-09   12.538881    13.0  -0.46   0.2116  0.46\n",
      "2021-04-10   12.127390    12.0   0.13   0.0169  0.13\n",
      "2021-04-11   13.219996     9.0   4.22  17.8084  4.22\n",
      "\n",
      "[70 rows x 5 columns]\n"
     ]
    },
    {
     "name": "stderr",
     "output_type": "stream",
     "text": [
      "C:\\Users\\Paul\\anaconda3\\lib\\site-packages\\statsmodels\\tsa\\base\\tsa_model.py:581: ValueWarning: A date index has been provided, but it has no associated frequency information and so will be ignored when e.g. forecasting.\n",
      "  warnings.warn('A date index has been provided, but it has no'\n",
      "C:\\Users\\Paul\\anaconda3\\lib\\site-packages\\statsmodels\\tsa\\base\\tsa_model.py:581: ValueWarning: A date index has been provided, but it has no associated frequency information and so will be ignored when e.g. forecasting.\n",
      "  warnings.warn('A date index has been provided, but it has no'\n"
     ]
    },
    {
     "name": "stdout",
     "output_type": "stream",
     "text": [
      "            prediction  actual  error       mse   rmse\n",
      "Date                                                  \n",
      "2021-02-01   16.335880    27.0 -10.66  113.6356  10.66\n",
      "2021-02-02   19.942304    31.0 -11.06  122.3236  11.06\n",
      "2021-02-03   23.397305    13.0  10.40  108.1600  10.40\n",
      "2021-02-04   20.259303    14.0   6.26   39.1876   6.26\n",
      "2021-02-05   17.498255    13.0   4.50   20.2500   4.50\n",
      "...                ...     ...    ...       ...    ...\n",
      "2021-04-07    7.103619    12.0  -4.90   24.0100   4.90\n",
      "2021-04-08    8.963763    10.0  -1.04    1.0816   1.04\n",
      "2021-04-09    9.089618    10.0  -0.91    0.8281   0.91\n",
      "2021-04-10    9.715657    16.0  -6.28   39.4384   6.28\n",
      "2021-04-11   12.141518    12.0   0.14    0.0196   0.14\n",
      "\n",
      "[70 rows x 5 columns]\n"
     ]
    },
    {
     "name": "stderr",
     "output_type": "stream",
     "text": [
      "C:\\Users\\Paul\\anaconda3\\lib\\site-packages\\statsmodels\\tsa\\base\\tsa_model.py:581: ValueWarning: A date index has been provided, but it has no associated frequency information and so will be ignored when e.g. forecasting.\n",
      "  warnings.warn('A date index has been provided, but it has no'\n",
      "C:\\Users\\Paul\\anaconda3\\lib\\site-packages\\statsmodels\\tsa\\base\\tsa_model.py:581: ValueWarning: A date index has been provided, but it has no associated frequency information and so will be ignored when e.g. forecasting.\n",
      "  warnings.warn('A date index has been provided, but it has no'\n"
     ]
    },
    {
     "name": "stdout",
     "output_type": "stream",
     "text": [
      "            prediction  actual  error       mse   rmse\n",
      "Date                                                  \n",
      "2021-02-01   20.931414    16.0   4.93   24.3049   4.93\n",
      "2021-02-02   19.161331    21.0  -1.84    3.3856   1.84\n",
      "2021-02-03   19.423121    16.0   3.42   11.6964   3.42\n",
      "2021-02-04   19.756240    16.0   3.76   14.1376   3.76\n",
      "2021-02-05   20.443899    17.0   3.44   11.8336   3.44\n",
      "...                ...     ...    ...       ...    ...\n",
      "2021-04-07   11.297703    22.0 -10.70  114.4900  10.70\n",
      "2021-04-08   13.586924    15.0  -1.41    1.9881   1.41\n",
      "2021-04-09   14.739105     8.0   6.74   45.4276   6.74\n",
      "2021-04-10   12.745512    40.0 -27.25  742.5625  27.25\n",
      "2021-04-11   17.828325    36.0 -18.17  330.1489  18.17\n",
      "\n",
      "[70 rows x 5 columns]\n"
     ]
    },
    {
     "name": "stderr",
     "output_type": "stream",
     "text": [
      "C:\\Users\\Paul\\anaconda3\\lib\\site-packages\\statsmodels\\tsa\\base\\tsa_model.py:581: ValueWarning: A date index has been provided, but it has no associated frequency information and so will be ignored when e.g. forecasting.\n",
      "  warnings.warn('A date index has been provided, but it has no'\n",
      "C:\\Users\\Paul\\anaconda3\\lib\\site-packages\\statsmodels\\tsa\\base\\tsa_model.py:581: ValueWarning: A date index has been provided, but it has no associated frequency information and so will be ignored when e.g. forecasting.\n",
      "  warnings.warn('A date index has been provided, but it has no'\n"
     ]
    },
    {
     "name": "stdout",
     "output_type": "stream",
     "text": [
      "            prediction  actual  error      mse  rmse\n",
      "Date                                                \n",
      "2021-02-01   13.205172    11.0   2.21   4.8841  2.21\n",
      "2021-02-02   12.826028     8.0   4.83  23.3289  4.83\n",
      "2021-02-03   12.478015    10.0   2.48   6.1504  2.48\n",
      "2021-02-04   12.959770    14.0  -1.04   1.0816  1.04\n",
      "2021-02-05   13.321180    12.0   1.32   1.7424  1.32\n",
      "...                ...     ...    ...      ...   ...\n",
      "2021-04-07   13.205321    10.0   3.21  10.3041  3.21\n",
      "2021-04-08   12.655834    16.0  -3.34  11.1556  3.34\n",
      "2021-04-09   13.530622    11.0   2.53   6.4009  2.53\n",
      "2021-04-10   13.272397    10.0   3.27  10.6929  3.27\n",
      "2021-04-11   13.160554    15.0  -1.84   3.3856  1.84\n",
      "\n",
      "[70 rows x 5 columns]\n"
     ]
    },
    {
     "name": "stderr",
     "output_type": "stream",
     "text": [
      "C:\\Users\\Paul\\anaconda3\\lib\\site-packages\\statsmodels\\tsa\\base\\tsa_model.py:581: ValueWarning: A date index has been provided, but it has no associated frequency information and so will be ignored when e.g. forecasting.\n",
      "  warnings.warn('A date index has been provided, but it has no'\n",
      "C:\\Users\\Paul\\anaconda3\\lib\\site-packages\\statsmodels\\tsa\\base\\tsa_model.py:581: ValueWarning: A date index has been provided, but it has no associated frequency information and so will be ignored when e.g. forecasting.\n",
      "  warnings.warn('A date index has been provided, but it has no'\n"
     ]
    },
    {
     "name": "stdout",
     "output_type": "stream",
     "text": [
      "            prediction  actual  error       mse   rmse\n",
      "Date                                                  \n",
      "2021-02-01   60.889102    73.0 -12.11  146.6521  12.11\n",
      "2021-02-02   68.403564    40.0  28.40  806.5600  28.40\n",
      "2021-02-03   47.740854    28.0  19.74  389.6676  19.74\n",
      "2021-02-04   35.128575    14.0  21.13  446.4769  21.13\n",
      "2021-02-05   19.140248    18.0   1.14    1.2996   1.14\n",
      "...                ...     ...    ...       ...    ...\n",
      "2021-04-07   10.147686    14.0  -3.85   14.8225   3.85\n",
      "2021-04-08   13.809441    14.0  -0.19    0.0361   0.19\n",
      "2021-04-09   13.589537    11.0   2.59    6.7081   2.59\n",
      "2021-04-10   11.618612     6.0   5.62   31.5844   5.62\n",
      "2021-04-11    8.466638    11.0  -2.53    6.4009   2.53\n",
      "\n",
      "[70 rows x 5 columns]\n"
     ]
    },
    {
     "name": "stderr",
     "output_type": "stream",
     "text": [
      "C:\\Users\\Paul\\anaconda3\\lib\\site-packages\\statsmodels\\tsa\\base\\tsa_model.py:581: ValueWarning: A date index has been provided, but it has no associated frequency information and so will be ignored when e.g. forecasting.\n",
      "  warnings.warn('A date index has been provided, but it has no'\n",
      "C:\\Users\\Paul\\anaconda3\\lib\\site-packages\\statsmodels\\tsa\\base\\tsa_model.py:581: ValueWarning: A date index has been provided, but it has no associated frequency information and so will be ignored when e.g. forecasting.\n",
      "  warnings.warn('A date index has been provided, but it has no'\n"
     ]
    },
    {
     "name": "stdout",
     "output_type": "stream",
     "text": [
      "            prediction  actual  error        mse   rmse\n",
      "Date                                                   \n",
      "2021-02-01   33.258338    55.0 -21.74   472.6276  21.74\n",
      "2021-02-02   43.627686    54.0 -10.37   107.5369  10.37\n",
      "2021-02-03   48.844608    46.0   2.84     8.0656   2.84\n",
      "2021-02-04   48.351823     8.0  40.35  1628.1225  40.35\n",
      "2021-02-05   25.495325    20.0   5.50    30.2500   5.50\n",
      "...                ...     ...    ...        ...    ...\n",
      "2021-04-07   13.870020     8.0   5.87    34.4569   5.87\n",
      "2021-04-08    7.509561     7.0   0.51     0.2601   0.51\n",
      "2021-04-09    6.092222    10.0  -3.91    15.2881   3.91\n",
      "2021-04-10    9.109266     9.0   0.11     0.0121   0.11\n",
      "2021-04-11   10.875882     6.0   4.88    23.8144   4.88\n",
      "\n",
      "[70 rows x 5 columns]\n"
     ]
    },
    {
     "name": "stderr",
     "output_type": "stream",
     "text": [
      "C:\\Users\\Paul\\anaconda3\\lib\\site-packages\\statsmodels\\tsa\\base\\tsa_model.py:581: ValueWarning: A date index has been provided, but it has no associated frequency information and so will be ignored when e.g. forecasting.\n",
      "  warnings.warn('A date index has been provided, but it has no'\n",
      "C:\\Users\\Paul\\anaconda3\\lib\\site-packages\\statsmodels\\tsa\\base\\tsa_model.py:581: ValueWarning: A date index has been provided, but it has no associated frequency information and so will be ignored when e.g. forecasting.\n",
      "  warnings.warn('A date index has been provided, but it has no'\n"
     ]
    },
    {
     "name": "stdout",
     "output_type": "stream",
     "text": [
      "            prediction  actual  error       mse   rmse\n",
      "Date                                                  \n",
      "2021-02-01   37.199255    35.0   2.20    4.8400   2.20\n",
      "2021-02-02   34.051718    39.0  -4.95   24.5025   4.95\n",
      "2021-02-03   36.314448    39.0  -2.69    7.2361   2.69\n",
      "2021-02-04   37.756758    15.0  22.76  518.0176  22.76\n",
      "2021-02-05   26.518266    22.0   4.52   20.4304   4.52\n",
      "...                ...     ...    ...       ...    ...\n",
      "2021-04-07   28.890189    43.0 -14.11  199.0921  14.11\n",
      "2021-04-08   35.208003    22.0  13.21  174.5041  13.21\n",
      "2021-04-09   28.568475    26.0   2.57    6.6049   2.57\n",
      "2021-04-10   28.237055    35.0  -6.76   45.6976   6.76\n",
      "2021-04-11   32.240075    41.0  -8.76   76.7376   8.76\n",
      "\n",
      "[70 rows x 5 columns]\n"
     ]
    },
    {
     "name": "stderr",
     "output_type": "stream",
     "text": [
      "C:\\Users\\Paul\\anaconda3\\lib\\site-packages\\statsmodels\\tsa\\base\\tsa_model.py:581: ValueWarning: A date index has been provided, but it has no associated frequency information and so will be ignored when e.g. forecasting.\n",
      "  warnings.warn('A date index has been provided, but it has no'\n",
      "C:\\Users\\Paul\\anaconda3\\lib\\site-packages\\statsmodels\\tsa\\base\\tsa_model.py:581: ValueWarning: A date index has been provided, but it has no associated frequency information and so will be ignored when e.g. forecasting.\n",
      "  warnings.warn('A date index has been provided, but it has no'\n"
     ]
    },
    {
     "name": "stdout",
     "output_type": "stream",
     "text": [
      "            prediction  actual  error       mse   rmse\n",
      "Date                                                  \n",
      "2021-02-01   66.123130    85.0 -18.88  356.4544  18.88\n",
      "2021-02-02   72.563986    74.0  -1.44    2.0736   1.44\n",
      "2021-02-03   72.300572    74.0  -1.70    2.8900   1.70\n",
      "2021-02-04   75.221551    55.0  20.22  408.8484  20.22\n",
      "2021-02-05   67.091906    48.0  19.09  364.4281  19.09\n",
      "...                ...     ...    ...       ...    ...\n",
      "2021-04-07   33.227096    55.0 -21.77  473.9329  21.77\n",
      "2021-04-08   42.167694    39.0   3.17   10.0489   3.17\n",
      "2021-04-09   41.769576    31.0  10.77  115.9929  10.77\n",
      "2021-04-10   37.247949    38.0  -0.75    0.5625   0.75\n",
      "2021-04-11   38.421678    32.0   6.42   41.2164   6.42\n",
      "\n",
      "[70 rows x 5 columns]\n"
     ]
    },
    {
     "name": "stderr",
     "output_type": "stream",
     "text": [
      "C:\\Users\\Paul\\anaconda3\\lib\\site-packages\\statsmodels\\tsa\\base\\tsa_model.py:581: ValueWarning: A date index has been provided, but it has no associated frequency information and so will be ignored when e.g. forecasting.\n",
      "  warnings.warn('A date index has been provided, but it has no'\n",
      "C:\\Users\\Paul\\anaconda3\\lib\\site-packages\\statsmodels\\tsa\\base\\tsa_model.py:581: ValueWarning: A date index has been provided, but it has no associated frequency information and so will be ignored when e.g. forecasting.\n",
      "  warnings.warn('A date index has been provided, but it has no'\n"
     ]
    },
    {
     "name": "stdout",
     "output_type": "stream",
     "text": [
      "            prediction  actual  error      mse  rmse\n",
      "Date                                                \n",
      "2021-02-01   17.985786    27.0  -9.01  81.1801  9.01\n",
      "2021-02-02   17.375088     9.0   8.38  70.2244  8.38\n",
      "2021-02-03   15.417415    15.0   0.42   0.1764  0.42\n",
      "2021-02-04   14.676733     6.0   8.68  75.3424  8.68\n",
      "2021-02-05   12.998921    10.0   3.00   9.0000  3.00\n",
      "...                ...     ...    ...      ...   ...\n",
      "2021-04-07    7.378992    13.0  -5.62  31.5844  5.62\n",
      "2021-04-08    8.002004     6.0   2.00   4.0000  2.00\n",
      "2021-04-09    8.844500     8.0   0.84   0.7056  0.84\n",
      "2021-04-10    8.520431     4.0   4.52  20.4304  4.52\n",
      "2021-04-11    8.727990    13.0  -4.27  18.2329  4.27\n",
      "\n",
      "[70 rows x 5 columns]\n"
     ]
    },
    {
     "name": "stderr",
     "output_type": "stream",
     "text": [
      "C:\\Users\\Paul\\anaconda3\\lib\\site-packages\\statsmodels\\tsa\\base\\tsa_model.py:581: ValueWarning: A date index has been provided, but it has no associated frequency information and so will be ignored when e.g. forecasting.\n",
      "  warnings.warn('A date index has been provided, but it has no'\n",
      "C:\\Users\\Paul\\anaconda3\\lib\\site-packages\\statsmodels\\tsa\\base\\tsa_model.py:581: ValueWarning: A date index has been provided, but it has no associated frequency information and so will be ignored when e.g. forecasting.\n",
      "  warnings.warn('A date index has been provided, but it has no'\n"
     ]
    },
    {
     "name": "stdout",
     "output_type": "stream",
     "text": [
      "            prediction  actual  error     mse  rmse\n",
      "Date                                               \n",
      "2021-02-01   -0.323339     0.0  -0.32  0.1024  0.32\n",
      "2021-02-02   -0.405588     0.0  -0.41  0.1681  0.41\n",
      "2021-02-03   -0.046579     0.0  -0.05  0.0025  0.05\n",
      "2021-02-04   -0.795944     0.0  -0.80  0.6400  0.80\n",
      "2021-02-05   -0.093279     0.0  -0.09  0.0081  0.09\n",
      "...                ...     ...    ...     ...   ...\n",
      "2021-04-07   -0.025586     0.0  -0.03  0.0009  0.03\n",
      "2021-04-08   -0.437477     0.0  -0.44  0.1936  0.44\n",
      "2021-04-09   -0.051239     0.0  -0.05  0.0025  0.05\n",
      "2021-04-10   -0.098314     0.0  -0.10  0.0100  0.10\n",
      "2021-04-11    0.286115     0.0   0.29  0.0841  0.29\n",
      "\n",
      "[70 rows x 5 columns]\n"
     ]
    },
    {
     "name": "stderr",
     "output_type": "stream",
     "text": [
      "C:\\Users\\Paul\\anaconda3\\lib\\site-packages\\statsmodels\\tsa\\base\\tsa_model.py:581: ValueWarning: A date index has been provided, but it has no associated frequency information and so will be ignored when e.g. forecasting.\n",
      "  warnings.warn('A date index has been provided, but it has no'\n",
      "C:\\Users\\Paul\\anaconda3\\lib\\site-packages\\statsmodels\\tsa\\base\\tsa_model.py:581: ValueWarning: A date index has been provided, but it has no associated frequency information and so will be ignored when e.g. forecasting.\n",
      "  warnings.warn('A date index has been provided, but it has no'\n"
     ]
    },
    {
     "name": "stdout",
     "output_type": "stream",
     "text": [
      "            prediction  actual  error       mse   rmse\n",
      "Date                                                  \n",
      "2021-02-01   36.111857    27.0   9.11   82.9921   9.11\n",
      "2021-02-02   34.040721    38.0  -3.96   15.6816   3.96\n",
      "2021-02-03   36.288159    20.0  16.29  265.3641  16.29\n",
      "2021-02-04   32.984117    37.0  -4.02   16.1604   4.02\n",
      "2021-02-05   32.344008    36.0  -3.66   13.3956   3.66\n",
      "...                ...     ...    ...       ...    ...\n",
      "2021-04-07   38.172931    36.0   2.17    4.7089   2.17\n",
      "2021-04-08   40.175075    43.0  -2.82    7.9524   2.82\n",
      "2021-04-09   41.044898    43.0  -1.96    3.8416   1.96\n",
      "2021-04-10   38.804616    23.0  15.80  249.6400  15.80\n",
      "2021-04-11   41.267542    50.0  -8.73   76.2129   8.73\n",
      "\n",
      "[70 rows x 5 columns]\n"
     ]
    },
    {
     "name": "stderr",
     "output_type": "stream",
     "text": [
      "C:\\Users\\Paul\\anaconda3\\lib\\site-packages\\statsmodels\\tsa\\base\\tsa_model.py:581: ValueWarning: A date index has been provided, but it has no associated frequency information and so will be ignored when e.g. forecasting.\n",
      "  warnings.warn('A date index has been provided, but it has no'\n",
      "C:\\Users\\Paul\\anaconda3\\lib\\site-packages\\statsmodels\\tsa\\base\\tsa_model.py:581: ValueWarning: A date index has been provided, but it has no associated frequency information and so will be ignored when e.g. forecasting.\n",
      "  warnings.warn('A date index has been provided, but it has no'\n"
     ]
    },
    {
     "name": "stdout",
     "output_type": "stream",
     "text": [
      "            prediction  actual  error       mse   rmse\n",
      "Date                                                  \n",
      "2021-02-01   18.613703    44.0 -25.39  644.6521  25.39\n",
      "2021-02-02   34.788843    30.0   4.79   22.9441   4.79\n",
      "2021-02-03   30.652414    23.0   7.65   58.5225   7.65\n",
      "2021-02-04   26.443944    11.0  15.44  238.3936  15.44\n",
      "2021-02-05   17.181813    13.0   4.18   17.4724   4.18\n",
      "...                ...     ...    ...       ...    ...\n",
      "2021-04-07    4.315059     6.0  -1.68    2.8224   1.68\n",
      "2021-04-08    4.114136     6.0  -1.89    3.5721   1.89\n",
      "2021-04-09    8.589677     9.0  -0.41    0.1681   0.41\n",
      "2021-04-10    7.804660     8.0  -0.20    0.0400   0.20\n",
      "2021-04-11    7.293510    10.0  -2.71    7.3441   2.71\n",
      "\n",
      "[70 rows x 5 columns]\n"
     ]
    },
    {
     "name": "stderr",
     "output_type": "stream",
     "text": [
      "C:\\Users\\Paul\\anaconda3\\lib\\site-packages\\statsmodels\\tsa\\base\\tsa_model.py:581: ValueWarning: A date index has been provided, but it has no associated frequency information and so will be ignored when e.g. forecasting.\n",
      "  warnings.warn('A date index has been provided, but it has no'\n",
      "C:\\Users\\Paul\\anaconda3\\lib\\site-packages\\statsmodels\\tsa\\base\\tsa_model.py:581: ValueWarning: A date index has been provided, but it has no associated frequency information and so will be ignored when e.g. forecasting.\n",
      "  warnings.warn('A date index has been provided, but it has no'\n"
     ]
    },
    {
     "name": "stdout",
     "output_type": "stream",
     "text": [
      "            prediction  actual  error       mse   rmse\n",
      "Date                                                  \n",
      "2021-02-01   17.335268    14.0   3.34   11.1556   3.34\n",
      "2021-02-02   16.825927    10.0   6.83   46.6489   6.83\n",
      "2021-02-03   11.122456    19.0  -7.88   62.0944   7.88\n",
      "2021-02-04   15.117587    12.0   3.12    9.7344   3.12\n",
      "2021-02-05   14.879998    14.0   0.88    0.7744   0.88\n",
      "...                ...     ...    ...       ...    ...\n",
      "2021-04-07   13.361945    25.0 -11.64  135.4896  11.64\n",
      "2021-04-08   18.687037    16.0   2.69    7.2361   2.69\n",
      "2021-04-09   18.494319    17.0   1.49    2.2201   1.49\n",
      "2021-04-10   18.833619    14.0   4.83   23.3289   4.83\n",
      "2021-04-11   15.850014    15.0   0.85    0.7225   0.85\n",
      "\n",
      "[70 rows x 5 columns]\n"
     ]
    },
    {
     "name": "stderr",
     "output_type": "stream",
     "text": [
      "C:\\Users\\Paul\\anaconda3\\lib\\site-packages\\statsmodels\\tsa\\base\\tsa_model.py:581: ValueWarning: A date index has been provided, but it has no associated frequency information and so will be ignored when e.g. forecasting.\n",
      "  warnings.warn('A date index has been provided, but it has no'\n",
      "C:\\Users\\Paul\\anaconda3\\lib\\site-packages\\statsmodels\\tsa\\base\\tsa_model.py:581: ValueWarning: A date index has been provided, but it has no associated frequency information and so will be ignored when e.g. forecasting.\n",
      "  warnings.warn('A date index has been provided, but it has no'\n"
     ]
    },
    {
     "name": "stdout",
     "output_type": "stream",
     "text": [
      "            prediction  actual  error      mse  rmse\n",
      "Date                                                \n",
      "2021-02-01   29.697057    30.0  -0.30   0.0900  0.30\n",
      "2021-02-02   31.791898    26.0   5.79  33.5241  5.79\n",
      "2021-02-03   29.118380    30.0  -0.88   0.7744  0.88\n",
      "2021-02-04   29.977356    27.0   2.98   8.8804  2.98\n",
      "2021-02-05   29.483338    29.0   0.48   0.2304  0.48\n",
      "...                ...     ...    ...      ...   ...\n",
      "2021-04-07   15.975907    17.0  -1.02   1.0404  1.02\n",
      "2021-04-08   16.670709    13.0   3.67  13.4689  3.67\n",
      "2021-04-09   16.670671    14.0   2.67   7.1289  2.67\n",
      "2021-04-10   15.129336    20.0  -4.87  23.7169  4.87\n",
      "2021-04-11   16.024014    14.0   2.02   4.0804  2.02\n",
      "\n",
      "[70 rows x 5 columns]\n"
     ]
    },
    {
     "name": "stderr",
     "output_type": "stream",
     "text": [
      "C:\\Users\\Paul\\anaconda3\\lib\\site-packages\\statsmodels\\tsa\\base\\tsa_model.py:581: ValueWarning: A date index has been provided, but it has no associated frequency information and so will be ignored when e.g. forecasting.\n",
      "  warnings.warn('A date index has been provided, but it has no'\n",
      "C:\\Users\\Paul\\anaconda3\\lib\\site-packages\\statsmodels\\tsa\\base\\tsa_model.py:581: ValueWarning: A date index has been provided, but it has no associated frequency information and so will be ignored when e.g. forecasting.\n",
      "  warnings.warn('A date index has been provided, but it has no'\n"
     ]
    },
    {
     "name": "stdout",
     "output_type": "stream",
     "text": [
      "            prediction  actual  error       mse   rmse\n",
      "Date                                                  \n",
      "2021-02-01    0.485276     0.0   0.49    0.2401   0.49\n",
      "2021-02-02    1.420187     0.0   1.42    2.0164   1.42\n",
      "2021-02-03   -0.996370    18.0 -19.00  361.0000  19.00\n",
      "2021-02-04    5.577101     6.0  -0.42    0.1764   0.42\n",
      "2021-02-05    6.392019     0.0   6.39   40.8321   6.39\n",
      "...                ...     ...    ...       ...    ...\n",
      "2021-04-07    8.008527     4.0   4.01   16.0801   4.01\n",
      "2021-04-08    5.118009     6.0  -0.88    0.7744   0.88\n",
      "2021-04-09    7.315970     7.0   0.32    0.1024   0.32\n",
      "2021-04-10    6.851011     4.0   2.85    8.1225   2.85\n",
      "2021-04-11    5.963863     3.0   2.96    8.7616   2.96\n",
      "\n",
      "[70 rows x 5 columns]\n"
     ]
    },
    {
     "name": "stderr",
     "output_type": "stream",
     "text": [
      "C:\\Users\\Paul\\anaconda3\\lib\\site-packages\\statsmodels\\tsa\\base\\tsa_model.py:581: ValueWarning: A date index has been provided, but it has no associated frequency information and so will be ignored when e.g. forecasting.\n",
      "  warnings.warn('A date index has been provided, but it has no'\n",
      "C:\\Users\\Paul\\anaconda3\\lib\\site-packages\\statsmodels\\tsa\\base\\tsa_model.py:581: ValueWarning: A date index has been provided, but it has no associated frequency information and so will be ignored when e.g. forecasting.\n",
      "  warnings.warn('A date index has been provided, but it has no'\n"
     ]
    },
    {
     "name": "stdout",
     "output_type": "stream",
     "text": [
      "            prediction  actual  error     mse  rmse\n",
      "Date                                               \n",
      "2021-02-01   10.299890     9.0   1.30  1.6900  1.30\n",
      "2021-02-02   10.372748    11.0  -0.63  0.3969  0.63\n",
      "2021-02-03    9.747218     9.0   0.75  0.5625  0.75\n",
      "2021-02-04    9.235572    12.0  -2.76  7.6176  2.76\n",
      "2021-02-05   10.160453     9.0   1.16  1.3456  1.16\n",
      "...                ...     ...    ...     ...   ...\n",
      "2021-04-07   12.465946    11.0   1.47  2.1609  1.47\n",
      "2021-04-08   11.704699    11.0   0.70  0.4900  0.70\n",
      "2021-04-09   12.058826    12.0   0.06  0.0036  0.06\n",
      "2021-04-10   12.200634    10.0   2.20  4.8400  2.20\n",
      "2021-04-11   12.043669    10.0   2.04  4.1616  2.04\n",
      "\n",
      "[70 rows x 5 columns]\n"
     ]
    },
    {
     "name": "stderr",
     "output_type": "stream",
     "text": [
      "C:\\Users\\Paul\\anaconda3\\lib\\site-packages\\statsmodels\\tsa\\base\\tsa_model.py:581: ValueWarning: A date index has been provided, but it has no associated frequency information and so will be ignored when e.g. forecasting.\n",
      "  warnings.warn('A date index has been provided, but it has no'\n",
      "C:\\Users\\Paul\\anaconda3\\lib\\site-packages\\statsmodels\\tsa\\base\\tsa_model.py:581: ValueWarning: A date index has been provided, but it has no associated frequency information and so will be ignored when e.g. forecasting.\n",
      "  warnings.warn('A date index has been provided, but it has no'\n"
     ]
    },
    {
     "name": "stdout",
     "output_type": "stream",
     "text": [
      "            prediction  actual  error      mse  rmse\n",
      "Date                                                \n",
      "2021-02-01   24.912935    25.0  -0.09   0.0081  0.09\n",
      "2021-02-02   23.024491    16.0   7.02  49.2804  7.02\n",
      "2021-02-03   18.166896    15.0   3.17  10.0489  3.17\n",
      "2021-02-04   15.931933    15.0   0.93   0.8649  0.93\n",
      "2021-02-05   17.561643    15.0   2.56   6.5536  2.56\n",
      "...                ...     ...    ...      ...   ...\n",
      "2021-04-07    8.286668    12.0  -3.71  13.7641  3.71\n",
      "2021-04-08   10.726567    11.0  -0.27   0.0729  0.27\n",
      "2021-04-09   12.241912    13.0  -0.76   0.5776  0.76\n",
      "2021-04-10   12.985332     7.0   5.99  35.8801  5.99\n",
      "2021-04-11    8.987840    13.0  -4.01  16.0801  4.01\n",
      "\n",
      "[70 rows x 5 columns]\n"
     ]
    },
    {
     "name": "stderr",
     "output_type": "stream",
     "text": [
      "C:\\Users\\Paul\\anaconda3\\lib\\site-packages\\statsmodels\\tsa\\base\\tsa_model.py:581: ValueWarning: A date index has been provided, but it has no associated frequency information and so will be ignored when e.g. forecasting.\n",
      "  warnings.warn('A date index has been provided, but it has no'\n",
      "C:\\Users\\Paul\\anaconda3\\lib\\site-packages\\statsmodels\\tsa\\base\\tsa_model.py:581: ValueWarning: A date index has been provided, but it has no associated frequency information and so will be ignored when e.g. forecasting.\n",
      "  warnings.warn('A date index has been provided, but it has no'\n"
     ]
    },
    {
     "name": "stdout",
     "output_type": "stream",
     "text": [
      "            prediction  actual  error      mse  rmse\n",
      "Date                                                \n",
      "2021-02-01   20.944463    24.0  -3.06   9.3636  3.06\n",
      "2021-02-02   22.246502    21.0   1.25   1.5625  1.25\n",
      "2021-02-03   22.252462    17.0   5.25  27.5625  5.25\n",
      "2021-02-04   19.839127    10.0   9.84  96.8256  9.84\n",
      "2021-02-05   14.198414     8.0   6.20  38.4400  6.20\n",
      "...                ...     ...    ...      ...   ...\n",
      "2021-04-07    8.573419     8.0   0.57   0.3249  0.57\n",
      "2021-04-08    8.586757     7.0   1.59   2.5281  1.59\n",
      "2021-04-09    7.449197     9.0  -1.55   2.4025  1.55\n",
      "2021-04-10    8.814993     9.0  -0.19   0.0361  0.19\n",
      "2021-04-11    8.824487     9.0  -0.18   0.0324  0.18\n",
      "\n",
      "[70 rows x 5 columns]\n"
     ]
    },
    {
     "name": "stderr",
     "output_type": "stream",
     "text": [
      "C:\\Users\\Paul\\anaconda3\\lib\\site-packages\\statsmodels\\tsa\\base\\tsa_model.py:581: ValueWarning: A date index has been provided, but it has no associated frequency information and so will be ignored when e.g. forecasting.\n",
      "  warnings.warn('A date index has been provided, but it has no'\n",
      "C:\\Users\\Paul\\anaconda3\\lib\\site-packages\\statsmodels\\tsa\\base\\tsa_model.py:581: ValueWarning: A date index has been provided, but it has no associated frequency information and so will be ignored when e.g. forecasting.\n",
      "  warnings.warn('A date index has been provided, but it has no'\n"
     ]
    },
    {
     "name": "stdout",
     "output_type": "stream",
     "text": [
      "            prediction  actual  error       mse   rmse\n",
      "Date                                                  \n",
      "2021-02-01    9.906646    20.0 -10.09  101.8081  10.09\n",
      "2021-02-02   17.050827    17.0   0.05    0.0025   0.05\n",
      "2021-02-03   16.749904    12.0   4.75   22.5625   4.75\n",
      "2021-02-04   12.952415    15.0  -2.05    4.2025   2.05\n",
      "2021-02-05   15.873076    20.0  -4.13   17.0569   4.13\n",
      "...                ...     ...    ...       ...    ...\n",
      "2021-04-07   14.727800    23.0  -8.27   68.3929   8.27\n",
      "2021-04-08   18.363599    21.0  -2.64    6.9696   2.64\n",
      "2021-04-09   23.377595    23.0   0.38    0.1444   0.38\n",
      "2021-04-10   20.523555    17.0   3.52   12.3904   3.52\n",
      "2021-04-11   19.160626    20.0  -0.84    0.7056   0.84\n",
      "\n",
      "[70 rows x 5 columns]\n"
     ]
    },
    {
     "name": "stderr",
     "output_type": "stream",
     "text": [
      "C:\\Users\\Paul\\anaconda3\\lib\\site-packages\\statsmodels\\tsa\\base\\tsa_model.py:581: ValueWarning: A date index has been provided, but it has no associated frequency information and so will be ignored when e.g. forecasting.\n",
      "  warnings.warn('A date index has been provided, but it has no'\n",
      "C:\\Users\\Paul\\anaconda3\\lib\\site-packages\\statsmodels\\tsa\\base\\tsa_model.py:581: ValueWarning: A date index has been provided, but it has no associated frequency information and so will be ignored when e.g. forecasting.\n",
      "  warnings.warn('A date index has been provided, but it has no'\n"
     ]
    },
    {
     "name": "stdout",
     "output_type": "stream",
     "text": [
      "            prediction  actual  error       mse   rmse\n",
      "Date                                                  \n",
      "2021-02-01   55.889831    55.0   0.89    0.7921   0.89\n",
      "2021-02-02   53.155391    43.0  10.16  103.2256  10.16\n",
      "2021-02-03   45.415188    47.0  -1.58    2.4964   1.58\n",
      "2021-02-04   46.196197    28.0  18.20  331.2400  18.20\n",
      "2021-02-05   33.176107    31.0   2.18    4.7524   2.18\n",
      "...                ...     ...    ...       ...    ...\n",
      "2021-04-07   24.031212    22.0   2.03    4.1209   2.03\n",
      "2021-04-08   19.528889    32.0 -12.47  155.5009  12.47\n",
      "2021-04-09   26.473311    23.0   3.47   12.0409   3.47\n",
      "2021-04-10   26.289864    19.0   7.29   53.1441   7.29\n",
      "2021-04-11   22.772373    14.0   8.77   76.9129   8.77\n",
      "\n",
      "[70 rows x 5 columns]\n"
     ]
    },
    {
     "name": "stderr",
     "output_type": "stream",
     "text": [
      "C:\\Users\\Paul\\anaconda3\\lib\\site-packages\\statsmodels\\tsa\\base\\tsa_model.py:581: ValueWarning: A date index has been provided, but it has no associated frequency information and so will be ignored when e.g. forecasting.\n",
      "  warnings.warn('A date index has been provided, but it has no'\n",
      "C:\\Users\\Paul\\anaconda3\\lib\\site-packages\\statsmodels\\tsa\\base\\tsa_model.py:581: ValueWarning: A date index has been provided, but it has no associated frequency information and so will be ignored when e.g. forecasting.\n",
      "  warnings.warn('A date index has been provided, but it has no'\n"
     ]
    },
    {
     "name": "stdout",
     "output_type": "stream",
     "text": [
      "            prediction  actual  error      mse  rmse\n",
      "Date                                                \n",
      "2021-02-01   10.841468    11.0  -0.16   0.0256  0.16\n",
      "2021-02-02    9.812856    11.0  -1.19   1.4161  1.19\n",
      "2021-02-03    9.039184    10.0  -0.96   0.9216  0.96\n",
      "2021-02-04    9.223947     5.0   4.22  17.8084  4.22\n",
      "2021-02-05    8.240690     5.0   3.24  10.4976  3.24\n",
      "...                ...     ...    ...      ...   ...\n",
      "2021-04-07    2.082848     8.0  -5.92  35.0464  5.92\n",
      "2021-04-08    3.434335     7.0  -3.57  12.7449  3.57\n",
      "2021-04-09    4.615926     4.0   0.62   0.3844  0.62\n",
      "2021-04-10    4.812127     6.0  -1.19   1.4161  1.19\n",
      "2021-04-11    5.674453     9.0  -3.33  11.0889  3.33\n",
      "\n",
      "[70 rows x 5 columns]\n"
     ]
    },
    {
     "name": "stderr",
     "output_type": "stream",
     "text": [
      "C:\\Users\\Paul\\anaconda3\\lib\\site-packages\\statsmodels\\tsa\\base\\tsa_model.py:581: ValueWarning: A date index has been provided, but it has no associated frequency information and so will be ignored when e.g. forecasting.\n",
      "  warnings.warn('A date index has been provided, but it has no'\n",
      "C:\\Users\\Paul\\anaconda3\\lib\\site-packages\\statsmodels\\tsa\\base\\tsa_model.py:581: ValueWarning: A date index has been provided, but it has no associated frequency information and so will be ignored when e.g. forecasting.\n",
      "  warnings.warn('A date index has been provided, but it has no'\n"
     ]
    },
    {
     "name": "stdout",
     "output_type": "stream",
     "text": [
      "            prediction  actual  error       mse   rmse\n",
      "Date                                                  \n",
      "2021-02-01   17.417752    20.0  -2.58    6.6564   2.58\n",
      "2021-02-02   14.722979    26.0 -11.28  127.2384  11.28\n",
      "2021-02-03   18.104414    17.0   1.10    1.2100   1.10\n",
      "2021-02-04   17.998070    16.0   2.00    4.0000   2.00\n",
      "2021-02-05   17.965656    15.0   2.97    8.8209   2.97\n",
      "...                ...     ...    ...       ...    ...\n",
      "2021-04-07    7.083500     0.0   7.08   50.1264   7.08\n",
      "2021-04-08    5.830612    15.0  -9.17   84.0889   9.17\n",
      "2021-04-09    7.780228     6.0   1.78    3.1684   1.78\n",
      "2021-04-10    8.433102     9.0  -0.57    0.3249   0.57\n",
      "2021-04-11    6.494427     3.0   3.49   12.1801   3.49\n",
      "\n",
      "[70 rows x 5 columns]\n"
     ]
    },
    {
     "name": "stderr",
     "output_type": "stream",
     "text": [
      "C:\\Users\\Paul\\anaconda3\\lib\\site-packages\\statsmodels\\tsa\\base\\tsa_model.py:581: ValueWarning: A date index has been provided, but it has no associated frequency information and so will be ignored when e.g. forecasting.\n",
      "  warnings.warn('A date index has been provided, but it has no'\n",
      "C:\\Users\\Paul\\anaconda3\\lib\\site-packages\\statsmodels\\tsa\\base\\tsa_model.py:581: ValueWarning: A date index has been provided, but it has no associated frequency information and so will be ignored when e.g. forecasting.\n",
      "  warnings.warn('A date index has been provided, but it has no'\n"
     ]
    },
    {
     "name": "stdout",
     "output_type": "stream",
     "text": [
      "            prediction  actual  error      mse  rmse\n",
      "Date                                                \n",
      "2021-02-01   14.454732    15.0  -0.55   0.3025  0.55\n",
      "2021-02-02   14.397225    14.0   0.40   0.1600  0.40\n",
      "2021-02-03   14.355060    16.0  -1.64   2.6896  1.64\n",
      "2021-02-04   15.706467    11.0   4.71  22.1841  4.71\n",
      "2021-02-05   13.970021    12.0   1.97   3.8809  1.97\n",
      "...                ...     ...    ...      ...   ...\n",
      "2021-04-07   12.640891    17.0  -4.36  19.0096  4.36\n",
      "2021-04-08   15.218099    14.0   1.22   1.4884  1.22\n",
      "2021-04-09   15.293034    15.0   0.29   0.0841  0.29\n",
      "2021-04-10   15.137369    13.0   2.14   4.5796  2.14\n",
      "2021-04-11   14.993927    13.0   1.99   3.9601  1.99\n",
      "\n",
      "[70 rows x 5 columns]\n"
     ]
    },
    {
     "name": "stderr",
     "output_type": "stream",
     "text": [
      "C:\\Users\\Paul\\anaconda3\\lib\\site-packages\\statsmodels\\tsa\\base\\tsa_model.py:581: ValueWarning: A date index has been provided, but it has no associated frequency information and so will be ignored when e.g. forecasting.\n",
      "  warnings.warn('A date index has been provided, but it has no'\n",
      "C:\\Users\\Paul\\anaconda3\\lib\\site-packages\\statsmodels\\tsa\\base\\tsa_model.py:581: ValueWarning: A date index has been provided, but it has no associated frequency information and so will be ignored when e.g. forecasting.\n",
      "  warnings.warn('A date index has been provided, but it has no'\n"
     ]
    },
    {
     "name": "stdout",
     "output_type": "stream",
     "text": [
      "            prediction  actual  error       mse   rmse\n",
      "Date                                                  \n",
      "2021-02-01   34.423414    33.0   1.42    2.0164   1.42\n",
      "2021-02-02   34.862623    39.0  -4.14   17.1396   4.14\n",
      "2021-02-03   37.285745    21.0  16.29  265.3641  16.29\n",
      "2021-02-04   31.344417    10.0  21.34  455.3956  21.34\n",
      "2021-02-05   28.813834    28.0   0.81    0.6561   0.81\n",
      "...                ...     ...    ...       ...    ...\n",
      "2021-04-07   14.495362    23.0  -8.50   72.2500   8.50\n",
      "2021-04-08   15.684753    30.0 -14.32  205.0624  14.32\n",
      "2021-04-09   22.297904     8.0  14.30  204.4900  14.30\n",
      "2021-04-10   17.644271    20.0  -2.36    5.5696   2.36\n",
      "2021-04-11   18.557995    27.0  -8.44   71.2336   8.44\n",
      "\n",
      "[70 rows x 5 columns]\n"
     ]
    },
    {
     "name": "stderr",
     "output_type": "stream",
     "text": [
      "C:\\Users\\Paul\\anaconda3\\lib\\site-packages\\statsmodels\\tsa\\base\\tsa_model.py:581: ValueWarning: A date index has been provided, but it has no associated frequency information and so will be ignored when e.g. forecasting.\n",
      "  warnings.warn('A date index has been provided, but it has no'\n",
      "C:\\Users\\Paul\\anaconda3\\lib\\site-packages\\statsmodels\\tsa\\base\\tsa_model.py:581: ValueWarning: A date index has been provided, but it has no associated frequency information and so will be ignored when e.g. forecasting.\n",
      "  warnings.warn('A date index has been provided, but it has no'\n"
     ]
    },
    {
     "name": "stdout",
     "output_type": "stream",
     "text": [
      "            prediction  actual  error      mse  rmse\n",
      "Date                                                \n",
      "2021-02-01    0.724824     0.0   0.72   0.5184  0.72\n",
      "2021-02-02    0.111701     0.0   0.11   0.0121  0.11\n",
      "2021-02-03   -1.219486     5.0  -6.22  38.6884  6.22\n",
      "2021-02-04    4.453915     8.0  -3.55  12.6025  3.55\n",
      "2021-02-05    4.240833     2.0   2.24   5.0176  2.24\n",
      "...                ...     ...    ...      ...   ...\n",
      "2021-04-07    7.535637     6.0   1.54   2.3716  1.54\n",
      "2021-04-08    9.222459    11.0  -1.78   3.1684  1.78\n",
      "2021-04-09    9.633206     9.0   0.63   0.3969  0.63\n",
      "2021-04-10    9.170350     6.0   3.17  10.0489  3.17\n",
      "2021-04-11    6.796457     8.0  -1.20   1.4400  1.20\n",
      "\n",
      "[70 rows x 5 columns]\n"
     ]
    },
    {
     "name": "stderr",
     "output_type": "stream",
     "text": [
      "C:\\Users\\Paul\\anaconda3\\lib\\site-packages\\statsmodels\\tsa\\base\\tsa_model.py:581: ValueWarning: A date index has been provided, but it has no associated frequency information and so will be ignored when e.g. forecasting.\n",
      "  warnings.warn('A date index has been provided, but it has no'\n",
      "C:\\Users\\Paul\\anaconda3\\lib\\site-packages\\statsmodels\\tsa\\base\\tsa_model.py:581: ValueWarning: A date index has been provided, but it has no associated frequency information and so will be ignored when e.g. forecasting.\n",
      "  warnings.warn('A date index has been provided, but it has no'\n"
     ]
    },
    {
     "name": "stdout",
     "output_type": "stream",
     "text": [
      "            prediction  actual  error      mse  rmse\n",
      "Date                                                \n",
      "2021-02-01   20.667876    26.0  -5.33  28.4089  5.33\n",
      "2021-02-02   17.325259    17.0   0.33   0.1089  0.33\n",
      "2021-02-03   16.530248    17.0  -0.47   0.2209  0.47\n",
      "2021-02-04   18.386821    20.0  -1.61   2.5921  1.61\n",
      "2021-02-05   17.579868    17.0   0.58   0.3364  0.58\n",
      "...                ...     ...    ...      ...   ...\n",
      "2021-04-07   12.996469    22.0  -9.00  81.0000  9.00\n",
      "2021-04-08   17.413644    25.0  -7.59  57.6081  7.59\n",
      "2021-04-09   20.445250    16.0   4.45  19.8025  4.45\n",
      "2021-04-10   18.026228    21.0  -2.97   8.8209  2.97\n",
      "2021-04-11   23.321576    20.0   3.32  11.0224  3.32\n",
      "\n",
      "[70 rows x 5 columns]\n"
     ]
    },
    {
     "name": "stderr",
     "output_type": "stream",
     "text": [
      "C:\\Users\\Paul\\anaconda3\\lib\\site-packages\\statsmodels\\tsa\\base\\tsa_model.py:581: ValueWarning: A date index has been provided, but it has no associated frequency information and so will be ignored when e.g. forecasting.\n",
      "  warnings.warn('A date index has been provided, but it has no'\n",
      "C:\\Users\\Paul\\anaconda3\\lib\\site-packages\\statsmodels\\tsa\\base\\tsa_model.py:581: ValueWarning: A date index has been provided, but it has no associated frequency information and so will be ignored when e.g. forecasting.\n",
      "  warnings.warn('A date index has been provided, but it has no'\n"
     ]
    },
    {
     "name": "stdout",
     "output_type": "stream",
     "text": [
      "            prediction  actual  error       mse   rmse\n",
      "Date                                                  \n",
      "2021-02-01   27.385402    29.0  -1.61    2.5921   1.61\n",
      "2021-02-02   31.977528    29.0   2.98    8.8804   2.98\n",
      "2021-02-03   28.338706    22.0   6.34   40.1956   6.34\n",
      "2021-02-04   27.386704    27.0   0.39    0.1521   0.39\n",
      "2021-02-05   27.173713    22.0   5.17   26.7289   5.17\n",
      "...                ...     ...    ...       ...    ...\n",
      "2021-04-07   15.663984    29.0 -13.34  177.9556  13.34\n",
      "2021-04-08   22.348474    25.0  -2.65    7.0225   2.65\n",
      "2021-04-09   21.701347    22.0  -0.30    0.0900   0.30\n",
      "2021-04-10   24.297512    21.0   3.30   10.8900   3.30\n",
      "2021-04-11   19.875416    15.0   4.88   23.8144   4.88\n",
      "\n",
      "[70 rows x 5 columns]\n"
     ]
    },
    {
     "name": "stderr",
     "output_type": "stream",
     "text": [
      "C:\\Users\\Paul\\anaconda3\\lib\\site-packages\\statsmodels\\tsa\\base\\tsa_model.py:581: ValueWarning: A date index has been provided, but it has no associated frequency information and so will be ignored when e.g. forecasting.\n",
      "  warnings.warn('A date index has been provided, but it has no'\n",
      "C:\\Users\\Paul\\anaconda3\\lib\\site-packages\\statsmodels\\tsa\\base\\tsa_model.py:581: ValueWarning: A date index has been provided, but it has no associated frequency information and so will be ignored when e.g. forecasting.\n",
      "  warnings.warn('A date index has been provided, but it has no'\n"
     ]
    },
    {
     "name": "stdout",
     "output_type": "stream",
     "text": [
      "            prediction  actual  error      mse  rmse\n",
      "Date                                                \n",
      "2021-02-01   11.745391    18.0  -6.25  39.0625  6.25\n",
      "2021-02-02   14.328308    13.0   1.33   1.7689  1.33\n",
      "2021-02-03   13.105760     9.0   4.11  16.8921  4.11\n",
      "2021-02-04   12.202516    13.0  -0.80   0.6400  0.80\n",
      "2021-02-05   12.903446    10.0   2.90   8.4100  2.90\n",
      "...                ...     ...    ...      ...   ...\n",
      "2021-04-07    9.242832    15.0  -5.76  33.1776  5.76\n",
      "2021-04-08   11.424518    12.0  -0.58   0.3364  0.58\n",
      "2021-04-09   11.266671     8.0   3.27  10.6929  3.27\n",
      "2021-04-10   11.887301     9.0   2.89   8.3521  2.89\n",
      "2021-04-11   10.842989    17.0  -6.16  37.9456  6.16\n",
      "\n",
      "[70 rows x 5 columns]\n"
     ]
    },
    {
     "name": "stderr",
     "output_type": "stream",
     "text": [
      "C:\\Users\\Paul\\anaconda3\\lib\\site-packages\\statsmodels\\tsa\\base\\tsa_model.py:581: ValueWarning: A date index has been provided, but it has no associated frequency information and so will be ignored when e.g. forecasting.\n",
      "  warnings.warn('A date index has been provided, but it has no'\n",
      "C:\\Users\\Paul\\anaconda3\\lib\\site-packages\\statsmodels\\tsa\\base\\tsa_model.py:581: ValueWarning: A date index has been provided, but it has no associated frequency information and so will be ignored when e.g. forecasting.\n",
      "  warnings.warn('A date index has been provided, but it has no'\n"
     ]
    },
    {
     "name": "stdout",
     "output_type": "stream",
     "text": [
      "            prediction  actual  error       mse   rmse\n",
      "Date                                                  \n",
      "2021-02-01   54.734504    63.0  -8.27   68.3929   8.27\n",
      "2021-02-02   58.158803    37.0  21.16  447.7456  21.16\n",
      "2021-02-03   48.382534    27.0  21.38  457.1044  21.38\n",
      "2021-02-04   37.399807    24.0  13.40  179.5600  13.40\n",
      "2021-02-05   32.408368    19.0  13.41  179.8281  13.41\n",
      "...                ...     ...    ...       ...    ...\n",
      "2021-04-07   22.242932    37.0 -14.76  217.8576  14.76\n",
      "2021-04-08   29.209437    39.0  -9.79   95.8441   9.79\n",
      "2021-04-09   35.841663    30.0   5.84   34.1056   5.84\n",
      "2021-04-10   33.632388    19.0  14.63  214.0369  14.63\n",
      "2021-04-11   30.480217    26.0   4.48   20.0704   4.48\n",
      "\n",
      "[70 rows x 5 columns]\n"
     ]
    },
    {
     "name": "stderr",
     "output_type": "stream",
     "text": [
      "C:\\Users\\Paul\\anaconda3\\lib\\site-packages\\statsmodels\\tsa\\base\\tsa_model.py:581: ValueWarning: A date index has been provided, but it has no associated frequency information and so will be ignored when e.g. forecasting.\n",
      "  warnings.warn('A date index has been provided, but it has no'\n",
      "C:\\Users\\Paul\\anaconda3\\lib\\site-packages\\statsmodels\\tsa\\base\\tsa_model.py:581: ValueWarning: A date index has been provided, but it has no associated frequency information and so will be ignored when e.g. forecasting.\n",
      "  warnings.warn('A date index has been provided, but it has no'\n"
     ]
    },
    {
     "name": "stdout",
     "output_type": "stream",
     "text": [
      "            prediction  actual  error      mse  rmse\n",
      "Date                                                \n",
      "2021-02-01    0.123808     0.0   0.12   0.0144  0.12\n",
      "2021-02-02   -0.627091     1.0  -1.63   2.6569  1.63\n",
      "2021-02-03    1.003010     0.0   1.00   1.0000  1.00\n",
      "2021-02-04    0.064640     0.0   0.06   0.0036  0.06\n",
      "2021-02-05    0.491299     0.0   0.49   0.2401  0.49\n",
      "...                ...     ...    ...      ...   ...\n",
      "2021-04-07    2.036346     7.0  -4.96  24.6016  4.96\n",
      "2021-04-08    6.333344     5.0   1.33   1.7689  1.33\n",
      "2021-04-09    5.083405     6.0  -0.92   0.8464  0.92\n",
      "2021-04-10    5.509864     7.0  -1.49   2.2201  1.49\n",
      "2021-04-11    6.099665     1.0   5.10  26.0100  5.10\n",
      "\n",
      "[70 rows x 5 columns]\n"
     ]
    },
    {
     "name": "stderr",
     "output_type": "stream",
     "text": [
      "C:\\Users\\Paul\\anaconda3\\lib\\site-packages\\statsmodels\\tsa\\base\\tsa_model.py:581: ValueWarning: A date index has been provided, but it has no associated frequency information and so will be ignored when e.g. forecasting.\n",
      "  warnings.warn('A date index has been provided, but it has no'\n",
      "C:\\Users\\Paul\\anaconda3\\lib\\site-packages\\statsmodels\\tsa\\base\\tsa_model.py:581: ValueWarning: A date index has been provided, but it has no associated frequency information and so will be ignored when e.g. forecasting.\n",
      "  warnings.warn('A date index has been provided, but it has no'\n"
     ]
    },
    {
     "name": "stdout",
     "output_type": "stream",
     "text": [
      "            prediction  actual  error       mse   rmse\n",
      "Date                                                  \n",
      "2021-02-01   23.112594    15.0   8.11   65.7721   8.11\n",
      "2021-02-02   18.230023    11.0   7.23   52.2729   7.23\n",
      "2021-02-03   14.634451    14.0   0.63    0.3969   0.63\n",
      "2021-02-04   14.381140     7.0   7.38   54.4644   7.38\n",
      "2021-02-05   13.681984     9.0   4.68   21.9024   4.68\n",
      "...                ...     ...    ...       ...    ...\n",
      "2021-04-07    6.058277    35.0 -28.94  837.5236  28.94\n",
      "2021-04-08   14.253555    36.0 -21.75  473.0625  21.75\n",
      "2021-04-09   21.841691    17.0   4.84   23.4256   4.84\n",
      "2021-04-10   21.868622    31.0  -9.13   83.3569   9.13\n",
      "2021-04-11   27.107831    30.0  -2.89    8.3521   2.89\n",
      "\n",
      "[70 rows x 5 columns]\n"
     ]
    },
    {
     "name": "stderr",
     "output_type": "stream",
     "text": [
      "C:\\Users\\Paul\\anaconda3\\lib\\site-packages\\statsmodels\\tsa\\base\\tsa_model.py:581: ValueWarning: A date index has been provided, but it has no associated frequency information and so will be ignored when e.g. forecasting.\n",
      "  warnings.warn('A date index has been provided, but it has no'\n",
      "C:\\Users\\Paul\\anaconda3\\lib\\site-packages\\statsmodels\\tsa\\base\\tsa_model.py:581: ValueWarning: A date index has been provided, but it has no associated frequency information and so will be ignored when e.g. forecasting.\n",
      "  warnings.warn('A date index has been provided, but it has no'\n"
     ]
    },
    {
     "name": "stdout",
     "output_type": "stream",
     "text": [
      "            prediction  actual  error       mse   rmse\n",
      "Date                                                  \n",
      "2021-02-01   46.527640    44.0   2.53    6.4009   2.53\n",
      "2021-02-02   44.838182    29.0  15.84  250.9056  15.84\n",
      "2021-02-03   36.502289    26.0  10.50  110.2500  10.50\n",
      "2021-02-04   29.661738    14.0  15.66  245.2356  15.66\n",
      "2021-02-05   21.636133    28.0  -6.36   40.4496   6.36\n",
      "...                ...     ...    ...       ...    ...\n",
      "2021-04-07   23.843063    30.0  -6.16   37.9456   6.16\n",
      "2021-04-08   24.442045    21.0   3.44   11.8336   3.44\n",
      "2021-04-09   24.412416     8.0  16.41  269.2881  16.41\n",
      "2021-04-10   16.944738     7.0   9.94   98.8036   9.94\n",
      "2021-04-11   11.470640    19.0  -7.53   56.7009   7.53\n",
      "\n",
      "[70 rows x 5 columns]\n"
     ]
    },
    {
     "name": "stderr",
     "output_type": "stream",
     "text": [
      "C:\\Users\\Paul\\anaconda3\\lib\\site-packages\\statsmodels\\tsa\\base\\tsa_model.py:581: ValueWarning: A date index has been provided, but it has no associated frequency information and so will be ignored when e.g. forecasting.\n",
      "  warnings.warn('A date index has been provided, but it has no'\n",
      "C:\\Users\\Paul\\anaconda3\\lib\\site-packages\\statsmodels\\tsa\\base\\tsa_model.py:581: ValueWarning: A date index has been provided, but it has no associated frequency information and so will be ignored when e.g. forecasting.\n",
      "  warnings.warn('A date index has been provided, but it has no'\n"
     ]
    },
    {
     "name": "stdout",
     "output_type": "stream",
     "text": [
      "            prediction  actual  error       mse   rmse\n",
      "Date                                                  \n",
      "2021-02-01   27.605086    21.0   6.61   43.6921   6.61\n",
      "2021-02-02   22.878534    25.0  -2.12    4.4944   2.12\n",
      "2021-02-03   24.549687    13.0  11.55  133.4025  11.55\n",
      "2021-02-04   15.987134     7.0   8.99   80.8201   8.99\n",
      "2021-02-05   10.949097     9.0   1.95    3.8025   1.95\n",
      "...                ...     ...    ...       ...    ...\n",
      "2021-04-07    7.019165     8.0  -0.98    0.9604   0.98\n",
      "2021-04-08    7.574555     6.0   1.57    2.4649   1.57\n",
      "2021-04-09    7.171513     8.0  -0.83    0.6889   0.83\n",
      "2021-04-10    7.111916     8.0  -0.89    0.7921   0.89\n",
      "2021-04-11    8.695989     6.0   2.70    7.2900   2.70\n",
      "\n",
      "[70 rows x 5 columns]\n"
     ]
    },
    {
     "name": "stderr",
     "output_type": "stream",
     "text": [
      "C:\\Users\\Paul\\anaconda3\\lib\\site-packages\\statsmodels\\tsa\\base\\tsa_model.py:581: ValueWarning: A date index has been provided, but it has no associated frequency information and so will be ignored when e.g. forecasting.\n",
      "  warnings.warn('A date index has been provided, but it has no'\n",
      "C:\\Users\\Paul\\anaconda3\\lib\\site-packages\\statsmodels\\tsa\\base\\tsa_model.py:581: ValueWarning: A date index has been provided, but it has no associated frequency information and so will be ignored when e.g. forecasting.\n",
      "  warnings.warn('A date index has been provided, but it has no'\n"
     ]
    },
    {
     "name": "stdout",
     "output_type": "stream",
     "text": [
      "            prediction  actual  error       mse   rmse\n",
      "Date                                                  \n",
      "2021-02-01    8.603615     8.0   0.60    0.3600   0.60\n",
      "2021-02-02    6.670936    19.0 -12.33  152.0289  12.33\n",
      "2021-02-03   12.578340    12.0   0.58    0.3364   0.58\n",
      "2021-02-04   13.008208     9.0   4.01   16.0801   4.01\n",
      "2021-02-05   12.621267     8.0   4.62   21.3444   4.62\n",
      "...                ...     ...    ...       ...    ...\n",
      "2021-04-07   15.283393    23.0  -7.72   59.5984   7.72\n",
      "2021-04-08   18.840721    20.0  -1.16    1.3456   1.16\n",
      "2021-04-09   20.347662    15.0   5.35   28.6225   5.35\n",
      "2021-04-10   18.146141    14.0   4.15   17.2225   4.15\n",
      "2021-04-11   17.220251    21.0  -3.78   14.2884   3.78\n",
      "\n",
      "[70 rows x 5 columns]\n"
     ]
    },
    {
     "name": "stderr",
     "output_type": "stream",
     "text": [
      "C:\\Users\\Paul\\anaconda3\\lib\\site-packages\\statsmodels\\tsa\\base\\tsa_model.py:581: ValueWarning: A date index has been provided, but it has no associated frequency information and so will be ignored when e.g. forecasting.\n",
      "  warnings.warn('A date index has been provided, but it has no'\n",
      "C:\\Users\\Paul\\anaconda3\\lib\\site-packages\\statsmodels\\tsa\\base\\tsa_model.py:581: ValueWarning: A date index has been provided, but it has no associated frequency information and so will be ignored when e.g. forecasting.\n",
      "  warnings.warn('A date index has been provided, but it has no'\n"
     ]
    },
    {
     "name": "stdout",
     "output_type": "stream",
     "text": [
      "            prediction  actual  error       mse   rmse\n",
      "Date                                                  \n",
      "2021-02-01   34.958302    42.0  -7.04   49.5616   7.04\n",
      "2021-02-02   38.482974    29.0   9.48   89.8704   9.48\n",
      "2021-02-03   31.914232    26.0   5.91   34.9281   5.91\n",
      "2021-02-04   29.921743    41.0 -11.08  122.7664  11.08\n",
      "2021-02-05   35.431211    32.0   3.43   11.7649   3.43\n",
      "...                ...     ...    ...       ...    ...\n",
      "2021-04-07   23.549334    46.0 -22.45  504.0025  22.45\n",
      "2021-04-08   35.714932    41.0  -5.29   27.9841   5.29\n",
      "2021-04-09   37.713436    37.0   0.71    0.5041   0.71\n",
      "2021-04-10   37.518740    27.0  10.52  110.6704  10.52\n",
      "2021-04-11   32.032907    43.0 -10.97  120.3409  10.97\n",
      "\n",
      "[70 rows x 5 columns]\n"
     ]
    },
    {
     "name": "stderr",
     "output_type": "stream",
     "text": [
      "C:\\Users\\Paul\\anaconda3\\lib\\site-packages\\statsmodels\\tsa\\base\\tsa_model.py:581: ValueWarning: A date index has been provided, but it has no associated frequency information and so will be ignored when e.g. forecasting.\n",
      "  warnings.warn('A date index has been provided, but it has no'\n",
      "C:\\Users\\Paul\\anaconda3\\lib\\site-packages\\statsmodels\\tsa\\base\\tsa_model.py:581: ValueWarning: A date index has been provided, but it has no associated frequency information and so will be ignored when e.g. forecasting.\n",
      "  warnings.warn('A date index has been provided, but it has no'\n"
     ]
    },
    {
     "name": "stdout",
     "output_type": "stream",
     "text": [
      "            prediction  actual  error       mse   rmse\n",
      "Date                                                  \n",
      "2021-02-01    9.987223    21.0 -11.01  121.2201  11.01\n",
      "2021-02-02   16.765637    20.0  -3.23   10.4329   3.23\n",
      "2021-02-03   18.000315     9.0   9.00   81.0000   9.00\n",
      "2021-02-04   13.429588     4.0   9.43   88.9249   9.43\n",
      "2021-02-05    6.673396     6.0   0.67    0.4489   0.67\n",
      "...                ...     ...    ...       ...    ...\n",
      "2021-04-07    6.094656     7.0  -0.91    0.8281   0.91\n",
      "2021-04-08    6.259258     6.0   0.26    0.0676   0.26\n",
      "2021-04-09    6.206035     5.0   1.21    1.4641   1.21\n",
      "2021-04-10    5.221190     7.0  -1.78    3.1684   1.78\n",
      "2021-04-11    7.496310     6.0   1.50    2.2500   1.50\n",
      "\n",
      "[70 rows x 5 columns]\n"
     ]
    },
    {
     "name": "stderr",
     "output_type": "stream",
     "text": [
      "C:\\Users\\Paul\\anaconda3\\lib\\site-packages\\statsmodels\\tsa\\base\\tsa_model.py:581: ValueWarning: A date index has been provided, but it has no associated frequency information and so will be ignored when e.g. forecasting.\n",
      "  warnings.warn('A date index has been provided, but it has no'\n",
      "C:\\Users\\Paul\\anaconda3\\lib\\site-packages\\statsmodels\\tsa\\base\\tsa_model.py:581: ValueWarning: A date index has been provided, but it has no associated frequency information and so will be ignored when e.g. forecasting.\n",
      "  warnings.warn('A date index has been provided, but it has no'\n",
      "C:\\Users\\Paul\\anaconda3\\lib\\site-packages\\statsmodels\\base\\model.py:566: ConvergenceWarning: Maximum Likelihood optimization failed to converge. Check mle_retvals\n",
      "  warnings.warn(\"Maximum Likelihood optimization failed to \"\n"
     ]
    },
    {
     "name": "stdout",
     "output_type": "stream",
     "text": [
      "            prediction  actual  error       mse   rmse\n",
      "Date                                                  \n",
      "2021-02-01    3.143428    19.0 -15.86  251.5396  15.86\n",
      "2021-02-02   10.704152    10.0   0.70    0.4900   0.70\n",
      "2021-02-03   10.113828    18.0  -7.89   62.2521   7.89\n",
      "2021-02-04   14.686736    16.0  -1.31    1.7161   1.31\n",
      "2021-02-05   14.437880    18.0  -3.56   12.6736   3.56\n",
      "...                ...     ...    ...       ...    ...\n",
      "2021-04-07   11.502729     9.0   2.50    6.2500   2.50\n",
      "2021-04-08   10.445485    11.0  -0.55    0.3025   0.55\n",
      "2021-04-09    9.765798    12.0  -2.23    4.9729   2.23\n",
      "2021-04-10   11.384021    13.0  -1.62    2.6244   1.62\n",
      "2021-04-11   11.923661    13.0  -1.08    1.1664   1.08\n",
      "\n",
      "[70 rows x 5 columns]\n"
     ]
    },
    {
     "name": "stderr",
     "output_type": "stream",
     "text": [
      "C:\\Users\\Paul\\anaconda3\\lib\\site-packages\\statsmodels\\tsa\\base\\tsa_model.py:581: ValueWarning: A date index has been provided, but it has no associated frequency information and so will be ignored when e.g. forecasting.\n",
      "  warnings.warn('A date index has been provided, but it has no'\n",
      "C:\\Users\\Paul\\anaconda3\\lib\\site-packages\\statsmodels\\tsa\\base\\tsa_model.py:581: ValueWarning: A date index has been provided, but it has no associated frequency information and so will be ignored when e.g. forecasting.\n",
      "  warnings.warn('A date index has been provided, but it has no'\n"
     ]
    },
    {
     "name": "stdout",
     "output_type": "stream",
     "text": [
      "            prediction  actual  error       mse   rmse\n",
      "Date                                                  \n",
      "2021-02-01   39.977541    37.0   2.98    8.8804   2.98\n",
      "2021-02-02   38.593417    36.0   2.59    6.7081   2.59\n",
      "2021-02-03   35.263794    37.0  -1.74    3.0276   1.74\n",
      "2021-02-04   36.102882    33.0   3.10    9.6100   3.10\n",
      "2021-02-05   38.714684    26.0  12.71  161.5441  12.71\n",
      "...                ...     ...    ...       ...    ...\n",
      "2021-04-07   30.795808    49.0 -18.20  331.2400  18.20\n",
      "2021-04-08   36.034111    29.0   7.03   49.4209   7.03\n",
      "2021-04-09   36.804188    23.0  13.80  190.4400  13.80\n",
      "2021-04-10   33.323408    38.0  -4.68   21.9024   4.68\n",
      "2021-04-11   34.003275    44.0 -10.00  100.0000  10.00\n",
      "\n",
      "[70 rows x 5 columns]\n"
     ]
    },
    {
     "name": "stderr",
     "output_type": "stream",
     "text": [
      "C:\\Users\\Paul\\anaconda3\\lib\\site-packages\\statsmodels\\tsa\\base\\tsa_model.py:581: ValueWarning: A date index has been provided, but it has no associated frequency information and so will be ignored when e.g. forecasting.\n",
      "  warnings.warn('A date index has been provided, but it has no'\n",
      "C:\\Users\\Paul\\anaconda3\\lib\\site-packages\\statsmodels\\tsa\\base\\tsa_model.py:581: ValueWarning: A date index has been provided, but it has no associated frequency information and so will be ignored when e.g. forecasting.\n",
      "  warnings.warn('A date index has been provided, but it has no'\n"
     ]
    },
    {
     "name": "stdout",
     "output_type": "stream",
     "text": [
      "            prediction  actual  error      mse  rmse\n",
      "Date                                                \n",
      "2021-02-01   19.811068    18.0   1.81   3.2761  1.81\n",
      "2021-02-02   19.162643    14.0   5.16  26.6256  5.16\n",
      "2021-02-03   17.147930    13.0   4.15  17.2225  4.15\n",
      "2021-02-04   16.219518    13.0   3.22  10.3684  3.22\n",
      "2021-02-05   15.902811    14.0   1.90   3.6100  1.90\n",
      "...                ...     ...    ...      ...   ...\n",
      "2021-04-07   12.425090    15.0  -2.57   6.6049  2.57\n",
      "2021-04-08   12.802067    13.0  -0.20   0.0400  0.20\n",
      "2021-04-09   13.932071    10.0   3.93  15.4449  3.93\n",
      "2021-04-10   16.368257    15.0   1.37   1.8769  1.37\n",
      "2021-04-11   16.285818    19.0  -2.71   7.3441  2.71\n",
      "\n",
      "[70 rows x 5 columns]\n"
     ]
    },
    {
     "name": "stderr",
     "output_type": "stream",
     "text": [
      "C:\\Users\\Paul\\anaconda3\\lib\\site-packages\\statsmodels\\tsa\\base\\tsa_model.py:581: ValueWarning: A date index has been provided, but it has no associated frequency information and so will be ignored when e.g. forecasting.\n",
      "  warnings.warn('A date index has been provided, but it has no'\n",
      "C:\\Users\\Paul\\anaconda3\\lib\\site-packages\\statsmodels\\tsa\\base\\tsa_model.py:581: ValueWarning: A date index has been provided, but it has no associated frequency information and so will be ignored when e.g. forecasting.\n",
      "  warnings.warn('A date index has been provided, but it has no'\n"
     ]
    },
    {
     "name": "stdout",
     "output_type": "stream",
     "text": [
      "            prediction  actual  error      mse  rmse\n",
      "Date                                                \n",
      "2021-02-01    3.589885     7.0  -3.41  11.6281  3.41\n",
      "2021-02-02    7.669690     7.0   0.67   0.4489  0.67\n",
      "2021-02-03    7.947905    12.0  -4.05  16.4025  4.05\n",
      "2021-02-04    7.972894     5.0   2.97   8.8209  2.97\n",
      "2021-02-05    5.067337     8.0  -2.93   8.5849  2.93\n",
      "...                ...     ...    ...      ...   ...\n",
      "2021-04-07    7.483713     7.0   0.48   0.2304  0.48\n",
      "2021-04-08    5.726670     6.0  -0.27   0.0729  0.27\n",
      "2021-04-09    3.416898     5.0  -1.58   2.4964  1.58\n",
      "2021-04-10    7.839752     6.0   1.84   3.3856  1.84\n",
      "2021-04-11    5.457496     7.0  -1.54   2.3716  1.54\n",
      "\n",
      "[70 rows x 5 columns]\n"
     ]
    },
    {
     "name": "stderr",
     "output_type": "stream",
     "text": [
      "C:\\Users\\Paul\\anaconda3\\lib\\site-packages\\statsmodels\\tsa\\base\\tsa_model.py:581: ValueWarning: A date index has been provided, but it has no associated frequency information and so will be ignored when e.g. forecasting.\n",
      "  warnings.warn('A date index has been provided, but it has no'\n",
      "C:\\Users\\Paul\\anaconda3\\lib\\site-packages\\statsmodels\\tsa\\base\\tsa_model.py:581: ValueWarning: A date index has been provided, but it has no associated frequency information and so will be ignored when e.g. forecasting.\n",
      "  warnings.warn('A date index has been provided, but it has no'\n"
     ]
    },
    {
     "name": "stdout",
     "output_type": "stream",
     "text": [
      "            prediction  actual  error      mse  rmse\n",
      "Date                                                \n",
      "2021-02-01    6.419415     8.0  -1.58   2.4964  1.58\n",
      "2021-02-02    5.841799    12.0  -6.16  37.9456  6.16\n",
      "2021-02-03    7.070990     8.0  -0.93   0.8649  0.93\n",
      "2021-02-04    7.709424     8.0  -0.29   0.0841  0.29\n",
      "2021-02-05    7.520237    10.0  -2.48   6.1504  2.48\n",
      "...                ...     ...    ...      ...   ...\n",
      "2021-04-07   10.438890     8.0   2.44   5.9536  2.44\n",
      "2021-04-08   10.122368     7.0   3.12   9.7344  3.12\n",
      "2021-04-09    9.462053     9.0   0.46   0.2116  0.46\n",
      "2021-04-10    9.385521     8.0   1.39   1.9321  1.39\n",
      "2021-04-11   10.070776     8.0   2.07   4.2849  2.07\n",
      "\n",
      "[70 rows x 5 columns]\n"
     ]
    },
    {
     "name": "stderr",
     "output_type": "stream",
     "text": [
      "C:\\Users\\Paul\\anaconda3\\lib\\site-packages\\statsmodels\\tsa\\base\\tsa_model.py:581: ValueWarning: A date index has been provided, but it has no associated frequency information and so will be ignored when e.g. forecasting.\n",
      "  warnings.warn('A date index has been provided, but it has no'\n",
      "C:\\Users\\Paul\\anaconda3\\lib\\site-packages\\statsmodels\\tsa\\base\\tsa_model.py:581: ValueWarning: A date index has been provided, but it has no associated frequency information and so will be ignored when e.g. forecasting.\n",
      "  warnings.warn('A date index has been provided, but it has no'\n"
     ]
    },
    {
     "name": "stdout",
     "output_type": "stream",
     "text": [
      "            prediction  actual  error       mse   rmse\n",
      "Date                                                  \n",
      "2021-02-01   29.097737    22.0   7.10   50.4100   7.10\n",
      "2021-02-02   22.031231    19.0   3.03    9.1809   3.03\n",
      "2021-02-03   21.180061    26.0  -4.82   23.2324   4.82\n",
      "2021-02-04   22.847111    22.0   0.85    0.7225   0.85\n",
      "2021-02-05   21.957790    22.0  -0.04    0.0016   0.04\n",
      "...                ...     ...    ...       ...    ...\n",
      "2021-04-07   15.030581    37.0 -21.97  482.6809  21.97\n",
      "2021-04-08   22.908471    34.0 -11.09  122.9881  11.09\n",
      "2021-04-09   27.423404    20.0   7.42   55.0564   7.42\n",
      "2021-04-10   25.529515    19.0   6.53   42.6409   6.53\n",
      "2021-04-11   24.878947    14.0  10.88  118.3744  10.88\n",
      "\n",
      "[70 rows x 5 columns]\n"
     ]
    },
    {
     "name": "stderr",
     "output_type": "stream",
     "text": [
      "C:\\Users\\Paul\\anaconda3\\lib\\site-packages\\statsmodels\\tsa\\base\\tsa_model.py:581: ValueWarning: A date index has been provided, but it has no associated frequency information and so will be ignored when e.g. forecasting.\n",
      "  warnings.warn('A date index has been provided, but it has no'\n",
      "C:\\Users\\Paul\\anaconda3\\lib\\site-packages\\statsmodels\\tsa\\base\\tsa_model.py:581: ValueWarning: A date index has been provided, but it has no associated frequency information and so will be ignored when e.g. forecasting.\n",
      "  warnings.warn('A date index has been provided, but it has no'\n"
     ]
    },
    {
     "name": "stdout",
     "output_type": "stream",
     "text": [
      "            prediction  actual  error       mse   rmse\n",
      "Date                                                  \n",
      "2021-02-01   21.168284    36.0 -14.83  219.9289  14.83\n",
      "2021-02-02   29.707564    16.0  13.71  187.9641  13.71\n",
      "2021-02-03   21.759682    17.0   4.76   22.6576   4.76\n",
      "2021-02-04   17.542480    18.0  -0.46    0.2116   0.46\n",
      "2021-02-05   19.935778    18.0   1.94    3.7636   1.94\n",
      "...                ...     ...    ...       ...    ...\n",
      "2021-04-07   18.297173    24.0  -5.70   32.4900   5.70\n",
      "2021-04-08   16.029820    13.0   3.03    9.1809   3.03\n",
      "2021-04-09   16.221036    17.0  -0.78    0.6084   0.78\n",
      "2021-04-10   17.130397    21.0  -3.87   14.9769   3.87\n",
      "2021-04-11   22.845898    37.0 -14.15  200.2225  14.15\n",
      "\n",
      "[70 rows x 5 columns]\n"
     ]
    },
    {
     "name": "stderr",
     "output_type": "stream",
     "text": [
      "C:\\Users\\Paul\\anaconda3\\lib\\site-packages\\statsmodels\\tsa\\base\\tsa_model.py:581: ValueWarning: A date index has been provided, but it has no associated frequency information and so will be ignored when e.g. forecasting.\n",
      "  warnings.warn('A date index has been provided, but it has no'\n",
      "C:\\Users\\Paul\\anaconda3\\lib\\site-packages\\statsmodels\\tsa\\base\\tsa_model.py:581: ValueWarning: A date index has been provided, but it has no associated frequency information and so will be ignored when e.g. forecasting.\n",
      "  warnings.warn('A date index has been provided, but it has no'\n"
     ]
    },
    {
     "name": "stdout",
     "output_type": "stream",
     "text": [
      "            prediction  actual  error       mse   rmse\n",
      "Date                                                  \n",
      "2021-02-01   29.522012    35.0  -5.48   30.0304   5.48\n",
      "2021-02-02   32.593577    34.0  -1.41    1.9881   1.41\n",
      "2021-02-03   33.815471    23.0  10.82  117.0724  10.82\n",
      "2021-02-04   25.051996    20.0   5.05   25.5025   5.05\n",
      "2021-02-05   21.691054    20.0   1.69    2.8561   1.69\n",
      "...                ...     ...    ...       ...    ...\n",
      "2021-04-07    9.951794    12.0  -2.05    4.2025   2.05\n",
      "2021-04-08   11.543464    10.0   1.54    2.3716   1.54\n",
      "2021-04-09   11.683028    11.0   0.68    0.4624   0.68\n",
      "2021-04-10    9.232207    11.0  -1.77    3.1329   1.77\n",
      "2021-04-11   12.305403    12.0   0.31    0.0961   0.31\n",
      "\n",
      "[70 rows x 5 columns]\n"
     ]
    },
    {
     "name": "stderr",
     "output_type": "stream",
     "text": [
      "C:\\Users\\Paul\\anaconda3\\lib\\site-packages\\statsmodels\\tsa\\base\\tsa_model.py:581: ValueWarning: A date index has been provided, but it has no associated frequency information and so will be ignored when e.g. forecasting.\n",
      "  warnings.warn('A date index has been provided, but it has no'\n",
      "C:\\Users\\Paul\\anaconda3\\lib\\site-packages\\statsmodels\\tsa\\base\\tsa_model.py:581: ValueWarning: A date index has been provided, but it has no associated frequency information and so will be ignored when e.g. forecasting.\n",
      "  warnings.warn('A date index has been provided, but it has no'\n"
     ]
    },
    {
     "name": "stdout",
     "output_type": "stream",
     "text": [
      "            prediction  actual  error       mse   rmse\n",
      "Date                                                  \n",
      "2021-02-01   20.625109    27.0  -6.37   40.5769   6.37\n",
      "2021-02-02   23.776053    13.0  10.78  116.2084  10.78\n",
      "2021-02-03   18.414123    18.0   0.41    0.1681   0.41\n",
      "2021-02-04   18.358099     8.0  10.36  107.3296  10.36\n",
      "2021-02-05   13.108214     9.0   4.11   16.8921   4.11\n",
      "...                ...     ...    ...       ...    ...\n",
      "2021-04-07   19.177182    19.0   0.18    0.0324   0.18\n",
      "2021-04-08   17.980883    24.0  -6.02   36.2404   6.02\n",
      "2021-04-09   22.450452    21.0   1.45    2.1025   1.45\n",
      "2021-04-10   21.094325    18.0   3.09    9.5481   3.09\n",
      "2021-04-11   18.995217    17.0   2.00    4.0000   2.00\n",
      "\n",
      "[70 rows x 5 columns]\n"
     ]
    },
    {
     "name": "stderr",
     "output_type": "stream",
     "text": [
      "C:\\Users\\Paul\\anaconda3\\lib\\site-packages\\statsmodels\\tsa\\base\\tsa_model.py:581: ValueWarning: A date index has been provided, but it has no associated frequency information and so will be ignored when e.g. forecasting.\n",
      "  warnings.warn('A date index has been provided, but it has no'\n",
      "C:\\Users\\Paul\\anaconda3\\lib\\site-packages\\statsmodels\\tsa\\base\\tsa_model.py:581: ValueWarning: A date index has been provided, but it has no associated frequency information and so will be ignored when e.g. forecasting.\n",
      "  warnings.warn('A date index has been provided, but it has no'\n"
     ]
    },
    {
     "name": "stdout",
     "output_type": "stream",
     "text": [
      "            prediction  actual  error     mse  rmse\n",
      "Date                                               \n",
      "2021-02-01    8.877508     6.0   2.88  8.2944  2.88\n",
      "2021-02-02    6.616033     7.0  -0.38  0.1444  0.38\n",
      "2021-02-03    7.281388     5.0   2.28  5.1984  2.28\n",
      "2021-02-04    6.744829     4.0   2.74  7.5076  2.74\n",
      "2021-02-05    6.723957     6.0   0.72  0.5184  0.72\n",
      "...                ...     ...    ...     ...   ...\n",
      "2021-04-07    6.474550     6.0   0.47  0.2209  0.47\n",
      "2021-04-08    6.378535     5.0   1.38  1.9044  1.38\n",
      "2021-04-09    5.979933     7.0  -1.02  1.0404  1.02\n",
      "2021-04-10    5.777806     7.0  -1.22  1.4884  1.22\n",
      "2021-04-11    6.849539     6.0   0.85  0.7225  0.85\n",
      "\n",
      "[70 rows x 5 columns]\n"
     ]
    },
    {
     "name": "stderr",
     "output_type": "stream",
     "text": [
      "C:\\Users\\Paul\\anaconda3\\lib\\site-packages\\statsmodels\\tsa\\base\\tsa_model.py:581: ValueWarning: A date index has been provided, but it has no associated frequency information and so will be ignored when e.g. forecasting.\n",
      "  warnings.warn('A date index has been provided, but it has no'\n",
      "C:\\Users\\Paul\\anaconda3\\lib\\site-packages\\statsmodels\\tsa\\base\\tsa_model.py:581: ValueWarning: A date index has been provided, but it has no associated frequency information and so will be ignored when e.g. forecasting.\n",
      "  warnings.warn('A date index has been provided, but it has no'\n"
     ]
    },
    {
     "name": "stdout",
     "output_type": "stream",
     "text": [
      "            prediction  actual  error       mse   rmse\n",
      "Date                                                  \n",
      "2021-02-01   10.843693     8.0   2.84    8.0656   2.84\n",
      "2021-02-02    7.895734     7.0   0.90    0.8100   0.90\n",
      "2021-02-03    6.780398     7.0  -0.22    0.0484   0.22\n",
      "2021-02-04    6.423676     7.0  -0.58    0.3364   0.58\n",
      "2021-02-05    7.577697     8.0  -0.42    0.1764   0.42\n",
      "...                ...     ...    ...       ...    ...\n",
      "2021-04-07   11.015400    23.0 -11.98  143.5204  11.98\n",
      "2021-04-08   16.016787    11.0   5.02   25.2004   5.02\n",
      "2021-04-09   14.719635    17.0  -2.28    5.1984   2.28\n",
      "2021-04-10   16.181026    15.0   1.18    1.3924   1.18\n",
      "2021-04-11   16.350263    10.0   6.35   40.3225   6.35\n",
      "\n",
      "[70 rows x 5 columns]\n"
     ]
    },
    {
     "name": "stderr",
     "output_type": "stream",
     "text": [
      "C:\\Users\\Paul\\anaconda3\\lib\\site-packages\\statsmodels\\tsa\\base\\tsa_model.py:581: ValueWarning: A date index has been provided, but it has no associated frequency information and so will be ignored when e.g. forecasting.\n",
      "  warnings.warn('A date index has been provided, but it has no'\n",
      "C:\\Users\\Paul\\anaconda3\\lib\\site-packages\\statsmodels\\tsa\\base\\tsa_model.py:581: ValueWarning: A date index has been provided, but it has no associated frequency information and so will be ignored when e.g. forecasting.\n",
      "  warnings.warn('A date index has been provided, but it has no'\n"
     ]
    },
    {
     "name": "stdout",
     "output_type": "stream",
     "text": [
      "            prediction  actual  error      mse  rmse\n",
      "Date                                                \n",
      "2021-02-01   10.932083    19.0  -8.07  65.1249  8.07\n",
      "2021-02-02   13.092408    10.0   3.09   9.5481  3.09\n",
      "2021-02-03   12.203701    16.0  -3.80  14.4400  3.80\n",
      "2021-02-04   11.232319     9.0   2.23   4.9729  2.23\n",
      "2021-02-05   12.792086     8.0   4.79  22.9441  4.79\n",
      "...                ...     ...    ...      ...   ...\n",
      "2021-04-07   10.493096    11.0  -0.51   0.2601  0.51\n",
      "2021-04-08   11.250955    12.0  -0.75   0.5625  0.75\n",
      "2021-04-09   11.031927    12.0  -0.97   0.9409  0.97\n",
      "2021-04-10   10.122591    12.0  -1.88   3.5344  1.88\n",
      "2021-04-11   11.819620     9.0   2.82   7.9524  2.82\n",
      "\n",
      "[70 rows x 5 columns]\n"
     ]
    },
    {
     "name": "stderr",
     "output_type": "stream",
     "text": [
      "C:\\Users\\Paul\\anaconda3\\lib\\site-packages\\statsmodels\\tsa\\base\\tsa_model.py:581: ValueWarning: A date index has been provided, but it has no associated frequency information and so will be ignored when e.g. forecasting.\n",
      "  warnings.warn('A date index has been provided, but it has no'\n",
      "C:\\Users\\Paul\\anaconda3\\lib\\site-packages\\statsmodels\\tsa\\base\\tsa_model.py:581: ValueWarning: A date index has been provided, but it has no associated frequency information and so will be ignored when e.g. forecasting.\n",
      "  warnings.warn('A date index has been provided, but it has no'\n"
     ]
    },
    {
     "name": "stdout",
     "output_type": "stream",
     "text": [
      "            prediction  actual  error       mse   rmse\n",
      "Date                                                  \n",
      "2021-02-01    7.168280     2.0   5.17   26.7289   5.17\n",
      "2021-02-02    4.593273     0.0   4.59   21.0681   4.59\n",
      "2021-02-03    1.945350     7.0  -5.05   25.5025   5.05\n",
      "2021-02-04    7.826498    22.0 -14.17  200.7889  14.17\n",
      "2021-02-05   12.817617    42.0 -29.18  851.4724  29.18\n",
      "...                ...     ...    ...       ...    ...\n",
      "2021-04-07    4.090122    13.0  -8.91   79.3881   8.91\n",
      "2021-04-08    8.381918    31.0 -22.62  511.6644  22.62\n",
      "2021-04-09   21.089128     5.0  16.09  258.8881  16.09\n",
      "2021-04-10   12.924688    10.0   2.92    8.5264   2.92\n",
      "2021-04-11   13.028353     4.0   9.03   81.5409   9.03\n",
      "\n",
      "[70 rows x 5 columns]\n"
     ]
    },
    {
     "name": "stderr",
     "output_type": "stream",
     "text": [
      "C:\\Users\\Paul\\anaconda3\\lib\\site-packages\\statsmodels\\tsa\\base\\tsa_model.py:581: ValueWarning: A date index has been provided, but it has no associated frequency information and so will be ignored when e.g. forecasting.\n",
      "  warnings.warn('A date index has been provided, but it has no'\n",
      "C:\\Users\\Paul\\anaconda3\\lib\\site-packages\\statsmodels\\tsa\\base\\tsa_model.py:581: ValueWarning: A date index has been provided, but it has no associated frequency information and so will be ignored when e.g. forecasting.\n",
      "  warnings.warn('A date index has been provided, but it has no'\n"
     ]
    },
    {
     "name": "stdout",
     "output_type": "stream",
     "text": [
      "            prediction  actual  error       mse   rmse\n",
      "Date                                                  \n",
      "2021-02-01   16.938420     6.0  10.94  119.6836  10.94\n",
      "2021-02-02   11.593371    12.0  -0.41    0.1681   0.41\n",
      "2021-02-03   10.988582    15.0  -4.01   16.0801   4.01\n",
      "2021-02-04   12.833154    24.0 -11.17  124.7689  11.17\n",
      "2021-02-05   19.348490    19.0   0.35    0.1225   0.35\n",
      "...                ...     ...    ...       ...    ...\n",
      "2021-04-07   16.521949    47.0 -30.48  929.0304  30.48\n",
      "2021-04-08   30.274139    11.0  19.27  371.3329  19.27\n",
      "2021-04-09   23.138193    19.0   4.14   17.1396   4.14\n",
      "2021-04-10   20.267161    18.0   2.27    5.1529   2.27\n",
      "2021-04-11   19.495693    11.0   8.50   72.2500   8.50\n",
      "\n",
      "[70 rows x 5 columns]\n"
     ]
    },
    {
     "name": "stderr",
     "output_type": "stream",
     "text": [
      "C:\\Users\\Paul\\anaconda3\\lib\\site-packages\\statsmodels\\tsa\\base\\tsa_model.py:581: ValueWarning: A date index has been provided, but it has no associated frequency information and so will be ignored when e.g. forecasting.\n",
      "  warnings.warn('A date index has been provided, but it has no'\n",
      "C:\\Users\\Paul\\anaconda3\\lib\\site-packages\\statsmodels\\tsa\\base\\tsa_model.py:581: ValueWarning: A date index has been provided, but it has no associated frequency information and so will be ignored when e.g. forecasting.\n",
      "  warnings.warn('A date index has been provided, but it has no'\n"
     ]
    },
    {
     "name": "stdout",
     "output_type": "stream",
     "text": [
      "            prediction  actual  error      mse  rmse\n",
      "Date                                                \n",
      "2021-02-01   18.721152    17.0   1.72   2.9584  1.72\n",
      "2021-02-02   16.975832    20.0  -3.02   9.1204  3.02\n",
      "2021-02-03   17.889177    13.0   4.89  23.9121  4.89\n",
      "2021-02-04   17.246153    13.0   4.25  18.0625  4.25\n",
      "2021-02-05   15.860153    18.0  -2.14   4.5796  2.14\n",
      "...                ...     ...    ...      ...   ...\n",
      "2021-04-07   12.249476    20.0  -7.75  60.0625  7.75\n",
      "2021-04-08   16.649767    21.0  -4.35  18.9225  4.35\n",
      "2021-04-09   18.270843    11.0   7.27  52.8529  7.27\n",
      "2021-04-10   14.795881    16.0  -1.20   1.4400  1.20\n",
      "2021-04-11   14.673902    15.0  -0.33   0.1089  0.33\n",
      "\n",
      "[70 rows x 5 columns]\n"
     ]
    },
    {
     "name": "stderr",
     "output_type": "stream",
     "text": [
      "C:\\Users\\Paul\\anaconda3\\lib\\site-packages\\statsmodels\\tsa\\base\\tsa_model.py:581: ValueWarning: A date index has been provided, but it has no associated frequency information and so will be ignored when e.g. forecasting.\n",
      "  warnings.warn('A date index has been provided, but it has no'\n",
      "C:\\Users\\Paul\\anaconda3\\lib\\site-packages\\statsmodels\\tsa\\base\\tsa_model.py:581: ValueWarning: A date index has been provided, but it has no associated frequency information and so will be ignored when e.g. forecasting.\n",
      "  warnings.warn('A date index has been provided, but it has no'\n"
     ]
    },
    {
     "name": "stdout",
     "output_type": "stream",
     "text": [
      "            prediction  actual  error      mse  rmse\n",
      "Date                                                \n",
      "2021-02-01   31.519956    33.0  -1.48   2.1904  1.48\n",
      "2021-02-02   31.053223    32.0  -0.95   0.9025  0.95\n",
      "2021-02-03   33.250652    35.0  -1.75   3.0625  1.75\n",
      "2021-02-04   31.274350    25.0   6.27  39.3129  6.27\n",
      "2021-02-05   28.775086    27.0   1.78   3.1684  1.78\n",
      "...                ...     ...    ...      ...   ...\n",
      "2021-04-07   13.305348     8.0   5.31  28.1961  5.31\n",
      "2021-04-08    9.106000    15.0  -5.89  34.6921  5.89\n",
      "2021-04-09   12.262479    11.0   1.26   1.5876  1.26\n",
      "2021-04-10   13.825326    15.0  -1.17   1.3689  1.17\n",
      "2021-04-11   13.830791    14.0  -0.17   0.0289  0.17\n",
      "\n",
      "[70 rows x 5 columns]\n"
     ]
    },
    {
     "name": "stderr",
     "output_type": "stream",
     "text": [
      "C:\\Users\\Paul\\anaconda3\\lib\\site-packages\\statsmodels\\tsa\\base\\tsa_model.py:581: ValueWarning: A date index has been provided, but it has no associated frequency information and so will be ignored when e.g. forecasting.\n",
      "  warnings.warn('A date index has been provided, but it has no'\n",
      "C:\\Users\\Paul\\anaconda3\\lib\\site-packages\\statsmodels\\tsa\\base\\tsa_model.py:581: ValueWarning: A date index has been provided, but it has no associated frequency information and so will be ignored when e.g. forecasting.\n",
      "  warnings.warn('A date index has been provided, but it has no'\n"
     ]
    },
    {
     "name": "stdout",
     "output_type": "stream",
     "text": [
      "            prediction  actual  error       mse   rmse\n",
      "Date                                                  \n",
      "2021-02-01   29.669407    37.0  -7.33   53.7289   7.33\n",
      "2021-02-02   32.933994    23.0   9.93   98.6049   9.93\n",
      "2021-02-03   27.110989    28.0  -0.89    0.7921   0.89\n",
      "2021-02-04   27.805072    14.0  13.81  190.7161  13.81\n",
      "2021-02-05   19.107597    24.0  -4.89   23.9121   4.89\n",
      "...                ...     ...    ...       ...    ...\n",
      "2021-04-07    8.659240    11.0  -2.34    5.4756   2.34\n",
      "2021-04-08    9.630250    13.0  -3.37   11.3569   3.37\n",
      "2021-04-09   12.819674     9.0   3.82   14.5924   3.82\n",
      "2021-04-10   10.486425    13.0  -2.51    6.3001   2.51\n",
      "2021-04-11   11.997825     6.0   6.00   36.0000   6.00\n",
      "\n",
      "[70 rows x 5 columns]\n"
     ]
    },
    {
     "name": "stderr",
     "output_type": "stream",
     "text": [
      "C:\\Users\\Paul\\anaconda3\\lib\\site-packages\\statsmodels\\tsa\\base\\tsa_model.py:581: ValueWarning: A date index has been provided, but it has no associated frequency information and so will be ignored when e.g. forecasting.\n",
      "  warnings.warn('A date index has been provided, but it has no'\n",
      "C:\\Users\\Paul\\anaconda3\\lib\\site-packages\\statsmodels\\tsa\\base\\tsa_model.py:581: ValueWarning: A date index has been provided, but it has no associated frequency information and so will be ignored when e.g. forecasting.\n",
      "  warnings.warn('A date index has been provided, but it has no'\n"
     ]
    },
    {
     "name": "stdout",
     "output_type": "stream",
     "text": [
      "            prediction  actual  error       mse   rmse\n",
      "Date                                                  \n",
      "2021-02-01   17.093632    20.0  -2.91    8.4681   2.91\n",
      "2021-02-02   18.436393    22.0  -3.56   12.6736   3.56\n",
      "2021-02-03   18.233608    12.0   6.23   38.8129   6.23\n",
      "2021-02-04   16.973338    17.0  -0.03    0.0009   0.03\n",
      "2021-02-05   16.906815    11.0   5.91   34.9281   5.91\n",
      "...                ...     ...    ...       ...    ...\n",
      "2021-04-07    7.863339    15.0  -7.14   50.9796   7.14\n",
      "2021-04-08    9.986273    23.0 -13.01  169.2601  13.01\n",
      "2021-04-09   12.536846    17.0  -4.46   19.8916   4.46\n",
      "2021-04-10   16.534296    13.0   3.53   12.4609   3.53\n",
      "2021-04-11   12.809980    19.0  -6.19   38.3161   6.19\n",
      "\n",
      "[70 rows x 5 columns]\n"
     ]
    },
    {
     "name": "stderr",
     "output_type": "stream",
     "text": [
      "C:\\Users\\Paul\\anaconda3\\lib\\site-packages\\statsmodels\\tsa\\base\\tsa_model.py:581: ValueWarning: A date index has been provided, but it has no associated frequency information and so will be ignored when e.g. forecasting.\n",
      "  warnings.warn('A date index has been provided, but it has no'\n",
      "C:\\Users\\Paul\\anaconda3\\lib\\site-packages\\statsmodels\\tsa\\base\\tsa_model.py:581: ValueWarning: A date index has been provided, but it has no associated frequency information and so will be ignored when e.g. forecasting.\n",
      "  warnings.warn('A date index has been provided, but it has no'\n"
     ]
    },
    {
     "name": "stdout",
     "output_type": "stream",
     "text": [
      "            prediction  actual  error       mse   rmse\n",
      "Date                                                  \n",
      "2021-02-01   14.748264    15.0  -0.25    0.0625   0.25\n",
      "2021-02-02   16.054036    16.0   0.05    0.0025   0.05\n",
      "2021-02-03   14.702689    10.0   4.70   22.0900   4.70\n",
      "2021-02-04   11.652776    16.0  -4.35   18.9225   4.35\n",
      "2021-02-05   14.888591    11.0   3.89   15.1321   3.89\n",
      "...                ...     ...    ...       ...    ...\n",
      "2021-04-07    8.553763    32.0 -23.45  549.9025  23.45\n",
      "2021-04-08   24.829384    26.0  -1.17    1.3689   1.17\n",
      "2021-04-09   25.932202    18.0   7.93   62.8849   7.93\n",
      "2021-04-10   20.112323    17.0   3.11    9.6721   3.11\n",
      "2021-04-11   17.405439    16.0   1.41    1.9881   1.41\n",
      "\n",
      "[70 rows x 5 columns]\n"
     ]
    },
    {
     "name": "stderr",
     "output_type": "stream",
     "text": [
      "C:\\Users\\Paul\\anaconda3\\lib\\site-packages\\statsmodels\\tsa\\base\\tsa_model.py:581: ValueWarning: A date index has been provided, but it has no associated frequency information and so will be ignored when e.g. forecasting.\n",
      "  warnings.warn('A date index has been provided, but it has no'\n",
      "C:\\Users\\Paul\\anaconda3\\lib\\site-packages\\statsmodels\\tsa\\base\\tsa_model.py:581: ValueWarning: A date index has been provided, but it has no associated frequency information and so will be ignored when e.g. forecasting.\n",
      "  warnings.warn('A date index has been provided, but it has no'\n"
     ]
    },
    {
     "name": "stdout",
     "output_type": "stream",
     "text": [
      "            prediction  actual  error      mse  rmse\n",
      "Date                                                \n",
      "2021-02-01    3.568088     9.0  -5.43  29.4849  5.43\n",
      "2021-02-02    5.193183     4.0   1.19   1.4161  1.19\n",
      "2021-02-03    3.910863     6.0  -2.09   4.3681  2.09\n",
      "2021-02-04    5.060728     5.0   0.06   0.0036  0.06\n",
      "2021-02-05    4.175713     3.0   1.18   1.3924  1.18\n",
      "...                ...     ...    ...      ...   ...\n",
      "2021-04-07    2.206338     4.0  -1.79   3.2041  1.79\n",
      "2021-04-08    2.960974     0.0   2.96   8.7616  2.96\n",
      "2021-04-09    1.427194     0.0   1.43   2.0449  1.43\n",
      "2021-04-10    1.782884     8.0  -6.22  38.6884  6.22\n",
      "2021-04-11    4.601101     6.0  -1.40   1.9600  1.40\n",
      "\n",
      "[70 rows x 5 columns]\n"
     ]
    },
    {
     "name": "stderr",
     "output_type": "stream",
     "text": [
      "C:\\Users\\Paul\\anaconda3\\lib\\site-packages\\statsmodels\\tsa\\base\\tsa_model.py:581: ValueWarning: A date index has been provided, but it has no associated frequency information and so will be ignored when e.g. forecasting.\n",
      "  warnings.warn('A date index has been provided, but it has no'\n",
      "C:\\Users\\Paul\\anaconda3\\lib\\site-packages\\statsmodels\\tsa\\base\\tsa_model.py:581: ValueWarning: A date index has been provided, but it has no associated frequency information and so will be ignored when e.g. forecasting.\n",
      "  warnings.warn('A date index has been provided, but it has no'\n"
     ]
    },
    {
     "name": "stdout",
     "output_type": "stream",
     "text": [
      "            prediction  actual  error       mse   rmse\n",
      "Date                                                  \n",
      "2021-02-01   24.430468    43.0 -18.57  344.8449  18.57\n",
      "2021-02-02   37.610196    55.0 -17.39  302.4121  17.39\n",
      "2021-02-03   48.938077    21.0  27.94  780.6436  27.94\n",
      "2021-02-04   30.554277    10.0  20.55  422.3025  20.55\n",
      "2021-02-05   16.991754    19.0  -2.01    4.0401   2.01\n",
      "...                ...     ...    ...       ...    ...\n",
      "2021-04-07    5.449924     7.0  -1.55    2.4025   1.55\n",
      "2021-04-08    5.745155     6.0  -0.25    0.0625   0.25\n",
      "2021-04-09    6.533999     7.0  -0.47    0.2209   0.47\n",
      "2021-04-10    6.640199     6.0   0.64    0.4096   0.64\n",
      "2021-04-11    5.564696     6.0  -0.44    0.1936   0.44\n",
      "\n",
      "[70 rows x 5 columns]\n"
     ]
    },
    {
     "name": "stderr",
     "output_type": "stream",
     "text": [
      "C:\\Users\\Paul\\anaconda3\\lib\\site-packages\\statsmodels\\tsa\\base\\tsa_model.py:581: ValueWarning: A date index has been provided, but it has no associated frequency information and so will be ignored when e.g. forecasting.\n",
      "  warnings.warn('A date index has been provided, but it has no'\n",
      "C:\\Users\\Paul\\anaconda3\\lib\\site-packages\\statsmodels\\tsa\\base\\tsa_model.py:581: ValueWarning: A date index has been provided, but it has no associated frequency information and so will be ignored when e.g. forecasting.\n",
      "  warnings.warn('A date index has been provided, but it has no'\n"
     ]
    },
    {
     "name": "stdout",
     "output_type": "stream",
     "text": [
      "            prediction  actual  error       mse   rmse\n",
      "Date                                                  \n",
      "2021-02-01   12.093136     9.0   3.09    9.5481   3.09\n",
      "2021-02-02   14.664865     6.0   8.66   74.9956   8.66\n",
      "2021-02-03   12.678541     7.0   5.68   32.2624   5.68\n",
      "2021-02-04   13.548827    18.0  -4.45   19.8025   4.45\n",
      "2021-02-05   15.020367     8.0   7.02   49.2804   7.02\n",
      "...                ...     ...    ...       ...    ...\n",
      "2021-04-07    5.561586     0.0   5.56   30.9136   5.56\n",
      "2021-04-08    5.081741     0.0   5.08   25.8064   5.08\n",
      "2021-04-09    5.966287     0.0   5.97   35.6409   5.97\n",
      "2021-04-10    3.444380    18.0 -14.56  211.9936  14.56\n",
      "2021-04-11    2.548671     8.0  -5.45   29.7025   5.45\n",
      "\n",
      "[70 rows x 5 columns]\n"
     ]
    },
    {
     "name": "stderr",
     "output_type": "stream",
     "text": [
      "C:\\Users\\Paul\\anaconda3\\lib\\site-packages\\statsmodels\\tsa\\base\\tsa_model.py:581: ValueWarning: A date index has been provided, but it has no associated frequency information and so will be ignored when e.g. forecasting.\n",
      "  warnings.warn('A date index has been provided, but it has no'\n",
      "C:\\Users\\Paul\\anaconda3\\lib\\site-packages\\statsmodels\\tsa\\base\\tsa_model.py:581: ValueWarning: A date index has been provided, but it has no associated frequency information and so will be ignored when e.g. forecasting.\n",
      "  warnings.warn('A date index has been provided, but it has no'\n"
     ]
    },
    {
     "name": "stdout",
     "output_type": "stream",
     "text": [
      "            prediction  actual  error       mse   rmse\n",
      "Date                                                  \n",
      "2021-02-01    5.318202     2.0   3.32   11.0224   3.32\n",
      "2021-02-02    5.529854     6.0  -0.47    0.2209   0.47\n",
      "2021-02-03    3.287494     5.0  -1.71    2.9241   1.71\n",
      "2021-02-04    2.477982    18.0 -15.52  240.8704  15.52\n",
      "2021-02-05   12.685598    26.0 -13.31  177.1561  13.31\n",
      "...                ...     ...    ...       ...    ...\n",
      "2021-04-07    0.849688     5.0  -4.15   17.2225   4.15\n",
      "2021-04-08    2.455851     0.0   2.46    6.0516   2.46\n",
      "2021-04-09    1.808492     5.0  -3.19   10.1761   3.19\n",
      "2021-04-10    5.282541     5.0   0.28    0.0784   0.28\n",
      "2021-04-11    2.724233     0.0   2.72    7.3984   2.72\n",
      "\n",
      "[70 rows x 5 columns]\n"
     ]
    },
    {
     "name": "stderr",
     "output_type": "stream",
     "text": [
      "C:\\Users\\Paul\\anaconda3\\lib\\site-packages\\statsmodels\\tsa\\base\\tsa_model.py:581: ValueWarning: A date index has been provided, but it has no associated frequency information and so will be ignored when e.g. forecasting.\n",
      "  warnings.warn('A date index has been provided, but it has no'\n",
      "C:\\Users\\Paul\\anaconda3\\lib\\site-packages\\statsmodels\\tsa\\base\\tsa_model.py:581: ValueWarning: A date index has been provided, but it has no associated frequency information and so will be ignored when e.g. forecasting.\n",
      "  warnings.warn('A date index has been provided, but it has no'\n"
     ]
    },
    {
     "name": "stdout",
     "output_type": "stream",
     "text": [
      "            prediction  actual  error      mse  rmse\n",
      "Date                                                \n",
      "2021-02-01   23.814667    28.0  -4.19  17.5561  4.19\n",
      "2021-02-02   25.931200    20.0   5.93  35.1649  5.93\n",
      "2021-02-03   22.299158    22.0   0.30   0.0900  0.30\n",
      "2021-02-04   21.942961    16.0   5.94  35.2836  5.94\n",
      "2021-02-05   17.081634    14.0   3.08   9.4864  3.08\n",
      "...                ...     ...    ...      ...   ...\n",
      "2021-04-07    9.057076     8.0   1.06   1.1236  1.06\n",
      "2021-04-08    8.154763     7.0   1.15   1.3225  1.15\n",
      "2021-04-09    6.770008     8.0  -1.23   1.5129  1.23\n",
      "2021-04-10    8.710467     8.0   0.71   0.5041  0.71\n",
      "2021-04-11    8.110794     7.0   1.11   1.2321  1.11\n",
      "\n",
      "[70 rows x 5 columns]\n"
     ]
    },
    {
     "name": "stderr",
     "output_type": "stream",
     "text": [
      "C:\\Users\\Paul\\anaconda3\\lib\\site-packages\\statsmodels\\tsa\\base\\tsa_model.py:581: ValueWarning: A date index has been provided, but it has no associated frequency information and so will be ignored when e.g. forecasting.\n",
      "  warnings.warn('A date index has been provided, but it has no'\n",
      "C:\\Users\\Paul\\anaconda3\\lib\\site-packages\\statsmodels\\tsa\\base\\tsa_model.py:581: ValueWarning: A date index has been provided, but it has no associated frequency information and so will be ignored when e.g. forecasting.\n",
      "  warnings.warn('A date index has been provided, but it has no'\n"
     ]
    },
    {
     "name": "stdout",
     "output_type": "stream",
     "text": [
      "            prediction  actual  error      mse  rmse\n",
      "Date                                                \n",
      "2021-02-01   19.005340    19.0   0.01   0.0001  0.01\n",
      "2021-02-02   19.406044    22.0  -2.59   6.7081  2.59\n",
      "2021-02-03   18.992237    23.0  -4.01  16.0801  4.01\n",
      "2021-02-04   19.048379    14.0   5.05  25.5025  5.05\n",
      "2021-02-05   18.008958    15.0   3.01   9.0601  3.01\n",
      "...                ...     ...    ...      ...   ...\n",
      "2021-04-07   17.054350    14.0   3.05   9.3025  3.05\n",
      "2021-04-08   17.000440    18.0  -1.00   1.0000  1.00\n",
      "2021-04-09   16.492858    17.0  -0.51   0.2601  0.51\n",
      "2021-04-10   16.028591    14.0   2.03   4.1209  2.03\n",
      "2021-04-11   16.823652    23.0  -6.18  38.1924  6.18\n",
      "\n",
      "[70 rows x 5 columns]\n"
     ]
    },
    {
     "name": "stderr",
     "output_type": "stream",
     "text": [
      "C:\\Users\\Paul\\anaconda3\\lib\\site-packages\\statsmodels\\tsa\\base\\tsa_model.py:581: ValueWarning: A date index has been provided, but it has no associated frequency information and so will be ignored when e.g. forecasting.\n",
      "  warnings.warn('A date index has been provided, but it has no'\n",
      "C:\\Users\\Paul\\anaconda3\\lib\\site-packages\\statsmodels\\tsa\\base\\tsa_model.py:581: ValueWarning: A date index has been provided, but it has no associated frequency information and so will be ignored when e.g. forecasting.\n",
      "  warnings.warn('A date index has been provided, but it has no'\n"
     ]
    },
    {
     "name": "stdout",
     "output_type": "stream",
     "text": [
      "            prediction  actual  error       mse   rmse\n",
      "Date                                                  \n",
      "2021-02-01   30.895692    29.0   1.90    3.6100   1.90\n",
      "2021-02-02   26.630039    29.0  -2.37    5.6169   2.37\n",
      "2021-02-03   28.070454    13.0  15.07  227.1049  15.07\n",
      "2021-02-04   24.229688    24.0   0.23    0.0529   0.23\n",
      "2021-02-05   26.061131    25.0   1.06    1.1236   1.06\n",
      "...                ...     ...    ...       ...    ...\n",
      "2021-04-07   15.769261    29.0 -13.23  175.0329  13.23\n",
      "2021-04-08   20.180357    34.0 -13.82  190.9924  13.82\n",
      "2021-04-09   26.797845    24.0   2.80    7.8400   2.80\n",
      "2021-04-10   22.805918    33.0 -10.19  103.8361  10.19\n",
      "2021-04-11   28.072362    33.0  -4.93   24.3049   4.93\n",
      "\n",
      "[70 rows x 5 columns]\n"
     ]
    },
    {
     "name": "stderr",
     "output_type": "stream",
     "text": [
      "C:\\Users\\Paul\\anaconda3\\lib\\site-packages\\statsmodels\\tsa\\base\\tsa_model.py:581: ValueWarning: A date index has been provided, but it has no associated frequency information and so will be ignored when e.g. forecasting.\n",
      "  warnings.warn('A date index has been provided, but it has no'\n",
      "C:\\Users\\Paul\\anaconda3\\lib\\site-packages\\statsmodels\\tsa\\base\\tsa_model.py:581: ValueWarning: A date index has been provided, but it has no associated frequency information and so will be ignored when e.g. forecasting.\n",
      "  warnings.warn('A date index has been provided, but it has no'\n"
     ]
    },
    {
     "name": "stdout",
     "output_type": "stream",
     "text": [
      "            prediction  actual  error      mse  rmse\n",
      "Date                                                \n",
      "2021-02-01    9.354120     3.0   6.35  40.3225  6.35\n",
      "2021-02-02    5.702787     3.0   2.70   7.2900  2.70\n",
      "2021-02-03    3.720736     6.0  -2.28   5.1984  2.28\n",
      "2021-02-04    5.031896     5.0   0.03   0.0009  0.03\n",
      "2021-02-05    5.345228     6.0  -0.65   0.4225  0.65\n",
      "...                ...     ...    ...      ...   ...\n",
      "2021-04-07    8.085676     7.0   1.09   1.1881  1.09\n",
      "2021-04-08    7.878382     5.0   2.88   8.2944  2.88\n",
      "2021-04-09    6.059400     6.0   0.06   0.0036  0.06\n",
      "2021-04-10    7.356735     4.0   3.36  11.2896  3.36\n",
      "2021-04-11    7.138341     7.0   0.14   0.0196  0.14\n",
      "\n",
      "[70 rows x 5 columns]\n"
     ]
    },
    {
     "name": "stderr",
     "output_type": "stream",
     "text": [
      "C:\\Users\\Paul\\anaconda3\\lib\\site-packages\\statsmodels\\tsa\\base\\tsa_model.py:581: ValueWarning: A date index has been provided, but it has no associated frequency information and so will be ignored when e.g. forecasting.\n",
      "  warnings.warn('A date index has been provided, but it has no'\n",
      "C:\\Users\\Paul\\anaconda3\\lib\\site-packages\\statsmodels\\tsa\\base\\tsa_model.py:581: ValueWarning: A date index has been provided, but it has no associated frequency information and so will be ignored when e.g. forecasting.\n",
      "  warnings.warn('A date index has been provided, but it has no'\n"
     ]
    },
    {
     "name": "stdout",
     "output_type": "stream",
     "text": [
      "            prediction  actual  error      mse  rmse\n",
      "Date                                                \n",
      "2021-02-01    4.173403    12.0  -7.83  61.3089  7.83\n",
      "2021-02-02    7.619222     9.0  -1.38   1.9044  1.38\n",
      "2021-02-03    7.198635     9.0  -1.80   3.2400  1.80\n",
      "2021-02-04    7.428792     6.0   1.43   2.0449  1.43\n",
      "2021-02-05    7.865411     7.0   0.87   0.7569  0.87\n",
      "...                ...     ...    ...      ...   ...\n",
      "2021-04-07    6.268405     3.0   3.27  10.6929  3.27\n",
      "2021-04-08    6.296970     7.0  -0.70   0.4900  0.70\n",
      "2021-04-09    6.669738     8.0  -1.33   1.7689  1.33\n",
      "2021-04-10    5.102742     6.0  -0.90   0.8100  0.90\n",
      "2021-04-11    5.215227     3.0   2.22   4.9284  2.22\n",
      "\n",
      "[70 rows x 5 columns]\n"
     ]
    },
    {
     "name": "stderr",
     "output_type": "stream",
     "text": [
      "C:\\Users\\Paul\\anaconda3\\lib\\site-packages\\statsmodels\\tsa\\base\\tsa_model.py:581: ValueWarning: A date index has been provided, but it has no associated frequency information and so will be ignored when e.g. forecasting.\n",
      "  warnings.warn('A date index has been provided, but it has no'\n",
      "C:\\Users\\Paul\\anaconda3\\lib\\site-packages\\statsmodels\\tsa\\base\\tsa_model.py:581: ValueWarning: A date index has been provided, but it has no associated frequency information and so will be ignored when e.g. forecasting.\n",
      "  warnings.warn('A date index has been provided, but it has no'\n"
     ]
    },
    {
     "name": "stdout",
     "output_type": "stream",
     "text": [
      "            prediction  actual  error      mse  rmse\n",
      "Date                                                \n",
      "2021-02-01   12.189213    15.0  -2.81   7.8961  2.81\n",
      "2021-02-02   13.131755    20.0  -6.87  47.1969  6.87\n",
      "2021-02-03   17.745366    13.0   4.75  22.5625  4.75\n",
      "2021-02-04   14.561407    15.0  -0.44   0.1936  0.44\n",
      "2021-02-05   16.199557    14.0   2.20   4.8400  2.20\n",
      "...                ...     ...    ...      ...   ...\n",
      "2021-04-07   14.131751    15.0  -0.87   0.7569  0.87\n",
      "2021-04-08   15.500064    15.0   0.50   0.2500  0.50\n",
      "2021-04-09   16.814669    12.0   4.81  23.1361  4.81\n",
      "2021-04-10   11.707827    14.0  -2.29   5.2441  2.29\n",
      "2021-04-11   14.899117    12.0   2.90   8.4100  2.90\n",
      "\n",
      "[70 rows x 5 columns]\n"
     ]
    },
    {
     "name": "stderr",
     "output_type": "stream",
     "text": [
      "C:\\Users\\Paul\\anaconda3\\lib\\site-packages\\statsmodels\\tsa\\base\\tsa_model.py:581: ValueWarning: A date index has been provided, but it has no associated frequency information and so will be ignored when e.g. forecasting.\n",
      "  warnings.warn('A date index has been provided, but it has no'\n",
      "C:\\Users\\Paul\\anaconda3\\lib\\site-packages\\statsmodels\\tsa\\base\\tsa_model.py:581: ValueWarning: A date index has been provided, but it has no associated frequency information and so will be ignored when e.g. forecasting.\n",
      "  warnings.warn('A date index has been provided, but it has no'\n"
     ]
    },
    {
     "name": "stdout",
     "output_type": "stream",
     "text": [
      "            prediction  actual  error       mse   rmse\n",
      "Date                                                  \n",
      "2021-02-01   19.918041    19.0   0.92    0.8464   0.92\n",
      "2021-02-02   18.652568    15.0   3.65   13.3225   3.65\n",
      "2021-02-03   17.128741    16.0   1.13    1.2769   1.13\n",
      "2021-02-04   18.446447    17.0   1.45    2.1025   1.45\n",
      "2021-02-05   17.657244    15.0   2.66    7.0756   2.66\n",
      "...                ...     ...    ...       ...    ...\n",
      "2021-04-07   19.928558    31.0 -11.07  122.5449  11.07\n",
      "2021-04-08   24.350250    16.0   8.35   69.7225   8.35\n",
      "2021-04-09   21.025554    23.0  -1.97    3.8809   1.97\n",
      "2021-04-10   21.802602    19.0   2.80    7.8400   2.80\n",
      "2021-04-11   20.285895    25.0  -4.71   22.1841   4.71\n",
      "\n",
      "[70 rows x 5 columns]\n"
     ]
    },
    {
     "name": "stderr",
     "output_type": "stream",
     "text": [
      "C:\\Users\\Paul\\anaconda3\\lib\\site-packages\\statsmodels\\tsa\\base\\tsa_model.py:581: ValueWarning: A date index has been provided, but it has no associated frequency information and so will be ignored when e.g. forecasting.\n",
      "  warnings.warn('A date index has been provided, but it has no'\n",
      "C:\\Users\\Paul\\anaconda3\\lib\\site-packages\\statsmodels\\tsa\\base\\tsa_model.py:581: ValueWarning: A date index has been provided, but it has no associated frequency information and so will be ignored when e.g. forecasting.\n",
      "  warnings.warn('A date index has been provided, but it has no'\n"
     ]
    },
    {
     "name": "stdout",
     "output_type": "stream",
     "text": [
      "            prediction  actual  error      mse  rmse\n",
      "Date                                                \n",
      "2021-02-01   17.505814    11.0   6.51  42.3801  6.51\n",
      "2021-02-02   15.619686    13.0   2.62   6.8644  2.62\n",
      "2021-02-03   14.520967    15.0  -0.48   0.2304  0.48\n",
      "2021-02-04   15.030875    16.0  -0.97   0.9409  0.97\n",
      "2021-02-05   15.667799    14.0   1.67   2.7889  1.67\n",
      "...                ...     ...    ...      ...   ...\n",
      "2021-04-07   12.450242    11.0   1.45   2.1025  1.45\n",
      "2021-04-08   11.437609    14.0  -2.56   6.5536  2.56\n",
      "2021-04-09   12.245162    11.0   1.25   1.5625  1.25\n",
      "2021-04-10   12.620979    16.0  -3.38  11.4244  3.38\n",
      "2021-04-11   12.736716     8.0   4.74  22.4676  4.74\n",
      "\n",
      "[70 rows x 5 columns]\n"
     ]
    },
    {
     "name": "stderr",
     "output_type": "stream",
     "text": [
      "C:\\Users\\Paul\\anaconda3\\lib\\site-packages\\statsmodels\\tsa\\base\\tsa_model.py:581: ValueWarning: A date index has been provided, but it has no associated frequency information and so will be ignored when e.g. forecasting.\n",
      "  warnings.warn('A date index has been provided, but it has no'\n",
      "C:\\Users\\Paul\\anaconda3\\lib\\site-packages\\statsmodels\\tsa\\base\\tsa_model.py:581: ValueWarning: A date index has been provided, but it has no associated frequency information and so will be ignored when e.g. forecasting.\n",
      "  warnings.warn('A date index has been provided, but it has no'\n"
     ]
    },
    {
     "name": "stdout",
     "output_type": "stream",
     "text": [
      "            prediction  actual  error      mse  rmse\n",
      "Date                                                \n",
      "2021-02-01   18.750750    22.0  -3.25  10.5625  3.25\n",
      "2021-02-02   21.198078    27.0  -5.80  33.6400  5.80\n",
      "2021-02-03   23.631854    23.0   0.63   0.3969  0.63\n",
      "2021-02-04   23.370590    20.0   3.37  11.3569  3.37\n",
      "2021-02-05   22.136148    13.0   9.14  83.5396  9.14\n",
      "...                ...     ...    ...      ...   ...\n",
      "2021-04-07   10.332024    11.0  -0.67   0.4489  0.67\n",
      "2021-04-08    9.800151    10.0  -0.20   0.0400  0.20\n",
      "2021-04-09   10.016255    10.0   0.02   0.0004  0.02\n",
      "2021-04-10    8.994961    10.0  -1.01   1.0201  1.01\n",
      "2021-04-11   10.579398    11.0  -0.42   0.1764  0.42\n",
      "\n",
      "[70 rows x 5 columns]\n"
     ]
    },
    {
     "name": "stderr",
     "output_type": "stream",
     "text": [
      "C:\\Users\\Paul\\anaconda3\\lib\\site-packages\\statsmodels\\tsa\\base\\tsa_model.py:581: ValueWarning: A date index has been provided, but it has no associated frequency information and so will be ignored when e.g. forecasting.\n",
      "  warnings.warn('A date index has been provided, but it has no'\n",
      "C:\\Users\\Paul\\anaconda3\\lib\\site-packages\\statsmodels\\tsa\\base\\tsa_model.py:581: ValueWarning: A date index has been provided, but it has no associated frequency information and so will be ignored when e.g. forecasting.\n",
      "  warnings.warn('A date index has been provided, but it has no'\n"
     ]
    },
    {
     "name": "stdout",
     "output_type": "stream",
     "text": [
      "            prediction  actual  error      mse  rmse\n",
      "Date                                                \n",
      "2021-02-01   15.317382    21.0  -5.68  32.2624  5.68\n",
      "2021-02-02   17.698595    21.0  -3.30  10.8900  3.30\n",
      "2021-02-03   18.959529    16.0   2.96   8.7616  2.96\n",
      "2021-02-04   18.000641    15.0   3.00   9.0000  3.00\n",
      "2021-02-05   17.079381    16.0   1.08   1.1664  1.08\n",
      "...                ...     ...    ...      ...   ...\n",
      "2021-04-07   10.717398     9.0   1.72   2.9584  1.72\n",
      "2021-04-08    9.380881     9.0   0.38   0.1444  0.38\n",
      "2021-04-09    9.543301    11.0  -1.46   2.1316  1.46\n",
      "2021-04-10    9.446691    10.0  -0.55   0.3025  0.55\n",
      "2021-04-11   10.828679     9.0   1.83   3.3489  1.83\n",
      "\n",
      "[70 rows x 5 columns]\n"
     ]
    },
    {
     "name": "stderr",
     "output_type": "stream",
     "text": [
      "C:\\Users\\Paul\\anaconda3\\lib\\site-packages\\statsmodels\\tsa\\base\\tsa_model.py:581: ValueWarning: A date index has been provided, but it has no associated frequency information and so will be ignored when e.g. forecasting.\n",
      "  warnings.warn('A date index has been provided, but it has no'\n",
      "C:\\Users\\Paul\\anaconda3\\lib\\site-packages\\statsmodels\\tsa\\base\\tsa_model.py:581: ValueWarning: A date index has been provided, but it has no associated frequency information and so will be ignored when e.g. forecasting.\n",
      "  warnings.warn('A date index has been provided, but it has no'\n"
     ]
    },
    {
     "name": "stdout",
     "output_type": "stream",
     "text": [
      "            prediction  actual  error       mse   rmse\n",
      "Date                                                  \n",
      "2021-02-01   11.525443    11.0   0.53    0.2809   0.53\n",
      "2021-02-02    9.805812    25.0 -15.19  230.7361  15.19\n",
      "2021-02-03   17.996959    18.0  -0.00    0.0000   0.00\n",
      "2021-02-04   17.787199    13.0   4.79   22.9441   4.79\n",
      "2021-02-05   15.956770    20.0  -4.04   16.3216   4.04\n",
      "...                ...     ...    ...       ...    ...\n",
      "2021-04-07    3.533304     6.0  -2.47    6.1009   2.47\n",
      "2021-04-08    3.947020     6.0  -2.05    4.2025   2.05\n",
      "2021-04-09    6.162548     5.0   1.16    1.3456   1.16\n",
      "2021-04-10    4.272829     5.0  -0.73    0.5329   0.73\n",
      "2021-04-11    4.173449     5.0  -0.83    0.6889   0.83\n",
      "\n",
      "[70 rows x 5 columns]\n"
     ]
    },
    {
     "name": "stderr",
     "output_type": "stream",
     "text": [
      "C:\\Users\\Paul\\anaconda3\\lib\\site-packages\\statsmodels\\tsa\\base\\tsa_model.py:581: ValueWarning: A date index has been provided, but it has no associated frequency information and so will be ignored when e.g. forecasting.\n",
      "  warnings.warn('A date index has been provided, but it has no'\n",
      "C:\\Users\\Paul\\anaconda3\\lib\\site-packages\\statsmodels\\tsa\\base\\tsa_model.py:581: ValueWarning: A date index has been provided, but it has no associated frequency information and so will be ignored when e.g. forecasting.\n",
      "  warnings.warn('A date index has been provided, but it has no'\n"
     ]
    },
    {
     "name": "stdout",
     "output_type": "stream",
     "text": [
      "            prediction  actual  error       mse   rmse\n",
      "Date                                                  \n",
      "2021-02-01   15.052642     7.0   8.05   64.8025   8.05\n",
      "2021-02-02   12.960067    11.0   1.96    3.8416   1.96\n",
      "2021-02-03   11.597939    22.0 -10.40  108.1600  10.40\n",
      "2021-02-04   15.338213    11.0   4.34   18.8356   4.34\n",
      "2021-02-05   13.760902     5.0   8.76   76.7376   8.76\n",
      "...                ...     ...    ...       ...    ...\n",
      "2021-04-07   13.734788    23.0  -9.27   85.9329   9.27\n",
      "2021-04-08   16.772954    18.0  -1.23    1.5129   1.23\n",
      "2021-04-09   18.124322    22.0  -3.88   15.0544   3.88\n",
      "2021-04-10   19.094432    19.0   0.09    0.0081   0.09\n",
      "2021-04-11   20.618557    17.0   3.62   13.1044   3.62\n",
      "\n",
      "[70 rows x 5 columns]\n"
     ]
    },
    {
     "name": "stderr",
     "output_type": "stream",
     "text": [
      "C:\\Users\\Paul\\anaconda3\\lib\\site-packages\\statsmodels\\tsa\\base\\tsa_model.py:581: ValueWarning: A date index has been provided, but it has no associated frequency information and so will be ignored when e.g. forecasting.\n",
      "  warnings.warn('A date index has been provided, but it has no'\n",
      "C:\\Users\\Paul\\anaconda3\\lib\\site-packages\\statsmodels\\tsa\\base\\tsa_model.py:581: ValueWarning: A date index has been provided, but it has no associated frequency information and so will be ignored when e.g. forecasting.\n",
      "  warnings.warn('A date index has been provided, but it has no'\n"
     ]
    },
    {
     "name": "stdout",
     "output_type": "stream",
     "text": [
      "            prediction  actual  error       mse   rmse\n",
      "Date                                                  \n",
      "2021-02-01    6.025422    20.0 -13.97  195.1609  13.97\n",
      "2021-02-02   12.927405    14.0  -1.07    1.1449   1.07\n",
      "2021-02-03   13.485665     5.0   8.49   72.0801   8.49\n",
      "2021-02-04    9.931178     4.0   5.93   35.1649   5.93\n",
      "2021-02-05    6.732063     6.0   0.73    0.5329   0.73\n",
      "...                ...     ...    ...       ...    ...\n",
      "2021-04-07    4.018799     8.0  -3.98   15.8404   3.98\n",
      "2021-04-08    5.924605     4.0   1.92    3.6864   1.92\n",
      "2021-04-09    4.602387     6.0  -1.40    1.9600   1.40\n",
      "2021-04-10    5.040388     2.0   3.04    9.2416   3.04\n",
      "2021-04-11    4.389742     7.0  -2.61    6.8121   2.61\n",
      "\n",
      "[70 rows x 5 columns]\n"
     ]
    },
    {
     "name": "stderr",
     "output_type": "stream",
     "text": [
      "C:\\Users\\Paul\\anaconda3\\lib\\site-packages\\statsmodels\\tsa\\base\\tsa_model.py:581: ValueWarning: A date index has been provided, but it has no associated frequency information and so will be ignored when e.g. forecasting.\n",
      "  warnings.warn('A date index has been provided, but it has no'\n",
      "C:\\Users\\Paul\\anaconda3\\lib\\site-packages\\statsmodels\\tsa\\base\\tsa_model.py:581: ValueWarning: A date index has been provided, but it has no associated frequency information and so will be ignored when e.g. forecasting.\n",
      "  warnings.warn('A date index has been provided, but it has no'\n"
     ]
    },
    {
     "name": "stdout",
     "output_type": "stream",
     "text": [
      "            prediction  actual  error      mse  rmse\n",
      "Date                                                \n",
      "2021-02-01   14.072705    19.0  -4.93  24.3049  4.93\n",
      "2021-02-02   17.634622    15.0   2.63   6.9169  2.63\n",
      "2021-02-03   15.684615    15.0   0.68   0.4624  0.68\n",
      "2021-02-04   15.668024    20.0  -4.33  18.7489  4.33\n",
      "2021-02-05   18.362936    19.0  -0.64   0.4096  0.64\n",
      "...                ...     ...    ...      ...   ...\n",
      "2021-04-07    3.505489     5.0  -1.49   2.2201  1.49\n",
      "2021-04-08    5.056942     4.0   1.06   1.1236  1.06\n",
      "2021-04-09    4.390881     6.0  -1.61   2.5921  1.61\n",
      "2021-04-10    4.306609     4.0   0.31   0.0961  0.31\n",
      "2021-04-11    4.839887     4.0   0.84   0.7056  0.84\n",
      "\n",
      "[70 rows x 5 columns]\n"
     ]
    },
    {
     "name": "stderr",
     "output_type": "stream",
     "text": [
      "C:\\Users\\Paul\\anaconda3\\lib\\site-packages\\statsmodels\\tsa\\base\\tsa_model.py:581: ValueWarning: A date index has been provided, but it has no associated frequency information and so will be ignored when e.g. forecasting.\n",
      "  warnings.warn('A date index has been provided, but it has no'\n",
      "C:\\Users\\Paul\\anaconda3\\lib\\site-packages\\statsmodels\\tsa\\base\\tsa_model.py:581: ValueWarning: A date index has been provided, but it has no associated frequency information and so will be ignored when e.g. forecasting.\n",
      "  warnings.warn('A date index has been provided, but it has no'\n"
     ]
    },
    {
     "name": "stdout",
     "output_type": "stream",
     "text": [
      "            prediction  actual  error       mse   rmse\n",
      "Date                                                  \n",
      "2021-02-01   20.177584    17.0   3.18   10.1124   3.18\n",
      "2021-02-02   16.757297     8.0   8.76   76.7376   8.76\n",
      "2021-02-03   15.587139     8.0   7.59   57.6081   7.59\n",
      "2021-02-04   14.852643    38.0 -23.15  535.9225  23.15\n",
      "2021-02-05   20.758467     0.0  20.76  430.9776  20.76\n",
      "...                ...     ...    ...       ...    ...\n",
      "2021-04-07    7.676246     0.0   7.68   58.9824   7.68\n",
      "2021-04-08    8.166520    21.0 -12.83  164.6089  12.83\n",
      "2021-04-09   10.711962    11.0  -0.29    0.0841   0.29\n",
      "2021-04-10    8.869511    25.0 -16.13  260.1769  16.13\n",
      "2021-04-11   13.355758     7.0   6.36   40.4496   6.36\n",
      "\n",
      "[70 rows x 5 columns]\n"
     ]
    },
    {
     "name": "stderr",
     "output_type": "stream",
     "text": [
      "C:\\Users\\Paul\\anaconda3\\lib\\site-packages\\statsmodels\\tsa\\base\\tsa_model.py:581: ValueWarning: A date index has been provided, but it has no associated frequency information and so will be ignored when e.g. forecasting.\n",
      "  warnings.warn('A date index has been provided, but it has no'\n",
      "C:\\Users\\Paul\\anaconda3\\lib\\site-packages\\statsmodels\\tsa\\base\\tsa_model.py:581: ValueWarning: A date index has been provided, but it has no associated frequency information and so will be ignored when e.g. forecasting.\n",
      "  warnings.warn('A date index has been provided, but it has no'\n"
     ]
    },
    {
     "name": "stdout",
     "output_type": "stream",
     "text": [
      "            prediction  actual  error      mse  rmse\n",
      "Date                                                \n",
      "2021-02-01   27.101886    27.0   0.10   0.0100  0.10\n",
      "2021-02-02   25.433253    25.0   0.43   0.1849  0.43\n",
      "2021-02-03   24.669355    31.0  -6.33  40.0689  6.33\n",
      "2021-02-04   28.653754    21.0   7.65  58.5225  7.65\n",
      "2021-02-05   23.991874    21.0   2.99   8.9401  2.99\n",
      "...                ...     ...    ...      ...   ...\n",
      "2021-04-07   23.466890    30.0  -6.53  42.6409  6.53\n",
      "2021-04-08   27.508810    36.0  -8.49  72.0801  8.49\n",
      "2021-04-09   31.917812    28.0   3.92  15.3664  3.92\n",
      "2021-04-10   30.787045    26.0   4.79  22.9441  4.79\n",
      "2021-04-11   29.915252    28.0   1.92   3.6864  1.92\n",
      "\n",
      "[70 rows x 5 columns]\n"
     ]
    },
    {
     "name": "stderr",
     "output_type": "stream",
     "text": [
      "C:\\Users\\Paul\\anaconda3\\lib\\site-packages\\statsmodels\\tsa\\base\\tsa_model.py:581: ValueWarning: A date index has been provided, but it has no associated frequency information and so will be ignored when e.g. forecasting.\n",
      "  warnings.warn('A date index has been provided, but it has no'\n",
      "C:\\Users\\Paul\\anaconda3\\lib\\site-packages\\statsmodels\\tsa\\base\\tsa_model.py:581: ValueWarning: A date index has been provided, but it has no associated frequency information and so will be ignored when e.g. forecasting.\n",
      "  warnings.warn('A date index has been provided, but it has no'\n"
     ]
    },
    {
     "name": "stdout",
     "output_type": "stream",
     "text": [
      "            prediction  actual  error       mse   rmse\n",
      "Date                                                  \n",
      "2021-02-01   19.711894    26.0  -6.29   39.5641   6.29\n",
      "2021-02-02   24.842657    22.0   2.84    8.0656   2.84\n",
      "2021-02-03   23.074758    19.0   4.07   16.5649   4.07\n",
      "2021-02-04   19.229518     7.0  12.23  149.5729  12.23\n",
      "2021-02-05    9.743872    12.0  -2.26    5.1076   2.26\n",
      "...                ...     ...    ...       ...    ...\n",
      "2021-04-07    8.382413     9.0  -0.62    0.3844   0.62\n",
      "2021-04-08    7.807727     9.0  -1.19    1.4161   1.19\n",
      "2021-04-09   10.176291    10.0   0.18    0.0324   0.18\n",
      "2021-04-10    9.936158     7.0   2.94    8.6436   2.94\n",
      "2021-04-11    8.487127     8.0   0.49    0.2401   0.49\n",
      "\n",
      "[70 rows x 5 columns]\n"
     ]
    },
    {
     "name": "stderr",
     "output_type": "stream",
     "text": [
      "C:\\Users\\Paul\\anaconda3\\lib\\site-packages\\statsmodels\\tsa\\base\\tsa_model.py:581: ValueWarning: A date index has been provided, but it has no associated frequency information and so will be ignored when e.g. forecasting.\n",
      "  warnings.warn('A date index has been provided, but it has no'\n",
      "C:\\Users\\Paul\\anaconda3\\lib\\site-packages\\statsmodels\\tsa\\base\\tsa_model.py:581: ValueWarning: A date index has been provided, but it has no associated frequency information and so will be ignored when e.g. forecasting.\n",
      "  warnings.warn('A date index has been provided, but it has no'\n"
     ]
    },
    {
     "name": "stdout",
     "output_type": "stream",
     "text": [
      "            prediction  actual  error       mse   rmse\n",
      "Date                                                  \n",
      "2021-02-01   21.650997    30.0  -8.35   69.7225   8.35\n",
      "2021-02-02   24.767686    41.0 -16.23  263.4129  16.23\n",
      "2021-02-03   26.790304    40.0 -13.21  174.5041  13.21\n",
      "2021-02-04   35.170511    21.0  14.17  200.7889  14.17\n",
      "2021-02-05   32.668917    21.0  11.67  136.1889  11.67\n",
      "...                ...     ...    ...       ...    ...\n",
      "2021-04-07   13.513102    15.0  -1.49    2.2201   1.49\n",
      "2021-04-08   20.858433    15.0   5.86   34.3396   5.86\n",
      "2021-04-09   16.297157    11.0   5.30   28.0900   5.30\n",
      "2021-04-10   18.969544    16.0   2.97    8.8209   2.97\n",
      "2021-04-11   18.646250    16.0   2.65    7.0225   2.65\n",
      "\n",
      "[70 rows x 5 columns]\n"
     ]
    },
    {
     "name": "stderr",
     "output_type": "stream",
     "text": [
      "C:\\Users\\Paul\\anaconda3\\lib\\site-packages\\statsmodels\\tsa\\base\\tsa_model.py:581: ValueWarning: A date index has been provided, but it has no associated frequency information and so will be ignored when e.g. forecasting.\n",
      "  warnings.warn('A date index has been provided, but it has no'\n",
      "C:\\Users\\Paul\\anaconda3\\lib\\site-packages\\statsmodels\\tsa\\base\\tsa_model.py:581: ValueWarning: A date index has been provided, but it has no associated frequency information and so will be ignored when e.g. forecasting.\n",
      "  warnings.warn('A date index has been provided, but it has no'\n"
     ]
    },
    {
     "name": "stdout",
     "output_type": "stream",
     "text": [
      "            prediction  actual  error       mse   rmse\n",
      "Date                                                  \n",
      "2021-02-01    7.176651    12.0  -4.82   23.2324   4.82\n",
      "2021-02-02    9.735083     6.0   3.74   13.9876   3.74\n",
      "2021-02-03    8.898820    16.0  -7.10   50.4100   7.10\n",
      "2021-02-04   12.169577     7.0   5.17   26.7289   5.17\n",
      "2021-02-05   10.015732    10.0   0.02    0.0004   0.02\n",
      "...                ...     ...    ...       ...    ...\n",
      "2021-04-07    9.943848    21.0 -11.06  122.3236  11.06\n",
      "2021-04-08   14.814303    13.0   1.81    3.2761   1.81\n",
      "2021-04-09   13.934049    22.0  -8.07   65.1249   8.07\n",
      "2021-04-10   17.582080     8.0   9.58   91.7764   9.58\n",
      "2021-04-11   13.163319     9.0   4.16   17.3056   4.16\n",
      "\n",
      "[70 rows x 5 columns]\n"
     ]
    },
    {
     "name": "stderr",
     "output_type": "stream",
     "text": [
      "C:\\Users\\Paul\\anaconda3\\lib\\site-packages\\statsmodels\\tsa\\base\\tsa_model.py:581: ValueWarning: A date index has been provided, but it has no associated frequency information and so will be ignored when e.g. forecasting.\n",
      "  warnings.warn('A date index has been provided, but it has no'\n",
      "C:\\Users\\Paul\\anaconda3\\lib\\site-packages\\statsmodels\\tsa\\base\\tsa_model.py:581: ValueWarning: A date index has been provided, but it has no associated frequency information and so will be ignored when e.g. forecasting.\n",
      "  warnings.warn('A date index has been provided, but it has no'\n"
     ]
    },
    {
     "name": "stdout",
     "output_type": "stream",
     "text": [
      "            prediction  actual  error       mse   rmse\n",
      "Date                                                  \n",
      "2021-02-01   13.518103     3.0  10.52  110.6704  10.52\n",
      "2021-02-02   12.998800    12.0   1.00    1.0000   1.00\n",
      "2021-02-03   10.236547     5.0   5.24   27.4576   5.24\n",
      "2021-02-04   11.517703    10.0   1.52    2.3104   1.52\n",
      "2021-02-05   10.409631    11.0  -0.59    0.3481   0.59\n",
      "...                ...     ...    ...       ...    ...\n",
      "2021-04-07    8.415960     6.0   2.42    5.8564   2.42\n",
      "2021-04-08   12.024312    10.0   2.02    4.0804   2.02\n",
      "2021-04-09    9.343416    11.0  -1.66    2.7556   1.66\n",
      "2021-04-10    8.554430     6.0   2.55    6.5025   2.55\n",
      "2021-04-11    7.697196    10.0  -2.30    5.2900   2.30\n",
      "\n",
      "[70 rows x 5 columns]\n"
     ]
    },
    {
     "name": "stderr",
     "output_type": "stream",
     "text": [
      "C:\\Users\\Paul\\anaconda3\\lib\\site-packages\\statsmodels\\tsa\\base\\tsa_model.py:581: ValueWarning: A date index has been provided, but it has no associated frequency information and so will be ignored when e.g. forecasting.\n",
      "  warnings.warn('A date index has been provided, but it has no'\n",
      "C:\\Users\\Paul\\anaconda3\\lib\\site-packages\\statsmodels\\tsa\\base\\tsa_model.py:581: ValueWarning: A date index has been provided, but it has no associated frequency information and so will be ignored when e.g. forecasting.\n",
      "  warnings.warn('A date index has been provided, but it has no'\n"
     ]
    },
    {
     "name": "stdout",
     "output_type": "stream",
     "text": [
      "            prediction  actual  error       mse   rmse\n",
      "Date                                                  \n",
      "2021-02-01    9.532427    33.0 -23.47  550.8409  23.47\n",
      "2021-02-02   18.556978    17.0   1.56    2.4336   1.56\n",
      "2021-02-03   18.652576    10.0   8.65   74.8225   8.65\n",
      "2021-02-04   14.590566     6.0   8.59   73.7881   8.59\n",
      "2021-02-05   10.986232    10.0   0.99    0.9801   0.99\n",
      "...                ...     ...    ...       ...    ...\n",
      "2021-04-07    7.110824     9.0  -1.89    3.5721   1.89\n",
      "2021-04-08    7.623973     0.0   7.62   58.0644   7.62\n",
      "2021-04-09    5.227103     4.0   1.23    1.5129   1.23\n",
      "2021-04-10    4.226739     6.0  -1.77    3.1329   1.77\n",
      "2021-04-11    5.953554     2.0   3.95   15.6025   3.95\n",
      "\n",
      "[70 rows x 5 columns]\n"
     ]
    },
    {
     "name": "stderr",
     "output_type": "stream",
     "text": [
      "C:\\Users\\Paul\\anaconda3\\lib\\site-packages\\statsmodels\\tsa\\base\\tsa_model.py:581: ValueWarning: A date index has been provided, but it has no associated frequency information and so will be ignored when e.g. forecasting.\n",
      "  warnings.warn('A date index has been provided, but it has no'\n",
      "C:\\Users\\Paul\\anaconda3\\lib\\site-packages\\statsmodels\\tsa\\base\\tsa_model.py:581: ValueWarning: A date index has been provided, but it has no associated frequency information and so will be ignored when e.g. forecasting.\n",
      "  warnings.warn('A date index has been provided, but it has no'\n"
     ]
    },
    {
     "name": "stdout",
     "output_type": "stream",
     "text": [
      "            prediction  actual  error       mse   rmse\n",
      "Date                                                  \n",
      "2021-02-01   23.298766    47.0 -23.70  561.6900  23.70\n",
      "2021-02-02   37.435415    31.0   6.44   41.4736   6.44\n",
      "2021-02-03   31.443822    15.0  16.44  270.2736  16.44\n",
      "2021-02-04   24.349029    16.0   8.35   69.7225   8.35\n",
      "2021-02-05   18.614531    14.0   4.61   21.2521   4.61\n",
      "...                ...     ...    ...       ...    ...\n",
      "2021-04-07    3.566175     8.0  -4.43   19.6249   4.43\n",
      "2021-04-08    8.265670     4.0   4.27   18.2329   4.27\n",
      "2021-04-09    6.248279     7.0  -0.75    0.5625   0.75\n",
      "2021-04-10    4.620706     5.0  -0.38    0.1444   0.38\n",
      "2021-04-11    4.877335     5.0  -0.12    0.0144   0.12\n",
      "\n",
      "[70 rows x 5 columns]\n"
     ]
    },
    {
     "name": "stderr",
     "output_type": "stream",
     "text": [
      "C:\\Users\\Paul\\anaconda3\\lib\\site-packages\\statsmodels\\tsa\\base\\tsa_model.py:581: ValueWarning: A date index has been provided, but it has no associated frequency information and so will be ignored when e.g. forecasting.\n",
      "  warnings.warn('A date index has been provided, but it has no'\n",
      "C:\\Users\\Paul\\anaconda3\\lib\\site-packages\\statsmodels\\tsa\\base\\tsa_model.py:581: ValueWarning: A date index has been provided, but it has no associated frequency information and so will be ignored when e.g. forecasting.\n",
      "  warnings.warn('A date index has been provided, but it has no'\n"
     ]
    },
    {
     "name": "stdout",
     "output_type": "stream",
     "text": [
      "            prediction  actual  error       mse   rmse\n",
      "Date                                                  \n",
      "2021-02-01   40.222992    43.0  -2.78    7.7284   2.78\n",
      "2021-02-02   43.429712    43.0   0.43    0.1849   0.43\n",
      "2021-02-03   37.536001    31.0   6.54   42.7716   6.54\n",
      "2021-02-04   37.274827    39.0  -1.73    2.9929   1.73\n",
      "2021-02-05   39.814150    36.0   3.81   14.5161   3.81\n",
      "...                ...     ...    ...       ...    ...\n",
      "2021-04-07   28.519038    47.0 -18.48  341.5104  18.48\n",
      "2021-04-08   42.875580    36.0   6.88   47.3344   6.88\n",
      "2021-04-09   39.022695    56.0 -16.98  288.3204  16.98\n",
      "2021-04-10   47.549993    34.0  13.55  183.6025  13.55\n",
      "2021-04-11   46.052778    52.0  -5.95   35.4025   5.95\n",
      "\n",
      "[70 rows x 5 columns]\n"
     ]
    },
    {
     "name": "stderr",
     "output_type": "stream",
     "text": [
      "C:\\Users\\Paul\\anaconda3\\lib\\site-packages\\statsmodels\\tsa\\base\\tsa_model.py:581: ValueWarning: A date index has been provided, but it has no associated frequency information and so will be ignored when e.g. forecasting.\n",
      "  warnings.warn('A date index has been provided, but it has no'\n",
      "C:\\Users\\Paul\\anaconda3\\lib\\site-packages\\statsmodels\\tsa\\base\\tsa_model.py:581: ValueWarning: A date index has been provided, but it has no associated frequency information and so will be ignored when e.g. forecasting.\n",
      "  warnings.warn('A date index has been provided, but it has no'\n"
     ]
    },
    {
     "name": "stdout",
     "output_type": "stream",
     "text": [
      "            prediction  actual  error  mse  rmse\n",
      "Date                                            \n",
      "2021-02-01         0.0     0.0    0.0  0.0   0.0\n",
      "2021-02-02         0.0     0.0    0.0  0.0   0.0\n",
      "2021-02-03         0.0     0.0    0.0  0.0   0.0\n",
      "2021-02-04         0.0     0.0    0.0  0.0   0.0\n",
      "2021-02-05         0.0     0.0    0.0  0.0   0.0\n",
      "...                ...     ...    ...  ...   ...\n",
      "2021-04-07         0.0     0.0    0.0  0.0   0.0\n",
      "2021-04-08         0.0     0.0    0.0  0.0   0.0\n",
      "2021-04-09         0.0     0.0    0.0  0.0   0.0\n",
      "2021-04-10         0.0     0.0    0.0  0.0   0.0\n",
      "2021-04-11         0.0     0.0    0.0  0.0   0.0\n",
      "\n",
      "[70 rows x 5 columns]\n"
     ]
    },
    {
     "name": "stderr",
     "output_type": "stream",
     "text": [
      "C:\\Users\\Paul\\anaconda3\\lib\\site-packages\\statsmodels\\tsa\\base\\tsa_model.py:581: ValueWarning: A date index has been provided, but it has no associated frequency information and so will be ignored when e.g. forecasting.\n",
      "  warnings.warn('A date index has been provided, but it has no'\n",
      "C:\\Users\\Paul\\anaconda3\\lib\\site-packages\\statsmodels\\tsa\\base\\tsa_model.py:581: ValueWarning: A date index has been provided, but it has no associated frequency information and so will be ignored when e.g. forecasting.\n",
      "  warnings.warn('A date index has been provided, but it has no'\n"
     ]
    },
    {
     "name": "stdout",
     "output_type": "stream",
     "text": [
      "            prediction  actual  error     mse  rmse\n",
      "Date                                               \n",
      "2021-02-01    1.922236     1.0   0.92  0.8464  0.92\n",
      "2021-02-02    1.621804     1.0   0.62  0.3844  0.62\n",
      "2021-02-03    1.305239     1.0   0.31  0.0961  0.31\n",
      "2021-02-04    1.326872     1.0   0.33  0.1089  0.33\n",
      "2021-02-05    1.418979     1.0   0.42  0.1764  0.42\n",
      "...                ...     ...    ...     ...   ...\n",
      "2021-04-07    0.640220     1.0  -0.36  0.1296  0.36\n",
      "2021-04-08    0.674797     1.0  -0.33  0.1089  0.33\n",
      "2021-04-09    0.858881     0.0   0.86  0.7396  0.86\n",
      "2021-04-10    0.608159     1.0  -0.39  0.1521  0.39\n",
      "2021-04-11    0.307054     0.0   0.31  0.0961  0.31\n",
      "\n",
      "[70 rows x 5 columns]\n"
     ]
    },
    {
     "name": "stderr",
     "output_type": "stream",
     "text": [
      "C:\\Users\\Paul\\anaconda3\\lib\\site-packages\\statsmodels\\tsa\\base\\tsa_model.py:581: ValueWarning: A date index has been provided, but it has no associated frequency information and so will be ignored when e.g. forecasting.\n",
      "  warnings.warn('A date index has been provided, but it has no'\n",
      "C:\\Users\\Paul\\anaconda3\\lib\\site-packages\\statsmodels\\tsa\\base\\tsa_model.py:581: ValueWarning: A date index has been provided, but it has no associated frequency information and so will be ignored when e.g. forecasting.\n",
      "  warnings.warn('A date index has been provided, but it has no'\n"
     ]
    },
    {
     "name": "stdout",
     "output_type": "stream",
     "text": [
      "            prediction  actual  error      mse  rmse\n",
      "Date                                                \n",
      "2021-02-01    5.184551     0.0   5.18  26.8324  5.18\n",
      "2021-02-02    3.242612     2.0   1.24   1.5376  1.24\n",
      "2021-02-03    3.595579    10.0  -6.40  40.9600  6.40\n",
      "2021-02-04    4.792034     0.0   4.79  22.9441  4.79\n",
      "2021-02-05    2.890937     9.0  -6.11  37.3321  6.11\n",
      "...                ...     ...    ...      ...   ...\n",
      "2021-04-07    3.154185     0.0   3.15   9.9225  3.15\n",
      "2021-04-08    2.452098     0.0   2.45   6.0025  2.45\n",
      "2021-04-09    2.623538     0.0   2.62   6.8644  2.62\n",
      "2021-04-10    0.827394     0.0   0.83   0.6889  0.83\n",
      "2021-04-11    2.831600     0.0   2.83   8.0089  2.83\n",
      "\n",
      "[70 rows x 5 columns]\n"
     ]
    },
    {
     "name": "stderr",
     "output_type": "stream",
     "text": [
      "C:\\Users\\Paul\\anaconda3\\lib\\site-packages\\statsmodels\\tsa\\base\\tsa_model.py:581: ValueWarning: A date index has been provided, but it has no associated frequency information and so will be ignored when e.g. forecasting.\n",
      "  warnings.warn('A date index has been provided, but it has no'\n",
      "C:\\Users\\Paul\\anaconda3\\lib\\site-packages\\statsmodels\\tsa\\base\\tsa_model.py:581: ValueWarning: A date index has been provided, but it has no associated frequency information and so will be ignored when e.g. forecasting.\n",
      "  warnings.warn('A date index has been provided, but it has no'\n"
     ]
    },
    {
     "name": "stdout",
     "output_type": "stream",
     "text": [
      "            prediction  actual  error       mse   rmse\n",
      "Date                                                  \n",
      "2021-02-01   28.740293    18.0  10.74  115.3476  10.74\n",
      "2021-02-02   21.183970    31.0  -9.82   96.4324   9.82\n",
      "2021-02-03   24.301651    25.0  -0.70    0.4900   0.70\n",
      "2021-02-04   23.927818    27.0  -3.07    9.4249   3.07\n",
      "2021-02-05   26.141093    22.0   4.14   17.1396   4.14\n",
      "...                ...     ...    ...       ...    ...\n",
      "2021-04-07   18.961915    30.0 -11.04  121.8816  11.04\n",
      "2021-04-08   22.931914    28.0  -5.07   25.7049   5.07\n",
      "2021-04-09   25.887115    27.0  -1.11    1.2321   1.11\n",
      "2021-04-10   26.046551    32.0  -5.95   35.4025   5.95\n",
      "2021-04-11   30.242014    33.0  -2.76    7.6176   2.76\n",
      "\n",
      "[70 rows x 5 columns]\n"
     ]
    },
    {
     "name": "stderr",
     "output_type": "stream",
     "text": [
      "C:\\Users\\Paul\\anaconda3\\lib\\site-packages\\statsmodels\\tsa\\base\\tsa_model.py:581: ValueWarning: A date index has been provided, but it has no associated frequency information and so will be ignored when e.g. forecasting.\n",
      "  warnings.warn('A date index has been provided, but it has no'\n",
      "C:\\Users\\Paul\\anaconda3\\lib\\site-packages\\statsmodels\\tsa\\base\\tsa_model.py:581: ValueWarning: A date index has been provided, but it has no associated frequency information and so will be ignored when e.g. forecasting.\n",
      "  warnings.warn('A date index has been provided, but it has no'\n"
     ]
    },
    {
     "name": "stdout",
     "output_type": "stream",
     "text": [
      "            prediction  actual  error     mse  rmse\n",
      "Date                                               \n",
      "2021-02-01    5.885121     5.0   0.89  0.7921  0.89\n",
      "2021-02-02    6.261709     6.0   0.26  0.0676  0.26\n",
      "2021-02-03    6.655177     6.0   0.66  0.4356  0.66\n",
      "2021-02-04    6.319857     4.0   2.32  5.3824  2.32\n",
      "2021-02-05    5.084044     3.0   2.08  4.3264  2.08\n",
      "...                ...     ...    ...     ...   ...\n",
      "2021-04-07    5.321215     5.0   0.32  0.1024  0.32\n",
      "2021-04-08    5.449685     5.0   0.45  0.2025  0.45\n",
      "2021-04-09    4.622490     6.0  -1.38  1.9044  1.38\n",
      "2021-04-10    4.667051     5.0  -0.33  0.1089  0.33\n",
      "2021-04-11    1.424777     0.0   1.42  2.0164  1.42\n",
      "\n",
      "[70 rows x 5 columns]\n"
     ]
    },
    {
     "name": "stderr",
     "output_type": "stream",
     "text": [
      "C:\\Users\\Paul\\anaconda3\\lib\\site-packages\\statsmodels\\tsa\\base\\tsa_model.py:581: ValueWarning: A date index has been provided, but it has no associated frequency information and so will be ignored when e.g. forecasting.\n",
      "  warnings.warn('A date index has been provided, but it has no'\n",
      "C:\\Users\\Paul\\anaconda3\\lib\\site-packages\\statsmodels\\tsa\\base\\tsa_model.py:581: ValueWarning: A date index has been provided, but it has no associated frequency information and so will be ignored when e.g. forecasting.\n",
      "  warnings.warn('A date index has been provided, but it has no'\n"
     ]
    },
    {
     "name": "stdout",
     "output_type": "stream",
     "text": [
      "            prediction  actual  error      mse  rmse\n",
      "Date                                                \n",
      "2021-02-01   21.208057    22.0  -0.79   0.6241  0.79\n",
      "2021-02-02   21.101748    19.0   2.10   4.4100  2.10\n",
      "2021-02-03   19.620680    21.0  -1.38   1.9044  1.38\n",
      "2021-02-04   19.177761    17.0   2.18   4.7524  2.18\n",
      "2021-02-05   18.968737    13.0   5.97  35.6409  5.97\n",
      "...                ...     ...    ...      ...   ...\n",
      "2021-04-07    5.688134     6.0  -0.31   0.0961  0.31\n",
      "2021-04-08    5.346543     7.0  -1.65   2.7225  1.65\n",
      "2021-04-09    4.945034     5.0  -0.05   0.0025  0.05\n",
      "2021-04-10    5.733634     8.0  -2.27   5.1529  2.27\n",
      "2021-04-11    6.792673     7.0  -0.21   0.0441  0.21\n",
      "\n",
      "[70 rows x 5 columns]\n"
     ]
    },
    {
     "name": "stderr",
     "output_type": "stream",
     "text": [
      "C:\\Users\\Paul\\anaconda3\\lib\\site-packages\\statsmodels\\tsa\\base\\tsa_model.py:581: ValueWarning: A date index has been provided, but it has no associated frequency information and so will be ignored when e.g. forecasting.\n",
      "  warnings.warn('A date index has been provided, but it has no'\n",
      "C:\\Users\\Paul\\anaconda3\\lib\\site-packages\\statsmodels\\tsa\\base\\tsa_model.py:581: ValueWarning: A date index has been provided, but it has no associated frequency information and so will be ignored when e.g. forecasting.\n",
      "  warnings.warn('A date index has been provided, but it has no'\n"
     ]
    },
    {
     "name": "stdout",
     "output_type": "stream",
     "text": [
      "            prediction  actual  error       mse   rmse\n",
      "Date                                                  \n",
      "2021-02-01   27.910213    35.0  -7.09   50.2681   7.09\n",
      "2021-02-02   32.790497    29.0   3.79   14.3641   3.79\n",
      "2021-02-03   29.068379    19.0  10.07  101.4049  10.07\n",
      "2021-02-04   22.438978    19.0   3.44   11.8336   3.44\n",
      "2021-02-05   20.578079    17.0   3.58   12.8164   3.58\n",
      "...                ...     ...    ...       ...    ...\n",
      "2021-04-07    4.677901    10.0  -5.32   28.3024   5.32\n",
      "2021-04-08    9.738162    11.0  -1.26    1.5876   1.26\n",
      "2021-04-09    9.258235    12.0  -2.74    7.5076   2.74\n",
      "2021-04-10   11.752179     6.0   5.75   33.0625   5.75\n",
      "2021-04-11    9.814146    11.0  -1.19    1.4161   1.19\n",
      "\n",
      "[70 rows x 5 columns]\n"
     ]
    },
    {
     "name": "stderr",
     "output_type": "stream",
     "text": [
      "C:\\Users\\Paul\\anaconda3\\lib\\site-packages\\statsmodels\\tsa\\base\\tsa_model.py:581: ValueWarning: A date index has been provided, but it has no associated frequency information and so will be ignored when e.g. forecasting.\n",
      "  warnings.warn('A date index has been provided, but it has no'\n",
      "C:\\Users\\Paul\\anaconda3\\lib\\site-packages\\statsmodels\\tsa\\base\\tsa_model.py:581: ValueWarning: A date index has been provided, but it has no associated frequency information and so will be ignored when e.g. forecasting.\n",
      "  warnings.warn('A date index has been provided, but it has no'\n"
     ]
    },
    {
     "name": "stdout",
     "output_type": "stream",
     "text": [
      "            prediction  actual  error      mse  rmse\n",
      "Date                                                \n",
      "2021-02-01   19.640136    17.0   2.64   6.9696  2.64\n",
      "2021-02-02   17.978317    21.0  -3.02   9.1204  3.02\n",
      "2021-02-03   19.616828    14.0   5.62  31.5844  5.62\n",
      "2021-02-04   18.141674    18.0   0.14   0.0196  0.14\n",
      "2021-02-05   18.469047    16.0   2.47   6.1009  2.47\n",
      "...                ...     ...    ...      ...   ...\n",
      "2021-04-07   11.331089    17.0  -5.67  32.1489  5.67\n",
      "2021-04-08   14.644800    19.0  -4.36  19.0096  4.36\n",
      "2021-04-09   14.783841    22.0  -7.22  52.1284  7.22\n",
      "2021-04-10   17.425723    19.0  -1.57   2.4649  1.57\n",
      "2021-04-11   17.867228    26.0  -8.13  66.0969  8.13\n",
      "\n",
      "[70 rows x 5 columns]\n"
     ]
    },
    {
     "name": "stderr",
     "output_type": "stream",
     "text": [
      "C:\\Users\\Paul\\anaconda3\\lib\\site-packages\\statsmodels\\tsa\\base\\tsa_model.py:581: ValueWarning: A date index has been provided, but it has no associated frequency information and so will be ignored when e.g. forecasting.\n",
      "  warnings.warn('A date index has been provided, but it has no'\n",
      "C:\\Users\\Paul\\anaconda3\\lib\\site-packages\\statsmodels\\tsa\\base\\tsa_model.py:581: ValueWarning: A date index has been provided, but it has no associated frequency information and so will be ignored when e.g. forecasting.\n",
      "  warnings.warn('A date index has been provided, but it has no'\n"
     ]
    },
    {
     "name": "stdout",
     "output_type": "stream",
     "text": [
      "            prediction  actual  error       mse   rmse\n",
      "Date                                                  \n",
      "2021-02-01    3.718409     7.0  -3.28   10.7584   3.28\n",
      "2021-02-02    6.230341     5.0   1.23    1.5129   1.23\n",
      "2021-02-03    5.474432     4.0   1.47    2.1609   1.47\n",
      "2021-02-04    4.487086     4.0   0.49    0.2401   0.49\n",
      "2021-02-05    4.565761     5.0  -0.43    0.1849   0.43\n",
      "...                ...     ...    ...       ...    ...\n",
      "2021-04-07    5.249332    17.0 -11.75  138.0625  11.75\n",
      "2021-04-08    9.830527    20.0 -10.17  103.4289  10.17\n",
      "2021-04-09   14.601177    19.0  -4.40   19.3600   4.40\n",
      "2021-04-10   15.257669    10.0   5.26   27.6676   5.26\n",
      "2021-04-11   12.249752     7.0   5.25   27.5625   5.25\n",
      "\n",
      "[70 rows x 5 columns]\n"
     ]
    },
    {
     "name": "stderr",
     "output_type": "stream",
     "text": [
      "C:\\Users\\Paul\\anaconda3\\lib\\site-packages\\statsmodels\\tsa\\base\\tsa_model.py:581: ValueWarning: A date index has been provided, but it has no associated frequency information and so will be ignored when e.g. forecasting.\n",
      "  warnings.warn('A date index has been provided, but it has no'\n",
      "C:\\Users\\Paul\\anaconda3\\lib\\site-packages\\statsmodels\\tsa\\base\\tsa_model.py:581: ValueWarning: A date index has been provided, but it has no associated frequency information and so will be ignored when e.g. forecasting.\n",
      "  warnings.warn('A date index has been provided, but it has no'\n"
     ]
    },
    {
     "name": "stdout",
     "output_type": "stream",
     "text": [
      "            prediction  actual  error       mse   rmse\n",
      "Date                                                  \n",
      "2021-02-01   16.093153    33.0 -16.91  285.9481  16.91\n",
      "2021-02-02   25.348432    18.0   7.35   54.0225   7.35\n",
      "2021-02-03   21.362842    16.0   5.36   28.7296   5.36\n",
      "2021-02-04   18.801716    10.0   8.80   77.4400   8.80\n",
      "2021-02-05   15.905920    13.0   2.91    8.4681   2.91\n",
      "...                ...     ...    ...       ...    ...\n",
      "2021-04-07    9.134221     8.0   1.13    1.2769   1.13\n",
      "2021-04-08    6.655446     7.0  -0.34    0.1156   0.34\n",
      "2021-04-09    7.419086    10.0  -2.58    6.6564   2.58\n",
      "2021-04-10    7.645883     9.0  -1.35    1.8225   1.35\n",
      "2021-04-11   10.270014    17.0  -6.73   45.2929   6.73\n",
      "\n",
      "[70 rows x 5 columns]\n"
     ]
    },
    {
     "name": "stderr",
     "output_type": "stream",
     "text": [
      "C:\\Users\\Paul\\anaconda3\\lib\\site-packages\\statsmodels\\tsa\\base\\tsa_model.py:581: ValueWarning: A date index has been provided, but it has no associated frequency information and so will be ignored when e.g. forecasting.\n",
      "  warnings.warn('A date index has been provided, but it has no'\n",
      "C:\\Users\\Paul\\anaconda3\\lib\\site-packages\\statsmodels\\tsa\\base\\tsa_model.py:581: ValueWarning: A date index has been provided, but it has no associated frequency information and so will be ignored when e.g. forecasting.\n",
      "  warnings.warn('A date index has been provided, but it has no'\n"
     ]
    },
    {
     "name": "stdout",
     "output_type": "stream",
     "text": [
      "            prediction  actual  error       mse   rmse\n",
      "Date                                                  \n",
      "2021-02-01   28.303258    29.0  -0.70    0.4900   0.70\n",
      "2021-02-02   29.015478    31.0  -1.98    3.9204   1.98\n",
      "2021-02-03   29.517375    29.0   0.52    0.2704   0.52\n",
      "2021-02-04   30.597335    26.0   4.60   21.1600   4.60\n",
      "2021-02-05   28.201351    19.0   9.20   84.6400   9.20\n",
      "...                ...     ...    ...       ...    ...\n",
      "2021-04-07   17.280140    23.0  -5.72   32.7184   5.72\n",
      "2021-04-08   18.922172     7.0  11.92  142.0864  11.92\n",
      "2021-04-09   15.072731    23.0  -7.93   62.8849   7.93\n",
      "2021-04-10   17.058163    29.0 -11.94  142.5636  11.94\n",
      "2021-04-11   25.521156    18.0   7.52   56.5504   7.52\n",
      "\n",
      "[70 rows x 5 columns]\n"
     ]
    },
    {
     "name": "stderr",
     "output_type": "stream",
     "text": [
      "C:\\Users\\Paul\\anaconda3\\lib\\site-packages\\statsmodels\\tsa\\base\\tsa_model.py:581: ValueWarning: A date index has been provided, but it has no associated frequency information and so will be ignored when e.g. forecasting.\n",
      "  warnings.warn('A date index has been provided, but it has no'\n",
      "C:\\Users\\Paul\\anaconda3\\lib\\site-packages\\statsmodels\\tsa\\base\\tsa_model.py:581: ValueWarning: A date index has been provided, but it has no associated frequency information and so will be ignored when e.g. forecasting.\n",
      "  warnings.warn('A date index has been provided, but it has no'\n"
     ]
    },
    {
     "name": "stdout",
     "output_type": "stream",
     "text": [
      "            prediction  actual  error       mse   rmse\n",
      "Date                                                  \n",
      "2021-02-01   19.397106    12.0   7.40   54.7600   7.40\n",
      "2021-02-02   16.146941    24.0  -7.85   61.6225   7.85\n",
      "2021-02-03   18.721798    16.0   2.72    7.3984   2.72\n",
      "2021-02-04   15.508664    25.0  -9.49   90.0601   9.49\n",
      "2021-02-05   23.139496    19.0   4.14   17.1396   4.14\n",
      "...                ...     ...    ...       ...    ...\n",
      "2021-04-07   10.537404    23.0 -12.46  155.2516  12.46\n",
      "2021-04-08   15.303686    23.0  -7.70   59.2900   7.70\n",
      "2021-04-09   21.302738    20.0   1.30    1.6900   1.30\n",
      "2021-04-10   19.152605    23.0  -3.85   14.8225   3.85\n",
      "2021-04-11   24.072981    17.0   7.07   49.9849   7.07\n",
      "\n",
      "[70 rows x 5 columns]\n"
     ]
    },
    {
     "name": "stderr",
     "output_type": "stream",
     "text": [
      "C:\\Users\\Paul\\anaconda3\\lib\\site-packages\\statsmodels\\tsa\\base\\tsa_model.py:581: ValueWarning: A date index has been provided, but it has no associated frequency information and so will be ignored when e.g. forecasting.\n",
      "  warnings.warn('A date index has been provided, but it has no'\n",
      "C:\\Users\\Paul\\anaconda3\\lib\\site-packages\\statsmodels\\tsa\\base\\tsa_model.py:581: ValueWarning: A date index has been provided, but it has no associated frequency information and so will be ignored when e.g. forecasting.\n",
      "  warnings.warn('A date index has been provided, but it has no'\n"
     ]
    },
    {
     "name": "stdout",
     "output_type": "stream",
     "text": [
      "            prediction  actual  error        mse   rmse\n",
      "Date                                                   \n",
      "2021-02-01   22.793996    19.0   3.79    14.3641   3.79\n",
      "2021-02-02   19.605204    30.0 -10.39   107.9521  10.39\n",
      "2021-02-03   22.193228    21.0   1.19     1.4161   1.19\n",
      "2021-02-04   22.536248    34.0 -11.46   131.3316  11.46\n",
      "2021-02-05   27.233821    31.0  -3.77    14.2129   3.77\n",
      "...                ...     ...    ...        ...    ...\n",
      "2021-04-07    0.154330    46.0 -45.85  2102.2225  45.85\n",
      "2021-04-08   16.803492    35.0 -18.20   331.2400  18.20\n",
      "2021-04-09   25.235805    66.0 -40.76  1661.3776  40.76\n",
      "2021-04-10   37.818433    46.0  -8.18    66.9124   8.18\n",
      "2021-04-11   41.071635    13.0  28.07   787.9249  28.07\n",
      "\n",
      "[70 rows x 5 columns]\n"
     ]
    },
    {
     "name": "stderr",
     "output_type": "stream",
     "text": [
      "C:\\Users\\Paul\\anaconda3\\lib\\site-packages\\statsmodels\\tsa\\base\\tsa_model.py:581: ValueWarning: A date index has been provided, but it has no associated frequency information and so will be ignored when e.g. forecasting.\n",
      "  warnings.warn('A date index has been provided, but it has no'\n",
      "C:\\Users\\Paul\\anaconda3\\lib\\site-packages\\statsmodels\\tsa\\base\\tsa_model.py:581: ValueWarning: A date index has been provided, but it has no associated frequency information and so will be ignored when e.g. forecasting.\n",
      "  warnings.warn('A date index has been provided, but it has no'\n"
     ]
    },
    {
     "name": "stdout",
     "output_type": "stream",
     "text": [
      "            prediction  actual  error       mse   rmse\n",
      "Date                                                  \n",
      "2021-02-01   52.120565    63.0 -10.88  118.3744  10.88\n",
      "2021-02-02   58.583119    55.0   3.58   12.8164   3.58\n",
      "2021-02-03   56.272481    77.0 -20.73  429.7329  20.73\n",
      "2021-02-04   65.514966    35.0  30.51  930.8601  30.51\n",
      "2021-02-05   52.557146    52.0   0.56    0.3136   0.56\n",
      "...                ...     ...    ...       ...    ...\n",
      "2021-04-07   34.497797    36.0  -1.50    2.2500   1.50\n",
      "2021-04-08   34.800465    30.0   4.80   23.0400   4.80\n",
      "2021-04-09   33.485958    25.0   8.49   72.0801   8.49\n",
      "2021-04-10   30.867021    28.0   2.87    8.2369   2.87\n",
      "2021-04-11   32.053727    39.0  -6.95   48.3025   6.95\n",
      "\n",
      "[70 rows x 5 columns]\n"
     ]
    },
    {
     "name": "stderr",
     "output_type": "stream",
     "text": [
      "C:\\Users\\Paul\\anaconda3\\lib\\site-packages\\statsmodels\\tsa\\base\\tsa_model.py:581: ValueWarning: A date index has been provided, but it has no associated frequency information and so will be ignored when e.g. forecasting.\n",
      "  warnings.warn('A date index has been provided, but it has no'\n",
      "C:\\Users\\Paul\\anaconda3\\lib\\site-packages\\statsmodels\\tsa\\base\\tsa_model.py:581: ValueWarning: A date index has been provided, but it has no associated frequency information and so will be ignored when e.g. forecasting.\n",
      "  warnings.warn('A date index has been provided, but it has no'\n"
     ]
    },
    {
     "name": "stdout",
     "output_type": "stream",
     "text": [
      "            prediction  actual  error      mse  rmse\n",
      "Date                                                \n",
      "2021-02-01   19.437721    20.0  -0.56   0.3136  0.56\n",
      "2021-02-02   17.874627    23.0  -5.13  26.3169  5.13\n",
      "2021-02-03   20.293659    23.0  -2.71   7.3441  2.71\n",
      "2021-02-04   21.845664    14.0   7.85  61.6225  7.85\n",
      "2021-02-05   18.989485    14.0   4.99  24.9001  4.99\n",
      "...                ...     ...    ...      ...   ...\n",
      "2021-04-07   14.011508    15.0  -0.99   0.9801  0.99\n",
      "2021-04-08   14.153777    15.0  -0.85   0.7225  0.85\n",
      "2021-04-09   16.010823    15.0   1.01   1.0201  1.01\n",
      "2021-04-10   14.874402    16.0  -1.13   1.2769  1.13\n",
      "2021-04-11   16.495198    15.0   1.50   2.2500  1.50\n",
      "\n",
      "[70 rows x 5 columns]\n"
     ]
    },
    {
     "name": "stderr",
     "output_type": "stream",
     "text": [
      "C:\\Users\\Paul\\anaconda3\\lib\\site-packages\\statsmodels\\tsa\\base\\tsa_model.py:581: ValueWarning: A date index has been provided, but it has no associated frequency information and so will be ignored when e.g. forecasting.\n",
      "  warnings.warn('A date index has been provided, but it has no'\n",
      "C:\\Users\\Paul\\anaconda3\\lib\\site-packages\\statsmodels\\tsa\\base\\tsa_model.py:581: ValueWarning: A date index has been provided, but it has no associated frequency information and so will be ignored when e.g. forecasting.\n",
      "  warnings.warn('A date index has been provided, but it has no'\n"
     ]
    },
    {
     "name": "stdout",
     "output_type": "stream",
     "text": [
      "            prediction  actual  error       mse   rmse\n",
      "Date                                                  \n",
      "2021-02-01   17.480573    15.0   2.48    6.1504   2.48\n",
      "2021-02-02   15.306780     7.0   8.31   69.0561   8.31\n",
      "2021-02-03   11.519134     6.0   5.52   30.4704   5.52\n",
      "2021-02-04   12.160368    14.0  -1.84    3.3856   1.84\n",
      "2021-02-05   13.016363    11.0   2.02    4.0804   2.02\n",
      "...                ...     ...    ...       ...    ...\n",
      "2021-04-07    7.244122    19.0 -11.76  138.2976  11.76\n",
      "2021-04-08   11.739229     1.0  10.74  115.3476  10.74\n",
      "2021-04-09   10.072000    25.0 -14.93  222.9049  14.93\n",
      "2021-04-10   11.347730    13.0  -1.65    2.7225   1.65\n",
      "2021-04-11   12.066710    24.0 -11.93  142.3249  11.93\n",
      "\n",
      "[70 rows x 5 columns]\n"
     ]
    },
    {
     "name": "stderr",
     "output_type": "stream",
     "text": [
      "C:\\Users\\Paul\\anaconda3\\lib\\site-packages\\statsmodels\\tsa\\base\\tsa_model.py:581: ValueWarning: A date index has been provided, but it has no associated frequency information and so will be ignored when e.g. forecasting.\n",
      "  warnings.warn('A date index has been provided, but it has no'\n",
      "C:\\Users\\Paul\\anaconda3\\lib\\site-packages\\statsmodels\\tsa\\base\\tsa_model.py:581: ValueWarning: A date index has been provided, but it has no associated frequency information and so will be ignored when e.g. forecasting.\n",
      "  warnings.warn('A date index has been provided, but it has no'\n"
     ]
    },
    {
     "name": "stdout",
     "output_type": "stream",
     "text": [
      "            prediction  actual  error     mse  rmse\n",
      "Date                                               \n",
      "2021-02-01   20.670581    22.0  -1.33  1.7689  1.33\n",
      "2021-02-02   19.134802    16.0   3.13  9.7969  3.13\n",
      "2021-02-03   18.482209    16.0   2.48  6.1504  2.48\n",
      "2021-02-04   17.995030    17.0   1.00  1.0000  1.00\n",
      "2021-02-05   17.567902    18.0  -0.43  0.1849  0.43\n",
      "...                ...     ...    ...     ...   ...\n",
      "2021-04-07   18.038309    16.0   2.04  4.1616  2.04\n",
      "2021-04-08   17.553558    16.0   1.55  2.4025  1.55\n",
      "2021-04-09   17.699634    19.0  -1.30  1.6900  1.30\n",
      "2021-04-10   19.138933    21.0  -1.86  3.4596  1.86\n",
      "2021-04-11   19.628410    18.0   1.63  2.6569  1.63\n",
      "\n",
      "[70 rows x 5 columns]\n"
     ]
    },
    {
     "name": "stderr",
     "output_type": "stream",
     "text": [
      "C:\\Users\\Paul\\anaconda3\\lib\\site-packages\\statsmodels\\tsa\\base\\tsa_model.py:581: ValueWarning: A date index has been provided, but it has no associated frequency information and so will be ignored when e.g. forecasting.\n",
      "  warnings.warn('A date index has been provided, but it has no'\n",
      "C:\\Users\\Paul\\anaconda3\\lib\\site-packages\\statsmodels\\tsa\\base\\tsa_model.py:581: ValueWarning: A date index has been provided, but it has no associated frequency information and so will be ignored when e.g. forecasting.\n",
      "  warnings.warn('A date index has been provided, but it has no'\n"
     ]
    },
    {
     "name": "stdout",
     "output_type": "stream",
     "text": [
      "            prediction  actual  error      mse  rmse\n",
      "Date                                                \n",
      "2021-02-01   17.510226    25.0  -7.49  56.1001  7.49\n",
      "2021-02-02   17.626201    22.0  -4.37  19.0969  4.37\n",
      "2021-02-03   18.679471    23.0  -4.32  18.6624  4.32\n",
      "2021-02-04   19.211133    17.0   2.21   4.8841  2.21\n",
      "2021-02-05   19.287420    16.0   3.29  10.8241  3.29\n",
      "...                ...     ...    ...      ...   ...\n",
      "2021-04-07   13.745585    11.0   2.75   7.5625  2.75\n",
      "2021-04-08   13.338980    16.0  -2.66   7.0756  2.66\n",
      "2021-04-09   13.823998    12.0   1.82   3.3124  1.82\n",
      "2021-04-10   14.012900    13.0   1.01   1.0201  1.01\n",
      "2021-04-11   14.042896    12.0   2.04   4.1616  2.04\n",
      "\n",
      "[70 rows x 5 columns]\n"
     ]
    },
    {
     "name": "stderr",
     "output_type": "stream",
     "text": [
      "C:\\Users\\Paul\\anaconda3\\lib\\site-packages\\statsmodels\\tsa\\base\\tsa_model.py:581: ValueWarning: A date index has been provided, but it has no associated frequency information and so will be ignored when e.g. forecasting.\n",
      "  warnings.warn('A date index has been provided, but it has no'\n",
      "C:\\Users\\Paul\\anaconda3\\lib\\site-packages\\statsmodels\\tsa\\base\\tsa_model.py:581: ValueWarning: A date index has been provided, but it has no associated frequency information and so will be ignored when e.g. forecasting.\n",
      "  warnings.warn('A date index has been provided, but it has no'\n"
     ]
    },
    {
     "name": "stdout",
     "output_type": "stream",
     "text": [
      "            prediction  actual  error      mse  rmse\n",
      "Date                                                \n",
      "2021-02-01   11.928018    15.0  -3.07   9.4249  3.07\n",
      "2021-02-02   13.410164    15.0  -1.59   2.5281  1.59\n",
      "2021-02-03   14.662632    10.0   4.66  21.7156  4.66\n",
      "2021-02-04   13.542179    10.0   3.54  12.5316  3.54\n",
      "2021-02-05   10.301045    10.0   0.30   0.0900  0.30\n",
      "...                ...     ...    ...      ...   ...\n",
      "2021-04-07    5.886340     6.0  -0.11   0.0121  0.11\n",
      "2021-04-08    6.574135     2.0   4.57  20.8849  4.57\n",
      "2021-04-09    3.030752     7.0  -3.97  15.7609  3.97\n",
      "2021-04-10    5.514357     4.0   1.51   2.2801  1.51\n",
      "2021-04-11    5.756720     8.0  -2.24   5.0176  2.24\n",
      "\n",
      "[70 rows x 5 columns]\n"
     ]
    },
    {
     "name": "stderr",
     "output_type": "stream",
     "text": [
      "C:\\Users\\Paul\\anaconda3\\lib\\site-packages\\statsmodels\\tsa\\base\\tsa_model.py:581: ValueWarning: A date index has been provided, but it has no associated frequency information and so will be ignored when e.g. forecasting.\n",
      "  warnings.warn('A date index has been provided, but it has no'\n",
      "C:\\Users\\Paul\\anaconda3\\lib\\site-packages\\statsmodels\\tsa\\base\\tsa_model.py:581: ValueWarning: A date index has been provided, but it has no associated frequency information and so will be ignored when e.g. forecasting.\n",
      "  warnings.warn('A date index has been provided, but it has no'\n"
     ]
    },
    {
     "name": "stdout",
     "output_type": "stream",
     "text": [
      "            prediction  actual  error      mse  rmse\n",
      "Date                                                \n",
      "2021-02-01   11.241118     5.0   6.24  38.9376  6.24\n",
      "2021-02-02    6.055148     9.0  -2.94   8.6436  2.94\n",
      "2021-02-03    9.268951     8.0   1.27   1.6129  1.27\n",
      "2021-02-04    7.383307     3.0   4.38  19.1844  4.38\n",
      "2021-02-05    5.050184     0.0   5.05  25.5025  5.05\n",
      "...                ...     ...    ...      ...   ...\n",
      "2021-04-07   11.727875    10.0   1.73   2.9929  1.73\n",
      "2021-04-08    9.644196    10.0  -0.36   0.1296  0.36\n",
      "2021-04-09   10.056430    10.0   0.06   0.0036  0.06\n",
      "2021-04-10    9.572920    11.0  -1.43   2.0449  1.43\n",
      "2021-04-11   11.412898    15.0  -3.59  12.8881  3.59\n",
      "\n",
      "[70 rows x 5 columns]\n"
     ]
    },
    {
     "name": "stderr",
     "output_type": "stream",
     "text": [
      "C:\\Users\\Paul\\anaconda3\\lib\\site-packages\\statsmodels\\tsa\\base\\tsa_model.py:581: ValueWarning: A date index has been provided, but it has no associated frequency information and so will be ignored when e.g. forecasting.\n",
      "  warnings.warn('A date index has been provided, but it has no'\n",
      "C:\\Users\\Paul\\anaconda3\\lib\\site-packages\\statsmodels\\tsa\\base\\tsa_model.py:581: ValueWarning: A date index has been provided, but it has no associated frequency information and so will be ignored when e.g. forecasting.\n",
      "  warnings.warn('A date index has been provided, but it has no'\n"
     ]
    },
    {
     "name": "stdout",
     "output_type": "stream",
     "text": [
      "            prediction  actual  error      mse  rmse\n",
      "Date                                                \n",
      "2021-02-01   16.097584    14.0   2.10   4.4100  2.10\n",
      "2021-02-02   14.283717    10.0   4.28  18.3184  4.28\n",
      "2021-02-03   13.415376    10.0   3.42  11.6964  3.42\n",
      "2021-02-04   11.363131     9.0   2.36   5.5696  2.36\n",
      "2021-02-05   11.724998    12.0  -0.28   0.0784  0.28\n",
      "...                ...     ...    ...      ...   ...\n",
      "2021-04-07   10.404631     8.0   2.40   5.7600  2.40\n",
      "2021-04-08    8.949040    15.0  -6.05  36.6025  6.05\n",
      "2021-04-09   12.127353    16.0  -3.87  14.9769  3.87\n",
      "2021-04-10   12.240957    14.0  -1.76   3.0976  1.76\n",
      "2021-04-11   16.403364    13.0   3.40  11.5600  3.40\n",
      "\n",
      "[70 rows x 5 columns]\n"
     ]
    },
    {
     "name": "stderr",
     "output_type": "stream",
     "text": [
      "C:\\Users\\Paul\\anaconda3\\lib\\site-packages\\statsmodels\\tsa\\base\\tsa_model.py:581: ValueWarning: A date index has been provided, but it has no associated frequency information and so will be ignored when e.g. forecasting.\n",
      "  warnings.warn('A date index has been provided, but it has no'\n",
      "C:\\Users\\Paul\\anaconda3\\lib\\site-packages\\statsmodels\\tsa\\base\\tsa_model.py:581: ValueWarning: A date index has been provided, but it has no associated frequency information and so will be ignored when e.g. forecasting.\n",
      "  warnings.warn('A date index has been provided, but it has no'\n"
     ]
    },
    {
     "name": "stdout",
     "output_type": "stream",
     "text": [
      "            prediction  actual  error       mse   rmse\n",
      "Date                                                  \n",
      "2021-02-01   42.577673    32.0  10.58  111.9364  10.58\n",
      "2021-02-02   34.499163    25.0   9.50   90.2500   9.50\n",
      "2021-02-03   27.181304    22.0   5.18   26.8324   5.18\n",
      "2021-02-04   23.568040     8.0  15.57  242.4249  15.57\n",
      "2021-02-05   11.194065     9.0   2.19    4.7961   2.19\n",
      "...                ...     ...    ...       ...    ...\n",
      "2021-04-07    9.332750     7.0   2.33    5.4289   2.33\n",
      "2021-04-08    7.185962     9.0  -1.81    3.2761   1.81\n",
      "2021-04-09    8.381310    10.0  -1.62    2.6244   1.62\n",
      "2021-04-10    9.625319     7.0   2.63    6.9169   2.63\n",
      "2021-04-11    8.010613     9.0  -0.99    0.9801   0.99\n",
      "\n",
      "[70 rows x 5 columns]\n"
     ]
    },
    {
     "name": "stderr",
     "output_type": "stream",
     "text": [
      "C:\\Users\\Paul\\anaconda3\\lib\\site-packages\\statsmodels\\tsa\\base\\tsa_model.py:581: ValueWarning: A date index has been provided, but it has no associated frequency information and so will be ignored when e.g. forecasting.\n",
      "  warnings.warn('A date index has been provided, but it has no'\n",
      "C:\\Users\\Paul\\anaconda3\\lib\\site-packages\\statsmodels\\tsa\\base\\tsa_model.py:581: ValueWarning: A date index has been provided, but it has no associated frequency information and so will be ignored when e.g. forecasting.\n",
      "  warnings.warn('A date index has been provided, but it has no'\n"
     ]
    },
    {
     "name": "stdout",
     "output_type": "stream",
     "text": [
      "            prediction  actual  error       mse   rmse\n",
      "Date                                                  \n",
      "2021-02-01   17.315282    29.0 -11.68  136.4224  11.68\n",
      "2021-02-02   26.955133    39.0 -12.04  144.9616  12.04\n",
      "2021-02-03   35.092657    21.0  14.09  198.5281  14.09\n",
      "2021-02-04   24.447531    15.0   9.45   89.3025   9.45\n",
      "2021-02-05   18.173661    31.0 -12.83  164.6089  12.83\n",
      "...                ...     ...    ...       ...    ...\n",
      "2021-04-07    8.516138    12.0  -3.48   12.1104   3.48\n",
      "2021-04-08   10.173532     8.0   2.17    4.7089   2.17\n",
      "2021-04-09    9.618908     7.0   2.62    6.8644   2.62\n",
      "2021-04-10    7.656824    16.0  -8.34   69.5556   8.34\n",
      "2021-04-11   12.592554    12.0   0.59    0.3481   0.59\n",
      "\n",
      "[70 rows x 5 columns]\n"
     ]
    },
    {
     "name": "stderr",
     "output_type": "stream",
     "text": [
      "C:\\Users\\Paul\\anaconda3\\lib\\site-packages\\statsmodels\\tsa\\base\\tsa_model.py:581: ValueWarning: A date index has been provided, but it has no associated frequency information and so will be ignored when e.g. forecasting.\n",
      "  warnings.warn('A date index has been provided, but it has no'\n",
      "C:\\Users\\Paul\\anaconda3\\lib\\site-packages\\statsmodels\\tsa\\base\\tsa_model.py:581: ValueWarning: A date index has been provided, but it has no associated frequency information and so will be ignored when e.g. forecasting.\n",
      "  warnings.warn('A date index has been provided, but it has no'\n"
     ]
    },
    {
     "name": "stdout",
     "output_type": "stream",
     "text": [
      "            prediction  actual  error      mse  rmse\n",
      "Date                                                \n",
      "2021-02-01   24.095255    33.0  -8.90  79.2100  8.90\n",
      "2021-02-02   27.224677    20.0   7.22  52.1284  7.22\n",
      "2021-02-03   26.843357    18.0   8.84  78.1456  8.84\n",
      "2021-02-04   21.711134    25.0  -3.29  10.8241  3.29\n",
      "2021-02-05   22.749943    24.0  -1.25   1.5625  1.25\n",
      "...                ...     ...    ...      ...   ...\n",
      "2021-04-07   11.919517     7.0   4.92  24.2064  4.92\n",
      "2021-04-08    9.789643    11.0  -1.21   1.4641  1.21\n",
      "2021-04-09   10.512264    17.0  -6.49  42.1201  6.49\n",
      "2021-04-10   12.475138    11.0   1.48   2.1904  1.48\n",
      "2021-04-11   12.270634    11.0   1.27   1.6129  1.27\n",
      "\n",
      "[70 rows x 5 columns]\n"
     ]
    },
    {
     "name": "stderr",
     "output_type": "stream",
     "text": [
      "C:\\Users\\Paul\\anaconda3\\lib\\site-packages\\statsmodels\\tsa\\base\\tsa_model.py:581: ValueWarning: A date index has been provided, but it has no associated frequency information and so will be ignored when e.g. forecasting.\n",
      "  warnings.warn('A date index has been provided, but it has no'\n",
      "C:\\Users\\Paul\\anaconda3\\lib\\site-packages\\statsmodels\\tsa\\base\\tsa_model.py:581: ValueWarning: A date index has been provided, but it has no associated frequency information and so will be ignored when e.g. forecasting.\n",
      "  warnings.warn('A date index has been provided, but it has no'\n"
     ]
    },
    {
     "name": "stdout",
     "output_type": "stream",
     "text": [
      "            prediction  actual  error      mse  rmse\n",
      "Date                                                \n",
      "2021-02-01   23.773332    20.0   3.77  14.2129  3.77\n",
      "2021-02-02   19.409554    24.0  -4.59  21.0681  4.59\n",
      "2021-02-03   19.933848    18.0   1.93   3.7249  1.93\n",
      "2021-02-04   20.969099    23.0  -2.03   4.1209  2.03\n",
      "2021-02-05   21.371103    21.0   0.37   0.1369  0.37\n",
      "...                ...     ...    ...      ...   ...\n",
      "2021-04-07   20.180892    25.0  -4.82  23.2324  4.82\n",
      "2021-04-08   24.052864    23.0   1.05   1.1025  1.05\n",
      "2021-04-09   23.246463    23.0   0.25   0.0625  0.25\n",
      "2021-04-10   24.035798    23.0   1.04   1.0816  1.04\n",
      "2021-04-11   29.938667    38.0  -8.06  64.9636  8.06\n",
      "\n",
      "[70 rows x 5 columns]\n"
     ]
    },
    {
     "name": "stderr",
     "output_type": "stream",
     "text": [
      "C:\\Users\\Paul\\anaconda3\\lib\\site-packages\\statsmodels\\tsa\\base\\tsa_model.py:581: ValueWarning: A date index has been provided, but it has no associated frequency information and so will be ignored when e.g. forecasting.\n",
      "  warnings.warn('A date index has been provided, but it has no'\n",
      "C:\\Users\\Paul\\anaconda3\\lib\\site-packages\\statsmodels\\tsa\\base\\tsa_model.py:581: ValueWarning: A date index has been provided, but it has no associated frequency information and so will be ignored when e.g. forecasting.\n",
      "  warnings.warn('A date index has been provided, but it has no'\n"
     ]
    },
    {
     "name": "stdout",
     "output_type": "stream",
     "text": [
      "            prediction  actual  error       mse   rmse\n",
      "Date                                                  \n",
      "2021-02-01   59.047538    64.0  -4.95   24.5025   4.95\n",
      "2021-02-02   63.170664    40.0  23.17  536.8489  23.17\n",
      "2021-02-03   43.260089    30.0  13.26  175.8276  13.26\n",
      "2021-02-04   32.722420    31.0   1.72    2.9584   1.72\n",
      "2021-02-05   31.805755    23.0   8.81   77.6161   8.81\n",
      "...                ...     ...    ...       ...    ...\n",
      "2021-04-07   13.972487    19.0  -5.03   25.3009   5.03\n",
      "2021-04-08   17.967307    13.0   4.97   24.7009   4.97\n",
      "2021-04-09   14.192713    17.0  -2.81    7.8961   2.81\n",
      "2021-04-10   17.021026    16.0   1.02    1.0404   1.02\n",
      "2021-04-11   17.033345    16.0   1.03    1.0609   1.03\n",
      "\n",
      "[70 rows x 5 columns]\n"
     ]
    },
    {
     "name": "stderr",
     "output_type": "stream",
     "text": [
      "C:\\Users\\Paul\\anaconda3\\lib\\site-packages\\statsmodels\\tsa\\base\\tsa_model.py:581: ValueWarning: A date index has been provided, but it has no associated frequency information and so will be ignored when e.g. forecasting.\n",
      "  warnings.warn('A date index has been provided, but it has no'\n",
      "C:\\Users\\Paul\\anaconda3\\lib\\site-packages\\statsmodels\\tsa\\base\\tsa_model.py:581: ValueWarning: A date index has been provided, but it has no associated frequency information and so will be ignored when e.g. forecasting.\n",
      "  warnings.warn('A date index has been provided, but it has no'\n"
     ]
    },
    {
     "name": "stdout",
     "output_type": "stream",
     "text": [
      "            prediction  actual  error       mse   rmse\n",
      "Date                                                  \n",
      "2021-02-01   26.441879    34.0  -7.56   57.1536   7.56\n",
      "2021-02-02   33.680396    21.0  12.68  160.7824  12.68\n",
      "2021-02-03   21.542387    13.0   8.54   72.9316   8.54\n",
      "2021-02-04   12.988489    10.0   2.99    8.9401   2.99\n",
      "2021-02-05   10.268406    12.0  -1.73    2.9929   1.73\n",
      "...                ...     ...    ...       ...    ...\n",
      "2021-04-07   12.225665    15.0  -2.77    7.6729   2.77\n",
      "2021-04-08   14.877307    14.0   0.88    0.7744   0.88\n",
      "2021-04-09   14.619237    14.0   0.62    0.3844   0.62\n",
      "2021-04-10   14.443374    12.0   2.44    5.9536   2.44\n",
      "2021-04-11   12.474448    12.0   0.47    0.2209   0.47\n",
      "\n",
      "[70 rows x 5 columns]\n"
     ]
    },
    {
     "name": "stderr",
     "output_type": "stream",
     "text": [
      "C:\\Users\\Paul\\anaconda3\\lib\\site-packages\\statsmodels\\tsa\\base\\tsa_model.py:581: ValueWarning: A date index has been provided, but it has no associated frequency information and so will be ignored when e.g. forecasting.\n",
      "  warnings.warn('A date index has been provided, but it has no'\n",
      "C:\\Users\\Paul\\anaconda3\\lib\\site-packages\\statsmodels\\tsa\\base\\tsa_model.py:581: ValueWarning: A date index has been provided, but it has no associated frequency information and so will be ignored when e.g. forecasting.\n",
      "  warnings.warn('A date index has been provided, but it has no'\n"
     ]
    },
    {
     "name": "stdout",
     "output_type": "stream",
     "text": [
      "            prediction  actual  error        mse   rmse\n",
      "Date                                                   \n",
      "2021-02-01   25.816885    30.0  -4.18    17.4724   4.18\n",
      "2021-02-02   28.222099    37.0  -8.78    77.0884   8.78\n",
      "2021-02-03   30.014958    30.0   0.01     0.0001   0.01\n",
      "2021-02-04   30.453573    34.0  -3.55    12.6025   3.55\n",
      "2021-02-05   36.638228    31.0   5.64    31.8096   5.64\n",
      "...                ...     ...    ...        ...    ...\n",
      "2021-04-07   -2.811029     0.0  -2.81     7.8961   2.81\n",
      "2021-04-08   -0.976806    70.0 -70.98  5038.1604  70.98\n",
      "2021-04-09   53.658442    59.0  -5.34    28.5156   5.34\n",
      "2021-04-10   56.800848    32.0  24.80   615.0400  24.80\n",
      "2021-04-11   39.173325    39.0   0.17     0.0289   0.17\n",
      "\n",
      "[70 rows x 5 columns]\n"
     ]
    },
    {
     "name": "stderr",
     "output_type": "stream",
     "text": [
      "C:\\Users\\Paul\\anaconda3\\lib\\site-packages\\statsmodels\\tsa\\base\\tsa_model.py:581: ValueWarning: A date index has been provided, but it has no associated frequency information and so will be ignored when e.g. forecasting.\n",
      "  warnings.warn('A date index has been provided, but it has no'\n",
      "C:\\Users\\Paul\\anaconda3\\lib\\site-packages\\statsmodels\\tsa\\base\\tsa_model.py:581: ValueWarning: A date index has been provided, but it has no associated frequency information and so will be ignored when e.g. forecasting.\n",
      "  warnings.warn('A date index has been provided, but it has no'\n"
     ]
    },
    {
     "name": "stdout",
     "output_type": "stream",
     "text": [
      "            prediction  actual  error        mse   rmse\n",
      "Date                                                   \n",
      "2021-02-01   61.837725    64.0  -2.16     4.6656   2.16\n",
      "2021-02-02   61.543259    74.0 -12.46   155.2516  12.46\n",
      "2021-02-03   64.686937    61.0   3.69    13.6161   3.69\n",
      "2021-02-04   63.561180    64.0  -0.44     0.1936   0.44\n",
      "2021-02-05   63.824208    37.0  26.82   719.3124  26.82\n",
      "...                ...     ...    ...        ...    ...\n",
      "2021-04-07   39.575863    40.0  -0.42     0.1764   0.42\n",
      "2021-04-08   40.153687    74.0 -33.85  1145.8225  33.85\n",
      "2021-04-09   51.146787    47.0   4.15    17.2225   4.15\n",
      "2021-04-10   51.151765    36.0  15.15   229.5225  15.15\n",
      "2021-04-11   46.564463    53.0  -6.44    41.4736   6.44\n",
      "\n",
      "[70 rows x 5 columns]\n"
     ]
    },
    {
     "name": "stderr",
     "output_type": "stream",
     "text": [
      "C:\\Users\\Paul\\anaconda3\\lib\\site-packages\\statsmodels\\tsa\\base\\tsa_model.py:581: ValueWarning: A date index has been provided, but it has no associated frequency information and so will be ignored when e.g. forecasting.\n",
      "  warnings.warn('A date index has been provided, but it has no'\n",
      "C:\\Users\\Paul\\anaconda3\\lib\\site-packages\\statsmodels\\tsa\\base\\tsa_model.py:581: ValueWarning: A date index has been provided, but it has no associated frequency information and so will be ignored when e.g. forecasting.\n",
      "  warnings.warn('A date index has been provided, but it has no'\n"
     ]
    },
    {
     "name": "stdout",
     "output_type": "stream",
     "text": [
      "            prediction  actual  error       mse   rmse\n",
      "Date                                                  \n",
      "2021-02-01   17.288238    32.0 -14.71  216.3841  14.71\n",
      "2021-02-02   23.195644    27.0  -3.80   14.4400   3.80\n",
      "2021-02-03   25.768989    25.0   0.77    0.5929   0.77\n",
      "2021-02-04   26.640433    28.0  -1.36    1.8496   1.36\n",
      "2021-02-05   27.091896    22.0   5.09   25.9081   5.09\n",
      "...                ...     ...    ...       ...    ...\n",
      "2021-04-07   12.004016     8.0   4.00   16.0000   4.00\n",
      "2021-04-08   10.963205     9.0   1.96    3.8416   1.96\n",
      "2021-04-09    9.442588    18.0  -8.56   73.2736   8.56\n",
      "2021-04-10   14.853505    16.0  -1.15    1.3225   1.15\n",
      "2021-04-11   16.061026    15.0   1.06    1.1236   1.06\n",
      "\n",
      "[70 rows x 5 columns]\n"
     ]
    },
    {
     "name": "stderr",
     "output_type": "stream",
     "text": [
      "C:\\Users\\Paul\\anaconda3\\lib\\site-packages\\statsmodels\\tsa\\base\\tsa_model.py:581: ValueWarning: A date index has been provided, but it has no associated frequency information and so will be ignored when e.g. forecasting.\n",
      "  warnings.warn('A date index has been provided, but it has no'\n",
      "C:\\Users\\Paul\\anaconda3\\lib\\site-packages\\statsmodels\\tsa\\base\\tsa_model.py:581: ValueWarning: A date index has been provided, but it has no associated frequency information and so will be ignored when e.g. forecasting.\n",
      "  warnings.warn('A date index has been provided, but it has no'\n"
     ]
    },
    {
     "name": "stdout",
     "output_type": "stream",
     "text": [
      "            prediction  actual  error       mse   rmse\n",
      "Date                                                  \n",
      "2021-02-01   19.637131    38.0 -18.36  337.0896  18.36\n",
      "2021-02-02   34.280767    27.0   7.28   52.9984   7.28\n",
      "2021-02-03   28.987643    26.0   2.99    8.9401   2.99\n",
      "2021-02-04   25.940072    15.0  10.94  119.6836  10.94\n",
      "2021-02-05   17.855865    11.0   6.86   47.0596   6.86\n",
      "...                ...     ...    ...       ...    ...\n",
      "2021-04-07   10.532740    12.0  -1.47    2.1609   1.47\n",
      "2021-04-08   10.792132    10.0   0.79    0.6241   0.79\n",
      "2021-04-09   10.663251    13.0  -2.34    5.4756   2.34\n",
      "2021-04-10   12.423005    14.0  -1.58    2.4964   1.58\n",
      "2021-04-11   14.573136    13.0   1.57    2.4649   1.57\n",
      "\n",
      "[70 rows x 5 columns]\n"
     ]
    },
    {
     "name": "stderr",
     "output_type": "stream",
     "text": [
      "C:\\Users\\Paul\\anaconda3\\lib\\site-packages\\statsmodels\\tsa\\base\\tsa_model.py:581: ValueWarning: A date index has been provided, but it has no associated frequency information and so will be ignored when e.g. forecasting.\n",
      "  warnings.warn('A date index has been provided, but it has no'\n",
      "C:\\Users\\Paul\\anaconda3\\lib\\site-packages\\statsmodels\\tsa\\base\\tsa_model.py:581: ValueWarning: A date index has been provided, but it has no associated frequency information and so will be ignored when e.g. forecasting.\n",
      "  warnings.warn('A date index has been provided, but it has no'\n"
     ]
    },
    {
     "name": "stdout",
     "output_type": "stream",
     "text": [
      "            prediction  actual  error      mse  rmse\n",
      "Date                                                \n",
      "2021-02-01   10.792318    11.0  -0.21   0.0441  0.21\n",
      "2021-02-02   10.043284     5.0   5.04  25.4016  5.04\n",
      "2021-02-03    8.043844     5.0   3.04   9.2416  3.04\n",
      "2021-02-04    7.568821    10.0  -2.43   5.9049  2.43\n",
      "2021-02-05    8.223170     4.0   4.22  17.8084  4.22\n",
      "...                ...     ...    ...      ...   ...\n",
      "2021-04-07    5.349764     6.0  -0.65   0.4225  0.65\n",
      "2021-04-08    6.172851    13.0  -6.83  46.6489  6.83\n",
      "2021-04-09    8.199063    11.0  -2.80   7.8400  2.80\n",
      "2021-04-10    9.401288     5.0   4.40  19.3600  4.40\n",
      "2021-04-11    7.680740     5.0   2.68   7.1824  2.68\n",
      "\n",
      "[70 rows x 5 columns]\n"
     ]
    },
    {
     "name": "stderr",
     "output_type": "stream",
     "text": [
      "C:\\Users\\Paul\\anaconda3\\lib\\site-packages\\statsmodels\\tsa\\base\\tsa_model.py:581: ValueWarning: A date index has been provided, but it has no associated frequency information and so will be ignored when e.g. forecasting.\n",
      "  warnings.warn('A date index has been provided, but it has no'\n",
      "C:\\Users\\Paul\\anaconda3\\lib\\site-packages\\statsmodels\\tsa\\base\\tsa_model.py:581: ValueWarning: A date index has been provided, but it has no associated frequency information and so will be ignored when e.g. forecasting.\n",
      "  warnings.warn('A date index has been provided, but it has no'\n"
     ]
    },
    {
     "name": "stdout",
     "output_type": "stream",
     "text": [
      "            prediction  actual  error      mse  rmse\n",
      "Date                                                \n",
      "2021-02-01   11.051720     5.0   6.05  36.6025  6.05\n",
      "2021-02-02    8.748692    12.0  -3.25  10.5625  3.25\n",
      "2021-02-03   10.186577     4.0   6.19  38.3161  6.19\n",
      "2021-02-04    8.697727     7.0   1.70   2.8900  1.70\n",
      "2021-02-05    7.642510     5.0   2.64   6.9696  2.64\n",
      "...                ...     ...    ...      ...   ...\n",
      "2021-04-07    6.256915     5.0   1.26   1.5876  1.26\n",
      "2021-04-08    6.439389     5.0   1.44   2.0736  1.44\n",
      "2021-04-09    5.608693    14.0  -8.39  70.3921  8.39\n",
      "2021-04-10    8.231709    15.0  -6.77  45.8329  6.77\n",
      "2021-04-11    9.213341     4.0   5.21  27.1441  5.21\n",
      "\n",
      "[70 rows x 5 columns]\n"
     ]
    },
    {
     "name": "stderr",
     "output_type": "stream",
     "text": [
      "C:\\Users\\Paul\\anaconda3\\lib\\site-packages\\statsmodels\\tsa\\base\\tsa_model.py:581: ValueWarning: A date index has been provided, but it has no associated frequency information and so will be ignored when e.g. forecasting.\n",
      "  warnings.warn('A date index has been provided, but it has no'\n",
      "C:\\Users\\Paul\\anaconda3\\lib\\site-packages\\statsmodels\\tsa\\base\\tsa_model.py:581: ValueWarning: A date index has been provided, but it has no associated frequency information and so will be ignored when e.g. forecasting.\n",
      "  warnings.warn('A date index has been provided, but it has no'\n"
     ]
    },
    {
     "name": "stdout",
     "output_type": "stream",
     "text": [
      "            prediction  actual  error       mse   rmse\n",
      "Date                                                  \n",
      "2021-02-01   26.735385    37.0 -10.26  105.2676  10.26\n",
      "2021-02-02   33.447768    39.0  -5.55   30.8025   5.55\n",
      "2021-02-03   38.156935    39.0  -0.84    0.7056   0.84\n",
      "2021-02-04   38.357003    35.0   3.36   11.2896   3.36\n",
      "2021-02-05   36.599831    32.0   4.60   21.1600   4.60\n",
      "...                ...     ...    ...       ...    ...\n",
      "2021-04-07   11.511976     7.0   4.51   20.3401   4.51\n",
      "2021-04-08    8.202582     7.0   1.20    1.4400   1.20\n",
      "2021-04-09    7.733199    10.0  -2.27    5.1529   2.27\n",
      "2021-04-10   10.574031     5.0   5.57   31.0249   5.57\n",
      "2021-04-11    6.445395    20.0 -13.55  183.6025  13.55\n",
      "\n",
      "[70 rows x 5 columns]\n"
     ]
    },
    {
     "name": "stderr",
     "output_type": "stream",
     "text": [
      "C:\\Users\\Paul\\anaconda3\\lib\\site-packages\\statsmodels\\tsa\\base\\tsa_model.py:581: ValueWarning: A date index has been provided, but it has no associated frequency information and so will be ignored when e.g. forecasting.\n",
      "  warnings.warn('A date index has been provided, but it has no'\n",
      "C:\\Users\\Paul\\anaconda3\\lib\\site-packages\\statsmodels\\tsa\\base\\tsa_model.py:581: ValueWarning: A date index has been provided, but it has no associated frequency information and so will be ignored when e.g. forecasting.\n",
      "  warnings.warn('A date index has been provided, but it has no'\n"
     ]
    },
    {
     "name": "stdout",
     "output_type": "stream",
     "text": [
      "            prediction  actual  error  mse  rmse\n",
      "Date                                            \n",
      "2021-02-01         0.0     0.0    0.0  0.0   0.0\n",
      "2021-02-02         0.0     0.0    0.0  0.0   0.0\n",
      "2021-02-03         0.0     0.0    0.0  0.0   0.0\n",
      "2021-02-04         0.0     0.0    0.0  0.0   0.0\n",
      "2021-02-05         0.0     0.0    0.0  0.0   0.0\n",
      "...                ...     ...    ...  ...   ...\n",
      "2021-04-07         0.0     0.0    0.0  0.0   0.0\n",
      "2021-04-08         0.0     0.0    0.0  0.0   0.0\n",
      "2021-04-09         0.0     0.0    0.0  0.0   0.0\n",
      "2021-04-10         0.0     0.0    0.0  0.0   0.0\n",
      "2021-04-11         0.0     0.0    0.0  0.0   0.0\n",
      "\n",
      "[70 rows x 5 columns]\n"
     ]
    },
    {
     "name": "stderr",
     "output_type": "stream",
     "text": [
      "C:\\Users\\Paul\\anaconda3\\lib\\site-packages\\statsmodels\\tsa\\base\\tsa_model.py:581: ValueWarning: A date index has been provided, but it has no associated frequency information and so will be ignored when e.g. forecasting.\n",
      "  warnings.warn('A date index has been provided, but it has no'\n",
      "C:\\Users\\Paul\\anaconda3\\lib\\site-packages\\statsmodels\\tsa\\base\\tsa_model.py:581: ValueWarning: A date index has been provided, but it has no associated frequency information and so will be ignored when e.g. forecasting.\n",
      "  warnings.warn('A date index has been provided, but it has no'\n"
     ]
    },
    {
     "name": "stdout",
     "output_type": "stream",
     "text": [
      "            prediction  actual  error      mse  rmse\n",
      "Date                                                \n",
      "2021-02-01   22.618406    20.0   2.62   6.8644  2.62\n",
      "2021-02-02   21.281797    22.0  -0.72   0.5184  0.72\n",
      "2021-02-03   21.139944    19.0   2.14   4.5796  2.14\n",
      "2021-02-04   19.944627    19.0   0.94   0.8836  0.94\n",
      "2021-02-05   20.027927    21.0  -0.97   0.9409  0.97\n",
      "...                ...     ...    ...      ...   ...\n",
      "2021-04-07    8.634648    15.0  -6.37  40.5769  6.37\n",
      "2021-04-08   12.627911    14.0  -1.37   1.8769  1.37\n",
      "2021-04-09   14.948844    23.0  -8.05  64.8025  8.05\n",
      "2021-04-10   19.665730    15.0   4.67  21.8089  4.67\n",
      "2021-04-11   16.852290    11.0   5.85  34.2225  5.85\n",
      "\n",
      "[70 rows x 5 columns]\n"
     ]
    },
    {
     "name": "stderr",
     "output_type": "stream",
     "text": [
      "C:\\Users\\Paul\\anaconda3\\lib\\site-packages\\statsmodels\\tsa\\base\\tsa_model.py:581: ValueWarning: A date index has been provided, but it has no associated frequency information and so will be ignored when e.g. forecasting.\n",
      "  warnings.warn('A date index has been provided, but it has no'\n",
      "C:\\Users\\Paul\\anaconda3\\lib\\site-packages\\statsmodels\\tsa\\base\\tsa_model.py:581: ValueWarning: A date index has been provided, but it has no associated frequency information and so will be ignored when e.g. forecasting.\n",
      "  warnings.warn('A date index has been provided, but it has no'\n"
     ]
    },
    {
     "name": "stdout",
     "output_type": "stream",
     "text": [
      "            prediction  actual  error      mse  rmse\n",
      "Date                                                \n",
      "2021-02-01    9.505853    12.0  -2.49   6.2001  2.49\n",
      "2021-02-02    6.331879     5.0   1.33   1.7689  1.33\n",
      "2021-02-03    7.185904     7.0   0.19   0.0361  0.19\n",
      "2021-02-04    6.485459     4.0   2.49   6.2001  2.49\n",
      "2021-02-05    7.285912     9.0  -1.71   2.9241  1.71\n",
      "...                ...     ...    ...      ...   ...\n",
      "2021-04-07   11.045147    10.0   1.05   1.1025  1.05\n",
      "2021-04-08    8.108252     6.0   2.11   4.4521  2.11\n",
      "2021-04-09   10.491233     5.0   5.49  30.1401  5.49\n",
      "2021-04-10   11.118671    14.0  -2.88   8.2944  2.88\n",
      "2021-04-11    7.723272     7.0   0.72   0.5184  0.72\n",
      "\n",
      "[70 rows x 5 columns]\n"
     ]
    },
    {
     "name": "stderr",
     "output_type": "stream",
     "text": [
      "C:\\Users\\Paul\\anaconda3\\lib\\site-packages\\statsmodels\\tsa\\base\\tsa_model.py:581: ValueWarning: A date index has been provided, but it has no associated frequency information and so will be ignored when e.g. forecasting.\n",
      "  warnings.warn('A date index has been provided, but it has no'\n",
      "C:\\Users\\Paul\\anaconda3\\lib\\site-packages\\statsmodels\\tsa\\base\\tsa_model.py:581: ValueWarning: A date index has been provided, but it has no associated frequency information and so will be ignored when e.g. forecasting.\n",
      "  warnings.warn('A date index has been provided, but it has no'\n"
     ]
    },
    {
     "name": "stdout",
     "output_type": "stream",
     "text": [
      "            prediction  actual  error      mse  rmse\n",
      "Date                                                \n",
      "2021-02-01   24.719450    26.0  -1.28   1.6384  1.28\n",
      "2021-02-02   17.043292    20.0  -2.96   8.7616  2.96\n",
      "2021-02-03   21.158239    12.0   9.16  83.9056  9.16\n",
      "2021-02-04   17.802426    21.0  -3.20  10.2400  3.20\n",
      "2021-02-05   17.459710    13.0   4.46  19.8916  4.46\n",
      "...                ...     ...    ...      ...   ...\n",
      "2021-04-07   15.479139    17.0  -1.52   2.3104  1.52\n",
      "2021-04-08   15.370025    16.0  -0.63   0.3969  0.63\n",
      "2021-04-09   15.079661    15.0   0.08   0.0064  0.08\n",
      "2021-04-10   17.073272    11.0   6.07  36.8449  6.07\n",
      "2021-04-11   14.243850    15.0  -0.76   0.5776  0.76\n",
      "\n",
      "[70 rows x 5 columns]\n"
     ]
    },
    {
     "name": "stderr",
     "output_type": "stream",
     "text": [
      "C:\\Users\\Paul\\anaconda3\\lib\\site-packages\\statsmodels\\tsa\\base\\tsa_model.py:581: ValueWarning: A date index has been provided, but it has no associated frequency information and so will be ignored when e.g. forecasting.\n",
      "  warnings.warn('A date index has been provided, but it has no'\n",
      "C:\\Users\\Paul\\anaconda3\\lib\\site-packages\\statsmodels\\tsa\\base\\tsa_model.py:581: ValueWarning: A date index has been provided, but it has no associated frequency information and so will be ignored when e.g. forecasting.\n",
      "  warnings.warn('A date index has been provided, but it has no'\n"
     ]
    },
    {
     "name": "stdout",
     "output_type": "stream",
     "text": [
      "            prediction  actual  error       mse   rmse\n",
      "Date                                                  \n",
      "2021-02-01   12.538035    23.0 -10.46  109.4116  10.46\n",
      "2021-02-02   17.032080     9.0   8.03   64.4809   8.03\n",
      "2021-02-03   14.194227    11.0   3.19   10.1761   3.19\n",
      "2021-02-04   12.819364     9.0   3.82   14.5924   3.82\n",
      "2021-02-05   11.507185    11.0   0.51    0.2601   0.51\n",
      "...                ...     ...    ...       ...    ...\n",
      "2021-04-07   12.001848    11.0   1.00    1.0000   1.00\n",
      "2021-04-08   11.335056    10.0   1.34    1.7956   1.34\n",
      "2021-04-09   11.485266    10.0   1.49    2.2201   1.49\n",
      "2021-04-10   10.301431     9.0   1.30    1.6900   1.30\n",
      "2021-04-11    9.960904    10.0  -0.04    0.0016   0.04\n",
      "\n",
      "[70 rows x 5 columns]\n"
     ]
    },
    {
     "name": "stderr",
     "output_type": "stream",
     "text": [
      "C:\\Users\\Paul\\anaconda3\\lib\\site-packages\\statsmodels\\tsa\\base\\tsa_model.py:581: ValueWarning: A date index has been provided, but it has no associated frequency information and so will be ignored when e.g. forecasting.\n",
      "  warnings.warn('A date index has been provided, but it has no'\n",
      "C:\\Users\\Paul\\anaconda3\\lib\\site-packages\\statsmodels\\tsa\\base\\tsa_model.py:581: ValueWarning: A date index has been provided, but it has no associated frequency information and so will be ignored when e.g. forecasting.\n",
      "  warnings.warn('A date index has been provided, but it has no'\n"
     ]
    },
    {
     "name": "stdout",
     "output_type": "stream",
     "text": [
      "            prediction  actual  error       mse   rmse\n",
      "Date                                                  \n",
      "2021-02-01   16.931789    21.0  -4.07   16.5649   4.07\n",
      "2021-02-02   19.733749    22.0  -2.27    5.1529   2.27\n",
      "2021-02-03   19.172135    22.0  -2.83    8.0089   2.83\n",
      "2021-02-04   21.128839    21.0   0.13    0.0169   0.13\n",
      "2021-02-05   22.038713    21.0   1.04    1.0816   1.04\n",
      "...                ...     ...    ...       ...    ...\n",
      "2021-04-07   19.716209    17.0   2.72    7.3984   2.72\n",
      "2021-04-08   18.922571    36.0 -17.08  291.7264  17.08\n",
      "2021-04-09   27.254972    38.0 -10.75  115.5625  10.75\n",
      "2021-04-10   31.511611    28.0   3.51   12.3201   3.51\n",
      "2021-04-11   30.971285    32.0  -1.03    1.0609   1.03\n",
      "\n",
      "[70 rows x 5 columns]\n"
     ]
    },
    {
     "name": "stderr",
     "output_type": "stream",
     "text": [
      "C:\\Users\\Paul\\anaconda3\\lib\\site-packages\\statsmodels\\tsa\\base\\tsa_model.py:581: ValueWarning: A date index has been provided, but it has no associated frequency information and so will be ignored when e.g. forecasting.\n",
      "  warnings.warn('A date index has been provided, but it has no'\n",
      "C:\\Users\\Paul\\anaconda3\\lib\\site-packages\\statsmodels\\tsa\\base\\tsa_model.py:581: ValueWarning: A date index has been provided, but it has no associated frequency information and so will be ignored when e.g. forecasting.\n",
      "  warnings.warn('A date index has been provided, but it has no'\n"
     ]
    },
    {
     "name": "stdout",
     "output_type": "stream",
     "text": [
      "            prediction  actual  error       mse   rmse\n",
      "Date                                                  \n",
      "2021-02-01   26.153813    19.0   7.15   51.1225   7.15\n",
      "2021-02-02   22.938248     3.0  19.94  397.6036  19.94\n",
      "2021-02-03   17.184663     4.0  13.18  173.7124  13.18\n",
      "2021-02-04   19.162488     4.0  15.16  229.8256  15.16\n",
      "2021-02-05   17.514950    21.0  -3.49   12.1801   3.49\n",
      "...                ...     ...    ...       ...    ...\n",
      "2021-04-07    8.522821    20.0 -11.48  131.7904  11.48\n",
      "2021-04-08   10.550867    26.0 -15.45  238.7025  15.45\n",
      "2021-04-09   15.684515    26.0 -10.32  106.5024  10.32\n",
      "2021-04-10   15.877240     8.0   7.88   62.0944   7.88\n",
      "2021-04-11   15.875899    12.0   3.88   15.0544   3.88\n",
      "\n",
      "[70 rows x 5 columns]\n"
     ]
    },
    {
     "name": "stderr",
     "output_type": "stream",
     "text": [
      "C:\\Users\\Paul\\anaconda3\\lib\\site-packages\\statsmodels\\tsa\\base\\tsa_model.py:581: ValueWarning: A date index has been provided, but it has no associated frequency information and so will be ignored when e.g. forecasting.\n",
      "  warnings.warn('A date index has been provided, but it has no'\n",
      "C:\\Users\\Paul\\anaconda3\\lib\\site-packages\\statsmodels\\tsa\\base\\tsa_model.py:581: ValueWarning: A date index has been provided, but it has no associated frequency information and so will be ignored when e.g. forecasting.\n",
      "  warnings.warn('A date index has been provided, but it has no'\n"
     ]
    },
    {
     "name": "stdout",
     "output_type": "stream",
     "text": [
      "            prediction  actual  error      mse  rmse\n",
      "Date                                                \n",
      "2021-02-01   25.826149    27.0  -1.17   1.3689  1.17\n",
      "2021-02-02   26.494155    20.0   6.49  42.1201  6.49\n",
      "2021-02-03   20.521151    24.0  -3.48  12.1104  3.48\n",
      "2021-02-04   23.710642    18.0   5.71  32.6041  5.71\n",
      "2021-02-05   19.127871    16.0   3.13   9.7969  3.13\n",
      "...                ...     ...    ...      ...   ...\n",
      "2021-04-07   20.261801    20.0   0.26   0.0676  0.26\n",
      "2021-04-08   19.694787    17.0   2.69   7.2361  2.69\n",
      "2021-04-09   17.255380    16.0   1.26   1.5876  1.26\n",
      "2021-04-10   16.376758    20.0  -3.62  13.1044  3.62\n",
      "2021-04-11   19.317746    20.0  -0.68   0.4624  0.68\n",
      "\n",
      "[70 rows x 5 columns]\n"
     ]
    },
    {
     "name": "stderr",
     "output_type": "stream",
     "text": [
      "C:\\Users\\Paul\\anaconda3\\lib\\site-packages\\statsmodels\\tsa\\base\\tsa_model.py:581: ValueWarning: A date index has been provided, but it has no associated frequency information and so will be ignored when e.g. forecasting.\n",
      "  warnings.warn('A date index has been provided, but it has no'\n",
      "C:\\Users\\Paul\\anaconda3\\lib\\site-packages\\statsmodels\\tsa\\base\\tsa_model.py:581: ValueWarning: A date index has been provided, but it has no associated frequency information and so will be ignored when e.g. forecasting.\n",
      "  warnings.warn('A date index has been provided, but it has no'\n"
     ]
    },
    {
     "name": "stdout",
     "output_type": "stream",
     "text": [
      "            prediction  actual  error       mse   rmse\n",
      "Date                                                  \n",
      "2021-02-01   26.478409    27.0  -0.52    0.2704   0.52\n",
      "2021-02-02   26.808254    18.0   8.81   77.6161   8.81\n",
      "2021-02-03   22.178135    19.0   3.18   10.1124   3.18\n",
      "2021-02-04   20.473570    11.0   9.47   89.6809   9.47\n",
      "2021-02-05   15.789458    22.0  -6.21   38.5641   6.21\n",
      "...                ...     ...    ...       ...    ...\n",
      "2021-04-07    8.125520     7.0   1.13    1.2769   1.13\n",
      "2021-04-08    7.035052    18.0 -10.96  120.1216  10.96\n",
      "2021-04-09   13.331003    12.0   1.33    1.7689   1.33\n",
      "2021-04-10   12.683848     6.0   6.68   44.6224   6.68\n",
      "2021-04-11    9.461267    10.0  -0.54    0.2916   0.54\n",
      "\n",
      "[70 rows x 5 columns]\n"
     ]
    },
    {
     "name": "stderr",
     "output_type": "stream",
     "text": [
      "C:\\Users\\Paul\\anaconda3\\lib\\site-packages\\statsmodels\\tsa\\base\\tsa_model.py:581: ValueWarning: A date index has been provided, but it has no associated frequency information and so will be ignored when e.g. forecasting.\n",
      "  warnings.warn('A date index has been provided, but it has no'\n",
      "C:\\Users\\Paul\\anaconda3\\lib\\site-packages\\statsmodels\\tsa\\base\\tsa_model.py:581: ValueWarning: A date index has been provided, but it has no associated frequency information and so will be ignored when e.g. forecasting.\n",
      "  warnings.warn('A date index has been provided, but it has no'\n"
     ]
    },
    {
     "name": "stdout",
     "output_type": "stream",
     "text": [
      "            prediction  actual  error      mse  rmse\n",
      "Date                                                \n",
      "2021-02-01   21.173537    21.0   0.17   0.0289  0.17\n",
      "2021-02-02   20.091334    14.0   6.09  37.0881  6.09\n",
      "2021-02-03   19.689870    17.0   2.69   7.2361  2.69\n",
      "2021-02-04   17.763970    15.0   2.76   7.6176  2.76\n",
      "2021-02-05   18.965247    13.0   5.97  35.6409  5.97\n",
      "...                ...     ...    ...      ...   ...\n",
      "2021-04-07   13.544454    10.0   3.54  12.5316  3.54\n",
      "2021-04-08   11.556245    12.0  -0.44   0.1936  0.44\n",
      "2021-04-09   11.942375    12.0  -0.06   0.0036  0.06\n",
      "2021-04-10   12.863379    11.0   1.86   3.4596  1.86\n",
      "2021-04-11   10.622757    14.0  -3.38  11.4244  3.38\n",
      "\n",
      "[70 rows x 5 columns]\n"
     ]
    },
    {
     "name": "stderr",
     "output_type": "stream",
     "text": [
      "C:\\Users\\Paul\\anaconda3\\lib\\site-packages\\statsmodels\\tsa\\base\\tsa_model.py:581: ValueWarning: A date index has been provided, but it has no associated frequency information and so will be ignored when e.g. forecasting.\n",
      "  warnings.warn('A date index has been provided, but it has no'\n",
      "C:\\Users\\Paul\\anaconda3\\lib\\site-packages\\statsmodels\\tsa\\base\\tsa_model.py:581: ValueWarning: A date index has been provided, but it has no associated frequency information and so will be ignored when e.g. forecasting.\n",
      "  warnings.warn('A date index has been provided, but it has no'\n"
     ]
    },
    {
     "name": "stdout",
     "output_type": "stream",
     "text": [
      "            prediction  actual  error       mse   rmse\n",
      "Date                                                  \n",
      "2021-02-01   -0.339905     0.0  -0.34    0.1156   0.34\n",
      "2021-02-02    1.084810     0.0   1.08    1.1664   1.08\n",
      "2021-02-03    0.343752     0.0   0.34    0.1156   0.34\n",
      "2021-02-04    0.513048     0.0   0.51    0.2601   0.51\n",
      "2021-02-05    0.271393     0.0   0.27    0.0729   0.27\n",
      "...                ...     ...    ...       ...    ...\n",
      "2021-04-07    0.951676     0.0   0.95    0.9025   0.95\n",
      "2021-04-08    1.271826     0.0   1.27    1.6129   1.27\n",
      "2021-04-09    0.910766     0.0   0.91    0.8281   0.91\n",
      "2021-04-10    1.222936     0.0   1.22    1.4884   1.22\n",
      "2021-04-11    0.214174    13.0 -12.79  163.5841  12.79\n",
      "\n",
      "[70 rows x 5 columns]\n"
     ]
    },
    {
     "name": "stderr",
     "output_type": "stream",
     "text": [
      "C:\\Users\\Paul\\anaconda3\\lib\\site-packages\\statsmodels\\tsa\\base\\tsa_model.py:581: ValueWarning: A date index has been provided, but it has no associated frequency information and so will be ignored when e.g. forecasting.\n",
      "  warnings.warn('A date index has been provided, but it has no'\n",
      "C:\\Users\\Paul\\anaconda3\\lib\\site-packages\\statsmodels\\tsa\\base\\tsa_model.py:581: ValueWarning: A date index has been provided, but it has no associated frequency information and so will be ignored when e.g. forecasting.\n",
      "  warnings.warn('A date index has been provided, but it has no'\n"
     ]
    },
    {
     "name": "stdout",
     "output_type": "stream",
     "text": [
      "            prediction  actual  error      mse  rmse\n",
      "Date                                                \n",
      "2021-02-01    7.486438    14.0  -6.51  42.3801  6.51\n",
      "2021-02-02    7.893871    10.0  -2.11   4.4521  2.11\n",
      "2021-02-03    8.076749     9.0  -0.92   0.8464  0.92\n",
      "2021-02-04    9.408456     2.0   7.41  54.9081  7.41\n",
      "2021-02-05    7.233757    10.0  -2.77   7.6729  2.77\n",
      "...                ...     ...    ...      ...   ...\n",
      "2021-04-07    5.116111     5.0   0.12   0.0144  0.12\n",
      "2021-04-08    6.044300     7.0  -0.96   0.9216  0.96\n",
      "2021-04-09    5.079145    10.0  -4.92  24.2064  4.92\n",
      "2021-04-10    5.971978     9.0  -3.03   9.1809  3.03\n",
      "2021-04-11    8.408753    11.0  -2.59   6.7081  2.59\n",
      "\n",
      "[70 rows x 5 columns]\n"
     ]
    },
    {
     "name": "stderr",
     "output_type": "stream",
     "text": [
      "C:\\Users\\Paul\\anaconda3\\lib\\site-packages\\statsmodels\\tsa\\base\\tsa_model.py:581: ValueWarning: A date index has been provided, but it has no associated frequency information and so will be ignored when e.g. forecasting.\n",
      "  warnings.warn('A date index has been provided, but it has no'\n",
      "C:\\Users\\Paul\\anaconda3\\lib\\site-packages\\statsmodels\\tsa\\base\\tsa_model.py:581: ValueWarning: A date index has been provided, but it has no associated frequency information and so will be ignored when e.g. forecasting.\n",
      "  warnings.warn('A date index has been provided, but it has no'\n"
     ]
    },
    {
     "name": "stdout",
     "output_type": "stream",
     "text": [
      "            prediction  actual  error       mse   rmse\n",
      "Date                                                  \n",
      "2021-02-01   18.298834    13.0   5.30   28.0900   5.30\n",
      "2021-02-02   19.269151    10.0   9.27   85.9329   9.27\n",
      "2021-02-03   16.077210    17.0  -0.92    0.8464   0.92\n",
      "2021-02-04   16.983053    11.0   5.98   35.7604   5.98\n",
      "2021-02-05   16.584283     7.0   9.58   91.7764   9.58\n",
      "...                ...     ...    ...       ...    ...\n",
      "2021-04-07   10.619593    22.0 -11.38  129.5044  11.38\n",
      "2021-04-08   12.901276    12.0   0.90    0.8100   0.90\n",
      "2021-04-09   13.313773    19.0  -5.69   32.3761   5.69\n",
      "2021-04-10   14.058560    23.0  -8.94   79.9236   8.94\n",
      "2021-04-11   15.239383    13.0   2.24    5.0176   2.24\n",
      "\n",
      "[70 rows x 5 columns]\n"
     ]
    },
    {
     "name": "stderr",
     "output_type": "stream",
     "text": [
      "C:\\Users\\Paul\\anaconda3\\lib\\site-packages\\statsmodels\\tsa\\base\\tsa_model.py:581: ValueWarning: A date index has been provided, but it has no associated frequency information and so will be ignored when e.g. forecasting.\n",
      "  warnings.warn('A date index has been provided, but it has no'\n",
      "C:\\Users\\Paul\\anaconda3\\lib\\site-packages\\statsmodels\\tsa\\base\\tsa_model.py:581: ValueWarning: A date index has been provided, but it has no associated frequency information and so will be ignored when e.g. forecasting.\n",
      "  warnings.warn('A date index has been provided, but it has no'\n"
     ]
    },
    {
     "name": "stdout",
     "output_type": "stream",
     "text": [
      "            prediction  actual  error       mse   rmse\n",
      "Date                                                  \n",
      "2021-02-01   32.948085    29.0   3.95   15.6025   3.95\n",
      "2021-02-02   31.661773    35.0  -3.34   11.1556   3.34\n",
      "2021-02-03   32.117269    26.0   6.12   37.4544   6.12\n",
      "2021-02-04   30.227341    39.0  -8.77   76.9129   8.77\n",
      "2021-02-05   34.974251    23.0  11.97  143.2809  11.97\n",
      "...                ...     ...    ...       ...    ...\n",
      "2021-04-07   17.140611    29.0 -11.86  140.6596  11.86\n",
      "2021-04-08   20.959398    27.0  -6.04   36.4816   6.04\n",
      "2021-04-09   24.950189    20.0   4.95   24.5025   4.95\n",
      "2021-04-10   22.305195    17.0   5.31   28.1961   5.31\n",
      "2021-04-11   20.952790    24.0  -3.05    9.3025   3.05\n",
      "\n",
      "[70 rows x 5 columns]\n"
     ]
    },
    {
     "name": "stderr",
     "output_type": "stream",
     "text": [
      "C:\\Users\\Paul\\anaconda3\\lib\\site-packages\\statsmodels\\tsa\\base\\tsa_model.py:581: ValueWarning: A date index has been provided, but it has no associated frequency information and so will be ignored when e.g. forecasting.\n",
      "  warnings.warn('A date index has been provided, but it has no'\n",
      "C:\\Users\\Paul\\anaconda3\\lib\\site-packages\\statsmodels\\tsa\\base\\tsa_model.py:581: ValueWarning: A date index has been provided, but it has no associated frequency information and so will be ignored when e.g. forecasting.\n",
      "  warnings.warn('A date index has been provided, but it has no'\n"
     ]
    },
    {
     "name": "stdout",
     "output_type": "stream",
     "text": [
      "            prediction  actual  error       mse   rmse\n",
      "Date                                                  \n",
      "2021-02-01   41.118333    61.0 -19.88  395.2144  19.88\n",
      "2021-02-02   56.457755    45.0  11.46  131.3316  11.46\n",
      "2021-02-03   47.906546    34.0  13.91  193.4881  13.91\n",
      "2021-02-04   36.540577    25.0  11.54  133.1716  11.54\n",
      "2021-02-05   27.616370    31.0  -3.38   11.4244   3.38\n",
      "...                ...     ...    ...       ...    ...\n",
      "2021-04-07   12.638393    11.0   1.64    2.6896   1.64\n",
      "2021-04-08   10.238828    16.0  -5.76   33.1776   5.76\n",
      "2021-04-09   14.648487    10.0   4.65   21.6225   4.65\n",
      "2021-04-10   11.676007    13.0  -1.32    1.7424   1.32\n",
      "2021-04-11   14.570158    18.0  -3.43   11.7649   3.43\n",
      "\n",
      "[70 rows x 5 columns]\n"
     ]
    },
    {
     "name": "stderr",
     "output_type": "stream",
     "text": [
      "C:\\Users\\Paul\\anaconda3\\lib\\site-packages\\statsmodels\\tsa\\base\\tsa_model.py:581: ValueWarning: A date index has been provided, but it has no associated frequency information and so will be ignored when e.g. forecasting.\n",
      "  warnings.warn('A date index has been provided, but it has no'\n",
      "C:\\Users\\Paul\\anaconda3\\lib\\site-packages\\statsmodels\\tsa\\base\\tsa_model.py:581: ValueWarning: A date index has been provided, but it has no associated frequency information and so will be ignored when e.g. forecasting.\n",
      "  warnings.warn('A date index has been provided, but it has no'\n"
     ]
    },
    {
     "name": "stdout",
     "output_type": "stream",
     "text": [
      "            prediction  actual  error       mse   rmse\n",
      "Date                                                  \n",
      "2021-02-01   11.227042    10.0   1.23    1.5129   1.23\n",
      "2021-02-02   10.196289     9.0   1.20    1.4400   1.20\n",
      "2021-02-03    9.718734     6.0   3.72   13.8384   3.72\n",
      "2021-02-04    8.584473     6.0   2.58    6.6564   2.58\n",
      "2021-02-05    8.859188     7.0   1.86    3.4596   1.86\n",
      "...                ...     ...    ...       ...    ...\n",
      "2021-04-07    9.826652     5.0   4.83   23.3289   4.83\n",
      "2021-04-08    7.380824     4.0   3.38   11.4244   3.38\n",
      "2021-04-09    7.760518    20.0 -12.24  149.8176  12.24\n",
      "2021-04-10    9.474071     5.0   4.47   19.9809   4.47\n",
      "2021-04-11   10.488187    14.0  -3.51   12.3201   3.51\n",
      "\n",
      "[70 rows x 5 columns]\n"
     ]
    },
    {
     "name": "stderr",
     "output_type": "stream",
     "text": [
      "C:\\Users\\Paul\\anaconda3\\lib\\site-packages\\statsmodels\\tsa\\base\\tsa_model.py:581: ValueWarning: A date index has been provided, but it has no associated frequency information and so will be ignored when e.g. forecasting.\n",
      "  warnings.warn('A date index has been provided, but it has no'\n",
      "C:\\Users\\Paul\\anaconda3\\lib\\site-packages\\statsmodels\\tsa\\base\\tsa_model.py:581: ValueWarning: A date index has been provided, but it has no associated frequency information and so will be ignored when e.g. forecasting.\n",
      "  warnings.warn('A date index has been provided, but it has no'\n"
     ]
    },
    {
     "name": "stdout",
     "output_type": "stream",
     "text": [
      "            prediction  actual  error       mse   rmse\n",
      "Date                                                  \n",
      "2021-02-01   19.170530    10.0   9.17   84.0889   9.17\n",
      "2021-02-02   16.348684    24.0  -7.65   58.5225   7.65\n",
      "2021-02-03   17.962600    14.0   3.96   15.6816   3.96\n",
      "2021-02-04   16.932406    17.0  -0.07    0.0049   0.07\n",
      "2021-02-05   18.044565    10.0   8.04   64.6416   8.04\n",
      "...                ...     ...    ...       ...    ...\n",
      "2021-04-07    9.792335    18.0  -8.21   67.4041   8.21\n",
      "2021-04-08   13.374799    16.0  -2.63    6.9169   2.63\n",
      "2021-04-09   15.061204    19.0  -3.94   15.5236   3.94\n",
      "2021-04-10   16.264714     5.0  11.26  126.7876  11.26\n",
      "2021-04-11   11.697968     8.0   3.70   13.6900   3.70\n",
      "\n",
      "[70 rows x 5 columns]\n"
     ]
    },
    {
     "name": "stderr",
     "output_type": "stream",
     "text": [
      "C:\\Users\\Paul\\anaconda3\\lib\\site-packages\\statsmodels\\tsa\\base\\tsa_model.py:581: ValueWarning: A date index has been provided, but it has no associated frequency information and so will be ignored when e.g. forecasting.\n",
      "  warnings.warn('A date index has been provided, but it has no'\n",
      "C:\\Users\\Paul\\anaconda3\\lib\\site-packages\\statsmodels\\tsa\\base\\tsa_model.py:581: ValueWarning: A date index has been provided, but it has no associated frequency information and so will be ignored when e.g. forecasting.\n",
      "  warnings.warn('A date index has been provided, but it has no'\n"
     ]
    },
    {
     "name": "stdout",
     "output_type": "stream",
     "text": [
      "            prediction  actual  error       mse   rmse\n",
      "Date                                                  \n",
      "2021-02-01   37.154185    35.0   2.15    4.6225   2.15\n",
      "2021-02-02   35.036781    32.0   3.04    9.2416   3.04\n",
      "2021-02-03   32.547375    23.0   9.55   91.2025   9.55\n",
      "2021-02-04   27.594599    38.0 -10.41  108.3681  10.41\n",
      "2021-02-05   33.354619    22.0  11.35  128.8225  11.35\n",
      "...                ...     ...    ...       ...    ...\n",
      "2021-04-07   26.202643    54.0 -27.80  772.8400  27.80\n",
      "2021-04-08   38.684450    43.0  -4.32   18.6624   4.32\n",
      "2021-04-09   42.040702    54.0 -11.96  143.0416  11.96\n",
      "2021-04-10   47.628209    33.0  14.63  214.0369  14.63\n",
      "2021-04-11   41.544257    38.0   3.54   12.5316   3.54\n",
      "\n",
      "[70 rows x 5 columns]\n"
     ]
    },
    {
     "name": "stderr",
     "output_type": "stream",
     "text": [
      "C:\\Users\\Paul\\anaconda3\\lib\\site-packages\\statsmodels\\tsa\\base\\tsa_model.py:581: ValueWarning: A date index has been provided, but it has no associated frequency information and so will be ignored when e.g. forecasting.\n",
      "  warnings.warn('A date index has been provided, but it has no'\n",
      "C:\\Users\\Paul\\anaconda3\\lib\\site-packages\\statsmodels\\tsa\\base\\tsa_model.py:581: ValueWarning: A date index has been provided, but it has no associated frequency information and so will be ignored when e.g. forecasting.\n",
      "  warnings.warn('A date index has been provided, but it has no'\n"
     ]
    },
    {
     "name": "stdout",
     "output_type": "stream",
     "text": [
      "            prediction  actual  error       mse   rmse\n",
      "Date                                                  \n",
      "2021-02-01   39.293133    57.0 -17.71  313.6441  17.71\n",
      "2021-02-02   48.473481    33.0  15.47  239.3209  15.47\n",
      "2021-02-03   37.727288    27.0  10.73  115.1329  10.73\n",
      "2021-02-04   31.944197    19.0  12.94  167.4436  12.94\n",
      "2021-02-05   25.119615    23.0   2.12    4.4944   2.12\n",
      "...                ...     ...    ...       ...    ...\n",
      "2021-04-07   11.814339    13.0  -1.19    1.4161   1.19\n",
      "2021-04-08   13.764194    14.0  -0.24    0.0576   0.24\n",
      "2021-04-09   15.644795    16.0  -0.36    0.1296   0.36\n",
      "2021-04-10   14.813098    12.0   2.81    7.8961   2.81\n",
      "2021-04-11   12.699175    11.0   1.70    2.8900   1.70\n",
      "\n",
      "[70 rows x 5 columns]\n"
     ]
    },
    {
     "name": "stderr",
     "output_type": "stream",
     "text": [
      "C:\\Users\\Paul\\anaconda3\\lib\\site-packages\\statsmodels\\tsa\\base\\tsa_model.py:581: ValueWarning: A date index has been provided, but it has no associated frequency information and so will be ignored when e.g. forecasting.\n",
      "  warnings.warn('A date index has been provided, but it has no'\n",
      "C:\\Users\\Paul\\anaconda3\\lib\\site-packages\\statsmodels\\tsa\\base\\tsa_model.py:581: ValueWarning: A date index has been provided, but it has no associated frequency information and so will be ignored when e.g. forecasting.\n",
      "  warnings.warn('A date index has been provided, but it has no'\n"
     ]
    },
    {
     "name": "stdout",
     "output_type": "stream",
     "text": [
      "            prediction  actual  error       mse   rmse\n",
      "Date                                                  \n",
      "2021-02-01   52.535222    49.0   3.54   12.5316   3.54\n",
      "2021-02-02   44.155326    47.0  -2.84    8.0656   2.84\n",
      "2021-02-03   41.404103    44.0  -2.60    6.7600   2.60\n",
      "2021-02-04   43.643872    28.0  15.64  244.6096  15.64\n",
      "2021-02-05   37.757506    33.0   4.76   22.6576   4.76\n",
      "...                ...     ...    ...       ...    ...\n",
      "2021-04-07   15.157803    22.0  -6.84   46.7856   6.84\n",
      "2021-04-08   17.373267    30.0 -12.63  159.5169  12.63\n",
      "2021-04-09   23.450436    44.0 -20.55  422.3025  20.55\n",
      "2021-04-10   33.735169    26.0   7.74   59.9076   7.74\n",
      "2021-04-11   36.544152    48.0 -11.46  131.3316  11.46\n",
      "\n",
      "[70 rows x 5 columns]\n"
     ]
    },
    {
     "name": "stderr",
     "output_type": "stream",
     "text": [
      "C:\\Users\\Paul\\anaconda3\\lib\\site-packages\\statsmodels\\tsa\\base\\tsa_model.py:581: ValueWarning: A date index has been provided, but it has no associated frequency information and so will be ignored when e.g. forecasting.\n",
      "  warnings.warn('A date index has been provided, but it has no'\n",
      "C:\\Users\\Paul\\anaconda3\\lib\\site-packages\\statsmodels\\tsa\\base\\tsa_model.py:581: ValueWarning: A date index has been provided, but it has no associated frequency information and so will be ignored when e.g. forecasting.\n",
      "  warnings.warn('A date index has been provided, but it has no'\n"
     ]
    },
    {
     "name": "stdout",
     "output_type": "stream",
     "text": [
      "            prediction  actual  error       mse   rmse\n",
      "Date                                                  \n",
      "2021-02-01   13.219676    11.0   2.22    4.9284   2.22\n",
      "2021-02-02   11.717257    10.0   1.72    2.9584   1.72\n",
      "2021-02-03   11.415335     5.0   6.42   41.2164   6.42\n",
      "2021-02-04   10.177326    10.0   0.18    0.0324   0.18\n",
      "2021-02-05   10.277855     0.0  10.28  105.6784  10.28\n",
      "...                ...     ...    ...       ...    ...\n",
      "2021-04-07    7.018920     8.0  -0.98    0.9604   0.98\n",
      "2021-04-08    7.216902     5.0   2.22    4.9284   2.22\n",
      "2021-04-09    6.523287    24.0 -17.48  305.5504  17.48\n",
      "2021-04-10   11.497480    11.0   0.50    0.2500   0.50\n",
      "2021-04-11    8.777325    10.0  -1.22    1.4884   1.22\n",
      "\n",
      "[70 rows x 5 columns]\n"
     ]
    },
    {
     "name": "stderr",
     "output_type": "stream",
     "text": [
      "C:\\Users\\Paul\\anaconda3\\lib\\site-packages\\statsmodels\\tsa\\base\\tsa_model.py:581: ValueWarning: A date index has been provided, but it has no associated frequency information and so will be ignored when e.g. forecasting.\n",
      "  warnings.warn('A date index has been provided, but it has no'\n",
      "C:\\Users\\Paul\\anaconda3\\lib\\site-packages\\statsmodels\\tsa\\base\\tsa_model.py:581: ValueWarning: A date index has been provided, but it has no associated frequency information and so will be ignored when e.g. forecasting.\n",
      "  warnings.warn('A date index has been provided, but it has no'\n"
     ]
    },
    {
     "name": "stdout",
     "output_type": "stream",
     "text": [
      "            prediction  actual  error       mse   rmse\n",
      "Date                                                  \n",
      "2021-02-01   41.666685    50.0  -8.33   69.3889   8.33\n",
      "2021-02-02   43.691478    36.0   7.69   59.1361   7.69\n",
      "2021-02-03   38.546951    30.0   8.55   73.1025   8.55\n",
      "2021-02-04   35.198227    21.0  14.20  201.6400  14.20\n",
      "2021-02-05   24.711459    20.0   4.71   22.1841   4.71\n",
      "...                ...     ...    ...       ...    ...\n",
      "2021-04-07   17.843820    11.0   6.84   46.7856   6.84\n",
      "2021-04-08   14.106883    15.0  -0.89    0.7921   0.89\n",
      "2021-04-09   13.165109    12.0   1.17    1.3689   1.17\n",
      "2021-04-10   13.313740    16.0  -2.69    7.2361   2.69\n",
      "2021-04-11   15.924311    13.0   2.92    8.5264   2.92\n",
      "\n",
      "[70 rows x 5 columns]\n"
     ]
    },
    {
     "name": "stderr",
     "output_type": "stream",
     "text": [
      "C:\\Users\\Paul\\anaconda3\\lib\\site-packages\\statsmodels\\tsa\\base\\tsa_model.py:581: ValueWarning: A date index has been provided, but it has no associated frequency information and so will be ignored when e.g. forecasting.\n",
      "  warnings.warn('A date index has been provided, but it has no'\n",
      "C:\\Users\\Paul\\anaconda3\\lib\\site-packages\\statsmodels\\tsa\\base\\tsa_model.py:581: ValueWarning: A date index has been provided, but it has no associated frequency information and so will be ignored when e.g. forecasting.\n",
      "  warnings.warn('A date index has been provided, but it has no'\n"
     ]
    },
    {
     "name": "stdout",
     "output_type": "stream",
     "text": [
      "            prediction  actual  error      mse  rmse\n",
      "Date                                                \n",
      "2021-02-01   28.267249    27.0   1.27   1.6129  1.27\n",
      "2021-02-02   25.433017    22.0   3.43  11.7649  3.43\n",
      "2021-02-03   27.515198    29.0  -1.48   2.1904  1.48\n",
      "2021-02-04   26.251016    19.0   7.25  52.5625  7.25\n",
      "2021-02-05   22.768590    25.0  -2.23   4.9729  2.23\n",
      "...                ...     ...    ...      ...   ...\n",
      "2021-04-07   14.029281     8.0   6.03  36.3609  6.03\n",
      "2021-04-08   12.427005     5.0   7.43  55.2049  7.43\n",
      "2021-04-09    8.723721     9.0  -0.28   0.0784  0.28\n",
      "2021-04-10   14.350647     6.0   8.35  69.7225  8.35\n",
      "2021-04-11    6.056109    11.0  -4.94  24.4036  4.94\n",
      "\n",
      "[70 rows x 5 columns]\n"
     ]
    },
    {
     "name": "stderr",
     "output_type": "stream",
     "text": [
      "C:\\Users\\Paul\\anaconda3\\lib\\site-packages\\statsmodels\\tsa\\base\\tsa_model.py:581: ValueWarning: A date index has been provided, but it has no associated frequency information and so will be ignored when e.g. forecasting.\n",
      "  warnings.warn('A date index has been provided, but it has no'\n",
      "C:\\Users\\Paul\\anaconda3\\lib\\site-packages\\statsmodels\\tsa\\base\\tsa_model.py:581: ValueWarning: A date index has been provided, but it has no associated frequency information and so will be ignored when e.g. forecasting.\n",
      "  warnings.warn('A date index has been provided, but it has no'\n"
     ]
    },
    {
     "name": "stdout",
     "output_type": "stream",
     "text": [
      "            prediction  actual  error       mse   rmse\n",
      "Date                                                  \n",
      "2021-02-01   19.790968    36.0 -16.21  262.7641  16.21\n",
      "2021-02-02   25.254011    10.0  15.25  232.5625  15.25\n",
      "2021-02-03   23.054565    18.0   5.05   25.5025   5.05\n",
      "2021-02-04   19.030126     0.0  19.03  362.1409  19.03\n",
      "2021-02-05   17.985866     9.0   8.99   80.8201   8.99\n",
      "...                ...     ...    ...       ...    ...\n",
      "2021-04-07   10.327309    19.0  -8.67   75.1689   8.67\n",
      "2021-04-08    8.872891    24.0 -15.13  228.9169  15.13\n",
      "2021-04-09   12.567309    16.0  -3.43   11.7649   3.43\n",
      "2021-04-10   13.967714    30.0 -16.03  256.9609  16.03\n",
      "2021-04-11   14.403012    22.0  -7.60   57.7600   7.60\n",
      "\n",
      "[70 rows x 5 columns]\n"
     ]
    },
    {
     "name": "stderr",
     "output_type": "stream",
     "text": [
      "C:\\Users\\Paul\\anaconda3\\lib\\site-packages\\statsmodels\\tsa\\base\\tsa_model.py:581: ValueWarning: A date index has been provided, but it has no associated frequency information and so will be ignored when e.g. forecasting.\n",
      "  warnings.warn('A date index has been provided, but it has no'\n",
      "C:\\Users\\Paul\\anaconda3\\lib\\site-packages\\statsmodels\\tsa\\base\\tsa_model.py:581: ValueWarning: A date index has been provided, but it has no associated frequency information and so will be ignored when e.g. forecasting.\n",
      "  warnings.warn('A date index has been provided, but it has no'\n",
      "C:\\Users\\Paul\\anaconda3\\lib\\site-packages\\statsmodels\\base\\model.py:566: ConvergenceWarning: Maximum Likelihood optimization failed to converge. Check mle_retvals\n",
      "  warnings.warn(\"Maximum Likelihood optimization failed to \"\n"
     ]
    },
    {
     "name": "stdout",
     "output_type": "stream",
     "text": [
      "            prediction  actual  error      mse  rmse\n",
      "Date                                                \n",
      "2021-02-01   11.722382    14.0  -2.28   5.1984  2.28\n",
      "2021-02-02   13.282100    15.0  -1.72   2.9584  1.72\n",
      "2021-02-03   13.955429    12.0   1.96   3.8416  1.96\n",
      "2021-02-04   12.482476    10.0   2.48   6.1504  2.48\n",
      "2021-02-05   10.758926    10.0   0.76   0.5776  0.76\n",
      "...                ...     ...    ...      ...   ...\n",
      "2021-04-07   10.428410     7.0   3.43  11.7649  3.43\n",
      "2021-04-08    8.028761     7.0   1.03   1.0609  1.03\n",
      "2021-04-09    7.179897    10.0  -2.82   7.9524  2.82\n",
      "2021-04-10    8.250539     8.0   0.25   0.0625  0.25\n",
      "2021-04-11   10.264525    16.0  -5.74  32.9476  5.74\n",
      "\n",
      "[70 rows x 5 columns]\n"
     ]
    },
    {
     "name": "stderr",
     "output_type": "stream",
     "text": [
      "C:\\Users\\Paul\\anaconda3\\lib\\site-packages\\statsmodels\\tsa\\base\\tsa_model.py:581: ValueWarning: A date index has been provided, but it has no associated frequency information and so will be ignored when e.g. forecasting.\n",
      "  warnings.warn('A date index has been provided, but it has no'\n",
      "C:\\Users\\Paul\\anaconda3\\lib\\site-packages\\statsmodels\\tsa\\base\\tsa_model.py:581: ValueWarning: A date index has been provided, but it has no associated frequency information and so will be ignored when e.g. forecasting.\n",
      "  warnings.warn('A date index has been provided, but it has no'\n"
     ]
    },
    {
     "name": "stdout",
     "output_type": "stream",
     "text": [
      "            prediction  actual  error      mse  rmse\n",
      "Date                                                \n",
      "2021-02-01   41.627478    38.0   3.63  13.1769  3.63\n",
      "2021-02-02   38.269525    36.0   2.27   5.1529  2.27\n",
      "2021-02-03   34.815164    34.0   0.82   0.6724  0.82\n",
      "2021-02-04   33.785841    40.0  -6.21  38.5641  6.21\n",
      "2021-02-05   38.715695    37.0   1.72   2.9584  1.72\n",
      "...                ...     ...    ...      ...   ...\n",
      "2021-04-07    7.806349    11.0  -3.19  10.1761  3.19\n",
      "2021-04-08   13.004411    14.0  -1.00   1.0000  1.00\n",
      "2021-04-09   13.228099    18.0  -4.77  22.7529  4.77\n",
      "2021-04-10   17.269931    11.0   6.27  39.3129  6.27\n",
      "2021-04-11   12.471110    10.0   2.47   6.1009  2.47\n",
      "\n",
      "[70 rows x 5 columns]\n"
     ]
    },
    {
     "name": "stderr",
     "output_type": "stream",
     "text": [
      "C:\\Users\\Paul\\anaconda3\\lib\\site-packages\\statsmodels\\tsa\\base\\tsa_model.py:581: ValueWarning: A date index has been provided, but it has no associated frequency information and so will be ignored when e.g. forecasting.\n",
      "  warnings.warn('A date index has been provided, but it has no'\n",
      "C:\\Users\\Paul\\anaconda3\\lib\\site-packages\\statsmodels\\tsa\\base\\tsa_model.py:581: ValueWarning: A date index has been provided, but it has no associated frequency information and so will be ignored when e.g. forecasting.\n",
      "  warnings.warn('A date index has been provided, but it has no'\n"
     ]
    },
    {
     "name": "stdout",
     "output_type": "stream",
     "text": [
      "            prediction  actual  error       mse   rmse\n",
      "Date                                                  \n",
      "2021-02-01   24.523342    28.0  -3.48   12.1104   3.48\n",
      "2021-02-02   24.119136    10.0  14.12  199.3744  14.12\n",
      "2021-02-03   16.645332    18.0  -1.35    1.8225   1.35\n",
      "2021-02-04   16.415658    19.0  -2.58    6.6564   2.58\n",
      "2021-02-05   18.525656     6.0  12.53  157.0009  12.53\n",
      "...                ...     ...    ...       ...    ...\n",
      "2021-04-07    7.452570     8.0  -0.55    0.3025   0.55\n",
      "2021-04-08    7.777884     7.0   0.78    0.6084   0.78\n",
      "2021-04-09    7.810694     6.0   1.81    3.2761   1.81\n",
      "2021-04-10    5.883550     7.0  -1.12    1.2544   1.12\n",
      "2021-04-11   10.866034    10.0   0.87    0.7569   0.87\n",
      "\n",
      "[70 rows x 5 columns]\n"
     ]
    },
    {
     "name": "stderr",
     "output_type": "stream",
     "text": [
      "C:\\Users\\Paul\\anaconda3\\lib\\site-packages\\statsmodels\\tsa\\base\\tsa_model.py:581: ValueWarning: A date index has been provided, but it has no associated frequency information and so will be ignored when e.g. forecasting.\n",
      "  warnings.warn('A date index has been provided, but it has no'\n",
      "C:\\Users\\Paul\\anaconda3\\lib\\site-packages\\statsmodels\\tsa\\base\\tsa_model.py:581: ValueWarning: A date index has been provided, but it has no associated frequency information and so will be ignored when e.g. forecasting.\n",
      "  warnings.warn('A date index has been provided, but it has no'\n"
     ]
    },
    {
     "name": "stdout",
     "output_type": "stream",
     "text": [
      "            prediction  actual  error       mse   rmse\n",
      "Date                                                  \n",
      "2021-02-01   16.920323    24.0  -7.08   50.1264   7.08\n",
      "2021-02-02   16.711400    15.0   1.71    2.9241   1.71\n",
      "2021-02-03   16.081564    22.0  -5.92   35.0464   5.92\n",
      "2021-02-04   17.112256    18.0  -0.89    0.7921   0.89\n",
      "2021-02-05   18.779598    27.0  -8.22   67.5684   8.22\n",
      "...                ...     ...    ...       ...    ...\n",
      "2021-04-07    9.965238    12.0  -2.03    4.1209   2.03\n",
      "2021-04-08    9.744260    15.0  -5.26   27.6676   5.26\n",
      "2021-04-09   11.945297    13.0  -1.05    1.1025   1.05\n",
      "2021-04-10   11.435646     1.0  10.44  108.9936  10.44\n",
      "2021-04-11    9.764819     6.0   3.76   14.1376   3.76\n",
      "\n",
      "[70 rows x 5 columns]\n"
     ]
    },
    {
     "name": "stderr",
     "output_type": "stream",
     "text": [
      "C:\\Users\\Paul\\anaconda3\\lib\\site-packages\\statsmodels\\tsa\\base\\tsa_model.py:581: ValueWarning: A date index has been provided, but it has no associated frequency information and so will be ignored when e.g. forecasting.\n",
      "  warnings.warn('A date index has been provided, but it has no'\n",
      "C:\\Users\\Paul\\anaconda3\\lib\\site-packages\\statsmodels\\tsa\\base\\tsa_model.py:581: ValueWarning: A date index has been provided, but it has no associated frequency information and so will be ignored when e.g. forecasting.\n",
      "  warnings.warn('A date index has been provided, but it has no'\n"
     ]
    },
    {
     "name": "stdout",
     "output_type": "stream",
     "text": [
      "            prediction  actual  error      mse  rmse\n",
      "Date                                                \n",
      "2021-02-01   31.669640    39.0  -7.33  53.7289  7.33\n",
      "2021-02-02   33.812275    38.0  -4.19  17.5561  4.19\n",
      "2021-02-03   34.995180    32.0   3.00   9.0000  3.00\n",
      "2021-02-04   33.857449    39.0  -5.14  26.4196  5.14\n",
      "2021-02-05   36.693120    30.0   6.69  44.7561  6.69\n",
      "...                ...     ...    ...      ...   ...\n",
      "2021-04-07   12.796432    16.0  -3.20  10.2400  3.20\n",
      "2021-04-08   13.961074    13.0   0.96   0.9216  0.96\n",
      "2021-04-09   14.562992    18.0  -3.44  11.8336  3.44\n",
      "2021-04-10   14.184770     9.0   5.18  26.8324  5.18\n",
      "2021-04-11   13.224375    15.0  -1.78   3.1684  1.78\n",
      "\n",
      "[70 rows x 5 columns]\n"
     ]
    },
    {
     "name": "stderr",
     "output_type": "stream",
     "text": [
      "C:\\Users\\Paul\\anaconda3\\lib\\site-packages\\statsmodels\\tsa\\base\\tsa_model.py:581: ValueWarning: A date index has been provided, but it has no associated frequency information and so will be ignored when e.g. forecasting.\n",
      "  warnings.warn('A date index has been provided, but it has no'\n",
      "C:\\Users\\Paul\\anaconda3\\lib\\site-packages\\statsmodels\\tsa\\base\\tsa_model.py:581: ValueWarning: A date index has been provided, but it has no associated frequency information and so will be ignored when e.g. forecasting.\n",
      "  warnings.warn('A date index has been provided, but it has no'\n"
     ]
    },
    {
     "name": "stdout",
     "output_type": "stream",
     "text": [
      "            prediction  actual  error       mse   rmse\n",
      "Date                                                  \n",
      "2021-02-01   24.113594    28.0  -3.89   15.1321   3.89\n",
      "2021-02-02   23.172249    32.0  -8.83   77.9689   8.83\n",
      "2021-02-03   26.112895    20.0   6.11   37.3321   6.11\n",
      "2021-02-04   23.483946    29.0  -5.52   30.4704   5.52\n",
      "2021-02-05   28.868009    26.0   2.87    8.2369   2.87\n",
      "...                ...     ...    ...       ...    ...\n",
      "2021-04-07   15.767175    27.0 -11.23  126.1129  11.23\n",
      "2021-04-08   22.357722    23.0  -0.64    0.4096   0.64\n",
      "2021-04-09   22.955852    26.0  -3.04    9.2416   3.04\n",
      "2021-04-10   23.368024    23.0   0.37    0.1369   0.37\n",
      "2021-04-11   26.131722    20.0   6.13   37.5769   6.13\n",
      "\n",
      "[70 rows x 5 columns]\n"
     ]
    },
    {
     "name": "stderr",
     "output_type": "stream",
     "text": [
      "C:\\Users\\Paul\\anaconda3\\lib\\site-packages\\statsmodels\\tsa\\base\\tsa_model.py:581: ValueWarning: A date index has been provided, but it has no associated frequency information and so will be ignored when e.g. forecasting.\n",
      "  warnings.warn('A date index has been provided, but it has no'\n",
      "C:\\Users\\Paul\\anaconda3\\lib\\site-packages\\statsmodels\\tsa\\base\\tsa_model.py:581: ValueWarning: A date index has been provided, but it has no associated frequency information and so will be ignored when e.g. forecasting.\n",
      "  warnings.warn('A date index has been provided, but it has no'\n"
     ]
    },
    {
     "name": "stdout",
     "output_type": "stream",
     "text": [
      "            prediction  actual  error      mse  rmse\n",
      "Date                                                \n",
      "2021-02-01    4.874201     5.0  -0.13   0.0169  0.13\n",
      "2021-02-02    4.887030    11.0  -6.11  37.3321  6.11\n",
      "2021-02-03    6.214920     8.0  -1.79   3.2041  1.79\n",
      "2021-02-04    5.863059     7.0  -1.14   1.2996  1.14\n",
      "2021-02-05    5.239464     0.0   5.24  27.4576  5.24\n",
      "...                ...     ...    ...      ...   ...\n",
      "2021-04-07    4.094339     0.0   4.09  16.7281  4.09\n",
      "2021-04-08    2.823711     0.0   2.82   7.9524  2.82\n",
      "2021-04-09    1.856869     3.0  -1.14   1.2996  1.14\n",
      "2021-04-10    1.342071     0.0   1.34   1.7956  1.34\n",
      "2021-04-11    3.637992     0.0   3.64  13.2496  3.64\n",
      "\n",
      "[70 rows x 5 columns]\n"
     ]
    },
    {
     "name": "stderr",
     "output_type": "stream",
     "text": [
      "C:\\Users\\Paul\\anaconda3\\lib\\site-packages\\statsmodels\\tsa\\base\\tsa_model.py:581: ValueWarning: A date index has been provided, but it has no associated frequency information and so will be ignored when e.g. forecasting.\n",
      "  warnings.warn('A date index has been provided, but it has no'\n",
      "C:\\Users\\Paul\\anaconda3\\lib\\site-packages\\statsmodels\\tsa\\base\\tsa_model.py:581: ValueWarning: A date index has been provided, but it has no associated frequency information and so will be ignored when e.g. forecasting.\n",
      "  warnings.warn('A date index has been provided, but it has no'\n"
     ]
    },
    {
     "name": "stdout",
     "output_type": "stream",
     "text": [
      "            prediction  actual  error        mse   rmse\n",
      "Date                                                   \n",
      "2021-02-01   58.031115    40.0  18.03   325.0809  18.03\n",
      "2021-02-02   47.526732    65.0 -17.47   305.2009  17.47\n",
      "2021-02-03   57.179891    61.0  -3.82    14.5924   3.82\n",
      "2021-02-04   57.987528    60.0  -2.01     4.0401   2.01\n",
      "2021-02-05   61.911179    53.0   8.91    79.3881   8.91\n",
      "...                ...     ...    ...        ...    ...\n",
      "2021-04-07   30.785567    25.0   5.79    33.5241   5.79\n",
      "2021-04-08   29.478945    40.0 -10.52   110.6704  10.52\n",
      "2021-04-09   33.026074    65.0 -31.97  1022.0809  31.97\n",
      "2021-04-10   43.753053    41.0   2.75     7.5625   2.75\n",
      "2021-04-11   43.677041    44.0  -0.32     0.1024   0.32\n",
      "\n",
      "[70 rows x 5 columns]\n"
     ]
    },
    {
     "name": "stderr",
     "output_type": "stream",
     "text": [
      "C:\\Users\\Paul\\anaconda3\\lib\\site-packages\\statsmodels\\tsa\\base\\tsa_model.py:581: ValueWarning: A date index has been provided, but it has no associated frequency information and so will be ignored when e.g. forecasting.\n",
      "  warnings.warn('A date index has been provided, but it has no'\n",
      "C:\\Users\\Paul\\anaconda3\\lib\\site-packages\\statsmodels\\tsa\\base\\tsa_model.py:581: ValueWarning: A date index has been provided, but it has no associated frequency information and so will be ignored when e.g. forecasting.\n",
      "  warnings.warn('A date index has been provided, but it has no'\n"
     ]
    },
    {
     "name": "stdout",
     "output_type": "stream",
     "text": [
      "            prediction  actual  error       mse   rmse\n",
      "Date                                                  \n",
      "2021-02-01   40.653189    53.0 -12.35  152.5225  12.35\n",
      "2021-02-02   45.921370    29.0  16.92  286.2864  16.92\n",
      "2021-02-03   35.313033    21.0  14.31  204.7761  14.31\n",
      "2021-02-04   27.553560    30.0  -2.45    6.0025   2.45\n",
      "2021-02-05   30.396147    11.0  19.40  376.3600  19.40\n",
      "...                ...     ...    ...       ...    ...\n",
      "2021-04-07   13.992880    12.0   1.99    3.9601   1.99\n",
      "2021-04-08   14.122538    13.0   1.12    1.2544   1.12\n",
      "2021-04-09   13.844368    14.0  -0.16    0.0256   0.16\n",
      "2021-04-10   13.467629    12.0   1.47    2.1609   1.47\n",
      "2021-04-11   13.774220    12.0   1.77    3.1329   1.77\n",
      "\n",
      "[70 rows x 5 columns]\n"
     ]
    },
    {
     "name": "stderr",
     "output_type": "stream",
     "text": [
      "C:\\Users\\Paul\\anaconda3\\lib\\site-packages\\statsmodels\\tsa\\base\\tsa_model.py:581: ValueWarning: A date index has been provided, but it has no associated frequency information and so will be ignored when e.g. forecasting.\n",
      "  warnings.warn('A date index has been provided, but it has no'\n",
      "C:\\Users\\Paul\\anaconda3\\lib\\site-packages\\statsmodels\\tsa\\base\\tsa_model.py:581: ValueWarning: A date index has been provided, but it has no associated frequency information and so will be ignored when e.g. forecasting.\n",
      "  warnings.warn('A date index has been provided, but it has no'\n"
     ]
    },
    {
     "name": "stdout",
     "output_type": "stream",
     "text": [
      "            prediction  actual  error       mse   rmse\n",
      "Date                                                  \n",
      "2021-02-01   27.426281    43.0 -15.57  242.4249  15.57\n",
      "2021-02-02   28.968509    19.0   9.97   99.4009   9.97\n",
      "2021-02-03   24.986436    26.0  -1.01    1.0201   1.01\n",
      "2021-02-04   25.317342    22.0   3.32   11.0224   3.32\n",
      "2021-02-05   26.871711    24.0   2.87    8.2369   2.87\n",
      "...                ...     ...    ...       ...    ...\n",
      "2021-04-07   15.832529    11.0   4.83   23.3289   4.83\n",
      "2021-04-08   12.746538    28.0 -15.25  232.5625  15.25\n",
      "2021-04-09   19.685456    12.0   7.69   59.1361   7.69\n",
      "2021-04-10   17.750955    11.0   6.75   45.5625   6.75\n",
      "2021-04-11   14.797820    12.0   2.80    7.8400   2.80\n",
      "\n",
      "[70 rows x 5 columns]\n"
     ]
    },
    {
     "name": "stderr",
     "output_type": "stream",
     "text": [
      "C:\\Users\\Paul\\anaconda3\\lib\\site-packages\\statsmodels\\tsa\\base\\tsa_model.py:581: ValueWarning: A date index has been provided, but it has no associated frequency information and so will be ignored when e.g. forecasting.\n",
      "  warnings.warn('A date index has been provided, but it has no'\n",
      "C:\\Users\\Paul\\anaconda3\\lib\\site-packages\\statsmodels\\tsa\\base\\tsa_model.py:581: ValueWarning: A date index has been provided, but it has no associated frequency information and so will be ignored when e.g. forecasting.\n",
      "  warnings.warn('A date index has been provided, but it has no'\n"
     ]
    },
    {
     "name": "stdout",
     "output_type": "stream",
     "text": [
      "            prediction  actual  error       mse   rmse\n",
      "Date                                                  \n",
      "2021-02-01   26.677351    30.0  -3.32   11.0224   3.32\n",
      "2021-02-02   28.230647    31.0  -2.77    7.6729   2.77\n",
      "2021-02-03   27.723611    17.0  10.72  114.9184  10.72\n",
      "2021-02-04   26.170387    13.0  13.17  173.4489  13.17\n",
      "2021-02-05   22.327175     7.0  15.33  235.0089  15.33\n",
      "...                ...     ...    ...       ...    ...\n",
      "2021-04-07    6.794973     7.0  -0.21    0.0441   0.21\n",
      "2021-04-08    7.482014     6.0   1.48    2.1904   1.48\n",
      "2021-04-09    5.805076    21.0 -15.19  230.7361  15.19\n",
      "2021-04-10   10.157674     3.0   7.16   51.2656   7.16\n",
      "2021-04-11    8.415234    10.0  -1.58    2.4964   1.58\n",
      "\n",
      "[70 rows x 5 columns]\n"
     ]
    },
    {
     "name": "stderr",
     "output_type": "stream",
     "text": [
      "C:\\Users\\Paul\\anaconda3\\lib\\site-packages\\statsmodels\\tsa\\base\\tsa_model.py:581: ValueWarning: A date index has been provided, but it has no associated frequency information and so will be ignored when e.g. forecasting.\n",
      "  warnings.warn('A date index has been provided, but it has no'\n",
      "C:\\Users\\Paul\\anaconda3\\lib\\site-packages\\statsmodels\\tsa\\base\\tsa_model.py:581: ValueWarning: A date index has been provided, but it has no associated frequency information and so will be ignored when e.g. forecasting.\n",
      "  warnings.warn('A date index has been provided, but it has no'\n"
     ]
    },
    {
     "name": "stdout",
     "output_type": "stream",
     "text": [
      "            prediction  actual  error       mse   rmse\n",
      "Date                                                  \n",
      "2021-02-01   75.370418    82.0  -6.63   43.9569   6.63\n",
      "2021-02-02   78.814770    74.0   4.81   23.1361   4.81\n",
      "2021-02-03   75.430915    70.0   5.43   29.4849   5.43\n",
      "2021-02-04   72.412270    59.0  13.41  179.8281  13.41\n",
      "2021-02-05   64.578927    65.0  -0.42    0.1764   0.42\n",
      "...                ...     ...    ...       ...    ...\n",
      "2021-04-07   12.113587    25.0 -12.89  166.1521  12.89\n",
      "2021-04-08   21.675024    22.0  -0.32    0.1024   0.32\n",
      "2021-04-09   21.013048    23.0  -1.99    3.9601   1.99\n",
      "2021-04-10   21.694208    21.0   0.69    0.4761   0.69\n",
      "2021-04-11   24.028383    23.0   1.03    1.0609   1.03\n",
      "\n",
      "[70 rows x 5 columns]\n"
     ]
    }
   ],
   "source": [
    "for m in meter_ids:\n",
    "    df = pd.read_csv('CharlestownAllWithDate3.csv', header=0, sep='[,]', parse_dates=True, squeeze=True, dayfirst=True, engine='python')\n",
    "    df['Date'] = pd.to_datetime(df['Date'], dayfirst=True)\n",
    "    y = df.set_index(['Date'])\n",
    "    y = y.loc[y['MeterNo'] == m]\n",
    "    y.drop(y.columns[[1]], axis = 1, inplace = True)\n",
    "    #print(y)\n",
    "    mod = sm.tsa.statespace.SARIMAX(y,\n",
    "                                order=(0, 1, 1),\n",
    "                                seasonal_order=(1, 1, 1, 7),\n",
    "                                enforce_stationarity=False,\n",
    "                                enforce_invertibility=False)\n",
    "    results = mod.fit()\n",
    "    pred = results.get_prediction(start=pd.to_datetime(pred_date), dynamic=False)\n",
    "    y_forecasted = pred.predicted_mean\n",
    "    y_forecasted =y_forecasted.to_frame()\n",
    "    y_truth = y[pred_date:]\n",
    "    #mse = ((y_forecasted - y_truth) ** 2)\n",
    "    df1 = merge(y_forecasted, y_truth, left_index=True, right_index=True)\n",
    "    df1.columns =['prediction', 'actual']\n",
    "    df1['error'] = round(((df1['prediction'] - df1['actual'])),2)\n",
    "    df1['mse'] = df1['error'] ** 2\n",
    "    df1['rmse'] = round(np.sqrt(df1['mse']),2)\n",
    "    print(df1)\n",
    "    df2 = df2.append(df1)"
   ]
  },
  {
   "cell_type": "code",
   "execution_count": 7,
   "metadata": {},
   "outputs": [
    {
     "data": {
      "text/html": [
       "<div>\n",
       "<style scoped>\n",
       "    .dataframe tbody tr th:only-of-type {\n",
       "        vertical-align: middle;\n",
       "    }\n",
       "\n",
       "    .dataframe tbody tr th {\n",
       "        vertical-align: top;\n",
       "    }\n",
       "\n",
       "    .dataframe thead th {\n",
       "        text-align: right;\n",
       "    }\n",
       "</style>\n",
       "<table border=\"1\" class=\"dataframe\">\n",
       "  <thead>\n",
       "    <tr style=\"text-align: right;\">\n",
       "      <th></th>\n",
       "      <th>prediction</th>\n",
       "      <th>actual</th>\n",
       "      <th>error</th>\n",
       "      <th>mse</th>\n",
       "      <th>rmse</th>\n",
       "    </tr>\n",
       "  </thead>\n",
       "  <tbody>\n",
       "    <tr>\n",
       "      <th>min</th>\n",
       "      <td>-2.811029</td>\n",
       "      <td>0.000000</td>\n",
       "      <td>-70.980000</td>\n",
       "      <td>0.000000</td>\n",
       "      <td>0.000000</td>\n",
       "    </tr>\n",
       "    <tr>\n",
       "      <th>max</th>\n",
       "      <td>97.907475</td>\n",
       "      <td>103.000000</td>\n",
       "      <td>50.670000</td>\n",
       "      <td>5038.160400</td>\n",
       "      <td>70.980000</td>\n",
       "    </tr>\n",
       "    <tr>\n",
       "      <th>mean</th>\n",
       "      <td>16.618180</td>\n",
       "      <td>16.314338</td>\n",
       "      <td>0.303825</td>\n",
       "      <td>42.446427</td>\n",
       "      <td>4.332457</td>\n",
       "    </tr>\n",
       "    <tr>\n",
       "      <th>sum</th>\n",
       "      <td>319899.968550</td>\n",
       "      <td>314051.000000</td>\n",
       "      <td>5848.640000</td>\n",
       "      <td>817093.714200</td>\n",
       "      <td>83399.800000</td>\n",
       "    </tr>\n",
       "    <tr>\n",
       "      <th>count</th>\n",
       "      <td>19250.000000</td>\n",
       "      <td>19250.000000</td>\n",
       "      <td>19250.000000</td>\n",
       "      <td>19250.000000</td>\n",
       "      <td>19250.000000</td>\n",
       "    </tr>\n",
       "  </tbody>\n",
       "</table>\n",
       "</div>"
      ],
      "text/plain": [
       "          prediction         actual         error            mse          rmse\n",
       "min        -2.811029       0.000000    -70.980000       0.000000      0.000000\n",
       "max        97.907475     103.000000     50.670000    5038.160400     70.980000\n",
       "mean       16.618180      16.314338      0.303825      42.446427      4.332457\n",
       "sum    319899.968550  314051.000000   5848.640000  817093.714200  83399.800000\n",
       "count   19250.000000   19250.000000  19250.000000   19250.000000  19250.000000"
      ]
     },
     "execution_count": 7,
     "metadata": {},
     "output_type": "execute_result"
    }
   ],
   "source": [
    "def Summary(x):\n",
    "    return Series(index=['min','max', 'mean','sum','count'],data=[x.min(),x.max(),x.mean(),x.sum(),x.count()])\n",
    "df2.apply(Summary)"
   ]
  },
  {
   "cell_type": "code",
   "execution_count": 8,
   "metadata": {},
   "outputs": [],
   "source": [
    "df2.drop(df2.columns[[2,3,4]], axis = 1, inplace = True)\n"
   ]
  },
  {
   "cell_type": "code",
   "execution_count": 9,
   "metadata": {},
   "outputs": [],
   "source": [
    "df3 = df2.groupby(df2.index)['prediction','actual'].sum()"
   ]
  },
  {
   "cell_type": "code",
   "execution_count": 10,
   "metadata": {},
   "outputs": [
    {
     "name": "stdout",
     "output_type": "stream",
     "text": [
      "                      prediction  actual    error           mse     rmse  \\\n",
      "2021-02-01 00:00:00  5660.232267  6196.0  -535.77  2.870495e+05   535.77   \n",
      "2021-02-02 00:00:00  5859.005286  5635.0   224.01  5.018048e+04   224.01   \n",
      "2021-02-03 00:00:00  5662.954494  5163.0   499.95  2.499500e+05   499.95   \n",
      "2021-02-04 00:00:00  5432.666491  4432.0  1000.67  1.001340e+06  1000.67   \n",
      "2021-02-05 00:00:00  5069.145552  4379.0   690.15  4.763070e+05   690.15   \n",
      "...                          ...     ...      ...           ...      ...   \n",
      "2021-04-08 00:00:00  3543.596281  4075.0  -531.40  2.823860e+05   531.40   \n",
      "2021-04-09 00:00:00  3835.002882  3925.0   -90.00  8.100000e+03    90.00   \n",
      "2021-04-10 00:00:00  3880.738111  3719.0   161.74  2.615983e+04   161.74   \n",
      "2021-04-11 00:00:00  3957.628724  4044.0   -86.37  7.459777e+03    86.37   \n",
      "Date                    0.000000     0.0     0.00  0.000000e+00     0.00   \n",
      "\n",
      "                        %error  \n",
      "2021-02-01 00:00:00  -8.647030  \n",
      "2021-02-02 00:00:00   3.975333  \n",
      "2021-02-03 00:00:00   9.683324  \n",
      "2021-02-04 00:00:00  22.578294  \n",
      "2021-02-05 00:00:00  15.760448  \n",
      "...                        ...  \n",
      "2021-04-08 00:00:00 -13.040491  \n",
      "2021-04-09 00:00:00  -2.292994  \n",
      "2021-04-10 00:00:00   4.349019  \n",
      "2021-04-11 00:00:00  -2.135757  \n",
      "Date                       NaN  \n",
      "\n",
      "[71 rows x 6 columns]\n"
     ]
    }
   ],
   "source": [
    "df3['error'] = round(((df3['prediction'] - df3['actual'])),2)\n",
    "df3['mse'] = df3['error'] ** 2\n",
    "df3['rmse'] = round(np.sqrt(df3['mse']),2)\n",
    "df3['%error'] = (df3['error']/df3['actual'])*100\n",
    "print(df3)\n",
    "df3.to_csv('CHL_SARIMA_AllMeters_ByDate_NoGaps.csv')"
   ]
  },
  {
   "cell_type": "code",
   "execution_count": 11,
   "metadata": {},
   "outputs": [
    {
     "data": {
      "text/html": [
       "<div>\n",
       "<style scoped>\n",
       "    .dataframe tbody tr th:only-of-type {\n",
       "        vertical-align: middle;\n",
       "    }\n",
       "\n",
       "    .dataframe tbody tr th {\n",
       "        vertical-align: top;\n",
       "    }\n",
       "\n",
       "    .dataframe thead th {\n",
       "        text-align: right;\n",
       "    }\n",
       "</style>\n",
       "<table border=\"1\" class=\"dataframe\">\n",
       "  <thead>\n",
       "    <tr style=\"text-align: right;\">\n",
       "      <th></th>\n",
       "      <th>prediction</th>\n",
       "      <th>actual</th>\n",
       "      <th>error</th>\n",
       "      <th>mse</th>\n",
       "      <th>rmse</th>\n",
       "      <th>%error</th>\n",
       "    </tr>\n",
       "  </thead>\n",
       "  <tbody>\n",
       "    <tr>\n",
       "      <th>min</th>\n",
       "      <td>0.000000</td>\n",
       "      <td>0.000000</td>\n",
       "      <td>-1516.830000</td>\n",
       "      <td>0.000000e+00</td>\n",
       "      <td>0.000000</td>\n",
       "      <td>-22.919764</td>\n",
       "    </tr>\n",
       "    <tr>\n",
       "      <th>max</th>\n",
       "      <td>8207.525681</td>\n",
       "      <td>8628.000000</td>\n",
       "      <td>1968.160000</td>\n",
       "      <td>3.873654e+06</td>\n",
       "      <td>1968.160000</td>\n",
       "      <td>37.531655</td>\n",
       "    </tr>\n",
       "    <tr>\n",
       "      <th>mean</th>\n",
       "      <td>4505.633360</td>\n",
       "      <td>4423.253521</td>\n",
       "      <td>82.380423</td>\n",
       "      <td>3.421994e+05</td>\n",
       "      <td>433.621268</td>\n",
       "      <td>2.941582</td>\n",
       "    </tr>\n",
       "    <tr>\n",
       "      <th>sum</th>\n",
       "      <td>319899.968550</td>\n",
       "      <td>314051.000000</td>\n",
       "      <td>5849.010000</td>\n",
       "      <td>2.429616e+07</td>\n",
       "      <td>30787.110000</td>\n",
       "      <td>205.910728</td>\n",
       "    </tr>\n",
       "    <tr>\n",
       "      <th>count</th>\n",
       "      <td>71.000000</td>\n",
       "      <td>71.000000</td>\n",
       "      <td>71.000000</td>\n",
       "      <td>7.100000e+01</td>\n",
       "      <td>71.000000</td>\n",
       "      <td>70.000000</td>\n",
       "    </tr>\n",
       "  </tbody>\n",
       "</table>\n",
       "</div>"
      ],
      "text/plain": [
       "          prediction         actual        error           mse          rmse  \\\n",
       "min         0.000000       0.000000 -1516.830000  0.000000e+00      0.000000   \n",
       "max      8207.525681    8628.000000  1968.160000  3.873654e+06   1968.160000   \n",
       "mean     4505.633360    4423.253521    82.380423  3.421994e+05    433.621268   \n",
       "sum    319899.968550  314051.000000  5849.010000  2.429616e+07  30787.110000   \n",
       "count      71.000000      71.000000    71.000000  7.100000e+01     71.000000   \n",
       "\n",
       "           %error  \n",
       "min    -22.919764  \n",
       "max     37.531655  \n",
       "mean     2.941582  \n",
       "sum    205.910728  \n",
       "count   70.000000  "
      ]
     },
     "execution_count": 11,
     "metadata": {},
     "output_type": "execute_result"
    }
   ],
   "source": [
    "df3.apply(Summary)\n"
   ]
  },
  {
   "cell_type": "code",
   "execution_count": 12,
   "metadata": {},
   "outputs": [
    {
     "data": {
      "text/plain": [
       "prediction      4505.633360\n",
       "actual          4423.253521\n",
       "error             82.380423\n",
       "mse           342199.434565\n",
       "rmse             433.621268\n",
       "%error             2.941582\n",
       "dtype: float64"
      ]
     },
     "execution_count": 12,
     "metadata": {},
     "output_type": "execute_result"
    }
   ],
   "source": [
    "df4 = df3.mean()\n",
    "df4"
   ]
  }
 ],
 "metadata": {
  "kernelspec": {
   "display_name": "Python 3",
   "language": "python",
   "name": "python3"
  },
  "language_info": {
   "codemirror_mode": {
    "name": "ipython",
    "version": 3
   },
   "file_extension": ".py",
   "mimetype": "text/x-python",
   "name": "python",
   "nbconvert_exporter": "python",
   "pygments_lexer": "ipython3",
   "version": "3.8.5"
  }
 },
 "nbformat": 4,
 "nbformat_minor": 2
}
