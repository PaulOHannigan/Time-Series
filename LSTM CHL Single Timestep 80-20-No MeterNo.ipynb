{
 "cells": [
  {
   "cell_type": "markdown",
   "metadata": {},
   "source": [
    "# Multivariate Time Series Forecasting with LSTMs in Keras\n",
    "#### Reference: https://machinelearningmastery.com/multivariate-time-series-forecasting-lstms-keras/"
   ]
  },
  {
   "cell_type": "markdown",
   "metadata": {},
   "source": [
    "### Train On Single Lag Timestep - All meters 80:20 split - No Meter No"
   ]
  },
  {
   "cell_type": "code",
   "execution_count": 1,
   "metadata": {},
   "outputs": [
    {
     "name": "stderr",
     "output_type": "stream",
     "text": [
      "Using TensorFlow backend.\n"
     ]
    }
   ],
   "source": [
    "from math import sqrt\n",
    "from numpy import concatenate, savetxt\n",
    "from matplotlib import pyplot\n",
    "from pandas import read_csv, DataFrame, concat\n",
    "from sklearn.preprocessing import MinMaxScaler, LabelEncoder\n",
    "from sklearn.metrics import mean_squared_error\n",
    "from keras.models import Sequential\n",
    "from keras.layers import Dense, LSTM\n"
   ]
  },
  {
   "cell_type": "code",
   "execution_count": 2,
   "metadata": {},
   "outputs": [],
   "source": [
    "# convert series to supervised learning\n",
    "def series_to_supervised(data, n_in=1, n_out=1, dropnan=True):\n",
    "\tn_vars = 1 if type(data) is list else data.shape[1]\n",
    "\tdf = DataFrame(data)\n",
    "\tcols, names = list(), list()\n",
    "\t# input sequence (t-n, ... t-1)\n",
    "\tfor i in range(n_in, 0, -1):\n",
    "\t\tcols.append(df.shift(i))\n",
    "\t\tnames += [('var%d(t-%d)' % (j+1, i)) for j in range(n_vars)]\n",
    "\t# forecast sequence (t, t+1, ... t+n)\n",
    "\tfor i in range(0, n_out):\n",
    "\t\tcols.append(df.shift(-i))\n",
    "\t\tif i == 0:\n",
    "\t\t\tnames += [('var%d(t)' % (j+1)) for j in range(n_vars)]\n",
    "\t\telse:\n",
    "\t\t\tnames += [('var%d(t+%d)' % (j+1, i)) for j in range(n_vars)]\n",
    "\t# put it all together\n",
    "\tagg = concat(cols, axis=1)\n",
    "\tagg.columns = names\n",
    "\t# drop rows with NaN values\n",
    "\tif dropnan:\n",
    "\t\tagg.dropna(inplace=True)\n",
    "\treturn agg\n",
    " \n"
   ]
  },
  {
   "cell_type": "code",
   "execution_count": 3,
   "metadata": {},
   "outputs": [
    {
     "name": "stdout",
     "output_type": "stream",
     "text": [
      "   kWh      Temp  NoBeds  Area_m2  Const_Year  Month  Weekday  Daytime  \\\n",
      "0  3.0  8.487500     2.0     73.0      2007.0      4        3        0   \n",
      "1  4.0  9.904167     2.0     73.0      2007.0      4        4        0   \n",
      "2  7.0  7.854167     2.0     73.0      2007.0      4        5        0   \n",
      "3  8.0  8.250000     2.0     73.0      2007.0      4        6        0   \n",
      "4  8.0  8.341667     2.0     73.0      2007.0      4        0        0   \n",
      "\n",
      "   Holiday  \n",
      "0        0  \n",
      "1        0  \n",
      "2        0  \n",
      "3        0  \n",
      "4        0  \n",
      "   var1(t-1)  var2(t-1)  var3(t-1)  var4(t-1)  var5(t-1)  var6(t-1)  \\\n",
      "0   0.237624   0.646405        0.5   0.472727        0.0   0.454545   \n",
      "1   0.198020   0.613691        0.5   0.472727        0.0   0.818182   \n",
      "2   0.405941   0.436995        0.5   0.472727        0.0   0.000000   \n",
      "3   0.445545   0.000000        0.5   0.472727        0.0   0.000000   \n",
      "4   0.207921   0.339055        0.5   0.472727        0.0   0.909091   \n",
      "\n",
      "   var7(t-1)  var8(t-1)  var9(t-1)   var1(t)  \n",
      "0   0.333333        0.0        0.0  0.267327  \n",
      "1   0.166667        0.0        0.0  0.198020  \n",
      "2   0.666667        0.0        0.0  0.396040  \n",
      "3   0.833333        0.0        0.0  0.326733  \n",
      "4   0.333333        0.0        0.0  0.287129  \n"
     ]
    }
   ],
   "source": [
    "# load dataset\n",
    "#dataset = read_csv('DFS04690650Rand.txt', header=0, index_col=0)\n",
    "dataset = read_csv('Charlestown80.csv', header=0, sep='[,]', parse_dates=True, squeeze=True, dayfirst=True, engine='python') \n",
    "dataset.drop(dataset.columns[[0,2]], axis = 1, inplace = True)\n",
    "values80 = dataset.values\n",
    "print(dataset.head())\n",
    "# ensure all data is float\n",
    "values80 = values80.astype('float32')\n",
    "#savetxt('CharlestownValues.csv', values, delimiter=',')\n",
    "# normalize features\n",
    "scaler = MinMaxScaler(feature_range=(0, 1))\n",
    "scaled = scaler.fit_transform(values80)\n",
    "# frame as supervised learning\n",
    "reframed80 = series_to_supervised(scaled, 1, 1)\n",
    "reframed80.dtypes\n",
    "# drop columns we don't want to predict\n",
    "reframed80.drop(reframed80.columns[[10,11,12,13,14,15,16,17]], axis=1, inplace=True)\n",
    "#print(reframed80.head())\n",
    "#shuffle rows\n",
    "reframed80=reframed80.sample(frac=1).reset_index(drop=True)\n",
    "print(reframed80.head())"
   ]
  },
  {
   "cell_type": "code",
   "execution_count": 4,
   "metadata": {},
   "outputs": [
    {
     "name": "stdout",
     "output_type": "stream",
     "text": [
      "    kWh      Temp  NoBeds  Area_m2  Const_Year  Month  Weekday  Daytime  \\\n",
      "0   2.0  7.079167     2.0     73.0      2007.0      4        2        0   \n",
      "1  11.0  8.487500     2.0     73.0      2007.0      4        3        0   \n",
      "2   7.0  9.904167     2.0     73.0      2007.0      4        4        0   \n",
      "3   9.0  7.854167     2.0     73.0      2007.0      4        5        0   \n",
      "4   8.0  8.250000     2.0     73.0      2007.0      4        6        0   \n",
      "\n",
      "   Holiday  \n",
      "0        0  \n",
      "1        0  \n",
      "2        0  \n",
      "3        0  \n",
      "4        0  \n",
      "   var1(t-1)  var2(t-1)  var3(t-1)  var4(t-1)  var5(t-1)  var6(t-1)  \\\n",
      "0   0.178218   0.342488        0.5   0.472727        0.0   0.909091   \n",
      "1   0.207921   0.489297        0.5   0.472727        0.0   0.818182   \n",
      "2   0.178218   0.556745        0.0   0.000000        0.0   0.818182   \n",
      "3   0.118812   0.890751        0.5   0.472727        0.0   0.636364   \n",
      "4   0.217822   0.550081        0.5   0.472727        0.0   0.909091   \n",
      "\n",
      "   var7(t-1)  var8(t-1)  var9(t-1)   var1(t)  \n",
      "0   1.000000        0.0        0.0  0.178218  \n",
      "1   0.500000        0.0        0.0  0.178218  \n",
      "2   0.833333        0.0        0.0  0.178218  \n",
      "3   0.500000        0.0        0.0  0.089109  \n",
      "4   0.500000        0.0        0.0  0.227723  \n"
     ]
    }
   ],
   "source": [
    "# load dataset\n",
    "#dataset = read_csv('DFS04690650Rand.txt', header=0, index_col=0)\n",
    "dataset = read_csv('Charlestown20.csv', header=0, sep='[,]', parse_dates=True, squeeze=True, dayfirst=True, engine='python') \n",
    "dataset.drop(dataset.columns[[0,2]], axis = 1, inplace = True)\n",
    "values20 = dataset.values\n",
    "print(dataset.head())\n",
    "# ensure all data is float\n",
    "values20 = values80.astype('float32')\n",
    "#savetxt('CharlestownValues.csv', values, delimiter=',')\n",
    "# normalize features\n",
    "scaler = MinMaxScaler(feature_range=(0, 1))\n",
    "scaled = scaler.fit_transform(values20)\n",
    "# frame as supervised learning\n",
    "reframed20 = series_to_supervised(scaled, 1, 1)\n",
    "reframed20.dtypes\n",
    "# drop columns we don't want to predict\n",
    "reframed20.drop(reframed20.columns[[10,11,12,13,14,15,16,17]], axis=1, inplace=True)\n",
    "# print(reframed20.head())\n",
    "#shuffle rows\n",
    "reframed20=reframed20.sample(frac=1).reset_index(drop=True)\n",
    "print(reframed20.head())"
   ]
  },
  {
   "cell_type": "code",
   "execution_count": 5,
   "metadata": {},
   "outputs": [
    {
     "name": "stdout",
     "output_type": "stream",
     "text": [
      "(74277, 1, 9) (74277,) (74277, 1, 9) (74277,)\n"
     ]
    }
   ],
   "source": [
    "# split into train and test sets\n",
    "values80 = reframed80.values\n",
    "values20 = reframed20.values\n",
    "#n_train_periods = int(len(values)*0.8)\n",
    "#train = values[:n_train_periods, :]\n",
    "#test = values[n_train_periods:, :]\n",
    "train = values80\n",
    "test = values20\n",
    "# split into input and outputs\n",
    "train_X, train_y = train[:, :-1], train[:, -1]\n",
    "test_X, test_y = test[:, :-1], test[:, -1]\n",
    "# reshape input to be 3D [samples, timesteps, features]\n",
    "train_X = train_X.reshape((train_X.shape[0], 1, train_X.shape[1]))\n",
    "test_X = test_X.reshape((test_X.shape[0], 1, test_X.shape[1]))\n",
    "print(train_X.shape, train_y.shape, test_X.shape, test_y.shape)\n",
    " \n"
   ]
  },
  {
   "cell_type": "code",
   "execution_count": 6,
   "metadata": {},
   "outputs": [
    {
     "name": "stdout",
     "output_type": "stream",
     "text": [
      "Train on 74277 samples, validate on 74277 samples\n",
      "Epoch 1/50\n",
      " - 13s - loss: 0.0381 - val_loss: 0.0362\n",
      "Epoch 2/50\n",
      " - 12s - loss: 0.0361 - val_loss: 0.0360\n",
      "Epoch 3/50\n",
      " - 12s - loss: 0.0360 - val_loss: 0.0359\n",
      "Epoch 4/50\n",
      " - 12s - loss: 0.0359 - val_loss: 0.0356\n",
      "Epoch 5/50\n",
      " - 12s - loss: 0.0358 - val_loss: 0.0356\n",
      "Epoch 6/50\n",
      " - 12s - loss: 0.0358 - val_loss: 0.0356\n",
      "Epoch 7/50\n",
      " - 11s - loss: 0.0358 - val_loss: 0.0356\n",
      "Epoch 8/50\n",
      " - 12s - loss: 0.0358 - val_loss: 0.0357\n",
      "Epoch 9/50\n",
      " - 12s - loss: 0.0358 - val_loss: 0.0357\n",
      "Epoch 10/50\n",
      " - 12s - loss: 0.0357 - val_loss: 0.0360\n",
      "Epoch 11/50\n",
      " - 12s - loss: 0.0357 - val_loss: 0.0358\n",
      "Epoch 12/50\n",
      " - 12s - loss: 0.0357 - val_loss: 0.0359\n",
      "Epoch 13/50\n",
      " - 13s - loss: 0.0357 - val_loss: 0.0359\n",
      "Epoch 14/50\n",
      " - 13s - loss: 0.0357 - val_loss: 0.0360\n",
      "Epoch 15/50\n",
      " - 12s - loss: 0.0357 - val_loss: 0.0360\n",
      "Epoch 16/50\n",
      " - 12s - loss: 0.0357 - val_loss: 0.0359\n",
      "Epoch 17/50\n",
      " - 12s - loss: 0.0357 - val_loss: 0.0358\n",
      "Epoch 18/50\n",
      " - 13s - loss: 0.0357 - val_loss: 0.0357\n",
      "Epoch 19/50\n",
      " - 12s - loss: 0.0356 - val_loss: 0.0357\n",
      "Epoch 20/50\n",
      " - 11s - loss: 0.0356 - val_loss: 0.0356\n",
      "Epoch 21/50\n",
      " - 12s - loss: 0.0356 - val_loss: 0.0355\n",
      "Epoch 22/50\n",
      " - 12s - loss: 0.0356 - val_loss: 0.0355\n",
      "Epoch 23/50\n",
      " - 11s - loss: 0.0356 - val_loss: 0.0354\n",
      "Epoch 24/50\n",
      " - 11s - loss: 0.0356 - val_loss: 0.0354\n",
      "Epoch 25/50\n",
      " - 12s - loss: 0.0356 - val_loss: 0.0354\n",
      "Epoch 26/50\n",
      " - 12s - loss: 0.0355 - val_loss: 0.0354\n",
      "Epoch 27/50\n",
      " - 11s - loss: 0.0355 - val_loss: 0.0354\n",
      "Epoch 28/50\n",
      " - 12s - loss: 0.0355 - val_loss: 0.0353\n",
      "Epoch 29/50\n",
      " - 11s - loss: 0.0355 - val_loss: 0.0353\n",
      "Epoch 30/50\n",
      " - 12s - loss: 0.0355 - val_loss: 0.0353\n",
      "Epoch 31/50\n",
      " - 12s - loss: 0.0355 - val_loss: 0.0353\n",
      "Epoch 32/50\n",
      " - 12s - loss: 0.0355 - val_loss: 0.0353\n",
      "Epoch 33/50\n",
      " - 12s - loss: 0.0355 - val_loss: 0.0353\n",
      "Epoch 34/50\n",
      " - 12s - loss: 0.0354 - val_loss: 0.0353\n",
      "Epoch 35/50\n",
      " - 12s - loss: 0.0354 - val_loss: 0.0353\n",
      "Epoch 36/50\n",
      " - 11s - loss: 0.0354 - val_loss: 0.0353\n",
      "Epoch 37/50\n",
      " - 12s - loss: 0.0354 - val_loss: 0.0353\n",
      "Epoch 38/50\n",
      " - 12s - loss: 0.0354 - val_loss: 0.0353\n",
      "Epoch 39/50\n",
      " - 12s - loss: 0.0354 - val_loss: 0.0353\n",
      "Epoch 40/50\n",
      " - 12s - loss: 0.0354 - val_loss: 0.0352\n",
      "Epoch 41/50\n",
      " - 12s - loss: 0.0354 - val_loss: 0.0352\n",
      "Epoch 42/50\n",
      " - 12s - loss: 0.0354 - val_loss: 0.0352\n",
      "Epoch 43/50\n",
      " - 13s - loss: 0.0354 - val_loss: 0.0352\n",
      "Epoch 44/50\n",
      " - 12s - loss: 0.0354 - val_loss: 0.0352\n",
      "Epoch 45/50\n",
      " - 12s - loss: 0.0354 - val_loss: 0.0352\n",
      "Epoch 46/50\n",
      " - 12s - loss: 0.0354 - val_loss: 0.0352\n",
      "Epoch 47/50\n",
      " - 12s - loss: 0.0354 - val_loss: 0.0352\n",
      "Epoch 48/50\n",
      " - 12s - loss: 0.0354 - val_loss: 0.0352\n",
      "Epoch 49/50\n",
      " - 12s - loss: 0.0354 - val_loss: 0.0352\n",
      "Epoch 50/50\n",
      " - 12s - loss: 0.0354 - val_loss: 0.0352\n"
     ]
    },
    {
     "data": {
      "text/plain": [
       "<matplotlib.legend.Legend at 0x1f0b104ff48>"
      ]
     },
     "execution_count": 6,
     "metadata": {},
     "output_type": "execute_result"
    },
    {
     "data": {
      "image/png": "[encoded data removed]",
      "text/plain": [
       "<Figure size 432x288 with 1 Axes>"
      ]
     },
     "metadata": {
      "needs_background": "light"
     },
     "output_type": "display_data"
    }
   ],
   "source": [
    "# design network\n",
    "model = Sequential()\n",
    "model.add(LSTM(50, input_shape=(train_X.shape[1], train_X.shape[2])))\n",
    "model.add(Dense(1))\n",
    "model.compile(loss='mae', optimizer='adam')\n",
    "# fit network\n",
    "history = model.fit(train_X, train_y, epochs=50, batch_size=32, validation_data=(test_X, test_y), verbose=2, shuffle=False)\n",
    "# plot history\n",
    "pyplot.plot(history.history['loss'], label='train')\n",
    "pyplot.plot(history.history['val_loss'], label='test')\n",
    "pyplot.legend()\n",
    "#pyplot.show()\n",
    " \n"
   ]
  },
  {
   "cell_type": "code",
   "execution_count": 7,
   "metadata": {},
   "outputs": [
    {
     "name": "stdout",
     "output_type": "stream",
     "text": [
      "Test RMSE: 5.406\n"
     ]
    }
   ],
   "source": [
    "# make a prediction\n",
    "yhat = model.predict(test_X)\n",
    "test_X = test_X.reshape((test_X.shape[0], test_X.shape[2]))\n",
    "# invert scaling for forecast\n",
    "inv_yhat = concatenate((yhat, test_X[:, 1:]), axis=1)\n",
    "inv_yhat = scaler.inverse_transform(inv_yhat)\n",
    "inv_yhat = inv_yhat[:,0]\n",
    "# invert scaling for actual\n",
    "test_y = test_y.reshape((len(test_y), 1))\n",
    "inv_y = concatenate((test_y, test_X[:, 1:]), axis=1)\n",
    "inv_y = scaler.inverse_transform(inv_y)\n",
    "inv_y = inv_y[:,0]\n",
    "# calculate RMSE\n",
    "rmse = sqrt(mean_squared_error(inv_y, inv_yhat))\n",
    "print('Test RMSE: %.3f' % rmse)"
   ]
  },
  {
   "cell_type": "code",
   "execution_count": null,
   "metadata": {},
   "outputs": [],
   "source": []
  }
 ],
 "metadata": {
  "kernelspec": {
   "display_name": "Python 3",
   "language": "python",
   "name": "python3"
  },
  "language_info": {
   "codemirror_mode": {
    "name": "ipython",
    "version": 3
   },
   "file_extension": ".py",
   "mimetype": "text/x-python",
   "name": "python",
   "nbconvert_exporter": "python",
   "pygments_lexer": "ipython3",
   "version": "3.7.4"
  }
 },
 "nbformat": 4,
 "nbformat_minor": 2
}
